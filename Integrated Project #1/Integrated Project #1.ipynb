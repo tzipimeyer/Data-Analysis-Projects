{
 "cells": [
  {
   "cell_type": "markdown",
   "metadata": {},
   "source": [
    "**Mission**\n",
    "\n",
    "- You need to identify patterns that determine whether a game succeeds or not. \n",
    "- This will allow you to spot potential big winners and plan advertising campaigns."
   ]
  },
  {
   "cell_type": "markdown",
   "metadata": {},
   "source": [
    "#### Step - Open the data file and study the general information"
   ]
  },
  {
   "cell_type": "code",
   "execution_count": 1,
   "metadata": {},
   "outputs": [],
   "source": [
    "import pandas as pd\n",
    "import numpy as np\n",
    "import matplotlib.pyplot as plt  \n",
    "import seaborn as sb\n",
    "import seaborn as sns\n",
    "from matplotlib import pyplot as plt\n",
    "from scipy import stats as st\n",
    "\n",
    "\n",
    "\n",
    "data = pd.read_csv('/datasets/games.csv')"
   ]
  },
  {
   "cell_type": "code",
   "execution_count": 2,
   "metadata": {},
   "outputs": [
    {
     "name": "stdout",
     "output_type": "stream",
     "text": [
      "<class 'pandas.core.frame.DataFrame'>\n",
      "RangeIndex: 16715 entries, 0 to 16714\n",
      "Data columns (total 11 columns):\n",
      " #   Column           Non-Null Count  Dtype  \n",
      "---  ------           --------------  -----  \n",
      " 0   Name             16713 non-null  object \n",
      " 1   Platform         16715 non-null  object \n",
      " 2   Year_of_Release  16446 non-null  float64\n",
      " 3   Genre            16713 non-null  object \n",
      " 4   NA_sales         16715 non-null  float64\n",
      " 5   EU_sales         16715 non-null  float64\n",
      " 6   JP_sales         16715 non-null  float64\n",
      " 7   Other_sales      16715 non-null  float64\n",
      " 8   Critic_Score     8137 non-null   float64\n",
      " 9   User_Score       10014 non-null  object \n",
      " 10  Rating           9949 non-null   object \n",
      "dtypes: float64(6), object(5)\n",
      "memory usage: 1.4+ MB\n"
     ]
    }
   ],
   "source": [
    "data.info()"
   ]
  },
  {
   "cell_type": "code",
   "execution_count": 3,
   "metadata": {},
   "outputs": [
    {
     "data": {
      "text/html": [
       "<div>\n",
       "<style scoped>\n",
       "    .dataframe tbody tr th:only-of-type {\n",
       "        vertical-align: middle;\n",
       "    }\n",
       "\n",
       "    .dataframe tbody tr th {\n",
       "        vertical-align: top;\n",
       "    }\n",
       "\n",
       "    .dataframe thead th {\n",
       "        text-align: right;\n",
       "    }\n",
       "</style>\n",
       "<table border=\"1\" class=\"dataframe\">\n",
       "  <thead>\n",
       "    <tr style=\"text-align: right;\">\n",
       "      <th></th>\n",
       "      <th>Name</th>\n",
       "      <th>Platform</th>\n",
       "      <th>Genre</th>\n",
       "      <th>User_Score</th>\n",
       "      <th>Rating</th>\n",
       "    </tr>\n",
       "  </thead>\n",
       "  <tbody>\n",
       "    <tr>\n",
       "      <th>count</th>\n",
       "      <td>16713</td>\n",
       "      <td>16715</td>\n",
       "      <td>16713</td>\n",
       "      <td>10014</td>\n",
       "      <td>9949</td>\n",
       "    </tr>\n",
       "    <tr>\n",
       "      <th>unique</th>\n",
       "      <td>11559</td>\n",
       "      <td>31</td>\n",
       "      <td>12</td>\n",
       "      <td>96</td>\n",
       "      <td>8</td>\n",
       "    </tr>\n",
       "    <tr>\n",
       "      <th>top</th>\n",
       "      <td>Need for Speed: Most Wanted</td>\n",
       "      <td>PS2</td>\n",
       "      <td>Action</td>\n",
       "      <td>tbd</td>\n",
       "      <td>E</td>\n",
       "    </tr>\n",
       "    <tr>\n",
       "      <th>freq</th>\n",
       "      <td>12</td>\n",
       "      <td>2161</td>\n",
       "      <td>3369</td>\n",
       "      <td>2424</td>\n",
       "      <td>3990</td>\n",
       "    </tr>\n",
       "  </tbody>\n",
       "</table>\n",
       "</div>"
      ],
      "text/plain": [
       "                               Name Platform   Genre User_Score Rating\n",
       "count                         16713    16715   16713      10014   9949\n",
       "unique                        11559       31      12         96      8\n",
       "top     Need for Speed: Most Wanted      PS2  Action        tbd      E\n",
       "freq                             12     2161    3369       2424   3990"
      ]
     },
     "execution_count": 3,
     "metadata": {},
     "output_type": "execute_result"
    }
   ],
   "source": [
    "data.describe(include=['object'])"
   ]
  },
  {
   "cell_type": "markdown",
   "metadata": {},
   "source": [
    "Missing values in:\n",
    "\n",
    "- critic_score\n",
    "- rating\n",
    "- user_score\n",
    "- year_of_release\n",
    "- genre \n",
    "- name"
   ]
  },
  {
   "cell_type": "markdown",
   "metadata": {},
   "source": [
    "#### Step - Prepare the data\n",
    "\n",
    "- Replace the column names (make them lowercase).\n",
    "- Convert the data to the required types.\n",
    "- Describe the columns where the data types have been changed and why.\n",
    "- If necessary, decide how to deal with missing values:\n",
    " - Explain why you filled in the missing values as you did or why you decided to leave them blank.\n",
    " - Why do you think the values are missing? Give possible reasons.\n",
    " - Pay attention to the abbreviation TBD (to be determined). Specify how you intend to handle such cases.\n",
    "- Calculate the total sales (the sum of sales in all regions) for each game and put these values in a separate column."
   ]
  },
  {
   "cell_type": "code",
   "execution_count": 4,
   "metadata": {},
   "outputs": [],
   "source": [
    "# Replace the column names (make them lowercase).\n",
    "\n",
    "data.columns = data.columns.str.lower()"
   ]
  },
  {
   "cell_type": "code",
   "execution_count": 5,
   "metadata": {},
   "outputs": [
    {
     "data": {
      "text/html": [
       "<div>\n",
       "<style scoped>\n",
       "    .dataframe tbody tr th:only-of-type {\n",
       "        vertical-align: middle;\n",
       "    }\n",
       "\n",
       "    .dataframe tbody tr th {\n",
       "        vertical-align: top;\n",
       "    }\n",
       "\n",
       "    .dataframe thead th {\n",
       "        text-align: right;\n",
       "    }\n",
       "</style>\n",
       "<table border=\"1\" class=\"dataframe\">\n",
       "  <thead>\n",
       "    <tr style=\"text-align: right;\">\n",
       "      <th></th>\n",
       "      <th>name</th>\n",
       "      <th>platform</th>\n",
       "      <th>year_of_release</th>\n",
       "      <th>genre</th>\n",
       "      <th>na_sales</th>\n",
       "      <th>eu_sales</th>\n",
       "      <th>jp_sales</th>\n",
       "      <th>other_sales</th>\n",
       "      <th>critic_score</th>\n",
       "      <th>user_score</th>\n",
       "      <th>rating</th>\n",
       "    </tr>\n",
       "  </thead>\n",
       "  <tbody>\n",
       "    <tr>\n",
       "      <th>0</th>\n",
       "      <td>Wii Sports</td>\n",
       "      <td>Wii</td>\n",
       "      <td>2006.0</td>\n",
       "      <td>Sports</td>\n",
       "      <td>41.36</td>\n",
       "      <td>28.96</td>\n",
       "      <td>3.77</td>\n",
       "      <td>8.45</td>\n",
       "      <td>76.0</td>\n",
       "      <td>8</td>\n",
       "      <td>E</td>\n",
       "    </tr>\n",
       "    <tr>\n",
       "      <th>1</th>\n",
       "      <td>Super Mario Bros.</td>\n",
       "      <td>NES</td>\n",
       "      <td>1985.0</td>\n",
       "      <td>Platform</td>\n",
       "      <td>29.08</td>\n",
       "      <td>3.58</td>\n",
       "      <td>6.81</td>\n",
       "      <td>0.77</td>\n",
       "      <td>NaN</td>\n",
       "      <td>NaN</td>\n",
       "      <td>NaN</td>\n",
       "    </tr>\n",
       "    <tr>\n",
       "      <th>2</th>\n",
       "      <td>Mario Kart Wii</td>\n",
       "      <td>Wii</td>\n",
       "      <td>2008.0</td>\n",
       "      <td>Racing</td>\n",
       "      <td>15.68</td>\n",
       "      <td>12.76</td>\n",
       "      <td>3.79</td>\n",
       "      <td>3.29</td>\n",
       "      <td>82.0</td>\n",
       "      <td>8.3</td>\n",
       "      <td>E</td>\n",
       "    </tr>\n",
       "    <tr>\n",
       "      <th>3</th>\n",
       "      <td>Wii Sports Resort</td>\n",
       "      <td>Wii</td>\n",
       "      <td>2009.0</td>\n",
       "      <td>Sports</td>\n",
       "      <td>15.61</td>\n",
       "      <td>10.93</td>\n",
       "      <td>3.28</td>\n",
       "      <td>2.95</td>\n",
       "      <td>80.0</td>\n",
       "      <td>8</td>\n",
       "      <td>E</td>\n",
       "    </tr>\n",
       "    <tr>\n",
       "      <th>4</th>\n",
       "      <td>Pokemon Red/Pokemon Blue</td>\n",
       "      <td>GB</td>\n",
       "      <td>1996.0</td>\n",
       "      <td>Role-Playing</td>\n",
       "      <td>11.27</td>\n",
       "      <td>8.89</td>\n",
       "      <td>10.22</td>\n",
       "      <td>1.00</td>\n",
       "      <td>NaN</td>\n",
       "      <td>NaN</td>\n",
       "      <td>NaN</td>\n",
       "    </tr>\n",
       "  </tbody>\n",
       "</table>\n",
       "</div>"
      ],
      "text/plain": [
       "                       name platform  year_of_release         genre  na_sales  \\\n",
       "0                Wii Sports      Wii           2006.0        Sports     41.36   \n",
       "1         Super Mario Bros.      NES           1985.0      Platform     29.08   \n",
       "2            Mario Kart Wii      Wii           2008.0        Racing     15.68   \n",
       "3         Wii Sports Resort      Wii           2009.0        Sports     15.61   \n",
       "4  Pokemon Red/Pokemon Blue       GB           1996.0  Role-Playing     11.27   \n",
       "\n",
       "   eu_sales  jp_sales  other_sales  critic_score user_score rating  \n",
       "0     28.96      3.77         8.45          76.0          8      E  \n",
       "1      3.58      6.81         0.77           NaN        NaN    NaN  \n",
       "2     12.76      3.79         3.29          82.0        8.3      E  \n",
       "3     10.93      3.28         2.95          80.0          8      E  \n",
       "4      8.89     10.22         1.00           NaN        NaN    NaN  "
      ]
     },
     "execution_count": 5,
     "metadata": {},
     "output_type": "execute_result"
    }
   ],
   "source": [
    "data.head()"
   ]
  },
  {
   "cell_type": "code",
   "execution_count": 6,
   "metadata": {},
   "outputs": [
    {
     "name": "stdout",
     "output_type": "stream",
     "text": [
      "<class 'pandas.core.frame.DataFrame'>\n",
      "Int64Index: 16569 entries, 0 to 16714\n",
      "Data columns (total 11 columns):\n",
      " #   Column           Non-Null Count  Dtype  \n",
      "---  ------           --------------  -----  \n",
      " 0   name             16567 non-null  object \n",
      " 1   platform         16569 non-null  object \n",
      " 2   year_of_release  16569 non-null  int64  \n",
      " 3   genre            16567 non-null  object \n",
      " 4   na_sales         16569 non-null  float64\n",
      " 5   eu_sales         16569 non-null  float64\n",
      " 6   jp_sales         16569 non-null  float64\n",
      " 7   other_sales      16569 non-null  float64\n",
      " 8   critic_score     8075 non-null   float64\n",
      " 9   user_score       9934 non-null   object \n",
      " 10  rating           9868 non-null   object \n",
      "dtypes: float64(5), int64(1), object(5)\n",
      "memory usage: 1.5+ MB\n"
     ]
    }
   ],
   "source": [
    "# Dealing with year_of_release\n",
    "\n",
    "#Filling in missing values with medians where possible\n",
    "data['year_of_release'] = data['year_of_release'].fillna(data.groupby(['name'])['year_of_release'].transform('first'))\n",
    "\n",
    "#Dropping all the remaining missing values\n",
    "data = data.dropna(subset=['year_of_release']) \n",
    "\n",
    "data['year_of_release'] = data['year_of_release'].astype('int')\n",
    "data.info()"
   ]
  },
  {
   "cell_type": "code",
   "execution_count": 7,
   "metadata": {},
   "outputs": [
    {
     "name": "stdout",
     "output_type": "stream",
     "text": [
      "<class 'pandas.core.frame.DataFrame'>\n",
      "Int64Index: 16569 entries, 0 to 16714\n",
      "Data columns (total 11 columns):\n",
      " #   Column           Non-Null Count  Dtype  \n",
      "---  ------           --------------  -----  \n",
      " 0   name             16567 non-null  object \n",
      " 1   platform         16569 non-null  object \n",
      " 2   year_of_release  16569 non-null  int64  \n",
      " 3   genre            16567 non-null  object \n",
      " 4   na_sales         16569 non-null  float64\n",
      " 5   eu_sales         16569 non-null  float64\n",
      " 6   jp_sales         16569 non-null  float64\n",
      " 7   other_sales      16569 non-null  float64\n",
      " 8   critic_score     8075 non-null   float64\n",
      " 9   user_score       9934 non-null   object \n",
      " 10  rating           9868 non-null   object \n",
      "dtypes: float64(5), int64(1), object(5)\n",
      "memory usage: 1.5+ MB\n"
     ]
    }
   ],
   "source": [
    "# Dealing with critic_score\n",
    "\n",
    "data[data['critic_score'].isna()]\n",
    "\n",
    "data.info()\n",
    "\n",
    "# Missing values in critic_score are not filled, since doing so would tamper with the reliability of the data"
   ]
  },
  {
   "cell_type": "code",
   "execution_count": 8,
   "metadata": {},
   "outputs": [
    {
     "name": "stdout",
     "output_type": "stream",
     "text": [
      "<class 'pandas.core.frame.DataFrame'>\n",
      "Int64Index: 16569 entries, 0 to 16714\n",
      "Data columns (total 11 columns):\n",
      " #   Column           Non-Null Count  Dtype  \n",
      "---  ------           --------------  -----  \n",
      " 0   name             16567 non-null  object \n",
      " 1   platform         16569 non-null  object \n",
      " 2   year_of_release  16569 non-null  int64  \n",
      " 3   genre            16567 non-null  object \n",
      " 4   na_sales         16569 non-null  float64\n",
      " 5   eu_sales         16569 non-null  float64\n",
      " 6   jp_sales         16569 non-null  float64\n",
      " 7   other_sales      16569 non-null  float64\n",
      " 8   critic_score     8075 non-null   float64\n",
      " 9   user_score       7540 non-null   float64\n",
      " 10  rating           9868 non-null   object \n",
      "dtypes: float64(6), int64(1), object(4)\n",
      "memory usage: 1.5+ MB\n"
     ]
    }
   ],
   "source": [
    "# Dealing with user_score\n",
    "\n",
    "# Replacing 'tbd' with NaN's\n",
    "\n",
    "data['user_score'] = data['user_score'].replace('tbd', np.nan)\n",
    "data['user_score'] = pd.to_numeric(data['user_score'], errors = 'ignore')\n",
    "\n",
    "\n",
    "# Missing values in user_score are not filled, since doing so would tamper with the reliability of the data\n",
    "data.info()"
   ]
  },
  {
   "cell_type": "code",
   "execution_count": 9,
   "metadata": {},
   "outputs": [],
   "source": [
    "# Dealing with genre and name (dropping both rows since they both have these columns missing and they are only 2)\n",
    "\n",
    "data = data.dropna(subset=['genre']) "
   ]
  },
  {
   "cell_type": "markdown",
   "metadata": {},
   "source": [
    "##### Describe the columns where the data types have been changed and why.\n",
    "\n",
    "- Dropped remaining missing values in year_of_release\n",
    "- Changed type of year_of_release to int\n",
    "- Changed type of user_score to float"
   ]
  },
  {
   "cell_type": "code",
   "execution_count": 10,
   "metadata": {
    "scrolled": false
   },
   "outputs": [
    {
     "data": {
      "text/html": [
       "<div>\n",
       "<style scoped>\n",
       "    .dataframe tbody tr th:only-of-type {\n",
       "        vertical-align: middle;\n",
       "    }\n",
       "\n",
       "    .dataframe tbody tr th {\n",
       "        vertical-align: top;\n",
       "    }\n",
       "\n",
       "    .dataframe thead th {\n",
       "        text-align: right;\n",
       "    }\n",
       "</style>\n",
       "<table border=\"1\" class=\"dataframe\">\n",
       "  <thead>\n",
       "    <tr style=\"text-align: right;\">\n",
       "      <th></th>\n",
       "      <th>name</th>\n",
       "      <th>platform</th>\n",
       "      <th>year_of_release</th>\n",
       "      <th>genre</th>\n",
       "      <th>na_sales</th>\n",
       "      <th>eu_sales</th>\n",
       "      <th>jp_sales</th>\n",
       "      <th>other_sales</th>\n",
       "      <th>critic_score</th>\n",
       "      <th>user_score</th>\n",
       "      <th>rating</th>\n",
       "    </tr>\n",
       "  </thead>\n",
       "  <tbody>\n",
       "    <tr>\n",
       "      <th>262</th>\n",
       "      <td>Asteroids</td>\n",
       "      <td>2600</td>\n",
       "      <td>1980</td>\n",
       "      <td>Shooter</td>\n",
       "      <td>4.00</td>\n",
       "      <td>0.26</td>\n",
       "      <td>0.00</td>\n",
       "      <td>0.05</td>\n",
       "      <td>NaN</td>\n",
       "      <td>NaN</td>\n",
       "      <td>NaN</td>\n",
       "    </tr>\n",
       "    <tr>\n",
       "      <th>6875</th>\n",
       "      <td>Checkers</td>\n",
       "      <td>2600</td>\n",
       "      <td>1980</td>\n",
       "      <td>Misc</td>\n",
       "      <td>0.22</td>\n",
       "      <td>0.01</td>\n",
       "      <td>0.00</td>\n",
       "      <td>0.00</td>\n",
       "      <td>NaN</td>\n",
       "      <td>NaN</td>\n",
       "      <td>NaN</td>\n",
       "    </tr>\n",
       "    <tr>\n",
       "      <th>5360</th>\n",
       "      <td>Freeway</td>\n",
       "      <td>2600</td>\n",
       "      <td>1980</td>\n",
       "      <td>Action</td>\n",
       "      <td>0.32</td>\n",
       "      <td>0.02</td>\n",
       "      <td>0.00</td>\n",
       "      <td>0.00</td>\n",
       "      <td>NaN</td>\n",
       "      <td>NaN</td>\n",
       "      <td>NaN</td>\n",
       "    </tr>\n",
       "    <tr>\n",
       "      <th>2650</th>\n",
       "      <td>Boxing</td>\n",
       "      <td>2600</td>\n",
       "      <td>1980</td>\n",
       "      <td>Fighting</td>\n",
       "      <td>0.72</td>\n",
       "      <td>0.04</td>\n",
       "      <td>0.00</td>\n",
       "      <td>0.01</td>\n",
       "      <td>NaN</td>\n",
       "      <td>NaN</td>\n",
       "      <td>NaN</td>\n",
       "    </tr>\n",
       "    <tr>\n",
       "      <th>1764</th>\n",
       "      <td>Kaboom!</td>\n",
       "      <td>2600</td>\n",
       "      <td>1980</td>\n",
       "      <td>Misc</td>\n",
       "      <td>1.07</td>\n",
       "      <td>0.07</td>\n",
       "      <td>0.00</td>\n",
       "      <td>0.01</td>\n",
       "      <td>NaN</td>\n",
       "      <td>NaN</td>\n",
       "      <td>NaN</td>\n",
       "    </tr>\n",
       "    <tr>\n",
       "      <th>...</th>\n",
       "      <td>...</td>\n",
       "      <td>...</td>\n",
       "      <td>...</td>\n",
       "      <td>...</td>\n",
       "      <td>...</td>\n",
       "      <td>...</td>\n",
       "      <td>...</td>\n",
       "      <td>...</td>\n",
       "      <td>...</td>\n",
       "      <td>...</td>\n",
       "      <td>...</td>\n",
       "    </tr>\n",
       "    <tr>\n",
       "      <th>12714</th>\n",
       "      <td>Kamen Rider: Battride War Genesis</td>\n",
       "      <td>PS4</td>\n",
       "      <td>2016</td>\n",
       "      <td>Action</td>\n",
       "      <td>0.00</td>\n",
       "      <td>0.00</td>\n",
       "      <td>0.06</td>\n",
       "      <td>0.00</td>\n",
       "      <td>NaN</td>\n",
       "      <td>NaN</td>\n",
       "      <td>NaN</td>\n",
       "    </tr>\n",
       "    <tr>\n",
       "      <th>14692</th>\n",
       "      <td>Genkai Tokki: Seven Pirates</td>\n",
       "      <td>PSV</td>\n",
       "      <td>2016</td>\n",
       "      <td>Role-Playing</td>\n",
       "      <td>0.00</td>\n",
       "      <td>0.00</td>\n",
       "      <td>0.03</td>\n",
       "      <td>0.00</td>\n",
       "      <td>NaN</td>\n",
       "      <td>NaN</td>\n",
       "      <td>NaN</td>\n",
       "    </tr>\n",
       "    <tr>\n",
       "      <th>14689</th>\n",
       "      <td>Samurai Warriors: Sanada Maru</td>\n",
       "      <td>PS4</td>\n",
       "      <td>2016</td>\n",
       "      <td>Action</td>\n",
       "      <td>0.00</td>\n",
       "      <td>0.00</td>\n",
       "      <td>0.03</td>\n",
       "      <td>0.00</td>\n",
       "      <td>NaN</td>\n",
       "      <td>NaN</td>\n",
       "      <td>NaN</td>\n",
       "    </tr>\n",
       "    <tr>\n",
       "      <th>14777</th>\n",
       "      <td>Kangokutou Mary Skelter</td>\n",
       "      <td>PSV</td>\n",
       "      <td>2016</td>\n",
       "      <td>Role-Playing</td>\n",
       "      <td>0.00</td>\n",
       "      <td>0.00</td>\n",
       "      <td>0.03</td>\n",
       "      <td>0.00</td>\n",
       "      <td>NaN</td>\n",
       "      <td>NaN</td>\n",
       "      <td>NaN</td>\n",
       "    </tr>\n",
       "    <tr>\n",
       "      <th>16714</th>\n",
       "      <td>Winning Post 8 2016</td>\n",
       "      <td>PSV</td>\n",
       "      <td>2016</td>\n",
       "      <td>Simulation</td>\n",
       "      <td>0.00</td>\n",
       "      <td>0.00</td>\n",
       "      <td>0.01</td>\n",
       "      <td>0.00</td>\n",
       "      <td>NaN</td>\n",
       "      <td>NaN</td>\n",
       "      <td>NaN</td>\n",
       "    </tr>\n",
       "  </tbody>\n",
       "</table>\n",
       "<p>8492 rows × 11 columns</p>\n",
       "</div>"
      ],
      "text/plain": [
       "                                    name platform  year_of_release  \\\n",
       "262                            Asteroids     2600             1980   \n",
       "6875                            Checkers     2600             1980   \n",
       "5360                             Freeway     2600             1980   \n",
       "2650                              Boxing     2600             1980   \n",
       "1764                             Kaboom!     2600             1980   \n",
       "...                                  ...      ...              ...   \n",
       "12714  Kamen Rider: Battride War Genesis      PS4             2016   \n",
       "14692        Genkai Tokki: Seven Pirates      PSV             2016   \n",
       "14689      Samurai Warriors: Sanada Maru      PS4             2016   \n",
       "14777            Kangokutou Mary Skelter      PSV             2016   \n",
       "16714                Winning Post 8 2016      PSV             2016   \n",
       "\n",
       "              genre  na_sales  eu_sales  jp_sales  other_sales  critic_score  \\\n",
       "262         Shooter      4.00      0.26      0.00         0.05           NaN   \n",
       "6875           Misc      0.22      0.01      0.00         0.00           NaN   \n",
       "5360         Action      0.32      0.02      0.00         0.00           NaN   \n",
       "2650       Fighting      0.72      0.04      0.00         0.01           NaN   \n",
       "1764           Misc      1.07      0.07      0.00         0.01           NaN   \n",
       "...             ...       ...       ...       ...          ...           ...   \n",
       "12714        Action      0.00      0.00      0.06         0.00           NaN   \n",
       "14692  Role-Playing      0.00      0.00      0.03         0.00           NaN   \n",
       "14689        Action      0.00      0.00      0.03         0.00           NaN   \n",
       "14777  Role-Playing      0.00      0.00      0.03         0.00           NaN   \n",
       "16714    Simulation      0.00      0.00      0.01         0.00           NaN   \n",
       "\n",
       "       user_score rating  \n",
       "262           NaN    NaN  \n",
       "6875          NaN    NaN  \n",
       "5360          NaN    NaN  \n",
       "2650          NaN    NaN  \n",
       "1764          NaN    NaN  \n",
       "...           ...    ...  \n",
       "12714         NaN    NaN  \n",
       "14692         NaN    NaN  \n",
       "14689         NaN    NaN  \n",
       "14777         NaN    NaN  \n",
       "16714         NaN    NaN  \n",
       "\n",
       "[8492 rows x 11 columns]"
      ]
     },
     "execution_count": 10,
     "metadata": {},
     "output_type": "execute_result"
    }
   ],
   "source": [
    "data[data['critic_score'].isna()].sort_values(by='year_of_release')"
   ]
  },
  {
   "cell_type": "markdown",
   "metadata": {},
   "source": [
    "**Conclusion**\n",
    "\n",
    "- There is a pattern between missing values in 'critic_score', 'user_score' and 'rating'.\n",
    "- Missing values in these columns are seen amongst the **oldest games**, or those with the **lowest sales**.\n",
    "- A possible explanation for these missing values is that in previous years, these ratings did not exist.\n",
    "- Another possible explanation is that games that did not succeed in sales, did not get rated.\n",
    "- I did not fill in the missing values in any of these columns since there was no reliable information that could help fill them up."
   ]
  },
  {
   "cell_type": "code",
   "execution_count": 11,
   "metadata": {},
   "outputs": [],
   "source": [
    "# Calculate the total sales (the sum of sales in all regions) for each game and put these values in a separate column\n",
    "\n",
    "data['total_sales'] = data[['na_sales','eu_sales','jp_sales', 'other_sales']].sum(axis = 1)"
   ]
  },
  {
   "cell_type": "code",
   "execution_count": 12,
   "metadata": {},
   "outputs": [
    {
     "data": {
      "text/html": [
       "<div>\n",
       "<style scoped>\n",
       "    .dataframe tbody tr th:only-of-type {\n",
       "        vertical-align: middle;\n",
       "    }\n",
       "\n",
       "    .dataframe tbody tr th {\n",
       "        vertical-align: top;\n",
       "    }\n",
       "\n",
       "    .dataframe thead th {\n",
       "        text-align: right;\n",
       "    }\n",
       "</style>\n",
       "<table border=\"1\" class=\"dataframe\">\n",
       "  <thead>\n",
       "    <tr style=\"text-align: right;\">\n",
       "      <th></th>\n",
       "      <th>name</th>\n",
       "      <th>platform</th>\n",
       "      <th>year_of_release</th>\n",
       "      <th>genre</th>\n",
       "      <th>na_sales</th>\n",
       "      <th>eu_sales</th>\n",
       "      <th>jp_sales</th>\n",
       "      <th>other_sales</th>\n",
       "      <th>critic_score</th>\n",
       "      <th>user_score</th>\n",
       "      <th>rating</th>\n",
       "      <th>total_sales</th>\n",
       "    </tr>\n",
       "  </thead>\n",
       "  <tbody>\n",
       "    <tr>\n",
       "      <th>0</th>\n",
       "      <td>Wii Sports</td>\n",
       "      <td>Wii</td>\n",
       "      <td>2006</td>\n",
       "      <td>Sports</td>\n",
       "      <td>41.36</td>\n",
       "      <td>28.96</td>\n",
       "      <td>3.77</td>\n",
       "      <td>8.45</td>\n",
       "      <td>76.0</td>\n",
       "      <td>8.0</td>\n",
       "      <td>E</td>\n",
       "      <td>82.54</td>\n",
       "    </tr>\n",
       "    <tr>\n",
       "      <th>1</th>\n",
       "      <td>Super Mario Bros.</td>\n",
       "      <td>NES</td>\n",
       "      <td>1985</td>\n",
       "      <td>Platform</td>\n",
       "      <td>29.08</td>\n",
       "      <td>3.58</td>\n",
       "      <td>6.81</td>\n",
       "      <td>0.77</td>\n",
       "      <td>NaN</td>\n",
       "      <td>NaN</td>\n",
       "      <td>NaN</td>\n",
       "      <td>40.24</td>\n",
       "    </tr>\n",
       "    <tr>\n",
       "      <th>2</th>\n",
       "      <td>Mario Kart Wii</td>\n",
       "      <td>Wii</td>\n",
       "      <td>2008</td>\n",
       "      <td>Racing</td>\n",
       "      <td>15.68</td>\n",
       "      <td>12.76</td>\n",
       "      <td>3.79</td>\n",
       "      <td>3.29</td>\n",
       "      <td>82.0</td>\n",
       "      <td>8.3</td>\n",
       "      <td>E</td>\n",
       "      <td>35.52</td>\n",
       "    </tr>\n",
       "    <tr>\n",
       "      <th>3</th>\n",
       "      <td>Wii Sports Resort</td>\n",
       "      <td>Wii</td>\n",
       "      <td>2009</td>\n",
       "      <td>Sports</td>\n",
       "      <td>15.61</td>\n",
       "      <td>10.93</td>\n",
       "      <td>3.28</td>\n",
       "      <td>2.95</td>\n",
       "      <td>80.0</td>\n",
       "      <td>8.0</td>\n",
       "      <td>E</td>\n",
       "      <td>32.77</td>\n",
       "    </tr>\n",
       "    <tr>\n",
       "      <th>4</th>\n",
       "      <td>Pokemon Red/Pokemon Blue</td>\n",
       "      <td>GB</td>\n",
       "      <td>1996</td>\n",
       "      <td>Role-Playing</td>\n",
       "      <td>11.27</td>\n",
       "      <td>8.89</td>\n",
       "      <td>10.22</td>\n",
       "      <td>1.00</td>\n",
       "      <td>NaN</td>\n",
       "      <td>NaN</td>\n",
       "      <td>NaN</td>\n",
       "      <td>31.38</td>\n",
       "    </tr>\n",
       "  </tbody>\n",
       "</table>\n",
       "</div>"
      ],
      "text/plain": [
       "                       name platform  year_of_release         genre  na_sales  \\\n",
       "0                Wii Sports      Wii             2006        Sports     41.36   \n",
       "1         Super Mario Bros.      NES             1985      Platform     29.08   \n",
       "2            Mario Kart Wii      Wii             2008        Racing     15.68   \n",
       "3         Wii Sports Resort      Wii             2009        Sports     15.61   \n",
       "4  Pokemon Red/Pokemon Blue       GB             1996  Role-Playing     11.27   \n",
       "\n",
       "   eu_sales  jp_sales  other_sales  critic_score  user_score rating  \\\n",
       "0     28.96      3.77         8.45          76.0         8.0      E   \n",
       "1      3.58      6.81         0.77           NaN         NaN    NaN   \n",
       "2     12.76      3.79         3.29          82.0         8.3      E   \n",
       "3     10.93      3.28         2.95          80.0         8.0      E   \n",
       "4      8.89     10.22         1.00           NaN         NaN    NaN   \n",
       "\n",
       "   total_sales  \n",
       "0        82.54  \n",
       "1        40.24  \n",
       "2        35.52  \n",
       "3        32.77  \n",
       "4        31.38  "
      ]
     },
     "execution_count": 12,
     "metadata": {},
     "output_type": "execute_result"
    }
   ],
   "source": [
    "data.head(5)"
   ]
  },
  {
   "cell_type": "markdown",
   "metadata": {},
   "source": [
    "#### Step - Analyze the data\n",
    "- Look at how many games were released in different years. Is the data for every period significant?\n",
    "- Look at how sales varied from platform to platform. Choose the platforms with the greatest total sales and build a distribution based on data for each year. Find platforms that used to be popular but now have zero sales. How long does it generally take for new platforms to appear and old ones to fade?\n",
    "- Determine what period you should take data for. To do so, look at your answers to the previous questions. The data should allow you to build a prognosis for 2017.\n",
    "- Work only with the data that you've decided is relevant. Disregard the data for previous years.\n",
    "- Which platforms are leading in sales? Which ones are growing or shrinking? Select several potentially profitable platforms.\n",
    "- Build a box plot for the global sales of all games, broken down by platform. Are the differences in sales significant? What about average sales on various platforms? Describe your findings.\n",
    "- Take a look at how user and professional reviews affect sales for one popular platform (you choose). Build a scatter plot and calculate the correlation between reviews and sales. Draw conclusions.\n",
    "- Keeping your conclusions in mind, compare the sales of the same games on other platforms.\n",
    "- Take a look at the general distribution of games by genre. What can we say about the most profitable genres? Can you generalize about genres with high and low sales?"
   ]
  },
  {
   "cell_type": "code",
   "execution_count": 13,
   "metadata": {},
   "outputs": [],
   "source": [
    "# Look at how many games were released in different years. Is the data for every period significant?\n",
    "\n",
    "games_released = data.groupby(['year_of_release']).agg({'name':['count']}).droplevel(0, axis=1).reset_index()\n",
    "games_released = games_released.set_index('year_of_release')"
   ]
  },
  {
   "cell_type": "code",
   "execution_count": 14,
   "metadata": {},
   "outputs": [
    {
     "data": {
      "text/plain": [
       "<AxesSubplot:xlabel='Year', ylabel='Games released'>"
      ]
     },
     "execution_count": 14,
     "metadata": {},
     "output_type": "execute_result"
    },
    {
     "data": {
      "image/png": "[encoded data removed]",
      "text/plain": [
       "<Figure size 720x360 with 1 Axes>"
      ]
     },
     "metadata": {
      "needs_background": "light"
     },
     "output_type": "display_data"
    }
   ],
   "source": [
    "games_released.plot(kind='bar', xlabel= 'Year', ylabel= 'Games released', figsize=(10,5))"
   ]
  },
  {
   "cell_type": "markdown",
   "metadata": {},
   "source": [
    "**Conclusion**\n",
    " \n",
    "- Between years 1980 - 1993, the number of games released is relatively low and stable\n",
    "- From 1994, we see the number of games released increase year by year\n",
    "- The peak years of games released were 2009 and 2009\n",
    "- Considering our analysis is to plan business activities of 2017, in further steps we will focus only on sales of 2012 and forward"
   ]
  },
  {
   "cell_type": "code",
   "execution_count": 15,
   "metadata": {},
   "outputs": [],
   "source": [
    "# Look at how sales varied from platform to platform. \n",
    "# Choose the platforms with the greatest total sales and build a distribution based on data for each year. \n",
    "\n",
    "platform_sales = data.query('platform == (\"PS2\",\"X360\",\"PS3\",\"Wii\",\"DS\")')\n",
    "platform_sales = platform_sales.groupby(['platform', 'year_of_release']).agg({'total_sales':'sum'}).reset_index()"
   ]
  },
  {
   "cell_type": "code",
   "execution_count": 16,
   "metadata": {},
   "outputs": [
    {
     "data": {
      "image/png": "[encoded data removed]",
      "text/plain": [
       "<Figure size 720x360 with 1 Axes>"
      ]
     },
     "metadata": {
      "needs_background": "light"
     },
     "output_type": "display_data"
    }
   ],
   "source": [
    "plt.figure(figsize=(10,5))\n",
    "ax = sns.lineplot(data=platform_sales, x='year_of_release', y='total_sales', hue='platform').set(title='Sales of Top Platforms')\n"
   ]
  },
  {
   "cell_type": "code",
   "execution_count": 17,
   "metadata": {},
   "outputs": [
    {
     "data": {
      "text/html": [
       "<div>\n",
       "<style scoped>\n",
       "    .dataframe tbody tr th:only-of-type {\n",
       "        vertical-align: middle;\n",
       "    }\n",
       "\n",
       "    .dataframe tbody tr th {\n",
       "        vertical-align: top;\n",
       "    }\n",
       "\n",
       "    .dataframe thead th {\n",
       "        text-align: right;\n",
       "    }\n",
       "</style>\n",
       "<table border=\"1\" class=\"dataframe\">\n",
       "  <thead>\n",
       "    <tr style=\"text-align: right;\">\n",
       "      <th></th>\n",
       "      <th>platform</th>\n",
       "      <th>start_sales</th>\n",
       "      <th>end_sales</th>\n",
       "      <th>total_sales</th>\n",
       "      <th>life_years</th>\n",
       "    </tr>\n",
       "  </thead>\n",
       "  <tbody>\n",
       "    <tr>\n",
       "      <th>28</th>\n",
       "      <td>X360</td>\n",
       "      <td>2005</td>\n",
       "      <td>2016</td>\n",
       "      <td>966.61</td>\n",
       "      <td>11</td>\n",
       "    </tr>\n",
       "    <tr>\n",
       "      <th>17</th>\n",
       "      <td>PS3</td>\n",
       "      <td>1991</td>\n",
       "      <td>2016</td>\n",
       "      <td>935.19</td>\n",
       "      <td>25</td>\n",
       "    </tr>\n",
       "    <tr>\n",
       "      <th>26</th>\n",
       "      <td>Wii</td>\n",
       "      <td>2006</td>\n",
       "      <td>2016</td>\n",
       "      <td>903.31</td>\n",
       "      <td>10</td>\n",
       "    </tr>\n",
       "    <tr>\n",
       "      <th>18</th>\n",
       "      <td>PS4</td>\n",
       "      <td>2013</td>\n",
       "      <td>2016</td>\n",
       "      <td>314.14</td>\n",
       "      <td>3</td>\n",
       "    </tr>\n",
       "    <tr>\n",
       "      <th>13</th>\n",
       "      <td>PC</td>\n",
       "      <td>1985</td>\n",
       "      <td>2016</td>\n",
       "      <td>258.86</td>\n",
       "      <td>31</td>\n",
       "    </tr>\n",
       "    <tr>\n",
       "      <th>2</th>\n",
       "      <td>3DS</td>\n",
       "      <td>2000</td>\n",
       "      <td>2016</td>\n",
       "      <td>258.53</td>\n",
       "      <td>16</td>\n",
       "    </tr>\n",
       "    <tr>\n",
       "      <th>30</th>\n",
       "      <td>XOne</td>\n",
       "      <td>2013</td>\n",
       "      <td>2016</td>\n",
       "      <td>159.32</td>\n",
       "      <td>3</td>\n",
       "    </tr>\n",
       "    <tr>\n",
       "      <th>27</th>\n",
       "      <td>WiiU</td>\n",
       "      <td>2012</td>\n",
       "      <td>2016</td>\n",
       "      <td>82.19</td>\n",
       "      <td>4</td>\n",
       "    </tr>\n",
       "    <tr>\n",
       "      <th>20</th>\n",
       "      <td>PSV</td>\n",
       "      <td>2011</td>\n",
       "      <td>2016</td>\n",
       "      <td>53.81</td>\n",
       "      <td>5</td>\n",
       "    </tr>\n",
       "  </tbody>\n",
       "</table>\n",
       "</div>"
      ],
      "text/plain": [
       "   platform  start_sales  end_sales  total_sales  life_years\n",
       "28     X360         2005       2016       966.61          11\n",
       "17      PS3         1991       2016       935.19          25\n",
       "26      Wii         2006       2016       903.31          10\n",
       "18      PS4         2013       2016       314.14           3\n",
       "13       PC         1985       2016       258.86          31\n",
       "2       3DS         2000       2016       258.53          16\n",
       "30     XOne         2013       2016       159.32           3\n",
       "27     WiiU         2012       2016        82.19           4\n",
       "20      PSV         2011       2016        53.81           5"
      ]
     },
     "execution_count": 17,
     "metadata": {},
     "output_type": "execute_result"
    }
   ],
   "source": [
    "#Find platforms that used to be popular but now have zero sales. \n",
    "#How long does it generally take for new platforms to appear and old ones to fade?\n",
    "\n",
    "popular_platforms = data.groupby(['platform']).agg({'year_of_release':['min', 'max'], 'total_sales':'sum'}).droplevel(0, axis=1).reset_index()\n",
    "popular_platforms['life_years'] = popular_platforms['max'] - popular_platforms['min']\n",
    "popular_platforms.columns = ['platform', 'start_sales', 'end_sales', 'total_sales', 'life_years']\n",
    "popular_platforms = popular_platforms.sort_values(by= 'total_sales', ascending=False)\n",
    "popular_platforms[popular_platforms['end_sales'] > 2015]"
   ]
  },
  {
   "cell_type": "code",
   "execution_count": 18,
   "metadata": {},
   "outputs": [
    {
     "name": "stdout",
     "output_type": "stream",
     "text": [
      "name\n",
      "Wii Sports            41.36\n",
      "Super Mario Bros.     32.48\n",
      "Duck Hunt             26.93\n",
      "Tetris                26.17\n",
      "Grand Theft Auto V    23.84\n",
      "Name: na_sales, dtype: float64\n",
      "name\n",
      "Wii Sports                        28.96\n",
      "Grand Theft Auto V                23.42\n",
      "Mario Kart Wii                    12.76\n",
      "FIFA 15                           12.02\n",
      "Call of Duty: Modern Warfare 3    11.15\n",
      "Name: eu_sales, dtype: float64\n",
      "name\n",
      "Pokemon Red/Pokemon Blue         10.22\n",
      "Pokemon Gold/Pokemon Silver       7.20\n",
      "Super Mario Bros.                 6.96\n",
      "New Super Mario Bros.             6.50\n",
      "Pokemon Diamond/Pokemon Pearl     6.04\n",
      "Name: jp_sales, dtype: float64\n"
     ]
    }
   ],
   "source": [
    "#Finding popular games per region\n",
    "\n",
    "na_favorite_games = data.groupby('name')['na_sales'].sum().sort_values(ascending=False)\n",
    "eu_favorite_games = data.groupby('name')['eu_sales'].sum().sort_values(ascending=False)\n",
    "jp_favorite_games = data.groupby('name')['jp_sales'].sum().sort_values(ascending=False)\n",
    "print(na_favorite_games.head())\n",
    "print(eu_favorite_games.head())\n",
    "print(jp_favorite_games.head())"
   ]
  },
  {
   "cell_type": "code",
   "execution_count": 19,
   "metadata": {},
   "outputs": [
    {
     "data": {
      "text/plain": [
       "count    31.000000\n",
       "mean      8.741935\n",
       "std       7.839931\n",
       "min       0.000000\n",
       "25%       3.000000\n",
       "50%       8.000000\n",
       "75%      11.000000\n",
       "max      31.000000\n",
       "Name: life_years, dtype: float64"
      ]
     },
     "execution_count": 19,
     "metadata": {},
     "output_type": "execute_result"
    }
   ],
   "source": [
    "popular_platforms['life_years'].describe()"
   ]
  },
  {
   "cell_type": "markdown",
   "metadata": {},
   "source": [
    "**Conclusion**\n",
    "\n",
    "- The average lifecycle of platforms is 8 years \n",
    "- The longest lasting platforms have been the PC, followed by DS and PS3\n",
    "- There are a few platforms that were not popular and did not even last a year: GG, TG16, PCFX\t\n",
    "- A few that used to be popular but now have 0 sales (as of year 2016): PS2, DS, PS\n",
    "- The most popular platforms as of now (2016) are: X360, PS3, Wii, PS4, PC"
   ]
  },
  {
   "cell_type": "markdown",
   "metadata": {},
   "source": [
    "<div class=\"alert alert-block alert-success\">\n",
    "<b>Reviewer's comment v1</b> \n",
    "    \n",
    "Nice charts and conclusion!\n",
    "</div>"
   ]
  },
  {
   "cell_type": "code",
   "execution_count": 20,
   "metadata": {},
   "outputs": [
    {
     "data": {
      "text/html": [
       "<div>\n",
       "<style scoped>\n",
       "    .dataframe tbody tr th:only-of-type {\n",
       "        vertical-align: middle;\n",
       "    }\n",
       "\n",
       "    .dataframe tbody tr th {\n",
       "        vertical-align: top;\n",
       "    }\n",
       "\n",
       "    .dataframe thead th {\n",
       "        text-align: right;\n",
       "    }\n",
       "</style>\n",
       "<table border=\"1\" class=\"dataframe\">\n",
       "  <thead>\n",
       "    <tr style=\"text-align: right;\">\n",
       "      <th></th>\n",
       "      <th>platform</th>\n",
       "      <th>start_sales</th>\n",
       "      <th>end_sales</th>\n",
       "      <th>total_sales</th>\n",
       "      <th>life_years</th>\n",
       "    </tr>\n",
       "  </thead>\n",
       "  <tbody>\n",
       "    <tr>\n",
       "      <th>28</th>\n",
       "      <td>X360</td>\n",
       "      <td>2005</td>\n",
       "      <td>2016</td>\n",
       "      <td>966.61</td>\n",
       "      <td>11</td>\n",
       "    </tr>\n",
       "    <tr>\n",
       "      <th>17</th>\n",
       "      <td>PS3</td>\n",
       "      <td>1991</td>\n",
       "      <td>2016</td>\n",
       "      <td>935.19</td>\n",
       "      <td>25</td>\n",
       "    </tr>\n",
       "    <tr>\n",
       "      <th>26</th>\n",
       "      <td>Wii</td>\n",
       "      <td>2006</td>\n",
       "      <td>2016</td>\n",
       "      <td>903.31</td>\n",
       "      <td>10</td>\n",
       "    </tr>\n",
       "    <tr>\n",
       "      <th>18</th>\n",
       "      <td>PS4</td>\n",
       "      <td>2013</td>\n",
       "      <td>2016</td>\n",
       "      <td>314.14</td>\n",
       "      <td>3</td>\n",
       "    </tr>\n",
       "    <tr>\n",
       "      <th>19</th>\n",
       "      <td>PSP</td>\n",
       "      <td>2004</td>\n",
       "      <td>2015</td>\n",
       "      <td>293.57</td>\n",
       "      <td>11</td>\n",
       "    </tr>\n",
       "    <tr>\n",
       "      <th>13</th>\n",
       "      <td>PC</td>\n",
       "      <td>1985</td>\n",
       "      <td>2016</td>\n",
       "      <td>258.86</td>\n",
       "      <td>31</td>\n",
       "    </tr>\n",
       "    <tr>\n",
       "      <th>2</th>\n",
       "      <td>3DS</td>\n",
       "      <td>2000</td>\n",
       "      <td>2016</td>\n",
       "      <td>258.53</td>\n",
       "      <td>16</td>\n",
       "    </tr>\n",
       "    <tr>\n",
       "      <th>30</th>\n",
       "      <td>XOne</td>\n",
       "      <td>2013</td>\n",
       "      <td>2016</td>\n",
       "      <td>159.32</td>\n",
       "      <td>3</td>\n",
       "    </tr>\n",
       "    <tr>\n",
       "      <th>27</th>\n",
       "      <td>WiiU</td>\n",
       "      <td>2012</td>\n",
       "      <td>2016</td>\n",
       "      <td>82.19</td>\n",
       "      <td>4</td>\n",
       "    </tr>\n",
       "    <tr>\n",
       "      <th>20</th>\n",
       "      <td>PSV</td>\n",
       "      <td>2011</td>\n",
       "      <td>2016</td>\n",
       "      <td>53.81</td>\n",
       "      <td>5</td>\n",
       "    </tr>\n",
       "  </tbody>\n",
       "</table>\n",
       "</div>"
      ],
      "text/plain": [
       "   platform  start_sales  end_sales  total_sales  life_years\n",
       "28     X360         2005       2016       966.61          11\n",
       "17      PS3         1991       2016       935.19          25\n",
       "26      Wii         2006       2016       903.31          10\n",
       "18      PS4         2013       2016       314.14           3\n",
       "19      PSP         2004       2015       293.57          11\n",
       "13       PC         1985       2016       258.86          31\n",
       "2       3DS         2000       2016       258.53          16\n",
       "30     XOne         2013       2016       159.32           3\n",
       "27     WiiU         2012       2016        82.19           4\n",
       "20      PSV         2011       2016        53.81           5"
      ]
     },
     "execution_count": 20,
     "metadata": {},
     "output_type": "execute_result"
    }
   ],
   "source": [
    "# Work only with the data that you've decided is relevant. Disregard the data for previous years.\n",
    "# Which platforms are leading in sales? Which ones are growing or shrinking? \n",
    "# Select several potentially profitable platforms.\n",
    "\n",
    "popular_platforms = popular_platforms[popular_platforms['end_sales'] >= 2015]\n",
    "popular_platforms.sort_values(by='total_sales', ascending=False)\n",
    "popular_platforms"
   ]
  },
  {
   "cell_type": "code",
   "execution_count": 21,
   "metadata": {},
   "outputs": [
    {
     "data": {
      "text/plain": [
       "<AxesSubplot:xlabel='platform', ylabel='total_sales'>"
      ]
     },
     "execution_count": 21,
     "metadata": {},
     "output_type": "execute_result"
    },
    {
     "data": {
      "image/png": "[encoded data removed]",
      "text/plain": [
       "<Figure size 720x432 with 1 Axes>"
      ]
     },
     "metadata": {},
     "output_type": "display_data"
    }
   ],
   "source": [
    "# Build a box plot for the global sales of all games, broken down by platform. \n",
    "# Are the differences in sales significant? What about average sales on various platforms? Describe your findings.\n",
    "\n",
    "boxplot_data = data.query('platform == (\"X360\",\"Wii\",\"PS3\",\"PS4\",\"PSP\",\"3DS\",\"PC\",\"XOne\",\"WiiU\",\"PSV\")')\n",
    "boxplot_data = boxplot_data.groupby(['platform', 'name'])['total_sales'].sum().reset_index()\n",
    "\n",
    "order = boxplot_data.groupby(['platform'])['total_sales'].sum().reset_index().sort_values(by='total_sales', ascending=False)['platform']\n",
    "\n",
    "sb.set(rc={'figure.figsize':(10,6)})\n",
    "sb.boxplot(x='platform',y='total_sales',data=boxplot_data, order=order, showfliers = False)\n",
    "\n"
   ]
  },
  {
   "cell_type": "code",
   "execution_count": 22,
   "metadata": {},
   "outputs": [
    {
     "data": {
      "text/html": [
       "<div>\n",
       "<style scoped>\n",
       "    .dataframe tbody tr th:only-of-type {\n",
       "        vertical-align: middle;\n",
       "    }\n",
       "\n",
       "    .dataframe tbody tr th {\n",
       "        vertical-align: top;\n",
       "    }\n",
       "\n",
       "    .dataframe thead th {\n",
       "        text-align: right;\n",
       "    }\n",
       "</style>\n",
       "<table border=\"1\" class=\"dataframe\">\n",
       "  <thead>\n",
       "    <tr style=\"text-align: right;\">\n",
       "      <th></th>\n",
       "      <th>total_sales</th>\n",
       "      <th>critic_score</th>\n",
       "    </tr>\n",
       "  </thead>\n",
       "  <tbody>\n",
       "    <tr>\n",
       "      <th>total_sales</th>\n",
       "      <td>1.000000</td>\n",
       "      <td>0.391742</td>\n",
       "    </tr>\n",
       "    <tr>\n",
       "      <th>critic_score</th>\n",
       "      <td>0.391742</td>\n",
       "      <td>1.000000</td>\n",
       "    </tr>\n",
       "  </tbody>\n",
       "</table>\n",
       "</div>"
      ],
      "text/plain": [
       "              total_sales  critic_score\n",
       "total_sales      1.000000      0.391742\n",
       "critic_score     0.391742      1.000000"
      ]
     },
     "execution_count": 22,
     "metadata": {},
     "output_type": "execute_result"
    }
   ],
   "source": [
    "\n",
    "x = data[(data['platform'] == 'X360') & (data['critic_score'].notna())][['total_sales', 'critic_score']]\n",
    "x.corr()"
   ]
  },
  {
   "cell_type": "code",
   "execution_count": 23,
   "metadata": {},
   "outputs": [],
   "source": [
    "#Take a look at how user and professional reviews affect sales for one popular platform (you choose). \n",
    "#Build a scatter plot and calculate the correlation between reviews and sales. Draw conclusions.\n",
    "\n",
    "from matplotlib.axes._axes import _log as matplotlib_axes_logger\n",
    "matplotlib_axes_logger.setLevel('ERROR')\n",
    "\n",
    "def effect_of_reviews(platformx, column):\n",
    "    doto = data[data['year_of_release']>= 2015]\n",
    "    doto = data[(data['platform'] == platformx) & (data[column].notna())][['total_sales', column]]\n",
    "    doto.plot(x=(column), y='total_sales', kind='scatter') \n",
    "    \n",
    "    correlation = doto.corr()\n",
    "    return correlation\n",
    "    \n",
    " \n"
   ]
  },
  {
   "cell_type": "code",
   "execution_count": 24,
   "metadata": {},
   "outputs": [
    {
     "data": {
      "text/html": [
       "<div>\n",
       "<style scoped>\n",
       "    .dataframe tbody tr th:only-of-type {\n",
       "        vertical-align: middle;\n",
       "    }\n",
       "\n",
       "    .dataframe tbody tr th {\n",
       "        vertical-align: top;\n",
       "    }\n",
       "\n",
       "    .dataframe thead th {\n",
       "        text-align: right;\n",
       "    }\n",
       "</style>\n",
       "<table border=\"1\" class=\"dataframe\">\n",
       "  <thead>\n",
       "    <tr style=\"text-align: right;\">\n",
       "      <th></th>\n",
       "      <th>total_sales</th>\n",
       "      <th>critic_score</th>\n",
       "    </tr>\n",
       "  </thead>\n",
       "  <tbody>\n",
       "    <tr>\n",
       "      <th>total_sales</th>\n",
       "      <td>1.000000</td>\n",
       "      <td>0.391742</td>\n",
       "    </tr>\n",
       "    <tr>\n",
       "      <th>critic_score</th>\n",
       "      <td>0.391742</td>\n",
       "      <td>1.000000</td>\n",
       "    </tr>\n",
       "  </tbody>\n",
       "</table>\n",
       "</div>"
      ],
      "text/plain": [
       "              total_sales  critic_score\n",
       "total_sales      1.000000      0.391742\n",
       "critic_score     0.391742      1.000000"
      ]
     },
     "execution_count": 24,
     "metadata": {},
     "output_type": "execute_result"
    },
    {
     "data": {
      "image/png": "[encoded data removed]",
      "text/plain": [
       "<Figure size 720x432 with 1 Axes>"
      ]
     },
     "metadata": {},
     "output_type": "display_data"
    }
   ],
   "source": [
    "effect_of_reviews('X360', 'critic_score')"
   ]
  },
  {
   "cell_type": "code",
   "execution_count": 25,
   "metadata": {},
   "outputs": [
    {
     "data": {
      "text/html": [
       "<div>\n",
       "<style scoped>\n",
       "    .dataframe tbody tr th:only-of-type {\n",
       "        vertical-align: middle;\n",
       "    }\n",
       "\n",
       "    .dataframe tbody tr th {\n",
       "        vertical-align: top;\n",
       "    }\n",
       "\n",
       "    .dataframe thead th {\n",
       "        text-align: right;\n",
       "    }\n",
       "</style>\n",
       "<table border=\"1\" class=\"dataframe\">\n",
       "  <thead>\n",
       "    <tr style=\"text-align: right;\">\n",
       "      <th></th>\n",
       "      <th>total_sales</th>\n",
       "      <th>user_score</th>\n",
       "    </tr>\n",
       "  </thead>\n",
       "  <tbody>\n",
       "    <tr>\n",
       "      <th>total_sales</th>\n",
       "      <td>1.00000</td>\n",
       "      <td>0.11365</td>\n",
       "    </tr>\n",
       "    <tr>\n",
       "      <th>user_score</th>\n",
       "      <td>0.11365</td>\n",
       "      <td>1.00000</td>\n",
       "    </tr>\n",
       "  </tbody>\n",
       "</table>\n",
       "</div>"
      ],
      "text/plain": [
       "             total_sales  user_score\n",
       "total_sales      1.00000     0.11365\n",
       "user_score       0.11365     1.00000"
      ]
     },
     "execution_count": 25,
     "metadata": {},
     "output_type": "execute_result"
    },
    {
     "data": {
      "image/png": "[encoded data removed]",
      "text/plain": [
       "<Figure size 720x432 with 1 Axes>"
      ]
     },
     "metadata": {},
     "output_type": "display_data"
    }
   ],
   "source": [
    "effect_of_reviews('X360', 'user_score')"
   ]
  },
  {
   "cell_type": "markdown",
   "metadata": {},
   "source": [
    "**Conclusion**\n",
    "    \n",
    "- There seems to be a low correlation between user_score and sales\n",
    "- critic_score also has a low correlation with sales, but higher than than user_score"
   ]
  },
  {
   "cell_type": "code",
   "execution_count": 26,
   "metadata": {},
   "outputs": [
    {
     "data": {
      "text/html": [
       "<div>\n",
       "<style scoped>\n",
       "    .dataframe tbody tr th:only-of-type {\n",
       "        vertical-align: middle;\n",
       "    }\n",
       "\n",
       "    .dataframe tbody tr th {\n",
       "        vertical-align: top;\n",
       "    }\n",
       "\n",
       "    .dataframe thead th {\n",
       "        text-align: right;\n",
       "    }\n",
       "</style>\n",
       "<table border=\"1\" class=\"dataframe\">\n",
       "  <thead>\n",
       "    <tr style=\"text-align: right;\">\n",
       "      <th></th>\n",
       "      <th>total_sales</th>\n",
       "      <th>critic_score</th>\n",
       "    </tr>\n",
       "  </thead>\n",
       "  <tbody>\n",
       "    <tr>\n",
       "      <th>total_sales</th>\n",
       "      <td>1.000000</td>\n",
       "      <td>0.432275</td>\n",
       "    </tr>\n",
       "    <tr>\n",
       "      <th>critic_score</th>\n",
       "      <td>0.432275</td>\n",
       "      <td>1.000000</td>\n",
       "    </tr>\n",
       "  </tbody>\n",
       "</table>\n",
       "</div>"
      ],
      "text/plain": [
       "              total_sales  critic_score\n",
       "total_sales      1.000000      0.432275\n",
       "critic_score     0.432275      1.000000"
      ]
     },
     "execution_count": 26,
     "metadata": {},
     "output_type": "execute_result"
    },
    {
     "data": {
      "image/png": "[encoded data removed]",
      "text/plain": [
       "<Figure size 720x432 with 1 Axes>"
      ]
     },
     "metadata": {},
     "output_type": "display_data"
    }
   ],
   "source": [
    "# Keeping your conclusions in mind, compare the sales of the same games on other platforms.\n",
    "\n",
    "effect_of_reviews('PS3', 'critic_score')"
   ]
  },
  {
   "cell_type": "code",
   "execution_count": 27,
   "metadata": {},
   "outputs": [
    {
     "data": {
      "text/html": [
       "<div>\n",
       "<style scoped>\n",
       "    .dataframe tbody tr th:only-of-type {\n",
       "        vertical-align: middle;\n",
       "    }\n",
       "\n",
       "    .dataframe tbody tr th {\n",
       "        vertical-align: top;\n",
       "    }\n",
       "\n",
       "    .dataframe thead th {\n",
       "        text-align: right;\n",
       "    }\n",
       "</style>\n",
       "<table border=\"1\" class=\"dataframe\">\n",
       "  <thead>\n",
       "    <tr style=\"text-align: right;\">\n",
       "      <th></th>\n",
       "      <th>total_sales</th>\n",
       "      <th>user_score</th>\n",
       "    </tr>\n",
       "  </thead>\n",
       "  <tbody>\n",
       "    <tr>\n",
       "      <th>total_sales</th>\n",
       "      <td>1.000000</td>\n",
       "      <td>0.127811</td>\n",
       "    </tr>\n",
       "    <tr>\n",
       "      <th>user_score</th>\n",
       "      <td>0.127811</td>\n",
       "      <td>1.000000</td>\n",
       "    </tr>\n",
       "  </tbody>\n",
       "</table>\n",
       "</div>"
      ],
      "text/plain": [
       "             total_sales  user_score\n",
       "total_sales     1.000000    0.127811\n",
       "user_score      0.127811    1.000000"
      ]
     },
     "execution_count": 27,
     "metadata": {},
     "output_type": "execute_result"
    },
    {
     "data": {
      "image/png": "[encoded data removed]",
      "text/plain": [
       "<Figure size 720x432 with 1 Axes>"
      ]
     },
     "metadata": {},
     "output_type": "display_data"
    }
   ],
   "source": [
    "effect_of_reviews('PS3', 'user_score')"
   ]
  },
  {
   "cell_type": "markdown",
   "metadata": {},
   "source": [
    "**Conclusion**\n",
    "\n",
    "- user_score seems to have an insignificant effect of sales\n",
    "- Although not extremely significant, critic_score seems to have a higher correlation with platform sales\n"
   ]
  },
  {
   "cell_type": "code",
   "execution_count": 28,
   "metadata": {},
   "outputs": [
    {
     "data": {
      "text/plain": [
       "<AxesSubplot:title={'center':'Distribution by Genre'}, xlabel='Genre', ylabel='Total Sales'>"
      ]
     },
     "execution_count": 28,
     "metadata": {},
     "output_type": "execute_result"
    },
    {
     "data": {
      "image/png": "[encoded data removed]",
      "text/plain": [
       "<Figure size 720x360 with 1 Axes>"
      ]
     },
     "metadata": {},
     "output_type": "display_data"
    }
   ],
   "source": [
    "# Take a look at the general distribution of games by genre. What can we say about the most profitable genres? \n",
    "# Can you generalize about genres with high and low sales?\n",
    "\n",
    "genre_distribution = data[data['year_of_release']>=2015]\n",
    "genre_distribution = genre_distribution.groupby(['genre'])['total_sales'].sum().sort_values(ascending=False)\n",
    "genre_distribution.plot(kind='bar', title= 'Distribution by Genre', xlabel= 'Genre', ylabel= 'Total Sales', figsize=(10,5))"
   ]
  },
  {
   "cell_type": "markdown",
   "metadata": {},
   "source": [
    "**Conclusion**\n",
    "\n",
    "- Shooter, action and sports are the most sold genres\n",
    "- Puzzle, strategy and simulation are the least selling genres"
   ]
  },
  {
   "cell_type": "markdown",
   "metadata": {},
   "source": [
    "#### Step - Create a user profile for each region\n",
    "\n",
    "For each region (NA, EU, JP), determine:"
   ]
  },
  {
   "cell_type": "code",
   "execution_count": 29,
   "metadata": {},
   "outputs": [
    {
     "data": {
      "text/html": [
       "<div>\n",
       "<style scoped>\n",
       "    .dataframe tbody tr th:only-of-type {\n",
       "        vertical-align: middle;\n",
       "    }\n",
       "\n",
       "    .dataframe tbody tr th {\n",
       "        vertical-align: top;\n",
       "    }\n",
       "\n",
       "    .dataframe thead th {\n",
       "        text-align: right;\n",
       "    }\n",
       "</style>\n",
       "<table border=\"1\" class=\"dataframe\">\n",
       "  <thead>\n",
       "    <tr style=\"text-align: right;\">\n",
       "      <th></th>\n",
       "      <th>platform</th>\n",
       "      <th>na_sales</th>\n",
       "      <th>market_share</th>\n",
       "    </tr>\n",
       "  </thead>\n",
       "  <tbody>\n",
       "    <tr>\n",
       "      <th>0</th>\n",
       "      <td>X360</td>\n",
       "      <td>599.15</td>\n",
       "      <td>0.137003</td>\n",
       "    </tr>\n",
       "    <tr>\n",
       "      <th>1</th>\n",
       "      <td>PS2</td>\n",
       "      <td>580.09</td>\n",
       "      <td>0.132644</td>\n",
       "    </tr>\n",
       "    <tr>\n",
       "      <th>2</th>\n",
       "      <td>Wii</td>\n",
       "      <td>494.01</td>\n",
       "      <td>0.112961</td>\n",
       "    </tr>\n",
       "    <tr>\n",
       "      <th>3</th>\n",
       "      <td>PS3</td>\n",
       "      <td>391.60</td>\n",
       "      <td>0.089544</td>\n",
       "    </tr>\n",
       "    <tr>\n",
       "      <th>4</th>\n",
       "      <td>DS</td>\n",
       "      <td>381.38</td>\n",
       "      <td>0.087207</td>\n",
       "    </tr>\n",
       "    <tr>\n",
       "      <th>5</th>\n",
       "      <td>Others</td>\n",
       "      <td>1927.04</td>\n",
       "      <td>0.440641</td>\n",
       "    </tr>\n",
       "  </tbody>\n",
       "</table>\n",
       "</div>"
      ],
      "text/plain": [
       "  platform  na_sales  market_share\n",
       "0     X360    599.15      0.137003\n",
       "1      PS2    580.09      0.132644\n",
       "2      Wii    494.01      0.112961\n",
       "3      PS3    391.60      0.089544\n",
       "4       DS    381.38      0.087207\n",
       "5   Others   1927.04      0.440641"
      ]
     },
     "execution_count": 29,
     "metadata": {},
     "output_type": "execute_result"
    }
   ],
   "source": [
    "# The top five platforms. Describe variations in their market shares from region to region.\n",
    "\n",
    "NA_platforms = data[['na_sales', 'platform']]\n",
    "NA_platforms = NA_platforms.groupby('platform')['na_sales'].sum().sort_values(ascending=False).reset_index()\n",
    "\n",
    "\n",
    "NA_platforms['market_share'] = NA_platforms['na_sales']/ NA_platforms['na_sales'].sum()\n",
    "\n",
    "#Creating a category called \"others\" to depict all the platforms that are not the top 5\n",
    "others_na_platforms = {'platform': 'Others', 'na_sales': sum(NA_platforms['na_sales'].loc[5:31]), 'market_share':sum(NA_platforms['market_share'].loc[5:31])}\n",
    "\n",
    "NA_platforms.drop(NA_platforms.index[5:31], inplace=True)\n",
    "NA_platforms = NA_platforms.append(others_na_platforms, ignore_index=True)\n",
    "NA_platforms\n"
   ]
  },
  {
   "cell_type": "code",
   "execution_count": 30,
   "metadata": {},
   "outputs": [
    {
     "data": {
      "text/plain": [
       "<AxesSubplot:title={'center':'Market share by platform - NA'}, ylabel='market_share'>"
      ]
     },
     "execution_count": 30,
     "metadata": {},
     "output_type": "execute_result"
    },
    {
     "data": {
      "image/png": "[encoded data removed]",
      "text/plain": [
       "<Figure size 720x432 with 1 Axes>"
      ]
     },
     "metadata": {},
     "output_type": "display_data"
    }
   ],
   "source": [
    "NA_platforms.groupby(['platform']).sum().plot(kind='pie', y='market_share', autopct='%1.0f%%',\n",
    "                                colors = ['green', 'pink', 'steelblue', 'gray', 'lightblue', 'yellow'],\n",
    "                                title='Market share by platform - NA', normalize=False)\n"
   ]
  },
  {
   "cell_type": "code",
   "execution_count": 31,
   "metadata": {},
   "outputs": [
    {
     "data": {
      "text/html": [
       "<div>\n",
       "<style scoped>\n",
       "    .dataframe tbody tr th:only-of-type {\n",
       "        vertical-align: middle;\n",
       "    }\n",
       "\n",
       "    .dataframe tbody tr th {\n",
       "        vertical-align: top;\n",
       "    }\n",
       "\n",
       "    .dataframe thead th {\n",
       "        text-align: right;\n",
       "    }\n",
       "</style>\n",
       "<table border=\"1\" class=\"dataframe\">\n",
       "  <thead>\n",
       "    <tr style=\"text-align: right;\">\n",
       "      <th></th>\n",
       "      <th>platform</th>\n",
       "      <th>eu_sales</th>\n",
       "      <th>market_share</th>\n",
       "    </tr>\n",
       "  </thead>\n",
       "  <tbody>\n",
       "    <tr>\n",
       "      <th>0</th>\n",
       "      <td>PS2</td>\n",
       "      <td>337.05</td>\n",
       "      <td>0.139525</td>\n",
       "    </tr>\n",
       "    <tr>\n",
       "      <th>1</th>\n",
       "      <td>PS3</td>\n",
       "      <td>328.97</td>\n",
       "      <td>0.136180</td>\n",
       "    </tr>\n",
       "    <tr>\n",
       "      <th>2</th>\n",
       "      <td>X360</td>\n",
       "      <td>269.79</td>\n",
       "      <td>0.111682</td>\n",
       "    </tr>\n",
       "    <tr>\n",
       "      <th>3</th>\n",
       "      <td>Wii</td>\n",
       "      <td>261.48</td>\n",
       "      <td>0.108242</td>\n",
       "    </tr>\n",
       "    <tr>\n",
       "      <th>4</th>\n",
       "      <td>PS</td>\n",
       "      <td>212.39</td>\n",
       "      <td>0.087921</td>\n",
       "    </tr>\n",
       "    <tr>\n",
       "      <th>5</th>\n",
       "      <td>Others</td>\n",
       "      <td>1006.02</td>\n",
       "      <td>0.416451</td>\n",
       "    </tr>\n",
       "  </tbody>\n",
       "</table>\n",
       "</div>"
      ],
      "text/plain": [
       "  platform  eu_sales  market_share\n",
       "0      PS2    337.05      0.139525\n",
       "1      PS3    328.97      0.136180\n",
       "2     X360    269.79      0.111682\n",
       "3      Wii    261.48      0.108242\n",
       "4       PS    212.39      0.087921\n",
       "5   Others   1006.02      0.416451"
      ]
     },
     "execution_count": 31,
     "metadata": {},
     "output_type": "execute_result"
    }
   ],
   "source": [
    "EU_platforms = data[['eu_sales', 'platform']]\n",
    "EU_platforms = EU_platforms.groupby('platform')['eu_sales'].sum().sort_values(ascending=False).reset_index()\n",
    "\n",
    "EU_platforms['market_share'] = EU_platforms['eu_sales'] / EU_platforms['eu_sales'].sum()\n",
    "\n",
    "#Creating a category called \"others\" to depict all the platforms that are not the top 5\n",
    "others_eu_platforms = {'platform': 'Others', 'eu_sales': sum(EU_platforms['eu_sales'].loc[5:31]), 'market_share':sum(EU_platforms['market_share'].loc[5:31])}\n",
    "\n",
    "\n",
    "EU_platforms.drop(EU_platforms.index[5:31], inplace=True)\n",
    "EU_platforms = EU_platforms.append(others_eu_platforms, ignore_index=True)\n",
    "EU_platforms\n"
   ]
  },
  {
   "cell_type": "code",
   "execution_count": 32,
   "metadata": {},
   "outputs": [
    {
     "data": {
      "text/plain": [
       "<AxesSubplot:title={'center':'Market share by platform - EU'}, ylabel='market_share'>"
      ]
     },
     "execution_count": 32,
     "metadata": {},
     "output_type": "execute_result"
    },
    {
     "data": {
      "image/png": "[encoded data removed]",
      "text/plain": [
       "<Figure size 720x432 with 1 Axes>"
      ]
     },
     "metadata": {},
     "output_type": "display_data"
    }
   ],
   "source": [
    "EU_platforms.groupby(['platform']).sum().plot(kind='pie', y='market_share', autopct='%1.0f%%',\n",
    "                                colors = ['green', 'pink', 'steelblue', 'gray', 'lightblue', 'yellow'],\n",
    "                                title='Market share by platform - EU', normalize=False)"
   ]
  },
  {
   "cell_type": "code",
   "execution_count": 33,
   "metadata": {},
   "outputs": [
    {
     "data": {
      "text/html": [
       "<div>\n",
       "<style scoped>\n",
       "    .dataframe tbody tr th:only-of-type {\n",
       "        vertical-align: middle;\n",
       "    }\n",
       "\n",
       "    .dataframe tbody tr th {\n",
       "        vertical-align: top;\n",
       "    }\n",
       "\n",
       "    .dataframe thead th {\n",
       "        text-align: right;\n",
       "    }\n",
       "</style>\n",
       "<table border=\"1\" class=\"dataframe\">\n",
       "  <thead>\n",
       "    <tr style=\"text-align: right;\">\n",
       "      <th></th>\n",
       "      <th>platform</th>\n",
       "      <th>jp_sales</th>\n",
       "      <th>market_share</th>\n",
       "    </tr>\n",
       "  </thead>\n",
       "  <tbody>\n",
       "    <tr>\n",
       "      <th>0</th>\n",
       "      <td>DS</td>\n",
       "      <td>175.02</td>\n",
       "      <td>0.135406</td>\n",
       "    </tr>\n",
       "    <tr>\n",
       "      <th>1</th>\n",
       "      <td>PS</td>\n",
       "      <td>139.78</td>\n",
       "      <td>0.108142</td>\n",
       "    </tr>\n",
       "    <tr>\n",
       "      <th>2</th>\n",
       "      <td>PS2</td>\n",
       "      <td>137.74</td>\n",
       "      <td>0.106564</td>\n",
       "    </tr>\n",
       "    <tr>\n",
       "      <th>3</th>\n",
       "      <td>SNES</td>\n",
       "      <td>116.55</td>\n",
       "      <td>0.090170</td>\n",
       "    </tr>\n",
       "    <tr>\n",
       "      <th>4</th>\n",
       "      <td>3DS</td>\n",
       "      <td>100.64</td>\n",
       "      <td>0.077861</td>\n",
       "    </tr>\n",
       "    <tr>\n",
       "      <th>5</th>\n",
       "      <td>Others</td>\n",
       "      <td>622.83</td>\n",
       "      <td>0.481858</td>\n",
       "    </tr>\n",
       "  </tbody>\n",
       "</table>\n",
       "</div>"
      ],
      "text/plain": [
       "  platform  jp_sales  market_share\n",
       "0       DS    175.02      0.135406\n",
       "1       PS    139.78      0.108142\n",
       "2      PS2    137.74      0.106564\n",
       "3     SNES    116.55      0.090170\n",
       "4      3DS    100.64      0.077861\n",
       "5   Others    622.83      0.481858"
      ]
     },
     "execution_count": 33,
     "metadata": {},
     "output_type": "execute_result"
    }
   ],
   "source": [
    "JP_platforms = data[['jp_sales', 'platform']]\n",
    "JP_platforms = JP_platforms.groupby('platform')['jp_sales'].sum().sort_values(ascending=False).reset_index()\n",
    "\n",
    "JP_platforms['market_share'] = JP_platforms['jp_sales'] / JP_platforms['jp_sales'].sum()\n",
    "\n",
    "#Creating a category called \"others\" to depict all the platforms that are not the top 5\n",
    "others_jp_platforms = {'platform': 'Others', 'jp_sales': sum(JP_platforms['jp_sales'].loc[5:31]), 'market_share':sum(JP_platforms['market_share'].loc[5:31])}\n",
    "\n",
    "JP_platforms.drop(JP_platforms.index[5:31], inplace=True)\n",
    "JP_platforms = JP_platforms.append(others_jp_platforms, ignore_index=True)\n",
    "JP_platforms"
   ]
  },
  {
   "cell_type": "code",
   "execution_count": 34,
   "metadata": {},
   "outputs": [
    {
     "data": {
      "text/plain": [
       "<AxesSubplot:title={'center':'Market share by platform - JP'}, ylabel='market_share'>"
      ]
     },
     "execution_count": 34,
     "metadata": {},
     "output_type": "execute_result"
    },
    {
     "data": {
      "image/png": "[encoded data removed]",
      "text/plain": [
       "<Figure size 720x432 with 1 Axes>"
      ]
     },
     "metadata": {},
     "output_type": "display_data"
    }
   ],
   "source": [
    "JP_platforms.groupby(['platform']).sum().plot(kind='pie', y='market_share', autopct='%1.0f%%',\n",
    "                                colors = ['green', 'pink', 'steelblue', 'gray', 'lightblue', 'yellow'],\n",
    "                                title='Market share by platform - JP', normalize=False)"
   ]
  },
  {
   "cell_type": "markdown",
   "metadata": {},
   "source": [
    "**Conclusion**\n",
    "\n",
    "**NA region:** The top 5 platforms in sales, occupying roughly 55% of the market share are:\n",
    "1. X360\n",
    "2. PS2\n",
    "3. Wii\n",
    "4. PS3\n",
    "5. DS\n",
    "\n",
    "\n",
    "**EU region:** The top 5 platforms in sales, occupying roughly 55% of the market share are:\n",
    "1. PS2\n",
    "2. PS3\n",
    "3. X360\n",
    "4. Wii\n",
    "5. PS\n",
    "\n",
    "**JP region:** The top 5 platforms in sales, occupying roughly 50% of the market share are:\n",
    "1. DS\n",
    "2. PS\n",
    "3. PS2\n",
    "4. SNES\n",
    "5. 3DS"
   ]
  },
  {
   "cell_type": "code",
   "execution_count": 35,
   "metadata": {},
   "outputs": [
    {
     "data": {
      "text/html": [
       "<div>\n",
       "<style scoped>\n",
       "    .dataframe tbody tr th:only-of-type {\n",
       "        vertical-align: middle;\n",
       "    }\n",
       "\n",
       "    .dataframe tbody tr th {\n",
       "        vertical-align: top;\n",
       "    }\n",
       "\n",
       "    .dataframe thead th {\n",
       "        text-align: right;\n",
       "    }\n",
       "</style>\n",
       "<table border=\"1\" class=\"dataframe\">\n",
       "  <thead>\n",
       "    <tr style=\"text-align: right;\">\n",
       "      <th></th>\n",
       "      <th>genre</th>\n",
       "      <th>na_sales</th>\n",
       "      <th>market_share</th>\n",
       "    </tr>\n",
       "  </thead>\n",
       "  <tbody>\n",
       "    <tr>\n",
       "      <th>0</th>\n",
       "      <td>Action</td>\n",
       "      <td>873.70</td>\n",
       "      <td>0.199782</td>\n",
       "    </tr>\n",
       "    <tr>\n",
       "      <th>1</th>\n",
       "      <td>Sports</td>\n",
       "      <td>681.69</td>\n",
       "      <td>0.155876</td>\n",
       "    </tr>\n",
       "    <tr>\n",
       "      <th>2</th>\n",
       "      <td>Shooter</td>\n",
       "      <td>590.35</td>\n",
       "      <td>0.134991</td>\n",
       "    </tr>\n",
       "    <tr>\n",
       "      <th>3</th>\n",
       "      <td>Platform</td>\n",
       "      <td>444.44</td>\n",
       "      <td>0.101626</td>\n",
       "    </tr>\n",
       "    <tr>\n",
       "      <th>4</th>\n",
       "      <td>Misc</td>\n",
       "      <td>401.69</td>\n",
       "      <td>0.091851</td>\n",
       "    </tr>\n",
       "    <tr>\n",
       "      <th>5</th>\n",
       "      <td>Others</td>\n",
       "      <td>1381.40</td>\n",
       "      <td>0.315873</td>\n",
       "    </tr>\n",
       "  </tbody>\n",
       "</table>\n",
       "</div>"
      ],
      "text/plain": [
       "      genre  na_sales  market_share\n",
       "0    Action    873.70      0.199782\n",
       "1    Sports    681.69      0.155876\n",
       "2   Shooter    590.35      0.134991\n",
       "3  Platform    444.44      0.101626\n",
       "4      Misc    401.69      0.091851\n",
       "5    Others   1381.40      0.315873"
      ]
     },
     "execution_count": 35,
     "metadata": {},
     "output_type": "execute_result"
    }
   ],
   "source": [
    "# The top five genres. Explain the difference.\n",
    "\n",
    "NA_genres = data[['na_sales', 'genre']]\n",
    "NA_genres = NA_genres.groupby('genre')['na_sales'].sum().sort_values(ascending=False).reset_index()\n",
    "NA_genres['market_share'] = NA_genres['na_sales'] / NA_genres['na_sales'].sum()\n",
    "\n",
    "\n",
    "#Creating a category called \"others\" to depict all the genres that are not the top 5\n",
    "others_na = {'genre': 'Others', 'na_sales': sum(NA_genres['na_sales'].loc[5:11]), 'market_share':sum(NA_genres['market_share'].loc[5:11])}\n",
    "\n",
    "NA_genres.drop(NA_genres.index[5:12], inplace=True)\n",
    "NA_genres = NA_genres.append(others_na, ignore_index=True)\n",
    "NA_genres\n"
   ]
  },
  {
   "cell_type": "code",
   "execution_count": 36,
   "metadata": {},
   "outputs": [
    {
     "data": {
      "text/plain": [
       "<AxesSubplot:title={'center':'Market share by genre - NA'}, ylabel='market_share'>"
      ]
     },
     "execution_count": 36,
     "metadata": {},
     "output_type": "execute_result"
    },
    {
     "data": {
      "image/png": "[encoded data removed]",
      "text/plain": [
       "<Figure size 720x432 with 1 Axes>"
      ]
     },
     "metadata": {},
     "output_type": "display_data"
    }
   ],
   "source": [
    "NA_genres.groupby(['genre']).sum().plot(kind='pie', y='market_share', autopct='%1.0f%%',\n",
    "                                colors = ['green', 'pink', 'steelblue', 'gray', 'lightblue', 'yellow'],\n",
    "                                title='Market share by genre - NA')"
   ]
  },
  {
   "cell_type": "code",
   "execution_count": 37,
   "metadata": {},
   "outputs": [
    {
     "data": {
      "text/html": [
       "<div>\n",
       "<style scoped>\n",
       "    .dataframe tbody tr th:only-of-type {\n",
       "        vertical-align: middle;\n",
       "    }\n",
       "\n",
       "    .dataframe tbody tr th {\n",
       "        vertical-align: top;\n",
       "    }\n",
       "\n",
       "    .dataframe thead th {\n",
       "        text-align: right;\n",
       "    }\n",
       "</style>\n",
       "<table border=\"1\" class=\"dataframe\">\n",
       "  <thead>\n",
       "    <tr style=\"text-align: right;\">\n",
       "      <th></th>\n",
       "      <th>genre</th>\n",
       "      <th>eu_sales</th>\n",
       "      <th>market_share</th>\n",
       "    </tr>\n",
       "  </thead>\n",
       "  <tbody>\n",
       "    <tr>\n",
       "      <th>0</th>\n",
       "      <td>Action</td>\n",
       "      <td>517.58</td>\n",
       "      <td>0.214257</td>\n",
       "    </tr>\n",
       "    <tr>\n",
       "      <th>1</th>\n",
       "      <td>Sports</td>\n",
       "      <td>375.60</td>\n",
       "      <td>0.155483</td>\n",
       "    </tr>\n",
       "    <tr>\n",
       "      <th>2</th>\n",
       "      <td>Shooter</td>\n",
       "      <td>316.96</td>\n",
       "      <td>0.131208</td>\n",
       "    </tr>\n",
       "    <tr>\n",
       "      <th>3</th>\n",
       "      <td>Racing</td>\n",
       "      <td>235.47</td>\n",
       "      <td>0.097475</td>\n",
       "    </tr>\n",
       "    <tr>\n",
       "      <th>4</th>\n",
       "      <td>Misc</td>\n",
       "      <td>211.32</td>\n",
       "      <td>0.087478</td>\n",
       "    </tr>\n",
       "    <tr>\n",
       "      <th>5</th>\n",
       "      <td>Others</td>\n",
       "      <td>758.77</td>\n",
       "      <td>0.314099</td>\n",
       "    </tr>\n",
       "  </tbody>\n",
       "</table>\n",
       "</div>"
      ],
      "text/plain": [
       "     genre  eu_sales  market_share\n",
       "0   Action    517.58      0.214257\n",
       "1   Sports    375.60      0.155483\n",
       "2  Shooter    316.96      0.131208\n",
       "3   Racing    235.47      0.097475\n",
       "4     Misc    211.32      0.087478\n",
       "5   Others    758.77      0.314099"
      ]
     },
     "execution_count": 37,
     "metadata": {},
     "output_type": "execute_result"
    }
   ],
   "source": [
    "EU_genres = data[['eu_sales', 'genre']]\n",
    "EU_genres = EU_genres.groupby('genre')['eu_sales'].sum().sort_values(ascending=False).reset_index()\n",
    "EU_genres['market_share'] = EU_genres['eu_sales'] / EU_genres['eu_sales'].sum()\n",
    "\n",
    "#Creating a category called \"others\" to depict all the genres that are not the top 5\n",
    "others_eu = {'genre': 'Others', 'eu_sales': sum(EU_genres['eu_sales'].loc[5:12]), 'market_share':sum(EU_genres['market_share'].loc[5:12])}\n",
    "EU_genres.drop(EU_genres.index[5:12], inplace=True)\n",
    "EU_genres = EU_genres.append(others_eu, ignore_index=True)\n",
    "EU_genres"
   ]
  },
  {
   "cell_type": "code",
   "execution_count": 38,
   "metadata": {},
   "outputs": [
    {
     "data": {
      "text/plain": [
       "<AxesSubplot:title={'center':'Market share by genre - EU'}, ylabel='market_share'>"
      ]
     },
     "execution_count": 38,
     "metadata": {},
     "output_type": "execute_result"
    },
    {
     "data": {
      "image/png": "[encoded data removed]",
      "text/plain": [
       "<Figure size 720x432 with 1 Axes>"
      ]
     },
     "metadata": {},
     "output_type": "display_data"
    }
   ],
   "source": [
    "EU_genres.groupby(['genre']).sum().plot(kind='pie', y='market_share', autopct='%1.0f%%',\n",
    "                                colors = ['green', 'pink', 'steelblue', 'gray', 'lightblue', 'yellow'],\n",
    "                                title='Market share by genre - EU')"
   ]
  },
  {
   "cell_type": "code",
   "execution_count": 39,
   "metadata": {},
   "outputs": [
    {
     "data": {
      "text/html": [
       "<div>\n",
       "<style scoped>\n",
       "    .dataframe tbody tr th:only-of-type {\n",
       "        vertical-align: middle;\n",
       "    }\n",
       "\n",
       "    .dataframe tbody tr th {\n",
       "        vertical-align: top;\n",
       "    }\n",
       "\n",
       "    .dataframe thead th {\n",
       "        text-align: right;\n",
       "    }\n",
       "</style>\n",
       "<table border=\"1\" class=\"dataframe\">\n",
       "  <thead>\n",
       "    <tr style=\"text-align: right;\">\n",
       "      <th></th>\n",
       "      <th>genre</th>\n",
       "      <th>jp_sales</th>\n",
       "      <th>market_share</th>\n",
       "    </tr>\n",
       "  </thead>\n",
       "  <tbody>\n",
       "    <tr>\n",
       "      <th>0</th>\n",
       "      <td>Role-Playing</td>\n",
       "      <td>353.88</td>\n",
       "      <td>0.273782</td>\n",
       "    </tr>\n",
       "    <tr>\n",
       "      <th>1</th>\n",
       "      <td>Action</td>\n",
       "      <td>160.15</td>\n",
       "      <td>0.123901</td>\n",
       "    </tr>\n",
       "    <tr>\n",
       "      <th>2</th>\n",
       "      <td>Sports</td>\n",
       "      <td>135.27</td>\n",
       "      <td>0.104653</td>\n",
       "    </tr>\n",
       "    <tr>\n",
       "      <th>3</th>\n",
       "      <td>Platform</td>\n",
       "      <td>130.71</td>\n",
       "      <td>0.101125</td>\n",
       "    </tr>\n",
       "    <tr>\n",
       "      <th>4</th>\n",
       "      <td>Misc</td>\n",
       "      <td>108.04</td>\n",
       "      <td>0.083586</td>\n",
       "    </tr>\n",
       "    <tr>\n",
       "      <th>5</th>\n",
       "      <td>Others</td>\n",
       "      <td>404.51</td>\n",
       "      <td>0.312953</td>\n",
       "    </tr>\n",
       "  </tbody>\n",
       "</table>\n",
       "</div>"
      ],
      "text/plain": [
       "          genre  jp_sales  market_share\n",
       "0  Role-Playing    353.88      0.273782\n",
       "1        Action    160.15      0.123901\n",
       "2        Sports    135.27      0.104653\n",
       "3      Platform    130.71      0.101125\n",
       "4          Misc    108.04      0.083586\n",
       "5        Others    404.51      0.312953"
      ]
     },
     "execution_count": 39,
     "metadata": {},
     "output_type": "execute_result"
    }
   ],
   "source": [
    "JP_genres = data[['jp_sales', 'genre']]\n",
    "JP_genres = JP_genres.groupby('genre')['jp_sales'].sum().sort_values(ascending=False).reset_index()\n",
    "JP_genres['market_share'] = JP_genres['jp_sales'] / JP_genres['jp_sales'].sum()\n",
    "JP_genres\n",
    "\n",
    "#Creating a category called \"others\" to depict all the genres that are not the top 5\n",
    "others_jp = {'genre': 'Others', 'jp_sales': sum(JP_genres['jp_sales'].loc[5:12]), 'market_share':sum(JP_genres['market_share'].loc[5:12])}\n",
    "JP_genres.drop(JP_genres.index[5:12], inplace=True)\n",
    "JP_genres = JP_genres.append(others_jp, ignore_index=True)\n",
    "JP_genres"
   ]
  },
  {
   "cell_type": "code",
   "execution_count": 40,
   "metadata": {},
   "outputs": [
    {
     "data": {
      "text/plain": [
       "<AxesSubplot:title={'center':'Market share by genre - JP'}, ylabel='market_share'>"
      ]
     },
     "execution_count": 40,
     "metadata": {},
     "output_type": "execute_result"
    },
    {
     "data": {
      "image/png": "[encoded data removed]",
      "text/plain": [
       "<Figure size 720x432 with 1 Axes>"
      ]
     },
     "metadata": {},
     "output_type": "display_data"
    }
   ],
   "source": [
    "JP_genres.groupby(['genre']).sum().plot(kind='pie', y='market_share', autopct='%1.0f%%',\n",
    "                                colors = ['green', 'pink', 'steelblue', 'gray', 'lightblue', 'yellow'],\n",
    "                                title='Market share by genre - JP', normalize=False)"
   ]
  },
  {
   "cell_type": "markdown",
   "metadata": {},
   "source": [
    "**Conclusion**\n",
    "\n",
    "- The NA and EU markets are similar in their preferences: Action, Sports and Shooter take up about 50% of the market share in both regions\n",
    "- Japan's favorite genre is  Role-Playing with 27% of market share.\n",
    "\n"
   ]
  },
  {
   "cell_type": "code",
   "execution_count": 41,
   "metadata": {},
   "outputs": [],
   "source": [
    "# Do ESRB ratings affect sales in individual regions?\n",
    "\n",
    "# excluding all empty values in 'rating' column\n",
    "esrb = data[data['rating']!='']\n",
    "\n",
    "\n",
    "# Replacing 'esrb' categorical values with numerical for correlation analysis:\n",
    "\n",
    "# 'E' - 1 (everyone)\n",
    "# EC - 2 (early childhood)\n",
    "# 'K-A' - 3 (kids to adults)\n",
    "# 'E10+' - 4 (everyone 10 up)\n",
    "# 'T' - 5 (teen)\n",
    "# 'M' - 6 (mature)\n",
    "# AO - 7 (adults only)\n",
    "# RP - 8 (rating pending)\n",
    "\n",
    "pd.options.mode.chained_assignment = None \n",
    "esrb['rating'].replace(['E', 'EC', 'K-A', 'E10+', 'T', 'M', 'AO', 'RP'],[1,2,3,4,5,6,7,8], inplace=True)\n"
   ]
  },
  {
   "cell_type": "code",
   "execution_count": 42,
   "metadata": {},
   "outputs": [
    {
     "name": "stdout",
     "output_type": "stream",
     "text": [
      "0.01450207721497183\n",
      "0.028151843054372364\n",
      "-0.009921203207733036\n"
     ]
    }
   ],
   "source": [
    "print(esrb['na_sales'].corr(esrb['rating']))\n",
    "print(esrb['eu_sales'].corr(esrb['rating']))\n",
    "print(esrb['jp_sales'].corr(esrb['rating']))"
   ]
  },
  {
   "cell_type": "markdown",
   "metadata": {},
   "source": [
    "**Conclusion**\n",
    "\n",
    "ESRB ratings have a very low correlation with individual sales in each region.\n",
    "It seems these ratings have no effect on sales."
   ]
  },
  {
   "cell_type": "markdown",
   "metadata": {},
   "source": [
    "#### Step - Test the following hypotheses:\n",
    "\n",
    "- Average user ratings of the Xbox One and PC platforms are the same.\n",
    "- Average user ratings for the Action and Sports genres are different."
   ]
  },
  {
   "cell_type": "code",
   "execution_count": 43,
   "metadata": {},
   "outputs": [
    {
     "name": "stdout",
     "output_type": "stream",
     "text": [
      "Difference in variance between populations: -0.22953326195111529\n",
      "\n",
      "p-value: 1.215560381819851e-05 \n",
      "\n",
      "We reject the null hypothesis\n"
     ]
    }
   ],
   "source": [
    "# H0 - Average user ratings of the Xbox One and PC platforms are the same.\n",
    "# H1 - Average user ratings of the Xbox One and PC platforms are not the same.\n",
    "\n",
    "xone = data[(data['platform'] == 'XOne') & (data['user_score'].notna())][['user_score']]\n",
    "pc = data[(data['platform'] == 'PC') & (data['user_score'].notna())][['user_score']]\n",
    "\n",
    "# Checking whether the populations' variance is the same or not\n",
    "print('Difference in variance between populations:',(np.var(xone['user_score']) - np.var(pc['user_score']))/np.var(xone['user_score']))\n",
    "print()\n",
    "# Since the difference between populations' variance is larger than abs(5%), will consider them different\n",
    "\n",
    "# Creating equally sized samples\n",
    "sample_xone = xone['user_score'].sample(n=100, random_state=42)\n",
    "sample_pc = pc['user_score'].sample(n=100, random_state=42)\n",
    "\n",
    "alpha = 0.05\n",
    "\n",
    "results = st.ttest_ind(sample_xone, sample_pc, equal_var = False)\n",
    "\n",
    "print(f'p-value: {results.pvalue} \\n')\n",
    "if results.pvalue < alpha:\n",
    "    print(\"We reject the null hypothesis\")\n",
    "else:\n",
    "    print(\"We can't reject the null hypothesis\")\n"
   ]
  },
  {
   "cell_type": "markdown",
   "metadata": {},
   "source": [
    "**Conclusion**\n",
    "\n",
    "Average user ratings of the Xbox One and PC platforms are not the same."
   ]
  },
  {
   "cell_type": "code",
   "execution_count": 44,
   "metadata": {},
   "outputs": [
    {
     "name": "stdout",
     "output_type": "stream",
     "text": [
      "Difference in variance between populations: -0.284259547947095\n",
      "p-value: 0.3807479633922145 \n",
      "\n",
      "\n",
      "We can't reject the null hypothesis\n"
     ]
    }
   ],
   "source": [
    "# Average user ratings for the Action and Sports genres are different.\n",
    "\n",
    "# H0 - Average user ratings for the Action and Sports genres are the same.\n",
    "# H1 - Average user ratings for the Action and Sports genres are different.\n",
    "\n",
    "action = data[(data['genre'] == 'Action') & (data['user_score'].notna())][['user_score']]\n",
    "sports = data[(data['genre'] == 'Sports') & (data['user_score'].notna())][['user_score']]\n",
    "\n",
    "\n",
    "# Checking whether the populations' variance is the same or not\n",
    "\n",
    "print('Difference in variance between populations:', (np.var(action['user_score']) - np.var(sports['user_score']))/np.var(action['user_score']))\n",
    "# Since the difference between populations' variance is larger than abs(5%), will consider them different\n",
    "\n",
    "# Creating equally sized samples\n",
    "sample_action = action['user_score'].sample(n=100, random_state=42)\n",
    "sample_sports = sports['user_score'].sample(n=100, random_state=42)\n",
    "\n",
    "alpha = 0.05\n",
    "\n",
    "results = st.ttest_ind(sample_action, sample_sports, equal_var = False)\n",
    "\n",
    "print(f'p-value: {results.pvalue} \\n')\n",
    "print()\n",
    "if results.pvalue < alpha:\n",
    "    print(\"We reject the null hypothesis\")\n",
    "else:\n",
    "    print(\"We can't reject the null hypothesis\")\n",
    "\n"
   ]
  },
  {
   "cell_type": "markdown",
   "metadata": {},
   "source": [
    "**Conclusion**\n",
    "\n",
    "- It seems that in fact, the average user ratings for the Action and Sports genres may be the same.\n",
    "- The p-value tells us that there is a 68% probability of randomly getting equal user ratings for action and sports games."
   ]
  },
  {
   "cell_type": "markdown",
   "metadata": {},
   "source": [
    "#### General Conclusions\n",
    "\n",
    "\n",
    "- When deciding which games to focus on, no need to pay attention to user_score so much.\n",
    "- Critic scores can guide decisions to some extent, not 100%, but more than user ratings \n",
    "- ESRB ratings have a very low correlation with individual sales in each region.\n",
    "\n",
    "- Shooter, action and sports are the most sold genres\n",
    "- Puzzle, strategy and simulation are the least selling genres\n",
    "\n",
    "- Purchase games belonging to the most popular platforms as of now (2016): X360, PS3, Wii, PS4, PC\n",
    "\n",
    "**Most Sold Games per Region**:\n",
    "\n",
    "- NA: Wii Sports, Super Mario Bros., Duck Hunt, Tetris, Grand Theft Auto.\n",
    "- EU: Wii Sports, Grand Theft Auto, Mario Kart Wii, FIFA, Call of Duty: Modern Warfare\n",
    "- JP: Pokemon Red/Pokemon Blue, Pokemon Gold/Pokemon Silver, Super Mario Bros., New Super Mario Bros., Pokemon Diamond/Pokemon Pearl"
   ]
  }
 ],
 "metadata": {
  "ExecuteTimeLog": [
   {
    "duration": 9,
    "start_time": "2022-08-29T13:16:17.669Z"
   },
   {
    "duration": 95,
    "start_time": "2022-08-29T13:16:24.390Z"
   },
   {
    "duration": 55,
    "start_time": "2022-08-29T14:20:15.878Z"
   },
   {
    "duration": 6,
    "start_time": "2022-08-29T14:20:18.643Z"
   },
   {
    "duration": 498,
    "start_time": "2022-08-29T14:20:26.860Z"
   },
   {
    "duration": 27,
    "start_time": "2022-08-29T14:20:27.919Z"
   },
   {
    "duration": 47,
    "start_time": "2022-08-30T04:49:25.841Z"
   },
   {
    "duration": 471,
    "start_time": "2022-08-30T04:49:28.046Z"
   },
   {
    "duration": 23,
    "start_time": "2022-08-30T04:49:29.009Z"
   },
   {
    "duration": 41,
    "start_time": "2022-08-30T04:49:32.832Z"
   },
   {
    "duration": 3,
    "start_time": "2022-08-30T04:52:33.476Z"
   },
   {
    "duration": 12,
    "start_time": "2022-08-30T04:52:39.486Z"
   },
   {
    "duration": 12,
    "start_time": "2022-08-30T04:52:46.070Z"
   },
   {
    "duration": 2,
    "start_time": "2022-08-30T04:53:38.597Z"
   },
   {
    "duration": 2,
    "start_time": "2022-08-30T04:54:11.121Z"
   },
   {
    "duration": 2,
    "start_time": "2022-08-30T04:54:33.972Z"
   },
   {
    "duration": 13,
    "start_time": "2022-08-30T04:54:59.364Z"
   },
   {
    "duration": 10,
    "start_time": "2022-08-30T04:56:23.474Z"
   },
   {
    "duration": 35,
    "start_time": "2022-08-30T04:57:13.301Z"
   },
   {
    "duration": 40,
    "start_time": "2022-08-30T05:21:54.600Z"
   },
   {
    "duration": 12,
    "start_time": "2022-08-30T05:23:32.228Z"
   },
   {
    "duration": 6,
    "start_time": "2022-08-30T05:24:39.101Z"
   },
   {
    "duration": 21,
    "start_time": "2022-08-30T05:37:26.042Z"
   },
   {
    "duration": 24,
    "start_time": "2022-08-30T05:38:48.390Z"
   },
   {
    "duration": 39,
    "start_time": "2022-08-30T05:38:55.250Z"
   },
   {
    "duration": 27,
    "start_time": "2022-08-30T05:39:49.123Z"
   },
   {
    "duration": 26,
    "start_time": "2022-08-30T05:39:53.669Z"
   },
   {
    "duration": 8,
    "start_time": "2022-08-30T05:40:38.589Z"
   },
   {
    "duration": 16,
    "start_time": "2022-08-30T05:43:25.199Z"
   },
   {
    "duration": 34,
    "start_time": "2022-08-30T05:43:32.778Z"
   },
   {
    "duration": 132,
    "start_time": "2022-08-30T05:45:09.268Z"
   },
   {
    "duration": 48,
    "start_time": "2022-08-30T05:45:20.670Z"
   },
   {
    "duration": 127,
    "start_time": "2022-08-30T05:45:45.688Z"
   },
   {
    "duration": 27,
    "start_time": "2022-08-30T05:45:53.439Z"
   },
   {
    "duration": 63,
    "start_time": "2022-08-30T05:46:01.950Z"
   },
   {
    "duration": 41,
    "start_time": "2022-08-30T05:46:06.548Z"
   },
   {
    "duration": 12,
    "start_time": "2022-08-30T05:46:18.138Z"
   },
   {
    "duration": 31,
    "start_time": "2022-08-30T05:46:37.252Z"
   },
   {
    "duration": 11,
    "start_time": "2022-08-30T05:47:10.215Z"
   },
   {
    "duration": 28,
    "start_time": "2022-08-30T05:47:44.478Z"
   },
   {
    "duration": 17,
    "start_time": "2022-08-30T05:49:34.724Z"
   },
   {
    "duration": 16,
    "start_time": "2022-08-30T05:50:56.008Z"
   },
   {
    "duration": 19,
    "start_time": "2022-08-30T05:51:39.729Z"
   },
   {
    "duration": 26,
    "start_time": "2022-08-30T05:51:47.370Z"
   },
   {
    "duration": 32,
    "start_time": "2022-08-30T05:52:21.135Z"
   },
   {
    "duration": 19,
    "start_time": "2022-08-30T05:53:03.630Z"
   },
   {
    "duration": 38,
    "start_time": "2022-08-30T05:53:09.158Z"
   },
   {
    "duration": 21,
    "start_time": "2022-08-30T05:53:17.540Z"
   },
   {
    "duration": 29,
    "start_time": "2022-08-30T05:53:21.259Z"
   },
   {
    "duration": 30,
    "start_time": "2022-08-30T05:53:49.419Z"
   },
   {
    "duration": 36,
    "start_time": "2022-08-30T05:56:26.028Z"
   },
   {
    "duration": 18,
    "start_time": "2022-08-30T06:03:14.127Z"
   },
   {
    "duration": 28,
    "start_time": "2022-08-30T06:03:20.362Z"
   },
   {
    "duration": 27,
    "start_time": "2022-08-30T06:03:46.632Z"
   },
   {
    "duration": 23,
    "start_time": "2022-08-30T06:04:00.910Z"
   },
   {
    "duration": 10,
    "start_time": "2022-08-30T06:05:07.085Z"
   },
   {
    "duration": 26,
    "start_time": "2022-08-30T06:06:23.689Z"
   },
   {
    "duration": 32,
    "start_time": "2022-08-30T06:06:28.064Z"
   },
   {
    "duration": 18,
    "start_time": "2022-08-30T06:07:21.590Z"
   },
   {
    "duration": 40,
    "start_time": "2022-08-30T06:08:09.540Z"
   },
   {
    "duration": 45,
    "start_time": "2022-08-30T06:10:11.786Z"
   },
   {
    "duration": 40,
    "start_time": "2022-08-30T06:10:21.478Z"
   },
   {
    "duration": 48,
    "start_time": "2022-08-30T06:11:37.063Z"
   },
   {
    "duration": 39,
    "start_time": "2022-08-30T06:12:27.824Z"
   },
   {
    "duration": 32,
    "start_time": "2022-08-30T06:24:27.486Z"
   },
   {
    "duration": 36,
    "start_time": "2022-08-30T06:24:38.462Z"
   },
   {
    "duration": 36,
    "start_time": "2022-08-30T06:26:01.755Z"
   },
   {
    "duration": 27,
    "start_time": "2022-08-30T06:26:09.563Z"
   },
   {
    "duration": 28,
    "start_time": "2022-08-30T06:26:39.509Z"
   },
   {
    "duration": 35,
    "start_time": "2022-08-30T06:26:52.283Z"
   },
   {
    "duration": 30,
    "start_time": "2022-08-30T06:26:55.218Z"
   },
   {
    "duration": 26,
    "start_time": "2022-08-30T06:26:57.281Z"
   },
   {
    "duration": 28,
    "start_time": "2022-08-30T06:26:57.798Z"
   },
   {
    "duration": 33,
    "start_time": "2022-08-30T06:26:58.252Z"
   },
   {
    "duration": 27,
    "start_time": "2022-08-30T06:26:58.721Z"
   },
   {
    "duration": 407,
    "start_time": "2022-08-30T06:27:04.730Z"
   },
   {
    "duration": 17,
    "start_time": "2022-08-30T06:27:05.140Z"
   },
   {
    "duration": 26,
    "start_time": "2022-08-30T06:27:05.160Z"
   },
   {
    "duration": 43,
    "start_time": "2022-08-30T06:27:05.188Z"
   },
   {
    "duration": 40,
    "start_time": "2022-08-30T06:27:05.233Z"
   },
   {
    "duration": 46,
    "start_time": "2022-08-30T06:27:05.275Z"
   },
   {
    "duration": 68,
    "start_time": "2022-08-30T06:27:57.837Z"
   },
   {
    "duration": 11,
    "start_time": "2022-08-30T06:28:00.703Z"
   },
   {
    "duration": 13,
    "start_time": "2022-08-30T06:29:59.866Z"
   },
   {
    "duration": 13,
    "start_time": "2022-08-30T06:30:09.016Z"
   },
   {
    "duration": 440,
    "start_time": "2022-08-30T06:30:18.605Z"
   },
   {
    "duration": 14,
    "start_time": "2022-08-30T06:30:19.047Z"
   },
   {
    "duration": 5,
    "start_time": "2022-08-30T06:30:19.063Z"
   },
   {
    "duration": 20,
    "start_time": "2022-08-30T06:30:19.069Z"
   },
   {
    "duration": 13,
    "start_time": "2022-08-30T06:30:19.091Z"
   },
   {
    "duration": 37,
    "start_time": "2022-08-30T06:30:19.105Z"
   },
   {
    "duration": 17,
    "start_time": "2022-08-30T06:30:40.160Z"
   },
   {
    "duration": 14,
    "start_time": "2022-08-30T06:31:04.361Z"
   },
   {
    "duration": 14,
    "start_time": "2022-08-30T06:31:08.268Z"
   },
   {
    "duration": 446,
    "start_time": "2022-08-30T06:31:17.006Z"
   },
   {
    "duration": 13,
    "start_time": "2022-08-30T06:31:17.454Z"
   },
   {
    "duration": 7,
    "start_time": "2022-08-30T06:31:17.469Z"
   },
   {
    "duration": 20,
    "start_time": "2022-08-30T06:31:17.477Z"
   },
   {
    "duration": 14,
    "start_time": "2022-08-30T06:31:17.500Z"
   },
   {
    "duration": 39,
    "start_time": "2022-08-30T06:31:17.517Z"
   },
   {
    "duration": 6,
    "start_time": "2022-08-30T06:31:33.302Z"
   },
   {
    "duration": 19,
    "start_time": "2022-08-30T06:32:43.517Z"
   },
   {
    "duration": 33,
    "start_time": "2022-08-30T06:33:34.736Z"
   },
   {
    "duration": 66,
    "start_time": "2022-08-30T06:35:36.619Z"
   },
   {
    "duration": 52,
    "start_time": "2022-08-30T06:36:02.228Z"
   },
   {
    "duration": 945,
    "start_time": "2022-08-30T06:36:05.869Z"
   },
   {
    "duration": 50,
    "start_time": "2022-08-30T06:36:29.243Z"
   },
   {
    "duration": 13,
    "start_time": "2022-08-30T06:36:29.295Z"
   },
   {
    "duration": 3,
    "start_time": "2022-08-30T06:36:29.310Z"
   },
   {
    "duration": 16,
    "start_time": "2022-08-30T06:36:29.314Z"
   },
   {
    "duration": 6,
    "start_time": "2022-08-30T06:36:29.332Z"
   },
   {
    "duration": 60,
    "start_time": "2022-08-30T06:36:29.339Z"
   },
   {
    "duration": 12,
    "start_time": "2022-08-30T06:36:41.326Z"
   },
   {
    "duration": 39,
    "start_time": "2022-08-30T06:37:09.035Z"
   },
   {
    "duration": 15,
    "start_time": "2022-08-30T06:37:19.307Z"
   },
   {
    "duration": 9,
    "start_time": "2022-08-30T06:40:40.544Z"
   },
   {
    "duration": 14,
    "start_time": "2022-08-30T06:40:45.669Z"
   },
   {
    "duration": 15,
    "start_time": "2022-08-30T06:40:55.166Z"
   },
   {
    "duration": 13,
    "start_time": "2022-08-30T06:40:57.415Z"
   },
   {
    "duration": 421,
    "start_time": "2022-08-30T06:41:07.632Z"
   },
   {
    "duration": 12,
    "start_time": "2022-08-30T06:41:08.055Z"
   },
   {
    "duration": 6,
    "start_time": "2022-08-30T06:41:08.069Z"
   },
   {
    "duration": 20,
    "start_time": "2022-08-30T06:41:08.076Z"
   },
   {
    "duration": 21,
    "start_time": "2022-08-30T06:41:08.104Z"
   },
   {
    "duration": 36,
    "start_time": "2022-08-30T06:41:08.126Z"
   },
   {
    "duration": 19,
    "start_time": "2022-08-30T06:41:17.553Z"
   },
   {
    "duration": 5,
    "start_time": "2022-08-30T06:44:57.091Z"
   },
   {
    "duration": 79,
    "start_time": "2022-08-30T06:46:39.753Z"
   },
   {
    "duration": 14,
    "start_time": "2022-08-30T06:47:52.227Z"
   },
   {
    "duration": 19,
    "start_time": "2022-08-30T06:50:34.164Z"
   },
   {
    "duration": 6,
    "start_time": "2022-08-30T06:53:34.635Z"
   },
   {
    "duration": 24,
    "start_time": "2022-08-30T06:53:48.614Z"
   },
   {
    "duration": 7,
    "start_time": "2022-08-30T06:54:01.049Z"
   },
   {
    "duration": 20,
    "start_time": "2022-08-30T06:54:06.781Z"
   },
   {
    "duration": 10,
    "start_time": "2022-08-30T06:54:38.868Z"
   },
   {
    "duration": 13,
    "start_time": "2022-08-30T06:54:57.690Z"
   },
   {
    "duration": 5,
    "start_time": "2022-08-30T06:56:25.256Z"
   },
   {
    "duration": 5,
    "start_time": "2022-08-30T06:56:27.392Z"
   },
   {
    "duration": 28,
    "start_time": "2022-08-30T06:56:38.405Z"
   },
   {
    "duration": 26,
    "start_time": "2022-08-30T06:57:35.317Z"
   },
   {
    "duration": 30,
    "start_time": "2022-08-30T06:58:16.388Z"
   },
   {
    "duration": 29,
    "start_time": "2022-08-30T06:58:53.785Z"
   },
   {
    "duration": 22,
    "start_time": "2022-08-30T07:00:52.307Z"
   },
   {
    "duration": 31,
    "start_time": "2022-08-30T07:00:58.175Z"
   },
   {
    "duration": 23,
    "start_time": "2022-08-30T07:01:09.153Z"
   },
   {
    "duration": 464,
    "start_time": "2022-08-30T07:01:29.669Z"
   },
   {
    "duration": 14,
    "start_time": "2022-08-30T07:01:30.135Z"
   },
   {
    "duration": 3,
    "start_time": "2022-08-30T07:01:30.150Z"
   },
   {
    "duration": 21,
    "start_time": "2022-08-30T07:01:30.154Z"
   },
   {
    "duration": 28,
    "start_time": "2022-08-30T07:01:30.177Z"
   },
   {
    "duration": 23,
    "start_time": "2022-08-30T07:01:30.207Z"
   },
   {
    "duration": 42,
    "start_time": "2022-08-30T07:01:30.231Z"
   },
   {
    "duration": 32,
    "start_time": "2022-08-30T07:01:49.258Z"
   },
   {
    "duration": 23,
    "start_time": "2022-08-30T07:01:54.128Z"
   },
   {
    "duration": 22,
    "start_time": "2022-08-30T07:01:54.828Z"
   },
   {
    "duration": 23,
    "start_time": "2022-08-30T07:01:55.469Z"
   },
   {
    "duration": 39,
    "start_time": "2022-08-30T07:03:01.418Z"
   },
   {
    "duration": 46,
    "start_time": "2022-08-30T07:05:41.550Z"
   },
   {
    "duration": 30,
    "start_time": "2022-08-30T07:05:48.650Z"
   },
   {
    "duration": 1187,
    "start_time": "2022-08-30T07:05:57.966Z"
   },
   {
    "duration": 25,
    "start_time": "2022-08-30T07:06:06.172Z"
   },
   {
    "duration": 31,
    "start_time": "2022-08-30T07:06:15.150Z"
   },
   {
    "duration": 8,
    "start_time": "2022-08-30T07:06:23.893Z"
   },
   {
    "duration": 14,
    "start_time": "2022-08-30T07:06:44.264Z"
   },
   {
    "duration": 13,
    "start_time": "2022-08-30T07:06:55.458Z"
   },
   {
    "duration": 12,
    "start_time": "2022-08-30T07:07:09.666Z"
   },
   {
    "duration": 31,
    "start_time": "2022-08-30T07:07:31.471Z"
   },
   {
    "duration": 30,
    "start_time": "2022-08-30T07:07:45.413Z"
   },
   {
    "duration": 30,
    "start_time": "2022-08-30T07:07:49.178Z"
   },
   {
    "duration": 463,
    "start_time": "2022-08-30T07:08:03.175Z"
   },
   {
    "duration": 14,
    "start_time": "2022-08-30T07:08:03.640Z"
   },
   {
    "duration": 9,
    "start_time": "2022-08-30T07:08:03.655Z"
   },
   {
    "duration": 55,
    "start_time": "2022-08-30T07:08:03.666Z"
   },
   {
    "duration": 36,
    "start_time": "2022-08-30T07:08:03.723Z"
   },
   {
    "duration": 31,
    "start_time": "2022-08-30T07:08:03.761Z"
   },
   {
    "duration": 13,
    "start_time": "2022-08-30T07:08:03.793Z"
   },
   {
    "duration": 56,
    "start_time": "2022-08-30T07:08:03.807Z"
   },
   {
    "duration": 25,
    "start_time": "2022-08-30T07:08:19.836Z"
   },
   {
    "duration": 27,
    "start_time": "2022-08-30T07:08:21.908Z"
   },
   {
    "duration": 443,
    "start_time": "2022-08-30T07:08:41.138Z"
   },
   {
    "duration": 14,
    "start_time": "2022-08-30T07:08:41.583Z"
   },
   {
    "duration": 11,
    "start_time": "2022-08-30T07:08:41.598Z"
   },
   {
    "duration": 23,
    "start_time": "2022-08-30T07:08:41.611Z"
   },
   {
    "duration": 20,
    "start_time": "2022-08-30T07:08:41.637Z"
   },
   {
    "duration": 40,
    "start_time": "2022-08-30T07:08:41.659Z"
   },
   {
    "duration": 14,
    "start_time": "2022-08-30T07:08:41.701Z"
   },
   {
    "duration": 46,
    "start_time": "2022-08-30T07:08:41.716Z"
   },
   {
    "duration": 440,
    "start_time": "2022-08-30T07:08:49.619Z"
   },
   {
    "duration": 13,
    "start_time": "2022-08-30T07:08:50.061Z"
   },
   {
    "duration": 4,
    "start_time": "2022-08-30T07:08:50.075Z"
   },
   {
    "duration": 19,
    "start_time": "2022-08-30T07:08:50.081Z"
   },
   {
    "duration": 18,
    "start_time": "2022-08-30T07:08:50.102Z"
   },
   {
    "duration": 25,
    "start_time": "2022-08-30T07:08:50.122Z"
   },
   {
    "duration": 12,
    "start_time": "2022-08-30T07:08:50.148Z"
   },
   {
    "duration": 74,
    "start_time": "2022-08-30T07:08:50.162Z"
   },
   {
    "duration": 24,
    "start_time": "2022-08-30T07:09:02.490Z"
   },
   {
    "duration": 29,
    "start_time": "2022-08-30T07:09:04.559Z"
   },
   {
    "duration": 31,
    "start_time": "2022-08-30T07:09:24.883Z"
   },
   {
    "duration": 28,
    "start_time": "2022-08-30T07:09:30.743Z"
   },
   {
    "duration": 30,
    "start_time": "2022-08-30T07:12:04.578Z"
   },
   {
    "duration": 7,
    "start_time": "2022-08-30T07:14:48.373Z"
   },
   {
    "duration": 29,
    "start_time": "2022-08-30T07:15:06.440Z"
   },
   {
    "duration": 36,
    "start_time": "2022-08-30T07:15:10.929Z"
   },
   {
    "duration": 27,
    "start_time": "2022-08-30T07:15:52.474Z"
   },
   {
    "duration": 68,
    "start_time": "2022-08-30T07:16:29.254Z"
   },
   {
    "duration": 10,
    "start_time": "2022-08-30T07:16:56.082Z"
   },
   {
    "duration": 11,
    "start_time": "2022-08-30T07:16:58.220Z"
   },
   {
    "duration": 446,
    "start_time": "2022-08-30T07:17:16.643Z"
   },
   {
    "duration": 14,
    "start_time": "2022-08-30T07:17:17.091Z"
   },
   {
    "duration": 4,
    "start_time": "2022-08-30T07:17:17.106Z"
   },
   {
    "duration": 23,
    "start_time": "2022-08-30T07:17:17.111Z"
   },
   {
    "duration": 21,
    "start_time": "2022-08-30T07:17:17.136Z"
   },
   {
    "duration": 48,
    "start_time": "2022-08-30T07:17:17.158Z"
   },
   {
    "duration": 25,
    "start_time": "2022-08-30T07:17:17.207Z"
   },
   {
    "duration": 45,
    "start_time": "2022-08-30T07:17:17.234Z"
   },
   {
    "duration": 25,
    "start_time": "2022-08-30T07:17:32.510Z"
   },
   {
    "duration": 31,
    "start_time": "2022-08-30T07:17:44.885Z"
   },
   {
    "duration": 23,
    "start_time": "2022-08-30T07:17:55.779Z"
   },
   {
    "duration": 17,
    "start_time": "2022-08-30T07:18:03.537Z"
   },
   {
    "duration": 19,
    "start_time": "2022-08-30T07:18:39.363Z"
   },
   {
    "duration": 21,
    "start_time": "2022-08-30T07:18:40.495Z"
   },
   {
    "duration": 18,
    "start_time": "2022-08-30T07:18:44.749Z"
   },
   {
    "duration": 18,
    "start_time": "2022-08-30T07:19:03.666Z"
   },
   {
    "duration": 26,
    "start_time": "2022-08-30T07:19:07.415Z"
   },
   {
    "duration": 30,
    "start_time": "2022-08-30T07:19:24.762Z"
   },
   {
    "duration": 47,
    "start_time": "2022-08-30T07:20:03.936Z"
   },
   {
    "duration": 42,
    "start_time": "2022-08-30T07:20:07.734Z"
   },
   {
    "duration": 47,
    "start_time": "2022-08-30T07:20:14.950Z"
   },
   {
    "duration": 43,
    "start_time": "2022-08-30T07:20:32.560Z"
   },
   {
    "duration": 22,
    "start_time": "2022-08-30T07:21:04.884Z"
   },
   {
    "duration": 28,
    "start_time": "2022-08-30T07:21:14.128Z"
   },
   {
    "duration": 33,
    "start_time": "2022-08-30T07:22:27.785Z"
   },
   {
    "duration": 28,
    "start_time": "2022-08-30T07:22:30.962Z"
   },
   {
    "duration": 26,
    "start_time": "2022-08-30T07:22:32.750Z"
   },
   {
    "duration": 388,
    "start_time": "2022-08-30T07:22:37.253Z"
   },
   {
    "duration": 14,
    "start_time": "2022-08-30T07:22:37.642Z"
   },
   {
    "duration": 2,
    "start_time": "2022-08-30T07:22:37.658Z"
   },
   {
    "duration": 24,
    "start_time": "2022-08-30T07:22:37.662Z"
   },
   {
    "duration": 25,
    "start_time": "2022-08-30T07:22:37.687Z"
   },
   {
    "duration": 27,
    "start_time": "2022-08-30T07:22:37.714Z"
   },
   {
    "duration": 25,
    "start_time": "2022-08-30T07:22:37.742Z"
   },
   {
    "duration": 66,
    "start_time": "2022-08-30T07:22:37.768Z"
   },
   {
    "duration": 27,
    "start_time": "2022-08-30T07:22:48.571Z"
   },
   {
    "duration": 28,
    "start_time": "2022-08-30T07:22:54.293Z"
   },
   {
    "duration": 443,
    "start_time": "2022-08-30T07:23:05.341Z"
   },
   {
    "duration": 13,
    "start_time": "2022-08-30T07:23:05.786Z"
   },
   {
    "duration": 3,
    "start_time": "2022-08-30T07:23:05.801Z"
   },
   {
    "duration": 19,
    "start_time": "2022-08-30T07:23:05.806Z"
   },
   {
    "duration": 19,
    "start_time": "2022-08-30T07:23:05.827Z"
   },
   {
    "duration": 56,
    "start_time": "2022-08-30T07:23:05.848Z"
   },
   {
    "duration": 27,
    "start_time": "2022-08-30T07:23:05.906Z"
   },
   {
    "duration": 45,
    "start_time": "2022-08-30T07:23:05.935Z"
   },
   {
    "duration": 24,
    "start_time": "2022-08-30T07:23:18.266Z"
   },
   {
    "duration": 25,
    "start_time": "2022-08-30T07:24:01.680Z"
   },
   {
    "duration": 26,
    "start_time": "2022-08-30T07:24:06.035Z"
   },
   {
    "duration": 459,
    "start_time": "2022-08-30T07:24:11.115Z"
   },
   {
    "duration": 13,
    "start_time": "2022-08-30T07:24:11.576Z"
   },
   {
    "duration": 6,
    "start_time": "2022-08-30T07:24:11.591Z"
   },
   {
    "duration": 22,
    "start_time": "2022-08-30T07:24:11.599Z"
   },
   {
    "duration": 19,
    "start_time": "2022-08-30T07:24:11.623Z"
   },
   {
    "duration": 27,
    "start_time": "2022-08-30T07:24:11.644Z"
   },
   {
    "duration": 40,
    "start_time": "2022-08-30T07:24:11.672Z"
   },
   {
    "duration": 67,
    "start_time": "2022-08-30T07:24:11.714Z"
   },
   {
    "duration": 27,
    "start_time": "2022-08-30T07:24:25.359Z"
   },
   {
    "duration": 26,
    "start_time": "2022-08-30T07:24:26.951Z"
   },
   {
    "duration": 431,
    "start_time": "2022-08-30T07:24:32.212Z"
   },
   {
    "duration": 12,
    "start_time": "2022-08-30T07:24:32.645Z"
   },
   {
    "duration": 3,
    "start_time": "2022-08-30T07:24:32.659Z"
   },
   {
    "duration": 21,
    "start_time": "2022-08-30T07:24:32.663Z"
   },
   {
    "duration": 24,
    "start_time": "2022-08-30T07:24:32.687Z"
   },
   {
    "duration": 27,
    "start_time": "2022-08-30T07:24:32.712Z"
   },
   {
    "duration": 25,
    "start_time": "2022-08-30T07:24:32.741Z"
   },
   {
    "duration": 57,
    "start_time": "2022-08-30T07:24:32.768Z"
   },
   {
    "duration": 73,
    "start_time": "2022-08-30T07:24:45.537Z"
   },
   {
    "duration": 27,
    "start_time": "2022-08-30T07:24:48.357Z"
   },
   {
    "duration": 26,
    "start_time": "2022-08-30T07:24:56.011Z"
   },
   {
    "duration": 27,
    "start_time": "2022-08-30T07:40:36.070Z"
   },
   {
    "duration": 40,
    "start_time": "2022-08-30T07:41:38.549Z"
   },
   {
    "duration": 428,
    "start_time": "2022-08-30T07:41:45.918Z"
   },
   {
    "duration": 13,
    "start_time": "2022-08-30T07:41:46.348Z"
   },
   {
    "duration": 3,
    "start_time": "2022-08-30T07:41:46.363Z"
   },
   {
    "duration": 20,
    "start_time": "2022-08-30T07:41:46.368Z"
   },
   {
    "duration": 36,
    "start_time": "2022-08-30T07:41:46.389Z"
   },
   {
    "duration": 24,
    "start_time": "2022-08-30T07:41:46.427Z"
   },
   {
    "duration": 60,
    "start_time": "2022-08-30T07:41:46.452Z"
   },
   {
    "duration": 30,
    "start_time": "2022-08-30T07:42:58.314Z"
   },
   {
    "duration": 430,
    "start_time": "2022-08-30T07:43:07.242Z"
   },
   {
    "duration": 15,
    "start_time": "2022-08-30T07:43:07.674Z"
   },
   {
    "duration": 13,
    "start_time": "2022-08-30T07:43:07.691Z"
   },
   {
    "duration": 26,
    "start_time": "2022-08-30T07:43:07.706Z"
   },
   {
    "duration": 48,
    "start_time": "2022-08-30T07:43:07.735Z"
   },
   {
    "duration": 27,
    "start_time": "2022-08-30T07:43:07.785Z"
   },
   {
    "duration": 38,
    "start_time": "2022-08-30T07:43:07.813Z"
   },
   {
    "duration": 29,
    "start_time": "2022-08-30T07:43:19.114Z"
   },
   {
    "duration": 447,
    "start_time": "2022-08-30T07:43:27.114Z"
   },
   {
    "duration": 13,
    "start_time": "2022-08-30T07:43:27.563Z"
   },
   {
    "duration": 6,
    "start_time": "2022-08-30T07:43:27.577Z"
   },
   {
    "duration": 20,
    "start_time": "2022-08-30T07:43:27.584Z"
   },
   {
    "duration": 34,
    "start_time": "2022-08-30T07:43:27.605Z"
   },
   {
    "duration": 29,
    "start_time": "2022-08-30T07:43:27.641Z"
   },
   {
    "duration": 62,
    "start_time": "2022-08-30T07:43:27.671Z"
   },
   {
    "duration": 33,
    "start_time": "2022-08-30T07:43:54.638Z"
   },
   {
    "duration": 29,
    "start_time": "2022-08-30T07:44:01.463Z"
   },
   {
    "duration": 30,
    "start_time": "2022-08-30T07:44:09.299Z"
   },
   {
    "duration": 29,
    "start_time": "2022-08-30T07:44:24.714Z"
   },
   {
    "duration": 31,
    "start_time": "2022-08-30T07:56:14.571Z"
   },
   {
    "duration": 29,
    "start_time": "2022-08-30T07:57:44.077Z"
   },
   {
    "duration": 28,
    "start_time": "2022-08-30T07:57:46.869Z"
   },
   {
    "duration": 455,
    "start_time": "2022-08-30T07:57:54.545Z"
   },
   {
    "duration": 12,
    "start_time": "2022-08-30T07:57:55.003Z"
   },
   {
    "duration": 2,
    "start_time": "2022-08-30T07:57:55.017Z"
   },
   {
    "duration": 21,
    "start_time": "2022-08-30T07:57:55.021Z"
   },
   {
    "duration": 62,
    "start_time": "2022-08-30T07:57:55.044Z"
   },
   {
    "duration": 28,
    "start_time": "2022-08-30T07:57:55.107Z"
   },
   {
    "duration": 34,
    "start_time": "2022-08-30T07:57:55.136Z"
   },
   {
    "duration": 65,
    "start_time": "2022-08-30T07:58:18.887Z"
   },
   {
    "duration": 8,
    "start_time": "2022-08-30T07:58:26.959Z"
   },
   {
    "duration": 484,
    "start_time": "2022-08-30T07:58:45.220Z"
   },
   {
    "duration": 13,
    "start_time": "2022-08-30T07:58:45.707Z"
   },
   {
    "duration": 2,
    "start_time": "2022-08-30T07:58:45.722Z"
   },
   {
    "duration": 22,
    "start_time": "2022-08-30T07:58:45.726Z"
   },
   {
    "duration": 59,
    "start_time": "2022-08-30T07:58:45.750Z"
   },
   {
    "duration": 28,
    "start_time": "2022-08-30T07:58:45.811Z"
   },
   {
    "duration": 88,
    "start_time": "2022-08-30T07:58:45.841Z"
   },
   {
    "duration": 142,
    "start_time": "2022-08-30T07:59:02.813Z"
   },
   {
    "duration": 96,
    "start_time": "2022-08-30T07:59:08.494Z"
   },
   {
    "duration": 25,
    "start_time": "2022-08-30T07:59:33.185Z"
   },
   {
    "duration": 24,
    "start_time": "2022-08-30T07:59:36.561Z"
   },
   {
    "duration": 29,
    "start_time": "2022-08-30T08:00:27.822Z"
   },
   {
    "duration": 26,
    "start_time": "2022-08-30T08:00:34.651Z"
   },
   {
    "duration": 33,
    "start_time": "2022-08-30T08:00:37.917Z"
   },
   {
    "duration": 29,
    "start_time": "2022-08-30T08:00:38.926Z"
   },
   {
    "duration": 443,
    "start_time": "2022-08-30T08:00:47.939Z"
   },
   {
    "duration": 16,
    "start_time": "2022-08-30T08:00:48.385Z"
   },
   {
    "duration": 6,
    "start_time": "2022-08-30T08:00:48.402Z"
   },
   {
    "duration": 24,
    "start_time": "2022-08-30T08:00:48.410Z"
   },
   {
    "duration": 32,
    "start_time": "2022-08-30T08:00:48.436Z"
   },
   {
    "duration": 61,
    "start_time": "2022-08-30T08:00:48.469Z"
   },
   {
    "duration": 25,
    "start_time": "2022-08-30T08:00:48.531Z"
   },
   {
    "duration": 47,
    "start_time": "2022-08-30T08:01:34.694Z"
   },
   {
    "duration": 29,
    "start_time": "2022-08-30T08:01:41.277Z"
   },
   {
    "duration": 423,
    "start_time": "2022-08-30T08:01:48.215Z"
   },
   {
    "duration": 12,
    "start_time": "2022-08-30T08:01:48.640Z"
   },
   {
    "duration": 3,
    "start_time": "2022-08-30T08:01:48.654Z"
   },
   {
    "duration": 25,
    "start_time": "2022-08-30T08:01:48.658Z"
   },
   {
    "duration": 58,
    "start_time": "2022-08-30T08:01:48.685Z"
   },
   {
    "duration": 27,
    "start_time": "2022-08-30T08:01:48.745Z"
   },
   {
    "duration": 25,
    "start_time": "2022-08-30T08:01:48.774Z"
   },
   {
    "duration": 30,
    "start_time": "2022-08-30T08:01:56.067Z"
   },
   {
    "duration": 6,
    "start_time": "2022-08-30T08:02:45.497Z"
   },
   {
    "duration": 17,
    "start_time": "2022-08-30T08:03:18.882Z"
   },
   {
    "duration": 25,
    "start_time": "2022-08-30T08:03:22.361Z"
   },
   {
    "duration": 26,
    "start_time": "2022-08-30T08:04:27.061Z"
   },
   {
    "duration": 446,
    "start_time": "2022-08-30T08:06:49.167Z"
   },
   {
    "duration": 15,
    "start_time": "2022-08-30T08:06:49.615Z"
   },
   {
    "duration": 4,
    "start_time": "2022-08-30T08:06:49.632Z"
   },
   {
    "duration": 20,
    "start_time": "2022-08-30T08:06:49.638Z"
   },
   {
    "duration": 50,
    "start_time": "2022-08-30T08:06:49.661Z"
   },
   {
    "duration": 32,
    "start_time": "2022-08-30T08:06:49.713Z"
   },
   {
    "duration": 60,
    "start_time": "2022-08-30T08:06:49.748Z"
   },
   {
    "duration": 23,
    "start_time": "2022-08-30T08:06:49.810Z"
   },
   {
    "duration": 41,
    "start_time": "2022-08-30T08:07:50.914Z"
   },
   {
    "duration": 447,
    "start_time": "2022-08-30T08:08:01.142Z"
   },
   {
    "duration": 14,
    "start_time": "2022-08-30T08:08:01.590Z"
   },
   {
    "duration": 29,
    "start_time": "2022-08-30T08:08:01.605Z"
   },
   {
    "duration": 55,
    "start_time": "2022-08-30T08:08:01.636Z"
   },
   {
    "duration": 51,
    "start_time": "2022-08-30T08:08:01.692Z"
   },
   {
    "duration": 33,
    "start_time": "2022-08-30T08:08:01.745Z"
   },
   {
    "duration": 30,
    "start_time": "2022-08-30T08:08:01.779Z"
   },
   {
    "duration": 36,
    "start_time": "2022-08-30T08:08:01.810Z"
   },
   {
    "duration": 25,
    "start_time": "2022-08-30T08:08:23.890Z"
   },
   {
    "duration": 26,
    "start_time": "2022-08-30T08:08:53.717Z"
   },
   {
    "duration": 70,
    "start_time": "2022-08-30T08:08:59.711Z"
   },
   {
    "duration": 432,
    "start_time": "2022-08-30T08:09:07.623Z"
   },
   {
    "duration": 14,
    "start_time": "2022-08-30T08:09:08.057Z"
   },
   {
    "duration": 9,
    "start_time": "2022-08-30T08:09:08.072Z"
   },
   {
    "duration": 27,
    "start_time": "2022-08-30T08:09:08.083Z"
   },
   {
    "duration": 28,
    "start_time": "2022-08-30T08:09:08.112Z"
   },
   {
    "duration": 34,
    "start_time": "2022-08-30T08:09:08.142Z"
   },
   {
    "duration": 42,
    "start_time": "2022-08-30T08:09:08.177Z"
   },
   {
    "duration": 25,
    "start_time": "2022-08-30T08:09:08.220Z"
   },
   {
    "duration": 13,
    "start_time": "2022-08-30T08:09:47.509Z"
   },
   {
    "duration": 15,
    "start_time": "2022-08-30T08:11:31.339Z"
   },
   {
    "duration": 3,
    "start_time": "2022-08-30T08:13:20.521Z"
   },
   {
    "duration": 13,
    "start_time": "2022-08-30T08:14:05.076Z"
   },
   {
    "duration": 9,
    "start_time": "2022-08-30T08:14:09.733Z"
   },
   {
    "duration": 438,
    "start_time": "2022-08-30T08:14:15.015Z"
   },
   {
    "duration": 14,
    "start_time": "2022-08-30T08:14:15.455Z"
   },
   {
    "duration": 4,
    "start_time": "2022-08-30T08:14:15.470Z"
   },
   {
    "duration": 22,
    "start_time": "2022-08-30T08:14:15.475Z"
   },
   {
    "duration": 28,
    "start_time": "2022-08-30T08:14:15.499Z"
   },
   {
    "duration": 33,
    "start_time": "2022-08-30T08:14:15.528Z"
   },
   {
    "duration": 46,
    "start_time": "2022-08-30T08:14:15.562Z"
   },
   {
    "duration": 31,
    "start_time": "2022-08-30T08:14:15.609Z"
   },
   {
    "duration": 11,
    "start_time": "2022-08-30T08:14:15.643Z"
   },
   {
    "duration": 9,
    "start_time": "2022-08-30T08:14:18.148Z"
   },
   {
    "duration": 13,
    "start_time": "2022-08-30T08:14:50.321Z"
   },
   {
    "duration": 16,
    "start_time": "2022-08-30T08:15:05.266Z"
   },
   {
    "duration": 16,
    "start_time": "2022-08-30T08:15:39.987Z"
   },
   {
    "duration": 78,
    "start_time": "2022-08-30T09:05:40.933Z"
   },
   {
    "duration": 25,
    "start_time": "2022-08-30T09:05:43.968Z"
   },
   {
    "duration": 24,
    "start_time": "2022-08-30T09:05:49.670Z"
   },
   {
    "duration": 418,
    "start_time": "2022-08-30T09:05:57.625Z"
   },
   {
    "duration": 14,
    "start_time": "2022-08-30T09:05:58.045Z"
   },
   {
    "duration": 4,
    "start_time": "2022-08-30T09:05:58.060Z"
   },
   {
    "duration": 24,
    "start_time": "2022-08-30T09:05:58.066Z"
   },
   {
    "duration": 30,
    "start_time": "2022-08-30T09:05:58.092Z"
   },
   {
    "duration": 36,
    "start_time": "2022-08-30T09:05:58.124Z"
   },
   {
    "duration": 43,
    "start_time": "2022-08-30T09:05:58.161Z"
   },
   {
    "duration": 24,
    "start_time": "2022-08-30T09:05:58.205Z"
   },
   {
    "duration": 14,
    "start_time": "2022-08-30T09:05:58.230Z"
   },
   {
    "duration": 24,
    "start_time": "2022-08-30T09:06:17.823Z"
   },
   {
    "duration": 805,
    "start_time": "2022-08-30T09:06:49.986Z"
   },
   {
    "duration": 894,
    "start_time": "2022-08-30T09:07:29.399Z"
   },
   {
    "duration": 434,
    "start_time": "2022-08-30T09:07:40.040Z"
   },
   {
    "duration": 14,
    "start_time": "2022-08-30T09:07:40.476Z"
   },
   {
    "duration": 14,
    "start_time": "2022-08-30T09:07:40.492Z"
   },
   {
    "duration": 32,
    "start_time": "2022-08-30T09:07:40.508Z"
   },
   {
    "duration": 29,
    "start_time": "2022-08-30T09:07:40.541Z"
   },
   {
    "duration": 69,
    "start_time": "2022-08-30T09:07:40.573Z"
   },
   {
    "duration": 36,
    "start_time": "2022-08-30T09:07:40.645Z"
   },
   {
    "duration": 117,
    "start_time": "2022-08-30T09:07:40.682Z"
   },
   {
    "duration": 0,
    "start_time": "2022-08-30T09:07:40.801Z"
   },
   {
    "duration": 400,
    "start_time": "2022-08-30T09:07:56.308Z"
   },
   {
    "duration": 15,
    "start_time": "2022-08-30T09:08:05.164Z"
   },
   {
    "duration": 9,
    "start_time": "2022-08-30T09:08:10.454Z"
   },
   {
    "duration": 507,
    "start_time": "2022-08-30T09:08:24.254Z"
   },
   {
    "duration": 13,
    "start_time": "2022-08-30T09:08:24.763Z"
   },
   {
    "duration": 10,
    "start_time": "2022-08-30T09:08:24.777Z"
   },
   {
    "duration": 22,
    "start_time": "2022-08-30T09:08:24.789Z"
   },
   {
    "duration": 27,
    "start_time": "2022-08-30T09:08:24.813Z"
   },
   {
    "duration": 35,
    "start_time": "2022-08-30T09:08:24.842Z"
   },
   {
    "duration": 46,
    "start_time": "2022-08-30T09:08:24.879Z"
   },
   {
    "duration": 27,
    "start_time": "2022-08-30T09:08:24.927Z"
   },
   {
    "duration": 15,
    "start_time": "2022-08-30T09:08:24.956Z"
   },
   {
    "duration": 70,
    "start_time": "2022-08-30T09:08:50.385Z"
   },
   {
    "duration": 10,
    "start_time": "2022-08-30T09:09:44.710Z"
   },
   {
    "duration": 9,
    "start_time": "2022-08-30T09:10:06.555Z"
   },
   {
    "duration": 455,
    "start_time": "2022-08-30T09:10:17.096Z"
   },
   {
    "duration": 12,
    "start_time": "2022-08-30T09:10:17.553Z"
   },
   {
    "duration": 4,
    "start_time": "2022-08-30T09:10:17.566Z"
   },
   {
    "duration": 32,
    "start_time": "2022-08-30T09:10:17.571Z"
   },
   {
    "duration": 28,
    "start_time": "2022-08-30T09:10:17.606Z"
   },
   {
    "duration": 32,
    "start_time": "2022-08-30T09:10:17.636Z"
   },
   {
    "duration": 45,
    "start_time": "2022-08-30T09:10:17.670Z"
   },
   {
    "duration": 21,
    "start_time": "2022-08-30T09:10:17.717Z"
   },
   {
    "duration": 13,
    "start_time": "2022-08-30T09:10:17.739Z"
   },
   {
    "duration": 25,
    "start_time": "2022-08-30T09:20:08.517Z"
   },
   {
    "duration": 27,
    "start_time": "2022-08-30T09:20:31.808Z"
   },
   {
    "duration": 427,
    "start_time": "2022-08-30T09:25:51.908Z"
   },
   {
    "duration": 26,
    "start_time": "2022-08-30T09:25:52.337Z"
   },
   {
    "duration": 7,
    "start_time": "2022-08-30T09:25:52.365Z"
   },
   {
    "duration": 20,
    "start_time": "2022-08-30T09:25:52.373Z"
   },
   {
    "duration": 29,
    "start_time": "2022-08-30T09:25:52.395Z"
   },
   {
    "duration": 30,
    "start_time": "2022-08-30T09:25:52.426Z"
   },
   {
    "duration": 26,
    "start_time": "2022-08-30T09:25:52.457Z"
   },
   {
    "duration": 31,
    "start_time": "2022-08-30T09:25:52.485Z"
   },
   {
    "duration": 14,
    "start_time": "2022-08-30T09:25:52.518Z"
   },
   {
    "duration": 443,
    "start_time": "2022-08-30T09:26:17.199Z"
   },
   {
    "duration": 12,
    "start_time": "2022-08-30T09:26:17.644Z"
   },
   {
    "duration": 2,
    "start_time": "2022-08-30T09:26:17.658Z"
   },
   {
    "duration": 20,
    "start_time": "2022-08-30T09:26:17.661Z"
   },
   {
    "duration": 26,
    "start_time": "2022-08-30T09:26:17.683Z"
   },
   {
    "duration": 31,
    "start_time": "2022-08-30T09:26:17.711Z"
   },
   {
    "duration": 30,
    "start_time": "2022-08-30T09:26:17.743Z"
   },
   {
    "duration": 33,
    "start_time": "2022-08-30T09:26:17.774Z"
   },
   {
    "duration": 13,
    "start_time": "2022-08-30T09:26:17.809Z"
   },
   {
    "duration": 26,
    "start_time": "2022-08-30T09:27:09.662Z"
   },
   {
    "duration": 24,
    "start_time": "2022-08-30T09:27:16.454Z"
   },
   {
    "duration": 25,
    "start_time": "2022-08-30T09:27:22.304Z"
   },
   {
    "duration": 430,
    "start_time": "2022-08-30T09:27:30.045Z"
   },
   {
    "duration": 13,
    "start_time": "2022-08-30T09:27:30.477Z"
   },
   {
    "duration": 20,
    "start_time": "2022-08-30T09:27:30.491Z"
   },
   {
    "duration": 63,
    "start_time": "2022-08-30T09:27:30.513Z"
   },
   {
    "duration": 72,
    "start_time": "2022-08-30T09:27:30.577Z"
   },
   {
    "duration": 46,
    "start_time": "2022-08-30T09:27:30.650Z"
   },
   {
    "duration": 26,
    "start_time": "2022-08-30T09:27:30.698Z"
   },
   {
    "duration": 41,
    "start_time": "2022-08-30T09:27:30.726Z"
   },
   {
    "duration": 40,
    "start_time": "2022-08-30T09:27:30.769Z"
   },
   {
    "duration": 31,
    "start_time": "2022-08-30T09:27:51.791Z"
   },
   {
    "duration": 27,
    "start_time": "2022-08-30T09:28:13.875Z"
   },
   {
    "duration": 89,
    "start_time": "2022-08-30T09:30:23.278Z"
   },
   {
    "duration": 473,
    "start_time": "2022-08-30T09:30:30.216Z"
   },
   {
    "duration": 539,
    "start_time": "2022-08-30T09:30:45.681Z"
   },
   {
    "duration": 29,
    "start_time": "2022-08-30T09:31:13.047Z"
   },
   {
    "duration": 25,
    "start_time": "2022-08-30T09:31:34.075Z"
   },
   {
    "duration": 31,
    "start_time": "2022-08-30T09:35:10.242Z"
   },
   {
    "duration": 16,
    "start_time": "2022-08-30T09:50:48.842Z"
   },
   {
    "duration": 18,
    "start_time": "2022-08-30T09:51:17.778Z"
   },
   {
    "duration": 28,
    "start_time": "2022-08-30T09:51:23.946Z"
   },
   {
    "duration": 24,
    "start_time": "2022-08-30T09:51:32.927Z"
   },
   {
    "duration": 418,
    "start_time": "2022-08-30T09:51:37.549Z"
   },
   {
    "duration": 14,
    "start_time": "2022-08-30T09:51:37.969Z"
   },
   {
    "duration": 3,
    "start_time": "2022-08-30T09:51:37.985Z"
   },
   {
    "duration": 20,
    "start_time": "2022-08-30T09:51:37.989Z"
   },
   {
    "duration": 24,
    "start_time": "2022-08-30T09:51:38.011Z"
   },
   {
    "duration": 29,
    "start_time": "2022-08-30T09:51:38.037Z"
   },
   {
    "duration": 45,
    "start_time": "2022-08-30T09:51:38.067Z"
   },
   {
    "duration": 27,
    "start_time": "2022-08-30T09:51:38.113Z"
   },
   {
    "duration": 5,
    "start_time": "2022-08-30T09:51:38.142Z"
   },
   {
    "duration": 35,
    "start_time": "2022-08-30T09:51:38.148Z"
   },
   {
    "duration": 26,
    "start_time": "2022-08-30T09:52:09.685Z"
   },
   {
    "duration": 39,
    "start_time": "2022-08-30T09:52:21.166Z"
   },
   {
    "duration": 451,
    "start_time": "2022-08-30T09:52:29.701Z"
   },
   {
    "duration": 15,
    "start_time": "2022-08-30T09:52:30.153Z"
   },
   {
    "duration": 6,
    "start_time": "2022-08-30T09:52:30.169Z"
   },
   {
    "duration": 26,
    "start_time": "2022-08-30T09:52:30.177Z"
   },
   {
    "duration": 43,
    "start_time": "2022-08-30T09:52:30.206Z"
   },
   {
    "duration": 46,
    "start_time": "2022-08-30T09:52:30.251Z"
   },
   {
    "duration": 34,
    "start_time": "2022-08-30T09:52:30.298Z"
   },
   {
    "duration": 33,
    "start_time": "2022-08-30T09:52:30.333Z"
   },
   {
    "duration": 38,
    "start_time": "2022-08-30T09:52:30.368Z"
   },
   {
    "duration": 56,
    "start_time": "2022-08-30T09:52:30.408Z"
   },
   {
    "duration": 31,
    "start_time": "2022-08-30T09:53:11.291Z"
   },
   {
    "duration": 447,
    "start_time": "2022-08-30T09:53:30.590Z"
   },
   {
    "duration": 13,
    "start_time": "2022-08-30T09:53:31.039Z"
   },
   {
    "duration": 30,
    "start_time": "2022-08-30T09:53:31.053Z"
   },
   {
    "duration": 37,
    "start_time": "2022-08-30T09:53:31.084Z"
   },
   {
    "duration": 45,
    "start_time": "2022-08-30T09:53:31.123Z"
   },
   {
    "duration": 36,
    "start_time": "2022-08-30T09:53:31.170Z"
   },
   {
    "duration": 33,
    "start_time": "2022-08-30T09:53:31.207Z"
   },
   {
    "duration": 26,
    "start_time": "2022-08-30T09:53:31.241Z"
   },
   {
    "duration": 5,
    "start_time": "2022-08-30T09:53:31.268Z"
   },
   {
    "duration": 53,
    "start_time": "2022-08-30T09:53:31.274Z"
   },
   {
    "duration": 29,
    "start_time": "2022-08-30T09:54:00.217Z"
   },
   {
    "duration": 28,
    "start_time": "2022-08-30T09:54:03.505Z"
   },
   {
    "duration": 386,
    "start_time": "2022-08-30T09:54:07.756Z"
   },
   {
    "duration": 12,
    "start_time": "2022-08-30T09:54:08.144Z"
   },
   {
    "duration": 23,
    "start_time": "2022-08-30T09:54:08.158Z"
   },
   {
    "duration": 21,
    "start_time": "2022-08-30T09:54:08.183Z"
   },
   {
    "duration": 16,
    "start_time": "2022-08-30T09:54:08.206Z"
   },
   {
    "duration": 27,
    "start_time": "2022-08-30T09:54:08.223Z"
   },
   {
    "duration": 47,
    "start_time": "2022-08-30T09:54:08.251Z"
   },
   {
    "duration": 30,
    "start_time": "2022-08-30T09:54:08.300Z"
   },
   {
    "duration": 5,
    "start_time": "2022-08-30T09:54:08.332Z"
   },
   {
    "duration": 45,
    "start_time": "2022-08-30T09:54:08.338Z"
   },
   {
    "duration": 26,
    "start_time": "2022-08-30T09:54:23.738Z"
   },
   {
    "duration": 33,
    "start_time": "2022-08-30T09:54:29.943Z"
   },
   {
    "duration": 41,
    "start_time": "2022-08-30T09:55:39.521Z"
   },
   {
    "duration": 30,
    "start_time": "2022-08-30T09:55:42.498Z"
   },
   {
    "duration": 15,
    "start_time": "2022-08-30T10:58:03.265Z"
   },
   {
    "duration": 186,
    "start_time": "2022-08-30T11:00:12.844Z"
   },
   {
    "duration": 209,
    "start_time": "2022-08-30T11:00:19.332Z"
   },
   {
    "duration": 194,
    "start_time": "2022-08-30T11:00:55.497Z"
   },
   {
    "duration": 412,
    "start_time": "2022-08-30T11:02:02.231Z"
   },
   {
    "duration": 14,
    "start_time": "2022-08-30T11:02:02.645Z"
   },
   {
    "duration": 3,
    "start_time": "2022-08-30T11:02:02.660Z"
   },
   {
    "duration": 25,
    "start_time": "2022-08-30T11:02:02.664Z"
   },
   {
    "duration": 16,
    "start_time": "2022-08-30T11:02:02.691Z"
   },
   {
    "duration": 26,
    "start_time": "2022-08-30T11:02:02.709Z"
   },
   {
    "duration": 19,
    "start_time": "2022-08-30T11:02:02.736Z"
   },
   {
    "duration": 45,
    "start_time": "2022-08-30T11:02:02.756Z"
   },
   {
    "duration": 27,
    "start_time": "2022-08-30T11:02:02.803Z"
   },
   {
    "duration": 4,
    "start_time": "2022-08-30T11:02:02.832Z"
   },
   {
    "duration": 214,
    "start_time": "2022-08-30T11:02:02.837Z"
   },
   {
    "duration": 9,
    "start_time": "2022-08-30T11:03:01.994Z"
   },
   {
    "duration": 7,
    "start_time": "2022-08-30T11:03:07.064Z"
   },
   {
    "duration": 67,
    "start_time": "2022-08-30T11:26:32.677Z"
   },
   {
    "duration": 7,
    "start_time": "2022-08-30T11:26:47.026Z"
   },
   {
    "duration": 447,
    "start_time": "2022-08-30T11:26:52.781Z"
   },
   {
    "duration": 13,
    "start_time": "2022-08-30T11:26:53.230Z"
   },
   {
    "duration": 33,
    "start_time": "2022-08-30T11:26:53.245Z"
   },
   {
    "duration": 56,
    "start_time": "2022-08-30T11:26:53.279Z"
   },
   {
    "duration": 39,
    "start_time": "2022-08-30T11:26:53.337Z"
   },
   {
    "duration": 53,
    "start_time": "2022-08-30T11:26:53.377Z"
   },
   {
    "duration": 49,
    "start_time": "2022-08-30T11:26:53.431Z"
   },
   {
    "duration": 47,
    "start_time": "2022-08-30T11:26:53.482Z"
   },
   {
    "duration": 13,
    "start_time": "2022-08-30T11:26:53.530Z"
   },
   {
    "duration": 214,
    "start_time": "2022-08-30T11:26:53.544Z"
   },
   {
    "duration": 70,
    "start_time": "2022-08-30T11:26:53.760Z"
   },
   {
    "duration": 7,
    "start_time": "2022-08-30T11:26:56.807Z"
   },
   {
    "duration": 16,
    "start_time": "2022-08-30T11:27:14.306Z"
   },
   {
    "duration": 19,
    "start_time": "2022-08-30T11:28:20.807Z"
   },
   {
    "duration": 7,
    "start_time": "2022-08-30T11:34:33.288Z"
   },
   {
    "duration": 11,
    "start_time": "2022-08-30T11:34:41.414Z"
   },
   {
    "duration": 10,
    "start_time": "2022-08-30T11:34:52.495Z"
   },
   {
    "duration": 12,
    "start_time": "2022-08-30T11:35:00.995Z"
   },
   {
    "duration": 7,
    "start_time": "2022-08-30T11:35:11.042Z"
   },
   {
    "duration": 7,
    "start_time": "2022-08-30T11:35:19.420Z"
   },
   {
    "duration": 13,
    "start_time": "2022-08-30T11:40:49.063Z"
   },
   {
    "duration": 371,
    "start_time": "2022-08-30T11:42:06.419Z"
   },
   {
    "duration": 23,
    "start_time": "2022-08-30T11:44:04.101Z"
   },
   {
    "duration": 24,
    "start_time": "2022-08-30T11:44:38.010Z"
   },
   {
    "duration": 8,
    "start_time": "2022-08-30T11:45:18.838Z"
   },
   {
    "duration": 29,
    "start_time": "2022-08-30T11:45:24.624Z"
   },
   {
    "duration": 40,
    "start_time": "2022-08-30T11:45:41.420Z"
   },
   {
    "duration": 7,
    "start_time": "2022-08-30T11:46:05.760Z"
   },
   {
    "duration": 42,
    "start_time": "2022-08-30T11:48:10.722Z"
   },
   {
    "duration": 20,
    "start_time": "2022-08-30T11:48:45.158Z"
   },
   {
    "duration": 43,
    "start_time": "2022-08-30T11:50:48.920Z"
   },
   {
    "duration": 24,
    "start_time": "2022-08-30T11:52:41.872Z"
   },
   {
    "duration": 19,
    "start_time": "2022-08-30T11:53:25.179Z"
   },
   {
    "duration": 9,
    "start_time": "2022-08-30T11:56:06.846Z"
   },
   {
    "duration": 12,
    "start_time": "2022-08-30T11:56:11.299Z"
   },
   {
    "duration": 16,
    "start_time": "2022-08-30T11:57:16.692Z"
   },
   {
    "duration": 15,
    "start_time": "2022-08-30T11:57:21.203Z"
   },
   {
    "duration": 16,
    "start_time": "2022-08-30T11:57:50.382Z"
   },
   {
    "duration": 1186,
    "start_time": "2022-08-30T11:58:38.878Z"
   },
   {
    "duration": 227,
    "start_time": "2022-08-30T11:58:49.797Z"
   },
   {
    "duration": 51,
    "start_time": "2022-08-30T12:00:08.752Z"
   },
   {
    "duration": 17,
    "start_time": "2022-08-30T12:00:15.402Z"
   },
   {
    "duration": 555,
    "start_time": "2022-08-30T12:02:51.959Z"
   },
   {
    "duration": 39,
    "start_time": "2022-08-30T12:05:49.416Z"
   },
   {
    "duration": 12,
    "start_time": "2022-08-30T12:08:35.704Z"
   },
   {
    "duration": 10,
    "start_time": "2022-08-30T12:08:43.670Z"
   },
   {
    "duration": 1180,
    "start_time": "2022-08-30T12:08:54.677Z"
   },
   {
    "duration": 13,
    "start_time": "2022-08-30T12:08:55.859Z"
   },
   {
    "duration": 5,
    "start_time": "2022-08-30T12:08:55.873Z"
   },
   {
    "duration": 20,
    "start_time": "2022-08-30T12:08:55.880Z"
   },
   {
    "duration": 15,
    "start_time": "2022-08-30T12:08:55.902Z"
   },
   {
    "duration": 33,
    "start_time": "2022-08-30T12:08:55.918Z"
   },
   {
    "duration": 47,
    "start_time": "2022-08-30T12:08:55.953Z"
   },
   {
    "duration": 28,
    "start_time": "2022-08-30T12:08:56.002Z"
   },
   {
    "duration": 5,
    "start_time": "2022-08-30T12:08:56.031Z"
   },
   {
    "duration": 218,
    "start_time": "2022-08-30T12:08:56.037Z"
   },
   {
    "duration": 21,
    "start_time": "2022-08-30T12:08:56.256Z"
   },
   {
    "duration": 26,
    "start_time": "2022-08-30T12:08:56.279Z"
   },
   {
    "duration": 8,
    "start_time": "2022-08-30T12:08:56.306Z"
   },
   {
    "duration": 145,
    "start_time": "2022-08-30T12:09:03.980Z"
   },
   {
    "duration": 173,
    "start_time": "2022-08-30T12:09:15.204Z"
   },
   {
    "duration": 2103,
    "start_time": "2022-08-30T12:10:29.383Z"
   },
   {
    "duration": 1579,
    "start_time": "2022-08-30T12:10:39.624Z"
   },
   {
    "duration": 194,
    "start_time": "2022-08-30T12:11:59.473Z"
   },
   {
    "duration": 17,
    "start_time": "2022-08-30T12:15:35.144Z"
   },
   {
    "duration": 766,
    "start_time": "2022-08-30T12:17:40.931Z"
   },
   {
    "duration": 110,
    "start_time": "2022-08-30T12:18:49.227Z"
   },
   {
    "duration": 103,
    "start_time": "2022-08-30T12:20:47.183Z"
   },
   {
    "duration": 104,
    "start_time": "2022-08-30T12:20:59.540Z"
   },
   {
    "duration": 86,
    "start_time": "2022-08-30T12:22:26.135Z"
   },
   {
    "duration": 179,
    "start_time": "2022-08-30T12:28:08.877Z"
   },
   {
    "duration": 172,
    "start_time": "2022-08-30T12:28:22.645Z"
   },
   {
    "duration": 4,
    "start_time": "2022-08-30T12:30:55.387Z"
   },
   {
    "duration": 5,
    "start_time": "2022-08-30T12:32:48.892Z"
   },
   {
    "duration": 5,
    "start_time": "2022-08-30T12:33:05.023Z"
   },
   {
    "duration": 190,
    "start_time": "2022-08-30T12:33:17.865Z"
   },
   {
    "duration": 1143,
    "start_time": "2022-08-30T12:33:49.165Z"
   },
   {
    "duration": 13,
    "start_time": "2022-08-30T12:33:50.310Z"
   },
   {
    "duration": 2,
    "start_time": "2022-08-30T12:33:50.325Z"
   },
   {
    "duration": 16,
    "start_time": "2022-08-30T12:33:50.329Z"
   },
   {
    "duration": 15,
    "start_time": "2022-08-30T12:33:50.347Z"
   },
   {
    "duration": 44,
    "start_time": "2022-08-30T12:33:50.363Z"
   },
   {
    "duration": 31,
    "start_time": "2022-08-30T12:33:50.409Z"
   },
   {
    "duration": 27,
    "start_time": "2022-08-30T12:33:50.442Z"
   },
   {
    "duration": 5,
    "start_time": "2022-08-30T12:33:50.470Z"
   },
   {
    "duration": 223,
    "start_time": "2022-08-30T12:33:50.476Z"
   },
   {
    "duration": 20,
    "start_time": "2022-08-30T12:33:50.700Z"
   },
   {
    "duration": 11,
    "start_time": "2022-08-30T12:33:50.721Z"
   },
   {
    "duration": 172,
    "start_time": "2022-08-30T12:33:50.734Z"
   },
   {
    "duration": 142,
    "start_time": "2022-08-30T12:34:31.672Z"
   },
   {
    "duration": 118,
    "start_time": "2022-08-30T12:35:39.121Z"
   },
   {
    "duration": 23,
    "start_time": "2022-08-30T12:35:56.478Z"
   },
   {
    "duration": 129,
    "start_time": "2022-08-30T12:36:00.572Z"
   },
   {
    "duration": 254,
    "start_time": "2022-08-30T12:36:22.172Z"
   },
   {
    "duration": 135,
    "start_time": "2022-08-30T12:37:50.663Z"
   },
   {
    "duration": 140,
    "start_time": "2022-08-30T12:37:58.355Z"
   },
   {
    "duration": 22,
    "start_time": "2022-08-30T12:38:18.099Z"
   },
   {
    "duration": 22,
    "start_time": "2022-08-30T12:38:20.585Z"
   },
   {
    "duration": 134,
    "start_time": "2022-08-30T12:38:26.536Z"
   },
   {
    "duration": 9,
    "start_time": "2022-08-30T12:38:58.449Z"
   },
   {
    "duration": 1156,
    "start_time": "2022-08-30T12:39:25.415Z"
   },
   {
    "duration": 13,
    "start_time": "2022-08-30T12:39:26.573Z"
   },
   {
    "duration": 11,
    "start_time": "2022-08-30T12:39:26.587Z"
   },
   {
    "duration": 17,
    "start_time": "2022-08-30T12:39:26.600Z"
   },
   {
    "duration": 15,
    "start_time": "2022-08-30T12:39:26.619Z"
   },
   {
    "duration": 26,
    "start_time": "2022-08-30T12:39:26.635Z"
   },
   {
    "duration": 50,
    "start_time": "2022-08-30T12:39:26.663Z"
   },
   {
    "duration": 26,
    "start_time": "2022-08-30T12:39:26.714Z"
   },
   {
    "duration": 5,
    "start_time": "2022-08-30T12:39:26.742Z"
   },
   {
    "duration": 228,
    "start_time": "2022-08-30T12:39:26.748Z"
   },
   {
    "duration": 31,
    "start_time": "2022-08-30T12:39:26.978Z"
   },
   {
    "duration": 13,
    "start_time": "2022-08-30T12:39:27.010Z"
   },
   {
    "duration": 1142,
    "start_time": "2022-08-30T12:39:39.867Z"
   },
   {
    "duration": 14,
    "start_time": "2022-08-30T12:39:41.011Z"
   },
   {
    "duration": 3,
    "start_time": "2022-08-30T12:39:41.027Z"
   },
   {
    "duration": 38,
    "start_time": "2022-08-30T12:39:41.031Z"
   },
   {
    "duration": 15,
    "start_time": "2022-08-30T12:39:41.071Z"
   },
   {
    "duration": 27,
    "start_time": "2022-08-30T12:39:41.087Z"
   },
   {
    "duration": 35,
    "start_time": "2022-08-30T12:39:41.115Z"
   },
   {
    "duration": 29,
    "start_time": "2022-08-30T12:39:41.151Z"
   },
   {
    "duration": 6,
    "start_time": "2022-08-30T12:39:41.198Z"
   },
   {
    "duration": 213,
    "start_time": "2022-08-30T12:39:41.206Z"
   },
   {
    "duration": 20,
    "start_time": "2022-08-30T12:39:41.421Z"
   },
   {
    "duration": 11,
    "start_time": "2022-08-30T12:39:41.442Z"
   },
   {
    "duration": 21812,
    "start_time": "2022-08-30T12:39:41.454Z"
   },
   {
    "duration": 399,
    "start_time": "2022-08-30T12:42:31.971Z"
   },
   {
    "duration": 127,
    "start_time": "2022-08-30T12:48:59.103Z"
   },
   {
    "duration": 36,
    "start_time": "2022-08-30T12:49:50.841Z"
   },
   {
    "duration": 527,
    "start_time": "2022-08-30T12:51:07.082Z"
   },
   {
    "duration": 16,
    "start_time": "2022-08-30T12:52:35.128Z"
   },
   {
    "duration": 17,
    "start_time": "2022-08-30T12:52:57.440Z"
   },
   {
    "duration": 20,
    "start_time": "2022-08-30T12:55:24.802Z"
   },
   {
    "duration": 110,
    "start_time": "2022-08-30T13:03:49.632Z"
   },
   {
    "duration": 112,
    "start_time": "2022-08-30T13:04:07.956Z"
   },
   {
    "duration": 112,
    "start_time": "2022-08-30T13:05:58.315Z"
   },
   {
    "duration": 48,
    "start_time": "2022-08-30T13:06:09.928Z"
   },
   {
    "duration": 87,
    "start_time": "2022-08-30T13:07:44.530Z"
   },
   {
    "duration": 60,
    "start_time": "2022-08-30T13:08:33.852Z"
   },
   {
    "duration": 44,
    "start_time": "2022-08-30T13:08:42.824Z"
   },
   {
    "duration": 55,
    "start_time": "2022-08-30T13:09:23.532Z"
   },
   {
    "duration": 48,
    "start_time": "2022-08-30T13:09:33.431Z"
   },
   {
    "duration": 103,
    "start_time": "2022-08-30T13:09:37.880Z"
   },
   {
    "duration": 106,
    "start_time": "2022-08-30T13:09:59.361Z"
   },
   {
    "duration": 17,
    "start_time": "2022-08-30T13:11:06.040Z"
   },
   {
    "duration": 112,
    "start_time": "2022-08-30T13:11:19.299Z"
   },
   {
    "duration": 15,
    "start_time": "2022-08-30T13:11:30.828Z"
   },
   {
    "duration": 20,
    "start_time": "2022-08-30T13:11:37.326Z"
   },
   {
    "duration": 17,
    "start_time": "2022-08-30T13:11:42.412Z"
   },
   {
    "duration": 17,
    "start_time": "2022-08-30T13:11:47.121Z"
   },
   {
    "duration": 17,
    "start_time": "2022-08-30T13:12:21.748Z"
   },
   {
    "duration": 18,
    "start_time": "2022-08-30T13:12:25.282Z"
   },
   {
    "duration": 1116,
    "start_time": "2022-08-30T13:12:33.434Z"
   },
   {
    "duration": 18,
    "start_time": "2022-08-30T13:12:34.552Z"
   },
   {
    "duration": 18,
    "start_time": "2022-08-30T13:12:34.571Z"
   },
   {
    "duration": 45,
    "start_time": "2022-08-30T13:12:34.590Z"
   },
   {
    "duration": 29,
    "start_time": "2022-08-30T13:12:34.638Z"
   },
   {
    "duration": 45,
    "start_time": "2022-08-30T13:12:34.669Z"
   },
   {
    "duration": 47,
    "start_time": "2022-08-30T13:12:34.715Z"
   },
   {
    "duration": 38,
    "start_time": "2022-08-30T13:12:34.763Z"
   },
   {
    "duration": 5,
    "start_time": "2022-08-30T13:12:34.803Z"
   },
   {
    "duration": 249,
    "start_time": "2022-08-30T13:12:34.809Z"
   },
   {
    "duration": 21,
    "start_time": "2022-08-30T13:12:35.059Z"
   },
   {
    "duration": 26,
    "start_time": "2022-08-30T13:12:35.081Z"
   },
   {
    "duration": 26,
    "start_time": "2022-08-30T13:12:35.109Z"
   },
   {
    "duration": 11,
    "start_time": "2022-08-30T13:12:38.266Z"
   },
   {
    "duration": 18,
    "start_time": "2022-08-30T13:12:41.383Z"
   },
   {
    "duration": 17,
    "start_time": "2022-08-30T13:13:15.796Z"
   },
   {
    "duration": 215,
    "start_time": "2022-08-30T13:14:32.378Z"
   },
   {
    "duration": 44,
    "start_time": "2022-08-30T13:16:26.852Z"
   },
   {
    "duration": 105,
    "start_time": "2022-08-30T13:16:33.094Z"
   },
   {
    "duration": 1153,
    "start_time": "2022-08-30T13:16:47.165Z"
   },
   {
    "duration": 15,
    "start_time": "2022-08-30T13:16:48.320Z"
   },
   {
    "duration": 3,
    "start_time": "2022-08-30T13:16:48.337Z"
   },
   {
    "duration": 21,
    "start_time": "2022-08-30T13:16:48.342Z"
   },
   {
    "duration": 33,
    "start_time": "2022-08-30T13:16:48.365Z"
   },
   {
    "duration": 28,
    "start_time": "2022-08-30T13:16:48.400Z"
   },
   {
    "duration": 34,
    "start_time": "2022-08-30T13:16:48.429Z"
   },
   {
    "duration": 47,
    "start_time": "2022-08-30T13:16:48.465Z"
   },
   {
    "duration": 5,
    "start_time": "2022-08-30T13:16:48.514Z"
   },
   {
    "duration": 218,
    "start_time": "2022-08-30T13:16:48.520Z"
   },
   {
    "duration": 26,
    "start_time": "2022-08-30T13:16:48.740Z"
   },
   {
    "duration": 31,
    "start_time": "2022-08-30T13:16:48.768Z"
   },
   {
    "duration": 212,
    "start_time": "2022-08-30T13:16:48.800Z"
   },
   {
    "duration": 172,
    "start_time": "2022-08-30T13:17:58.893Z"
   },
   {
    "duration": 104,
    "start_time": "2022-08-30T13:19:36.011Z"
   },
   {
    "duration": 107,
    "start_time": "2022-08-30T13:19:50.857Z"
   },
   {
    "duration": 167,
    "start_time": "2022-08-30T13:20:00.733Z"
   },
   {
    "duration": 768,
    "start_time": "2022-08-30T13:22:05.627Z"
   },
   {
    "duration": 235,
    "start_time": "2022-08-30T13:23:20.834Z"
   },
   {
    "duration": 153,
    "start_time": "2022-08-30T13:24:14.717Z"
   },
   {
    "duration": 151,
    "start_time": "2022-08-30T13:25:33.366Z"
   },
   {
    "duration": 144,
    "start_time": "2022-08-30T13:25:58.075Z"
   },
   {
    "duration": 151,
    "start_time": "2022-08-30T13:26:58.654Z"
   },
   {
    "duration": 9,
    "start_time": "2022-08-30T13:28:47.460Z"
   },
   {
    "duration": 291,
    "start_time": "2022-08-30T13:29:18.642Z"
   },
   {
    "duration": 257,
    "start_time": "2022-08-30T13:30:41.557Z"
   },
   {
    "duration": 221,
    "start_time": "2022-08-30T13:31:04.865Z"
   },
   {
    "duration": 210,
    "start_time": "2022-08-30T13:31:11.323Z"
   },
   {
    "duration": 169,
    "start_time": "2022-08-30T13:31:16.745Z"
   },
   {
    "duration": 182,
    "start_time": "2022-08-30T13:31:23.474Z"
   },
   {
    "duration": 211,
    "start_time": "2022-08-30T13:31:29.419Z"
   },
   {
    "duration": 221,
    "start_time": "2022-08-30T13:31:39.325Z"
   },
   {
    "duration": 160,
    "start_time": "2022-08-30T13:31:50.393Z"
   },
   {
    "duration": 158,
    "start_time": "2022-08-30T13:31:57.524Z"
   },
   {
    "duration": 186,
    "start_time": "2022-08-30T13:32:08.543Z"
   },
   {
    "duration": 264,
    "start_time": "2022-08-30T13:32:31.637Z"
   },
   {
    "duration": 174,
    "start_time": "2022-08-30T13:32:49.602Z"
   },
   {
    "duration": 184,
    "start_time": "2022-08-30T13:34:13.286Z"
   },
   {
    "duration": 219,
    "start_time": "2022-08-30T13:34:44.347Z"
   },
   {
    "duration": 174,
    "start_time": "2022-08-30T13:36:40.344Z"
   },
   {
    "duration": 200,
    "start_time": "2022-08-30T13:36:47.649Z"
   },
   {
    "duration": 183,
    "start_time": "2022-08-30T13:37:02.108Z"
   },
   {
    "duration": 198,
    "start_time": "2022-08-30T13:41:47.333Z"
   },
   {
    "duration": 191,
    "start_time": "2022-08-30T13:42:36.800Z"
   },
   {
    "duration": 7,
    "start_time": "2022-08-30T13:42:53.613Z"
   },
   {
    "duration": 178,
    "start_time": "2022-08-30T13:42:57.508Z"
   },
   {
    "duration": 346,
    "start_time": "2022-08-30T13:43:14.146Z"
   },
   {
    "duration": 149,
    "start_time": "2022-08-30T13:44:27.690Z"
   },
   {
    "duration": 129,
    "start_time": "2022-08-30T13:46:20.849Z"
   },
   {
    "duration": 124,
    "start_time": "2022-08-30T13:47:05.634Z"
   },
   {
    "duration": 185,
    "start_time": "2022-08-30T13:48:24.918Z"
   },
   {
    "duration": 248,
    "start_time": "2022-08-30T13:48:45.722Z"
   },
   {
    "duration": 254,
    "start_time": "2022-08-30T13:49:48.373Z"
   },
   {
    "duration": 8,
    "start_time": "2022-08-30T13:49:59.661Z"
   },
   {
    "duration": 288,
    "start_time": "2022-08-30T13:50:03.768Z"
   },
   {
    "duration": 43,
    "start_time": "2022-08-30T17:16:45.478Z"
   },
   {
    "duration": 1331,
    "start_time": "2022-08-30T17:16:48.786Z"
   },
   {
    "duration": 14,
    "start_time": "2022-08-30T17:16:50.119Z"
   },
   {
    "duration": 3,
    "start_time": "2022-08-30T17:16:50.134Z"
   },
   {
    "duration": 21,
    "start_time": "2022-08-30T17:16:50.138Z"
   },
   {
    "duration": 14,
    "start_time": "2022-08-30T17:16:50.161Z"
   },
   {
    "duration": 25,
    "start_time": "2022-08-30T17:16:50.177Z"
   },
   {
    "duration": 30,
    "start_time": "2022-08-30T17:16:50.203Z"
   },
   {
    "duration": 41,
    "start_time": "2022-08-30T17:16:50.235Z"
   },
   {
    "duration": 4,
    "start_time": "2022-08-30T17:16:50.278Z"
   },
   {
    "duration": 204,
    "start_time": "2022-08-30T17:16:50.284Z"
   },
   {
    "duration": 22,
    "start_time": "2022-08-30T17:16:50.489Z"
   },
   {
    "duration": 11,
    "start_time": "2022-08-30T17:16:50.512Z"
   },
   {
    "duration": 279,
    "start_time": "2022-08-30T17:16:50.525Z"
   },
   {
    "duration": 79,
    "start_time": "2022-08-30T17:33:26.742Z"
   },
   {
    "duration": 9,
    "start_time": "2022-08-30T17:33:28.959Z"
   },
   {
    "duration": 15,
    "start_time": "2022-08-30T17:33:41.084Z"
   },
   {
    "duration": 8,
    "start_time": "2022-08-30T17:33:59.711Z"
   },
   {
    "duration": 15,
    "start_time": "2022-08-30T17:34:08.657Z"
   },
   {
    "duration": 11,
    "start_time": "2022-08-30T17:34:14.923Z"
   },
   {
    "duration": 26,
    "start_time": "2022-08-30T17:35:19.778Z"
   },
   {
    "duration": 29,
    "start_time": "2022-08-30T17:35:27.359Z"
   },
   {
    "duration": 1271,
    "start_time": "2022-08-30T17:35:36.513Z"
   },
   {
    "duration": 17,
    "start_time": "2022-08-30T17:35:37.787Z"
   },
   {
    "duration": 2,
    "start_time": "2022-08-30T17:35:37.806Z"
   },
   {
    "duration": 18,
    "start_time": "2022-08-30T17:35:37.810Z"
   },
   {
    "duration": 34,
    "start_time": "2022-08-30T17:35:37.829Z"
   },
   {
    "duration": 29,
    "start_time": "2022-08-30T17:35:37.865Z"
   },
   {
    "duration": 35,
    "start_time": "2022-08-30T17:35:37.895Z"
   },
   {
    "duration": 45,
    "start_time": "2022-08-30T17:35:37.932Z"
   },
   {
    "duration": 5,
    "start_time": "2022-08-30T17:35:37.978Z"
   },
   {
    "duration": 198,
    "start_time": "2022-08-30T17:35:37.985Z"
   },
   {
    "duration": 9,
    "start_time": "2022-08-30T17:35:38.185Z"
   },
   {
    "duration": 13,
    "start_time": "2022-08-30T17:35:38.196Z"
   },
   {
    "duration": 278,
    "start_time": "2022-08-30T17:35:38.210Z"
   },
   {
    "duration": 22,
    "start_time": "2022-08-30T17:35:52.535Z"
   },
   {
    "duration": 24,
    "start_time": "2022-08-30T17:36:57.656Z"
   },
   {
    "duration": 7,
    "start_time": "2022-08-30T17:40:32.345Z"
   },
   {
    "duration": 251,
    "start_time": "2022-08-30T17:40:39.346Z"
   },
   {
    "duration": 207,
    "start_time": "2022-08-30T17:41:22.168Z"
   },
   {
    "duration": 259,
    "start_time": "2022-08-30T17:41:29.429Z"
   },
   {
    "duration": 319,
    "start_time": "2022-08-30T17:41:36.670Z"
   },
   {
    "duration": 305,
    "start_time": "2022-08-30T17:43:15.137Z"
   },
   {
    "duration": 1205,
    "start_time": "2022-08-30T17:43:36.293Z"
   },
   {
    "duration": 17,
    "start_time": "2022-08-30T17:43:37.501Z"
   },
   {
    "duration": 4,
    "start_time": "2022-08-30T17:43:37.520Z"
   },
   {
    "duration": 21,
    "start_time": "2022-08-30T17:43:37.526Z"
   },
   {
    "duration": 26,
    "start_time": "2022-08-30T17:43:37.549Z"
   },
   {
    "duration": 24,
    "start_time": "2022-08-30T17:43:37.577Z"
   },
   {
    "duration": 32,
    "start_time": "2022-08-30T17:43:37.603Z"
   },
   {
    "duration": 42,
    "start_time": "2022-08-30T17:43:37.636Z"
   },
   {
    "duration": 5,
    "start_time": "2022-08-30T17:43:37.680Z"
   },
   {
    "duration": 209,
    "start_time": "2022-08-30T17:43:37.687Z"
   },
   {
    "duration": 24,
    "start_time": "2022-08-30T17:43:37.898Z"
   },
   {
    "duration": 13,
    "start_time": "2022-08-30T17:43:37.924Z"
   },
   {
    "duration": 289,
    "start_time": "2022-08-30T17:43:37.938Z"
   },
   {
    "duration": 2,
    "start_time": "2022-08-30T17:43:38.229Z"
   },
   {
    "duration": 267,
    "start_time": "2022-08-30T17:44:21.928Z"
   },
   {
    "duration": 247,
    "start_time": "2022-08-30T17:44:49.779Z"
   },
   {
    "duration": 1130,
    "start_time": "2022-08-30T17:44:57.339Z"
   },
   {
    "duration": 14,
    "start_time": "2022-08-30T17:44:58.471Z"
   },
   {
    "duration": 3,
    "start_time": "2022-08-30T17:44:58.487Z"
   },
   {
    "duration": 17,
    "start_time": "2022-08-30T17:44:58.491Z"
   },
   {
    "duration": 46,
    "start_time": "2022-08-30T17:44:58.510Z"
   },
   {
    "duration": 32,
    "start_time": "2022-08-30T17:44:58.558Z"
   },
   {
    "duration": 32,
    "start_time": "2022-08-30T17:44:58.591Z"
   },
   {
    "duration": 47,
    "start_time": "2022-08-30T17:44:58.625Z"
   },
   {
    "duration": 5,
    "start_time": "2022-08-30T17:44:58.674Z"
   },
   {
    "duration": 201,
    "start_time": "2022-08-30T17:44:58.680Z"
   },
   {
    "duration": 21,
    "start_time": "2022-08-30T17:44:58.883Z"
   },
   {
    "duration": 11,
    "start_time": "2022-08-30T17:44:58.905Z"
   },
   {
    "duration": 259,
    "start_time": "2022-08-30T17:44:58.918Z"
   },
   {
    "duration": 2,
    "start_time": "2022-08-30T17:44:59.179Z"
   },
   {
    "duration": 160,
    "start_time": "2022-08-30T17:45:43.654Z"
   },
   {
    "duration": 270,
    "start_time": "2022-08-30T17:45:53.777Z"
   },
   {
    "duration": 330,
    "start_time": "2022-08-30T17:51:57.205Z"
   },
   {
    "duration": 340,
    "start_time": "2022-08-30T17:53:11.494Z"
   },
   {
    "duration": 337,
    "start_time": "2022-08-30T17:53:41.748Z"
   },
   {
    "duration": 274,
    "start_time": "2022-08-30T17:53:55.329Z"
   },
   {
    "duration": 294,
    "start_time": "2022-08-30T17:54:24.999Z"
   },
   {
    "duration": 284,
    "start_time": "2022-08-30T17:54:43.675Z"
   },
   {
    "duration": 263,
    "start_time": "2022-08-30T17:54:52.460Z"
   },
   {
    "duration": 365,
    "start_time": "2022-08-30T17:55:10.522Z"
   },
   {
    "duration": 10,
    "start_time": "2022-08-30T17:56:23.001Z"
   },
   {
    "duration": 10,
    "start_time": "2022-08-30T17:56:50.062Z"
   },
   {
    "duration": 9,
    "start_time": "2022-08-30T17:57:31.436Z"
   },
   {
    "duration": 7,
    "start_time": "2022-08-30T17:57:39.971Z"
   },
   {
    "duration": 393,
    "start_time": "2022-08-30T17:58:52.480Z"
   },
   {
    "duration": 129,
    "start_time": "2022-08-30T18:02:50.045Z"
   },
   {
    "duration": 210,
    "start_time": "2022-08-30T18:03:18.086Z"
   },
   {
    "duration": 185,
    "start_time": "2022-08-30T18:03:56.962Z"
   },
   {
    "duration": 1066,
    "start_time": "2022-08-30T18:04:04.897Z"
   },
   {
    "duration": 13,
    "start_time": "2022-08-30T18:04:05.965Z"
   },
   {
    "duration": 3,
    "start_time": "2022-08-30T18:04:05.980Z"
   },
   {
    "duration": 17,
    "start_time": "2022-08-30T18:04:05.984Z"
   },
   {
    "duration": 23,
    "start_time": "2022-08-30T18:04:06.003Z"
   },
   {
    "duration": 50,
    "start_time": "2022-08-30T18:04:06.028Z"
   },
   {
    "duration": 32,
    "start_time": "2022-08-30T18:04:06.080Z"
   },
   {
    "duration": 41,
    "start_time": "2022-08-30T18:04:06.114Z"
   },
   {
    "duration": 4,
    "start_time": "2022-08-30T18:04:06.157Z"
   },
   {
    "duration": 192,
    "start_time": "2022-08-30T18:04:06.163Z"
   },
   {
    "duration": 20,
    "start_time": "2022-08-30T18:04:06.357Z"
   },
   {
    "duration": 11,
    "start_time": "2022-08-30T18:04:06.378Z"
   },
   {
    "duration": 418,
    "start_time": "2022-08-30T18:04:06.390Z"
   },
   {
    "duration": 197,
    "start_time": "2022-08-30T18:04:06.811Z"
   },
   {
    "duration": 956,
    "start_time": "2022-08-30T18:05:01.487Z"
   },
   {
    "duration": 3,
    "start_time": "2022-08-30T18:05:13.508Z"
   },
   {
    "duration": 7,
    "start_time": "2022-08-30T18:06:04.626Z"
   },
   {
    "duration": 6,
    "start_time": "2022-08-30T18:15:04.358Z"
   },
   {
    "duration": 9,
    "start_time": "2022-08-30T18:17:05.571Z"
   },
   {
    "duration": 92,
    "start_time": "2022-08-30T18:17:25.578Z"
   },
   {
    "duration": 9,
    "start_time": "2022-08-30T18:17:38.737Z"
   },
   {
    "duration": 25,
    "start_time": "2022-08-30T18:23:27.950Z"
   },
   {
    "duration": 26,
    "start_time": "2022-08-30T18:35:03.104Z"
   },
   {
    "duration": 34,
    "start_time": "2022-08-30T18:35:06.058Z"
   },
   {
    "duration": 1454,
    "start_time": "2022-08-30T18:35:18.641Z"
   },
   {
    "duration": 13,
    "start_time": "2022-08-30T18:35:20.097Z"
   },
   {
    "duration": 6,
    "start_time": "2022-08-30T18:35:20.112Z"
   },
   {
    "duration": 20,
    "start_time": "2022-08-30T18:35:20.119Z"
   },
   {
    "duration": 25,
    "start_time": "2022-08-30T18:35:20.140Z"
   },
   {
    "duration": 25,
    "start_time": "2022-08-30T18:35:20.166Z"
   },
   {
    "duration": 33,
    "start_time": "2022-08-30T18:35:20.193Z"
   },
   {
    "duration": 41,
    "start_time": "2022-08-30T18:35:20.227Z"
   },
   {
    "duration": 5,
    "start_time": "2022-08-30T18:35:20.270Z"
   },
   {
    "duration": 208,
    "start_time": "2022-08-30T18:35:20.276Z"
   },
   {
    "duration": 20,
    "start_time": "2022-08-30T18:35:20.486Z"
   },
   {
    "duration": 12,
    "start_time": "2022-08-30T18:35:20.507Z"
   },
   {
    "duration": 400,
    "start_time": "2022-08-30T18:35:20.520Z"
   },
   {
    "duration": 9,
    "start_time": "2022-08-30T18:35:20.922Z"
   },
   {
    "duration": 22,
    "start_time": "2022-08-30T18:35:49.147Z"
   },
   {
    "duration": 1239,
    "start_time": "2022-08-30T18:35:56.254Z"
   },
   {
    "duration": 18,
    "start_time": "2022-08-30T18:35:57.495Z"
   },
   {
    "duration": 8,
    "start_time": "2022-08-30T18:35:57.514Z"
   },
   {
    "duration": 26,
    "start_time": "2022-08-30T18:35:57.524Z"
   },
   {
    "duration": 27,
    "start_time": "2022-08-30T18:35:57.553Z"
   },
   {
    "duration": 25,
    "start_time": "2022-08-30T18:35:57.581Z"
   },
   {
    "duration": 51,
    "start_time": "2022-08-30T18:35:57.607Z"
   },
   {
    "duration": 29,
    "start_time": "2022-08-30T18:35:57.659Z"
   },
   {
    "duration": 5,
    "start_time": "2022-08-30T18:35:57.689Z"
   },
   {
    "duration": 210,
    "start_time": "2022-08-30T18:35:57.696Z"
   },
   {
    "duration": 10,
    "start_time": "2022-08-30T18:35:57.908Z"
   },
   {
    "duration": 13,
    "start_time": "2022-08-30T18:35:57.919Z"
   },
   {
    "duration": 394,
    "start_time": "2022-08-30T18:35:57.934Z"
   },
   {
    "duration": 9,
    "start_time": "2022-08-30T18:35:58.330Z"
   },
   {
    "duration": 101,
    "start_time": "2022-08-30T18:36:53.468Z"
   },
   {
    "duration": 26,
    "start_time": "2022-08-30T18:36:58.085Z"
   },
   {
    "duration": 27,
    "start_time": "2022-08-30T18:37:05.538Z"
   },
   {
    "duration": 26,
    "start_time": "2022-08-30T18:37:10.487Z"
   },
   {
    "duration": 23,
    "start_time": "2022-08-30T18:37:20.769Z"
   },
   {
    "duration": 1124,
    "start_time": "2022-08-30T18:38:58.738Z"
   },
   {
    "duration": 12,
    "start_time": "2022-08-30T18:38:59.864Z"
   },
   {
    "duration": 3,
    "start_time": "2022-08-30T18:38:59.877Z"
   },
   {
    "duration": 19,
    "start_time": "2022-08-30T18:38:59.881Z"
   },
   {
    "duration": 25,
    "start_time": "2022-08-30T18:38:59.902Z"
   },
   {
    "duration": 47,
    "start_time": "2022-08-30T18:38:59.929Z"
   },
   {
    "duration": 37,
    "start_time": "2022-08-30T18:38:59.978Z"
   },
   {
    "duration": 42,
    "start_time": "2022-08-30T18:39:00.016Z"
   },
   {
    "duration": 4,
    "start_time": "2022-08-30T18:39:00.060Z"
   },
   {
    "duration": 207,
    "start_time": "2022-08-30T18:39:00.065Z"
   },
   {
    "duration": 10,
    "start_time": "2022-08-30T18:39:00.274Z"
   },
   {
    "duration": 19,
    "start_time": "2022-08-30T18:39:00.285Z"
   },
   {
    "duration": 405,
    "start_time": "2022-08-30T18:39:00.306Z"
   },
   {
    "duration": 10,
    "start_time": "2022-08-30T18:39:00.713Z"
   },
   {
    "duration": 24,
    "start_time": "2022-08-30T18:39:38.659Z"
   },
   {
    "duration": 30,
    "start_time": "2022-08-30T18:39:43.962Z"
   },
   {
    "duration": 28,
    "start_time": "2022-08-30T18:40:51.398Z"
   },
   {
    "duration": 26,
    "start_time": "2022-08-30T18:41:15.454Z"
   },
   {
    "duration": 19,
    "start_time": "2022-08-30T18:41:18.840Z"
   },
   {
    "duration": 1044,
    "start_time": "2022-08-30T18:41:25.016Z"
   },
   {
    "duration": 13,
    "start_time": "2022-08-30T18:41:26.062Z"
   },
   {
    "duration": 3,
    "start_time": "2022-08-30T18:41:26.077Z"
   },
   {
    "duration": 17,
    "start_time": "2022-08-30T18:41:26.082Z"
   },
   {
    "duration": 55,
    "start_time": "2022-08-30T18:41:26.101Z"
   },
   {
    "duration": 17,
    "start_time": "2022-08-30T18:41:26.157Z"
   },
   {
    "duration": 29,
    "start_time": "2022-08-30T18:41:26.175Z"
   },
   {
    "duration": 26,
    "start_time": "2022-08-30T18:41:26.206Z"
   },
   {
    "duration": 24,
    "start_time": "2022-08-30T18:41:26.233Z"
   },
   {
    "duration": 190,
    "start_time": "2022-08-30T18:41:26.259Z"
   },
   {
    "duration": 12,
    "start_time": "2022-08-30T18:41:26.450Z"
   },
   {
    "duration": 13,
    "start_time": "2022-08-30T18:41:26.463Z"
   },
   {
    "duration": 420,
    "start_time": "2022-08-30T18:41:26.478Z"
   },
   {
    "duration": 11,
    "start_time": "2022-08-30T18:41:26.900Z"
   },
   {
    "duration": 18,
    "start_time": "2022-08-30T18:41:31.552Z"
   },
   {
    "duration": 17,
    "start_time": "2022-08-30T18:41:56.832Z"
   },
   {
    "duration": 5,
    "start_time": "2022-08-30T18:42:04.074Z"
   },
   {
    "duration": 1093,
    "start_time": "2022-08-30T18:42:13.021Z"
   },
   {
    "duration": 14,
    "start_time": "2022-08-30T18:42:14.116Z"
   },
   {
    "duration": 6,
    "start_time": "2022-08-30T18:42:14.131Z"
   },
   {
    "duration": 21,
    "start_time": "2022-08-30T18:42:14.138Z"
   },
   {
    "duration": 49,
    "start_time": "2022-08-30T18:42:14.161Z"
   },
   {
    "duration": 4,
    "start_time": "2022-08-30T18:42:14.212Z"
   },
   {
    "duration": 37,
    "start_time": "2022-08-30T18:42:14.217Z"
   },
   {
    "duration": 30,
    "start_time": "2022-08-30T18:42:14.256Z"
   },
   {
    "duration": 6,
    "start_time": "2022-08-30T18:42:14.287Z"
   },
   {
    "duration": 205,
    "start_time": "2022-08-30T18:42:14.294Z"
   },
   {
    "duration": 9,
    "start_time": "2022-08-30T18:42:14.501Z"
   },
   {
    "duration": 13,
    "start_time": "2022-08-30T18:42:14.511Z"
   },
   {
    "duration": 388,
    "start_time": "2022-08-30T18:42:14.525Z"
   },
   {
    "duration": 10,
    "start_time": "2022-08-30T18:42:14.915Z"
   },
   {
    "duration": 38,
    "start_time": "2022-08-30T18:43:26.813Z"
   },
   {
    "duration": 18,
    "start_time": "2022-08-30T18:43:37.653Z"
   },
   {
    "duration": 20,
    "start_time": "2022-08-30T18:43:42.170Z"
   },
   {
    "duration": 27,
    "start_time": "2022-08-30T18:45:11.125Z"
   },
   {
    "duration": 28,
    "start_time": "2022-08-30T18:46:58.819Z"
   },
   {
    "duration": 27,
    "start_time": "2022-08-30T18:47:05.438Z"
   },
   {
    "duration": 27,
    "start_time": "2022-08-30T18:47:58.445Z"
   },
   {
    "duration": 1158,
    "start_time": "2022-08-30T18:48:18.526Z"
   },
   {
    "duration": 13,
    "start_time": "2022-08-30T18:48:19.686Z"
   },
   {
    "duration": 3,
    "start_time": "2022-08-30T18:48:19.701Z"
   },
   {
    "duration": 25,
    "start_time": "2022-08-30T18:48:19.705Z"
   },
   {
    "duration": 33,
    "start_time": "2022-08-30T18:48:19.733Z"
   },
   {
    "duration": 26,
    "start_time": "2022-08-30T18:48:19.768Z"
   },
   {
    "duration": 30,
    "start_time": "2022-08-30T18:48:19.795Z"
   },
   {
    "duration": 44,
    "start_time": "2022-08-30T18:48:19.827Z"
   },
   {
    "duration": 4,
    "start_time": "2022-08-30T18:48:19.873Z"
   },
   {
    "duration": 198,
    "start_time": "2022-08-30T18:48:19.878Z"
   },
   {
    "duration": 10,
    "start_time": "2022-08-30T18:48:20.078Z"
   },
   {
    "duration": 15,
    "start_time": "2022-08-30T18:48:20.090Z"
   },
   {
    "duration": 400,
    "start_time": "2022-08-30T18:48:20.106Z"
   },
   {
    "duration": 11,
    "start_time": "2022-08-30T18:48:20.509Z"
   },
   {
    "duration": 8,
    "start_time": "2022-08-30T18:48:56.115Z"
   },
   {
    "duration": 1107,
    "start_time": "2022-08-30T18:49:01.656Z"
   },
   {
    "duration": 12,
    "start_time": "2022-08-30T18:49:02.765Z"
   },
   {
    "duration": 28,
    "start_time": "2022-08-30T18:49:02.778Z"
   },
   {
    "duration": 29,
    "start_time": "2022-08-30T18:49:02.808Z"
   },
   {
    "duration": 33,
    "start_time": "2022-08-30T18:49:02.839Z"
   },
   {
    "duration": 30,
    "start_time": "2022-08-30T18:49:02.874Z"
   },
   {
    "duration": 41,
    "start_time": "2022-08-30T18:49:02.905Z"
   },
   {
    "duration": 25,
    "start_time": "2022-08-30T18:49:02.948Z"
   },
   {
    "duration": 35,
    "start_time": "2022-08-30T18:49:02.975Z"
   },
   {
    "duration": 197,
    "start_time": "2022-08-30T18:49:03.012Z"
   },
   {
    "duration": 8,
    "start_time": "2022-08-30T18:49:03.210Z"
   },
   {
    "duration": 21,
    "start_time": "2022-08-30T18:49:03.220Z"
   },
   {
    "duration": 402,
    "start_time": "2022-08-30T18:49:03.242Z"
   },
   {
    "duration": 18,
    "start_time": "2022-08-30T18:49:03.647Z"
   },
   {
    "duration": 27,
    "start_time": "2022-08-30T18:50:08.991Z"
   },
   {
    "duration": 6,
    "start_time": "2022-08-30T18:50:22.995Z"
   },
   {
    "duration": 358,
    "start_time": "2022-08-30T18:51:23.520Z"
   },
   {
    "duration": 43,
    "start_time": "2022-08-31T05:00:05.646Z"
   },
   {
    "duration": 1375,
    "start_time": "2022-08-31T05:00:10.031Z"
   },
   {
    "duration": 16,
    "start_time": "2022-08-31T05:00:11.408Z"
   },
   {
    "duration": 9,
    "start_time": "2022-08-31T05:00:11.425Z"
   },
   {
    "duration": 23,
    "start_time": "2022-08-31T05:00:11.435Z"
   },
   {
    "duration": 32,
    "start_time": "2022-08-31T05:00:11.461Z"
   },
   {
    "duration": 22,
    "start_time": "2022-08-31T05:00:11.495Z"
   },
   {
    "duration": 37,
    "start_time": "2022-08-31T05:00:11.519Z"
   },
   {
    "duration": 54,
    "start_time": "2022-08-31T05:00:11.558Z"
   },
   {
    "duration": 7,
    "start_time": "2022-08-31T05:00:11.614Z"
   },
   {
    "duration": 233,
    "start_time": "2022-08-31T05:00:11.623Z"
   },
   {
    "duration": 15,
    "start_time": "2022-08-31T05:00:11.858Z"
   },
   {
    "duration": 456,
    "start_time": "2022-08-31T05:00:11.884Z"
   },
   {
    "duration": 13,
    "start_time": "2022-08-31T05:00:12.342Z"
   },
   {
    "duration": 25,
    "start_time": "2022-08-31T05:01:38.216Z"
   },
   {
    "duration": 98,
    "start_time": "2022-08-31T05:03:27.031Z"
   },
   {
    "duration": 25,
    "start_time": "2022-08-31T05:03:36.967Z"
   },
   {
    "duration": 21,
    "start_time": "2022-08-31T05:10:10.853Z"
   },
   {
    "duration": 48,
    "start_time": "2022-08-31T05:10:20.970Z"
   },
   {
    "duration": 45,
    "start_time": "2022-08-31T05:10:35.086Z"
   },
   {
    "duration": 45,
    "start_time": "2022-08-31T05:10:46.750Z"
   },
   {
    "duration": 40,
    "start_time": "2022-08-31T05:11:25.814Z"
   },
   {
    "duration": 32,
    "start_time": "2022-08-31T05:41:31.698Z"
   },
   {
    "duration": 39,
    "start_time": "2022-08-31T05:41:46.528Z"
   },
   {
    "duration": 30,
    "start_time": "2022-08-31T05:42:11.420Z"
   },
   {
    "duration": 31,
    "start_time": "2022-08-31T05:42:17.036Z"
   },
   {
    "duration": 1220,
    "start_time": "2022-08-31T05:42:27.510Z"
   },
   {
    "duration": 15,
    "start_time": "2022-08-31T05:42:28.732Z"
   },
   {
    "duration": 3,
    "start_time": "2022-08-31T05:42:28.748Z"
   },
   {
    "duration": 25,
    "start_time": "2022-08-31T05:42:28.753Z"
   },
   {
    "duration": 34,
    "start_time": "2022-08-31T05:42:28.780Z"
   },
   {
    "duration": 31,
    "start_time": "2022-08-31T05:42:28.816Z"
   },
   {
    "duration": 51,
    "start_time": "2022-08-31T05:42:28.849Z"
   },
   {
    "duration": 30,
    "start_time": "2022-08-31T05:42:28.902Z"
   },
   {
    "duration": 7,
    "start_time": "2022-08-31T05:42:28.934Z"
   },
   {
    "duration": 229,
    "start_time": "2022-08-31T05:42:28.943Z"
   },
   {
    "duration": 53,
    "start_time": "2022-08-31T05:42:29.174Z"
   },
   {
    "duration": 19,
    "start_time": "2022-08-31T05:42:29.229Z"
   },
   {
    "duration": 475,
    "start_time": "2022-08-31T05:42:29.250Z"
   },
   {
    "duration": 12,
    "start_time": "2022-08-31T05:42:29.727Z"
   },
   {
    "duration": 42,
    "start_time": "2022-08-31T05:42:49.064Z"
   },
   {
    "duration": 17,
    "start_time": "2022-08-31T05:43:10.087Z"
   },
   {
    "duration": 31,
    "start_time": "2022-08-31T05:43:46.093Z"
   },
   {
    "duration": 1190,
    "start_time": "2022-08-31T05:44:00.147Z"
   },
   {
    "duration": 15,
    "start_time": "2022-08-31T05:44:01.339Z"
   },
   {
    "duration": 10,
    "start_time": "2022-08-31T05:44:01.356Z"
   },
   {
    "duration": 29,
    "start_time": "2022-08-31T05:44:01.368Z"
   },
   {
    "duration": 37,
    "start_time": "2022-08-31T05:44:01.399Z"
   },
   {
    "duration": 31,
    "start_time": "2022-08-31T05:44:01.437Z"
   },
   {
    "duration": 48,
    "start_time": "2022-08-31T05:44:01.470Z"
   },
   {
    "duration": 42,
    "start_time": "2022-08-31T05:44:01.520Z"
   },
   {
    "duration": 21,
    "start_time": "2022-08-31T05:44:01.564Z"
   },
   {
    "duration": 209,
    "start_time": "2022-08-31T05:44:01.587Z"
   },
   {
    "duration": 16,
    "start_time": "2022-08-31T05:44:01.798Z"
   },
   {
    "duration": 14,
    "start_time": "2022-08-31T05:44:01.816Z"
   },
   {
    "duration": 437,
    "start_time": "2022-08-31T05:44:01.832Z"
   },
   {
    "duration": 16,
    "start_time": "2022-08-31T05:44:02.271Z"
   },
   {
    "duration": 41,
    "start_time": "2022-08-31T05:44:51.255Z"
   },
   {
    "duration": 45,
    "start_time": "2022-08-31T05:45:06.226Z"
   },
   {
    "duration": 40,
    "start_time": "2022-08-31T05:45:14.979Z"
   },
   {
    "duration": 41,
    "start_time": "2022-08-31T05:45:30.899Z"
   },
   {
    "duration": 42,
    "start_time": "2022-08-31T05:45:45.355Z"
   },
   {
    "duration": 31,
    "start_time": "2022-08-31T05:45:59.819Z"
   },
   {
    "duration": 27,
    "start_time": "2022-08-31T05:46:07.055Z"
   },
   {
    "duration": 37,
    "start_time": "2022-08-31T05:46:24.379Z"
   },
   {
    "duration": 29,
    "start_time": "2022-08-31T05:46:36.310Z"
   },
   {
    "duration": 9,
    "start_time": "2022-08-31T05:46:44.472Z"
   },
   {
    "duration": 201,
    "start_time": "2022-08-31T05:47:33.265Z"
   },
   {
    "duration": 14,
    "start_time": "2022-08-31T05:47:37.422Z"
   },
   {
    "duration": 27,
    "start_time": "2022-08-31T05:49:16.578Z"
   },
   {
    "duration": 39,
    "start_time": "2022-08-31T05:49:21.771Z"
   },
   {
    "duration": 40,
    "start_time": "2022-08-31T05:49:27.336Z"
   },
   {
    "duration": 42,
    "start_time": "2022-08-31T05:49:41.359Z"
   },
   {
    "duration": 44,
    "start_time": "2022-08-31T05:53:49.397Z"
   },
   {
    "duration": 42,
    "start_time": "2022-08-31T05:53:58.726Z"
   },
   {
    "duration": 21,
    "start_time": "2022-08-31T05:55:03.077Z"
   },
   {
    "duration": 1217,
    "start_time": "2022-08-31T05:55:14.125Z"
   },
   {
    "duration": 19,
    "start_time": "2022-08-31T05:55:15.344Z"
   },
   {
    "duration": 4,
    "start_time": "2022-08-31T05:55:15.365Z"
   },
   {
    "duration": 20,
    "start_time": "2022-08-31T05:55:15.371Z"
   },
   {
    "duration": 33,
    "start_time": "2022-08-31T05:55:15.394Z"
   },
   {
    "duration": 32,
    "start_time": "2022-08-31T05:55:15.429Z"
   },
   {
    "duration": 55,
    "start_time": "2022-08-31T05:55:15.463Z"
   },
   {
    "duration": 32,
    "start_time": "2022-08-31T05:55:15.520Z"
   },
   {
    "duration": 8,
    "start_time": "2022-08-31T05:55:15.553Z"
   },
   {
    "duration": 203,
    "start_time": "2022-08-31T05:55:15.585Z"
   },
   {
    "duration": 14,
    "start_time": "2022-08-31T05:55:15.790Z"
   },
   {
    "duration": 19,
    "start_time": "2022-08-31T05:55:15.805Z"
   },
   {
    "duration": 466,
    "start_time": "2022-08-31T05:55:15.826Z"
   },
   {
    "duration": 11,
    "start_time": "2022-08-31T05:55:16.294Z"
   },
   {
    "duration": 396,
    "start_time": "2022-08-31T05:56:28.136Z"
   },
   {
    "duration": 101,
    "start_time": "2022-08-31T05:57:43.292Z"
   },
   {
    "duration": 14,
    "start_time": "2022-08-31T05:58:51.442Z"
   },
   {
    "duration": 17,
    "start_time": "2022-08-31T06:00:00.176Z"
   },
   {
    "duration": 32,
    "start_time": "2022-08-31T06:00:07.951Z"
   },
   {
    "duration": 23,
    "start_time": "2022-08-31T06:00:45.221Z"
   },
   {
    "duration": 4,
    "start_time": "2022-08-31T06:00:52.923Z"
   },
   {
    "duration": 19,
    "start_time": "2022-08-31T06:01:06.372Z"
   },
   {
    "duration": 3,
    "start_time": "2022-08-31T06:02:59.987Z"
   },
   {
    "duration": 27,
    "start_time": "2022-08-31T06:03:11.435Z"
   },
   {
    "duration": 20,
    "start_time": "2022-08-31T06:03:30.798Z"
   },
   {
    "duration": 25,
    "start_time": "2022-08-31T06:05:12.145Z"
   },
   {
    "duration": 20,
    "start_time": "2022-08-31T06:05:47.536Z"
   },
   {
    "duration": 357,
    "start_time": "2022-08-31T06:06:03.135Z"
   },
   {
    "duration": 13,
    "start_time": "2022-08-31T06:06:34.640Z"
   },
   {
    "duration": 77,
    "start_time": "2022-08-31T06:08:03.341Z"
   },
   {
    "duration": 11,
    "start_time": "2022-08-31T06:08:16.840Z"
   },
   {
    "duration": 15,
    "start_time": "2022-08-31T06:09:42.841Z"
   },
   {
    "duration": 13,
    "start_time": "2022-08-31T06:10:31.846Z"
   },
   {
    "duration": 12,
    "start_time": "2022-08-31T06:10:46.704Z"
   },
   {
    "duration": 4,
    "start_time": "2022-08-31T06:11:18.101Z"
   },
   {
    "duration": 10,
    "start_time": "2022-08-31T06:11:20.879Z"
   },
   {
    "duration": 11,
    "start_time": "2022-08-31T06:11:38.826Z"
   },
   {
    "duration": 12,
    "start_time": "2022-08-31T06:11:58.596Z"
   },
   {
    "duration": 11,
    "start_time": "2022-08-31T06:12:14.312Z"
   },
   {
    "duration": 12,
    "start_time": "2022-08-31T06:12:29.421Z"
   },
   {
    "duration": 1146,
    "start_time": "2022-08-31T06:12:35.389Z"
   },
   {
    "duration": 16,
    "start_time": "2022-08-31T06:12:36.536Z"
   },
   {
    "duration": 3,
    "start_time": "2022-08-31T06:12:36.554Z"
   },
   {
    "duration": 19,
    "start_time": "2022-08-31T06:12:36.559Z"
   },
   {
    "duration": 33,
    "start_time": "2022-08-31T06:12:36.580Z"
   },
   {
    "duration": 30,
    "start_time": "2022-08-31T06:12:36.615Z"
   },
   {
    "duration": 50,
    "start_time": "2022-08-31T06:12:36.646Z"
   },
   {
    "duration": 31,
    "start_time": "2022-08-31T06:12:36.697Z"
   },
   {
    "duration": 7,
    "start_time": "2022-08-31T06:12:36.730Z"
   },
   {
    "duration": 217,
    "start_time": "2022-08-31T06:12:36.739Z"
   },
   {
    "duration": 15,
    "start_time": "2022-08-31T06:12:36.958Z"
   },
   {
    "duration": 28,
    "start_time": "2022-08-31T06:12:36.974Z"
   },
   {
    "duration": 437,
    "start_time": "2022-08-31T06:12:37.004Z"
   },
   {
    "duration": 21,
    "start_time": "2022-08-31T06:12:37.444Z"
   },
   {
    "duration": 21,
    "start_time": "2022-08-31T06:12:50.320Z"
   },
   {
    "duration": 19,
    "start_time": "2022-08-31T06:13:03.710Z"
   },
   {
    "duration": 12,
    "start_time": "2022-08-31T06:14:53.194Z"
   },
   {
    "duration": 101,
    "start_time": "2022-08-31T07:03:04.101Z"
   },
   {
    "duration": 30,
    "start_time": "2022-08-31T07:03:41.877Z"
   },
   {
    "duration": 15,
    "start_time": "2022-08-31T07:04:33.420Z"
   },
   {
    "duration": 17,
    "start_time": "2022-08-31T07:04:50.470Z"
   },
   {
    "duration": 17,
    "start_time": "2022-08-31T07:05:28.686Z"
   },
   {
    "duration": 17,
    "start_time": "2022-08-31T07:05:46.678Z"
   },
   {
    "duration": 8,
    "start_time": "2022-08-31T07:05:58.987Z"
   },
   {
    "duration": 18,
    "start_time": "2022-08-31T07:06:03.580Z"
   },
   {
    "duration": 18,
    "start_time": "2022-08-31T07:06:37.202Z"
   },
   {
    "duration": 12,
    "start_time": "2022-08-31T07:06:53.666Z"
   },
   {
    "duration": 10,
    "start_time": "2022-08-31T07:08:22.232Z"
   },
   {
    "duration": 19,
    "start_time": "2022-08-31T07:09:24.319Z"
   },
   {
    "duration": 10,
    "start_time": "2022-08-31T07:09:40.411Z"
   },
   {
    "duration": 10,
    "start_time": "2022-08-31T07:10:21.894Z"
   },
   {
    "duration": 12,
    "start_time": "2022-08-31T07:10:37.964Z"
   },
   {
    "duration": 12,
    "start_time": "2022-08-31T07:11:06.734Z"
   },
   {
    "duration": 14,
    "start_time": "2022-08-31T07:12:01.384Z"
   },
   {
    "duration": 123,
    "start_time": "2022-08-31T07:12:18.563Z"
   },
   {
    "duration": 175,
    "start_time": "2022-08-31T07:12:25.763Z"
   },
   {
    "duration": 18,
    "start_time": "2022-08-31T07:13:08.787Z"
   },
   {
    "duration": 13,
    "start_time": "2022-08-31T07:13:15.709Z"
   },
   {
    "duration": 13,
    "start_time": "2022-08-31T07:13:44.790Z"
   },
   {
    "duration": 13,
    "start_time": "2022-08-31T07:14:00.583Z"
   },
   {
    "duration": 13,
    "start_time": "2022-08-31T07:14:18.589Z"
   },
   {
    "duration": 15,
    "start_time": "2022-08-31T07:14:50.843Z"
   },
   {
    "duration": 14,
    "start_time": "2022-08-31T07:15:12.851Z"
   },
   {
    "duration": 13,
    "start_time": "2022-08-31T07:16:02.767Z"
   },
   {
    "duration": 12,
    "start_time": "2022-08-31T07:16:17.272Z"
   },
   {
    "duration": 13,
    "start_time": "2022-08-31T07:16:38.573Z"
   },
   {
    "duration": 13,
    "start_time": "2022-08-31T07:18:51.028Z"
   },
   {
    "duration": 20,
    "start_time": "2022-08-31T07:19:19.335Z"
   },
   {
    "duration": 12,
    "start_time": "2022-08-31T07:19:30.768Z"
   },
   {
    "duration": 12,
    "start_time": "2022-08-31T07:21:11.068Z"
   },
   {
    "duration": 26,
    "start_time": "2022-08-31T09:16:13.558Z"
   },
   {
    "duration": 23,
    "start_time": "2022-08-31T09:16:19.654Z"
   },
   {
    "duration": 20,
    "start_time": "2022-08-31T09:16:39.797Z"
   },
   {
    "duration": 11,
    "start_time": "2022-08-31T09:18:12.845Z"
   },
   {
    "duration": 20,
    "start_time": "2022-08-31T09:18:19.035Z"
   },
   {
    "duration": 21,
    "start_time": "2022-08-31T09:19:27.341Z"
   },
   {
    "duration": 138,
    "start_time": "2022-08-31T09:19:32.351Z"
   },
   {
    "duration": 28,
    "start_time": "2022-08-31T09:19:36.326Z"
   },
   {
    "duration": 1394,
    "start_time": "2022-08-31T09:23:59.883Z"
   },
   {
    "duration": 2076,
    "start_time": "2022-08-31T09:24:03.372Z"
   },
   {
    "duration": 998,
    "start_time": "2022-08-31T09:51:58.352Z"
   },
   {
    "duration": 11,
    "start_time": "2022-08-31T09:52:25.345Z"
   },
   {
    "duration": 9,
    "start_time": "2022-08-31T09:52:35.843Z"
   },
   {
    "duration": 16,
    "start_time": "2022-08-31T09:52:41.101Z"
   },
   {
    "duration": 19,
    "start_time": "2022-08-31T09:52:52.137Z"
   },
   {
    "duration": 17,
    "start_time": "2022-08-31T09:53:21.100Z"
   },
   {
    "duration": 374,
    "start_time": "2022-08-31T09:53:33.300Z"
   },
   {
    "duration": 118,
    "start_time": "2022-08-31T09:53:43.427Z"
   },
   {
    "duration": 87,
    "start_time": "2022-08-31T09:53:52.112Z"
   },
   {
    "duration": 181,
    "start_time": "2022-08-31T09:53:57.517Z"
   },
   {
    "duration": 16,
    "start_time": "2022-08-31T09:54:16.063Z"
   },
   {
    "duration": 10,
    "start_time": "2022-08-31T09:54:36.479Z"
   },
   {
    "duration": 0,
    "start_time": "2022-08-31T09:54:46.899Z"
   },
   {
    "duration": 14,
    "start_time": "2022-08-31T09:54:52.799Z"
   },
   {
    "duration": 1401,
    "start_time": "2022-08-31T09:54:58.705Z"
   },
   {
    "duration": 15,
    "start_time": "2022-08-31T09:55:00.109Z"
   },
   {
    "duration": 12,
    "start_time": "2022-08-31T09:55:00.126Z"
   },
   {
    "duration": 28,
    "start_time": "2022-08-31T09:55:00.140Z"
   },
   {
    "duration": 33,
    "start_time": "2022-08-31T09:55:00.184Z"
   },
   {
    "duration": 31,
    "start_time": "2022-08-31T09:55:00.219Z"
   },
   {
    "duration": 55,
    "start_time": "2022-08-31T09:55:00.252Z"
   },
   {
    "duration": 35,
    "start_time": "2022-08-31T09:55:00.309Z"
   },
   {
    "duration": 9,
    "start_time": "2022-08-31T09:55:00.346Z"
   },
   {
    "duration": 227,
    "start_time": "2022-08-31T09:55:00.356Z"
   },
   {
    "duration": 15,
    "start_time": "2022-08-31T09:55:00.586Z"
   },
   {
    "duration": 42,
    "start_time": "2022-08-31T09:55:00.604Z"
   },
   {
    "duration": 491,
    "start_time": "2022-08-31T09:55:00.648Z"
   },
   {
    "duration": 12,
    "start_time": "2022-08-31T09:55:01.142Z"
   },
   {
    "duration": 48,
    "start_time": "2022-08-31T09:55:01.156Z"
   },
   {
    "duration": 29,
    "start_time": "2022-08-31T09:55:01.205Z"
   },
   {
    "duration": 7247,
    "start_time": "2022-08-31T09:55:07.340Z"
   },
   {
    "duration": 20,
    "start_time": "2022-08-31T09:55:40.468Z"
   },
   {
    "duration": 19,
    "start_time": "2022-08-31T09:57:17.339Z"
   },
   {
    "duration": 13,
    "start_time": "2022-08-31T09:57:59.200Z"
   },
   {
    "duration": 34,
    "start_time": "2022-08-31T09:58:15.701Z"
   },
   {
    "duration": 38,
    "start_time": "2022-08-31T09:59:06.581Z"
   },
   {
    "duration": 27,
    "start_time": "2022-08-31T09:59:39.236Z"
   },
   {
    "duration": 28,
    "start_time": "2022-08-31T09:59:51.485Z"
   },
   {
    "duration": 20,
    "start_time": "2022-08-31T10:02:23.857Z"
   },
   {
    "duration": 12,
    "start_time": "2022-08-31T10:04:11.302Z"
   },
   {
    "duration": 24,
    "start_time": "2022-08-31T10:04:24.500Z"
   },
   {
    "duration": 19,
    "start_time": "2022-08-31T10:04:33.959Z"
   },
   {
    "duration": 34,
    "start_time": "2022-08-31T10:04:45.765Z"
   },
   {
    "duration": 21,
    "start_time": "2022-08-31T10:05:13.646Z"
   },
   {
    "duration": 1387,
    "start_time": "2022-08-31T10:05:24.977Z"
   },
   {
    "duration": 16,
    "start_time": "2022-08-31T10:05:26.366Z"
   },
   {
    "duration": 9,
    "start_time": "2022-08-31T10:05:26.384Z"
   },
   {
    "duration": 25,
    "start_time": "2022-08-31T10:05:26.399Z"
   },
   {
    "duration": 34,
    "start_time": "2022-08-31T10:05:26.427Z"
   },
   {
    "duration": 42,
    "start_time": "2022-08-31T10:05:26.463Z"
   },
   {
    "duration": 35,
    "start_time": "2022-08-31T10:05:26.507Z"
   },
   {
    "duration": 50,
    "start_time": "2022-08-31T10:05:26.544Z"
   },
   {
    "duration": 8,
    "start_time": "2022-08-31T10:05:26.599Z"
   },
   {
    "duration": 216,
    "start_time": "2022-08-31T10:05:26.608Z"
   },
   {
    "duration": 17,
    "start_time": "2022-08-31T10:05:26.825Z"
   },
   {
    "duration": 20,
    "start_time": "2022-08-31T10:05:26.844Z"
   },
   {
    "duration": 478,
    "start_time": "2022-08-31T10:05:26.865Z"
   },
   {
    "duration": 11,
    "start_time": "2022-08-31T10:05:27.345Z"
   },
   {
    "duration": 34,
    "start_time": "2022-08-31T10:05:27.358Z"
   },
   {
    "duration": 22,
    "start_time": "2022-08-31T10:05:27.398Z"
   },
   {
    "duration": 21,
    "start_time": "2022-08-31T10:05:43.940Z"
   },
   {
    "duration": 23,
    "start_time": "2022-08-31T10:06:06.493Z"
   },
   {
    "duration": 981,
    "start_time": "2022-08-31T10:06:35.068Z"
   },
   {
    "duration": 25,
    "start_time": "2022-08-31T10:06:54.499Z"
   },
   {
    "duration": 20,
    "start_time": "2022-08-31T10:08:13.826Z"
   },
   {
    "duration": 16,
    "start_time": "2022-08-31T10:08:49.651Z"
   },
   {
    "duration": 22,
    "start_time": "2022-08-31T10:09:50.635Z"
   },
   {
    "duration": 23,
    "start_time": "2022-08-31T10:10:34.028Z"
   },
   {
    "duration": 29,
    "start_time": "2022-08-31T10:10:50.667Z"
   },
   {
    "duration": 14,
    "start_time": "2022-08-31T10:11:25.421Z"
   },
   {
    "duration": 20,
    "start_time": "2022-08-31T10:11:39.014Z"
   },
   {
    "duration": 5,
    "start_time": "2022-08-31T10:12:03.796Z"
   },
   {
    "duration": 9,
    "start_time": "2022-08-31T10:14:36.336Z"
   },
   {
    "duration": 30,
    "start_time": "2022-08-31T10:26:13.952Z"
   },
   {
    "duration": 27,
    "start_time": "2022-08-31T10:26:23.654Z"
   },
   {
    "duration": 18,
    "start_time": "2022-08-31T11:02:47.565Z"
   },
   {
    "duration": 12,
    "start_time": "2022-08-31T11:03:07.195Z"
   },
   {
    "duration": 30,
    "start_time": "2022-08-31T11:03:22.503Z"
   },
   {
    "duration": 13,
    "start_time": "2022-08-31T11:03:47.384Z"
   },
   {
    "duration": 587,
    "start_time": "2022-08-31T11:20:47.700Z"
   },
   {
    "duration": 1014,
    "start_time": "2022-08-31T11:22:05.284Z"
   },
   {
    "duration": 1713,
    "start_time": "2022-08-31T11:22:27.106Z"
   },
   {
    "duration": 786,
    "start_time": "2022-08-31T11:25:03.901Z"
   },
   {
    "duration": 577,
    "start_time": "2022-08-31T11:25:20.497Z"
   },
   {
    "duration": 546,
    "start_time": "2022-08-31T11:25:35.760Z"
   },
   {
    "duration": 727,
    "start_time": "2022-08-31T11:25:52.797Z"
   },
   {
    "duration": 545,
    "start_time": "2022-08-31T11:26:28.380Z"
   },
   {
    "duration": 668,
    "start_time": "2022-08-31T11:27:21.114Z"
   },
   {
    "duration": 579,
    "start_time": "2022-08-31T11:27:35.363Z"
   },
   {
    "duration": 33,
    "start_time": "2022-08-31T13:19:34.337Z"
   },
   {
    "duration": 32,
    "start_time": "2022-08-31T13:20:14.697Z"
   },
   {
    "duration": 9,
    "start_time": "2022-08-31T13:21:45.303Z"
   },
   {
    "duration": 24,
    "start_time": "2022-08-31T13:21:56.274Z"
   },
   {
    "duration": 15,
    "start_time": "2022-08-31T13:22:19.558Z"
   },
   {
    "duration": 25,
    "start_time": "2022-08-31T13:22:21.361Z"
   },
   {
    "duration": 25,
    "start_time": "2022-08-31T13:22:26.766Z"
   },
   {
    "duration": 32,
    "start_time": "2022-08-31T13:23:07.720Z"
   },
   {
    "duration": 2371,
    "start_time": "2022-08-31T13:23:23.713Z"
   },
   {
    "duration": 91,
    "start_time": "2022-08-31T13:23:52.686Z"
   },
   {
    "duration": 48,
    "start_time": "2022-08-31T13:24:01.060Z"
   },
   {
    "duration": 53,
    "start_time": "2022-08-31T13:24:16.190Z"
   },
   {
    "duration": 2309,
    "start_time": "2022-08-31T13:24:50.798Z"
   },
   {
    "duration": 2190,
    "start_time": "2022-08-31T13:24:59.519Z"
   },
   {
    "duration": 30,
    "start_time": "2022-08-31T13:25:12.758Z"
   },
   {
    "duration": 2380,
    "start_time": "2022-08-31T13:25:51.420Z"
   },
   {
    "duration": 6405,
    "start_time": "2022-08-31T13:26:45.529Z"
   },
   {
    "duration": 2569,
    "start_time": "2022-08-31T13:28:13.057Z"
   },
   {
    "duration": 2644,
    "start_time": "2022-08-31T13:29:27.981Z"
   },
   {
    "duration": 10,
    "start_time": "2022-08-31T13:30:12.490Z"
   },
   {
    "duration": 3063,
    "start_time": "2022-08-31T13:30:20.591Z"
   },
   {
    "duration": 2569,
    "start_time": "2022-08-31T13:30:43.701Z"
   },
   {
    "duration": 2543,
    "start_time": "2022-08-31T13:33:47.228Z"
   },
   {
    "duration": 1318,
    "start_time": "2022-08-31T13:34:04.849Z"
   },
   {
    "duration": 15,
    "start_time": "2022-08-31T13:34:06.169Z"
   },
   {
    "duration": 26,
    "start_time": "2022-08-31T13:34:06.186Z"
   },
   {
    "duration": 25,
    "start_time": "2022-08-31T13:34:06.214Z"
   },
   {
    "duration": 37,
    "start_time": "2022-08-31T13:34:06.240Z"
   },
   {
    "duration": 49,
    "start_time": "2022-08-31T13:34:06.278Z"
   },
   {
    "duration": 35,
    "start_time": "2022-08-31T13:34:06.329Z"
   },
   {
    "duration": 33,
    "start_time": "2022-08-31T13:34:06.366Z"
   },
   {
    "duration": 6,
    "start_time": "2022-08-31T13:34:06.401Z"
   },
   {
    "duration": 28,
    "start_time": "2022-08-31T13:34:06.410Z"
   },
   {
    "duration": 204,
    "start_time": "2022-08-31T13:34:06.440Z"
   },
   {
    "duration": 13,
    "start_time": "2022-08-31T13:34:06.646Z"
   },
   {
    "duration": 33,
    "start_time": "2022-08-31T13:34:06.661Z"
   },
   {
    "duration": 642,
    "start_time": "2022-08-31T13:34:06.696Z"
   },
   {
    "duration": 23,
    "start_time": "2022-08-31T13:34:07.340Z"
   },
   {
    "duration": 25,
    "start_time": "2022-08-31T13:34:07.366Z"
   },
   {
    "duration": 24,
    "start_time": "2022-08-31T13:39:52.577Z"
   },
   {
    "duration": 42,
    "start_time": "2022-08-31T13:39:57.669Z"
   },
   {
    "duration": 20,
    "start_time": "2022-08-31T13:40:13.835Z"
   },
   {
    "duration": 25,
    "start_time": "2022-08-31T13:40:23.078Z"
   },
   {
    "duration": 4,
    "start_time": "2022-08-31T13:42:31.323Z"
   },
   {
    "duration": 10,
    "start_time": "2022-08-31T13:42:41.076Z"
   },
   {
    "duration": 1799,
    "start_time": "2022-08-31T13:43:13.727Z"
   },
   {
    "duration": 20,
    "start_time": "2022-08-31T13:43:27.362Z"
   },
   {
    "duration": 21,
    "start_time": "2022-08-31T13:43:58.378Z"
   },
   {
    "duration": 20,
    "start_time": "2022-08-31T13:44:12.641Z"
   },
   {
    "duration": 20,
    "start_time": "2022-08-31T13:44:13.618Z"
   },
   {
    "duration": 11,
    "start_time": "2022-08-31T13:44:21.867Z"
   },
   {
    "duration": 10,
    "start_time": "2022-08-31T13:44:33.529Z"
   },
   {
    "duration": 1175,
    "start_time": "2022-08-31T13:44:50.618Z"
   },
   {
    "duration": 15,
    "start_time": "2022-08-31T13:44:51.796Z"
   },
   {
    "duration": 8,
    "start_time": "2022-08-31T13:44:51.813Z"
   },
   {
    "duration": 25,
    "start_time": "2022-08-31T13:44:51.822Z"
   },
   {
    "duration": 38,
    "start_time": "2022-08-31T13:44:51.849Z"
   },
   {
    "duration": 32,
    "start_time": "2022-08-31T13:44:51.889Z"
   },
   {
    "duration": 37,
    "start_time": "2022-08-31T13:44:51.923Z"
   },
   {
    "duration": 34,
    "start_time": "2022-08-31T13:44:51.984Z"
   },
   {
    "duration": 8,
    "start_time": "2022-08-31T13:44:52.020Z"
   },
   {
    "duration": 23,
    "start_time": "2022-08-31T13:44:52.029Z"
   },
   {
    "duration": 251,
    "start_time": "2022-08-31T13:44:52.054Z"
   },
   {
    "duration": 15,
    "start_time": "2022-08-31T13:44:52.307Z"
   },
   {
    "duration": 13,
    "start_time": "2022-08-31T13:44:52.324Z"
   },
   {
    "duration": 676,
    "start_time": "2022-08-31T13:44:52.340Z"
   },
   {
    "duration": 107,
    "start_time": "2022-08-31T13:44:53.018Z"
   },
   {
    "duration": 0,
    "start_time": "2022-08-31T13:44:53.127Z"
   },
   {
    "duration": 0,
    "start_time": "2022-08-31T13:44:53.128Z"
   },
   {
    "duration": 23,
    "start_time": "2022-08-31T13:45:13.245Z"
   },
   {
    "duration": 1218,
    "start_time": "2022-08-31T13:46:01.137Z"
   },
   {
    "duration": 18,
    "start_time": "2022-08-31T13:46:02.357Z"
   },
   {
    "duration": 3,
    "start_time": "2022-08-31T13:46:02.377Z"
   },
   {
    "duration": 29,
    "start_time": "2022-08-31T13:46:02.382Z"
   },
   {
    "duration": 35,
    "start_time": "2022-08-31T13:46:02.413Z"
   },
   {
    "duration": 43,
    "start_time": "2022-08-31T13:46:02.450Z"
   },
   {
    "duration": 38,
    "start_time": "2022-08-31T13:46:02.495Z"
   },
   {
    "duration": 49,
    "start_time": "2022-08-31T13:46:02.536Z"
   },
   {
    "duration": 8,
    "start_time": "2022-08-31T13:46:02.587Z"
   },
   {
    "duration": 23,
    "start_time": "2022-08-31T13:46:02.597Z"
   },
   {
    "duration": 236,
    "start_time": "2022-08-31T13:46:02.622Z"
   },
   {
    "duration": 26,
    "start_time": "2022-08-31T13:46:02.860Z"
   },
   {
    "duration": 15,
    "start_time": "2022-08-31T13:46:02.889Z"
   },
   {
    "duration": 599,
    "start_time": "2022-08-31T13:46:02.908Z"
   },
   {
    "duration": 21,
    "start_time": "2022-08-31T13:46:03.509Z"
   },
   {
    "duration": 29,
    "start_time": "2022-08-31T13:46:03.532Z"
   },
   {
    "duration": 1354,
    "start_time": "2022-08-31T13:46:03.563Z"
   },
   {
    "duration": 10,
    "start_time": "2022-08-31T13:46:16.175Z"
   },
   {
    "duration": 16,
    "start_time": "2022-08-31T13:46:23.794Z"
   },
   {
    "duration": 13,
    "start_time": "2022-08-31T13:47:37.050Z"
   },
   {
    "duration": 13,
    "start_time": "2022-08-31T13:47:52.272Z"
   },
   {
    "duration": 11,
    "start_time": "2022-08-31T13:48:04.743Z"
   },
   {
    "duration": 5,
    "start_time": "2022-08-31T13:53:40.167Z"
   },
   {
    "duration": 52,
    "start_time": "2022-08-31T13:56:32.621Z"
   },
   {
    "duration": 203,
    "start_time": "2022-08-31T13:57:28.427Z"
   },
   {
    "duration": 13,
    "start_time": "2022-08-31T13:57:47.842Z"
   },
   {
    "duration": 10,
    "start_time": "2022-08-31T13:58:00.650Z"
   },
   {
    "duration": 1101,
    "start_time": "2022-08-31T13:58:15.497Z"
   },
   {
    "duration": 5,
    "start_time": "2022-08-31T13:59:21.772Z"
   },
   {
    "duration": 17,
    "start_time": "2022-08-31T14:00:42.504Z"
   },
   {
    "duration": 16,
    "start_time": "2022-08-31T14:00:51.496Z"
   },
   {
    "duration": 31,
    "start_time": "2022-08-31T14:02:33.213Z"
   },
   {
    "duration": 10,
    "start_time": "2022-08-31T14:03:00.737Z"
   },
   {
    "duration": 34,
    "start_time": "2022-08-31T14:03:22.417Z"
   },
   {
    "duration": 11,
    "start_time": "2022-08-31T14:03:36.292Z"
   },
   {
    "duration": 38,
    "start_time": "2022-08-31T14:03:39.016Z"
   },
   {
    "duration": 12,
    "start_time": "2022-08-31T14:04:46.671Z"
   },
   {
    "duration": 19,
    "start_time": "2022-08-31T14:04:55.759Z"
   },
   {
    "duration": 10,
    "start_time": "2022-08-31T14:05:27.462Z"
   },
   {
    "duration": 13,
    "start_time": "2022-08-31T14:05:28.424Z"
   },
   {
    "duration": 13,
    "start_time": "2022-08-31T14:06:32.166Z"
   },
   {
    "duration": 21,
    "start_time": "2022-08-31T14:06:34.393Z"
   },
   {
    "duration": 13,
    "start_time": "2022-08-31T14:06:56.677Z"
   },
   {
    "duration": 15,
    "start_time": "2022-08-31T14:07:01.337Z"
   },
   {
    "duration": 16,
    "start_time": "2022-08-31T14:07:19.376Z"
   },
   {
    "duration": 12,
    "start_time": "2022-08-31T14:07:39.844Z"
   },
   {
    "duration": 16,
    "start_time": "2022-08-31T14:07:42.120Z"
   },
   {
    "duration": 17,
    "start_time": "2022-08-31T14:08:12.888Z"
   },
   {
    "duration": 12,
    "start_time": "2022-08-31T14:10:01.394Z"
   },
   {
    "duration": 30,
    "start_time": "2022-08-31T14:10:03.733Z"
   },
   {
    "duration": 149,
    "start_time": "2022-08-31T14:10:23.760Z"
   },
   {
    "duration": 11,
    "start_time": "2022-08-31T14:10:28.192Z"
   },
   {
    "duration": 27,
    "start_time": "2022-08-31T14:10:29.824Z"
   },
   {
    "duration": 11,
    "start_time": "2022-08-31T14:10:43.811Z"
   },
   {
    "duration": 13,
    "start_time": "2022-08-31T14:10:53.061Z"
   },
   {
    "duration": 1290,
    "start_time": "2022-08-31T14:11:15.147Z"
   },
   {
    "duration": 14,
    "start_time": "2022-08-31T14:12:01.009Z"
   },
   {
    "duration": 11,
    "start_time": "2022-08-31T14:12:08.169Z"
   },
   {
    "duration": 16,
    "start_time": "2022-08-31T14:13:46.221Z"
   },
   {
    "duration": 10,
    "start_time": "2022-08-31T14:13:58.878Z"
   },
   {
    "duration": 123,
    "start_time": "2022-08-31T14:14:03.310Z"
   },
   {
    "duration": 15,
    "start_time": "2022-08-31T14:14:16.324Z"
   },
   {
    "duration": 13,
    "start_time": "2022-08-31T14:14:24.280Z"
   },
   {
    "duration": 112,
    "start_time": "2022-08-31T14:14:31.402Z"
   },
   {
    "duration": 13,
    "start_time": "2022-08-31T14:14:49.826Z"
   },
   {
    "duration": 17,
    "start_time": "2022-08-31T14:15:04.865Z"
   },
   {
    "duration": 192,
    "start_time": "2022-08-31T14:15:15.438Z"
   },
   {
    "duration": 110,
    "start_time": "2022-08-31T14:15:35.350Z"
   },
   {
    "duration": 10,
    "start_time": "2022-08-31T14:16:36.892Z"
   },
   {
    "duration": 141,
    "start_time": "2022-08-31T14:16:37.820Z"
   },
   {
    "duration": 9,
    "start_time": "2022-08-31T14:18:50.048Z"
   },
   {
    "duration": 9,
    "start_time": "2022-08-31T14:18:51.315Z"
   },
   {
    "duration": 11,
    "start_time": "2022-08-31T14:18:52.864Z"
   },
   {
    "duration": 13,
    "start_time": "2022-08-31T14:18:54.712Z"
   },
   {
    "duration": 193,
    "start_time": "2022-08-31T14:19:18.306Z"
   },
   {
    "duration": 10,
    "start_time": "2022-08-31T14:19:26.527Z"
   },
   {
    "duration": 14,
    "start_time": "2022-08-31T14:19:29.619Z"
   },
   {
    "duration": 11,
    "start_time": "2022-08-31T14:20:09.572Z"
   },
   {
    "duration": 116,
    "start_time": "2022-08-31T14:20:10.580Z"
   },
   {
    "duration": 114,
    "start_time": "2022-08-31T14:20:22.931Z"
   },
   {
    "duration": 11,
    "start_time": "2022-08-31T14:20:32.151Z"
   },
   {
    "duration": 107,
    "start_time": "2022-08-31T14:20:33.150Z"
   },
   {
    "duration": 3,
    "start_time": "2022-08-31T14:21:16.821Z"
   },
   {
    "duration": 111,
    "start_time": "2022-08-31T14:21:18.329Z"
   },
   {
    "duration": 112,
    "start_time": "2022-08-31T14:21:22.907Z"
   },
   {
    "duration": 12,
    "start_time": "2022-08-31T14:22:04.122Z"
   },
   {
    "duration": 14,
    "start_time": "2022-08-31T14:22:14.457Z"
   },
   {
    "duration": 11,
    "start_time": "2022-08-31T14:22:15.565Z"
   },
   {
    "duration": 1305,
    "start_time": "2022-08-31T14:22:22.060Z"
   },
   {
    "duration": 17,
    "start_time": "2022-08-31T14:22:23.368Z"
   },
   {
    "duration": 13,
    "start_time": "2022-08-31T14:22:23.386Z"
   },
   {
    "duration": 34,
    "start_time": "2022-08-31T14:22:23.400Z"
   },
   {
    "duration": 32,
    "start_time": "2022-08-31T14:22:23.436Z"
   },
   {
    "duration": 31,
    "start_time": "2022-08-31T14:22:23.470Z"
   },
   {
    "duration": 37,
    "start_time": "2022-08-31T14:22:23.503Z"
   },
   {
    "duration": 50,
    "start_time": "2022-08-31T14:22:23.542Z"
   },
   {
    "duration": 7,
    "start_time": "2022-08-31T14:22:23.594Z"
   },
   {
    "duration": 32,
    "start_time": "2022-08-31T14:22:23.603Z"
   },
   {
    "duration": 191,
    "start_time": "2022-08-31T14:22:23.637Z"
   },
   {
    "duration": 13,
    "start_time": "2022-08-31T14:22:23.830Z"
   },
   {
    "duration": 16,
    "start_time": "2022-08-31T14:22:23.845Z"
   },
   {
    "duration": 667,
    "start_time": "2022-08-31T14:22:23.864Z"
   },
   {
    "duration": 29,
    "start_time": "2022-08-31T14:22:24.534Z"
   },
   {
    "duration": 29,
    "start_time": "2022-08-31T14:22:24.565Z"
   },
   {
    "duration": 28,
    "start_time": "2022-08-31T14:22:24.595Z"
   },
   {
    "duration": 27,
    "start_time": "2022-08-31T14:22:24.624Z"
   },
   {
    "duration": 5,
    "start_time": "2022-08-31T14:22:24.653Z"
   },
   {
    "duration": 125,
    "start_time": "2022-08-31T14:22:24.660Z"
   },
   {
    "duration": 11,
    "start_time": "2022-08-31T14:22:46.808Z"
   },
   {
    "duration": 11,
    "start_time": "2022-08-31T14:23:34.874Z"
   },
   {
    "duration": 11,
    "start_time": "2022-08-31T14:23:39.305Z"
   },
   {
    "duration": 10,
    "start_time": "2022-08-31T14:23:40.152Z"
   },
   {
    "duration": 20,
    "start_time": "2022-08-31T14:23:47.057Z"
   },
   {
    "duration": 11,
    "start_time": "2022-08-31T14:24:12.440Z"
   },
   {
    "duration": 21,
    "start_time": "2022-08-31T14:24:16.977Z"
   },
   {
    "duration": 11,
    "start_time": "2022-08-31T14:25:02.148Z"
   },
   {
    "duration": 11,
    "start_time": "2022-08-31T14:25:05.534Z"
   },
   {
    "duration": 11,
    "start_time": "2022-08-31T14:25:13.535Z"
   },
   {
    "duration": 10,
    "start_time": "2022-08-31T14:25:19.527Z"
   },
   {
    "duration": 11,
    "start_time": "2022-08-31T14:25:22.810Z"
   },
   {
    "duration": 10,
    "start_time": "2022-08-31T14:25:23.335Z"
   },
   {
    "duration": 10,
    "start_time": "2022-08-31T14:25:23.835Z"
   },
   {
    "duration": 11,
    "start_time": "2022-08-31T14:25:31.250Z"
   },
   {
    "duration": 11,
    "start_time": "2022-08-31T14:25:37.944Z"
   },
   {
    "duration": 1103,
    "start_time": "2022-08-31T14:25:51.132Z"
   },
   {
    "duration": 15,
    "start_time": "2022-08-31T14:25:52.237Z"
   },
   {
    "duration": 3,
    "start_time": "2022-08-31T14:25:52.255Z"
   },
   {
    "duration": 22,
    "start_time": "2022-08-31T14:25:52.261Z"
   },
   {
    "duration": 35,
    "start_time": "2022-08-31T14:25:52.284Z"
   },
   {
    "duration": 30,
    "start_time": "2022-08-31T14:25:52.321Z"
   },
   {
    "duration": 52,
    "start_time": "2022-08-31T14:25:52.353Z"
   },
   {
    "duration": 31,
    "start_time": "2022-08-31T14:25:52.407Z"
   },
   {
    "duration": 7,
    "start_time": "2022-08-31T14:25:52.440Z"
   },
   {
    "duration": 44,
    "start_time": "2022-08-31T14:25:52.450Z"
   },
   {
    "duration": 193,
    "start_time": "2022-08-31T14:25:52.496Z"
   },
   {
    "duration": 14,
    "start_time": "2022-08-31T14:25:52.691Z"
   },
   {
    "duration": 13,
    "start_time": "2022-08-31T14:25:52.707Z"
   },
   {
    "duration": 654,
    "start_time": "2022-08-31T14:25:52.722Z"
   },
   {
    "duration": 23,
    "start_time": "2022-08-31T14:25:53.378Z"
   },
   {
    "duration": 8,
    "start_time": "2022-08-31T14:25:53.402Z"
   },
   {
    "duration": 15,
    "start_time": "2022-08-31T14:25:53.411Z"
   },
   {
    "duration": 17,
    "start_time": "2022-08-31T14:25:53.427Z"
   },
   {
    "duration": 4,
    "start_time": "2022-08-31T14:25:53.445Z"
   },
   {
    "duration": 143,
    "start_time": "2022-08-31T14:25:53.450Z"
   },
   {
    "duration": 12,
    "start_time": "2022-08-31T14:27:02.936Z"
   },
   {
    "duration": 11,
    "start_time": "2022-08-31T14:27:22.786Z"
   },
   {
    "duration": 13,
    "start_time": "2022-08-31T14:27:28.620Z"
   },
   {
    "duration": 11,
    "start_time": "2022-08-31T14:27:47.124Z"
   },
   {
    "duration": 11,
    "start_time": "2022-08-31T14:27:55.960Z"
   },
   {
    "duration": 12,
    "start_time": "2022-08-31T14:28:53.301Z"
   },
   {
    "duration": 11,
    "start_time": "2022-08-31T14:29:19.540Z"
   },
   {
    "duration": 9,
    "start_time": "2022-08-31T14:29:35.795Z"
   },
   {
    "duration": 11,
    "start_time": "2022-08-31T14:32:53.586Z"
   },
   {
    "duration": 3,
    "start_time": "2022-08-31T14:33:44.897Z"
   },
   {
    "duration": 220,
    "start_time": "2022-08-31T14:33:45.989Z"
   },
   {
    "duration": 4,
    "start_time": "2022-08-31T14:33:51.227Z"
   },
   {
    "duration": 112,
    "start_time": "2022-08-31T14:33:52.566Z"
   },
   {
    "duration": 5,
    "start_time": "2022-08-31T14:35:40.476Z"
   },
   {
    "duration": 118,
    "start_time": "2022-08-31T14:35:41.610Z"
   },
   {
    "duration": 4,
    "start_time": "2022-08-31T14:36:22.357Z"
   },
   {
    "duration": 213,
    "start_time": "2022-08-31T14:36:23.482Z"
   },
   {
    "duration": 13,
    "start_time": "2022-08-31T14:38:27.859Z"
   },
   {
    "duration": 9,
    "start_time": "2022-08-31T14:38:34.220Z"
   },
   {
    "duration": 9,
    "start_time": "2022-08-31T14:38:40.321Z"
   },
   {
    "duration": 13,
    "start_time": "2022-08-31T14:38:48.146Z"
   },
   {
    "duration": 24,
    "start_time": "2022-08-31T14:41:02.876Z"
   },
   {
    "duration": 11,
    "start_time": "2022-08-31T14:41:07.659Z"
   },
   {
    "duration": 27,
    "start_time": "2022-08-31T14:41:12.172Z"
   },
   {
    "duration": 24,
    "start_time": "2022-08-31T14:42:01.684Z"
   },
   {
    "duration": 13,
    "start_time": "2022-08-31T14:42:13.664Z"
   },
   {
    "duration": 19,
    "start_time": "2022-08-31T14:42:17.996Z"
   },
   {
    "duration": 32,
    "start_time": "2022-08-31T14:43:46.968Z"
   },
   {
    "duration": 35,
    "start_time": "2022-08-31T14:44:19.808Z"
   },
   {
    "duration": 81,
    "start_time": "2022-08-31T14:44:25.995Z"
   },
   {
    "duration": 31,
    "start_time": "2022-08-31T14:44:31.717Z"
   },
   {
    "duration": 34,
    "start_time": "2022-08-31T14:44:52.783Z"
   },
   {
    "duration": 19,
    "start_time": "2022-08-31T14:45:03.944Z"
   },
   {
    "duration": 19,
    "start_time": "2022-08-31T14:45:50.312Z"
   },
   {
    "duration": 10,
    "start_time": "2022-08-31T14:47:10.155Z"
   },
   {
    "duration": 52,
    "start_time": "2022-08-31T14:47:30.836Z"
   },
   {
    "duration": 25,
    "start_time": "2022-08-31T14:47:38.595Z"
   },
   {
    "duration": 988,
    "start_time": "2022-08-31T14:48:14.768Z"
   },
   {
    "duration": 1404,
    "start_time": "2022-08-31T14:48:16.540Z"
   },
   {
    "duration": 1229,
    "start_time": "2022-08-31T14:48:35.828Z"
   },
   {
    "duration": 1566,
    "start_time": "2022-08-31T14:48:52.864Z"
   },
   {
    "duration": 1738,
    "start_time": "2022-08-31T14:49:05.816Z"
   },
   {
    "duration": 1495,
    "start_time": "2022-08-31T14:49:13.465Z"
   },
   {
    "duration": 873,
    "start_time": "2022-08-31T14:49:21.561Z"
   },
   {
    "duration": 824,
    "start_time": "2022-08-31T14:49:49.674Z"
   },
   {
    "duration": 11,
    "start_time": "2022-08-31T14:50:19.740Z"
   },
   {
    "duration": 4,
    "start_time": "2022-08-31T14:51:00.193Z"
   },
   {
    "duration": 9,
    "start_time": "2022-08-31T14:51:06.345Z"
   },
   {
    "duration": 9,
    "start_time": "2022-08-31T14:51:25.790Z"
   },
   {
    "duration": 233,
    "start_time": "2022-08-31T14:51:43.845Z"
   },
   {
    "duration": 464,
    "start_time": "2022-08-31T14:52:07.099Z"
   },
   {
    "duration": 231,
    "start_time": "2022-08-31T14:52:13.425Z"
   },
   {
    "duration": 15,
    "start_time": "2022-08-31T14:53:02.207Z"
   },
   {
    "duration": 10,
    "start_time": "2022-08-31T14:53:12.644Z"
   },
   {
    "duration": 10,
    "start_time": "2022-08-31T14:53:24.625Z"
   },
   {
    "duration": 11,
    "start_time": "2022-08-31T14:53:35.161Z"
   },
   {
    "duration": 9,
    "start_time": "2022-08-31T14:54:36.605Z"
   },
   {
    "duration": 238,
    "start_time": "2022-08-31T14:54:42.862Z"
   },
   {
    "duration": 220,
    "start_time": "2022-08-31T14:54:45.474Z"
   },
   {
    "duration": 11,
    "start_time": "2022-08-31T14:54:59.215Z"
   },
   {
    "duration": 318,
    "start_time": "2022-08-31T14:55:02.057Z"
   },
   {
    "duration": 1294,
    "start_time": "2022-08-31T14:55:08.518Z"
   },
   {
    "duration": 16,
    "start_time": "2022-08-31T14:55:09.814Z"
   },
   {
    "duration": 3,
    "start_time": "2022-08-31T14:55:09.832Z"
   },
   {
    "duration": 22,
    "start_time": "2022-08-31T14:55:09.836Z"
   },
   {
    "duration": 41,
    "start_time": "2022-08-31T14:55:09.860Z"
   },
   {
    "duration": 29,
    "start_time": "2022-08-31T14:55:09.903Z"
   },
   {
    "duration": 52,
    "start_time": "2022-08-31T14:55:09.934Z"
   },
   {
    "duration": 34,
    "start_time": "2022-08-31T14:55:09.987Z"
   },
   {
    "duration": 9,
    "start_time": "2022-08-31T14:55:10.023Z"
   },
   {
    "duration": 24,
    "start_time": "2022-08-31T14:55:10.034Z"
   },
   {
    "duration": 227,
    "start_time": "2022-08-31T14:55:10.060Z"
   },
   {
    "duration": 15,
    "start_time": "2022-08-31T14:55:10.289Z"
   },
   {
    "duration": 14,
    "start_time": "2022-08-31T14:55:10.305Z"
   },
   {
    "duration": 643,
    "start_time": "2022-08-31T14:55:10.322Z"
   },
   {
    "duration": 29,
    "start_time": "2022-08-31T14:55:10.967Z"
   },
   {
    "duration": 8,
    "start_time": "2022-08-31T14:55:10.997Z"
   },
   {
    "duration": 24,
    "start_time": "2022-08-31T14:55:11.007Z"
   },
   {
    "duration": 9,
    "start_time": "2022-08-31T14:55:11.032Z"
   },
   {
    "duration": 14,
    "start_time": "2022-08-31T14:55:11.042Z"
   },
   {
    "duration": 252,
    "start_time": "2022-08-31T14:55:11.057Z"
   },
   {
    "duration": 10,
    "start_time": "2022-08-31T14:55:54.474Z"
   },
   {
    "duration": 10,
    "start_time": "2022-08-31T14:55:57.400Z"
   },
   {
    "duration": 228,
    "start_time": "2022-08-31T14:56:04.881Z"
   },
   {
    "duration": 1131,
    "start_time": "2022-08-31T14:56:10.215Z"
   },
   {
    "duration": 15,
    "start_time": "2022-08-31T14:56:11.348Z"
   },
   {
    "duration": 4,
    "start_time": "2022-08-31T14:56:11.364Z"
   },
   {
    "duration": 20,
    "start_time": "2022-08-31T14:56:11.370Z"
   },
   {
    "duration": 31,
    "start_time": "2022-08-31T14:56:11.392Z"
   },
   {
    "duration": 29,
    "start_time": "2022-08-31T14:56:11.425Z"
   },
   {
    "duration": 57,
    "start_time": "2022-08-31T14:56:11.456Z"
   },
   {
    "duration": 31,
    "start_time": "2022-08-31T14:56:11.515Z"
   },
   {
    "duration": 8,
    "start_time": "2022-08-31T14:56:11.548Z"
   },
   {
    "duration": 45,
    "start_time": "2022-08-31T14:56:11.557Z"
   },
   {
    "duration": 192,
    "start_time": "2022-08-31T14:56:11.604Z"
   },
   {
    "duration": 14,
    "start_time": "2022-08-31T14:56:11.797Z"
   },
   {
    "duration": 12,
    "start_time": "2022-08-31T14:56:11.813Z"
   },
   {
    "duration": 637,
    "start_time": "2022-08-31T14:56:11.828Z"
   },
   {
    "duration": 29,
    "start_time": "2022-08-31T14:56:12.467Z"
   },
   {
    "duration": 9,
    "start_time": "2022-08-31T14:56:12.497Z"
   },
   {
    "duration": 20,
    "start_time": "2022-08-31T14:56:12.508Z"
   },
   {
    "duration": 17,
    "start_time": "2022-08-31T14:56:12.530Z"
   },
   {
    "duration": 18,
    "start_time": "2022-08-31T14:56:12.549Z"
   },
   {
    "duration": 249,
    "start_time": "2022-08-31T14:56:12.569Z"
   },
   {
    "duration": 1017,
    "start_time": "2022-08-31T16:40:20.238Z"
   },
   {
    "duration": 1218,
    "start_time": "2022-08-31T16:40:29.935Z"
   },
   {
    "duration": 15,
    "start_time": "2022-08-31T16:40:31.155Z"
   },
   {
    "duration": 26,
    "start_time": "2022-08-31T16:40:31.172Z"
   },
   {
    "duration": 38,
    "start_time": "2022-08-31T16:40:31.201Z"
   },
   {
    "duration": 38,
    "start_time": "2022-08-31T16:40:31.241Z"
   },
   {
    "duration": 34,
    "start_time": "2022-08-31T16:40:31.281Z"
   },
   {
    "duration": 40,
    "start_time": "2022-08-31T16:40:31.317Z"
   },
   {
    "duration": 45,
    "start_time": "2022-08-31T16:40:31.359Z"
   },
   {
    "duration": 7,
    "start_time": "2022-08-31T16:40:31.407Z"
   },
   {
    "duration": 31,
    "start_time": "2022-08-31T16:40:31.416Z"
   },
   {
    "duration": 203,
    "start_time": "2022-08-31T16:40:31.449Z"
   },
   {
    "duration": 14,
    "start_time": "2022-08-31T16:40:31.653Z"
   },
   {
    "duration": 25,
    "start_time": "2022-08-31T16:40:31.668Z"
   },
   {
    "duration": 678,
    "start_time": "2022-08-31T16:40:31.696Z"
   },
   {
    "duration": 28,
    "start_time": "2022-08-31T16:40:32.375Z"
   },
   {
    "duration": 8,
    "start_time": "2022-08-31T16:40:32.405Z"
   },
   {
    "duration": 13,
    "start_time": "2022-08-31T16:40:32.414Z"
   },
   {
    "duration": 8,
    "start_time": "2022-08-31T16:40:32.429Z"
   },
   {
    "duration": 14,
    "start_time": "2022-08-31T16:40:32.439Z"
   },
   {
    "duration": 350,
    "start_time": "2022-08-31T16:40:32.455Z"
   },
   {
    "duration": 1551,
    "start_time": "2022-08-31T16:41:03.949Z"
   },
   {
    "duration": 1293,
    "start_time": "2022-08-31T16:41:39.258Z"
   },
   {
    "duration": 16,
    "start_time": "2022-08-31T16:41:40.552Z"
   },
   {
    "duration": 4,
    "start_time": "2022-08-31T16:41:40.569Z"
   },
   {
    "duration": 29,
    "start_time": "2022-08-31T16:41:40.574Z"
   },
   {
    "duration": 37,
    "start_time": "2022-08-31T16:41:40.606Z"
   },
   {
    "duration": 32,
    "start_time": "2022-08-31T16:41:40.644Z"
   },
   {
    "duration": 48,
    "start_time": "2022-08-31T16:41:40.684Z"
   },
   {
    "duration": 36,
    "start_time": "2022-08-31T16:41:40.735Z"
   },
   {
    "duration": 9,
    "start_time": "2022-08-31T16:41:40.788Z"
   },
   {
    "duration": 30,
    "start_time": "2022-08-31T16:41:40.800Z"
   },
   {
    "duration": 214,
    "start_time": "2022-08-31T16:41:40.831Z"
   },
   {
    "duration": 15,
    "start_time": "2022-08-31T16:41:41.046Z"
   },
   {
    "duration": 31,
    "start_time": "2022-08-31T16:41:41.063Z"
   },
   {
    "duration": 723,
    "start_time": "2022-08-31T16:41:41.097Z"
   },
   {
    "duration": 22,
    "start_time": "2022-08-31T16:41:41.822Z"
   },
   {
    "duration": 8,
    "start_time": "2022-08-31T16:41:41.846Z"
   },
   {
    "duration": 33,
    "start_time": "2022-08-31T16:41:41.856Z"
   },
   {
    "duration": 13,
    "start_time": "2022-08-31T16:41:41.891Z"
   },
   {
    "duration": 14,
    "start_time": "2022-08-31T16:41:41.908Z"
   },
   {
    "duration": 134,
    "start_time": "2022-08-31T16:41:41.924Z"
   },
   {
    "duration": 948,
    "start_time": "2022-08-31T16:41:50.561Z"
   },
   {
    "duration": 31,
    "start_time": "2022-08-31T16:42:01.681Z"
   },
   {
    "duration": 9,
    "start_time": "2022-08-31T16:42:04.119Z"
   },
   {
    "duration": 9,
    "start_time": "2022-08-31T16:42:06.448Z"
   },
   {
    "duration": 21,
    "start_time": "2022-08-31T16:42:25.156Z"
   },
   {
    "duration": 10,
    "start_time": "2022-08-31T16:42:27.385Z"
   },
   {
    "duration": 11,
    "start_time": "2022-08-31T16:42:29.081Z"
   },
   {
    "duration": 8,
    "start_time": "2022-08-31T16:42:32.658Z"
   },
   {
    "duration": 1351,
    "start_time": "2022-08-31T16:42:40.832Z"
   },
   {
    "duration": 23,
    "start_time": "2022-08-31T16:42:42.187Z"
   },
   {
    "duration": 62,
    "start_time": "2022-08-31T16:42:42.213Z"
   },
   {
    "duration": 31,
    "start_time": "2022-08-31T16:42:42.277Z"
   },
   {
    "duration": 42,
    "start_time": "2022-08-31T16:42:42.311Z"
   },
   {
    "duration": 56,
    "start_time": "2022-08-31T16:42:42.355Z"
   },
   {
    "duration": 55,
    "start_time": "2022-08-31T16:42:42.413Z"
   },
   {
    "duration": 47,
    "start_time": "2022-08-31T16:42:42.474Z"
   },
   {
    "duration": 10,
    "start_time": "2022-08-31T16:42:42.523Z"
   },
   {
    "duration": 52,
    "start_time": "2022-08-31T16:42:42.534Z"
   },
   {
    "duration": 277,
    "start_time": "2022-08-31T16:42:42.588Z"
   },
   {
    "duration": 23,
    "start_time": "2022-08-31T16:42:42.867Z"
   },
   {
    "duration": 54,
    "start_time": "2022-08-31T16:42:42.892Z"
   },
   {
    "duration": 718,
    "start_time": "2022-08-31T16:42:42.949Z"
   },
   {
    "duration": 40,
    "start_time": "2022-08-31T16:42:43.669Z"
   },
   {
    "duration": 20,
    "start_time": "2022-08-31T16:42:43.712Z"
   },
   {
    "duration": 22,
    "start_time": "2022-08-31T16:42:43.735Z"
   },
   {
    "duration": 53,
    "start_time": "2022-08-31T16:42:43.759Z"
   },
   {
    "duration": 24,
    "start_time": "2022-08-31T16:42:43.814Z"
   },
   {
    "duration": 481,
    "start_time": "2022-08-31T16:42:43.841Z"
   },
   {
    "duration": 1276,
    "start_time": "2022-08-31T16:43:23.812Z"
   },
   {
    "duration": 49,
    "start_time": "2022-08-31T16:43:35.998Z"
   },
   {
    "duration": 919,
    "start_time": "2022-08-31T16:43:40.584Z"
   },
   {
    "duration": 894,
    "start_time": "2022-08-31T16:44:37.589Z"
   },
   {
    "duration": 6,
    "start_time": "2022-08-31T16:44:43.999Z"
   },
   {
    "duration": 1486,
    "start_time": "2022-08-31T16:44:51.370Z"
   },
   {
    "duration": 2784,
    "start_time": "2022-08-31T16:45:01.640Z"
   },
   {
    "duration": 9,
    "start_time": "2022-08-31T16:45:20.754Z"
   },
   {
    "duration": 1313,
    "start_time": "2022-08-31T16:45:33.682Z"
   },
   {
    "duration": 18,
    "start_time": "2022-08-31T16:45:34.998Z"
   },
   {
    "duration": 4,
    "start_time": "2022-08-31T16:45:35.018Z"
   },
   {
    "duration": 22,
    "start_time": "2022-08-31T16:45:35.023Z"
   },
   {
    "duration": 61,
    "start_time": "2022-08-31T16:45:35.047Z"
   },
   {
    "duration": 31,
    "start_time": "2022-08-31T16:45:35.110Z"
   },
   {
    "duration": 66,
    "start_time": "2022-08-31T16:45:35.143Z"
   },
   {
    "duration": 31,
    "start_time": "2022-08-31T16:45:35.210Z"
   },
   {
    "duration": 6,
    "start_time": "2022-08-31T16:45:35.243Z"
   },
   {
    "duration": 55,
    "start_time": "2022-08-31T16:45:35.251Z"
   },
   {
    "duration": 207,
    "start_time": "2022-08-31T16:45:35.308Z"
   },
   {
    "duration": 13,
    "start_time": "2022-08-31T16:45:35.517Z"
   },
   {
    "duration": 11,
    "start_time": "2022-08-31T16:45:35.531Z"
   },
   {
    "duration": 682,
    "start_time": "2022-08-31T16:45:35.545Z"
   },
   {
    "duration": 21,
    "start_time": "2022-08-31T16:45:36.228Z"
   },
   {
    "duration": 8,
    "start_time": "2022-08-31T16:45:36.250Z"
   },
   {
    "duration": 37,
    "start_time": "2022-08-31T16:45:36.259Z"
   },
   {
    "duration": 12,
    "start_time": "2022-08-31T16:45:36.297Z"
   },
   {
    "duration": 15,
    "start_time": "2022-08-31T16:45:36.311Z"
   },
   {
    "duration": 590,
    "start_time": "2022-08-31T16:45:36.328Z"
   },
   {
    "duration": 1487,
    "start_time": "2022-08-31T16:47:03.401Z"
   },
   {
    "duration": 10,
    "start_time": "2022-08-31T16:47:20.299Z"
   },
   {
    "duration": 1255,
    "start_time": "2022-08-31T16:48:29.779Z"
   },
   {
    "duration": 808,
    "start_time": "2022-08-31T16:48:42.237Z"
   },
   {
    "duration": 922,
    "start_time": "2022-08-31T16:48:49.217Z"
   },
   {
    "duration": 1695,
    "start_time": "2022-08-31T16:49:03.518Z"
   },
   {
    "duration": 10,
    "start_time": "2022-08-31T16:49:32.469Z"
   },
   {
    "duration": 14,
    "start_time": "2022-08-31T16:49:35.141Z"
   },
   {
    "duration": 1350,
    "start_time": "2022-08-31T16:49:46.772Z"
   },
   {
    "duration": 24,
    "start_time": "2022-08-31T16:49:48.125Z"
   },
   {
    "duration": 3,
    "start_time": "2022-08-31T16:49:48.151Z"
   },
   {
    "duration": 37,
    "start_time": "2022-08-31T16:49:48.156Z"
   },
   {
    "duration": 40,
    "start_time": "2022-08-31T16:49:48.195Z"
   },
   {
    "duration": 53,
    "start_time": "2022-08-31T16:49:48.237Z"
   },
   {
    "duration": 45,
    "start_time": "2022-08-31T16:49:48.298Z"
   },
   {
    "duration": 52,
    "start_time": "2022-08-31T16:49:48.346Z"
   },
   {
    "duration": 10,
    "start_time": "2022-08-31T16:49:48.400Z"
   },
   {
    "duration": 27,
    "start_time": "2022-08-31T16:49:48.412Z"
   },
   {
    "duration": 266,
    "start_time": "2022-08-31T16:49:48.440Z"
   },
   {
    "duration": 18,
    "start_time": "2022-08-31T16:49:48.708Z"
   },
   {
    "duration": 20,
    "start_time": "2022-08-31T16:49:48.729Z"
   },
   {
    "duration": 799,
    "start_time": "2022-08-31T16:49:48.753Z"
   },
   {
    "duration": 31,
    "start_time": "2022-08-31T16:49:49.554Z"
   },
   {
    "duration": 12,
    "start_time": "2022-08-31T16:49:49.589Z"
   },
   {
    "duration": 26,
    "start_time": "2022-08-31T16:49:49.603Z"
   },
   {
    "duration": 6,
    "start_time": "2022-08-31T16:49:49.631Z"
   },
   {
    "duration": 17,
    "start_time": "2022-08-31T16:49:49.639Z"
   },
   {
    "duration": 781,
    "start_time": "2022-08-31T16:49:49.659Z"
   },
   {
    "duration": 1385,
    "start_time": "2022-08-31T16:50:30.200Z"
   },
   {
    "duration": 10,
    "start_time": "2022-08-31T16:50:37.717Z"
   },
   {
    "duration": 14,
    "start_time": "2022-08-31T16:52:36.342Z"
   },
   {
    "duration": 14,
    "start_time": "2022-08-31T16:52:37.809Z"
   },
   {
    "duration": 1759,
    "start_time": "2022-08-31T16:55:18.309Z"
   },
   {
    "duration": 68,
    "start_time": "2022-08-31T16:55:22.967Z"
   },
   {
    "duration": 15,
    "start_time": "2022-08-31T16:55:23.038Z"
   },
   {
    "duration": 4,
    "start_time": "2022-08-31T16:55:23.055Z"
   },
   {
    "duration": 36,
    "start_time": "2022-08-31T16:55:23.060Z"
   },
   {
    "duration": 42,
    "start_time": "2022-08-31T16:55:23.098Z"
   },
   {
    "duration": 43,
    "start_time": "2022-08-31T16:55:23.142Z"
   },
   {
    "duration": 42,
    "start_time": "2022-08-31T16:55:23.188Z"
   },
   {
    "duration": 31,
    "start_time": "2022-08-31T16:55:23.232Z"
   },
   {
    "duration": 11,
    "start_time": "2022-08-31T16:55:23.285Z"
   },
   {
    "duration": 51,
    "start_time": "2022-08-31T16:55:23.298Z"
   },
   {
    "duration": 279,
    "start_time": "2022-08-31T16:55:23.351Z"
   },
   {
    "duration": 15,
    "start_time": "2022-08-31T16:55:23.631Z"
   },
   {
    "duration": 13,
    "start_time": "2022-08-31T16:55:23.648Z"
   },
   {
    "duration": 813,
    "start_time": "2022-08-31T16:55:23.684Z"
   },
   {
    "duration": 29,
    "start_time": "2022-08-31T16:55:24.499Z"
   },
   {
    "duration": 35,
    "start_time": "2022-08-31T16:55:24.531Z"
   },
   {
    "duration": 41,
    "start_time": "2022-08-31T16:55:24.569Z"
   },
   {
    "duration": 32,
    "start_time": "2022-08-31T16:55:24.613Z"
   },
   {
    "duration": 24,
    "start_time": "2022-08-31T16:55:24.647Z"
   },
   {
    "duration": 344,
    "start_time": "2022-08-31T16:55:24.674Z"
   },
   {
    "duration": 11,
    "start_time": "2022-08-31T17:34:07.002Z"
   },
   {
    "duration": 21,
    "start_time": "2022-08-31T17:34:24.952Z"
   },
   {
    "duration": 738,
    "start_time": "2022-08-31T17:38:39.571Z"
   },
   {
    "duration": 30,
    "start_time": "2022-08-31T17:39:07.598Z"
   },
   {
    "duration": 20,
    "start_time": "2022-08-31T17:39:29.309Z"
   },
   {
    "duration": 22,
    "start_time": "2022-08-31T17:43:21.026Z"
   },
   {
    "duration": 43,
    "start_time": "2022-08-31T17:43:25.810Z"
   },
   {
    "duration": 29,
    "start_time": "2022-08-31T17:44:05.861Z"
   },
   {
    "duration": 51,
    "start_time": "2022-08-31T17:44:31.826Z"
   },
   {
    "duration": 29,
    "start_time": "2022-08-31T17:44:36.434Z"
   },
   {
    "duration": 35,
    "start_time": "2022-08-31T17:44:42.148Z"
   },
   {
    "duration": 34,
    "start_time": "2022-08-31T17:44:46.124Z"
   },
   {
    "duration": 38,
    "start_time": "2022-08-31T17:45:34.791Z"
   },
   {
    "duration": 42,
    "start_time": "2022-08-31T17:46:11.473Z"
   },
   {
    "duration": 17,
    "start_time": "2022-08-31T17:46:19.459Z"
   },
   {
    "duration": 22,
    "start_time": "2022-08-31T17:46:21.706Z"
   },
   {
    "duration": 33,
    "start_time": "2022-08-31T17:46:24.143Z"
   },
   {
    "duration": 27,
    "start_time": "2022-08-31T17:46:26.321Z"
   },
   {
    "duration": 54,
    "start_time": "2022-08-31T17:46:54.334Z"
   },
   {
    "duration": 42,
    "start_time": "2022-08-31T17:47:18.672Z"
   },
   {
    "duration": 32,
    "start_time": "2022-08-31T17:47:25.220Z"
   },
   {
    "duration": 41,
    "start_time": "2022-08-31T17:48:13.429Z"
   },
   {
    "duration": 43,
    "start_time": "2022-08-31T17:48:19.095Z"
   },
   {
    "duration": 333,
    "start_time": "2022-08-31T17:49:47.315Z"
   },
   {
    "duration": 5,
    "start_time": "2022-08-31T17:50:38.943Z"
   },
   {
    "duration": 322,
    "start_time": "2022-08-31T17:50:41.106Z"
   },
   {
    "duration": 4,
    "start_time": "2022-08-31T17:53:49.200Z"
   },
   {
    "duration": 271,
    "start_time": "2022-08-31T17:54:49.361Z"
   },
   {
    "duration": 391,
    "start_time": "2022-08-31T17:55:15.774Z"
   },
   {
    "duration": 34,
    "start_time": "2022-08-31T18:01:07.981Z"
   },
   {
    "duration": 24,
    "start_time": "2022-08-31T18:01:18.230Z"
   },
   {
    "duration": 24,
    "start_time": "2022-08-31T18:01:33.384Z"
   },
   {
    "duration": 25,
    "start_time": "2022-08-31T18:01:44.799Z"
   },
   {
    "duration": 20,
    "start_time": "2022-08-31T18:03:29.592Z"
   },
   {
    "duration": 16,
    "start_time": "2022-08-31T18:05:16.495Z"
   },
   {
    "duration": 8,
    "start_time": "2022-08-31T18:05:36.985Z"
   },
   {
    "duration": 23,
    "start_time": "2022-08-31T18:06:56.633Z"
   },
   {
    "duration": 19,
    "start_time": "2022-08-31T18:07:05.404Z"
   },
   {
    "duration": 22,
    "start_time": "2022-08-31T18:07:06.834Z"
   },
   {
    "duration": 26,
    "start_time": "2022-08-31T18:07:55.552Z"
   },
   {
    "duration": 34,
    "start_time": "2022-08-31T18:08:07.192Z"
   },
   {
    "duration": 17,
    "start_time": "2022-08-31T18:08:38.766Z"
   },
   {
    "duration": 23,
    "start_time": "2022-08-31T18:08:46.897Z"
   },
   {
    "duration": 18,
    "start_time": "2022-08-31T18:09:03.447Z"
   },
   {
    "duration": 24,
    "start_time": "2022-08-31T18:09:08.601Z"
   },
   {
    "duration": 25,
    "start_time": "2022-08-31T18:09:27.406Z"
   },
   {
    "duration": 295,
    "start_time": "2022-08-31T18:09:51.264Z"
   },
   {
    "duration": 28,
    "start_time": "2022-08-31T18:09:55.391Z"
   },
   {
    "duration": 27,
    "start_time": "2022-08-31T18:10:47.993Z"
   },
   {
    "duration": 51,
    "start_time": "2022-08-31T18:11:14.167Z"
   },
   {
    "duration": 12,
    "start_time": "2022-08-31T18:11:20.131Z"
   },
   {
    "duration": 490,
    "start_time": "2022-08-31T18:11:25.800Z"
   },
   {
    "duration": 188,
    "start_time": "2022-08-31T18:11:44.065Z"
   },
   {
    "duration": 10,
    "start_time": "2022-08-31T18:11:47.835Z"
   },
   {
    "duration": 16,
    "start_time": "2022-08-31T18:11:50.422Z"
   },
   {
    "duration": 285,
    "start_time": "2022-08-31T18:12:01.326Z"
   },
   {
    "duration": 333,
    "start_time": "2022-08-31T18:12:43.687Z"
   },
   {
    "duration": 3,
    "start_time": "2022-09-01T04:02:55.843Z"
   },
   {
    "duration": 43,
    "start_time": "2022-09-01T04:20:59.630Z"
   },
   {
    "duration": 1403,
    "start_time": "2022-09-01T04:21:02.930Z"
   },
   {
    "duration": 15,
    "start_time": "2022-09-01T04:21:04.336Z"
   },
   {
    "duration": 35,
    "start_time": "2022-09-01T04:21:04.352Z"
   },
   {
    "duration": 3,
    "start_time": "2022-09-01T04:21:04.388Z"
   },
   {
    "duration": 15,
    "start_time": "2022-09-01T04:21:04.394Z"
   },
   {
    "duration": 50,
    "start_time": "2022-09-01T04:21:04.411Z"
   },
   {
    "duration": 30,
    "start_time": "2022-09-01T04:21:04.463Z"
   },
   {
    "duration": 57,
    "start_time": "2022-09-01T04:21:04.494Z"
   },
   {
    "duration": 31,
    "start_time": "2022-09-01T04:21:04.553Z"
   },
   {
    "duration": 8,
    "start_time": "2022-09-01T04:21:04.586Z"
   },
   {
    "duration": 43,
    "start_time": "2022-09-01T04:21:04.596Z"
   },
   {
    "duration": 199,
    "start_time": "2022-09-01T04:21:04.641Z"
   },
   {
    "duration": 14,
    "start_time": "2022-09-01T04:21:04.842Z"
   },
   {
    "duration": 11,
    "start_time": "2022-09-01T04:21:04.859Z"
   },
   {
    "duration": 596,
    "start_time": "2022-09-01T04:21:04.871Z"
   },
   {
    "duration": 20,
    "start_time": "2022-09-01T04:21:05.469Z"
   },
   {
    "duration": 7,
    "start_time": "2022-09-01T04:21:05.491Z"
   },
   {
    "duration": 16,
    "start_time": "2022-09-01T04:21:05.500Z"
   },
   {
    "duration": 290,
    "start_time": "2022-09-01T04:21:05.517Z"
   },
   {
    "duration": 2,
    "start_time": "2022-09-01T04:21:05.809Z"
   },
   {
    "duration": 15,
    "start_time": "2022-09-01T04:35:55.791Z"
   },
   {
    "duration": 238,
    "start_time": "2022-09-01T04:38:00.600Z"
   },
   {
    "duration": 13,
    "start_time": "2022-09-01T04:38:01.780Z"
   },
   {
    "duration": 291,
    "start_time": "2022-09-01T05:41:41.678Z"
   },
   {
    "duration": 8,
    "start_time": "2022-09-01T05:42:49.036Z"
   },
   {
    "duration": 7,
    "start_time": "2022-09-01T05:42:53.898Z"
   },
   {
    "duration": 355,
    "start_time": "2022-09-01T05:43:55.442Z"
   },
   {
    "duration": 14,
    "start_time": "2022-09-01T05:45:59.647Z"
   },
   {
    "duration": 7,
    "start_time": "2022-09-01T05:46:02.378Z"
   },
   {
    "duration": 12,
    "start_time": "2022-09-01T05:46:08.576Z"
   },
   {
    "duration": 7,
    "start_time": "2022-09-01T05:46:15.456Z"
   },
   {
    "duration": 11,
    "start_time": "2022-09-01T05:51:15.232Z"
   },
   {
    "duration": 8,
    "start_time": "2022-09-01T05:51:22.074Z"
   },
   {
    "duration": 173,
    "start_time": "2022-09-01T05:51:28.356Z"
   },
   {
    "duration": 394,
    "start_time": "2022-09-01T05:52:52.436Z"
   },
   {
    "duration": 8,
    "start_time": "2022-09-01T05:53:58.284Z"
   },
   {
    "duration": 384,
    "start_time": "2022-09-01T05:53:59.318Z"
   },
   {
    "duration": 405,
    "start_time": "2022-09-01T05:54:45.764Z"
   },
   {
    "duration": 372,
    "start_time": "2022-09-01T05:55:07.158Z"
   },
   {
    "duration": 475,
    "start_time": "2022-09-01T05:55:17.511Z"
   },
   {
    "duration": 388,
    "start_time": "2022-09-01T05:55:20.194Z"
   },
   {
    "duration": 1146,
    "start_time": "2022-09-01T05:55:30.556Z"
   },
   {
    "duration": 17,
    "start_time": "2022-09-01T05:55:31.704Z"
   },
   {
    "duration": 34,
    "start_time": "2022-09-01T05:55:31.723Z"
   },
   {
    "duration": 3,
    "start_time": "2022-09-01T05:55:31.759Z"
   },
   {
    "duration": 16,
    "start_time": "2022-09-01T05:55:31.764Z"
   },
   {
    "duration": 31,
    "start_time": "2022-09-01T05:55:31.782Z"
   },
   {
    "duration": 47,
    "start_time": "2022-09-01T05:55:31.814Z"
   },
   {
    "duration": 35,
    "start_time": "2022-09-01T05:55:31.863Z"
   },
   {
    "duration": 43,
    "start_time": "2022-09-01T05:55:31.900Z"
   },
   {
    "duration": 7,
    "start_time": "2022-09-01T05:55:31.944Z"
   },
   {
    "duration": 19,
    "start_time": "2022-09-01T05:55:31.952Z"
   },
   {
    "duration": 241,
    "start_time": "2022-09-01T05:55:31.972Z"
   },
   {
    "duration": 15,
    "start_time": "2022-09-01T05:55:32.214Z"
   },
   {
    "duration": 7,
    "start_time": "2022-09-01T05:55:32.238Z"
   },
   {
    "duration": 333,
    "start_time": "2022-09-01T05:55:32.247Z"
   },
   {
    "duration": 563,
    "start_time": "2022-09-01T05:55:32.583Z"
   },
   {
    "duration": 21,
    "start_time": "2022-09-01T05:55:33.147Z"
   },
   {
    "duration": 7,
    "start_time": "2022-09-01T05:55:33.169Z"
   },
   {
    "duration": 14,
    "start_time": "2022-09-01T05:55:33.177Z"
   },
   {
    "duration": 294,
    "start_time": "2022-09-01T05:55:33.192Z"
   },
   {
    "duration": 2,
    "start_time": "2022-09-01T05:55:33.488Z"
   },
   {
    "duration": 1069,
    "start_time": "2022-09-01T06:21:35.355Z"
   },
   {
    "duration": 68,
    "start_time": "2022-09-01T06:21:59.958Z"
   },
   {
    "duration": 988,
    "start_time": "2022-09-01T06:22:01.603Z"
   },
   {
    "duration": 39,
    "start_time": "2022-09-01T06:36:17.212Z"
   },
   {
    "duration": 40,
    "start_time": "2022-09-01T06:37:03.136Z"
   },
   {
    "duration": 24,
    "start_time": "2022-09-01T06:37:16.112Z"
   },
   {
    "duration": 7,
    "start_time": "2022-09-01T06:37:19.114Z"
   },
   {
    "duration": 20,
    "start_time": "2022-09-01T06:39:23.848Z"
   },
   {
    "duration": 112,
    "start_time": "2022-09-01T06:41:19.686Z"
   },
   {
    "duration": 20,
    "start_time": "2022-09-01T06:41:34.961Z"
   },
   {
    "duration": 54,
    "start_time": "2022-09-01T06:42:03.185Z"
   },
   {
    "duration": 29,
    "start_time": "2022-09-01T06:42:07.124Z"
   },
   {
    "duration": 27,
    "start_time": "2022-09-01T06:42:22.243Z"
   },
   {
    "duration": 30,
    "start_time": "2022-09-01T06:42:34.094Z"
   },
   {
    "duration": 1171,
    "start_time": "2022-09-01T06:42:43.707Z"
   },
   {
    "duration": 14,
    "start_time": "2022-09-01T06:42:44.880Z"
   },
   {
    "duration": 36,
    "start_time": "2022-09-01T06:42:44.895Z"
   },
   {
    "duration": 2,
    "start_time": "2022-09-01T06:42:44.933Z"
   },
   {
    "duration": 29,
    "start_time": "2022-09-01T06:42:44.937Z"
   },
   {
    "duration": 32,
    "start_time": "2022-09-01T06:42:44.968Z"
   },
   {
    "duration": 29,
    "start_time": "2022-09-01T06:42:45.002Z"
   },
   {
    "duration": 36,
    "start_time": "2022-09-01T06:42:45.032Z"
   },
   {
    "duration": 30,
    "start_time": "2022-09-01T06:42:45.070Z"
   },
   {
    "duration": 7,
    "start_time": "2022-09-01T06:42:45.102Z"
   },
   {
    "duration": 41,
    "start_time": "2022-09-01T06:42:45.111Z"
   },
   {
    "duration": 234,
    "start_time": "2022-09-01T06:42:45.154Z"
   },
   {
    "duration": 14,
    "start_time": "2022-09-01T06:42:45.390Z"
   },
   {
    "duration": 11,
    "start_time": "2022-09-01T06:42:45.406Z"
   },
   {
    "duration": 330,
    "start_time": "2022-09-01T06:42:45.419Z"
   },
   {
    "duration": 579,
    "start_time": "2022-09-01T06:42:45.750Z"
   },
   {
    "duration": 25,
    "start_time": "2022-09-01T06:42:46.331Z"
   },
   {
    "duration": 31,
    "start_time": "2022-09-01T06:42:46.357Z"
   },
   {
    "duration": 26,
    "start_time": "2022-09-01T06:42:46.389Z"
   },
   {
    "duration": 19,
    "start_time": "2022-09-01T06:42:46.416Z"
   },
   {
    "duration": 290,
    "start_time": "2022-09-01T06:42:46.437Z"
   },
   {
    "duration": 2,
    "start_time": "2022-09-01T06:42:46.729Z"
   },
   {
    "duration": 21,
    "start_time": "2022-09-01T06:43:17.546Z"
   },
   {
    "duration": 402,
    "start_time": "2022-09-01T06:44:25.975Z"
   },
   {
    "duration": 289,
    "start_time": "2022-09-01T06:46:46.525Z"
   },
   {
    "duration": 22,
    "start_time": "2022-09-01T06:47:14.261Z"
   },
   {
    "duration": 19,
    "start_time": "2022-09-01T06:47:42.325Z"
   },
   {
    "duration": 1190,
    "start_time": "2022-09-01T06:48:43.580Z"
   },
   {
    "duration": 1167,
    "start_time": "2022-09-01T06:48:57.033Z"
   },
   {
    "duration": 11,
    "start_time": "2022-09-01T06:49:12.004Z"
   },
   {
    "duration": 279,
    "start_time": "2022-09-01T06:49:16.457Z"
   },
   {
    "duration": 21,
    "start_time": "2022-09-01T06:49:25.907Z"
   },
   {
    "duration": 123,
    "start_time": "2022-09-01T06:51:52.826Z"
   },
   {
    "duration": 14,
    "start_time": "2022-09-01T06:53:34.485Z"
   },
   {
    "duration": 18,
    "start_time": "2022-09-01T06:53:38.060Z"
   },
   {
    "duration": 65,
    "start_time": "2022-09-01T06:54:05.308Z"
   },
   {
    "duration": 20,
    "start_time": "2022-09-01T06:54:09.523Z"
   },
   {
    "duration": 15,
    "start_time": "2022-09-01T06:54:18.900Z"
   },
   {
    "duration": 20,
    "start_time": "2022-09-01T06:54:22.953Z"
   },
   {
    "duration": 24,
    "start_time": "2022-09-01T06:54:33.482Z"
   },
   {
    "duration": 21,
    "start_time": "2022-09-01T06:54:47.495Z"
   },
   {
    "duration": 295,
    "start_time": "2022-09-01T06:54:51.959Z"
   },
   {
    "duration": 13,
    "start_time": "2022-09-01T06:56:09.254Z"
   },
   {
    "duration": 275,
    "start_time": "2022-09-01T06:56:13.759Z"
   },
   {
    "duration": 172,
    "start_time": "2022-09-01T06:56:33.455Z"
   },
   {
    "duration": 282,
    "start_time": "2022-09-01T06:57:10.554Z"
   },
   {
    "duration": 285,
    "start_time": "2022-09-01T06:57:48.389Z"
   },
   {
    "duration": 274,
    "start_time": "2022-09-01T06:57:59.056Z"
   },
   {
    "duration": 278,
    "start_time": "2022-09-01T08:00:51.335Z"
   },
   {
    "duration": 22,
    "start_time": "2022-09-01T08:01:04.540Z"
   },
   {
    "duration": 16,
    "start_time": "2022-09-01T08:01:16.379Z"
   },
   {
    "duration": 87,
    "start_time": "2022-09-01T08:01:33.357Z"
   },
   {
    "duration": 19,
    "start_time": "2022-09-01T08:03:56.817Z"
   },
   {
    "duration": 9,
    "start_time": "2022-09-01T08:04:13.457Z"
   },
   {
    "duration": 7,
    "start_time": "2022-09-01T08:05:19.635Z"
   },
   {
    "duration": 105,
    "start_time": "2022-09-01T08:05:25.981Z"
   },
   {
    "duration": 7,
    "start_time": "2022-09-01T08:08:45.307Z"
   },
   {
    "duration": 11,
    "start_time": "2022-09-01T08:09:09.406Z"
   },
   {
    "duration": 18,
    "start_time": "2022-09-01T08:10:25.621Z"
   },
   {
    "duration": 19,
    "start_time": "2022-09-01T08:10:32.353Z"
   },
   {
    "duration": 162,
    "start_time": "2022-09-01T08:10:51.069Z"
   },
   {
    "duration": 22,
    "start_time": "2022-09-01T08:11:43.829Z"
   },
   {
    "duration": 163,
    "start_time": "2022-09-01T08:11:59.506Z"
   },
   {
    "duration": 19,
    "start_time": "2022-09-01T08:12:06.276Z"
   },
   {
    "duration": 168,
    "start_time": "2022-09-01T08:12:15.824Z"
   },
   {
    "duration": 181,
    "start_time": "2022-09-01T08:15:36.262Z"
   },
   {
    "duration": 184,
    "start_time": "2022-09-01T08:15:40.801Z"
   },
   {
    "duration": 187,
    "start_time": "2022-09-01T08:16:07.241Z"
   },
   {
    "duration": 294,
    "start_time": "2022-09-01T08:20:25.864Z"
   },
   {
    "duration": 270,
    "start_time": "2022-09-01T08:21:43.938Z"
   },
   {
    "duration": 14,
    "start_time": "2022-09-01T08:25:41.513Z"
   },
   {
    "duration": 350,
    "start_time": "2022-09-01T08:25:56.534Z"
   },
   {
    "duration": 28,
    "start_time": "2022-09-01T08:26:42.516Z"
   },
   {
    "duration": 290,
    "start_time": "2022-09-01T08:26:55.516Z"
   },
   {
    "duration": 28,
    "start_time": "2022-09-01T08:27:04.477Z"
   },
   {
    "duration": 258,
    "start_time": "2022-09-01T08:27:11.411Z"
   },
   {
    "duration": 260,
    "start_time": "2022-09-01T08:27:37.821Z"
   },
   {
    "duration": 277,
    "start_time": "2022-09-01T08:28:00.309Z"
   },
   {
    "duration": 287,
    "start_time": "2022-09-01T08:31:59.830Z"
   },
   {
    "duration": 1237,
    "start_time": "2022-09-01T08:33:07.470Z"
   },
   {
    "duration": 15,
    "start_time": "2022-09-01T08:33:08.709Z"
   },
   {
    "duration": 41,
    "start_time": "2022-09-01T08:33:08.725Z"
   },
   {
    "duration": 4,
    "start_time": "2022-09-01T08:33:08.768Z"
   },
   {
    "duration": 23,
    "start_time": "2022-09-01T08:33:08.775Z"
   },
   {
    "duration": 53,
    "start_time": "2022-09-01T08:33:08.800Z"
   },
   {
    "duration": 40,
    "start_time": "2022-09-01T08:33:08.855Z"
   },
   {
    "duration": 64,
    "start_time": "2022-09-01T08:33:08.898Z"
   },
   {
    "duration": 42,
    "start_time": "2022-09-01T08:33:08.964Z"
   },
   {
    "duration": 8,
    "start_time": "2022-09-01T08:33:09.008Z"
   },
   {
    "duration": 25,
    "start_time": "2022-09-01T08:33:09.038Z"
   },
   {
    "duration": 234,
    "start_time": "2022-09-01T08:33:09.065Z"
   },
   {
    "duration": 15,
    "start_time": "2022-09-01T08:33:09.300Z"
   },
   {
    "duration": 27,
    "start_time": "2022-09-01T08:33:09.319Z"
   },
   {
    "duration": 371,
    "start_time": "2022-09-01T08:33:09.349Z"
   },
   {
    "duration": 16,
    "start_time": "2022-09-01T08:33:09.722Z"
   },
   {
    "duration": 237,
    "start_time": "2022-09-01T08:33:09.740Z"
   },
   {
    "duration": 20,
    "start_time": "2022-09-01T08:33:09.978Z"
   },
   {
    "duration": 12,
    "start_time": "2022-09-01T08:33:10.000Z"
   },
   {
    "duration": 37,
    "start_time": "2022-09-01T08:33:10.014Z"
   },
   {
    "duration": 1160,
    "start_time": "2022-09-01T08:34:06.747Z"
   },
   {
    "duration": 15,
    "start_time": "2022-09-01T08:34:07.909Z"
   },
   {
    "duration": 67,
    "start_time": "2022-09-01T08:34:07.926Z"
   },
   {
    "duration": 3,
    "start_time": "2022-09-01T08:34:07.995Z"
   },
   {
    "duration": 50,
    "start_time": "2022-09-01T08:34:08.000Z"
   },
   {
    "duration": 60,
    "start_time": "2022-09-01T08:34:08.052Z"
   },
   {
    "duration": 33,
    "start_time": "2022-09-01T08:34:08.113Z"
   },
   {
    "duration": 34,
    "start_time": "2022-09-01T08:34:08.147Z"
   },
   {
    "duration": 43,
    "start_time": "2022-09-01T08:34:08.182Z"
   },
   {
    "duration": 15,
    "start_time": "2022-09-01T08:34:08.227Z"
   },
   {
    "duration": 43,
    "start_time": "2022-09-01T08:34:08.244Z"
   },
   {
    "duration": 225,
    "start_time": "2022-09-01T08:34:08.288Z"
   },
   {
    "duration": 13,
    "start_time": "2022-09-01T08:34:08.515Z"
   },
   {
    "duration": 30,
    "start_time": "2022-09-01T08:34:08.530Z"
   },
   {
    "duration": 349,
    "start_time": "2022-09-01T08:34:08.561Z"
   },
   {
    "duration": 15,
    "start_time": "2022-09-01T08:34:08.913Z"
   },
   {
    "duration": 253,
    "start_time": "2022-09-01T08:34:08.940Z"
   },
   {
    "duration": 22,
    "start_time": "2022-09-01T08:34:09.195Z"
   },
   {
    "duration": 26,
    "start_time": "2022-09-01T08:34:09.218Z"
   },
   {
    "duration": 32,
    "start_time": "2022-09-01T08:34:09.245Z"
   },
   {
    "duration": 50,
    "start_time": "2022-09-01T08:34:09.279Z"
   },
   {
    "duration": 144,
    "start_time": "2022-09-01T08:34:09.331Z"
   },
   {
    "duration": 2,
    "start_time": "2022-09-01T08:34:09.477Z"
   },
   {
    "duration": 1112,
    "start_time": "2022-09-01T08:34:59.082Z"
   },
   {
    "duration": 15,
    "start_time": "2022-09-01T08:35:00.195Z"
   },
   {
    "duration": 35,
    "start_time": "2022-09-01T08:35:00.212Z"
   },
   {
    "duration": 3,
    "start_time": "2022-09-01T08:35:00.249Z"
   },
   {
    "duration": 26,
    "start_time": "2022-09-01T08:35:00.254Z"
   },
   {
    "duration": 44,
    "start_time": "2022-09-01T08:35:00.282Z"
   },
   {
    "duration": 30,
    "start_time": "2022-09-01T08:35:00.328Z"
   },
   {
    "duration": 34,
    "start_time": "2022-09-01T08:35:00.360Z"
   },
   {
    "duration": 44,
    "start_time": "2022-09-01T08:35:00.396Z"
   },
   {
    "duration": 7,
    "start_time": "2022-09-01T08:35:00.442Z"
   },
   {
    "duration": 29,
    "start_time": "2022-09-01T08:35:00.450Z"
   },
   {
    "duration": 253,
    "start_time": "2022-09-01T08:35:00.481Z"
   },
   {
    "duration": 14,
    "start_time": "2022-09-01T08:35:00.736Z"
   },
   {
    "duration": 38,
    "start_time": "2022-09-01T08:35:00.752Z"
   },
   {
    "duration": 360,
    "start_time": "2022-09-01T08:35:00.791Z"
   },
   {
    "duration": 13,
    "start_time": "2022-09-01T08:35:01.153Z"
   },
   {
    "duration": 288,
    "start_time": "2022-09-01T08:35:01.168Z"
   },
   {
    "duration": 21,
    "start_time": "2022-09-01T08:35:01.458Z"
   },
   {
    "duration": 73,
    "start_time": "2022-09-01T08:35:01.481Z"
   },
   {
    "duration": 39,
    "start_time": "2022-09-01T08:35:01.556Z"
   },
   {
    "duration": 55,
    "start_time": "2022-09-01T08:35:01.597Z"
   },
   {
    "duration": 203,
    "start_time": "2022-09-01T08:35:01.654Z"
   },
   {
    "duration": 2,
    "start_time": "2022-09-01T08:35:01.859Z"
   },
   {
    "duration": 1178,
    "start_time": "2022-09-01T08:36:18.051Z"
   },
   {
    "duration": 15,
    "start_time": "2022-09-01T08:36:19.231Z"
   },
   {
    "duration": 34,
    "start_time": "2022-09-01T08:36:19.247Z"
   },
   {
    "duration": 3,
    "start_time": "2022-09-01T08:36:19.282Z"
   },
   {
    "duration": 15,
    "start_time": "2022-09-01T08:36:19.287Z"
   },
   {
    "duration": 48,
    "start_time": "2022-09-01T08:36:19.304Z"
   },
   {
    "duration": 29,
    "start_time": "2022-09-01T08:36:19.354Z"
   },
   {
    "duration": 32,
    "start_time": "2022-09-01T08:36:19.385Z"
   },
   {
    "duration": 45,
    "start_time": "2022-09-01T08:36:19.418Z"
   },
   {
    "duration": 6,
    "start_time": "2022-09-01T08:36:19.465Z"
   },
   {
    "duration": 22,
    "start_time": "2022-09-01T08:36:19.473Z"
   },
   {
    "duration": 253,
    "start_time": "2022-09-01T08:36:19.497Z"
   },
   {
    "duration": 14,
    "start_time": "2022-09-01T08:36:19.752Z"
   },
   {
    "duration": 9,
    "start_time": "2022-09-01T08:36:19.768Z"
   },
   {
    "duration": 356,
    "start_time": "2022-09-01T08:36:19.779Z"
   },
   {
    "duration": 13,
    "start_time": "2022-09-01T08:36:20.138Z"
   },
   {
    "duration": 236,
    "start_time": "2022-09-01T08:36:20.153Z"
   },
   {
    "duration": 21,
    "start_time": "2022-09-01T08:36:20.391Z"
   },
   {
    "duration": 7,
    "start_time": "2022-09-01T08:36:20.414Z"
   },
   {
    "duration": 11,
    "start_time": "2022-09-01T08:36:20.438Z"
   },
   {
    "duration": 35,
    "start_time": "2022-09-01T08:36:20.451Z"
   },
   {
    "duration": 170,
    "start_time": "2022-09-01T08:36:20.488Z"
   },
   {
    "duration": 2,
    "start_time": "2022-09-01T08:36:20.660Z"
   },
   {
    "duration": 1217,
    "start_time": "2022-09-01T08:36:45.468Z"
   },
   {
    "duration": 15,
    "start_time": "2022-09-01T08:36:46.687Z"
   },
   {
    "duration": 33,
    "start_time": "2022-09-01T08:36:46.704Z"
   },
   {
    "duration": 3,
    "start_time": "2022-09-01T08:36:46.738Z"
   },
   {
    "duration": 19,
    "start_time": "2022-09-01T08:36:46.743Z"
   },
   {
    "duration": 31,
    "start_time": "2022-09-01T08:36:46.764Z"
   },
   {
    "duration": 41,
    "start_time": "2022-09-01T08:36:46.797Z"
   },
   {
    "duration": 36,
    "start_time": "2022-09-01T08:36:46.840Z"
   },
   {
    "duration": 31,
    "start_time": "2022-09-01T08:36:46.877Z"
   },
   {
    "duration": 7,
    "start_time": "2022-09-01T08:36:46.910Z"
   },
   {
    "duration": 21,
    "start_time": "2022-09-01T08:36:46.939Z"
   },
   {
    "duration": 235,
    "start_time": "2022-09-01T08:36:46.962Z"
   },
   {
    "duration": 14,
    "start_time": "2022-09-01T08:36:47.199Z"
   },
   {
    "duration": 9,
    "start_time": "2022-09-01T08:36:47.216Z"
   },
   {
    "duration": 336,
    "start_time": "2022-09-01T08:36:47.239Z"
   },
   {
    "duration": 14,
    "start_time": "2022-09-01T08:36:47.577Z"
   },
   {
    "duration": 245,
    "start_time": "2022-09-01T08:36:47.593Z"
   },
   {
    "duration": 21,
    "start_time": "2022-09-01T08:36:47.840Z"
   },
   {
    "duration": 7,
    "start_time": "2022-09-01T08:36:47.863Z"
   },
   {
    "duration": 11,
    "start_time": "2022-09-01T08:36:47.872Z"
   },
   {
    "duration": 1344,
    "start_time": "2022-09-01T08:39:16.649Z"
   },
   {
    "duration": 15,
    "start_time": "2022-09-01T08:39:17.994Z"
   },
   {
    "duration": 37,
    "start_time": "2022-09-01T08:39:18.011Z"
   },
   {
    "duration": 3,
    "start_time": "2022-09-01T08:39:18.050Z"
   },
   {
    "duration": 16,
    "start_time": "2022-09-01T08:39:18.055Z"
   },
   {
    "duration": 35,
    "start_time": "2022-09-01T08:39:18.073Z"
   },
   {
    "duration": 46,
    "start_time": "2022-09-01T08:39:18.109Z"
   },
   {
    "duration": 36,
    "start_time": "2022-09-01T08:39:18.157Z"
   },
   {
    "duration": 44,
    "start_time": "2022-09-01T08:39:18.194Z"
   },
   {
    "duration": 7,
    "start_time": "2022-09-01T08:39:18.240Z"
   },
   {
    "duration": 20,
    "start_time": "2022-09-01T08:39:18.249Z"
   },
   {
    "duration": 237,
    "start_time": "2022-09-01T08:39:18.270Z"
   },
   {
    "duration": 14,
    "start_time": "2022-09-01T08:39:18.509Z"
   },
   {
    "duration": 18,
    "start_time": "2022-09-01T08:39:18.527Z"
   },
   {
    "duration": 344,
    "start_time": "2022-09-01T08:39:18.547Z"
   },
   {
    "duration": 16,
    "start_time": "2022-09-01T08:39:18.893Z"
   },
   {
    "duration": 280,
    "start_time": "2022-09-01T08:39:18.911Z"
   },
   {
    "duration": 19,
    "start_time": "2022-09-01T08:39:19.193Z"
   },
   {
    "duration": 7,
    "start_time": "2022-09-01T08:39:19.214Z"
   },
   {
    "duration": 11,
    "start_time": "2022-09-01T08:39:19.238Z"
   },
   {
    "duration": 275,
    "start_time": "2022-09-01T08:39:19.250Z"
   },
   {
    "duration": 197,
    "start_time": "2022-09-01T08:39:19.526Z"
   },
   {
    "duration": 2,
    "start_time": "2022-09-01T08:39:19.725Z"
   },
   {
    "duration": 288,
    "start_time": "2022-09-01T08:41:08.126Z"
   },
   {
    "duration": 345,
    "start_time": "2022-09-01T08:41:16.381Z"
   },
   {
    "duration": 89,
    "start_time": "2022-09-01T08:42:13.104Z"
   },
   {
    "duration": 275,
    "start_time": "2022-09-01T08:42:40.722Z"
   },
   {
    "duration": 285,
    "start_time": "2022-09-01T08:43:33.411Z"
   },
   {
    "duration": 282,
    "start_time": "2022-09-01T08:43:57.976Z"
   },
   {
    "duration": 279,
    "start_time": "2022-09-01T08:44:13.711Z"
   },
   {
    "duration": 373,
    "start_time": "2022-09-01T08:44:28.292Z"
   },
   {
    "duration": 267,
    "start_time": "2022-09-01T08:44:40.610Z"
   },
   {
    "duration": 4,
    "start_time": "2022-09-01T08:55:05.121Z"
   },
   {
    "duration": 4,
    "start_time": "2022-09-01T08:55:54.999Z"
   },
   {
    "duration": 94,
    "start_time": "2022-09-01T08:56:12.946Z"
   },
   {
    "duration": 3,
    "start_time": "2022-09-01T08:56:41.900Z"
   },
   {
    "duration": 9,
    "start_time": "2022-09-01T08:56:42.775Z"
   },
   {
    "duration": 5,
    "start_time": "2022-09-01T08:58:28.292Z"
   },
   {
    "duration": 10,
    "start_time": "2022-09-01T08:58:30.002Z"
   },
   {
    "duration": 3,
    "start_time": "2022-09-01T08:59:22.832Z"
   },
   {
    "duration": 10,
    "start_time": "2022-09-01T08:59:24.184Z"
   },
   {
    "duration": 3,
    "start_time": "2022-09-01T09:00:23.898Z"
   },
   {
    "duration": 8,
    "start_time": "2022-09-01T09:00:25.165Z"
   },
   {
    "duration": 12,
    "start_time": "2022-09-01T09:00:34.146Z"
   },
   {
    "duration": 11,
    "start_time": "2022-09-01T09:00:41.259Z"
   },
   {
    "duration": 4,
    "start_time": "2022-09-01T09:01:04.168Z"
   },
   {
    "duration": 11,
    "start_time": "2022-09-01T09:01:06.026Z"
   },
   {
    "duration": 9,
    "start_time": "2022-09-01T09:02:54.496Z"
   },
   {
    "duration": 4,
    "start_time": "2022-09-01T09:02:55.521Z"
   },
   {
    "duration": 8,
    "start_time": "2022-09-01T09:02:56.526Z"
   },
   {
    "duration": 3,
    "start_time": "2022-09-01T09:06:37.035Z"
   },
   {
    "duration": 8,
    "start_time": "2022-09-01T09:06:38.181Z"
   },
   {
    "duration": 4,
    "start_time": "2022-09-01T09:07:10.182Z"
   },
   {
    "duration": 9,
    "start_time": "2022-09-01T09:07:11.425Z"
   },
   {
    "duration": 4,
    "start_time": "2022-09-01T09:08:04.684Z"
   },
   {
    "duration": 8,
    "start_time": "2022-09-01T09:08:05.831Z"
   },
   {
    "duration": 4,
    "start_time": "2022-09-01T09:08:07.822Z"
   },
   {
    "duration": 3,
    "start_time": "2022-09-01T09:09:34.870Z"
   },
   {
    "duration": 10,
    "start_time": "2022-09-01T09:09:35.829Z"
   },
   {
    "duration": 12,
    "start_time": "2022-09-01T09:12:51.184Z"
   },
   {
    "duration": 4,
    "start_time": "2022-09-01T09:12:54.910Z"
   },
   {
    "duration": 16,
    "start_time": "2022-09-01T09:12:56.176Z"
   },
   {
    "duration": 4,
    "start_time": "2022-09-01T09:13:01.097Z"
   },
   {
    "duration": 4,
    "start_time": "2022-09-01T09:13:46.683Z"
   },
   {
    "duration": 12,
    "start_time": "2022-09-01T09:13:48.307Z"
   },
   {
    "duration": 3,
    "start_time": "2022-09-01T09:15:04.408Z"
   },
   {
    "duration": 21,
    "start_time": "2022-09-01T09:15:05.370Z"
   },
   {
    "duration": 3,
    "start_time": "2022-09-01T09:15:06.792Z"
   },
   {
    "duration": 19,
    "start_time": "2022-09-01T09:15:07.785Z"
   },
   {
    "duration": 3,
    "start_time": "2022-09-01T09:15:19.904Z"
   },
   {
    "duration": 17,
    "start_time": "2022-09-01T09:15:20.882Z"
   },
   {
    "duration": 3,
    "start_time": "2022-09-01T09:15:30.194Z"
   },
   {
    "duration": 174,
    "start_time": "2022-09-01T09:15:31.680Z"
   },
   {
    "duration": 19,
    "start_time": "2022-09-01T09:16:54.288Z"
   },
   {
    "duration": 175,
    "start_time": "2022-09-01T09:17:10.764Z"
   },
   {
    "duration": 22,
    "start_time": "2022-09-01T09:18:15.063Z"
   },
   {
    "duration": 204,
    "start_time": "2022-09-01T09:18:34.145Z"
   },
   {
    "duration": 14,
    "start_time": "2022-09-01T09:19:13.978Z"
   },
   {
    "duration": 181,
    "start_time": "2022-09-01T09:19:19.827Z"
   },
   {
    "duration": 21,
    "start_time": "2022-09-01T09:20:13.280Z"
   },
   {
    "duration": 186,
    "start_time": "2022-09-01T09:20:15.253Z"
   },
   {
    "duration": 14,
    "start_time": "2022-09-01T09:20:27.990Z"
   },
   {
    "duration": 185,
    "start_time": "2022-09-01T09:20:37.312Z"
   },
   {
    "duration": 13,
    "start_time": "2022-09-01T09:21:06.868Z"
   },
   {
    "duration": 53,
    "start_time": "2022-09-01T09:21:30.434Z"
   },
   {
    "duration": 12,
    "start_time": "2022-09-01T09:21:42.633Z"
   },
   {
    "duration": 186,
    "start_time": "2022-09-01T09:21:58.168Z"
   },
   {
    "duration": 14,
    "start_time": "2022-09-01T09:25:02.091Z"
   },
   {
    "duration": 3,
    "start_time": "2022-09-01T09:25:19.629Z"
   },
   {
    "duration": 12,
    "start_time": "2022-09-01T09:25:21.771Z"
   },
   {
    "duration": 3,
    "start_time": "2022-09-01T09:25:36.585Z"
   },
   {
    "duration": 4,
    "start_time": "2022-09-01T09:25:52.302Z"
   },
   {
    "duration": 14,
    "start_time": "2022-09-01T09:26:01.207Z"
   },
   {
    "duration": 195,
    "start_time": "2022-09-01T09:26:10.185Z"
   },
   {
    "duration": 1078,
    "start_time": "2022-09-01T09:26:14.901Z"
   },
   {
    "duration": 3,
    "start_time": "2022-09-01T09:26:35.175Z"
   },
   {
    "duration": 12,
    "start_time": "2022-09-01T09:26:37.424Z"
   },
   {
    "duration": 3,
    "start_time": "2022-09-01T09:27:07.233Z"
   },
   {
    "duration": 174,
    "start_time": "2022-09-01T09:27:09.180Z"
   },
   {
    "duration": 4,
    "start_time": "2022-09-01T09:27:27.659Z"
   },
   {
    "duration": 183,
    "start_time": "2022-09-01T09:27:30.458Z"
   },
   {
    "duration": 75,
    "start_time": "2022-09-01T09:28:27.794Z"
   },
   {
    "duration": 4,
    "start_time": "2022-09-01T09:28:33.226Z"
   },
   {
    "duration": 9,
    "start_time": "2022-09-01T09:28:37.177Z"
   },
   {
    "duration": 4,
    "start_time": "2022-09-01T09:29:10.615Z"
   },
   {
    "duration": 8,
    "start_time": "2022-09-01T09:29:11.541Z"
   },
   {
    "duration": 3,
    "start_time": "2022-09-01T09:29:21.508Z"
   },
   {
    "duration": 8,
    "start_time": "2022-09-01T09:29:22.479Z"
   },
   {
    "duration": 3,
    "start_time": "2022-09-01T09:29:38.002Z"
   },
   {
    "duration": 172,
    "start_time": "2022-09-01T09:29:39.173Z"
   },
   {
    "duration": 76,
    "start_time": "2022-09-01T17:52:03.716Z"
   },
   {
    "duration": 44,
    "start_time": "2022-09-01T17:52:16.316Z"
   },
   {
    "duration": 1841,
    "start_time": "2022-09-01T17:52:20.426Z"
   },
   {
    "duration": 16,
    "start_time": "2022-09-01T17:52:22.269Z"
   },
   {
    "duration": 44,
    "start_time": "2022-09-01T17:52:22.287Z"
   },
   {
    "duration": 3,
    "start_time": "2022-09-01T17:52:22.333Z"
   },
   {
    "duration": 16,
    "start_time": "2022-09-01T17:52:22.338Z"
   },
   {
    "duration": 45,
    "start_time": "2022-09-01T17:52:22.356Z"
   },
   {
    "duration": 30,
    "start_time": "2022-09-01T17:52:22.403Z"
   },
   {
    "duration": 35,
    "start_time": "2022-09-01T17:52:22.434Z"
   },
   {
    "duration": 50,
    "start_time": "2022-09-01T17:52:22.470Z"
   },
   {
    "duration": 7,
    "start_time": "2022-09-01T17:52:22.522Z"
   },
   {
    "duration": 24,
    "start_time": "2022-09-01T17:52:22.530Z"
   },
   {
    "duration": 276,
    "start_time": "2022-09-01T17:52:22.556Z"
   },
   {
    "duration": 14,
    "start_time": "2022-09-01T17:52:22.834Z"
   },
   {
    "duration": 16,
    "start_time": "2022-09-01T17:52:22.851Z"
   },
   {
    "duration": 367,
    "start_time": "2022-09-01T17:52:22.869Z"
   },
   {
    "duration": 14,
    "start_time": "2022-09-01T17:52:23.238Z"
   },
   {
    "duration": 249,
    "start_time": "2022-09-01T17:52:23.253Z"
   },
   {
    "duration": 22,
    "start_time": "2022-09-01T17:52:23.503Z"
   },
   {
    "duration": 7,
    "start_time": "2022-09-01T17:52:23.527Z"
   },
   {
    "duration": 20,
    "start_time": "2022-09-01T17:52:23.536Z"
   },
   {
    "duration": 355,
    "start_time": "2022-09-01T17:52:23.558Z"
   },
   {
    "duration": 106,
    "start_time": "2022-09-01T17:52:23.915Z"
   },
   {
    "duration": 0,
    "start_time": "2022-09-01T17:52:24.022Z"
   },
   {
    "duration": 0,
    "start_time": "2022-09-01T17:52:24.023Z"
   },
   {
    "duration": 75,
    "start_time": "2022-09-01T17:54:05.185Z"
   },
   {
    "duration": 124,
    "start_time": "2022-09-01T17:54:23.830Z"
   },
   {
    "duration": 101,
    "start_time": "2022-09-01T17:54:32.635Z"
   },
   {
    "duration": 4,
    "start_time": "2022-09-01T17:54:38.356Z"
   },
   {
    "duration": 73,
    "start_time": "2022-09-01T17:55:16.455Z"
   },
   {
    "duration": 66,
    "start_time": "2022-09-01T17:55:22.701Z"
   },
   {
    "duration": 90,
    "start_time": "2022-09-01T17:55:38.336Z"
   },
   {
    "duration": 87,
    "start_time": "2022-09-01T17:55:42.276Z"
   },
   {
    "duration": 72,
    "start_time": "2022-09-01T17:55:55.048Z"
   },
   {
    "duration": 4,
    "start_time": "2022-09-01T17:56:01.453Z"
   },
   {
    "duration": 185,
    "start_time": "2022-09-01T17:56:02.730Z"
   },
   {
    "duration": 92,
    "start_time": "2022-09-01T17:57:30.021Z"
   },
   {
    "duration": 4,
    "start_time": "2022-09-01T17:59:11.014Z"
   },
   {
    "duration": 188,
    "start_time": "2022-09-01T17:59:16.019Z"
   },
   {
    "duration": 84,
    "start_time": "2022-09-01T18:00:49.289Z"
   },
   {
    "duration": 4,
    "start_time": "2022-09-01T18:00:55.082Z"
   },
   {
    "duration": 201,
    "start_time": "2022-09-01T18:00:56.530Z"
   },
   {
    "duration": 70,
    "start_time": "2022-09-01T18:12:06.986Z"
   },
   {
    "duration": 99,
    "start_time": "2022-09-01T18:12:10.684Z"
   },
   {
    "duration": 96,
    "start_time": "2022-09-01T18:12:21.297Z"
   },
   {
    "duration": 74,
    "start_time": "2022-09-01T18:12:26.301Z"
   },
   {
    "duration": 90,
    "start_time": "2022-09-01T18:12:50.715Z"
   },
   {
    "duration": 85,
    "start_time": "2022-09-01T18:13:32.124Z"
   },
   {
    "duration": 19,
    "start_time": "2022-09-01T18:13:48.049Z"
   },
   {
    "duration": 12,
    "start_time": "2022-09-01T18:14:06.486Z"
   },
   {
    "duration": 11,
    "start_time": "2022-09-01T18:14:07.891Z"
   },
   {
    "duration": 4,
    "start_time": "2022-09-01T18:14:39.786Z"
   },
   {
    "duration": 6,
    "start_time": "2022-09-01T18:14:41.578Z"
   },
   {
    "duration": 21,
    "start_time": "2022-09-01T18:15:44.197Z"
   },
   {
    "duration": 19,
    "start_time": "2022-09-01T18:15:45.756Z"
   },
   {
    "duration": 6,
    "start_time": "2022-09-01T18:16:02.464Z"
   },
   {
    "duration": 6,
    "start_time": "2022-09-01T18:16:32.684Z"
   },
   {
    "duration": 1007,
    "start_time": "2022-09-01T18:17:18.064Z"
   },
   {
    "duration": 78,
    "start_time": "2022-09-01T18:17:24.744Z"
   },
   {
    "duration": 11,
    "start_time": "2022-09-01T18:17:31.846Z"
   },
   {
    "duration": 10,
    "start_time": "2022-09-01T18:18:52.147Z"
   },
   {
    "duration": 14,
    "start_time": "2022-09-01T18:18:59.181Z"
   },
   {
    "duration": 12,
    "start_time": "2022-09-01T18:19:33.170Z"
   },
   {
    "duration": 80,
    "start_time": "2022-09-01T18:20:33.575Z"
   },
   {
    "duration": 201,
    "start_time": "2022-09-01T18:20:35.070Z"
   },
   {
    "duration": 3,
    "start_time": "2022-09-01T18:20:36.702Z"
   },
   {
    "duration": 212,
    "start_time": "2022-09-01T18:20:37.772Z"
   },
   {
    "duration": 4,
    "start_time": "2022-09-01T18:20:54.720Z"
   },
   {
    "duration": 190,
    "start_time": "2022-09-01T18:20:56.236Z"
   },
   {
    "duration": 82,
    "start_time": "2022-09-01T18:21:20.778Z"
   },
   {
    "duration": 4,
    "start_time": "2022-09-01T18:21:23.642Z"
   },
   {
    "duration": 194,
    "start_time": "2022-09-01T18:21:24.795Z"
   },
   {
    "duration": 165,
    "start_time": "2022-09-01T18:22:30.466Z"
   },
   {
    "duration": 20,
    "start_time": "2022-09-01T18:29:34.600Z"
   },
   {
    "duration": 166,
    "start_time": "2022-09-01T18:29:43.749Z"
   },
   {
    "duration": 180,
    "start_time": "2022-09-01T18:29:57.604Z"
   },
   {
    "duration": 13,
    "start_time": "2022-09-01T18:33:09.430Z"
   },
   {
    "duration": 28,
    "start_time": "2022-09-01T18:33:18.464Z"
   },
   {
    "duration": 8,
    "start_time": "2022-09-01T18:33:43.803Z"
   },
   {
    "duration": 13,
    "start_time": "2022-09-01T18:34:06.185Z"
   },
   {
    "duration": 12,
    "start_time": "2022-09-01T18:34:48.575Z"
   },
   {
    "duration": 13,
    "start_time": "2022-09-01T18:35:32.380Z"
   },
   {
    "duration": 14,
    "start_time": "2022-09-01T18:35:46.002Z"
   },
   {
    "duration": 11,
    "start_time": "2022-09-01T18:35:53.236Z"
   },
   {
    "duration": 7,
    "start_time": "2022-09-01T18:36:30.680Z"
   },
   {
    "duration": 8,
    "start_time": "2022-09-01T18:36:48.740Z"
   },
   {
    "duration": 5,
    "start_time": "2022-09-01T18:37:01.539Z"
   },
   {
    "duration": 9,
    "start_time": "2022-09-01T18:37:06.111Z"
   },
   {
    "duration": 228,
    "start_time": "2022-09-01T18:37:45.727Z"
   },
   {
    "duration": 3,
    "start_time": "2022-09-01T18:41:05.467Z"
   },
   {
    "duration": 238,
    "start_time": "2022-09-01T18:41:59.973Z"
   },
   {
    "duration": 222,
    "start_time": "2022-09-01T18:42:10.440Z"
   },
   {
    "duration": 10,
    "start_time": "2022-09-01T18:44:39.161Z"
   },
   {
    "duration": 6,
    "start_time": "2022-09-01T18:44:47.208Z"
   },
   {
    "duration": 8,
    "start_time": "2022-09-01T18:44:50.785Z"
   },
   {
    "duration": 9,
    "start_time": "2022-09-01T18:45:07.262Z"
   },
   {
    "duration": 8,
    "start_time": "2022-09-01T18:46:09.867Z"
   },
   {
    "duration": 12,
    "start_time": "2022-09-01T18:46:18.034Z"
   },
   {
    "duration": 12,
    "start_time": "2022-09-01T18:46:31.606Z"
   },
   {
    "duration": 13,
    "start_time": "2022-09-01T18:46:42.198Z"
   },
   {
    "duration": 16,
    "start_time": "2022-09-01T18:46:55.168Z"
   },
   {
    "duration": 6,
    "start_time": "2022-09-01T18:47:06.020Z"
   },
   {
    "duration": 9,
    "start_time": "2022-09-01T18:47:10.122Z"
   },
   {
    "duration": 18,
    "start_time": "2022-09-01T18:48:30.580Z"
   },
   {
    "duration": 9,
    "start_time": "2022-09-01T18:48:33.546Z"
   },
   {
    "duration": 354,
    "start_time": "2022-09-01T18:50:57.518Z"
   },
   {
    "duration": 4,
    "start_time": "2022-09-01T18:51:11.918Z"
   },
   {
    "duration": 18,
    "start_time": "2022-09-01T18:51:14.147Z"
   },
   {
    "duration": 303,
    "start_time": "2022-09-01T18:51:20.933Z"
   },
   {
    "duration": 355,
    "start_time": "2022-09-01T18:51:26.530Z"
   },
   {
    "duration": 306,
    "start_time": "2022-09-01T18:51:36.277Z"
   },
   {
    "duration": 8,
    "start_time": "2022-09-01T18:52:30.918Z"
   },
   {
    "duration": 10,
    "start_time": "2022-09-01T18:52:35.586Z"
   },
   {
    "duration": 14,
    "start_time": "2022-09-01T18:55:14.367Z"
   },
   {
    "duration": 73,
    "start_time": "2022-09-01T18:55:41.561Z"
   },
   {
    "duration": 72,
    "start_time": "2022-09-01T18:55:53.284Z"
   },
   {
    "duration": 66,
    "start_time": "2022-09-01T18:55:57.761Z"
   },
   {
    "duration": 15,
    "start_time": "2022-09-01T18:56:58.220Z"
   },
   {
    "duration": 17,
    "start_time": "2022-09-01T18:57:06.537Z"
   },
   {
    "duration": 7,
    "start_time": "2022-09-01T18:57:53.768Z"
   },
   {
    "duration": 10,
    "start_time": "2022-09-01T18:57:57.092Z"
   },
   {
    "duration": 1256,
    "start_time": "2022-09-01T18:58:03.978Z"
   },
   {
    "duration": 10,
    "start_time": "2022-09-01T18:58:18.974Z"
   },
   {
    "duration": 9,
    "start_time": "2022-09-01T18:58:42.701Z"
   },
   {
    "duration": 9,
    "start_time": "2022-09-01T18:58:57.397Z"
   },
   {
    "duration": 12,
    "start_time": "2022-09-01T18:59:05.815Z"
   },
   {
    "duration": 14,
    "start_time": "2022-09-01T18:59:21.254Z"
   },
   {
    "duration": 315,
    "start_time": "2022-09-01T18:59:33.225Z"
   },
   {
    "duration": 9,
    "start_time": "2022-09-01T18:59:59.010Z"
   },
   {
    "duration": 1295,
    "start_time": "2022-09-01T19:00:23.122Z"
   },
   {
    "duration": 10,
    "start_time": "2022-09-01T19:00:40.171Z"
   },
   {
    "duration": 9,
    "start_time": "2022-09-01T19:01:09.535Z"
   },
   {
    "duration": 26,
    "start_time": "2022-09-01T19:02:43.934Z"
   },
   {
    "duration": 26,
    "start_time": "2022-09-01T19:02:59.618Z"
   },
   {
    "duration": 30,
    "start_time": "2022-09-01T19:03:01.909Z"
   },
   {
    "duration": 25,
    "start_time": "2022-09-01T19:03:12.734Z"
   },
   {
    "duration": 23,
    "start_time": "2022-09-01T19:03:23.028Z"
   },
   {
    "duration": 24,
    "start_time": "2022-09-01T19:03:29.251Z"
   },
   {
    "duration": 15,
    "start_time": "2022-09-01T19:03:48.816Z"
   },
   {
    "duration": 12,
    "start_time": "2022-09-01T19:04:02.168Z"
   },
   {
    "duration": 16,
    "start_time": "2022-09-01T19:04:26.432Z"
   },
   {
    "duration": 12,
    "start_time": "2022-09-01T19:05:04.696Z"
   },
   {
    "duration": 12,
    "start_time": "2022-09-01T19:05:31.711Z"
   },
   {
    "duration": 63,
    "start_time": "2022-09-01T19:05:38.715Z"
   },
   {
    "duration": 56,
    "start_time": "2022-09-01T19:05:55.784Z"
   },
   {
    "duration": 64,
    "start_time": "2022-09-01T19:06:04.392Z"
   },
   {
    "duration": 11,
    "start_time": "2022-09-01T19:06:16.672Z"
   },
   {
    "duration": 11,
    "start_time": "2022-09-01T19:06:23.269Z"
   },
   {
    "duration": 11,
    "start_time": "2022-09-01T19:06:36.027Z"
   },
   {
    "duration": 12,
    "start_time": "2022-09-01T19:06:46.834Z"
   },
   {
    "duration": 11,
    "start_time": "2022-09-01T19:06:52.111Z"
   },
   {
    "duration": 7,
    "start_time": "2022-09-01T19:07:18.420Z"
   },
   {
    "duration": 7,
    "start_time": "2022-09-01T19:07:20.563Z"
   },
   {
    "duration": 11,
    "start_time": "2022-09-01T19:07:22.764Z"
   },
   {
    "duration": 15,
    "start_time": "2022-09-01T19:07:31.470Z"
   },
   {
    "duration": 16,
    "start_time": "2022-09-01T19:09:06.220Z"
   },
   {
    "duration": 25,
    "start_time": "2022-09-01T19:09:23.711Z"
   },
   {
    "duration": 13,
    "start_time": "2022-09-01T19:09:25.764Z"
   },
   {
    "duration": 22,
    "start_time": "2022-09-01T19:09:29.149Z"
   },
   {
    "duration": 14,
    "start_time": "2022-09-01T19:11:34.637Z"
   },
   {
    "duration": 20,
    "start_time": "2022-09-01T19:11:37.499Z"
   },
   {
    "duration": 25,
    "start_time": "2022-09-01T19:11:57.951Z"
   },
   {
    "duration": 19,
    "start_time": "2022-09-01T19:12:05.871Z"
   },
   {
    "duration": 30,
    "start_time": "2022-09-01T19:13:40.060Z"
   },
   {
    "duration": 39,
    "start_time": "2022-09-01T19:14:31.019Z"
   },
   {
    "duration": 42,
    "start_time": "2022-09-01T19:16:00.946Z"
   },
   {
    "duration": 39,
    "start_time": "2022-09-01T19:16:04.859Z"
   },
   {
    "duration": 47,
    "start_time": "2022-09-01T19:16:09.116Z"
   },
   {
    "duration": 55,
    "start_time": "2022-09-01T19:16:51.972Z"
   },
   {
    "duration": 7,
    "start_time": "2022-09-01T19:19:55.997Z"
   },
   {
    "duration": 45,
    "start_time": "2022-09-01T19:20:09.076Z"
   },
   {
    "duration": 43,
    "start_time": "2022-09-01T19:20:18.594Z"
   },
   {
    "duration": 42,
    "start_time": "2022-09-01T19:20:41.421Z"
   },
   {
    "duration": 8,
    "start_time": "2022-09-01T19:23:56.676Z"
   },
   {
    "duration": 56,
    "start_time": "2022-09-01T19:24:11.770Z"
   },
   {
    "duration": 21,
    "start_time": "2022-09-01T19:25:12.747Z"
   },
   {
    "duration": 19,
    "start_time": "2022-09-01T19:25:32.841Z"
   },
   {
    "duration": 29,
    "start_time": "2022-09-01T19:25:36.788Z"
   },
   {
    "duration": 10,
    "start_time": "2022-09-01T19:26:48.492Z"
   },
   {
    "duration": 9,
    "start_time": "2022-09-01T19:26:53.331Z"
   },
   {
    "duration": 15,
    "start_time": "2022-09-01T19:26:58.905Z"
   },
   {
    "duration": 1169,
    "start_time": "2022-09-01T19:27:57.033Z"
   },
   {
    "duration": 20,
    "start_time": "2022-09-01T19:28:07.409Z"
   },
   {
    "duration": 20,
    "start_time": "2022-09-01T19:28:14.431Z"
   },
   {
    "duration": 21,
    "start_time": "2022-09-01T19:28:26.808Z"
   },
   {
    "duration": 16,
    "start_time": "2022-09-01T19:28:29.240Z"
   },
   {
    "duration": 16,
    "start_time": "2022-09-01T19:28:31.529Z"
   },
   {
    "duration": 16,
    "start_time": "2022-09-01T19:29:28.599Z"
   },
   {
    "duration": 8,
    "start_time": "2022-09-01T19:31:47.434Z"
   },
   {
    "duration": 19,
    "start_time": "2022-09-01T19:31:51.430Z"
   },
   {
    "duration": 63,
    "start_time": "2022-09-02T05:18:26.399Z"
   },
   {
    "duration": 7,
    "start_time": "2022-09-02T05:18:31.189Z"
   },
   {
    "duration": 1370,
    "start_time": "2022-09-02T05:18:40.692Z"
   },
   {
    "duration": 15,
    "start_time": "2022-09-02T05:18:42.064Z"
   },
   {
    "duration": 36,
    "start_time": "2022-09-02T05:18:42.080Z"
   },
   {
    "duration": 3,
    "start_time": "2022-09-02T05:18:42.118Z"
   },
   {
    "duration": 16,
    "start_time": "2022-09-02T05:18:42.123Z"
   },
   {
    "duration": 30,
    "start_time": "2022-09-02T05:18:42.140Z"
   },
   {
    "duration": 39,
    "start_time": "2022-09-02T05:18:42.172Z"
   },
   {
    "duration": 30,
    "start_time": "2022-09-02T05:18:42.213Z"
   },
   {
    "duration": 45,
    "start_time": "2022-09-02T05:18:42.244Z"
   },
   {
    "duration": 6,
    "start_time": "2022-09-02T05:18:42.290Z"
   },
   {
    "duration": 19,
    "start_time": "2022-09-02T05:18:42.297Z"
   },
   {
    "duration": 240,
    "start_time": "2022-09-02T05:18:42.317Z"
   },
   {
    "duration": 14,
    "start_time": "2022-09-02T05:18:42.558Z"
   },
   {
    "duration": 14,
    "start_time": "2022-09-02T05:18:42.575Z"
   },
   {
    "duration": 308,
    "start_time": "2022-09-02T05:18:42.591Z"
   },
   {
    "duration": 13,
    "start_time": "2022-09-02T05:18:42.901Z"
   },
   {
    "duration": 218,
    "start_time": "2022-09-02T05:18:42.915Z"
   },
   {
    "duration": 19,
    "start_time": "2022-09-02T05:18:43.135Z"
   },
   {
    "duration": 8,
    "start_time": "2022-09-02T05:18:43.155Z"
   },
   {
    "duration": 30,
    "start_time": "2022-09-02T05:18:43.165Z"
   },
   {
    "duration": 270,
    "start_time": "2022-09-02T05:18:43.197Z"
   },
   {
    "duration": 20,
    "start_time": "2022-09-02T05:18:43.469Z"
   },
   {
    "duration": 3,
    "start_time": "2022-09-02T05:18:43.491Z"
   },
   {
    "duration": 183,
    "start_time": "2022-09-02T05:18:43.495Z"
   },
   {
    "duration": 156,
    "start_time": "2022-09-02T05:18:43.680Z"
   },
   {
    "duration": 159,
    "start_time": "2022-09-02T05:18:43.837Z"
   },
   {
    "duration": 223,
    "start_time": "2022-09-02T05:18:43.998Z"
   },
   {
    "duration": 201,
    "start_time": "2022-09-02T05:18:44.223Z"
   },
   {
    "duration": 18,
    "start_time": "2022-09-02T05:18:44.426Z"
   },
   {
    "duration": 77,
    "start_time": "2022-09-02T05:18:44.446Z"
   },
   {
    "duration": 0,
    "start_time": "2022-09-02T05:18:44.524Z"
   },
   {
    "duration": 0,
    "start_time": "2022-09-02T05:18:44.525Z"
   },
   {
    "duration": 1,
    "start_time": "2022-09-02T05:18:44.526Z"
   },
   {
    "duration": 0,
    "start_time": "2022-09-02T05:18:44.528Z"
   },
   {
    "duration": 17,
    "start_time": "2022-09-02T05:18:53.992Z"
   },
   {
    "duration": 16,
    "start_time": "2022-09-02T05:18:58.325Z"
   },
   {
    "duration": 16,
    "start_time": "2022-09-02T05:20:40.220Z"
   },
   {
    "duration": 4,
    "start_time": "2022-09-02T05:21:25.750Z"
   },
   {
    "duration": 12,
    "start_time": "2022-09-02T05:21:29.890Z"
   },
   {
    "duration": 11,
    "start_time": "2022-09-02T05:21:41.573Z"
   },
   {
    "duration": 11,
    "start_time": "2022-09-02T05:21:49.531Z"
   },
   {
    "duration": 12,
    "start_time": "2022-09-02T05:22:20.499Z"
   },
   {
    "duration": 12,
    "start_time": "2022-09-02T05:23:15.847Z"
   },
   {
    "duration": 9,
    "start_time": "2022-09-02T05:27:14.692Z"
   },
   {
    "duration": 8,
    "start_time": "2022-09-02T05:27:19.859Z"
   },
   {
    "duration": 4,
    "start_time": "2022-09-02T05:27:27.982Z"
   },
   {
    "duration": 3,
    "start_time": "2022-09-02T05:27:52.088Z"
   },
   {
    "duration": 507,
    "start_time": "2022-09-02T05:27:57.340Z"
   },
   {
    "duration": 9,
    "start_time": "2022-09-02T05:29:12.486Z"
   },
   {
    "duration": 22,
    "start_time": "2022-09-02T05:29:18.286Z"
   },
   {
    "duration": 22,
    "start_time": "2022-09-02T05:29:32.915Z"
   },
   {
    "duration": 22,
    "start_time": "2022-09-02T05:29:39.118Z"
   },
   {
    "duration": 22,
    "start_time": "2022-09-02T05:29:49.447Z"
   },
   {
    "duration": 37,
    "start_time": "2022-09-02T05:29:54.159Z"
   },
   {
    "duration": 210,
    "start_time": "2022-09-02T05:30:51.515Z"
   },
   {
    "duration": 9,
    "start_time": "2022-09-02T05:31:18.208Z"
   },
   {
    "duration": 15,
    "start_time": "2022-09-02T05:55:46.038Z"
   },
   {
    "duration": 11,
    "start_time": "2022-09-02T05:56:39.873Z"
   },
   {
    "duration": 9,
    "start_time": "2022-09-02T05:56:58.618Z"
   },
   {
    "duration": 1022,
    "start_time": "2022-09-02T05:57:02.940Z"
   },
   {
    "duration": 11,
    "start_time": "2022-09-02T05:57:08.444Z"
   },
   {
    "duration": 941,
    "start_time": "2022-09-02T05:57:27.806Z"
   },
   {
    "duration": 10,
    "start_time": "2022-09-02T05:57:51.048Z"
   },
   {
    "duration": 124,
    "start_time": "2022-09-02T06:00:03.705Z"
   },
   {
    "duration": 19,
    "start_time": "2022-09-02T06:00:20.277Z"
   },
   {
    "duration": 12,
    "start_time": "2022-09-02T06:00:31.241Z"
   },
   {
    "duration": 1097,
    "start_time": "2022-09-02T06:01:31.136Z"
   },
   {
    "duration": 15,
    "start_time": "2022-09-02T06:01:32.234Z"
   },
   {
    "duration": 35,
    "start_time": "2022-09-02T06:01:32.250Z"
   },
   {
    "duration": 3,
    "start_time": "2022-09-02T06:01:32.286Z"
   },
   {
    "duration": 16,
    "start_time": "2022-09-02T06:01:32.291Z"
   },
   {
    "duration": 34,
    "start_time": "2022-09-02T06:01:32.309Z"
   },
   {
    "duration": 28,
    "start_time": "2022-09-02T06:01:32.344Z"
   },
   {
    "duration": 36,
    "start_time": "2022-09-02T06:01:32.387Z"
   },
   {
    "duration": 32,
    "start_time": "2022-09-02T06:01:32.425Z"
   },
   {
    "duration": 28,
    "start_time": "2022-09-02T06:01:32.459Z"
   },
   {
    "duration": 21,
    "start_time": "2022-09-02T06:01:32.489Z"
   },
   {
    "duration": 246,
    "start_time": "2022-09-02T06:01:32.511Z"
   },
   {
    "duration": 14,
    "start_time": "2022-09-02T06:01:32.758Z"
   },
   {
    "duration": 8,
    "start_time": "2022-09-02T06:01:32.786Z"
   },
   {
    "duration": 327,
    "start_time": "2022-09-02T06:01:32.795Z"
   },
   {
    "duration": 14,
    "start_time": "2022-09-02T06:01:33.124Z"
   },
   {
    "duration": 255,
    "start_time": "2022-09-02T06:01:33.140Z"
   },
   {
    "duration": 22,
    "start_time": "2022-09-02T06:01:33.397Z"
   },
   {
    "duration": 8,
    "start_time": "2022-09-02T06:01:33.421Z"
   },
   {
    "duration": 19,
    "start_time": "2022-09-02T06:01:33.431Z"
   },
   {
    "duration": 299,
    "start_time": "2022-09-02T06:01:33.452Z"
   },
   {
    "duration": 11,
    "start_time": "2022-09-02T06:01:33.753Z"
   },
   {
    "duration": 4,
    "start_time": "2022-09-02T06:01:33.765Z"
   },
   {
    "duration": 197,
    "start_time": "2022-09-02T06:01:33.771Z"
   },
   {
    "duration": 164,
    "start_time": "2022-09-02T06:01:33.970Z"
   },
   {
    "duration": 163,
    "start_time": "2022-09-02T06:01:34.136Z"
   },
   {
    "duration": 229,
    "start_time": "2022-09-02T06:01:34.301Z"
   },
   {
    "duration": 202,
    "start_time": "2022-09-02T06:01:34.532Z"
   },
   {
    "duration": 18,
    "start_time": "2022-09-02T06:01:34.736Z"
   },
   {
    "duration": 19,
    "start_time": "2022-09-02T06:01:34.756Z"
   },
   {
    "duration": 17,
    "start_time": "2022-09-02T06:01:34.787Z"
   },
   {
    "duration": 10,
    "start_time": "2022-09-02T06:01:34.806Z"
   },
   {
    "duration": 11,
    "start_time": "2022-09-02T06:01:34.818Z"
   },
   {
    "duration": 10,
    "start_time": "2022-09-02T06:01:34.830Z"
   },
   {
    "duration": 9,
    "start_time": "2022-09-02T06:01:34.842Z"
   },
   {
    "duration": 18,
    "start_time": "2022-09-02T06:04:52.977Z"
   },
   {
    "duration": 15,
    "start_time": "2022-09-02T06:06:37.113Z"
   },
   {
    "duration": 28,
    "start_time": "2022-09-02T06:06:55.736Z"
   },
   {
    "duration": 12,
    "start_time": "2022-09-02T06:07:13.710Z"
   },
   {
    "duration": 13,
    "start_time": "2022-09-02T06:07:26.861Z"
   },
   {
    "duration": 11,
    "start_time": "2022-09-02T06:07:30.178Z"
   },
   {
    "duration": 12,
    "start_time": "2022-09-02T06:07:32.490Z"
   },
   {
    "duration": 3,
    "start_time": "2022-09-02T06:07:37.849Z"
   },
   {
    "duration": 31,
    "start_time": "2022-09-02T06:07:51.238Z"
   },
   {
    "duration": 26,
    "start_time": "2022-09-02T06:07:54.607Z"
   },
   {
    "duration": 12,
    "start_time": "2022-09-02T06:08:02.389Z"
   },
   {
    "duration": 21,
    "start_time": "2022-09-02T06:08:04.572Z"
   },
   {
    "duration": 13,
    "start_time": "2022-09-02T06:08:37.999Z"
   },
   {
    "duration": 22,
    "start_time": "2022-09-02T06:08:39.817Z"
   },
   {
    "duration": 5,
    "start_time": "2022-09-02T06:10:58.183Z"
   },
   {
    "duration": 6,
    "start_time": "2022-09-02T06:11:23.415Z"
   },
   {
    "duration": 14,
    "start_time": "2022-09-02T07:16:22.253Z"
   },
   {
    "duration": 11,
    "start_time": "2022-09-02T07:16:38.874Z"
   },
   {
    "duration": 14,
    "start_time": "2022-09-02T07:17:20.493Z"
   },
   {
    "duration": 11,
    "start_time": "2022-09-02T07:18:35.380Z"
   },
   {
    "duration": 13,
    "start_time": "2022-09-02T07:18:44.523Z"
   },
   {
    "duration": 58,
    "start_time": "2022-09-02T07:20:45.803Z"
   },
   {
    "duration": 12,
    "start_time": "2022-09-02T07:20:59.586Z"
   },
   {
    "duration": 51,
    "start_time": "2022-09-02T07:22:58.945Z"
   },
   {
    "duration": 1314,
    "start_time": "2022-09-02T07:24:42.039Z"
   },
   {
    "duration": 5309,
    "start_time": "2022-09-02T07:25:30.240Z"
   },
   {
    "duration": 869,
    "start_time": "2022-09-02T07:26:26.851Z"
   },
   {
    "duration": 1787,
    "start_time": "2022-09-02T07:28:29.397Z"
   },
   {
    "duration": 1170,
    "start_time": "2022-09-02T07:28:35.139Z"
   },
   {
    "duration": 1182,
    "start_time": "2022-09-02T07:28:43.555Z"
   },
   {
    "duration": 20,
    "start_time": "2022-09-02T07:28:44.738Z"
   },
   {
    "duration": 36,
    "start_time": "2022-09-02T07:28:44.761Z"
   },
   {
    "duration": 3,
    "start_time": "2022-09-02T07:28:44.799Z"
   },
   {
    "duration": 30,
    "start_time": "2022-09-02T07:28:44.805Z"
   },
   {
    "duration": 31,
    "start_time": "2022-09-02T07:28:44.838Z"
   },
   {
    "duration": 27,
    "start_time": "2022-09-02T07:28:44.871Z"
   },
   {
    "duration": 32,
    "start_time": "2022-09-02T07:28:44.900Z"
   },
   {
    "duration": 29,
    "start_time": "2022-09-02T07:28:44.934Z"
   },
   {
    "duration": 24,
    "start_time": "2022-09-02T07:28:44.965Z"
   },
   {
    "duration": 19,
    "start_time": "2022-09-02T07:28:44.990Z"
   },
   {
    "duration": 236,
    "start_time": "2022-09-02T07:28:45.010Z"
   },
   {
    "duration": 14,
    "start_time": "2022-09-02T07:28:45.247Z"
   },
   {
    "duration": 24,
    "start_time": "2022-09-02T07:28:45.265Z"
   },
   {
    "duration": 348,
    "start_time": "2022-09-02T07:28:45.291Z"
   },
   {
    "duration": 12,
    "start_time": "2022-09-02T07:28:45.641Z"
   },
   {
    "duration": 229,
    "start_time": "2022-09-02T07:28:45.654Z"
   },
   {
    "duration": 18,
    "start_time": "2022-09-02T07:28:45.884Z"
   },
   {
    "duration": 8,
    "start_time": "2022-09-02T07:28:45.903Z"
   },
   {
    "duration": 11,
    "start_time": "2022-09-02T07:28:45.913Z"
   },
   {
    "duration": 314,
    "start_time": "2022-09-02T07:28:45.926Z"
   },
   {
    "duration": 14,
    "start_time": "2022-09-02T07:28:46.242Z"
   },
   {
    "duration": 6,
    "start_time": "2022-09-02T07:28:46.257Z"
   },
   {
    "duration": 263,
    "start_time": "2022-09-02T07:28:46.265Z"
   },
   {
    "duration": 188,
    "start_time": "2022-09-02T07:28:46.532Z"
   },
   {
    "duration": 188,
    "start_time": "2022-09-02T07:28:46.721Z"
   },
   {
    "duration": 245,
    "start_time": "2022-09-02T07:28:46.910Z"
   },
   {
    "duration": 217,
    "start_time": "2022-09-02T07:28:47.157Z"
   },
   {
    "duration": 33,
    "start_time": "2022-09-02T07:28:47.376Z"
   },
   {
    "duration": 16,
    "start_time": "2022-09-02T07:28:47.411Z"
   },
   {
    "duration": 16,
    "start_time": "2022-09-02T07:28:47.429Z"
   },
   {
    "duration": 12,
    "start_time": "2022-09-02T07:28:47.446Z"
   },
   {
    "duration": 13,
    "start_time": "2022-09-02T07:28:47.487Z"
   },
   {
    "duration": 12,
    "start_time": "2022-09-02T07:28:47.501Z"
   },
   {
    "duration": 11,
    "start_time": "2022-09-02T07:28:47.515Z"
   },
   {
    "duration": 7,
    "start_time": "2022-09-02T07:28:47.527Z"
   },
   {
    "duration": 58,
    "start_time": "2022-09-02T07:28:47.536Z"
   },
   {
    "duration": 13,
    "start_time": "2022-09-02T07:29:00.190Z"
   },
   {
    "duration": 15,
    "start_time": "2022-09-02T07:29:12.286Z"
   },
   {
    "duration": 12,
    "start_time": "2022-09-02T07:29:27.465Z"
   },
   {
    "duration": 17,
    "start_time": "2022-09-02T07:29:48.176Z"
   },
   {
    "duration": 17,
    "start_time": "2022-09-02T07:29:52.519Z"
   },
   {
    "duration": 13,
    "start_time": "2022-09-02T07:30:00.140Z"
   },
   {
    "duration": 17,
    "start_time": "2022-09-02T07:30:04.654Z"
   },
   {
    "duration": 17,
    "start_time": "2022-09-02T07:30:09.151Z"
   },
   {
    "duration": 14,
    "start_time": "2022-09-02T07:30:54.839Z"
   },
   {
    "duration": 45,
    "start_time": "2022-09-03T07:26:17.212Z"
   },
   {
    "duration": 1330,
    "start_time": "2022-09-03T07:26:19.642Z"
   },
   {
    "duration": 14,
    "start_time": "2022-09-03T07:26:20.974Z"
   },
   {
    "duration": 33,
    "start_time": "2022-09-03T07:26:20.990Z"
   },
   {
    "duration": 4,
    "start_time": "2022-09-03T07:26:21.024Z"
   },
   {
    "duration": 18,
    "start_time": "2022-09-03T07:26:21.030Z"
   },
   {
    "duration": 38,
    "start_time": "2022-09-03T07:26:21.049Z"
   },
   {
    "duration": 27,
    "start_time": "2022-09-03T07:26:21.089Z"
   },
   {
    "duration": 32,
    "start_time": "2022-09-03T07:26:21.117Z"
   },
   {
    "duration": 50,
    "start_time": "2022-09-03T07:26:21.151Z"
   },
   {
    "duration": 8,
    "start_time": "2022-09-03T07:26:21.203Z"
   },
   {
    "duration": 19,
    "start_time": "2022-09-03T07:26:21.212Z"
   },
   {
    "duration": 231,
    "start_time": "2022-09-03T07:26:21.233Z"
   },
   {
    "duration": 12,
    "start_time": "2022-09-03T07:26:21.466Z"
   },
   {
    "duration": 7,
    "start_time": "2022-09-03T07:26:21.487Z"
   },
   {
    "duration": 306,
    "start_time": "2022-09-03T07:26:21.496Z"
   },
   {
    "duration": 13,
    "start_time": "2022-09-03T07:26:21.803Z"
   },
   {
    "duration": 234,
    "start_time": "2022-09-03T07:26:21.817Z"
   },
   {
    "duration": 18,
    "start_time": "2022-09-03T07:26:22.053Z"
   },
   {
    "duration": 18,
    "start_time": "2022-09-03T07:26:22.073Z"
   },
   {
    "duration": 12,
    "start_time": "2022-09-03T07:26:22.092Z"
   },
   {
    "duration": 279,
    "start_time": "2022-09-03T07:26:22.106Z"
   },
   {
    "duration": 10,
    "start_time": "2022-09-03T07:26:22.387Z"
   },
   {
    "duration": 14,
    "start_time": "2022-09-03T07:26:22.399Z"
   },
   {
    "duration": 185,
    "start_time": "2022-09-03T07:26:22.414Z"
   },
   {
    "duration": 160,
    "start_time": "2022-09-03T07:26:22.601Z"
   },
   {
    "duration": 154,
    "start_time": "2022-09-03T07:26:22.762Z"
   },
   {
    "duration": 226,
    "start_time": "2022-09-03T07:26:22.918Z"
   },
   {
    "duration": 202,
    "start_time": "2022-09-03T07:26:23.146Z"
   },
   {
    "duration": 17,
    "start_time": "2022-09-03T07:26:23.350Z"
   },
   {
    "duration": 24,
    "start_time": "2022-09-03T07:26:23.369Z"
   },
   {
    "duration": 16,
    "start_time": "2022-09-03T07:26:23.394Z"
   },
   {
    "duration": 10,
    "start_time": "2022-09-03T07:26:23.411Z"
   },
   {
    "duration": 9,
    "start_time": "2022-09-03T07:26:23.423Z"
   },
   {
    "duration": 9,
    "start_time": "2022-09-03T07:26:23.434Z"
   },
   {
    "duration": 42,
    "start_time": "2022-09-03T07:26:23.445Z"
   },
   {
    "duration": 6,
    "start_time": "2022-09-03T07:26:23.488Z"
   },
   {
    "duration": 13,
    "start_time": "2022-09-03T07:26:23.495Z"
   },
   {
    "duration": 19,
    "start_time": "2022-09-03T07:26:23.509Z"
   },
   {
    "duration": 7,
    "start_time": "2022-09-03T07:26:23.529Z"
   },
   {
    "duration": 61,
    "start_time": "2022-09-03T07:29:11.532Z"
   },
   {
    "duration": 9,
    "start_time": "2022-09-03T07:29:14.795Z"
   },
   {
    "duration": 9,
    "start_time": "2022-09-03T07:29:15.899Z"
   },
   {
    "duration": 9,
    "start_time": "2022-09-03T07:29:20.667Z"
   },
   {
    "duration": 120,
    "start_time": "2022-09-03T07:30:18.333Z"
   },
   {
    "duration": 66,
    "start_time": "2022-09-03T07:30:31.971Z"
   },
   {
    "duration": 13,
    "start_time": "2022-09-03T07:30:57.563Z"
   },
   {
    "duration": 12,
    "start_time": "2022-09-03T07:31:00.292Z"
   },
   {
    "duration": 56,
    "start_time": "2022-09-03T07:31:57.598Z"
   },
   {
    "duration": 86,
    "start_time": "2022-09-03T07:32:00.913Z"
   },
   {
    "duration": 101,
    "start_time": "2022-09-03T07:32:19.563Z"
   },
   {
    "duration": 53,
    "start_time": "2022-09-03T07:32:53.440Z"
   },
   {
    "duration": 44,
    "start_time": "2022-09-03T07:33:38.808Z"
   },
   {
    "duration": 50,
    "start_time": "2022-09-03T07:33:45.749Z"
   },
   {
    "duration": 47,
    "start_time": "2022-09-03T07:33:56.804Z"
   },
   {
    "duration": 46,
    "start_time": "2022-09-03T07:34:02.286Z"
   },
   {
    "duration": 12,
    "start_time": "2022-09-03T07:34:07.298Z"
   },
   {
    "duration": 13,
    "start_time": "2022-09-03T07:34:20.648Z"
   },
   {
    "duration": 11,
    "start_time": "2022-09-03T07:34:27.945Z"
   },
   {
    "duration": 13,
    "start_time": "2022-09-03T07:35:43.591Z"
   },
   {
    "duration": 15,
    "start_time": "2022-09-03T07:36:00.188Z"
   },
   {
    "duration": 15,
    "start_time": "2022-09-03T07:45:18.680Z"
   },
   {
    "duration": 19,
    "start_time": "2022-09-03T07:45:25.998Z"
   },
   {
    "duration": 14,
    "start_time": "2022-09-03T07:55:05.577Z"
   },
   {
    "duration": 14,
    "start_time": "2022-09-03T07:55:11.089Z"
   },
   {
    "duration": 1207,
    "start_time": "2022-09-03T08:42:44.308Z"
   },
   {
    "duration": 14,
    "start_time": "2022-09-03T08:42:45.517Z"
   },
   {
    "duration": 45,
    "start_time": "2022-09-03T08:42:45.533Z"
   },
   {
    "duration": 3,
    "start_time": "2022-09-03T08:42:45.580Z"
   },
   {
    "duration": 25,
    "start_time": "2022-09-03T08:42:45.585Z"
   },
   {
    "duration": 42,
    "start_time": "2022-09-03T08:42:45.612Z"
   },
   {
    "duration": 29,
    "start_time": "2022-09-03T08:42:45.656Z"
   },
   {
    "duration": 33,
    "start_time": "2022-09-03T08:42:45.687Z"
   },
   {
    "duration": 30,
    "start_time": "2022-09-03T08:42:45.722Z"
   },
   {
    "duration": 8,
    "start_time": "2022-09-03T08:42:45.753Z"
   },
   {
    "duration": 41,
    "start_time": "2022-09-03T08:42:45.763Z"
   },
   {
    "duration": 237,
    "start_time": "2022-09-03T08:42:45.806Z"
   },
   {
    "duration": 16,
    "start_time": "2022-09-03T08:42:46.045Z"
   },
   {
    "duration": 15,
    "start_time": "2022-09-03T08:42:46.063Z"
   },
   {
    "duration": 394,
    "start_time": "2022-09-03T08:42:46.079Z"
   },
   {
    "duration": 18,
    "start_time": "2022-09-03T08:42:46.475Z"
   },
   {
    "duration": 234,
    "start_time": "2022-09-03T08:42:46.494Z"
   },
   {
    "duration": 19,
    "start_time": "2022-09-03T08:42:46.730Z"
   },
   {
    "duration": 7,
    "start_time": "2022-09-03T08:42:46.750Z"
   },
   {
    "duration": 30,
    "start_time": "2022-09-03T08:42:46.758Z"
   },
   {
    "duration": 266,
    "start_time": "2022-09-03T08:42:46.789Z"
   },
   {
    "duration": 11,
    "start_time": "2022-09-03T08:42:47.056Z"
   },
   {
    "duration": 18,
    "start_time": "2022-09-03T08:42:47.069Z"
   },
   {
    "duration": 178,
    "start_time": "2022-09-03T08:42:47.089Z"
   },
   {
    "duration": 156,
    "start_time": "2022-09-03T08:42:47.268Z"
   },
   {
    "duration": 172,
    "start_time": "2022-09-03T08:42:47.425Z"
   },
   {
    "duration": 230,
    "start_time": "2022-09-03T08:42:47.599Z"
   },
   {
    "duration": 218,
    "start_time": "2022-09-03T08:42:47.830Z"
   },
   {
    "duration": 19,
    "start_time": "2022-09-03T08:42:48.050Z"
   },
   {
    "duration": 30,
    "start_time": "2022-09-03T08:42:48.071Z"
   },
   {
    "duration": 16,
    "start_time": "2022-09-03T08:42:48.103Z"
   },
   {
    "duration": 10,
    "start_time": "2022-09-03T08:42:48.120Z"
   },
   {
    "duration": 10,
    "start_time": "2022-09-03T08:42:48.131Z"
   },
   {
    "duration": 9,
    "start_time": "2022-09-03T08:42:48.142Z"
   },
   {
    "duration": 38,
    "start_time": "2022-09-03T08:42:48.153Z"
   },
   {
    "duration": 5,
    "start_time": "2022-09-03T08:42:48.193Z"
   },
   {
    "duration": 14,
    "start_time": "2022-09-03T08:42:48.200Z"
   },
   {
    "duration": 13,
    "start_time": "2022-09-03T08:42:48.215Z"
   },
   {
    "duration": 1179,
    "start_time": "2022-09-03T08:46:23.507Z"
   },
   {
    "duration": 18,
    "start_time": "2022-09-03T08:46:34.321Z"
   },
   {
    "duration": 17,
    "start_time": "2022-09-03T08:47:48.163Z"
   },
   {
    "duration": 22,
    "start_time": "2022-09-03T08:48:03.566Z"
   },
   {
    "duration": 21,
    "start_time": "2022-09-03T08:50:37.987Z"
   },
   {
    "duration": 27,
    "start_time": "2022-09-03T08:50:52.815Z"
   },
   {
    "duration": 21,
    "start_time": "2022-09-03T08:51:27.441Z"
   },
   {
    "duration": 24,
    "start_time": "2022-09-03T08:52:08.263Z"
   },
   {
    "duration": 33,
    "start_time": "2022-09-03T08:52:43.211Z"
   },
   {
    "duration": 36,
    "start_time": "2022-09-03T08:52:56.112Z"
   },
   {
    "duration": 31,
    "start_time": "2022-09-03T08:53:09.294Z"
   },
   {
    "duration": 34,
    "start_time": "2022-09-03T08:53:20.363Z"
   },
   {
    "duration": 11,
    "start_time": "2022-09-03T08:58:12.507Z"
   },
   {
    "duration": 11,
    "start_time": "2022-09-03T08:58:23.147Z"
   },
   {
    "duration": 19,
    "start_time": "2022-09-03T08:58:43.783Z"
   },
   {
    "duration": 17,
    "start_time": "2022-09-03T08:58:51.081Z"
   },
   {
    "duration": 15,
    "start_time": "2022-09-03T08:59:10.545Z"
   },
   {
    "duration": 19,
    "start_time": "2022-09-03T08:59:14.593Z"
   },
   {
    "duration": 17,
    "start_time": "2022-09-03T08:59:17.460Z"
   },
   {
    "duration": 20,
    "start_time": "2022-09-03T08:59:30.927Z"
   },
   {
    "duration": 42,
    "start_time": "2022-09-03T09:01:44.693Z"
   },
   {
    "duration": 42,
    "start_time": "2022-09-03T09:02:04.538Z"
   },
   {
    "duration": 1364,
    "start_time": "2022-09-04T08:19:44.123Z"
   },
   {
    "duration": 13,
    "start_time": "2022-09-04T08:19:45.488Z"
   },
   {
    "duration": 34,
    "start_time": "2022-09-04T08:19:45.503Z"
   },
   {
    "duration": 3,
    "start_time": "2022-09-04T08:19:45.539Z"
   },
   {
    "duration": 14,
    "start_time": "2022-09-04T08:19:45.543Z"
   },
   {
    "duration": 30,
    "start_time": "2022-09-04T08:19:45.558Z"
   },
   {
    "duration": 33,
    "start_time": "2022-09-04T08:19:45.589Z"
   },
   {
    "duration": 32,
    "start_time": "2022-09-04T08:19:45.624Z"
   },
   {
    "duration": 48,
    "start_time": "2022-09-04T08:19:45.657Z"
   },
   {
    "duration": 6,
    "start_time": "2022-09-04T08:19:45.707Z"
   },
   {
    "duration": 17,
    "start_time": "2022-09-04T08:19:45.714Z"
   },
   {
    "duration": 242,
    "start_time": "2022-09-04T08:19:45.733Z"
   },
   {
    "duration": 12,
    "start_time": "2022-09-04T08:19:45.976Z"
   },
   {
    "duration": 10,
    "start_time": "2022-09-04T08:19:45.990Z"
   },
   {
    "duration": 299,
    "start_time": "2022-09-04T08:19:46.001Z"
   },
   {
    "duration": 11,
    "start_time": "2022-09-04T08:19:46.302Z"
   },
   {
    "duration": 208,
    "start_time": "2022-09-04T08:19:46.314Z"
   },
   {
    "duration": 17,
    "start_time": "2022-09-04T08:19:46.524Z"
   },
   {
    "duration": 39,
    "start_time": "2022-09-04T08:19:46.543Z"
   },
   {
    "duration": 6,
    "start_time": "2022-09-04T08:19:46.598Z"
   },
   {
    "duration": 10,
    "start_time": "2022-09-04T08:19:46.606Z"
   },
   {
    "duration": 259,
    "start_time": "2022-09-04T08:19:46.617Z"
   },
   {
    "duration": 10,
    "start_time": "2022-09-04T08:19:46.877Z"
   },
   {
    "duration": 11,
    "start_time": "2022-09-04T08:19:46.888Z"
   },
   {
    "duration": 176,
    "start_time": "2022-09-04T08:19:46.900Z"
   },
   {
    "duration": 143,
    "start_time": "2022-09-04T08:19:47.077Z"
   },
   {
    "duration": 149,
    "start_time": "2022-09-04T08:19:47.222Z"
   },
   {
    "duration": 203,
    "start_time": "2022-09-04T08:19:47.374Z"
   },
   {
    "duration": 185,
    "start_time": "2022-09-04T08:19:47.578Z"
   },
   {
    "duration": 16,
    "start_time": "2022-09-04T08:19:47.765Z"
   },
   {
    "duration": 25,
    "start_time": "2022-09-04T08:19:47.782Z"
   },
   {
    "duration": 15,
    "start_time": "2022-09-04T08:19:47.809Z"
   },
   {
    "duration": 10,
    "start_time": "2022-09-04T08:19:47.825Z"
   },
   {
    "duration": 12,
    "start_time": "2022-09-04T08:19:47.836Z"
   },
   {
    "duration": 10,
    "start_time": "2022-09-04T08:19:47.850Z"
   },
   {
    "duration": 40,
    "start_time": "2022-09-04T08:19:47.862Z"
   },
   {
    "duration": 6,
    "start_time": "2022-09-04T08:19:47.903Z"
   },
   {
    "duration": 14,
    "start_time": "2022-09-04T08:19:47.910Z"
   },
   {
    "duration": 13,
    "start_time": "2022-09-04T08:19:47.926Z"
   },
   {
    "duration": 79,
    "start_time": "2022-09-04T08:43:29.127Z"
   },
   {
    "duration": 56,
    "start_time": "2022-09-04T08:43:30.463Z"
   },
   {
    "duration": 3,
    "start_time": "2022-09-04T08:55:13.463Z"
   },
   {
    "duration": 2,
    "start_time": "2022-09-04T08:58:15.851Z"
   },
   {
    "duration": 3,
    "start_time": "2022-09-04T08:58:20.499Z"
   },
   {
    "duration": 1388,
    "start_time": "2022-09-04T09:57:06.732Z"
   },
   {
    "duration": 4,
    "start_time": "2022-09-04T09:58:03.922Z"
   },
   {
    "duration": 75,
    "start_time": "2022-09-04T09:58:17.060Z"
   },
   {
    "duration": 47,
    "start_time": "2022-09-04T09:58:27.317Z"
   },
   {
    "duration": 95,
    "start_time": "2022-09-04T09:59:12.333Z"
   },
   {
    "duration": 11,
    "start_time": "2022-09-04T09:59:21.044Z"
   },
   {
    "duration": 53,
    "start_time": "2022-09-04T09:59:30.370Z"
   },
   {
    "duration": 14,
    "start_time": "2022-09-04T09:59:30.425Z"
   },
   {
    "duration": 64,
    "start_time": "2022-09-04T09:59:30.441Z"
   },
   {
    "duration": 8,
    "start_time": "2022-09-04T09:59:30.507Z"
   },
   {
    "duration": 0,
    "start_time": "2022-09-04T09:59:30.517Z"
   },
   {
    "duration": 0,
    "start_time": "2022-09-04T09:59:30.519Z"
   },
   {
    "duration": 0,
    "start_time": "2022-09-04T09:59:30.520Z"
   },
   {
    "duration": 0,
    "start_time": "2022-09-04T09:59:30.521Z"
   },
   {
    "duration": 0,
    "start_time": "2022-09-04T09:59:30.523Z"
   },
   {
    "duration": 0,
    "start_time": "2022-09-04T09:59:30.524Z"
   },
   {
    "duration": 0,
    "start_time": "2022-09-04T09:59:30.525Z"
   },
   {
    "duration": 0,
    "start_time": "2022-09-04T09:59:30.526Z"
   },
   {
    "duration": 0,
    "start_time": "2022-09-04T09:59:30.527Z"
   },
   {
    "duration": 0,
    "start_time": "2022-09-04T09:59:30.528Z"
   },
   {
    "duration": 0,
    "start_time": "2022-09-04T09:59:30.529Z"
   },
   {
    "duration": 0,
    "start_time": "2022-09-04T09:59:30.530Z"
   },
   {
    "duration": 0,
    "start_time": "2022-09-04T09:59:30.532Z"
   },
   {
    "duration": 0,
    "start_time": "2022-09-04T09:59:30.533Z"
   },
   {
    "duration": 14,
    "start_time": "2022-09-04T09:59:30.630Z"
   },
   {
    "duration": 0,
    "start_time": "2022-09-04T09:59:30.646Z"
   },
   {
    "duration": 0,
    "start_time": "2022-09-04T09:59:30.647Z"
   },
   {
    "duration": 0,
    "start_time": "2022-09-04T09:59:30.648Z"
   },
   {
    "duration": 0,
    "start_time": "2022-09-04T09:59:30.649Z"
   },
   {
    "duration": 0,
    "start_time": "2022-09-04T09:59:30.650Z"
   },
   {
    "duration": 0,
    "start_time": "2022-09-04T09:59:30.651Z"
   },
   {
    "duration": 0,
    "start_time": "2022-09-04T09:59:30.652Z"
   },
   {
    "duration": 902,
    "start_time": "2022-09-04T09:59:30.743Z"
   },
   {
    "duration": 0,
    "start_time": "2022-09-04T09:59:31.647Z"
   },
   {
    "duration": 0,
    "start_time": "2022-09-04T09:59:31.648Z"
   },
   {
    "duration": 0,
    "start_time": "2022-09-04T09:59:31.650Z"
   },
   {
    "duration": 0,
    "start_time": "2022-09-04T09:59:31.651Z"
   },
   {
    "duration": 0,
    "start_time": "2022-09-04T09:59:31.652Z"
   },
   {
    "duration": 0,
    "start_time": "2022-09-04T09:59:31.653Z"
   },
   {
    "duration": 0,
    "start_time": "2022-09-04T09:59:31.654Z"
   },
   {
    "duration": 0,
    "start_time": "2022-09-04T09:59:31.655Z"
   },
   {
    "duration": 0,
    "start_time": "2022-09-04T09:59:31.657Z"
   },
   {
    "duration": 0,
    "start_time": "2022-09-04T09:59:31.658Z"
   },
   {
    "duration": 0,
    "start_time": "2022-09-04T09:59:31.659Z"
   },
   {
    "duration": 0,
    "start_time": "2022-09-04T09:59:31.660Z"
   },
   {
    "duration": 0,
    "start_time": "2022-09-04T09:59:31.661Z"
   },
   {
    "duration": 17,
    "start_time": "2022-09-04T09:59:37.687Z"
   },
   {
    "duration": 11,
    "start_time": "2022-09-04T10:00:21.051Z"
   },
   {
    "duration": 51,
    "start_time": "2022-09-04T10:00:32.926Z"
   },
   {
    "duration": 14,
    "start_time": "2022-09-04T10:00:32.979Z"
   },
   {
    "duration": 38,
    "start_time": "2022-09-04T10:00:32.995Z"
   },
   {
    "duration": 7,
    "start_time": "2022-09-04T10:00:33.035Z"
   },
   {
    "duration": 0,
    "start_time": "2022-09-04T10:00:33.044Z"
   },
   {
    "duration": 0,
    "start_time": "2022-09-04T10:00:33.045Z"
   },
   {
    "duration": 0,
    "start_time": "2022-09-04T10:00:33.046Z"
   },
   {
    "duration": 0,
    "start_time": "2022-09-04T10:00:33.047Z"
   },
   {
    "duration": 0,
    "start_time": "2022-09-04T10:00:33.049Z"
   },
   {
    "duration": 0,
    "start_time": "2022-09-04T10:00:33.050Z"
   },
   {
    "duration": 0,
    "start_time": "2022-09-04T10:00:33.051Z"
   },
   {
    "duration": 671,
    "start_time": "2022-09-04T10:00:33.054Z"
   },
   {
    "duration": 0,
    "start_time": "2022-09-04T10:00:33.727Z"
   },
   {
    "duration": 0,
    "start_time": "2022-09-04T10:00:33.729Z"
   },
   {
    "duration": 0,
    "start_time": "2022-09-04T10:00:33.731Z"
   },
   {
    "duration": 0,
    "start_time": "2022-09-04T10:00:33.732Z"
   },
   {
    "duration": 0,
    "start_time": "2022-09-04T10:00:33.734Z"
   },
   {
    "duration": 0,
    "start_time": "2022-09-04T10:00:33.735Z"
   },
   {
    "duration": 0,
    "start_time": "2022-09-04T10:00:33.737Z"
   },
   {
    "duration": 0,
    "start_time": "2022-09-04T10:00:33.738Z"
   },
   {
    "duration": 0,
    "start_time": "2022-09-04T10:00:33.739Z"
   },
   {
    "duration": 0,
    "start_time": "2022-09-04T10:00:33.741Z"
   },
   {
    "duration": 0,
    "start_time": "2022-09-04T10:00:33.742Z"
   },
   {
    "duration": 0,
    "start_time": "2022-09-04T10:00:33.743Z"
   },
   {
    "duration": 0,
    "start_time": "2022-09-04T10:00:33.744Z"
   },
   {
    "duration": 0,
    "start_time": "2022-09-04T10:00:33.745Z"
   },
   {
    "duration": 0,
    "start_time": "2022-09-04T10:00:33.746Z"
   },
   {
    "duration": 0,
    "start_time": "2022-09-04T10:00:33.748Z"
   },
   {
    "duration": 0,
    "start_time": "2022-09-04T10:00:33.748Z"
   },
   {
    "duration": 0,
    "start_time": "2022-09-04T10:00:33.749Z"
   },
   {
    "duration": 0,
    "start_time": "2022-09-04T10:00:33.750Z"
   },
   {
    "duration": 0,
    "start_time": "2022-09-04T10:00:33.751Z"
   },
   {
    "duration": 0,
    "start_time": "2022-09-04T10:00:33.752Z"
   },
   {
    "duration": 0,
    "start_time": "2022-09-04T10:00:33.753Z"
   },
   {
    "duration": 0,
    "start_time": "2022-09-04T10:00:33.754Z"
   },
   {
    "duration": 0,
    "start_time": "2022-09-04T10:00:33.755Z"
   },
   {
    "duration": 0,
    "start_time": "2022-09-04T10:00:33.757Z"
   },
   {
    "duration": 0,
    "start_time": "2022-09-04T10:00:33.758Z"
   },
   {
    "duration": 0,
    "start_time": "2022-09-04T10:00:33.759Z"
   },
   {
    "duration": 0,
    "start_time": "2022-09-04T10:00:33.760Z"
   },
   {
    "duration": 21,
    "start_time": "2022-09-04T10:00:42.887Z"
   },
   {
    "duration": 11,
    "start_time": "2022-09-04T10:00:48.458Z"
   },
   {
    "duration": 1272,
    "start_time": "2022-09-04T10:01:56.882Z"
   },
   {
    "duration": 17,
    "start_time": "2022-09-04T10:01:58.156Z"
   },
   {
    "duration": 37,
    "start_time": "2022-09-04T10:01:58.175Z"
   },
   {
    "duration": 97,
    "start_time": "2022-09-04T10:01:58.213Z"
   },
   {
    "duration": 0,
    "start_time": "2022-09-04T10:01:58.314Z"
   },
   {
    "duration": 0,
    "start_time": "2022-09-04T10:01:58.316Z"
   },
   {
    "duration": 0,
    "start_time": "2022-09-04T10:01:58.317Z"
   },
   {
    "duration": 0,
    "start_time": "2022-09-04T10:01:58.318Z"
   },
   {
    "duration": 0,
    "start_time": "2022-09-04T10:01:58.319Z"
   },
   {
    "duration": 0,
    "start_time": "2022-09-04T10:01:58.320Z"
   },
   {
    "duration": 0,
    "start_time": "2022-09-04T10:01:58.322Z"
   },
   {
    "duration": 0,
    "start_time": "2022-09-04T10:01:58.323Z"
   },
   {
    "duration": 0,
    "start_time": "2022-09-04T10:01:58.324Z"
   },
   {
    "duration": 0,
    "start_time": "2022-09-04T10:01:58.328Z"
   },
   {
    "duration": 0,
    "start_time": "2022-09-04T10:01:58.330Z"
   },
   {
    "duration": 0,
    "start_time": "2022-09-04T10:01:58.331Z"
   },
   {
    "duration": 0,
    "start_time": "2022-09-04T10:01:58.332Z"
   },
   {
    "duration": 0,
    "start_time": "2022-09-04T10:01:58.334Z"
   },
   {
    "duration": 0,
    "start_time": "2022-09-04T10:01:58.335Z"
   },
   {
    "duration": 0,
    "start_time": "2022-09-04T10:01:58.336Z"
   },
   {
    "duration": 0,
    "start_time": "2022-09-04T10:01:58.338Z"
   },
   {
    "duration": 0,
    "start_time": "2022-09-04T10:01:58.339Z"
   },
   {
    "duration": 0,
    "start_time": "2022-09-04T10:01:58.340Z"
   },
   {
    "duration": 0,
    "start_time": "2022-09-04T10:01:58.342Z"
   },
   {
    "duration": 0,
    "start_time": "2022-09-04T10:01:58.343Z"
   },
   {
    "duration": 0,
    "start_time": "2022-09-04T10:01:58.344Z"
   },
   {
    "duration": 0,
    "start_time": "2022-09-04T10:01:58.345Z"
   },
   {
    "duration": 0,
    "start_time": "2022-09-04T10:01:58.346Z"
   },
   {
    "duration": 0,
    "start_time": "2022-09-04T10:01:58.347Z"
   },
   {
    "duration": 0,
    "start_time": "2022-09-04T10:01:58.349Z"
   },
   {
    "duration": 0,
    "start_time": "2022-09-04T10:01:58.350Z"
   },
   {
    "duration": 0,
    "start_time": "2022-09-04T10:01:58.352Z"
   },
   {
    "duration": 0,
    "start_time": "2022-09-04T10:01:58.410Z"
   },
   {
    "duration": 0,
    "start_time": "2022-09-04T10:01:58.411Z"
   },
   {
    "duration": 0,
    "start_time": "2022-09-04T10:01:58.413Z"
   },
   {
    "duration": 0,
    "start_time": "2022-09-04T10:01:58.414Z"
   },
   {
    "duration": 0,
    "start_time": "2022-09-04T10:01:58.414Z"
   },
   {
    "duration": 0,
    "start_time": "2022-09-04T10:01:58.415Z"
   },
   {
    "duration": 0,
    "start_time": "2022-09-04T10:01:58.416Z"
   },
   {
    "duration": 0,
    "start_time": "2022-09-04T10:01:58.417Z"
   },
   {
    "duration": 0,
    "start_time": "2022-09-04T10:01:58.418Z"
   },
   {
    "duration": 1110,
    "start_time": "2022-09-04T10:02:32.773Z"
   },
   {
    "duration": 13,
    "start_time": "2022-09-04T10:02:33.885Z"
   },
   {
    "duration": 30,
    "start_time": "2022-09-04T10:02:33.899Z"
   },
   {
    "duration": 3,
    "start_time": "2022-09-04T10:02:33.930Z"
   },
   {
    "duration": 15,
    "start_time": "2022-09-04T10:02:33.934Z"
   },
   {
    "duration": 29,
    "start_time": "2022-09-04T10:02:33.950Z"
   },
   {
    "duration": 42,
    "start_time": "2022-09-04T10:02:33.981Z"
   },
   {
    "duration": 33,
    "start_time": "2022-09-04T10:02:34.024Z"
   },
   {
    "duration": 28,
    "start_time": "2022-09-04T10:02:34.058Z"
   },
   {
    "duration": 28,
    "start_time": "2022-09-04T10:02:34.087Z"
   },
   {
    "duration": 18,
    "start_time": "2022-09-04T10:02:34.116Z"
   },
   {
    "duration": 114,
    "start_time": "2022-09-04T10:02:34.135Z"
   },
   {
    "duration": 0,
    "start_time": "2022-09-04T10:02:34.251Z"
   },
   {
    "duration": 0,
    "start_time": "2022-09-04T10:02:34.252Z"
   },
   {
    "duration": 0,
    "start_time": "2022-09-04T10:02:34.253Z"
   },
   {
    "duration": 0,
    "start_time": "2022-09-04T10:02:34.254Z"
   },
   {
    "duration": 0,
    "start_time": "2022-09-04T10:02:34.255Z"
   },
   {
    "duration": 0,
    "start_time": "2022-09-04T10:02:34.256Z"
   },
   {
    "duration": 0,
    "start_time": "2022-09-04T10:02:34.257Z"
   },
   {
    "duration": 0,
    "start_time": "2022-09-04T10:02:34.258Z"
   },
   {
    "duration": 0,
    "start_time": "2022-09-04T10:02:34.259Z"
   },
   {
    "duration": 0,
    "start_time": "2022-09-04T10:02:34.260Z"
   },
   {
    "duration": 0,
    "start_time": "2022-09-04T10:02:34.261Z"
   },
   {
    "duration": 0,
    "start_time": "2022-09-04T10:02:34.262Z"
   },
   {
    "duration": 0,
    "start_time": "2022-09-04T10:02:34.263Z"
   },
   {
    "duration": 0,
    "start_time": "2022-09-04T10:02:34.264Z"
   },
   {
    "duration": 0,
    "start_time": "2022-09-04T10:02:34.264Z"
   },
   {
    "duration": 0,
    "start_time": "2022-09-04T10:02:34.265Z"
   },
   {
    "duration": 0,
    "start_time": "2022-09-04T10:02:34.266Z"
   },
   {
    "duration": 0,
    "start_time": "2022-09-04T10:02:34.267Z"
   },
   {
    "duration": 0,
    "start_time": "2022-09-04T10:02:34.268Z"
   },
   {
    "duration": 0,
    "start_time": "2022-09-04T10:02:34.268Z"
   },
   {
    "duration": 0,
    "start_time": "2022-09-04T10:02:34.269Z"
   },
   {
    "duration": 0,
    "start_time": "2022-09-04T10:02:34.270Z"
   },
   {
    "duration": 0,
    "start_time": "2022-09-04T10:02:34.271Z"
   },
   {
    "duration": 0,
    "start_time": "2022-09-04T10:02:34.272Z"
   },
   {
    "duration": 0,
    "start_time": "2022-09-04T10:02:34.273Z"
   },
   {
    "duration": 0,
    "start_time": "2022-09-04T10:02:34.309Z"
   },
   {
    "duration": 0,
    "start_time": "2022-09-04T10:02:34.311Z"
   },
   {
    "duration": 0,
    "start_time": "2022-09-04T10:02:34.312Z"
   },
   {
    "duration": 6,
    "start_time": "2022-09-04T10:03:07.717Z"
   },
   {
    "duration": 21,
    "start_time": "2022-09-04T10:03:10.532Z"
   },
   {
    "duration": 12,
    "start_time": "2022-09-04T10:04:33.513Z"
   },
   {
    "duration": 11,
    "start_time": "2022-09-04T10:05:23.937Z"
   },
   {
    "duration": 30,
    "start_time": "2022-09-04T10:05:53.800Z"
   },
   {
    "duration": 36,
    "start_time": "2022-09-04T10:05:56.025Z"
   },
   {
    "duration": 50,
    "start_time": "2022-09-04T10:06:15.057Z"
   },
   {
    "duration": 1108,
    "start_time": "2022-09-04T10:08:02.045Z"
   },
   {
    "duration": 974,
    "start_time": "2022-09-04T10:08:34.639Z"
   },
   {
    "duration": 14,
    "start_time": "2022-09-04T10:09:52.188Z"
   },
   {
    "duration": 1822,
    "start_time": "2022-09-04T10:13:30.433Z"
   },
   {
    "duration": 19,
    "start_time": "2022-09-04T10:13:32.257Z"
   },
   {
    "duration": 32,
    "start_time": "2022-09-04T10:13:32.278Z"
   },
   {
    "duration": 3,
    "start_time": "2022-09-04T10:13:32.311Z"
   },
   {
    "duration": 16,
    "start_time": "2022-09-04T10:13:32.316Z"
   },
   {
    "duration": 33,
    "start_time": "2022-09-04T10:13:32.334Z"
   },
   {
    "duration": 17,
    "start_time": "2022-09-04T10:13:32.369Z"
   },
   {
    "duration": 43,
    "start_time": "2022-09-04T10:13:32.387Z"
   },
   {
    "duration": 16,
    "start_time": "2022-09-04T10:13:32.431Z"
   },
   {
    "duration": 9,
    "start_time": "2022-09-04T10:13:32.449Z"
   },
   {
    "duration": 17,
    "start_time": "2022-09-04T10:13:32.459Z"
   },
   {
    "duration": 33,
    "start_time": "2022-09-04T10:13:32.478Z"
   },
   {
    "duration": 20,
    "start_time": "2022-09-04T10:13:32.512Z"
   },
   {
    "duration": 7,
    "start_time": "2022-09-04T10:13:32.534Z"
   },
   {
    "duration": 311,
    "start_time": "2022-09-04T10:13:32.542Z"
   },
   {
    "duration": 11,
    "start_time": "2022-09-04T10:13:32.855Z"
   },
   {
    "duration": 246,
    "start_time": "2022-09-04T10:13:32.867Z"
   },
   {
    "duration": 16,
    "start_time": "2022-09-04T10:13:33.116Z"
   },
   {
    "duration": 41,
    "start_time": "2022-09-04T10:13:33.134Z"
   },
   {
    "duration": 8,
    "start_time": "2022-09-04T10:13:33.177Z"
   },
   {
    "duration": 9,
    "start_time": "2022-09-04T10:13:33.210Z"
   },
   {
    "duration": 262,
    "start_time": "2022-09-04T10:13:33.221Z"
   },
   {
    "duration": 11,
    "start_time": "2022-09-04T10:13:33.485Z"
   },
   {
    "duration": 44,
    "start_time": "2022-09-04T10:13:33.497Z"
   },
   {
    "duration": 0,
    "start_time": "2022-09-04T10:13:33.543Z"
   },
   {
    "duration": 0,
    "start_time": "2022-09-04T10:13:33.544Z"
   },
   {
    "duration": 0,
    "start_time": "2022-09-04T10:13:33.545Z"
   },
   {
    "duration": 0,
    "start_time": "2022-09-04T10:13:33.546Z"
   },
   {
    "duration": 0,
    "start_time": "2022-09-04T10:13:33.547Z"
   },
   {
    "duration": 0,
    "start_time": "2022-09-04T10:13:33.548Z"
   },
   {
    "duration": 0,
    "start_time": "2022-09-04T10:13:33.549Z"
   },
   {
    "duration": 0,
    "start_time": "2022-09-04T10:13:33.551Z"
   },
   {
    "duration": 1,
    "start_time": "2022-09-04T10:13:33.551Z"
   },
   {
    "duration": 0,
    "start_time": "2022-09-04T10:13:33.553Z"
   },
   {
    "duration": 0,
    "start_time": "2022-09-04T10:13:33.554Z"
   },
   {
    "duration": 0,
    "start_time": "2022-09-04T10:13:33.555Z"
   },
   {
    "duration": 0,
    "start_time": "2022-09-04T10:13:33.556Z"
   },
   {
    "duration": 0,
    "start_time": "2022-09-04T10:13:33.557Z"
   },
   {
    "duration": 0,
    "start_time": "2022-09-04T10:13:33.558Z"
   },
   {
    "duration": 18,
    "start_time": "2022-09-04T10:15:42.172Z"
   },
   {
    "duration": 9,
    "start_time": "2022-09-04T10:16:12.957Z"
   },
   {
    "duration": 46,
    "start_time": "2022-09-04T10:16:38.757Z"
   },
   {
    "duration": 4,
    "start_time": "2022-09-04T10:16:49.500Z"
   },
   {
    "duration": 45,
    "start_time": "2022-09-04T10:19:49.287Z"
   },
   {
    "duration": 15,
    "start_time": "2022-09-04T10:20:04.139Z"
   },
   {
    "duration": 16,
    "start_time": "2022-09-04T10:20:11.727Z"
   },
   {
    "duration": 14,
    "start_time": "2022-09-04T10:20:20.160Z"
   },
   {
    "duration": 15,
    "start_time": "2022-09-04T10:20:24.588Z"
   },
   {
    "duration": 17,
    "start_time": "2022-09-04T10:20:37.384Z"
   },
   {
    "duration": 9,
    "start_time": "2022-09-04T10:21:45.747Z"
   },
   {
    "duration": 305,
    "start_time": "2022-09-04T10:22:34.976Z"
   },
   {
    "duration": 95,
    "start_time": "2022-09-04T10:23:51.249Z"
   },
   {
    "duration": 16,
    "start_time": "2022-09-04T10:23:54.171Z"
   },
   {
    "duration": 7,
    "start_time": "2022-09-04T10:23:55.136Z"
   },
   {
    "duration": 57,
    "start_time": "2022-09-04T10:26:05.427Z"
   },
   {
    "duration": 53,
    "start_time": "2022-09-04T10:30:25.131Z"
   },
   {
    "duration": 4,
    "start_time": "2022-09-04T10:30:36.675Z"
   },
   {
    "duration": 1146,
    "start_time": "2022-09-04T10:30:39.323Z"
   },
   {
    "duration": 0,
    "start_time": "2022-09-04T10:30:40.470Z"
   },
   {
    "duration": 1237,
    "start_time": "2022-09-04T10:30:54.955Z"
   },
   {
    "duration": 18,
    "start_time": "2022-09-04T10:30:56.194Z"
   },
   {
    "duration": 25,
    "start_time": "2022-09-04T10:30:56.214Z"
   },
   {
    "duration": 3,
    "start_time": "2022-09-04T10:30:56.240Z"
   },
   {
    "duration": 15,
    "start_time": "2022-09-04T10:30:56.245Z"
   },
   {
    "duration": 51,
    "start_time": "2022-09-04T10:30:56.261Z"
   },
   {
    "duration": 17,
    "start_time": "2022-09-04T10:30:56.314Z"
   },
   {
    "duration": 18,
    "start_time": "2022-09-04T10:30:56.333Z"
   },
   {
    "duration": 7,
    "start_time": "2022-09-04T10:30:56.353Z"
   },
   {
    "duration": 17,
    "start_time": "2022-09-04T10:30:56.362Z"
   },
   {
    "duration": 31,
    "start_time": "2022-09-04T10:30:56.381Z"
   },
   {
    "duration": 15,
    "start_time": "2022-09-04T10:30:56.413Z"
   },
   {
    "duration": 9,
    "start_time": "2022-09-04T10:30:56.429Z"
   },
   {
    "duration": 315,
    "start_time": "2022-09-04T10:30:56.441Z"
   },
   {
    "duration": 12,
    "start_time": "2022-09-04T10:30:56.758Z"
   },
   {
    "duration": 213,
    "start_time": "2022-09-04T10:30:56.772Z"
   },
   {
    "duration": 29,
    "start_time": "2022-09-04T10:30:56.987Z"
   },
   {
    "duration": 38,
    "start_time": "2022-09-04T10:30:57.018Z"
   },
   {
    "duration": 7,
    "start_time": "2022-09-04T10:30:57.058Z"
   },
   {
    "duration": 13,
    "start_time": "2022-09-04T10:30:57.067Z"
   },
   {
    "duration": 329,
    "start_time": "2022-09-04T10:30:57.081Z"
   },
   {
    "duration": 11,
    "start_time": "2022-09-04T10:30:57.411Z"
   },
   {
    "duration": 3,
    "start_time": "2022-09-04T10:30:57.424Z"
   },
   {
    "duration": 187,
    "start_time": "2022-09-04T10:30:57.429Z"
   },
   {
    "duration": 230,
    "start_time": "2022-09-04T10:30:57.617Z"
   },
   {
    "duration": 162,
    "start_time": "2022-09-04T10:30:57.850Z"
   },
   {
    "duration": 165,
    "start_time": "2022-09-04T10:30:58.014Z"
   },
   {
    "duration": 201,
    "start_time": "2022-09-04T10:30:58.181Z"
   },
   {
    "duration": 15,
    "start_time": "2022-09-04T10:30:58.384Z"
   },
   {
    "duration": 14,
    "start_time": "2022-09-04T10:30:58.409Z"
   },
   {
    "duration": 14,
    "start_time": "2022-09-04T10:30:58.424Z"
   },
   {
    "duration": 9,
    "start_time": "2022-09-04T10:30:58.439Z"
   },
   {
    "duration": 9,
    "start_time": "2022-09-04T10:30:58.450Z"
   },
   {
    "duration": 8,
    "start_time": "2022-09-04T10:30:58.461Z"
   },
   {
    "duration": 49,
    "start_time": "2022-09-04T10:30:58.471Z"
   },
   {
    "duration": 7,
    "start_time": "2022-09-04T10:30:58.522Z"
   },
   {
    "duration": 13,
    "start_time": "2022-09-04T10:30:58.530Z"
   },
   {
    "duration": 11,
    "start_time": "2022-09-04T10:30:58.545Z"
   },
   {
    "duration": 5,
    "start_time": "2022-09-04T10:37:57.396Z"
   },
   {
    "duration": 4,
    "start_time": "2022-09-04T10:37:59.331Z"
   },
   {
    "duration": 21,
    "start_time": "2022-09-04T10:38:02.744Z"
   },
   {
    "duration": 504,
    "start_time": "2022-09-04T10:41:21.251Z"
   },
   {
    "duration": 33,
    "start_time": "2022-09-04T10:41:37.687Z"
   },
   {
    "duration": 24,
    "start_time": "2022-09-04T10:41:50.487Z"
   },
   {
    "duration": 21,
    "start_time": "2022-09-04T10:42:43.776Z"
   },
   {
    "duration": 23,
    "start_time": "2022-09-04T10:43:01.275Z"
   },
   {
    "duration": 4,
    "start_time": "2022-09-04T10:43:44.147Z"
   },
   {
    "duration": 84,
    "start_time": "2022-09-04T10:49:04.891Z"
   },
   {
    "duration": 47,
    "start_time": "2022-09-04T10:49:45.251Z"
   },
   {
    "duration": 73,
    "start_time": "2022-09-04T10:50:01.680Z"
   },
   {
    "duration": 98,
    "start_time": "2022-09-04T10:50:09.737Z"
   },
   {
    "duration": 48,
    "start_time": "2022-09-04T10:50:24.744Z"
   },
   {
    "duration": 1203,
    "start_time": "2022-09-04T10:50:39.156Z"
   },
   {
    "duration": 18,
    "start_time": "2022-09-04T10:50:40.361Z"
   },
   {
    "duration": 29,
    "start_time": "2022-09-04T10:50:40.381Z"
   },
   {
    "duration": 3,
    "start_time": "2022-09-04T10:50:40.412Z"
   },
   {
    "duration": 17,
    "start_time": "2022-09-04T10:50:40.417Z"
   },
   {
    "duration": 36,
    "start_time": "2022-09-04T10:50:40.436Z"
   },
   {
    "duration": 36,
    "start_time": "2022-09-04T10:50:40.474Z"
   },
   {
    "duration": 20,
    "start_time": "2022-09-04T10:50:40.512Z"
   },
   {
    "duration": 7,
    "start_time": "2022-09-04T10:50:40.534Z"
   },
   {
    "duration": 16,
    "start_time": "2022-09-04T10:50:40.543Z"
   },
   {
    "duration": 5,
    "start_time": "2022-09-04T10:50:40.561Z"
   },
   {
    "duration": 43,
    "start_time": "2022-09-04T10:50:40.567Z"
   },
   {
    "duration": 9,
    "start_time": "2022-09-04T10:50:40.612Z"
   },
   {
    "duration": 321,
    "start_time": "2022-09-04T10:50:40.624Z"
   },
   {
    "duration": 11,
    "start_time": "2022-09-04T10:50:40.947Z"
   },
   {
    "duration": 221,
    "start_time": "2022-09-04T10:50:40.960Z"
   },
   {
    "duration": 27,
    "start_time": "2022-09-04T10:50:41.183Z"
   },
   {
    "duration": 38,
    "start_time": "2022-09-04T10:50:41.211Z"
   },
   {
    "duration": 6,
    "start_time": "2022-09-04T10:50:41.251Z"
   },
   {
    "duration": 11,
    "start_time": "2022-09-04T10:50:41.259Z"
   },
   {
    "duration": 274,
    "start_time": "2022-09-04T10:50:41.272Z"
   },
   {
    "duration": 11,
    "start_time": "2022-09-04T10:50:41.548Z"
   },
   {
    "duration": 46,
    "start_time": "2022-09-04T10:50:41.561Z"
   },
   {
    "duration": 0,
    "start_time": "2022-09-04T10:50:41.609Z"
   },
   {
    "duration": 0,
    "start_time": "2022-09-04T10:50:41.610Z"
   },
   {
    "duration": 0,
    "start_time": "2022-09-04T10:50:41.611Z"
   },
   {
    "duration": 0,
    "start_time": "2022-09-04T10:50:41.613Z"
   },
   {
    "duration": 0,
    "start_time": "2022-09-04T10:50:41.614Z"
   },
   {
    "duration": 0,
    "start_time": "2022-09-04T10:50:41.616Z"
   },
   {
    "duration": 0,
    "start_time": "2022-09-04T10:50:41.617Z"
   },
   {
    "duration": 0,
    "start_time": "2022-09-04T10:50:41.618Z"
   },
   {
    "duration": 0,
    "start_time": "2022-09-04T10:50:41.620Z"
   },
   {
    "duration": 0,
    "start_time": "2022-09-04T10:50:41.622Z"
   },
   {
    "duration": 0,
    "start_time": "2022-09-04T10:50:41.623Z"
   },
   {
    "duration": 0,
    "start_time": "2022-09-04T10:50:41.625Z"
   },
   {
    "duration": 0,
    "start_time": "2022-09-04T10:50:41.626Z"
   },
   {
    "duration": 0,
    "start_time": "2022-09-04T10:50:41.628Z"
   },
   {
    "duration": 0,
    "start_time": "2022-09-04T10:50:41.629Z"
   },
   {
    "duration": 48,
    "start_time": "2022-09-04T10:51:14.581Z"
   },
   {
    "duration": 47,
    "start_time": "2022-09-04T10:51:45.533Z"
   },
   {
    "duration": 82,
    "start_time": "2022-09-04T10:51:47.838Z"
   },
   {
    "duration": 48,
    "start_time": "2022-09-04T10:51:57.636Z"
   },
   {
    "duration": 49,
    "start_time": "2022-09-04T10:52:08.585Z"
   },
   {
    "duration": 42,
    "start_time": "2022-09-04T10:52:20.832Z"
   },
   {
    "duration": 56,
    "start_time": "2022-09-04T10:52:32.442Z"
   },
   {
    "duration": 1234,
    "start_time": "2022-09-04T10:52:52.472Z"
   },
   {
    "duration": 19,
    "start_time": "2022-09-04T10:52:53.709Z"
   },
   {
    "duration": 28,
    "start_time": "2022-09-04T10:52:53.730Z"
   },
   {
    "duration": 3,
    "start_time": "2022-09-04T10:52:53.760Z"
   },
   {
    "duration": 14,
    "start_time": "2022-09-04T10:52:53.765Z"
   },
   {
    "duration": 50,
    "start_time": "2022-09-04T10:52:53.780Z"
   },
   {
    "duration": 18,
    "start_time": "2022-09-04T10:52:53.831Z"
   },
   {
    "duration": 20,
    "start_time": "2022-09-04T10:52:53.850Z"
   },
   {
    "duration": 8,
    "start_time": "2022-09-04T10:52:53.871Z"
   },
   {
    "duration": 41,
    "start_time": "2022-09-04T10:52:53.882Z"
   },
   {
    "duration": 4,
    "start_time": "2022-09-04T10:52:53.925Z"
   },
   {
    "duration": 13,
    "start_time": "2022-09-04T10:52:53.930Z"
   },
   {
    "duration": 7,
    "start_time": "2022-09-04T10:52:53.944Z"
   },
   {
    "duration": 333,
    "start_time": "2022-09-04T10:52:53.953Z"
   },
   {
    "duration": 22,
    "start_time": "2022-09-04T10:52:54.287Z"
   },
   {
    "duration": 201,
    "start_time": "2022-09-04T10:52:54.310Z"
   },
   {
    "duration": 14,
    "start_time": "2022-09-04T10:52:54.513Z"
   },
   {
    "duration": 37,
    "start_time": "2022-09-04T10:52:54.529Z"
   },
   {
    "duration": 7,
    "start_time": "2022-09-04T10:52:54.567Z"
   },
   {
    "duration": 37,
    "start_time": "2022-09-04T10:52:54.576Z"
   },
   {
    "duration": 248,
    "start_time": "2022-09-04T10:52:54.615Z"
   },
   {
    "duration": 10,
    "start_time": "2022-09-04T10:52:54.865Z"
   },
   {
    "duration": 53,
    "start_time": "2022-09-04T10:52:54.877Z"
   },
   {
    "duration": 0,
    "start_time": "2022-09-04T10:52:54.932Z"
   },
   {
    "duration": 0,
    "start_time": "2022-09-04T10:52:54.934Z"
   },
   {
    "duration": 0,
    "start_time": "2022-09-04T10:52:54.935Z"
   },
   {
    "duration": 0,
    "start_time": "2022-09-04T10:52:54.937Z"
   },
   {
    "duration": 0,
    "start_time": "2022-09-04T10:52:54.938Z"
   },
   {
    "duration": 0,
    "start_time": "2022-09-04T10:52:54.939Z"
   },
   {
    "duration": 0,
    "start_time": "2022-09-04T10:52:54.940Z"
   },
   {
    "duration": 0,
    "start_time": "2022-09-04T10:52:54.941Z"
   },
   {
    "duration": 0,
    "start_time": "2022-09-04T10:52:54.942Z"
   },
   {
    "duration": 0,
    "start_time": "2022-09-04T10:52:54.943Z"
   },
   {
    "duration": 0,
    "start_time": "2022-09-04T10:52:54.944Z"
   },
   {
    "duration": 0,
    "start_time": "2022-09-04T10:52:54.945Z"
   },
   {
    "duration": 0,
    "start_time": "2022-09-04T10:52:54.946Z"
   },
   {
    "duration": 0,
    "start_time": "2022-09-04T10:52:54.947Z"
   },
   {
    "duration": 0,
    "start_time": "2022-09-04T10:52:54.948Z"
   },
   {
    "duration": 56,
    "start_time": "2022-09-04T10:53:09.451Z"
   },
   {
    "duration": 4,
    "start_time": "2022-09-04T10:53:58.913Z"
   },
   {
    "duration": 3,
    "start_time": "2022-09-04T10:54:11.655Z"
   },
   {
    "duration": 4,
    "start_time": "2022-09-04T10:54:35.755Z"
   },
   {
    "duration": 5,
    "start_time": "2022-09-04T10:55:25.925Z"
   },
   {
    "duration": 4,
    "start_time": "2022-09-04T10:55:27.498Z"
   },
   {
    "duration": 4,
    "start_time": "2022-09-04T10:55:32.885Z"
   },
   {
    "duration": 4,
    "start_time": "2022-09-04T10:55:36.935Z"
   },
   {
    "duration": 195,
    "start_time": "2022-09-04T10:55:40.191Z"
   },
   {
    "duration": 4,
    "start_time": "2022-09-04T10:55:47.643Z"
   },
   {
    "duration": 223,
    "start_time": "2022-09-04T10:55:57.676Z"
   },
   {
    "duration": 157,
    "start_time": "2022-09-04T10:56:00.169Z"
   },
   {
    "duration": 153,
    "start_time": "2022-09-04T10:56:03.742Z"
   },
   {
    "duration": 190,
    "start_time": "2022-09-04T10:56:57.479Z"
   },
   {
    "duration": 181,
    "start_time": "2022-09-04T10:57:40.859Z"
   },
   {
    "duration": 185,
    "start_time": "2022-09-04T10:57:43.497Z"
   },
   {
    "duration": 13,
    "start_time": "2022-09-04T11:02:36.781Z"
   },
   {
    "duration": 1381,
    "start_time": "2022-09-04T11:16:09.049Z"
   },
   {
    "duration": 20,
    "start_time": "2022-09-04T11:16:10.434Z"
   },
   {
    "duration": 43,
    "start_time": "2022-09-04T11:16:10.456Z"
   },
   {
    "duration": 3,
    "start_time": "2022-09-04T11:16:10.501Z"
   },
   {
    "duration": 42,
    "start_time": "2022-09-04T11:16:10.506Z"
   },
   {
    "duration": 29,
    "start_time": "2022-09-04T11:16:10.550Z"
   },
   {
    "duration": 24,
    "start_time": "2022-09-04T11:16:10.580Z"
   },
   {
    "duration": 26,
    "start_time": "2022-09-04T11:16:10.610Z"
   },
   {
    "duration": 6,
    "start_time": "2022-09-04T11:16:10.638Z"
   },
   {
    "duration": 19,
    "start_time": "2022-09-04T11:16:10.646Z"
   },
   {
    "duration": 5,
    "start_time": "2022-09-04T11:16:10.666Z"
   },
   {
    "duration": 22,
    "start_time": "2022-09-04T11:16:10.673Z"
   },
   {
    "duration": 21,
    "start_time": "2022-09-04T11:16:10.697Z"
   },
   {
    "duration": 344,
    "start_time": "2022-09-04T11:16:10.721Z"
   },
   {
    "duration": 12,
    "start_time": "2022-09-04T11:16:11.067Z"
   },
   {
    "duration": 245,
    "start_time": "2022-09-04T11:16:11.080Z"
   },
   {
    "duration": 24,
    "start_time": "2022-09-04T11:16:11.327Z"
   },
   {
    "duration": 56,
    "start_time": "2022-09-04T11:16:11.352Z"
   },
   {
    "duration": 13,
    "start_time": "2022-09-04T11:16:11.410Z"
   },
   {
    "duration": 16,
    "start_time": "2022-09-04T11:16:11.424Z"
   },
   {
    "duration": 295,
    "start_time": "2022-09-04T11:16:11.441Z"
   },
   {
    "duration": 11,
    "start_time": "2022-09-04T11:16:11.737Z"
   },
   {
    "duration": 6,
    "start_time": "2022-09-04T11:16:11.750Z"
   },
   {
    "duration": 213,
    "start_time": "2022-09-04T11:16:11.757Z"
   },
   {
    "duration": 186,
    "start_time": "2022-09-04T11:16:11.972Z"
   },
   {
    "duration": 195,
    "start_time": "2022-09-04T11:16:12.160Z"
   },
   {
    "duration": 261,
    "start_time": "2022-09-04T11:16:12.357Z"
   },
   {
    "duration": 222,
    "start_time": "2022-09-04T11:16:12.619Z"
   },
   {
    "duration": 20,
    "start_time": "2022-09-04T11:16:12.842Z"
   },
   {
    "duration": 33,
    "start_time": "2022-09-04T11:16:12.863Z"
   },
   {
    "duration": 49,
    "start_time": "2022-09-04T11:16:12.897Z"
   },
   {
    "duration": 10,
    "start_time": "2022-09-04T11:16:12.948Z"
   },
   {
    "duration": 10,
    "start_time": "2022-09-04T11:16:12.960Z"
   },
   {
    "duration": 10,
    "start_time": "2022-09-04T11:16:12.971Z"
   },
   {
    "duration": 17,
    "start_time": "2022-09-04T11:16:12.982Z"
   },
   {
    "duration": 33,
    "start_time": "2022-09-04T11:16:13.000Z"
   },
   {
    "duration": 15,
    "start_time": "2022-09-04T11:16:13.035Z"
   },
   {
    "duration": 12,
    "start_time": "2022-09-04T11:16:13.052Z"
   },
   {
    "duration": 43,
    "start_time": "2022-09-04T13:03:34.653Z"
   },
   {
    "duration": 1518,
    "start_time": "2022-09-04T13:03:39.091Z"
   },
   {
    "duration": 15,
    "start_time": "2022-09-04T13:03:40.611Z"
   },
   {
    "duration": 34,
    "start_time": "2022-09-04T13:03:40.628Z"
   },
   {
    "duration": 4,
    "start_time": "2022-09-04T13:03:40.664Z"
   },
   {
    "duration": 16,
    "start_time": "2022-09-04T13:03:40.670Z"
   },
   {
    "duration": 55,
    "start_time": "2022-09-04T13:03:40.688Z"
   },
   {
    "duration": 13,
    "start_time": "2022-09-04T13:03:40.745Z"
   },
   {
    "duration": 18,
    "start_time": "2022-09-04T13:03:40.760Z"
   },
   {
    "duration": 32,
    "start_time": "2022-09-04T13:03:40.779Z"
   },
   {
    "duration": 21,
    "start_time": "2022-09-04T13:03:40.812Z"
   },
   {
    "duration": 5,
    "start_time": "2022-09-04T13:03:40.834Z"
   },
   {
    "duration": 20,
    "start_time": "2022-09-04T13:03:40.840Z"
   },
   {
    "duration": 9,
    "start_time": "2022-09-04T13:03:40.862Z"
   },
   {
    "duration": 357,
    "start_time": "2022-09-04T13:03:40.874Z"
   },
   {
    "duration": 13,
    "start_time": "2022-09-04T13:03:41.232Z"
   },
   {
    "duration": 243,
    "start_time": "2022-09-04T13:03:41.247Z"
   },
   {
    "duration": 26,
    "start_time": "2022-09-04T13:03:41.492Z"
   },
   {
    "duration": 44,
    "start_time": "2022-09-04T13:03:41.520Z"
   },
   {
    "duration": 8,
    "start_time": "2022-09-04T13:03:41.565Z"
   },
   {
    "duration": 41,
    "start_time": "2022-09-04T13:03:41.574Z"
   },
   {
    "duration": 285,
    "start_time": "2022-09-04T13:03:41.617Z"
   },
   {
    "duration": 12,
    "start_time": "2022-09-04T13:03:41.906Z"
   },
   {
    "duration": 4,
    "start_time": "2022-09-04T13:03:41.920Z"
   },
   {
    "duration": 204,
    "start_time": "2022-09-04T13:03:41.926Z"
   },
   {
    "duration": 159,
    "start_time": "2022-09-04T13:03:42.132Z"
   },
   {
    "duration": 236,
    "start_time": "2022-09-04T13:03:42.292Z"
   },
   {
    "duration": 179,
    "start_time": "2022-09-04T13:03:42.529Z"
   },
   {
    "duration": 215,
    "start_time": "2022-09-04T13:03:42.710Z"
   },
   {
    "duration": 20,
    "start_time": "2022-09-04T13:03:42.927Z"
   },
   {
    "duration": 18,
    "start_time": "2022-09-04T13:03:42.949Z"
   },
   {
    "duration": 38,
    "start_time": "2022-09-04T13:03:42.968Z"
   },
   {
    "duration": 12,
    "start_time": "2022-09-04T13:03:43.007Z"
   },
   {
    "duration": 12,
    "start_time": "2022-09-04T13:03:43.020Z"
   },
   {
    "duration": 11,
    "start_time": "2022-09-04T13:03:43.033Z"
   },
   {
    "duration": 14,
    "start_time": "2022-09-04T13:03:43.046Z"
   },
   {
    "duration": 6,
    "start_time": "2022-09-04T13:03:43.062Z"
   },
   {
    "duration": 47,
    "start_time": "2022-09-04T13:03:43.070Z"
   },
   {
    "duration": 35,
    "start_time": "2022-09-04T13:03:43.119Z"
   },
   {
    "duration": 17,
    "start_time": "2022-09-04T13:03:57.932Z"
   },
   {
    "duration": 18,
    "start_time": "2022-09-04T13:04:06.377Z"
   },
   {
    "duration": 17,
    "start_time": "2022-09-04T13:04:13.150Z"
   },
   {
    "duration": 18,
    "start_time": "2022-09-04T13:04:14.208Z"
   },
   {
    "duration": 51,
    "start_time": "2022-09-04T13:04:16.648Z"
   },
   {
    "duration": 12,
    "start_time": "2022-09-04T13:04:16.701Z"
   },
   {
    "duration": 30,
    "start_time": "2022-09-04T13:04:16.714Z"
   },
   {
    "duration": 3,
    "start_time": "2022-09-04T13:04:16.746Z"
   },
   {
    "duration": 18,
    "start_time": "2022-09-04T13:04:16.752Z"
   },
   {
    "duration": 44,
    "start_time": "2022-09-04T13:04:16.771Z"
   },
   {
    "duration": 15,
    "start_time": "2022-09-04T13:04:16.816Z"
   },
   {
    "duration": 16,
    "start_time": "2022-09-04T13:04:16.832Z"
   },
   {
    "duration": 6,
    "start_time": "2022-09-04T13:04:16.849Z"
   },
   {
    "duration": 56,
    "start_time": "2022-09-04T13:04:16.856Z"
   },
   {
    "duration": 4,
    "start_time": "2022-09-04T13:04:16.914Z"
   },
   {
    "duration": 18,
    "start_time": "2022-09-04T13:04:16.920Z"
   },
   {
    "duration": 10,
    "start_time": "2022-09-04T13:04:16.939Z"
   },
   {
    "duration": 362,
    "start_time": "2022-09-04T13:04:16.950Z"
   },
   {
    "duration": 11,
    "start_time": "2022-09-04T13:04:17.313Z"
   },
   {
    "duration": 232,
    "start_time": "2022-09-04T13:04:17.325Z"
   },
   {
    "duration": 18,
    "start_time": "2022-09-04T13:04:17.559Z"
   },
   {
    "duration": 53,
    "start_time": "2022-09-04T13:04:17.578Z"
   },
   {
    "duration": 7,
    "start_time": "2022-09-04T13:04:17.633Z"
   },
   {
    "duration": 10,
    "start_time": "2022-09-04T13:04:17.641Z"
   },
   {
    "duration": 254,
    "start_time": "2022-09-04T13:04:17.653Z"
   },
   {
    "duration": 11,
    "start_time": "2022-09-04T13:04:17.908Z"
   },
   {
    "duration": 4,
    "start_time": "2022-09-04T13:04:17.920Z"
   },
   {
    "duration": 191,
    "start_time": "2022-09-04T13:04:17.926Z"
   },
   {
    "duration": 145,
    "start_time": "2022-09-04T13:04:18.118Z"
   },
   {
    "duration": 153,
    "start_time": "2022-09-04T13:04:18.265Z"
   },
   {
    "duration": 229,
    "start_time": "2022-09-04T13:04:18.419Z"
   },
   {
    "duration": 190,
    "start_time": "2022-09-04T13:04:18.650Z"
   },
   {
    "duration": 18,
    "start_time": "2022-09-04T13:04:18.842Z"
   },
   {
    "duration": 17,
    "start_time": "2022-09-04T13:04:18.863Z"
   },
   {
    "duration": 36,
    "start_time": "2022-09-04T13:04:18.882Z"
   },
   {
    "duration": 11,
    "start_time": "2022-09-04T13:04:18.920Z"
   },
   {
    "duration": 12,
    "start_time": "2022-09-04T13:04:18.933Z"
   },
   {
    "duration": 11,
    "start_time": "2022-09-04T13:04:18.947Z"
   },
   {
    "duration": 46,
    "start_time": "2022-09-04T13:04:18.960Z"
   },
   {
    "duration": 7,
    "start_time": "2022-09-04T13:04:19.008Z"
   },
   {
    "duration": 14,
    "start_time": "2022-09-04T13:04:19.017Z"
   },
   {
    "duration": 13,
    "start_time": "2022-09-04T13:04:19.033Z"
   },
   {
    "duration": 1511,
    "start_time": "2022-09-04T13:04:25.080Z"
   },
   {
    "duration": 13,
    "start_time": "2022-09-04T13:04:26.593Z"
   },
   {
    "duration": 28,
    "start_time": "2022-09-04T13:04:26.608Z"
   },
   {
    "duration": 3,
    "start_time": "2022-09-04T13:04:26.638Z"
   },
   {
    "duration": 18,
    "start_time": "2022-09-04T13:04:26.642Z"
   },
   {
    "duration": 30,
    "start_time": "2022-09-04T13:04:26.661Z"
   },
   {
    "duration": 14,
    "start_time": "2022-09-04T13:04:26.705Z"
   },
   {
    "duration": 16,
    "start_time": "2022-09-04T13:04:26.720Z"
   },
   {
    "duration": 6,
    "start_time": "2022-09-04T13:04:26.738Z"
   },
   {
    "duration": 17,
    "start_time": "2022-09-04T13:04:26.745Z"
   },
   {
    "duration": 4,
    "start_time": "2022-09-04T13:04:26.764Z"
   },
   {
    "duration": 44,
    "start_time": "2022-09-04T13:04:26.770Z"
   },
   {
    "duration": 16,
    "start_time": "2022-09-04T13:04:26.816Z"
   },
   {
    "duration": 286,
    "start_time": "2022-09-04T13:04:26.835Z"
   },
   {
    "duration": 12,
    "start_time": "2022-09-04T13:04:27.123Z"
   },
   {
    "duration": 210,
    "start_time": "2022-09-04T13:04:27.137Z"
   },
   {
    "duration": 17,
    "start_time": "2022-09-04T13:04:27.349Z"
   },
   {
    "duration": 51,
    "start_time": "2022-09-04T13:04:27.367Z"
   },
   {
    "duration": 9,
    "start_time": "2022-09-04T13:04:27.420Z"
   },
   {
    "duration": 14,
    "start_time": "2022-09-04T13:04:27.431Z"
   },
   {
    "duration": 253,
    "start_time": "2022-09-04T13:04:27.447Z"
   },
   {
    "duration": 14,
    "start_time": "2022-09-04T13:04:27.701Z"
   },
   {
    "duration": 4,
    "start_time": "2022-09-04T13:04:27.716Z"
   },
   {
    "duration": 193,
    "start_time": "2022-09-04T13:04:27.722Z"
   },
   {
    "duration": 151,
    "start_time": "2022-09-04T13:04:27.916Z"
   },
   {
    "duration": 160,
    "start_time": "2022-09-04T13:04:28.069Z"
   },
   {
    "duration": 219,
    "start_time": "2022-09-04T13:04:28.231Z"
   },
   {
    "duration": 186,
    "start_time": "2022-09-04T13:04:28.451Z"
   },
   {
    "duration": 17,
    "start_time": "2022-09-04T13:04:28.638Z"
   },
   {
    "duration": 17,
    "start_time": "2022-09-04T13:04:28.657Z"
   },
   {
    "duration": 37,
    "start_time": "2022-09-04T13:04:28.676Z"
   },
   {
    "duration": 11,
    "start_time": "2022-09-04T13:04:28.715Z"
   },
   {
    "duration": 22,
    "start_time": "2022-09-04T13:04:28.727Z"
   },
   {
    "duration": 19,
    "start_time": "2022-09-04T13:04:28.750Z"
   },
   {
    "duration": 48,
    "start_time": "2022-09-04T13:04:28.771Z"
   },
   {
    "duration": 16,
    "start_time": "2022-09-04T13:04:28.821Z"
   },
   {
    "duration": 25,
    "start_time": "2022-09-04T13:04:28.839Z"
   },
   {
    "duration": 30,
    "start_time": "2022-09-04T13:04:28.865Z"
   },
   {
    "duration": 18,
    "start_time": "2022-09-04T13:04:43.737Z"
   },
   {
    "duration": 18,
    "start_time": "2022-09-04T13:04:55.574Z"
   },
   {
    "duration": 19,
    "start_time": "2022-09-04T13:05:05.738Z"
   },
   {
    "duration": 18,
    "start_time": "2022-09-04T13:05:43.044Z"
   },
   {
    "duration": 18,
    "start_time": "2022-09-04T13:07:35.787Z"
   },
   {
    "duration": 17,
    "start_time": "2022-09-04T13:08:34.307Z"
   },
   {
    "duration": 12,
    "start_time": "2022-09-04T13:10:11.444Z"
   },
   {
    "duration": 13,
    "start_time": "2022-09-04T13:11:03.704Z"
   },
   {
    "duration": 1383,
    "start_time": "2022-09-04T13:11:18.101Z"
   },
   {
    "duration": 14,
    "start_time": "2022-09-04T13:11:25.190Z"
   },
   {
    "duration": 316,
    "start_time": "2022-09-04T13:14:15.978Z"
   },
   {
    "duration": 15,
    "start_time": "2022-09-04T13:14:46.820Z"
   },
   {
    "duration": 257,
    "start_time": "2022-09-04T13:15:28.551Z"
   },
   {
    "duration": 261,
    "start_time": "2022-09-04T13:16:02.664Z"
   },
   {
    "duration": 295,
    "start_time": "2022-09-04T13:16:49.325Z"
   },
   {
    "duration": 267,
    "start_time": "2022-09-04T13:16:59.387Z"
   },
   {
    "duration": 268,
    "start_time": "2022-09-04T13:17:14.031Z"
   },
   {
    "duration": 8,
    "start_time": "2022-09-04T13:17:47.787Z"
   },
   {
    "duration": 303,
    "start_time": "2022-09-04T13:17:49.343Z"
   },
   {
    "duration": 16,
    "start_time": "2022-09-04T13:17:51.934Z"
   },
   {
    "duration": 14,
    "start_time": "2022-09-04T13:17:56.253Z"
   },
   {
    "duration": 257,
    "start_time": "2022-09-04T13:17:59.092Z"
   },
   {
    "duration": 15,
    "start_time": "2022-09-04T13:18:05.754Z"
   },
   {
    "duration": 249,
    "start_time": "2022-09-04T13:19:21.651Z"
   },
   {
    "duration": 223,
    "start_time": "2022-09-04T13:21:30.167Z"
   },
   {
    "duration": 10,
    "start_time": "2022-09-04T13:22:05.284Z"
   },
   {
    "duration": 10,
    "start_time": "2022-09-04T13:22:07.344Z"
   },
   {
    "duration": 135,
    "start_time": "2022-09-04T13:22:08.279Z"
   },
   {
    "duration": 134,
    "start_time": "2022-09-04T13:22:09.500Z"
   },
   {
    "duration": 121,
    "start_time": "2022-09-04T13:22:27.172Z"
   },
   {
    "duration": 15,
    "start_time": "2022-09-04T13:23:13.115Z"
   },
   {
    "duration": 125,
    "start_time": "2022-09-04T13:24:22.973Z"
   },
   {
    "duration": 122,
    "start_time": "2022-09-04T13:24:45.795Z"
   },
   {
    "duration": 260,
    "start_time": "2022-09-04T13:27:00.825Z"
   },
   {
    "duration": 13,
    "start_time": "2022-09-04T13:27:30.219Z"
   },
   {
    "duration": 78,
    "start_time": "2022-09-04T13:31:45.066Z"
   },
   {
    "duration": 1065,
    "start_time": "2022-09-04T13:31:52.349Z"
   },
   {
    "duration": 19,
    "start_time": "2022-09-04T13:32:03.591Z"
   },
   {
    "duration": 18,
    "start_time": "2022-09-04T13:32:18.835Z"
   },
   {
    "duration": 19,
    "start_time": "2022-09-04T13:32:26.922Z"
   },
   {
    "duration": 15,
    "start_time": "2022-09-04T13:32:56.179Z"
   },
   {
    "duration": 10,
    "start_time": "2022-09-04T13:33:44.360Z"
   },
   {
    "duration": 16,
    "start_time": "2022-09-04T13:33:51.440Z"
   },
   {
    "duration": 14,
    "start_time": "2022-09-04T13:35:25.457Z"
   },
   {
    "duration": 20,
    "start_time": "2022-09-04T13:35:52.133Z"
   },
   {
    "duration": 17,
    "start_time": "2022-09-04T13:36:26.485Z"
   },
   {
    "duration": 14,
    "start_time": "2022-09-04T13:37:32.956Z"
   },
   {
    "duration": 17,
    "start_time": "2022-09-04T13:38:48.618Z"
   },
   {
    "duration": 9,
    "start_time": "2022-09-04T13:39:01.112Z"
   },
   {
    "duration": 12,
    "start_time": "2022-09-04T13:39:04.345Z"
   },
   {
    "duration": 10,
    "start_time": "2022-09-04T13:39:26.898Z"
   },
   {
    "duration": 11,
    "start_time": "2022-09-04T13:39:41.725Z"
   },
   {
    "duration": 15,
    "start_time": "2022-09-04T13:40:03.280Z"
   },
   {
    "duration": 12,
    "start_time": "2022-09-04T13:40:14.733Z"
   },
   {
    "duration": 17,
    "start_time": "2022-09-04T13:40:24.322Z"
   },
   {
    "duration": 77,
    "start_time": "2022-09-04T13:42:23.026Z"
   },
   {
    "duration": 12,
    "start_time": "2022-09-04T13:42:27.765Z"
   },
   {
    "duration": 14,
    "start_time": "2022-09-04T13:42:30.479Z"
   },
   {
    "duration": 10,
    "start_time": "2022-09-04T13:42:40.147Z"
   },
   {
    "duration": 12,
    "start_time": "2022-09-04T13:42:46.017Z"
   },
   {
    "duration": 18,
    "start_time": "2022-09-04T13:43:43.177Z"
   },
   {
    "duration": 19,
    "start_time": "2022-09-04T13:43:49.854Z"
   },
   {
    "duration": 17,
    "start_time": "2022-09-04T13:43:53.488Z"
   },
   {
    "duration": 191,
    "start_time": "2022-09-04T13:44:17.750Z"
   },
   {
    "duration": 185,
    "start_time": "2022-09-04T13:44:28.787Z"
   },
   {
    "duration": 17,
    "start_time": "2022-09-04T13:44:46.647Z"
   },
   {
    "duration": 167,
    "start_time": "2022-09-04T13:45:18.595Z"
   },
   {
    "duration": 17,
    "start_time": "2022-09-04T13:45:22.464Z"
   },
   {
    "duration": 168,
    "start_time": "2022-09-04T13:45:25.412Z"
   },
   {
    "duration": 5,
    "start_time": "2022-09-04T13:47:06.114Z"
   },
   {
    "duration": 192,
    "start_time": "2022-09-04T13:47:07.596Z"
   },
   {
    "duration": 191,
    "start_time": "2022-09-04T13:47:39.793Z"
   },
   {
    "duration": 141,
    "start_time": "2022-09-04T13:48:02.763Z"
   },
   {
    "duration": 185,
    "start_time": "2022-09-04T13:48:15.304Z"
   },
   {
    "duration": 18,
    "start_time": "2022-09-04T13:49:25.949Z"
   },
   {
    "duration": 18,
    "start_time": "2022-09-04T13:49:41.140Z"
   },
   {
    "duration": 17,
    "start_time": "2022-09-04T13:50:09.179Z"
   },
   {
    "duration": 23,
    "start_time": "2022-09-04T13:50:33.733Z"
   },
   {
    "duration": 18,
    "start_time": "2022-09-04T13:52:10.010Z"
   },
   {
    "duration": 17,
    "start_time": "2022-09-04T13:53:08.664Z"
   },
   {
    "duration": 177,
    "start_time": "2022-09-04T13:54:19.161Z"
   },
   {
    "duration": 14,
    "start_time": "2022-09-04T13:54:45.878Z"
   },
   {
    "duration": 21,
    "start_time": "2022-09-04T13:56:00.535Z"
   },
   {
    "duration": 593,
    "start_time": "2022-09-04T13:56:49.731Z"
   },
   {
    "duration": 210,
    "start_time": "2022-09-04T13:56:54.914Z"
   },
   {
    "duration": 205,
    "start_time": "2022-09-04T13:57:07.484Z"
   },
   {
    "duration": 183,
    "start_time": "2022-09-04T13:58:11.961Z"
   },
   {
    "duration": 196,
    "start_time": "2022-09-04T13:58:26.466Z"
   },
   {
    "duration": 16,
    "start_time": "2022-09-04T14:02:18.805Z"
   },
   {
    "duration": 14,
    "start_time": "2022-09-04T14:03:06.984Z"
   },
   {
    "duration": 14,
    "start_time": "2022-09-04T14:03:21.878Z"
   },
   {
    "duration": 12,
    "start_time": "2022-09-04T14:03:59.662Z"
   },
   {
    "duration": 185,
    "start_time": "2022-09-04T14:04:01.272Z"
   },
   {
    "duration": 14,
    "start_time": "2022-09-04T14:04:28.715Z"
   },
   {
    "duration": 14,
    "start_time": "2022-09-04T14:04:45.046Z"
   },
   {
    "duration": 14,
    "start_time": "2022-09-04T14:04:50.994Z"
   },
   {
    "duration": 13,
    "start_time": "2022-09-04T14:04:55.237Z"
   },
   {
    "duration": 9,
    "start_time": "2022-09-04T14:05:08.641Z"
   },
   {
    "duration": 10,
    "start_time": "2022-09-04T14:05:25.095Z"
   },
   {
    "duration": 3094,
    "start_time": "2022-09-04T14:05:37.349Z"
   },
   {
    "duration": 19,
    "start_time": "2022-09-04T14:06:21.681Z"
   },
   {
    "duration": 17,
    "start_time": "2022-09-04T14:06:40.404Z"
   },
   {
    "duration": 20,
    "start_time": "2022-09-04T14:07:34.692Z"
   },
   {
    "duration": 21,
    "start_time": "2022-09-04T14:09:08.914Z"
   },
   {
    "duration": 18,
    "start_time": "2022-09-04T14:09:54.880Z"
   },
   {
    "duration": 18,
    "start_time": "2022-09-04T14:10:12.179Z"
   },
   {
    "duration": 20,
    "start_time": "2022-09-04T14:10:46.801Z"
   },
   {
    "duration": 19,
    "start_time": "2022-09-04T14:11:40.347Z"
   },
   {
    "duration": 19,
    "start_time": "2022-09-04T14:12:24.079Z"
   },
   {
    "duration": 20,
    "start_time": "2022-09-04T14:12:30.031Z"
   },
   {
    "duration": 20,
    "start_time": "2022-09-04T14:12:47.828Z"
   },
   {
    "duration": 19,
    "start_time": "2022-09-04T14:14:40.987Z"
   },
   {
    "duration": 21,
    "start_time": "2022-09-04T14:15:37.409Z"
   },
   {
    "duration": 15,
    "start_time": "2022-09-04T14:15:54.025Z"
   },
   {
    "duration": 16,
    "start_time": "2022-09-04T14:15:55.816Z"
   },
   {
    "duration": 15,
    "start_time": "2022-09-04T14:16:22.832Z"
   },
   {
    "duration": 20,
    "start_time": "2022-09-04T14:16:31.486Z"
   },
   {
    "duration": 23,
    "start_time": "2022-09-04T14:16:39.057Z"
   },
   {
    "duration": 5,
    "start_time": "2022-09-04T14:16:44.779Z"
   },
   {
    "duration": 338,
    "start_time": "2022-09-04T14:18:42.340Z"
   },
   {
    "duration": 20,
    "start_time": "2022-09-04T14:18:56.722Z"
   },
   {
    "duration": 377,
    "start_time": "2022-09-04T14:19:16.143Z"
   },
   {
    "duration": 332,
    "start_time": "2022-09-04T14:19:40.437Z"
   },
   {
    "duration": 25,
    "start_time": "2022-09-04T14:20:16.161Z"
   },
   {
    "duration": 18,
    "start_time": "2022-09-04T14:20:22.578Z"
   },
   {
    "duration": 19,
    "start_time": "2022-09-04T14:21:07.726Z"
   },
   {
    "duration": 26,
    "start_time": "2022-09-04T14:22:51.028Z"
   },
   {
    "duration": 15,
    "start_time": "2022-09-04T14:23:02.601Z"
   },
   {
    "duration": 19,
    "start_time": "2022-09-04T14:23:05.503Z"
   },
   {
    "duration": 17,
    "start_time": "2022-09-04T14:23:09.288Z"
   },
   {
    "duration": 3,
    "start_time": "2022-09-04T14:24:02.035Z"
   },
   {
    "duration": 16,
    "start_time": "2022-09-04T14:24:05.358Z"
   },
   {
    "duration": 13,
    "start_time": "2022-09-04T14:24:17.661Z"
   },
   {
    "duration": 14,
    "start_time": "2022-09-04T14:24:34.073Z"
   },
   {
    "duration": 13,
    "start_time": "2022-09-04T14:24:56.844Z"
   },
   {
    "duration": 919,
    "start_time": "2022-09-04T14:25:03.683Z"
   },
   {
    "duration": 746,
    "start_time": "2022-09-04T14:25:12.009Z"
   },
   {
    "duration": 733,
    "start_time": "2022-09-04T14:25:33.909Z"
   },
   {
    "duration": 666,
    "start_time": "2022-09-04T14:25:47.720Z"
   },
   {
    "duration": 12,
    "start_time": "2022-09-04T14:29:14.189Z"
   },
   {
    "duration": 17,
    "start_time": "2022-09-04T14:29:20.321Z"
   },
   {
    "duration": 147,
    "start_time": "2022-09-04T14:29:25.740Z"
   },
   {
    "duration": 18,
    "start_time": "2022-09-04T14:29:57.480Z"
   },
   {
    "duration": 18,
    "start_time": "2022-09-04T14:30:16.520Z"
   },
   {
    "duration": 165,
    "start_time": "2022-09-04T14:30:21.780Z"
   },
   {
    "duration": 171,
    "start_time": "2022-09-04T14:30:48.658Z"
   },
   {
    "duration": 173,
    "start_time": "2022-09-04T14:31:14.280Z"
   },
   {
    "duration": 18,
    "start_time": "2022-09-04T14:31:32.195Z"
   },
   {
    "duration": 73,
    "start_time": "2022-09-04T14:31:55.715Z"
   },
   {
    "duration": 13,
    "start_time": "2022-09-04T14:31:57.589Z"
   },
   {
    "duration": 13,
    "start_time": "2022-09-04T14:32:04.561Z"
   },
   {
    "duration": 13,
    "start_time": "2022-09-04T14:32:41.118Z"
   },
   {
    "duration": 13,
    "start_time": "2022-09-04T14:33:00.591Z"
   },
   {
    "duration": 13,
    "start_time": "2022-09-04T14:33:08.360Z"
   },
   {
    "duration": 13,
    "start_time": "2022-09-04T14:33:14.513Z"
   },
   {
    "duration": 20,
    "start_time": "2022-09-04T14:33:19.141Z"
   },
   {
    "duration": 13,
    "start_time": "2022-09-04T14:33:47.728Z"
   },
   {
    "duration": 10,
    "start_time": "2022-09-04T14:33:57.531Z"
   },
   {
    "duration": 9,
    "start_time": "2022-09-04T14:33:59.969Z"
   },
   {
    "duration": 147,
    "start_time": "2022-09-04T14:34:08.846Z"
   },
   {
    "duration": 327,
    "start_time": "2022-09-04T14:34:13.892Z"
   },
   {
    "duration": 151,
    "start_time": "2022-09-04T14:34:23.487Z"
   },
   {
    "duration": 18,
    "start_time": "2022-09-04T14:35:00.596Z"
   },
   {
    "duration": 14,
    "start_time": "2022-09-04T14:35:33.462Z"
   },
   {
    "duration": 157,
    "start_time": "2022-09-04T14:35:43.687Z"
   },
   {
    "duration": 16,
    "start_time": "2022-09-04T14:35:49.189Z"
   },
   {
    "duration": 15,
    "start_time": "2022-09-04T14:35:51.208Z"
   },
   {
    "duration": 18,
    "start_time": "2022-09-04T14:36:03.040Z"
   },
   {
    "duration": 14,
    "start_time": "2022-09-04T14:36:58.387Z"
   },
   {
    "duration": 17,
    "start_time": "2022-09-04T14:38:38.777Z"
   },
   {
    "duration": 19,
    "start_time": "2022-09-04T14:38:57.807Z"
   },
   {
    "duration": 17,
    "start_time": "2022-09-04T14:39:02.867Z"
   },
   {
    "duration": 17,
    "start_time": "2022-09-04T14:39:14.860Z"
   },
   {
    "duration": 15,
    "start_time": "2022-09-04T14:39:26.694Z"
   },
   {
    "duration": 18,
    "start_time": "2022-09-04T14:39:46.908Z"
   },
   {
    "duration": 17,
    "start_time": "2022-09-04T14:40:06.982Z"
   },
   {
    "duration": 15,
    "start_time": "2022-09-04T14:40:18.132Z"
   },
   {
    "duration": 1741,
    "start_time": "2022-09-04T14:40:24.292Z"
   },
   {
    "duration": 17,
    "start_time": "2022-09-04T14:41:08.299Z"
   },
   {
    "duration": 20,
    "start_time": "2022-09-04T14:41:17.068Z"
   },
   {
    "duration": 128,
    "start_time": "2022-09-04T14:41:24.421Z"
   },
   {
    "duration": 134,
    "start_time": "2022-09-04T14:41:47.447Z"
   },
   {
    "duration": 6,
    "start_time": "2022-09-04T14:42:09.295Z"
   },
   {
    "duration": 129,
    "start_time": "2022-09-04T14:42:21.620Z"
   },
   {
    "duration": 52,
    "start_time": "2022-09-04T19:29:49.969Z"
   },
   {
    "duration": 1422,
    "start_time": "2022-09-04T19:29:54.921Z"
   },
   {
    "duration": 15,
    "start_time": "2022-09-04T19:29:56.345Z"
   },
   {
    "duration": 36,
    "start_time": "2022-09-04T19:29:56.361Z"
   },
   {
    "duration": 3,
    "start_time": "2022-09-04T19:29:56.399Z"
   },
   {
    "duration": 23,
    "start_time": "2022-09-04T19:29:56.404Z"
   },
   {
    "duration": 38,
    "start_time": "2022-09-04T19:29:56.429Z"
   },
   {
    "duration": 15,
    "start_time": "2022-09-04T19:29:56.470Z"
   },
   {
    "duration": 29,
    "start_time": "2022-09-04T19:29:56.486Z"
   },
   {
    "duration": 7,
    "start_time": "2022-09-04T19:29:56.517Z"
   },
   {
    "duration": 22,
    "start_time": "2022-09-04T19:29:56.526Z"
   },
   {
    "duration": 5,
    "start_time": "2022-09-04T19:29:56.549Z"
   },
   {
    "duration": 18,
    "start_time": "2022-09-04T19:29:56.555Z"
   },
   {
    "duration": 9,
    "start_time": "2022-09-04T19:29:56.602Z"
   },
   {
    "duration": 366,
    "start_time": "2022-09-04T19:29:56.614Z"
   },
   {
    "duration": 22,
    "start_time": "2022-09-04T19:29:56.982Z"
   },
   {
    "duration": 247,
    "start_time": "2022-09-04T19:29:57.005Z"
   },
   {
    "duration": 20,
    "start_time": "2022-09-04T19:29:57.254Z"
   },
   {
    "duration": 64,
    "start_time": "2022-09-04T19:29:57.276Z"
   },
   {
    "duration": 7,
    "start_time": "2022-09-04T19:29:57.342Z"
   },
   {
    "duration": 12,
    "start_time": "2022-09-04T19:29:57.351Z"
   },
   {
    "duration": 326,
    "start_time": "2022-09-04T19:29:57.365Z"
   },
   {
    "duration": 15,
    "start_time": "2022-09-04T19:29:57.693Z"
   },
   {
    "duration": 5,
    "start_time": "2022-09-04T19:29:57.709Z"
   },
   {
    "duration": 210,
    "start_time": "2022-09-04T19:29:57.715Z"
   },
   {
    "duration": 171,
    "start_time": "2022-09-04T19:29:57.926Z"
   },
   {
    "duration": 178,
    "start_time": "2022-09-04T19:29:58.099Z"
   },
   {
    "duration": 273,
    "start_time": "2022-09-04T19:29:58.279Z"
   },
   {
    "duration": 225,
    "start_time": "2022-09-04T19:29:58.554Z"
   },
   {
    "duration": 97,
    "start_time": "2022-09-04T19:29:58.781Z"
   },
   {
    "duration": 0,
    "start_time": "2022-09-04T19:29:58.880Z"
   },
   {
    "duration": 0,
    "start_time": "2022-09-04T19:29:58.882Z"
   },
   {
    "duration": 0,
    "start_time": "2022-09-04T19:29:58.883Z"
   },
   {
    "duration": 0,
    "start_time": "2022-09-04T19:29:58.885Z"
   },
   {
    "duration": 0,
    "start_time": "2022-09-04T19:29:58.886Z"
   },
   {
    "duration": 0,
    "start_time": "2022-09-04T19:29:58.904Z"
   },
   {
    "duration": 0,
    "start_time": "2022-09-04T19:29:58.905Z"
   },
   {
    "duration": 0,
    "start_time": "2022-09-04T19:29:58.907Z"
   },
   {
    "duration": 0,
    "start_time": "2022-09-04T19:29:58.909Z"
   },
   {
    "duration": 0,
    "start_time": "2022-09-04T19:29:58.910Z"
   },
   {
    "duration": 0,
    "start_time": "2022-09-04T19:29:58.912Z"
   },
   {
    "duration": 0,
    "start_time": "2022-09-04T19:29:58.913Z"
   },
   {
    "duration": 0,
    "start_time": "2022-09-04T19:29:58.914Z"
   },
   {
    "duration": 22,
    "start_time": "2022-09-04T19:30:11.231Z"
   },
   {
    "duration": 24,
    "start_time": "2022-09-04T19:30:27.039Z"
   },
   {
    "duration": 21,
    "start_time": "2022-09-04T19:30:37.781Z"
   },
   {
    "duration": 5,
    "start_time": "2022-09-04T19:30:55.601Z"
   },
   {
    "duration": 22,
    "start_time": "2022-09-04T19:30:57.981Z"
   },
   {
    "duration": 44,
    "start_time": "2022-09-04T19:31:14.437Z"
   },
   {
    "duration": 16,
    "start_time": "2022-09-04T19:31:18.500Z"
   },
   {
    "duration": 20,
    "start_time": "2022-09-04T19:31:57.469Z"
   },
   {
    "duration": 19,
    "start_time": "2022-09-04T19:32:01.676Z"
   },
   {
    "duration": 46,
    "start_time": "2022-09-04T19:32:37.811Z"
   },
   {
    "duration": 16,
    "start_time": "2022-09-04T19:33:01.081Z"
   },
   {
    "duration": 31,
    "start_time": "2022-09-04T19:33:53.028Z"
   },
   {
    "duration": 22,
    "start_time": "2022-09-04T19:34:04.875Z"
   },
   {
    "duration": 27,
    "start_time": "2022-09-04T19:34:14.395Z"
   },
   {
    "duration": 217,
    "start_time": "2022-09-04T19:34:25.740Z"
   },
   {
    "duration": 209,
    "start_time": "2022-09-04T19:34:44.330Z"
   },
   {
    "duration": 34,
    "start_time": "2022-09-04T19:34:48.738Z"
   },
   {
    "duration": 17,
    "start_time": "2022-09-04T19:34:55.634Z"
   },
   {
    "duration": 20,
    "start_time": "2022-09-04T19:35:02.678Z"
   },
   {
    "duration": 18,
    "start_time": "2022-09-04T19:35:24.086Z"
   },
   {
    "duration": 21,
    "start_time": "2022-09-04T19:35:36.157Z"
   },
   {
    "duration": 22,
    "start_time": "2022-09-04T19:35:42.467Z"
   },
   {
    "duration": 33,
    "start_time": "2022-09-04T19:35:46.432Z"
   },
   {
    "duration": 175,
    "start_time": "2022-09-04T19:35:55.691Z"
   },
   {
    "duration": 5,
    "start_time": "2022-09-04T19:36:10.591Z"
   },
   {
    "duration": 8,
    "start_time": "2022-09-04T19:36:12.998Z"
   },
   {
    "duration": 22,
    "start_time": "2022-09-04T19:36:25.156Z"
   },
   {
    "duration": 167,
    "start_time": "2022-09-04T19:36:50.063Z"
   },
   {
    "duration": 184,
    "start_time": "2022-09-04T19:37:10.707Z"
   },
   {
    "duration": 166,
    "start_time": "2022-09-04T19:37:14.614Z"
   },
   {
    "duration": 175,
    "start_time": "2022-09-04T19:37:22.071Z"
   },
   {
    "duration": 326,
    "start_time": "2022-09-04T19:37:36.728Z"
   },
   {
    "duration": 258,
    "start_time": "2022-09-04T19:37:41.922Z"
   },
   {
    "duration": 966,
    "start_time": "2022-09-04T19:37:49.379Z"
   },
   {
    "duration": 16,
    "start_time": "2022-09-04T19:39:15.620Z"
   },
   {
    "duration": 19,
    "start_time": "2022-09-04T19:39:42.701Z"
   },
   {
    "duration": 17,
    "start_time": "2022-09-04T19:41:03.170Z"
   },
   {
    "duration": 18,
    "start_time": "2022-09-04T19:41:09.526Z"
   },
   {
    "duration": 17,
    "start_time": "2022-09-04T19:41:43.549Z"
   },
   {
    "duration": 19,
    "start_time": "2022-09-04T19:42:04.150Z"
   },
   {
    "duration": 18,
    "start_time": "2022-09-04T19:42:15.804Z"
   },
   {
    "duration": 23,
    "start_time": "2022-09-04T19:42:34.398Z"
   },
   {
    "duration": 814,
    "start_time": "2022-09-04T19:42:50.080Z"
   },
   {
    "duration": 819,
    "start_time": "2022-09-04T19:42:55.176Z"
   },
   {
    "duration": 16,
    "start_time": "2022-09-04T19:43:07.713Z"
   },
   {
    "duration": 290,
    "start_time": "2022-09-04T19:44:05.122Z"
   },
   {
    "duration": 183,
    "start_time": "2022-09-04T19:44:13.619Z"
   },
   {
    "duration": 1769,
    "start_time": "2022-09-04T19:44:21.858Z"
   },
   {
    "duration": 18,
    "start_time": "2022-09-04T19:45:52.878Z"
   },
   {
    "duration": 12,
    "start_time": "2022-09-04T19:46:30.417Z"
   },
   {
    "duration": 13,
    "start_time": "2022-09-04T19:46:36.664Z"
   },
   {
    "duration": 21,
    "start_time": "2022-09-04T19:47:05.565Z"
   },
   {
    "duration": 22,
    "start_time": "2022-09-04T19:47:46.807Z"
   },
   {
    "duration": 10,
    "start_time": "2022-09-04T19:47:55.500Z"
   },
   {
    "duration": 19,
    "start_time": "2022-09-04T19:47:59.809Z"
   },
   {
    "duration": 12,
    "start_time": "2022-09-04T19:48:08.534Z"
   },
   {
    "duration": 11,
    "start_time": "2022-09-04T19:48:12.165Z"
   },
   {
    "duration": 17,
    "start_time": "2022-09-04T19:48:20.131Z"
   },
   {
    "duration": 20,
    "start_time": "2022-09-04T19:48:52.067Z"
   },
   {
    "duration": 229,
    "start_time": "2022-09-04T19:49:15.167Z"
   },
   {
    "duration": 19,
    "start_time": "2022-09-04T19:49:29.967Z"
   },
   {
    "duration": 222,
    "start_time": "2022-09-04T19:49:34.243Z"
   },
   {
    "duration": 20,
    "start_time": "2022-09-04T19:49:51.459Z"
   },
   {
    "duration": 243,
    "start_time": "2022-09-04T19:49:53.310Z"
   },
   {
    "duration": 11,
    "start_time": "2022-09-04T19:50:30.809Z"
   },
   {
    "duration": 227,
    "start_time": "2022-09-04T19:50:40.368Z"
   },
   {
    "duration": 326,
    "start_time": "2022-09-04T19:50:51.082Z"
   },
   {
    "duration": 218,
    "start_time": "2022-09-04T19:51:14.821Z"
   },
   {
    "duration": 1260,
    "start_time": "2022-09-04T19:51:29.009Z"
   },
   {
    "duration": 16,
    "start_time": "2022-09-04T19:51:30.271Z"
   },
   {
    "duration": 51,
    "start_time": "2022-09-04T19:51:30.289Z"
   },
   {
    "duration": 3,
    "start_time": "2022-09-04T19:51:30.342Z"
   },
   {
    "duration": 46,
    "start_time": "2022-09-04T19:51:30.347Z"
   },
   {
    "duration": 44,
    "start_time": "2022-09-04T19:51:30.395Z"
   },
   {
    "duration": 17,
    "start_time": "2022-09-04T19:51:30.440Z"
   },
   {
    "duration": 19,
    "start_time": "2022-09-04T19:51:30.459Z"
   },
   {
    "duration": 9,
    "start_time": "2022-09-04T19:51:30.480Z"
   },
   {
    "duration": 30,
    "start_time": "2022-09-04T19:51:30.504Z"
   },
   {
    "duration": 5,
    "start_time": "2022-09-04T19:51:30.536Z"
   },
   {
    "duration": 20,
    "start_time": "2022-09-04T19:51:30.542Z"
   },
   {
    "duration": 15,
    "start_time": "2022-09-04T19:51:30.564Z"
   },
   {
    "duration": 392,
    "start_time": "2022-09-04T19:51:30.582Z"
   },
   {
    "duration": 13,
    "start_time": "2022-09-04T19:51:30.976Z"
   },
   {
    "duration": 263,
    "start_time": "2022-09-04T19:51:30.991Z"
   },
   {
    "duration": 22,
    "start_time": "2022-09-04T19:51:31.256Z"
   },
   {
    "duration": 65,
    "start_time": "2022-09-04T19:51:31.280Z"
   },
   {
    "duration": 8,
    "start_time": "2022-09-04T19:51:31.347Z"
   },
   {
    "duration": 29,
    "start_time": "2022-09-04T19:51:31.356Z"
   },
   {
    "duration": 290,
    "start_time": "2022-09-04T19:51:31.387Z"
   },
   {
    "duration": 13,
    "start_time": "2022-09-04T19:51:31.679Z"
   },
   {
    "duration": 13,
    "start_time": "2022-09-04T19:51:31.693Z"
   },
   {
    "duration": 216,
    "start_time": "2022-09-04T19:51:31.707Z"
   },
   {
    "duration": 183,
    "start_time": "2022-09-04T19:51:31.925Z"
   },
   {
    "duration": 184,
    "start_time": "2022-09-04T19:51:32.110Z"
   },
   {
    "duration": 283,
    "start_time": "2022-09-04T19:51:32.296Z"
   },
   {
    "duration": 224,
    "start_time": "2022-09-04T19:51:32.581Z"
   },
   {
    "duration": 117,
    "start_time": "2022-09-04T19:51:32.807Z"
   },
   {
    "duration": 0,
    "start_time": "2022-09-04T19:51:32.926Z"
   },
   {
    "duration": 0,
    "start_time": "2022-09-04T19:51:32.927Z"
   },
   {
    "duration": 1,
    "start_time": "2022-09-04T19:51:32.928Z"
   },
   {
    "duration": 0,
    "start_time": "2022-09-04T19:51:32.930Z"
   },
   {
    "duration": 0,
    "start_time": "2022-09-04T19:51:32.931Z"
   },
   {
    "duration": 0,
    "start_time": "2022-09-04T19:51:32.932Z"
   },
   {
    "duration": 0,
    "start_time": "2022-09-04T19:51:32.934Z"
   },
   {
    "duration": 0,
    "start_time": "2022-09-04T19:51:32.935Z"
   },
   {
    "duration": 0,
    "start_time": "2022-09-04T19:51:32.936Z"
   },
   {
    "duration": 0,
    "start_time": "2022-09-04T19:51:32.937Z"
   },
   {
    "duration": 0,
    "start_time": "2022-09-04T19:51:32.938Z"
   },
   {
    "duration": 0,
    "start_time": "2022-09-04T19:51:32.939Z"
   },
   {
    "duration": 0,
    "start_time": "2022-09-04T19:51:32.940Z"
   },
   {
    "duration": 19,
    "start_time": "2022-09-04T19:53:10.495Z"
   },
   {
    "duration": 236,
    "start_time": "2022-09-04T19:53:12.503Z"
   },
   {
    "duration": 21,
    "start_time": "2022-09-04T19:55:24.117Z"
   },
   {
    "duration": 24,
    "start_time": "2022-09-04T19:55:42.360Z"
   },
   {
    "duration": 22,
    "start_time": "2022-09-04T19:55:54.163Z"
   },
   {
    "duration": 19,
    "start_time": "2022-09-04T19:56:38.515Z"
   },
   {
    "duration": 23,
    "start_time": "2022-09-04T19:56:44.180Z"
   },
   {
    "duration": 11,
    "start_time": "2022-09-04T19:56:50.355Z"
   },
   {
    "duration": 19,
    "start_time": "2022-09-04T19:57:22.314Z"
   },
   {
    "duration": 220,
    "start_time": "2022-09-04T19:57:44.485Z"
   },
   {
    "duration": 18,
    "start_time": "2022-09-04T19:58:36.476Z"
   },
   {
    "duration": 5,
    "start_time": "2022-09-04T19:59:04.780Z"
   },
   {
    "duration": 21,
    "start_time": "2022-09-04T19:59:16.031Z"
   },
   {
    "duration": 219,
    "start_time": "2022-09-04T19:59:32.105Z"
   },
   {
    "duration": 241,
    "start_time": "2022-09-04T19:59:54.499Z"
   },
   {
    "duration": 20,
    "start_time": "2022-09-04T19:59:57.704Z"
   },
   {
    "duration": 231,
    "start_time": "2022-09-04T19:59:59.658Z"
   },
   {
    "duration": 22,
    "start_time": "2022-09-04T20:00:02.323Z"
   },
   {
    "duration": 290,
    "start_time": "2022-09-04T20:00:04.237Z"
   },
   {
    "duration": 20,
    "start_time": "2022-09-04T20:00:10.035Z"
   },
   {
    "duration": 237,
    "start_time": "2022-09-04T20:00:11.890Z"
   },
   {
    "duration": 1255,
    "start_time": "2022-09-04T20:00:20.941Z"
   },
   {
    "duration": 19,
    "start_time": "2022-09-04T20:00:22.199Z"
   },
   {
    "duration": 36,
    "start_time": "2022-09-04T20:00:22.220Z"
   },
   {
    "duration": 4,
    "start_time": "2022-09-04T20:00:22.258Z"
   },
   {
    "duration": 43,
    "start_time": "2022-09-04T20:00:22.264Z"
   },
   {
    "duration": 35,
    "start_time": "2022-09-04T20:00:22.309Z"
   },
   {
    "duration": 15,
    "start_time": "2022-09-04T20:00:22.345Z"
   },
   {
    "duration": 48,
    "start_time": "2022-09-04T20:00:22.362Z"
   },
   {
    "duration": 8,
    "start_time": "2022-09-04T20:00:22.412Z"
   },
   {
    "duration": 38,
    "start_time": "2022-09-04T20:00:22.422Z"
   },
   {
    "duration": 5,
    "start_time": "2022-09-04T20:00:22.462Z"
   },
   {
    "duration": 46,
    "start_time": "2022-09-04T20:00:22.469Z"
   },
   {
    "duration": 9,
    "start_time": "2022-09-04T20:00:22.516Z"
   },
   {
    "duration": 387,
    "start_time": "2022-09-04T20:00:22.529Z"
   },
   {
    "duration": 18,
    "start_time": "2022-09-04T20:00:22.918Z"
   },
   {
    "duration": 325,
    "start_time": "2022-09-04T20:00:22.939Z"
   },
   {
    "duration": 39,
    "start_time": "2022-09-04T20:00:23.266Z"
   },
   {
    "duration": 49,
    "start_time": "2022-09-04T20:00:23.306Z"
   },
   {
    "duration": 9,
    "start_time": "2022-09-04T20:00:23.357Z"
   },
   {
    "duration": 37,
    "start_time": "2022-09-04T20:00:23.368Z"
   },
   {
    "duration": 310,
    "start_time": "2022-09-04T20:00:23.407Z"
   },
   {
    "duration": 14,
    "start_time": "2022-09-04T20:00:23.719Z"
   },
   {
    "duration": 4,
    "start_time": "2022-09-04T20:00:23.736Z"
   },
   {
    "duration": 269,
    "start_time": "2022-09-04T20:00:23.742Z"
   },
   {
    "duration": 184,
    "start_time": "2022-09-04T20:00:24.013Z"
   },
   {
    "duration": 195,
    "start_time": "2022-09-04T20:00:24.199Z"
   },
   {
    "duration": 309,
    "start_time": "2022-09-04T20:00:24.396Z"
   },
   {
    "duration": 238,
    "start_time": "2022-09-04T20:00:24.707Z"
   },
   {
    "duration": 21,
    "start_time": "2022-09-04T20:00:24.947Z"
   },
   {
    "duration": 252,
    "start_time": "2022-09-04T20:00:24.970Z"
   },
   {
    "duration": 20,
    "start_time": "2022-09-04T20:00:25.224Z"
   },
   {
    "duration": 241,
    "start_time": "2022-09-04T20:00:25.245Z"
   },
   {
    "duration": 31,
    "start_time": "2022-09-04T20:00:25.488Z"
   },
   {
    "duration": 307,
    "start_time": "2022-09-04T20:00:25.521Z"
   },
   {
    "duration": 20,
    "start_time": "2022-09-04T20:00:25.830Z"
   },
   {
    "duration": 274,
    "start_time": "2022-09-04T20:00:25.852Z"
   },
   {
    "duration": 20,
    "start_time": "2022-09-04T20:00:26.128Z"
   },
   {
    "duration": 352,
    "start_time": "2022-09-04T20:00:26.151Z"
   },
   {
    "duration": 20,
    "start_time": "2022-09-04T20:00:26.505Z"
   },
   {
    "duration": 266,
    "start_time": "2022-09-04T20:00:26.528Z"
   },
   {
    "duration": 14,
    "start_time": "2022-09-04T20:00:26.805Z"
   },
   {
    "duration": 9,
    "start_time": "2022-09-04T20:00:26.821Z"
   },
   {
    "duration": 24,
    "start_time": "2022-09-04T20:00:26.832Z"
   },
   {
    "duration": 53,
    "start_time": "2022-09-04T20:00:26.858Z"
   },
   {
    "duration": 1392,
    "start_time": "2022-09-04T20:10:02.427Z"
   },
   {
    "duration": 16,
    "start_time": "2022-09-04T20:10:03.821Z"
   },
   {
    "duration": 35,
    "start_time": "2022-09-04T20:10:03.839Z"
   },
   {
    "duration": 4,
    "start_time": "2022-09-04T20:10:03.886Z"
   },
   {
    "duration": 35,
    "start_time": "2022-09-04T20:10:03.892Z"
   },
   {
    "duration": 45,
    "start_time": "2022-09-04T20:10:03.929Z"
   },
   {
    "duration": 22,
    "start_time": "2022-09-04T20:10:03.976Z"
   },
   {
    "duration": 19,
    "start_time": "2022-09-04T20:10:04.000Z"
   },
   {
    "duration": 19,
    "start_time": "2022-09-04T20:10:04.021Z"
   },
   {
    "duration": 28,
    "start_time": "2022-09-04T20:10:04.042Z"
   },
   {
    "duration": 15,
    "start_time": "2022-09-04T20:10:04.071Z"
   },
   {
    "duration": 24,
    "start_time": "2022-09-04T20:10:04.088Z"
   },
   {
    "duration": 17,
    "start_time": "2022-09-04T20:10:04.114Z"
   },
   {
    "duration": 350,
    "start_time": "2022-09-04T20:10:04.132Z"
   },
   {
    "duration": 12,
    "start_time": "2022-09-04T20:10:04.486Z"
   },
   {
    "duration": 272,
    "start_time": "2022-09-04T20:10:04.500Z"
   },
   {
    "duration": 26,
    "start_time": "2022-09-04T20:10:04.774Z"
   },
   {
    "duration": 44,
    "start_time": "2022-09-04T20:10:04.802Z"
   },
   {
    "duration": 8,
    "start_time": "2022-09-04T20:10:04.847Z"
   },
   {
    "duration": 33,
    "start_time": "2022-09-04T20:10:04.856Z"
   },
   {
    "duration": 266,
    "start_time": "2022-09-04T20:10:04.891Z"
   },
   {
    "duration": 12,
    "start_time": "2022-09-04T20:10:05.158Z"
   },
   {
    "duration": 18,
    "start_time": "2022-09-04T20:10:05.171Z"
   },
   {
    "duration": 193,
    "start_time": "2022-09-04T20:10:05.190Z"
   },
   {
    "duration": 164,
    "start_time": "2022-09-04T20:10:05.384Z"
   },
   {
    "duration": 172,
    "start_time": "2022-09-04T20:10:05.550Z"
   },
   {
    "duration": 239,
    "start_time": "2022-09-04T20:10:05.723Z"
   },
   {
    "duration": 211,
    "start_time": "2022-09-04T20:10:05.965Z"
   },
   {
    "duration": 30,
    "start_time": "2022-09-04T20:10:06.178Z"
   },
   {
    "duration": 282,
    "start_time": "2022-09-04T20:10:06.210Z"
   },
   {
    "duration": 22,
    "start_time": "2022-09-04T20:10:06.494Z"
   },
   {
    "duration": 237,
    "start_time": "2022-09-04T20:10:06.518Z"
   },
   {
    "duration": 18,
    "start_time": "2022-09-04T20:10:06.756Z"
   },
   {
    "duration": 207,
    "start_time": "2022-09-04T20:10:06.787Z"
   },
   {
    "duration": 18,
    "start_time": "2022-09-04T20:10:06.996Z"
   },
   {
    "duration": 220,
    "start_time": "2022-09-04T20:10:07.015Z"
   },
   {
    "duration": 18,
    "start_time": "2022-09-04T20:10:07.236Z"
   },
   {
    "duration": 220,
    "start_time": "2022-09-04T20:10:07.256Z"
   },
   {
    "duration": 23,
    "start_time": "2022-09-04T20:10:07.477Z"
   },
   {
    "duration": 231,
    "start_time": "2022-09-04T20:10:07.502Z"
   },
   {
    "duration": 14,
    "start_time": "2022-09-04T20:10:07.735Z"
   },
   {
    "duration": 8,
    "start_time": "2022-09-04T20:10:07.750Z"
   },
   {
    "duration": 28,
    "start_time": "2022-09-04T20:10:07.759Z"
   },
   {
    "duration": 14,
    "start_time": "2022-09-04T20:10:07.788Z"
   }
  ],
  "kernelspec": {
   "display_name": "Python 3 (ipykernel)",
   "language": "python",
   "name": "python3"
  },
  "language_info": {
   "codemirror_mode": {
    "name": "ipython",
    "version": 3
   },
   "file_extension": ".py",
   "mimetype": "text/x-python",
   "name": "python",
   "nbconvert_exporter": "python",
   "pygments_lexer": "ipython3",
   "version": "3.9.5"
  },
  "toc": {
   "base_numbering": 1,
   "nav_menu": {},
   "number_sections": true,
   "sideBar": true,
   "skip_h1_title": true,
   "title_cell": "Table of Contents",
   "title_sidebar": "Contents",
   "toc_cell": false,
   "toc_position": {},
   "toc_section_display": true,
   "toc_window_display": false
  }
 },
 "nbformat": 4,
 "nbformat_minor": 2
}
