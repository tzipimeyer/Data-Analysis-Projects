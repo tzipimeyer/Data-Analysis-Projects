{
 "cells": [
  {
   "cell_type": "markdown",
   "metadata": {},
   "source": [
    "# Final Project - A/B Testing\n",
    "You've received an analytical task from an international online store. Your predecessor failed to complete it: they launched an A/B test and then quit (to start a watermelon farm in Brazil). They left only the technical specifications and the test results.\n",
    "\n",
    "- Expected result: within 14 days of signing up, users will show better conversion into product page views (the product_page event), instances of adding items to the shopping cart (product_cart), and purchases (purchase). At each stage of the funnel product_page → product_cart → purchase, there will be at least a 10% increase.\n",
    "\n",
    "- Purpose of the test: testing changes related to the introduction of an improved recommendation system"
   ]
  },
  {
   "cell_type": "markdown",
   "metadata": {},
   "source": [
    "### Explore the data"
   ]
  },
  {
   "cell_type": "code",
   "execution_count": 1,
   "metadata": {},
   "outputs": [],
   "source": [
    "import pandas as pd\n",
    "import scipy.stats as st\n",
    "import datetime as dt\n",
    "import numpy as np\n",
    "import matplotlib.pyplot as plt\n",
    "import plotly.graph_objects as go\n",
    "import plotly.express as px\n",
    "import seaborn as sns\n",
    "import math as mth\n",
    "\n",
    "\n"
   ]
  },
  {
   "cell_type": "code",
   "execution_count": 2,
   "metadata": {},
   "outputs": [],
   "source": [
    "try:\n",
    "    marketing = pd.read_csv('/datasets/ab_project_marketing_events_us.csv') \n",
    "except:\n",
    "    marketing = pd.read_csv('/Users/tzipimeyer/Documents/Final Project/ab_project_marketing_events_us.csv')"
   ]
  },
  {
   "cell_type": "code",
   "execution_count": 3,
   "metadata": {},
   "outputs": [
    {
     "name": "stdout",
     "output_type": "stream",
     "text": [
      "<class 'pandas.core.frame.DataFrame'>\n",
      "RangeIndex: 14 entries, 0 to 13\n",
      "Data columns (total 4 columns):\n",
      " #   Column     Non-Null Count  Dtype \n",
      "---  ------     --------------  ----- \n",
      " 0   name       14 non-null     object\n",
      " 1   regions    14 non-null     object\n",
      " 2   start_dt   14 non-null     object\n",
      " 3   finish_dt  14 non-null     object\n",
      "dtypes: object(4)\n",
      "memory usage: 576.0+ bytes\n"
     ]
    }
   ],
   "source": [
    "marketing.info()"
   ]
  },
  {
   "cell_type": "code",
   "execution_count": 4,
   "metadata": {},
   "outputs": [],
   "source": [
    "marketing['start_dt'] = pd.to_datetime(marketing['start_dt'])\n",
    "marketing['finish_dt'] = pd.to_datetime(marketing['finish_dt'])\n",
    "marketing = marketing.sort_values(by='start_dt')"
   ]
  },
  {
   "cell_type": "code",
   "execution_count": null,
   "metadata": {},
   "outputs": [],
   "source": []
  },
  {
   "cell_type": "code",
   "execution_count": 5,
   "metadata": {},
   "outputs": [],
   "source": [
    "try:\n",
    "    users = pd.read_csv('/datasets/final_ab_new_users_upd_us.csv')\n",
    "except:\n",
    "    users = pd.read_csv('/Users/tzipimeyer/Documents/Final Project/final_ab_new_users_upd_us.csv')"
   ]
  },
  {
   "cell_type": "code",
   "execution_count": 6,
   "metadata": {},
   "outputs": [],
   "source": [
    "users['first_date'] = pd.to_datetime(users['first_date'])"
   ]
  },
  {
   "cell_type": "code",
   "execution_count": 7,
   "metadata": {},
   "outputs": [
    {
     "data": {
      "text/html": [
       "<div>\n",
       "<style scoped>\n",
       "    .dataframe tbody tr th:only-of-type {\n",
       "        vertical-align: middle;\n",
       "    }\n",
       "\n",
       "    .dataframe tbody tr th {\n",
       "        vertical-align: top;\n",
       "    }\n",
       "\n",
       "    .dataframe thead th {\n",
       "        text-align: right;\n",
       "    }\n",
       "</style>\n",
       "<table border=\"1\" class=\"dataframe\">\n",
       "  <thead>\n",
       "    <tr style=\"text-align: right;\">\n",
       "      <th></th>\n",
       "      <th>user_id</th>\n",
       "      <th>first_date</th>\n",
       "      <th>region</th>\n",
       "      <th>device</th>\n",
       "    </tr>\n",
       "  </thead>\n",
       "  <tbody>\n",
       "    <tr>\n",
       "      <th>0</th>\n",
       "      <td>D72A72121175D8BE</td>\n",
       "      <td>2020-12-07</td>\n",
       "      <td>EU</td>\n",
       "      <td>PC</td>\n",
       "    </tr>\n",
       "    <tr>\n",
       "      <th>1</th>\n",
       "      <td>F1C668619DFE6E65</td>\n",
       "      <td>2020-12-07</td>\n",
       "      <td>N.America</td>\n",
       "      <td>Android</td>\n",
       "    </tr>\n",
       "    <tr>\n",
       "      <th>2</th>\n",
       "      <td>2E1BF1D4C37EA01F</td>\n",
       "      <td>2020-12-07</td>\n",
       "      <td>EU</td>\n",
       "      <td>PC</td>\n",
       "    </tr>\n",
       "    <tr>\n",
       "      <th>3</th>\n",
       "      <td>50734A22C0C63768</td>\n",
       "      <td>2020-12-07</td>\n",
       "      <td>EU</td>\n",
       "      <td>iPhone</td>\n",
       "    </tr>\n",
       "    <tr>\n",
       "      <th>4</th>\n",
       "      <td>E1BDDCE0DAFA2679</td>\n",
       "      <td>2020-12-07</td>\n",
       "      <td>N.America</td>\n",
       "      <td>iPhone</td>\n",
       "    </tr>\n",
       "  </tbody>\n",
       "</table>\n",
       "</div>"
      ],
      "text/plain": [
       "            user_id first_date     region   device\n",
       "0  D72A72121175D8BE 2020-12-07         EU       PC\n",
       "1  F1C668619DFE6E65 2020-12-07  N.America  Android\n",
       "2  2E1BF1D4C37EA01F 2020-12-07         EU       PC\n",
       "3  50734A22C0C63768 2020-12-07         EU   iPhone\n",
       "4  E1BDDCE0DAFA2679 2020-12-07  N.America   iPhone"
      ]
     },
     "execution_count": 7,
     "metadata": {},
     "output_type": "execute_result"
    }
   ],
   "source": [
    "users.head()"
   ]
  },
  {
   "cell_type": "code",
   "execution_count": 8,
   "metadata": {},
   "outputs": [
    {
     "data": {
      "text/plain": [
       "0"
      ]
     },
     "execution_count": 8,
     "metadata": {},
     "output_type": "execute_result"
    }
   ],
   "source": [
    "users.duplicated().sum()"
   ]
  },
  {
   "cell_type": "code",
   "execution_count": 9,
   "metadata": {},
   "outputs": [
    {
     "name": "stdout",
     "output_type": "stream",
     "text": [
      "<class 'pandas.core.frame.DataFrame'>\n",
      "RangeIndex: 58703 entries, 0 to 58702\n",
      "Data columns (total 4 columns):\n",
      " #   Column      Non-Null Count  Dtype         \n",
      "---  ------      --------------  -----         \n",
      " 0   user_id     58703 non-null  object        \n",
      " 1   first_date  58703 non-null  datetime64[ns]\n",
      " 2   region      58703 non-null  object        \n",
      " 3   device      58703 non-null  object        \n",
      "dtypes: datetime64[ns](1), object(3)\n",
      "memory usage: 1.8+ MB\n"
     ]
    }
   ],
   "source": [
    "users.info()"
   ]
  },
  {
   "cell_type": "code",
   "execution_count": 10,
   "metadata": {},
   "outputs": [],
   "source": [
    "try:\n",
    "    events = pd.read_csv('/datasets/final_ab_events_upd_us.csv')\n",
    "except:\n",
    "    events = pd.read_csv('/Users/tzipimeyer/Documents/Final Project/final_ab_events_upd_us.csv')"
   ]
  },
  {
   "cell_type": "code",
   "execution_count": 11,
   "metadata": {},
   "outputs": [],
   "source": [
    "events['event_dt'] = pd.to_datetime(events['event_dt'])\n",
    "events['event_date'] = pd.DatetimeIndex(events['event_dt']).date"
   ]
  },
  {
   "cell_type": "code",
   "execution_count": 12,
   "metadata": {},
   "outputs": [
    {
     "data": {
      "text/html": [
       "<div>\n",
       "<style scoped>\n",
       "    .dataframe tbody tr th:only-of-type {\n",
       "        vertical-align: middle;\n",
       "    }\n",
       "\n",
       "    .dataframe tbody tr th {\n",
       "        vertical-align: top;\n",
       "    }\n",
       "\n",
       "    .dataframe thead th {\n",
       "        text-align: right;\n",
       "    }\n",
       "</style>\n",
       "<table border=\"1\" class=\"dataframe\">\n",
       "  <thead>\n",
       "    <tr style=\"text-align: right;\">\n",
       "      <th></th>\n",
       "      <th>user_id</th>\n",
       "      <th>event_dt</th>\n",
       "      <th>event_name</th>\n",
       "      <th>details</th>\n",
       "      <th>event_date</th>\n",
       "    </tr>\n",
       "  </thead>\n",
       "  <tbody>\n",
       "    <tr>\n",
       "      <th>0</th>\n",
       "      <td>E1BDDCE0DAFA2679</td>\n",
       "      <td>2020-12-07 20:22:03</td>\n",
       "      <td>purchase</td>\n",
       "      <td>99.99</td>\n",
       "      <td>2020-12-07</td>\n",
       "    </tr>\n",
       "    <tr>\n",
       "      <th>1</th>\n",
       "      <td>7B6452F081F49504</td>\n",
       "      <td>2020-12-07 09:22:53</td>\n",
       "      <td>purchase</td>\n",
       "      <td>9.99</td>\n",
       "      <td>2020-12-07</td>\n",
       "    </tr>\n",
       "    <tr>\n",
       "      <th>2</th>\n",
       "      <td>9CD9F34546DF254C</td>\n",
       "      <td>2020-12-07 12:59:29</td>\n",
       "      <td>purchase</td>\n",
       "      <td>4.99</td>\n",
       "      <td>2020-12-07</td>\n",
       "    </tr>\n",
       "    <tr>\n",
       "      <th>3</th>\n",
       "      <td>96F27A054B191457</td>\n",
       "      <td>2020-12-07 04:02:40</td>\n",
       "      <td>purchase</td>\n",
       "      <td>4.99</td>\n",
       "      <td>2020-12-07</td>\n",
       "    </tr>\n",
       "    <tr>\n",
       "      <th>4</th>\n",
       "      <td>1FD7660FDF94CA1F</td>\n",
       "      <td>2020-12-07 10:15:09</td>\n",
       "      <td>purchase</td>\n",
       "      <td>4.99</td>\n",
       "      <td>2020-12-07</td>\n",
       "    </tr>\n",
       "  </tbody>\n",
       "</table>\n",
       "</div>"
      ],
      "text/plain": [
       "            user_id            event_dt event_name  details  event_date\n",
       "0  E1BDDCE0DAFA2679 2020-12-07 20:22:03   purchase    99.99  2020-12-07\n",
       "1  7B6452F081F49504 2020-12-07 09:22:53   purchase     9.99  2020-12-07\n",
       "2  9CD9F34546DF254C 2020-12-07 12:59:29   purchase     4.99  2020-12-07\n",
       "3  96F27A054B191457 2020-12-07 04:02:40   purchase     4.99  2020-12-07\n",
       "4  1FD7660FDF94CA1F 2020-12-07 10:15:09   purchase     4.99  2020-12-07"
      ]
     },
     "execution_count": 12,
     "metadata": {},
     "output_type": "execute_result"
    }
   ],
   "source": [
    "events.head()"
   ]
  },
  {
   "cell_type": "code",
   "execution_count": 13,
   "metadata": {},
   "outputs": [
    {
     "name": "stdout",
     "output_type": "stream",
     "text": [
      "<class 'pandas.core.frame.DataFrame'>\n",
      "RangeIndex: 423761 entries, 0 to 423760\n",
      "Data columns (total 5 columns):\n",
      " #   Column      Non-Null Count   Dtype         \n",
      "---  ------      --------------   -----         \n",
      " 0   user_id     423761 non-null  object        \n",
      " 1   event_dt    423761 non-null  datetime64[ns]\n",
      " 2   event_name  423761 non-null  object        \n",
      " 3   details     60314 non-null   float64       \n",
      " 4   event_date  423761 non-null  object        \n",
      "dtypes: datetime64[ns](1), float64(1), object(3)\n",
      "memory usage: 16.2+ MB\n"
     ]
    }
   ],
   "source": [
    "events.info()"
   ]
  },
  {
   "cell_type": "code",
   "execution_count": 14,
   "metadata": {},
   "outputs": [
    {
     "data": {
      "text/plain": [
       "0"
      ]
     },
     "execution_count": 14,
     "metadata": {},
     "output_type": "execute_result"
    }
   ],
   "source": [
    "events.duplicated().sum()"
   ]
  },
  {
   "cell_type": "code",
   "execution_count": 15,
   "metadata": {},
   "outputs": [
    {
     "data": {
      "text/plain": [
       "4.99      44579\n",
       "9.99       9158\n",
       "99.99      5405\n",
       "499.99     1172\n",
       "Name: details, dtype: int64"
      ]
     },
     "execution_count": 15,
     "metadata": {},
     "output_type": "execute_result"
    }
   ],
   "source": [
    "events['details'].value_counts()"
   ]
  },
  {
   "cell_type": "code",
   "execution_count": 16,
   "metadata": {},
   "outputs": [
    {
     "data": {
      "text/plain": [
       "363447"
      ]
     },
     "execution_count": 16,
     "metadata": {},
     "output_type": "execute_result"
    }
   ],
   "source": [
    "# Studying amount of missing values in 'details' column\n",
    "\n",
    "events['details'].isna().sum()"
   ]
  },
  {
   "cell_type": "code",
   "execution_count": 17,
   "metadata": {},
   "outputs": [
    {
     "data": {
      "text/html": [
       "<div>\n",
       "<style scoped>\n",
       "    .dataframe tbody tr th:only-of-type {\n",
       "        vertical-align: middle;\n",
       "    }\n",
       "\n",
       "    .dataframe tbody tr th {\n",
       "        vertical-align: top;\n",
       "    }\n",
       "\n",
       "    .dataframe thead th {\n",
       "        text-align: right;\n",
       "    }\n",
       "</style>\n",
       "<table border=\"1\" class=\"dataframe\">\n",
       "  <thead>\n",
       "    <tr style=\"text-align: right;\">\n",
       "      <th></th>\n",
       "      <th>user_id</th>\n",
       "      <th>event_dt</th>\n",
       "      <th>event_name</th>\n",
       "      <th>details</th>\n",
       "      <th>event_date</th>\n",
       "    </tr>\n",
       "  </thead>\n",
       "  <tbody>\n",
       "  </tbody>\n",
       "</table>\n",
       "</div>"
      ],
      "text/plain": [
       "Empty DataFrame\n",
       "Columns: [user_id, event_dt, event_name, details, event_date]\n",
       "Index: []"
      ]
     },
     "execution_count": 17,
     "metadata": {},
     "output_type": "execute_result"
    }
   ],
   "source": [
    "events[(events['details'].isna()) & (events['event_name']=='purchase')]"
   ]
  },
  {
   "cell_type": "markdown",
   "metadata": {},
   "source": [
    "It seems the missing values in events are only present on events that are not purchases, which makes sense, since this column has the order total in USD for purchase events"
   ]
  },
  {
   "cell_type": "code",
   "execution_count": 18,
   "metadata": {},
   "outputs": [],
   "source": [
    "try:\n",
    "    participants = pd.read_csv('/datasets/final_ab_participants_upd_us.csv')\n",
    "except:\n",
    "    participants = pd.read_csv('/Users/tzipimeyer/Documents/Final Project/final_ab_participants_upd_us.csv')"
   ]
  },
  {
   "cell_type": "code",
   "execution_count": 19,
   "metadata": {},
   "outputs": [
    {
     "name": "stdout",
     "output_type": "stream",
     "text": [
      "<class 'pandas.core.frame.DataFrame'>\n",
      "RangeIndex: 14525 entries, 0 to 14524\n",
      "Data columns (total 3 columns):\n",
      " #   Column   Non-Null Count  Dtype \n",
      "---  ------   --------------  ----- \n",
      " 0   user_id  14525 non-null  object\n",
      " 1   group    14525 non-null  object\n",
      " 2   ab_test  14525 non-null  object\n",
      "dtypes: object(3)\n",
      "memory usage: 340.6+ KB\n"
     ]
    }
   ],
   "source": [
    "participants.info()"
   ]
  },
  {
   "cell_type": "code",
   "execution_count": 20,
   "metadata": {},
   "outputs": [
    {
     "data": {
      "text/plain": [
       "0"
      ]
     },
     "execution_count": 20,
     "metadata": {},
     "output_type": "execute_result"
    }
   ],
   "source": [
    "participants.duplicated().sum()\n"
   ]
  },
  {
   "cell_type": "markdown",
   "metadata": {},
   "source": [
    "### Exploratory Data Analysis"
   ]
  },
  {
   "cell_type": "code",
   "execution_count": 21,
   "metadata": {},
   "outputs": [
    {
     "data": {
      "text/plain": [
       "Timestamp('2020-12-23 00:00:00')"
      ]
     },
     "execution_count": 21,
     "metadata": {},
     "output_type": "execute_result"
    }
   ],
   "source": [
    "# Study min and max dates of events\n",
    "\n",
    "users['first_date'].max()"
   ]
  },
  {
   "cell_type": "code",
   "execution_count": 22,
   "metadata": {},
   "outputs": [
    {
     "data": {
      "text/html": [
       "<div>\n",
       "<style scoped>\n",
       "    .dataframe tbody tr th:only-of-type {\n",
       "        vertical-align: middle;\n",
       "    }\n",
       "\n",
       "    .dataframe tbody tr th {\n",
       "        vertical-align: top;\n",
       "    }\n",
       "\n",
       "    .dataframe thead th {\n",
       "        text-align: right;\n",
       "    }\n",
       "</style>\n",
       "<table border=\"1\" class=\"dataframe\">\n",
       "  <thead>\n",
       "    <tr style=\"text-align: right;\">\n",
       "      <th></th>\n",
       "      <th>user_id</th>\n",
       "      <th>first_date</th>\n",
       "      <th>region</th>\n",
       "      <th>device</th>\n",
       "    </tr>\n",
       "  </thead>\n",
       "  <tbody>\n",
       "    <tr>\n",
       "      <th>22757</th>\n",
       "      <td>5815F7ECE74D949F</td>\n",
       "      <td>2020-12-22</td>\n",
       "      <td>CIS</td>\n",
       "      <td>PC</td>\n",
       "    </tr>\n",
       "    <tr>\n",
       "      <th>22758</th>\n",
       "      <td>32EAEA5E903E3BC1</td>\n",
       "      <td>2020-12-22</td>\n",
       "      <td>N.America</td>\n",
       "      <td>Android</td>\n",
       "    </tr>\n",
       "    <tr>\n",
       "      <th>22759</th>\n",
       "      <td>9DF7A3C46487EF0B</td>\n",
       "      <td>2020-12-22</td>\n",
       "      <td>EU</td>\n",
       "      <td>Android</td>\n",
       "    </tr>\n",
       "    <tr>\n",
       "      <th>22760</th>\n",
       "      <td>ADE98C6440423287</td>\n",
       "      <td>2020-12-22</td>\n",
       "      <td>EU</td>\n",
       "      <td>iPhone</td>\n",
       "    </tr>\n",
       "    <tr>\n",
       "      <th>22761</th>\n",
       "      <td>5A5833D3AEA75255</td>\n",
       "      <td>2020-12-22</td>\n",
       "      <td>N.America</td>\n",
       "      <td>PC</td>\n",
       "    </tr>\n",
       "    <tr>\n",
       "      <th>...</th>\n",
       "      <td>...</td>\n",
       "      <td>...</td>\n",
       "      <td>...</td>\n",
       "      <td>...</td>\n",
       "    </tr>\n",
       "    <tr>\n",
       "      <th>32118</th>\n",
       "      <td>165AFCBF42C043F8</td>\n",
       "      <td>2020-12-23</td>\n",
       "      <td>EU</td>\n",
       "      <td>PC</td>\n",
       "    </tr>\n",
       "    <tr>\n",
       "      <th>32119</th>\n",
       "      <td>54E7F36C0E976E24</td>\n",
       "      <td>2020-12-23</td>\n",
       "      <td>EU</td>\n",
       "      <td>Android</td>\n",
       "    </tr>\n",
       "    <tr>\n",
       "      <th>32120</th>\n",
       "      <td>7E43EB2E03A33E78</td>\n",
       "      <td>2020-12-23</td>\n",
       "      <td>EU</td>\n",
       "      <td>PC</td>\n",
       "    </tr>\n",
       "    <tr>\n",
       "      <th>32121</th>\n",
       "      <td>B8B679DEE9F2CA06</td>\n",
       "      <td>2020-12-23</td>\n",
       "      <td>EU</td>\n",
       "      <td>PC</td>\n",
       "    </tr>\n",
       "    <tr>\n",
       "      <th>32122</th>\n",
       "      <td>BE595EE3E9D59FB9</td>\n",
       "      <td>2020-12-23</td>\n",
       "      <td>EU</td>\n",
       "      <td>PC</td>\n",
       "    </tr>\n",
       "  </tbody>\n",
       "</table>\n",
       "<p>5263 rows × 4 columns</p>\n",
       "</div>"
      ],
      "text/plain": [
       "                user_id first_date     region   device\n",
       "22757  5815F7ECE74D949F 2020-12-22        CIS       PC\n",
       "22758  32EAEA5E903E3BC1 2020-12-22  N.America  Android\n",
       "22759  9DF7A3C46487EF0B 2020-12-22         EU  Android\n",
       "22760  ADE98C6440423287 2020-12-22         EU   iPhone\n",
       "22761  5A5833D3AEA75255 2020-12-22  N.America       PC\n",
       "...                 ...        ...        ...      ...\n",
       "32118  165AFCBF42C043F8 2020-12-23         EU       PC\n",
       "32119  54E7F36C0E976E24 2020-12-23         EU  Android\n",
       "32120  7E43EB2E03A33E78 2020-12-23         EU       PC\n",
       "32121  B8B679DEE9F2CA06 2020-12-23         EU       PC\n",
       "32122  BE595EE3E9D59FB9 2020-12-23         EU       PC\n",
       "\n",
       "[5263 rows x 4 columns]"
      ]
     },
     "execution_count": 22,
     "metadata": {},
     "output_type": "execute_result"
    }
   ],
   "source": [
    "late_users = users[users['first_date']>'2020-12-21']\n",
    "late_users"
   ]
  },
  {
   "cell_type": "code",
   "execution_count": 23,
   "metadata": {},
   "outputs": [
    {
     "data": {
      "text/plain": [
       "0       False\n",
       "1       False\n",
       "2       False\n",
       "3       False\n",
       "4       False\n",
       "        ...  \n",
       "3670    False\n",
       "3671    False\n",
       "3672    False\n",
       "3673    False\n",
       "3674    False\n",
       "Name: user_id, Length: 3675, dtype: bool"
      ]
     },
     "execution_count": 23,
     "metadata": {},
     "output_type": "execute_result"
    }
   ],
   "source": [
    "participants[participants['ab_test']=='recommender_system_test']['user_id'].isin(late_users['user_id'])"
   ]
  },
  {
   "cell_type": "markdown",
   "metadata": {},
   "source": [
    "- The supposed date when they stopped taking up new users was 2020-12-21, but the max first_date is 2020-12-23. \n",
    "- Fortunately, none of these user_id's became participants of the test!\n"
   ]
  },
  {
   "cell_type": "code",
   "execution_count": 24,
   "metadata": {},
   "outputs": [
    {
     "data": {
      "text/html": [
       "<div>\n",
       "<style scoped>\n",
       "    .dataframe tbody tr th:only-of-type {\n",
       "        vertical-align: middle;\n",
       "    }\n",
       "\n",
       "    .dataframe tbody tr th {\n",
       "        vertical-align: top;\n",
       "    }\n",
       "\n",
       "    .dataframe thead th {\n",
       "        text-align: right;\n",
       "    }\n",
       "</style>\n",
       "<table border=\"1\" class=\"dataframe\">\n",
       "  <thead>\n",
       "    <tr style=\"text-align: right;\">\n",
       "      <th></th>\n",
       "      <th>group</th>\n",
       "      <th>ab_test</th>\n",
       "      <th>user_id</th>\n",
       "    </tr>\n",
       "  </thead>\n",
       "  <tbody>\n",
       "    <tr>\n",
       "      <th>0</th>\n",
       "      <td>A</td>\n",
       "      <td>interface_eu_test</td>\n",
       "      <td>5467</td>\n",
       "    </tr>\n",
       "    <tr>\n",
       "      <th>2</th>\n",
       "      <td>B</td>\n",
       "      <td>interface_eu_test</td>\n",
       "      <td>5383</td>\n",
       "    </tr>\n",
       "    <tr>\n",
       "      <th>1</th>\n",
       "      <td>A</td>\n",
       "      <td>recommender_system_test</td>\n",
       "      <td>2747</td>\n",
       "    </tr>\n",
       "    <tr>\n",
       "      <th>3</th>\n",
       "      <td>B</td>\n",
       "      <td>recommender_system_test</td>\n",
       "      <td>928</td>\n",
       "    </tr>\n",
       "  </tbody>\n",
       "</table>\n",
       "</div>"
      ],
      "text/plain": [
       "  group                  ab_test  user_id\n",
       "0     A        interface_eu_test     5467\n",
       "2     B        interface_eu_test     5383\n",
       "1     A  recommender_system_test     2747\n",
       "3     B  recommender_system_test      928"
      ]
     },
     "execution_count": 24,
     "metadata": {},
     "output_type": "execute_result"
    }
   ],
   "source": [
    "#Checking amount of unique users and proportions of A/B groups from both tests\n",
    "\n",
    "participants.groupby(['group', 'ab_test'])['user_id'].nunique().reset_index().sort_values(by='ab_test')"
   ]
  },
  {
   "cell_type": "code",
   "execution_count": 25,
   "metadata": {},
   "outputs": [
    {
     "data": {
      "text/html": [
       "<div>\n",
       "<style scoped>\n",
       "    .dataframe tbody tr th:only-of-type {\n",
       "        vertical-align: middle;\n",
       "    }\n",
       "\n",
       "    .dataframe tbody tr th {\n",
       "        vertical-align: top;\n",
       "    }\n",
       "\n",
       "    .dataframe thead th {\n",
       "        text-align: right;\n",
       "    }\n",
       "</style>\n",
       "<table border=\"1\" class=\"dataframe\">\n",
       "  <thead>\n",
       "    <tr style=\"text-align: right;\">\n",
       "      <th></th>\n",
       "      <th>user_id</th>\n",
       "      <th>ab_test</th>\n",
       "      <th>group</th>\n",
       "    </tr>\n",
       "  </thead>\n",
       "  <tbody>\n",
       "  </tbody>\n",
       "</table>\n",
       "</div>"
      ],
      "text/plain": [
       "Empty DataFrame\n",
       "Columns: [user_id, ab_test, group]\n",
       "Index: []"
      ]
     },
     "execution_count": 25,
     "metadata": {},
     "output_type": "execute_result"
    }
   ],
   "source": [
    "# Checking whether there are users who went to more than one <A/B> group in the same test\n",
    "\n",
    "ab_visitors = participants.groupby(['user_id', 'ab_test'])['group'].nunique().reset_index()\n",
    "ab_visitors[ab_visitors['group']>1]"
   ]
  },
  {
   "cell_type": "markdown",
   "metadata": {},
   "source": [
    "Thankfully there are no users who went to the same group within the same test"
   ]
  },
  {
   "cell_type": "code",
   "execution_count": 26,
   "metadata": {},
   "outputs": [
    {
     "data": {
      "text/plain": [
       "3675"
      ]
     },
     "execution_count": 26,
     "metadata": {},
     "output_type": "execute_result"
    }
   ],
   "source": [
    "# Unique users that went into the 'recommender_system_test' test\n",
    "\n",
    "recommender_system_test = participants[participants['ab_test']=='recommender_system_test']\n",
    "recommender_system_test['user_id'].nunique()"
   ]
  },
  {
   "cell_type": "code",
   "execution_count": 27,
   "metadata": {},
   "outputs": [
    {
     "data": {
      "text/plain": [
       "10850"
      ]
     },
     "execution_count": 27,
     "metadata": {},
     "output_type": "execute_result"
    }
   ],
   "source": [
    "# Unique users that went into the 'interface_eu_test' test\n",
    "\n",
    "interface_eu_test = participants[participants['ab_test']=='interface_eu_test']\n",
    "interface_eu_test['user_id'].nunique()"
   ]
  },
  {
   "cell_type": "code",
   "execution_count": 28,
   "metadata": {},
   "outputs": [
    {
     "data": {
      "text/html": [
       "<div>\n",
       "<style scoped>\n",
       "    .dataframe tbody tr th:only-of-type {\n",
       "        vertical-align: middle;\n",
       "    }\n",
       "\n",
       "    .dataframe tbody tr th {\n",
       "        vertical-align: top;\n",
       "    }\n",
       "\n",
       "    .dataframe thead th {\n",
       "        text-align: right;\n",
       "    }\n",
       "</style>\n",
       "<table border=\"1\" class=\"dataframe\">\n",
       "  <thead>\n",
       "    <tr style=\"text-align: right;\">\n",
       "      <th></th>\n",
       "      <th>user_id</th>\n",
       "      <th>ab_test</th>\n",
       "    </tr>\n",
       "  </thead>\n",
       "  <tbody>\n",
       "    <tr>\n",
       "      <th>1</th>\n",
       "      <td>001064FEAAB631A1</td>\n",
       "      <td>2</td>\n",
       "    </tr>\n",
       "    <tr>\n",
       "      <th>8</th>\n",
       "      <td>00341D8401F0F665</td>\n",
       "      <td>2</td>\n",
       "    </tr>\n",
       "    <tr>\n",
       "      <th>23</th>\n",
       "      <td>0082295A41A867B5</td>\n",
       "      <td>2</td>\n",
       "    </tr>\n",
       "    <tr>\n",
       "      <th>38</th>\n",
       "      <td>00E68F103C66C1F7</td>\n",
       "      <td>2</td>\n",
       "    </tr>\n",
       "    <tr>\n",
       "      <th>41</th>\n",
       "      <td>00EFA157F7B6E1C4</td>\n",
       "      <td>2</td>\n",
       "    </tr>\n",
       "    <tr>\n",
       "      <th>...</th>\n",
       "      <td>...</td>\n",
       "      <td>...</td>\n",
       "    </tr>\n",
       "    <tr>\n",
       "      <th>13576</th>\n",
       "      <td>FEA0C585A53E7027</td>\n",
       "      <td>2</td>\n",
       "    </tr>\n",
       "    <tr>\n",
       "      <th>13582</th>\n",
       "      <td>FEC0BCA6C323872F</td>\n",
       "      <td>2</td>\n",
       "    </tr>\n",
       "    <tr>\n",
       "      <th>13605</th>\n",
       "      <td>FF2174A1AA0EAD20</td>\n",
       "      <td>2</td>\n",
       "    </tr>\n",
       "    <tr>\n",
       "      <th>13610</th>\n",
       "      <td>FF44696E39039D29</td>\n",
       "      <td>2</td>\n",
       "    </tr>\n",
       "    <tr>\n",
       "      <th>13636</th>\n",
       "      <td>FFF28D02B1EACBE1</td>\n",
       "      <td>2</td>\n",
       "    </tr>\n",
       "  </tbody>\n",
       "</table>\n",
       "<p>887 rows × 2 columns</p>\n",
       "</div>"
      ],
      "text/plain": [
       "                user_id  ab_test\n",
       "1      001064FEAAB631A1        2\n",
       "8      00341D8401F0F665        2\n",
       "23     0082295A41A867B5        2\n",
       "38     00E68F103C66C1F7        2\n",
       "41     00EFA157F7B6E1C4        2\n",
       "...                 ...      ...\n",
       "13576  FEA0C585A53E7027        2\n",
       "13582  FEC0BCA6C323872F        2\n",
       "13605  FF2174A1AA0EAD20        2\n",
       "13610  FF44696E39039D29        2\n",
       "13636  FFF28D02B1EACBE1        2\n",
       "\n",
       "[887 rows x 2 columns]"
      ]
     },
     "execution_count": 28,
     "metadata": {},
     "output_type": "execute_result"
    }
   ],
   "source": [
    "# Investigating if there are users who went to both tests\n",
    "\n",
    "two_tests_users = participants.groupby('user_id')['ab_test'].nunique().reset_index()\n",
    "two_tests_users[two_tests_users['ab_test']==2]"
   ]
  },
  {
   "cell_type": "code",
   "execution_count": 29,
   "metadata": {},
   "outputs": [
    {
     "data": {
      "text/plain": [
       "EU           3481\n",
       "N.America     119\n",
       "APAC           45\n",
       "CIS            30\n",
       "Name: region, dtype: int64"
      ]
     },
     "execution_count": 29,
     "metadata": {},
     "output_type": "execute_result"
    }
   ],
   "source": [
    "# Making sure the 'recommender_system_test' audience is made of only users from the EU region\n",
    "\n",
    "recommender_system_test_users = recommender_system_test.merge(users, on='user_id')\n",
    "recommender_system_test_users['region'].value_counts()"
   ]
  },
  {
   "cell_type": "code",
   "execution_count": 30,
   "metadata": {},
   "outputs": [
    {
     "data": {
      "text/plain": [
       "0.08021476633791133"
      ]
     },
     "execution_count": 30,
     "metadata": {},
     "output_type": "execute_result"
    }
   ],
   "source": [
    "# Checking % of EU users that went to the 'recommender_system_test' test\n",
    "\n",
    "recommender_system_test_users[recommender_system_test_users['region']=='EU']['user_id'].nunique()/users[users['region']=='EU']['user_id'].nunique()"
   ]
  },
  {
   "cell_type": "markdown",
   "metadata": {},
   "source": [
    "**Problems Found**\n",
    "\n",
    "- The real number of participants is 3675, however, the expected number of test participants is 6000\n",
    "- Only 8% of EU users went into the test, not 15%, as expected\n",
    "- The proportion of participants in groups A/B in recommender_system_test is about 30/70, which is much more than 1%. (The groups should be split 50/50. It seems they did not run an A/A test which could've helped prevent this.)\n",
    "- Within the same tests, there seem to be no users who went to both A and B groups, but there are 887 users who went to more than one test, not sure this is a problem\n",
    "- The test was supposed to include 15% of the new users from the EU region, but users from other regions went in there as well.\n",
    "\n"
   ]
  },
  {
   "cell_type": "code",
   "execution_count": 31,
   "metadata": {},
   "outputs": [
    {
     "data": {
      "text/html": [
       "<div>\n",
       "<style scoped>\n",
       "    .dataframe tbody tr th:only-of-type {\n",
       "        vertical-align: middle;\n",
       "    }\n",
       "\n",
       "    .dataframe tbody tr th {\n",
       "        vertical-align: top;\n",
       "    }\n",
       "\n",
       "    .dataframe thead th {\n",
       "        text-align: right;\n",
       "    }\n",
       "</style>\n",
       "<table border=\"1\" class=\"dataframe\">\n",
       "  <thead>\n",
       "    <tr style=\"text-align: right;\">\n",
       "      <th></th>\n",
       "      <th>user_id</th>\n",
       "      <th>group</th>\n",
       "      <th>ab_test</th>\n",
       "    </tr>\n",
       "  </thead>\n",
       "  <tbody>\n",
       "    <tr>\n",
       "      <th>0</th>\n",
       "      <td>D1ABA3E2887B6A73</td>\n",
       "      <td>A</td>\n",
       "      <td>recommender_system_test</td>\n",
       "    </tr>\n",
       "    <tr>\n",
       "      <th>1</th>\n",
       "      <td>A7A3664BD6242119</td>\n",
       "      <td>A</td>\n",
       "      <td>recommender_system_test</td>\n",
       "    </tr>\n",
       "    <tr>\n",
       "      <th>2</th>\n",
       "      <td>DABC14FDDFADD29E</td>\n",
       "      <td>A</td>\n",
       "      <td>recommender_system_test</td>\n",
       "    </tr>\n",
       "    <tr>\n",
       "      <th>3</th>\n",
       "      <td>04988C5DF189632E</td>\n",
       "      <td>A</td>\n",
       "      <td>recommender_system_test</td>\n",
       "    </tr>\n",
       "    <tr>\n",
       "      <th>4</th>\n",
       "      <td>4FF2998A348C484F</td>\n",
       "      <td>A</td>\n",
       "      <td>recommender_system_test</td>\n",
       "    </tr>\n",
       "    <tr>\n",
       "      <th>...</th>\n",
       "      <td>...</td>\n",
       "      <td>...</td>\n",
       "      <td>...</td>\n",
       "    </tr>\n",
       "    <tr>\n",
       "      <th>3670</th>\n",
       "      <td>053FB26D6D49EDDC</td>\n",
       "      <td>A</td>\n",
       "      <td>recommender_system_test</td>\n",
       "    </tr>\n",
       "    <tr>\n",
       "      <th>3671</th>\n",
       "      <td>9D263B8EF15CF188</td>\n",
       "      <td>B</td>\n",
       "      <td>recommender_system_test</td>\n",
       "    </tr>\n",
       "    <tr>\n",
       "      <th>3672</th>\n",
       "      <td>F2FBBA33F37DEC46</td>\n",
       "      <td>A</td>\n",
       "      <td>recommender_system_test</td>\n",
       "    </tr>\n",
       "    <tr>\n",
       "      <th>3673</th>\n",
       "      <td>29C92313A98B1176</td>\n",
       "      <td>B</td>\n",
       "      <td>recommender_system_test</td>\n",
       "    </tr>\n",
       "    <tr>\n",
       "      <th>3674</th>\n",
       "      <td>6715343AFBA285AE</td>\n",
       "      <td>B</td>\n",
       "      <td>recommender_system_test</td>\n",
       "    </tr>\n",
       "  </tbody>\n",
       "</table>\n",
       "<p>3675 rows × 3 columns</p>\n",
       "</div>"
      ],
      "text/plain": [
       "               user_id group                  ab_test\n",
       "0     D1ABA3E2887B6A73     A  recommender_system_test\n",
       "1     A7A3664BD6242119     A  recommender_system_test\n",
       "2     DABC14FDDFADD29E     A  recommender_system_test\n",
       "3     04988C5DF189632E     A  recommender_system_test\n",
       "4     4FF2998A348C484F     A  recommender_system_test\n",
       "...                ...   ...                      ...\n",
       "3670  053FB26D6D49EDDC     A  recommender_system_test\n",
       "3671  9D263B8EF15CF188     B  recommender_system_test\n",
       "3672  F2FBBA33F37DEC46     A  recommender_system_test\n",
       "3673  29C92313A98B1176     B  recommender_system_test\n",
       "3674  6715343AFBA285AE     B  recommender_system_test\n",
       "\n",
       "[3675 rows x 3 columns]"
      ]
     },
     "execution_count": 31,
     "metadata": {},
     "output_type": "execute_result"
    }
   ],
   "source": [
    "# Filtering the participants data pertaining only to users who participated in the test we're testing\n",
    "\n",
    "participants_recommender = participants[participants['ab_test']=='recommender_system_test']\n",
    "participants_recommender"
   ]
  },
  {
   "cell_type": "code",
   "execution_count": 32,
   "metadata": {},
   "outputs": [
    {
     "data": {
      "text/html": [
       "<div>\n",
       "<style scoped>\n",
       "    .dataframe tbody tr th:only-of-type {\n",
       "        vertical-align: middle;\n",
       "    }\n",
       "\n",
       "    .dataframe tbody tr th {\n",
       "        vertical-align: top;\n",
       "    }\n",
       "\n",
       "    .dataframe thead th {\n",
       "        text-align: right;\n",
       "    }\n",
       "</style>\n",
       "<table border=\"1\" class=\"dataframe\">\n",
       "  <thead>\n",
       "    <tr style=\"text-align: right;\">\n",
       "      <th></th>\n",
       "      <th>user_id</th>\n",
       "      <th>event_dt</th>\n",
       "      <th>event_name</th>\n",
       "      <th>details</th>\n",
       "      <th>event_date</th>\n",
       "    </tr>\n",
       "  </thead>\n",
       "  <tbody>\n",
       "    <tr>\n",
       "      <th>5</th>\n",
       "      <td>831887FE7F2D6CBA</td>\n",
       "      <td>2020-12-07 06:50:29</td>\n",
       "      <td>purchase</td>\n",
       "      <td>4.99</td>\n",
       "      <td>2020-12-07</td>\n",
       "    </tr>\n",
       "    <tr>\n",
       "      <th>17</th>\n",
       "      <td>3C5DD0288AC4FE23</td>\n",
       "      <td>2020-12-07 19:42:40</td>\n",
       "      <td>purchase</td>\n",
       "      <td>4.99</td>\n",
       "      <td>2020-12-07</td>\n",
       "    </tr>\n",
       "    <tr>\n",
       "      <th>58</th>\n",
       "      <td>49EA242586C87836</td>\n",
       "      <td>2020-12-07 06:31:24</td>\n",
       "      <td>purchase</td>\n",
       "      <td>99.99</td>\n",
       "      <td>2020-12-07</td>\n",
       "    </tr>\n",
       "    <tr>\n",
       "      <th>71</th>\n",
       "      <td>2B06EB547B7AAD08</td>\n",
       "      <td>2020-12-07 21:36:38</td>\n",
       "      <td>purchase</td>\n",
       "      <td>4.99</td>\n",
       "      <td>2020-12-07</td>\n",
       "    </tr>\n",
       "    <tr>\n",
       "      <th>74</th>\n",
       "      <td>A640F31CAC7823A6</td>\n",
       "      <td>2020-12-07 18:48:26</td>\n",
       "      <td>purchase</td>\n",
       "      <td>4.99</td>\n",
       "      <td>2020-12-07</td>\n",
       "    </tr>\n",
       "    <tr>\n",
       "      <th>...</th>\n",
       "      <td>...</td>\n",
       "      <td>...</td>\n",
       "      <td>...</td>\n",
       "      <td>...</td>\n",
       "      <td>...</td>\n",
       "    </tr>\n",
       "    <tr>\n",
       "      <th>423683</th>\n",
       "      <td>D21F0D4FDCD82DB2</td>\n",
       "      <td>2020-12-29 02:17:00</td>\n",
       "      <td>login</td>\n",
       "      <td>NaN</td>\n",
       "      <td>2020-12-29</td>\n",
       "    </tr>\n",
       "    <tr>\n",
       "      <th>423702</th>\n",
       "      <td>96BDD55846D1F7F6</td>\n",
       "      <td>2020-12-29 16:53:42</td>\n",
       "      <td>login</td>\n",
       "      <td>NaN</td>\n",
       "      <td>2020-12-29</td>\n",
       "    </tr>\n",
       "    <tr>\n",
       "      <th>423711</th>\n",
       "      <td>553BAE96C6EB6240</td>\n",
       "      <td>2020-12-29 14:09:14</td>\n",
       "      <td>login</td>\n",
       "      <td>NaN</td>\n",
       "      <td>2020-12-29</td>\n",
       "    </tr>\n",
       "    <tr>\n",
       "      <th>423725</th>\n",
       "      <td>DD4352CDCF8C3D57</td>\n",
       "      <td>2020-12-30 12:42:56</td>\n",
       "      <td>login</td>\n",
       "      <td>NaN</td>\n",
       "      <td>2020-12-30</td>\n",
       "    </tr>\n",
       "    <tr>\n",
       "      <th>423733</th>\n",
       "      <td>75845C83258FBF73</td>\n",
       "      <td>2020-12-30 06:42:52</td>\n",
       "      <td>login</td>\n",
       "      <td>NaN</td>\n",
       "      <td>2020-12-30</td>\n",
       "    </tr>\n",
       "  </tbody>\n",
       "</table>\n",
       "<p>23909 rows × 5 columns</p>\n",
       "</div>"
      ],
      "text/plain": [
       "                 user_id            event_dt event_name  details  event_date\n",
       "5       831887FE7F2D6CBA 2020-12-07 06:50:29   purchase     4.99  2020-12-07\n",
       "17      3C5DD0288AC4FE23 2020-12-07 19:42:40   purchase     4.99  2020-12-07\n",
       "58      49EA242586C87836 2020-12-07 06:31:24   purchase    99.99  2020-12-07\n",
       "71      2B06EB547B7AAD08 2020-12-07 21:36:38   purchase     4.99  2020-12-07\n",
       "74      A640F31CAC7823A6 2020-12-07 18:48:26   purchase     4.99  2020-12-07\n",
       "...                  ...                 ...        ...      ...         ...\n",
       "423683  D21F0D4FDCD82DB2 2020-12-29 02:17:00      login      NaN  2020-12-29\n",
       "423702  96BDD55846D1F7F6 2020-12-29 16:53:42      login      NaN  2020-12-29\n",
       "423711  553BAE96C6EB6240 2020-12-29 14:09:14      login      NaN  2020-12-29\n",
       "423725  DD4352CDCF8C3D57 2020-12-30 12:42:56      login      NaN  2020-12-30\n",
       "423733  75845C83258FBF73 2020-12-30 06:42:52      login      NaN  2020-12-30\n",
       "\n",
       "[23909 rows x 5 columns]"
      ]
     },
     "execution_count": 32,
     "metadata": {},
     "output_type": "execute_result"
    }
   ],
   "source": [
    "# Filtering the events data that pertains only to the users who participated in the test 'recommender_system_test'\n",
    "\n",
    "events_recommender = events[events['user_id'].isin(participants_recommender['user_id'])]\n",
    "events_recommender"
   ]
  },
  {
   "cell_type": "code",
   "execution_count": 33,
   "metadata": {},
   "outputs": [
    {
     "data": {
      "text/html": [
       "<div>\n",
       "<style scoped>\n",
       "    .dataframe tbody tr th:only-of-type {\n",
       "        vertical-align: middle;\n",
       "    }\n",
       "\n",
       "    .dataframe tbody tr th {\n",
       "        vertical-align: top;\n",
       "    }\n",
       "\n",
       "    .dataframe thead th {\n",
       "        text-align: right;\n",
       "    }\n",
       "</style>\n",
       "<table border=\"1\" class=\"dataframe\">\n",
       "  <thead>\n",
       "    <tr style=\"text-align: right;\">\n",
       "      <th></th>\n",
       "      <th>user_id</th>\n",
       "      <th>event_dt</th>\n",
       "      <th>event_name</th>\n",
       "      <th>details</th>\n",
       "      <th>event_date</th>\n",
       "      <th>first_date</th>\n",
       "      <th>region</th>\n",
       "      <th>device</th>\n",
       "      <th>days_since_event</th>\n",
       "      <th>group</th>\n",
       "    </tr>\n",
       "  </thead>\n",
       "  <tbody>\n",
       "    <tr>\n",
       "      <th>0</th>\n",
       "      <td>831887FE7F2D6CBA</td>\n",
       "      <td>2020-12-07 06:50:29</td>\n",
       "      <td>purchase</td>\n",
       "      <td>4.99</td>\n",
       "      <td>2020-12-07</td>\n",
       "      <td>2020-12-07</td>\n",
       "      <td>EU</td>\n",
       "      <td>Android</td>\n",
       "      <td>0 days</td>\n",
       "      <td>A</td>\n",
       "    </tr>\n",
       "    <tr>\n",
       "      <th>1</th>\n",
       "      <td>831887FE7F2D6CBA</td>\n",
       "      <td>2020-12-09 02:19:17</td>\n",
       "      <td>purchase</td>\n",
       "      <td>99.99</td>\n",
       "      <td>2020-12-09</td>\n",
       "      <td>2020-12-07</td>\n",
       "      <td>EU</td>\n",
       "      <td>Android</td>\n",
       "      <td>2 days</td>\n",
       "      <td>A</td>\n",
       "    </tr>\n",
       "    <tr>\n",
       "      <th>2</th>\n",
       "      <td>831887FE7F2D6CBA</td>\n",
       "      <td>2020-12-07 06:50:30</td>\n",
       "      <td>product_cart</td>\n",
       "      <td>NaN</td>\n",
       "      <td>2020-12-07</td>\n",
       "      <td>2020-12-07</td>\n",
       "      <td>EU</td>\n",
       "      <td>Android</td>\n",
       "      <td>0 days</td>\n",
       "      <td>A</td>\n",
       "    </tr>\n",
       "    <tr>\n",
       "      <th>3</th>\n",
       "      <td>831887FE7F2D6CBA</td>\n",
       "      <td>2020-12-08 10:52:27</td>\n",
       "      <td>product_cart</td>\n",
       "      <td>NaN</td>\n",
       "      <td>2020-12-08</td>\n",
       "      <td>2020-12-07</td>\n",
       "      <td>EU</td>\n",
       "      <td>Android</td>\n",
       "      <td>1 days</td>\n",
       "      <td>A</td>\n",
       "    </tr>\n",
       "    <tr>\n",
       "      <th>4</th>\n",
       "      <td>831887FE7F2D6CBA</td>\n",
       "      <td>2020-12-09 02:19:17</td>\n",
       "      <td>product_cart</td>\n",
       "      <td>NaN</td>\n",
       "      <td>2020-12-09</td>\n",
       "      <td>2020-12-07</td>\n",
       "      <td>EU</td>\n",
       "      <td>Android</td>\n",
       "      <td>2 days</td>\n",
       "      <td>A</td>\n",
       "    </tr>\n",
       "    <tr>\n",
       "      <th>...</th>\n",
       "      <td>...</td>\n",
       "      <td>...</td>\n",
       "      <td>...</td>\n",
       "      <td>...</td>\n",
       "      <td>...</td>\n",
       "      <td>...</td>\n",
       "      <td>...</td>\n",
       "      <td>...</td>\n",
       "      <td>...</td>\n",
       "      <td>...</td>\n",
       "    </tr>\n",
       "    <tr>\n",
       "      <th>23357</th>\n",
       "      <td>1E6B9298415AA97A</td>\n",
       "      <td>2020-12-21 18:20:12</td>\n",
       "      <td>login</td>\n",
       "      <td>NaN</td>\n",
       "      <td>2020-12-21</td>\n",
       "      <td>2020-12-21</td>\n",
       "      <td>N.America</td>\n",
       "      <td>Android</td>\n",
       "      <td>0 days</td>\n",
       "      <td>B</td>\n",
       "    </tr>\n",
       "    <tr>\n",
       "      <th>23358</th>\n",
       "      <td>1E6B9298415AA97A</td>\n",
       "      <td>2020-12-22 03:22:34</td>\n",
       "      <td>login</td>\n",
       "      <td>NaN</td>\n",
       "      <td>2020-12-22</td>\n",
       "      <td>2020-12-21</td>\n",
       "      <td>N.America</td>\n",
       "      <td>Android</td>\n",
       "      <td>1 days</td>\n",
       "      <td>B</td>\n",
       "    </tr>\n",
       "    <tr>\n",
       "      <th>23359</th>\n",
       "      <td>1E6B9298415AA97A</td>\n",
       "      <td>2020-12-23 11:34:53</td>\n",
       "      <td>login</td>\n",
       "      <td>NaN</td>\n",
       "      <td>2020-12-23</td>\n",
       "      <td>2020-12-21</td>\n",
       "      <td>N.America</td>\n",
       "      <td>Android</td>\n",
       "      <td>2 days</td>\n",
       "      <td>B</td>\n",
       "    </tr>\n",
       "    <tr>\n",
       "      <th>23360</th>\n",
       "      <td>1E6B9298415AA97A</td>\n",
       "      <td>2020-12-24 18:45:58</td>\n",
       "      <td>login</td>\n",
       "      <td>NaN</td>\n",
       "      <td>2020-12-24</td>\n",
       "      <td>2020-12-21</td>\n",
       "      <td>N.America</td>\n",
       "      <td>Android</td>\n",
       "      <td>3 days</td>\n",
       "      <td>B</td>\n",
       "    </tr>\n",
       "    <tr>\n",
       "      <th>23361</th>\n",
       "      <td>23DDD27AC3FEFA63</td>\n",
       "      <td>2020-12-21 02:51:45</td>\n",
       "      <td>login</td>\n",
       "      <td>NaN</td>\n",
       "      <td>2020-12-21</td>\n",
       "      <td>2020-12-21</td>\n",
       "      <td>EU</td>\n",
       "      <td>PC</td>\n",
       "      <td>0 days</td>\n",
       "      <td>A</td>\n",
       "    </tr>\n",
       "  </tbody>\n",
       "</table>\n",
       "<p>23362 rows × 10 columns</p>\n",
       "</div>"
      ],
      "text/plain": [
       "                user_id            event_dt    event_name  details event_date  \\\n",
       "0      831887FE7F2D6CBA 2020-12-07 06:50:29      purchase     4.99 2020-12-07   \n",
       "1      831887FE7F2D6CBA 2020-12-09 02:19:17      purchase    99.99 2020-12-09   \n",
       "2      831887FE7F2D6CBA 2020-12-07 06:50:30  product_cart      NaN 2020-12-07   \n",
       "3      831887FE7F2D6CBA 2020-12-08 10:52:27  product_cart      NaN 2020-12-08   \n",
       "4      831887FE7F2D6CBA 2020-12-09 02:19:17  product_cart      NaN 2020-12-09   \n",
       "...                 ...                 ...           ...      ...        ...   \n",
       "23357  1E6B9298415AA97A 2020-12-21 18:20:12         login      NaN 2020-12-21   \n",
       "23358  1E6B9298415AA97A 2020-12-22 03:22:34         login      NaN 2020-12-22   \n",
       "23359  1E6B9298415AA97A 2020-12-23 11:34:53         login      NaN 2020-12-23   \n",
       "23360  1E6B9298415AA97A 2020-12-24 18:45:58         login      NaN 2020-12-24   \n",
       "23361  23DDD27AC3FEFA63 2020-12-21 02:51:45         login      NaN 2020-12-21   \n",
       "\n",
       "      first_date     region   device days_since_event group  \n",
       "0     2020-12-07         EU  Android           0 days     A  \n",
       "1     2020-12-07         EU  Android           2 days     A  \n",
       "2     2020-12-07         EU  Android           0 days     A  \n",
       "3     2020-12-07         EU  Android           1 days     A  \n",
       "4     2020-12-07         EU  Android           2 days     A  \n",
       "...          ...        ...      ...              ...   ...  \n",
       "23357 2020-12-21  N.America  Android           0 days     B  \n",
       "23358 2020-12-21  N.America  Android           1 days     B  \n",
       "23359 2020-12-21  N.America  Android           2 days     B  \n",
       "23360 2020-12-21  N.America  Android           3 days     B  \n",
       "23361 2020-12-21         EU       PC           0 days     A  \n",
       "\n",
       "[23362 rows x 10 columns]"
      ]
     },
     "execution_count": 33,
     "metadata": {},
     "output_type": "execute_result"
    }
   ],
   "source": [
    "# Creating a column of 'days since event' \n",
    "# Filtering out events that happened within more 14 days of sign-up & those that happened after the test's end date 2021-01-01\n",
    "\n",
    "users_events_recommender = events_recommender.merge(users, on='user_id')\n",
    "users_events_recommender['event_date'] = pd.to_datetime(users_events_recommender['event_date'])\n",
    "users_events_recommender['days_since_event'] = users_events_recommender['event_date'] - users_events_recommender['first_date']\n",
    "users_events_recommender = users_events_recommender[(users_events_recommender['days_since_event'] <= '14 days')|(users_events_recommender['event_date']<='2020-01-01')]\n",
    "users_events_recommender = users_events_recommender.merge(participants_recommender[['user_id', 'group']], on='user_id')\n",
    "users_events_recommender\n"
   ]
  },
  {
   "cell_type": "code",
   "execution_count": 34,
   "metadata": {},
   "outputs": [
    {
     "data": {
      "text/html": [
       "<div>\n",
       "<style scoped>\n",
       "    .dataframe tbody tr th:only-of-type {\n",
       "        vertical-align: middle;\n",
       "    }\n",
       "\n",
       "    .dataframe tbody tr th {\n",
       "        vertical-align: top;\n",
       "    }\n",
       "\n",
       "    .dataframe thead th {\n",
       "        text-align: right;\n",
       "    }\n",
       "</style>\n",
       "<table border=\"1\" class=\"dataframe\">\n",
       "  <thead>\n",
       "    <tr style=\"text-align: right;\">\n",
       "      <th>group</th>\n",
       "      <th>event_name</th>\n",
       "      <th>A</th>\n",
       "      <th>B</th>\n",
       "      <th>users%_a</th>\n",
       "      <th>users%_b</th>\n",
       "    </tr>\n",
       "  </thead>\n",
       "  <tbody>\n",
       "    <tr>\n",
       "      <th>0</th>\n",
       "      <td>login</td>\n",
       "      <td>2747</td>\n",
       "      <td>927</td>\n",
       "      <td>1.000000</td>\n",
       "      <td>0.998922</td>\n",
       "    </tr>\n",
       "    <tr>\n",
       "      <th>2</th>\n",
       "      <td>product_page</td>\n",
       "      <td>1780</td>\n",
       "      <td>523</td>\n",
       "      <td>0.647980</td>\n",
       "      <td>0.563578</td>\n",
       "    </tr>\n",
       "    <tr>\n",
       "      <th>1</th>\n",
       "      <td>product_cart</td>\n",
       "      <td>824</td>\n",
       "      <td>255</td>\n",
       "      <td>0.299964</td>\n",
       "      <td>0.274784</td>\n",
       "    </tr>\n",
       "    <tr>\n",
       "      <th>3</th>\n",
       "      <td>purchase</td>\n",
       "      <td>872</td>\n",
       "      <td>256</td>\n",
       "      <td>0.317437</td>\n",
       "      <td>0.275862</td>\n",
       "    </tr>\n",
       "  </tbody>\n",
       "</table>\n",
       "</div>"
      ],
      "text/plain": [
       "group    event_name     A    B  users%_a  users%_b\n",
       "0             login  2747  927  1.000000  0.998922\n",
       "2      product_page  1780  523  0.647980  0.563578\n",
       "1      product_cart   824  255  0.299964  0.274784\n",
       "3          purchase   872  256  0.317437  0.275862"
      ]
     },
     "execution_count": 34,
     "metadata": {},
     "output_type": "execute_result"
    }
   ],
   "source": [
    "# Study conversion at different stages of the funnel\n",
    "\n",
    "funnel = users_events_recommender.pivot_table(index='event_name', columns='group', values='user_id', aggfunc='nunique').reset_index()\n",
    "funnel['users%_a'] = funnel['A']/len(participants[(participants['ab_test']=='recommender_system_test')&(participants['group']=='A')])\n",
    "funnel['users%_b'] = funnel['B']/len(participants[(participants['ab_test']=='recommender_system_test')&(participants['group']=='B')])\n",
    "funnel = funnel.reindex([0,2,1,3])\n",
    "funnel"
   ]
  },
  {
   "cell_type": "markdown",
   "metadata": {},
   "source": [
    "- Both groups had more users in the purchase stage than in the product_cart stage\n",
    "- Number of events per user distributed more or less equally amongst both groups"
   ]
  },
  {
   "cell_type": "code",
   "execution_count": 35,
   "metadata": {},
   "outputs": [
    {
     "data": {
      "text/html": [
       "<div>\n",
       "<style scoped>\n",
       "    .dataframe tbody tr th:only-of-type {\n",
       "        vertical-align: middle;\n",
       "    }\n",
       "\n",
       "    .dataframe tbody tr th {\n",
       "        vertical-align: top;\n",
       "    }\n",
       "\n",
       "    .dataframe thead th {\n",
       "        text-align: right;\n",
       "    }\n",
       "</style>\n",
       "<table border=\"1\" class=\"dataframe\">\n",
       "  <thead>\n",
       "    <tr style=\"text-align: right;\">\n",
       "      <th></th>\n",
       "      <th>event_date</th>\n",
       "      <th>revenue</th>\n",
       "    </tr>\n",
       "  </thead>\n",
       "  <tbody>\n",
       "    <tr>\n",
       "      <th>0</th>\n",
       "      <td>2020-12-07</td>\n",
       "      <td>1214.54</td>\n",
       "    </tr>\n",
       "    <tr>\n",
       "      <th>1</th>\n",
       "      <td>2020-12-08</td>\n",
       "      <td>779.63</td>\n",
       "    </tr>\n",
       "    <tr>\n",
       "      <th>2</th>\n",
       "      <td>2020-12-09</td>\n",
       "      <td>1369.49</td>\n",
       "    </tr>\n",
       "    <tr>\n",
       "      <th>3</th>\n",
       "      <td>2020-12-10</td>\n",
       "      <td>1329.54</td>\n",
       "    </tr>\n",
       "    <tr>\n",
       "      <th>4</th>\n",
       "      <td>2020-12-11</td>\n",
       "      <td>1099.58</td>\n",
       "    </tr>\n",
       "    <tr>\n",
       "      <th>5</th>\n",
       "      <td>2020-12-12</td>\n",
       "      <td>879.62</td>\n",
       "    </tr>\n",
       "    <tr>\n",
       "      <th>6</th>\n",
       "      <td>2020-12-13</td>\n",
       "      <td>399.65</td>\n",
       "    </tr>\n",
       "    <tr>\n",
       "      <th>7</th>\n",
       "      <td>2020-12-14</td>\n",
       "      <td>3423.56</td>\n",
       "    </tr>\n",
       "    <tr>\n",
       "      <th>8</th>\n",
       "      <td>2020-12-15</td>\n",
       "      <td>3443.54</td>\n",
       "    </tr>\n",
       "    <tr>\n",
       "      <th>9</th>\n",
       "      <td>2020-12-16</td>\n",
       "      <td>4588.49</td>\n",
       "    </tr>\n",
       "    <tr>\n",
       "      <th>10</th>\n",
       "      <td>2020-12-17</td>\n",
       "      <td>2808.27</td>\n",
       "    </tr>\n",
       "    <tr>\n",
       "      <th>11</th>\n",
       "      <td>2020-12-18</td>\n",
       "      <td>3408.28</td>\n",
       "    </tr>\n",
       "    <tr>\n",
       "      <th>12</th>\n",
       "      <td>2020-12-19</td>\n",
       "      <td>4587.86</td>\n",
       "    </tr>\n",
       "    <tr>\n",
       "      <th>13</th>\n",
       "      <td>2020-12-20</td>\n",
       "      <td>5157.80</td>\n",
       "    </tr>\n",
       "    <tr>\n",
       "      <th>14</th>\n",
       "      <td>2020-12-21</td>\n",
       "      <td>8557.03</td>\n",
       "    </tr>\n",
       "    <tr>\n",
       "      <th>15</th>\n",
       "      <td>2020-12-22</td>\n",
       "      <td>4533.30</td>\n",
       "    </tr>\n",
       "    <tr>\n",
       "      <th>16</th>\n",
       "      <td>2020-12-23</td>\n",
       "      <td>1673.63</td>\n",
       "    </tr>\n",
       "    <tr>\n",
       "      <th>17</th>\n",
       "      <td>2020-12-24</td>\n",
       "      <td>3748.79</td>\n",
       "    </tr>\n",
       "    <tr>\n",
       "      <th>18</th>\n",
       "      <td>2020-12-26</td>\n",
       "      <td>1779.10</td>\n",
       "    </tr>\n",
       "    <tr>\n",
       "      <th>19</th>\n",
       "      <td>2020-12-27</td>\n",
       "      <td>1604.19</td>\n",
       "    </tr>\n",
       "    <tr>\n",
       "      <th>20</th>\n",
       "      <td>2020-12-28</td>\n",
       "      <td>674.34</td>\n",
       "    </tr>\n",
       "    <tr>\n",
       "      <th>21</th>\n",
       "      <td>2020-12-29</td>\n",
       "      <td>299.63</td>\n",
       "    </tr>\n",
       "  </tbody>\n",
       "</table>\n",
       "</div>"
      ],
      "text/plain": [
       "   event_date  revenue\n",
       "0  2020-12-07  1214.54\n",
       "1  2020-12-08   779.63\n",
       "2  2020-12-09  1369.49\n",
       "3  2020-12-10  1329.54\n",
       "4  2020-12-11  1099.58\n",
       "5  2020-12-12   879.62\n",
       "6  2020-12-13   399.65\n",
       "7  2020-12-14  3423.56\n",
       "8  2020-12-15  3443.54\n",
       "9  2020-12-16  4588.49\n",
       "10 2020-12-17  2808.27\n",
       "11 2020-12-18  3408.28\n",
       "12 2020-12-19  4587.86\n",
       "13 2020-12-20  5157.80\n",
       "14 2020-12-21  8557.03\n",
       "15 2020-12-22  4533.30\n",
       "16 2020-12-23  1673.63\n",
       "17 2020-12-24  3748.79\n",
       "18 2020-12-26  1779.10\n",
       "19 2020-12-27  1604.19\n",
       "20 2020-12-28   674.34\n",
       "21 2020-12-29   299.63"
      ]
     },
     "execution_count": 35,
     "metadata": {},
     "output_type": "execute_result"
    }
   ],
   "source": [
    "# Inspecting revenue per day by group \n",
    "\n",
    "pd.options.mode.chained_assignment = None \n",
    "\n",
    "orders = users_events_recommender[users_events_recommender['event_name']=='purchase']\n",
    "orders = orders[['user_id', 'group', 'event_date', 'details']]\n",
    "orders = orders.rename(columns={'details': 'revenue'})\n",
    "\n",
    "orders_a = orders[orders['group']=='A'].sort_values(by='event_date')\n",
    "orders_a  = orders_a.groupby('event_date')['revenue'].sum().reset_index()\n",
    "orders_a"
   ]
  },
  {
   "cell_type": "code",
   "execution_count": 36,
   "metadata": {},
   "outputs": [
    {
     "data": {
      "text/html": [
       "<div>\n",
       "<style scoped>\n",
       "    .dataframe tbody tr th:only-of-type {\n",
       "        vertical-align: middle;\n",
       "    }\n",
       "\n",
       "    .dataframe tbody tr th {\n",
       "        vertical-align: top;\n",
       "    }\n",
       "\n",
       "    .dataframe thead th {\n",
       "        text-align: right;\n",
       "    }\n",
       "</style>\n",
       "<table border=\"1\" class=\"dataframe\">\n",
       "  <thead>\n",
       "    <tr style=\"text-align: right;\">\n",
       "      <th></th>\n",
       "      <th>event_date</th>\n",
       "      <th>revenue</th>\n",
       "    </tr>\n",
       "  </thead>\n",
       "  <tbody>\n",
       "    <tr>\n",
       "      <th>0</th>\n",
       "      <td>2020-12-07</td>\n",
       "      <td>704.41</td>\n",
       "    </tr>\n",
       "    <tr>\n",
       "      <th>1</th>\n",
       "      <td>2020-12-08</td>\n",
       "      <td>494.65</td>\n",
       "    </tr>\n",
       "    <tr>\n",
       "      <th>2</th>\n",
       "      <td>2020-12-09</td>\n",
       "      <td>419.60</td>\n",
       "    </tr>\n",
       "    <tr>\n",
       "      <th>3</th>\n",
       "      <td>2020-12-10</td>\n",
       "      <td>639.74</td>\n",
       "    </tr>\n",
       "    <tr>\n",
       "      <th>4</th>\n",
       "      <td>2020-12-11</td>\n",
       "      <td>94.84</td>\n",
       "    </tr>\n",
       "    <tr>\n",
       "      <th>5</th>\n",
       "      <td>2020-12-12</td>\n",
       "      <td>324.75</td>\n",
       "    </tr>\n",
       "    <tr>\n",
       "      <th>6</th>\n",
       "      <td>2020-12-13</td>\n",
       "      <td>1429.73</td>\n",
       "    </tr>\n",
       "    <tr>\n",
       "      <th>7</th>\n",
       "      <td>2020-12-14</td>\n",
       "      <td>779.66</td>\n",
       "    </tr>\n",
       "    <tr>\n",
       "      <th>8</th>\n",
       "      <td>2020-12-15</td>\n",
       "      <td>1459.68</td>\n",
       "    </tr>\n",
       "    <tr>\n",
       "      <th>9</th>\n",
       "      <td>2020-12-16</td>\n",
       "      <td>1564.47</td>\n",
       "    </tr>\n",
       "    <tr>\n",
       "      <th>10</th>\n",
       "      <td>2020-12-17</td>\n",
       "      <td>994.63</td>\n",
       "    </tr>\n",
       "    <tr>\n",
       "      <th>11</th>\n",
       "      <td>2020-12-18</td>\n",
       "      <td>274.70</td>\n",
       "    </tr>\n",
       "    <tr>\n",
       "      <th>12</th>\n",
       "      <td>2020-12-19</td>\n",
       "      <td>399.66</td>\n",
       "    </tr>\n",
       "    <tr>\n",
       "      <th>13</th>\n",
       "      <td>2020-12-20</td>\n",
       "      <td>814.62</td>\n",
       "    </tr>\n",
       "    <tr>\n",
       "      <th>14</th>\n",
       "      <td>2020-12-21</td>\n",
       "      <td>2244.46</td>\n",
       "    </tr>\n",
       "    <tr>\n",
       "      <th>15</th>\n",
       "      <td>2020-12-22</td>\n",
       "      <td>249.73</td>\n",
       "    </tr>\n",
       "    <tr>\n",
       "      <th>16</th>\n",
       "      <td>2020-12-23</td>\n",
       "      <td>209.80</td>\n",
       "    </tr>\n",
       "    <tr>\n",
       "      <th>17</th>\n",
       "      <td>2020-12-24</td>\n",
       "      <td>79.86</td>\n",
       "    </tr>\n",
       "    <tr>\n",
       "      <th>18</th>\n",
       "      <td>2020-12-26</td>\n",
       "      <td>129.93</td>\n",
       "    </tr>\n",
       "    <tr>\n",
       "      <th>19</th>\n",
       "      <td>2020-12-27</td>\n",
       "      <td>1144.89</td>\n",
       "    </tr>\n",
       "    <tr>\n",
       "      <th>20</th>\n",
       "      <td>2020-12-28</td>\n",
       "      <td>134.94</td>\n",
       "    </tr>\n",
       "    <tr>\n",
       "      <th>21</th>\n",
       "      <td>2020-12-29</td>\n",
       "      <td>34.93</td>\n",
       "    </tr>\n",
       "  </tbody>\n",
       "</table>\n",
       "</div>"
      ],
      "text/plain": [
       "   event_date  revenue\n",
       "0  2020-12-07   704.41\n",
       "1  2020-12-08   494.65\n",
       "2  2020-12-09   419.60\n",
       "3  2020-12-10   639.74\n",
       "4  2020-12-11    94.84\n",
       "5  2020-12-12   324.75\n",
       "6  2020-12-13  1429.73\n",
       "7  2020-12-14   779.66\n",
       "8  2020-12-15  1459.68\n",
       "9  2020-12-16  1564.47\n",
       "10 2020-12-17   994.63\n",
       "11 2020-12-18   274.70\n",
       "12 2020-12-19   399.66\n",
       "13 2020-12-20   814.62\n",
       "14 2020-12-21  2244.46\n",
       "15 2020-12-22   249.73\n",
       "16 2020-12-23   209.80\n",
       "17 2020-12-24    79.86\n",
       "18 2020-12-26   129.93\n",
       "19 2020-12-27  1144.89\n",
       "20 2020-12-28   134.94\n",
       "21 2020-12-29    34.93"
      ]
     },
     "execution_count": 36,
     "metadata": {},
     "output_type": "execute_result"
    }
   ],
   "source": [
    "orders_b = orders[orders['group']=='B'].sort_values(by='event_date')\n",
    "orders_b  = orders_b.groupby('event_date')['revenue'].sum().reset_index()\n",
    "orders_b"
   ]
  },
  {
   "cell_type": "code",
   "execution_count": 37,
   "metadata": {},
   "outputs": [
    {
     "data": {
      "image/png": "[encoded data removed]",
      "text/plain": [
       "<Figure size 720x432 with 1 Axes>"
      ]
     },
     "metadata": {
      "needs_background": "light"
     },
     "output_type": "display_data"
    }
   ],
   "source": [
    "# How is the number of events distributed among days?\n",
    "\n",
    "plt.figure(figsize=(10,6))\n",
    "plt.xticks(rotation=70)\n",
    "events_per_day_a = users_events_recommender[users_events_recommender['group']=='A'].groupby(['event_name','event_date'])['user_id'].nunique().reset_index()\n",
    "events_per_day_a['event_date'] = events_per_day_a['event_date'].dt.date\n",
    "sns.barplot(data=events_per_day_a, x='event_date', y='user_id').set(title='Group A - Events per day')\n",
    "plt.show()\n"
   ]
  },
  {
   "cell_type": "code",
   "execution_count": 38,
   "metadata": {},
   "outputs": [
    {
     "data": {
      "image/png": "[encoded data removed]",
      "text/plain": [
       "<Figure size 720x432 with 1 Axes>"
      ]
     },
     "metadata": {
      "needs_background": "light"
     },
     "output_type": "display_data"
    }
   ],
   "source": [
    "plt.figure(figsize=(10,6))\n",
    "plt.xticks(rotation=70)\n",
    "events_per_day_b = users_events_recommender[users_events_recommender['group']=='B'].groupby(['event_name','event_date'])['user_id'].nunique().reset_index()\n",
    "events_per_day_b['event_date'] = events_per_day_b['event_date'].dt.date\n",
    "sns.barplot(data=events_per_day_b, x='event_date', y='user_id').set(title='Group B - Events per day')\n",
    "plt.show()"
   ]
  },
  {
   "cell_type": "code",
   "execution_count": 39,
   "metadata": {},
   "outputs": [
    {
     "data": {
      "text/html": [
       "<div>\n",
       "<style scoped>\n",
       "    .dataframe tbody tr th:only-of-type {\n",
       "        vertical-align: middle;\n",
       "    }\n",
       "\n",
       "    .dataframe tbody tr th {\n",
       "        vertical-align: top;\n",
       "    }\n",
       "\n",
       "    .dataframe thead th {\n",
       "        text-align: right;\n",
       "    }\n",
       "</style>\n",
       "<table border=\"1\" class=\"dataframe\">\n",
       "  <thead>\n",
       "    <tr style=\"text-align: right;\">\n",
       "      <th></th>\n",
       "      <th>name</th>\n",
       "      <th>regions</th>\n",
       "      <th>start_dt</th>\n",
       "      <th>finish_dt</th>\n",
       "    </tr>\n",
       "  </thead>\n",
       "  <tbody>\n",
       "    <tr>\n",
       "      <th>6</th>\n",
       "      <td>Chinese New Year Promo</td>\n",
       "      <td>APAC</td>\n",
       "      <td>2020-01-25</td>\n",
       "      <td>2020-02-07</td>\n",
       "    </tr>\n",
       "    <tr>\n",
       "      <th>1</th>\n",
       "      <td>St. Valentine's Day Giveaway</td>\n",
       "      <td>EU, CIS, APAC, N.America</td>\n",
       "      <td>2020-02-14</td>\n",
       "      <td>2020-02-16</td>\n",
       "    </tr>\n",
       "    <tr>\n",
       "      <th>8</th>\n",
       "      <td>International Women's Day Promo</td>\n",
       "      <td>EU, CIS, APAC</td>\n",
       "      <td>2020-03-08</td>\n",
       "      <td>2020-03-10</td>\n",
       "    </tr>\n",
       "    <tr>\n",
       "      <th>2</th>\n",
       "      <td>St. Patric's Day Promo</td>\n",
       "      <td>EU, N.America</td>\n",
       "      <td>2020-03-17</td>\n",
       "      <td>2020-03-19</td>\n",
       "    </tr>\n",
       "    <tr>\n",
       "      <th>3</th>\n",
       "      <td>Easter Promo</td>\n",
       "      <td>EU, CIS, APAC, N.America</td>\n",
       "      <td>2020-04-12</td>\n",
       "      <td>2020-04-19</td>\n",
       "    </tr>\n",
       "    <tr>\n",
       "      <th>7</th>\n",
       "      <td>Labor day (May 1st) Ads Campaign</td>\n",
       "      <td>EU, CIS, APAC</td>\n",
       "      <td>2020-05-01</td>\n",
       "      <td>2020-05-03</td>\n",
       "    </tr>\n",
       "    <tr>\n",
       "      <th>9</th>\n",
       "      <td>Victory Day CIS (May 9th) Event</td>\n",
       "      <td>CIS</td>\n",
       "      <td>2020-05-09</td>\n",
       "      <td>2020-05-11</td>\n",
       "    </tr>\n",
       "    <tr>\n",
       "      <th>11</th>\n",
       "      <td>Dragon Boat Festival Giveaway</td>\n",
       "      <td>APAC</td>\n",
       "      <td>2020-06-25</td>\n",
       "      <td>2020-07-01</td>\n",
       "    </tr>\n",
       "    <tr>\n",
       "      <th>4</th>\n",
       "      <td>4th of July Promo</td>\n",
       "      <td>N.America</td>\n",
       "      <td>2020-07-04</td>\n",
       "      <td>2020-07-11</td>\n",
       "    </tr>\n",
       "    <tr>\n",
       "      <th>13</th>\n",
       "      <td>Chinese Moon Festival</td>\n",
       "      <td>APAC</td>\n",
       "      <td>2020-10-01</td>\n",
       "      <td>2020-10-07</td>\n",
       "    </tr>\n",
       "    <tr>\n",
       "      <th>12</th>\n",
       "      <td>Single's Day Gift Promo</td>\n",
       "      <td>APAC</td>\n",
       "      <td>2020-11-11</td>\n",
       "      <td>2020-11-12</td>\n",
       "    </tr>\n",
       "    <tr>\n",
       "      <th>5</th>\n",
       "      <td>Black Friday Ads Campaign</td>\n",
       "      <td>EU, CIS, APAC, N.America</td>\n",
       "      <td>2020-11-26</td>\n",
       "      <td>2020-12-01</td>\n",
       "    </tr>\n",
       "    <tr>\n",
       "      <th>0</th>\n",
       "      <td>Christmas&amp;New Year Promo</td>\n",
       "      <td>EU, N.America</td>\n",
       "      <td>2020-12-25</td>\n",
       "      <td>2021-01-03</td>\n",
       "    </tr>\n",
       "    <tr>\n",
       "      <th>10</th>\n",
       "      <td>CIS New Year Gift Lottery</td>\n",
       "      <td>CIS</td>\n",
       "      <td>2020-12-30</td>\n",
       "      <td>2021-01-07</td>\n",
       "    </tr>\n",
       "  </tbody>\n",
       "</table>\n",
       "</div>"
      ],
      "text/plain": [
       "                                name                   regions   start_dt  \\\n",
       "6             Chinese New Year Promo                      APAC 2020-01-25   \n",
       "1       St. Valentine's Day Giveaway  EU, CIS, APAC, N.America 2020-02-14   \n",
       "8    International Women's Day Promo             EU, CIS, APAC 2020-03-08   \n",
       "2             St. Patric's Day Promo             EU, N.America 2020-03-17   \n",
       "3                       Easter Promo  EU, CIS, APAC, N.America 2020-04-12   \n",
       "7   Labor day (May 1st) Ads Campaign             EU, CIS, APAC 2020-05-01   \n",
       "9    Victory Day CIS (May 9th) Event                       CIS 2020-05-09   \n",
       "11     Dragon Boat Festival Giveaway                      APAC 2020-06-25   \n",
       "4                  4th of July Promo                 N.America 2020-07-04   \n",
       "13             Chinese Moon Festival                      APAC 2020-10-01   \n",
       "12           Single's Day Gift Promo                      APAC 2020-11-11   \n",
       "5          Black Friday Ads Campaign  EU, CIS, APAC, N.America 2020-11-26   \n",
       "0           Christmas&New Year Promo             EU, N.America 2020-12-25   \n",
       "10         CIS New Year Gift Lottery                       CIS 2020-12-30   \n",
       "\n",
       "    finish_dt  \n",
       "6  2020-02-07  \n",
       "1  2020-02-16  \n",
       "8  2020-03-10  \n",
       "2  2020-03-19  \n",
       "3  2020-04-19  \n",
       "7  2020-05-03  \n",
       "9  2020-05-11  \n",
       "11 2020-07-01  \n",
       "4  2020-07-11  \n",
       "13 2020-10-07  \n",
       "12 2020-11-12  \n",
       "5  2020-12-01  \n",
       "0  2021-01-03  \n",
       "10 2021-01-07  "
      ]
     },
     "execution_count": 39,
     "metadata": {},
     "output_type": "execute_result"
    }
   ],
   "source": [
    "marketing"
   ]
  },
  {
   "cell_type": "markdown",
   "metadata": {},
   "source": [
    "**Findings**\n",
    "\n",
    "- Both groups have different trends until 12/21, when both peak, and start decreasing at almost the same rate \n",
    "- Group A starts lower than Group A, with a growth trend that peaks on 21/12, which starts decreasing right after that\n",
    "- Group B starts higher, with a decline that starts growing at around 14/12 and peaks at 21/12, decreasing sharply right after\n",
    "- None of the marketing campaigns can explain the events peak that happens on 12/21, the only thing that could explain it is the test's end date which happened on the same date\n",
    "- There is not a clear overlap of dates between the events per day and marketing events, except for the 'Christmas & New Year Promo', which in any case, doesn't seem to be working that great because instead of a growth trend, we see a decreasing trend from 2020-12-25\tonwards"
   ]
  },
  {
   "cell_type": "markdown",
   "metadata": {},
   "source": [
    "### Testing the Hypotheses"
   ]
  },
  {
   "cell_type": "markdown",
   "metadata": {},
   "source": [
    "#### Creating Samples"
   ]
  },
  {
   "cell_type": "code",
   "execution_count": 40,
   "metadata": {},
   "outputs": [
    {
     "data": {
      "text/html": [
       "<div>\n",
       "<style scoped>\n",
       "    .dataframe tbody tr th:only-of-type {\n",
       "        vertical-align: middle;\n",
       "    }\n",
       "\n",
       "    .dataframe tbody tr th {\n",
       "        vertical-align: top;\n",
       "    }\n",
       "\n",
       "    .dataframe thead th {\n",
       "        text-align: right;\n",
       "    }\n",
       "</style>\n",
       "<table border=\"1\" class=\"dataframe\">\n",
       "  <thead>\n",
       "    <tr style=\"text-align: right;\">\n",
       "      <th>group</th>\n",
       "      <th>event_name</th>\n",
       "      <th>A</th>\n",
       "      <th>B</th>\n",
       "    </tr>\n",
       "  </thead>\n",
       "  <tbody>\n",
       "    <tr>\n",
       "      <th>0</th>\n",
       "      <td>login</td>\n",
       "      <td>2747</td>\n",
       "      <td>927</td>\n",
       "    </tr>\n",
       "    <tr>\n",
       "      <th>1</th>\n",
       "      <td>product_cart</td>\n",
       "      <td>824</td>\n",
       "      <td>255</td>\n",
       "    </tr>\n",
       "    <tr>\n",
       "      <th>2</th>\n",
       "      <td>product_page</td>\n",
       "      <td>1780</td>\n",
       "      <td>523</td>\n",
       "    </tr>\n",
       "    <tr>\n",
       "      <th>3</th>\n",
       "      <td>purchase</td>\n",
       "      <td>872</td>\n",
       "      <td>256</td>\n",
       "    </tr>\n",
       "  </tbody>\n",
       "</table>\n",
       "</div>"
      ],
      "text/plain": [
       "group    event_name     A    B\n",
       "0             login  2747  927\n",
       "1      product_cart   824  255\n",
       "2      product_page  1780  523\n",
       "3          purchase   872  256"
      ]
     },
     "execution_count": 40,
     "metadata": {},
     "output_type": "execute_result"
    }
   ],
   "source": [
    "# Visualizing number of unique users per event, per group\n",
    "\n",
    "merged_events = users_events_recommender.pivot_table(index='event_name', columns='group', values='user_id', aggfunc='nunique').reset_index()\n",
    "merged_events"
   ]
  },
  {
   "cell_type": "code",
   "execution_count": 41,
   "metadata": {},
   "outputs": [],
   "source": [
    "conversion_a = merged_events['A'][3]/merged_events['A'][0]\n",
    "conversion_b = merged_events['B'][3]/merged_events['A'][0]"
   ]
  },
  {
   "cell_type": "code",
   "execution_count": 42,
   "metadata": {},
   "outputs": [
    {
     "name": "stdout",
     "output_type": "stream",
     "text": [
      "Group A conversion: 0.3174372042227885\n",
      "Group B conversion: 0.09319257371678194\n"
     ]
    }
   ],
   "source": [
    "print('Group A conversion:',conversion_a)\n",
    "print('Group B conversion:',conversion_b)"
   ]
  },
  {
   "cell_type": "markdown",
   "metadata": {},
   "source": [
    "Conversion for Group B is well below that of Group A"
   ]
  },
  {
   "cell_type": "code",
   "execution_count": 43,
   "metadata": {},
   "outputs": [
    {
     "data": {
      "text/plain": [
       "3675"
      ]
     },
     "execution_count": 43,
     "metadata": {},
     "output_type": "execute_result"
    }
   ],
   "source": [
    "# Creating a table with total sample by filtering out all the test's conditions\n",
    "\n",
    "total_sample = participants_recommender.merge(users[['first_date', 'user_id']], on='user_id')\n",
    "total_sample = total_sample.merge(events[['user_id', 'event_name', 'event_date']], on='user_id')\n",
    "total_sample['event_date'] =  pd.to_datetime(total_sample['event_date'])\n",
    "total_sample['days_since_event'] = total_sample['event_date'] - total_sample['first_date']\n",
    "total_sample = total_sample[(total_sample['days_since_event'] <= '14 days')|(total_sample['event_date']<='2020-01-01')]\n",
    "total_sample['user_id'].nunique()"
   ]
  },
  {
   "cell_type": "code",
   "execution_count": 44,
   "metadata": {},
   "outputs": [
    {
     "data": {
      "text/html": [
       "<div>\n",
       "<style scoped>\n",
       "    .dataframe tbody tr th:only-of-type {\n",
       "        vertical-align: middle;\n",
       "    }\n",
       "\n",
       "    .dataframe tbody tr th {\n",
       "        vertical-align: top;\n",
       "    }\n",
       "\n",
       "    .dataframe thead th {\n",
       "        text-align: right;\n",
       "    }\n",
       "</style>\n",
       "<table border=\"1\" class=\"dataframe\">\n",
       "  <thead>\n",
       "    <tr style=\"text-align: right;\">\n",
       "      <th></th>\n",
       "      <th>user_id</th>\n",
       "      <th>group</th>\n",
       "      <th>ab_test</th>\n",
       "      <th>first_date</th>\n",
       "      <th>event_name</th>\n",
       "      <th>event_date</th>\n",
       "      <th>days_since_event</th>\n",
       "    </tr>\n",
       "  </thead>\n",
       "  <tbody>\n",
       "    <tr>\n",
       "      <th>0</th>\n",
       "      <td>D1ABA3E2887B6A73</td>\n",
       "      <td>A</td>\n",
       "      <td>recommender_system_test</td>\n",
       "      <td>2020-12-07</td>\n",
       "      <td>purchase</td>\n",
       "      <td>2020-12-07</td>\n",
       "      <td>0 days</td>\n",
       "    </tr>\n",
       "    <tr>\n",
       "      <th>1</th>\n",
       "      <td>D1ABA3E2887B6A73</td>\n",
       "      <td>A</td>\n",
       "      <td>recommender_system_test</td>\n",
       "      <td>2020-12-07</td>\n",
       "      <td>product_cart</td>\n",
       "      <td>2020-12-07</td>\n",
       "      <td>0 days</td>\n",
       "    </tr>\n",
       "    <tr>\n",
       "      <th>2</th>\n",
       "      <td>D1ABA3E2887B6A73</td>\n",
       "      <td>A</td>\n",
       "      <td>recommender_system_test</td>\n",
       "      <td>2020-12-07</td>\n",
       "      <td>product_page</td>\n",
       "      <td>2020-12-07</td>\n",
       "      <td>0 days</td>\n",
       "    </tr>\n",
       "    <tr>\n",
       "      <th>3</th>\n",
       "      <td>D1ABA3E2887B6A73</td>\n",
       "      <td>A</td>\n",
       "      <td>recommender_system_test</td>\n",
       "      <td>2020-12-07</td>\n",
       "      <td>login</td>\n",
       "      <td>2020-12-07</td>\n",
       "      <td>0 days</td>\n",
       "    </tr>\n",
       "    <tr>\n",
       "      <th>4</th>\n",
       "      <td>A7A3664BD6242119</td>\n",
       "      <td>A</td>\n",
       "      <td>recommender_system_test</td>\n",
       "      <td>2020-12-20</td>\n",
       "      <td>product_page</td>\n",
       "      <td>2020-12-20</td>\n",
       "      <td>0 days</td>\n",
       "    </tr>\n",
       "    <tr>\n",
       "      <th>...</th>\n",
       "      <td>...</td>\n",
       "      <td>...</td>\n",
       "      <td>...</td>\n",
       "      <td>...</td>\n",
       "      <td>...</td>\n",
       "      <td>...</td>\n",
       "      <td>...</td>\n",
       "    </tr>\n",
       "    <tr>\n",
       "      <th>23904</th>\n",
       "      <td>6715343AFBA285AE</td>\n",
       "      <td>B</td>\n",
       "      <td>recommender_system_test</td>\n",
       "      <td>2020-12-07</td>\n",
       "      <td>login</td>\n",
       "      <td>2020-12-07</td>\n",
       "      <td>0 days</td>\n",
       "    </tr>\n",
       "    <tr>\n",
       "      <th>23905</th>\n",
       "      <td>6715343AFBA285AE</td>\n",
       "      <td>B</td>\n",
       "      <td>recommender_system_test</td>\n",
       "      <td>2020-12-07</td>\n",
       "      <td>login</td>\n",
       "      <td>2020-12-08</td>\n",
       "      <td>1 days</td>\n",
       "    </tr>\n",
       "    <tr>\n",
       "      <th>23906</th>\n",
       "      <td>6715343AFBA285AE</td>\n",
       "      <td>B</td>\n",
       "      <td>recommender_system_test</td>\n",
       "      <td>2020-12-07</td>\n",
       "      <td>login</td>\n",
       "      <td>2020-12-09</td>\n",
       "      <td>2 days</td>\n",
       "    </tr>\n",
       "    <tr>\n",
       "      <th>23907</th>\n",
       "      <td>6715343AFBA285AE</td>\n",
       "      <td>B</td>\n",
       "      <td>recommender_system_test</td>\n",
       "      <td>2020-12-07</td>\n",
       "      <td>login</td>\n",
       "      <td>2020-12-10</td>\n",
       "      <td>3 days</td>\n",
       "    </tr>\n",
       "    <tr>\n",
       "      <th>23908</th>\n",
       "      <td>6715343AFBA285AE</td>\n",
       "      <td>B</td>\n",
       "      <td>recommender_system_test</td>\n",
       "      <td>2020-12-07</td>\n",
       "      <td>login</td>\n",
       "      <td>2020-12-14</td>\n",
       "      <td>7 days</td>\n",
       "    </tr>\n",
       "  </tbody>\n",
       "</table>\n",
       "<p>23362 rows × 7 columns</p>\n",
       "</div>"
      ],
      "text/plain": [
       "                user_id group                  ab_test first_date  \\\n",
       "0      D1ABA3E2887B6A73     A  recommender_system_test 2020-12-07   \n",
       "1      D1ABA3E2887B6A73     A  recommender_system_test 2020-12-07   \n",
       "2      D1ABA3E2887B6A73     A  recommender_system_test 2020-12-07   \n",
       "3      D1ABA3E2887B6A73     A  recommender_system_test 2020-12-07   \n",
       "4      A7A3664BD6242119     A  recommender_system_test 2020-12-20   \n",
       "...                 ...   ...                      ...        ...   \n",
       "23904  6715343AFBA285AE     B  recommender_system_test 2020-12-07   \n",
       "23905  6715343AFBA285AE     B  recommender_system_test 2020-12-07   \n",
       "23906  6715343AFBA285AE     B  recommender_system_test 2020-12-07   \n",
       "23907  6715343AFBA285AE     B  recommender_system_test 2020-12-07   \n",
       "23908  6715343AFBA285AE     B  recommender_system_test 2020-12-07   \n",
       "\n",
       "         event_name event_date days_since_event  \n",
       "0          purchase 2020-12-07           0 days  \n",
       "1      product_cart 2020-12-07           0 days  \n",
       "2      product_page 2020-12-07           0 days  \n",
       "3             login 2020-12-07           0 days  \n",
       "4      product_page 2020-12-20           0 days  \n",
       "...             ...        ...              ...  \n",
       "23904         login 2020-12-07           0 days  \n",
       "23905         login 2020-12-08           1 days  \n",
       "23906         login 2020-12-09           2 days  \n",
       "23907         login 2020-12-10           3 days  \n",
       "23908         login 2020-12-14           7 days  \n",
       "\n",
       "[23362 rows x 7 columns]"
      ]
     },
     "execution_count": 44,
     "metadata": {},
     "output_type": "execute_result"
    }
   ],
   "source": [
    "total_sample"
   ]
  },
  {
   "cell_type": "markdown",
   "metadata": {},
   "source": [
    "Expected number of participants is 6000, however, we can see above that the unique participants number is well below this number"
   ]
  },
  {
   "cell_type": "markdown",
   "metadata": {},
   "source": [
    "#### Hypothesis"
   ]
  },
  {
   "cell_type": "markdown",
   "metadata": {},
   "source": [
    "\n",
    "- H0: The proportions of Group A and Group B are equal\n",
    "- H1: The proportions of Group A and Group B are not equal"
   ]
  },
  {
   "cell_type": "code",
   "execution_count": 45,
   "metadata": {},
   "outputs": [
    {
     "name": "stdout",
     "output_type": "stream",
     "text": [
      "The family-wise error rate (FWER) is: 0.1426250000000001\n",
      "The alpha level with Bonferroni correction is:  0.016666666666666666\n"
     ]
    }
   ],
   "source": [
    "# Considering that we will perform several dependent statistical tests simultaneously,\n",
    "# we should use a multiple-comparison correction for the alpha value here:\n",
    "\n",
    "\n",
    "alpha = 0.05\n",
    "num_of_tests = 3\n",
    "\n",
    "fwer = 1 - (1 - alpha) ** (num_of_tests)\n",
    "bonferroni_alpha = alpha/num_of_tests\n",
    " \n",
    "print('The family-wise error rate (FWER) is:', fwer)\n",
    "print('The alpha level with Bonferroni correction is: ',bonferroni_alpha)"
   ]
  },
  {
   "cell_type": "code",
   "execution_count": 46,
   "metadata": {},
   "outputs": [],
   "source": [
    "# Creating function to test all events\n",
    "\n",
    "def check_hypotheses(group1, group2, event, alpha):\n",
    "    \n",
    "    success1 = merged_events[merged_events['event_name']==event][group1].iloc[0]\n",
    "    success2 = merged_events[merged_events['event_name']==event][group2].iloc[0]\n",
    "    \n",
    "    trials1 = total_sample[total_sample['group']==group1]['user_id'].nunique()\n",
    "    trials2 = total_sample[total_sample['group']==group2]['user_id'].nunique()\n",
    "    \n",
    "    p1 = success1/trials1\n",
    "    p2 = success2/trials2\n",
    "    \n",
    "    p_combined = (success1 + success2) / (trials1 + trials2)\n",
    "    difference = p1 - p2\n",
    "    \n",
    "    z_value = difference / mth.sqrt(p_combined * (1 - p_combined) * (1/trials1 + 1/trials2))\n",
    "    \n",
    "    distr = st.norm(0, 1)  \n",
    "    \n",
    "    p_value = (1 - distr.cdf(abs(z_value))) * 2\n",
    "    \n",
    "    print('p-value: ', p_value)\n",
    "    \n",
    "    if (p_value < alpha):\n",
    "        print(\"Rejecting the null hypothesis: group\", group1, \"and group\", group2, \"seem to be statistically different\")\n",
    "    else:\n",
    "        print(\"Failed to reject the null hypothesis: group\", group1, \"and group\", group2, \"seem to be statistically equal\") "
   ]
  },
  {
   "cell_type": "code",
   "execution_count": 47,
   "metadata": {},
   "outputs": [
    {
     "name": "stdout",
     "output_type": "stream",
     "text": [
      "p-value:  4.310980554755872e-06\n",
      "Rejecting the null hypothesis: group A and group B seem to be statistically different\n"
     ]
    }
   ],
   "source": [
    "# Testing hypotheses on 'product page' event\n",
    "\n",
    "check_hypotheses('A','B','product_page', bonferroni_alpha)"
   ]
  },
  {
   "cell_type": "code",
   "execution_count": 48,
   "metadata": {},
   "outputs": [
    {
     "name": "stdout",
     "output_type": "stream",
     "text": [
      "p-value:  0.14534814557238196\n",
      "Failed to reject the null hypothesis: group A and group B seem to be statistically equal\n"
     ]
    }
   ],
   "source": [
    "# Testing hypotheses on 'product cart' event\n",
    "\n",
    "check_hypotheses('A','B','product_cart', bonferroni_alpha)"
   ]
  },
  {
   "cell_type": "code",
   "execution_count": 49,
   "metadata": {},
   "outputs": [
    {
     "name": "stdout",
     "output_type": "stream",
     "text": [
      "p-value:  0.017592402663314743\n",
      "Failed to reject the null hypothesis: group A and group B seem to be statistically equal\n"
     ]
    }
   ],
   "source": [
    "# Testing hypotheses on 'purchase' event\n",
    "\n",
    "check_hypotheses('A','B','purchase', bonferroni_alpha)"
   ]
  },
  {
   "cell_type": "markdown",
   "metadata": {},
   "source": [
    "### Conclusions"
   ]
  },
  {
   "cell_type": "markdown",
   "metadata": {},
   "source": [
    "\n",
    "- Conversion for Group B is well below that of Group A, which points to the fact that the test was not successful\n",
    "\n",
    "**It seems that groups A and B are statistically different in all stages of the funnel, except for the 'product cart' stage** \n",
    "- Ideally the results of the test should be equal for all stages of the funnel \n",
    "\n",
    "**The following problems were found:**\n",
    "\n",
    "- Group sizes are so different to each other (The proportion of participants in groups A/B in recommender_system_test is about 30/70), the probability of making a type 2 error increases (because the size of the groups will be determined by the group with the fewest users)\n",
    "- The number of participants is 3675, however, the expected number of test participants is 6000 \n",
    "- Only 8% of EU users went into the test, not 15%, as expected\n",
    "- The proportion of participants in groups A/B in recommender_system_test is about 35/65, which is much more than 1%. \n",
    "- The test was supposed to include 15% of the new users from the EU region, but users from other regions went in there as well.\n",
    "\n",
    "\n",
    "**It's very hard to judge that the expected 10% increase at each stage of the funnel really happened since the sample sizes are so different**\n",
    "\n",
    "It would be ideal to run another test, in which the dates don't overlap at all with any marketing campaigns or seasonality factors, like the ones expected to happen in the month of December. In any case, if the test happens during the same dates of a marketing campaign, it would be ideal for the test to cover the entire period of the campaign, and not just part of it, to be able to really trust the results\n",
    "\n",
    "**We should be cautious when trusting the results of the test 100%, and for all the reasons stated above, we should repeat the test**"
   ]
  }
 ],
 "metadata": {
  "kernelspec": {
   "display_name": "Python 3 (ipykernel)",
   "language": "python",
   "name": "python3"
  },
  "language_info": {
   "codemirror_mode": {
    "name": "ipython",
    "version": 3
   },
   "file_extension": ".py",
   "mimetype": "text/x-python",
   "name": "python",
   "nbconvert_exporter": "python",
   "pygments_lexer": "ipython3",
   "version": "3.9.5"
  },
  "toc": {
   "base_numbering": 1,
   "nav_menu": {},
   "number_sections": true,
   "sideBar": true,
   "skip_h1_title": true,
   "title_cell": "Table of Contents",
   "title_sidebar": "Contents",
   "toc_cell": false,
   "toc_position": {},
   "toc_section_display": true,
   "toc_window_display": false
  }
 },
 "nbformat": 4,
 "nbformat_minor": 2
}
