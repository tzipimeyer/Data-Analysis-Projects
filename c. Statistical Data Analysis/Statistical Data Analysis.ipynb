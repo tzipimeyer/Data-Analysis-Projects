{
 "cells": [
  {
   "cell_type": "markdown",
   "metadata": {},
   "source": [
    "# Project Description\n",
    "\n",
    "- The main goal of this project is to find out which of the plans (surf or ultimate) brings in more revenue in order to adjust the advertising budget accordingly.\n",
    "- To determine this, we will analyze the data on 500 clients and their behavior."
   ]
  },
  {
   "cell_type": "markdown",
   "metadata": {},
   "source": [
    "## Step - Open the data file and study the general information"
   ]
  },
  {
   "cell_type": "code",
   "execution_count": 1,
   "metadata": {},
   "outputs": [],
   "source": [
    "import pandas as pd\n",
    "import numpy as np\n",
    "import numpy as npy\n",
    "import matplotlib.pyplot as plt  \n",
    "\n",
    "calls = pd.read_csv('/datasets/megaline_calls.csv')\n",
    "internet = pd.read_csv('/datasets/megaline_internet.csv')\n",
    "messages = pd.read_csv('/datasets/megaline_messages.csv')\n",
    "plans = pd.read_csv('/datasets/megaline_plans.csv')\n",
    "users = pd.read_csv('/datasets/megaline_users.csv')"
   ]
  },
  {
   "cell_type": "code",
   "execution_count": 2,
   "metadata": {},
   "outputs": [],
   "source": [
    "def initial_stage(data):\n",
    "    print(data.info())\n",
    "    return (data).head()"
   ]
  },
  {
   "cell_type": "code",
   "execution_count": 3,
   "metadata": {},
   "outputs": [
    {
     "name": "stdout",
     "output_type": "stream",
     "text": [
      "<class 'pandas.core.frame.DataFrame'>\n",
      "RangeIndex: 137735 entries, 0 to 137734\n",
      "Data columns (total 4 columns):\n",
      " #   Column     Non-Null Count   Dtype  \n",
      "---  ------     --------------   -----  \n",
      " 0   id         137735 non-null  object \n",
      " 1   user_id    137735 non-null  int64  \n",
      " 2   call_date  137735 non-null  object \n",
      " 3   duration   137735 non-null  float64\n",
      "dtypes: float64(1), int64(1), object(2)\n",
      "memory usage: 4.2+ MB\n",
      "None\n"
     ]
    },
    {
     "data": {
      "text/html": [
       "<div>\n",
       "<style scoped>\n",
       "    .dataframe tbody tr th:only-of-type {\n",
       "        vertical-align: middle;\n",
       "    }\n",
       "\n",
       "    .dataframe tbody tr th {\n",
       "        vertical-align: top;\n",
       "    }\n",
       "\n",
       "    .dataframe thead th {\n",
       "        text-align: right;\n",
       "    }\n",
       "</style>\n",
       "<table border=\"1\" class=\"dataframe\">\n",
       "  <thead>\n",
       "    <tr style=\"text-align: right;\">\n",
       "      <th></th>\n",
       "      <th>id</th>\n",
       "      <th>user_id</th>\n",
       "      <th>call_date</th>\n",
       "      <th>duration</th>\n",
       "    </tr>\n",
       "  </thead>\n",
       "  <tbody>\n",
       "    <tr>\n",
       "      <th>0</th>\n",
       "      <td>1000_93</td>\n",
       "      <td>1000</td>\n",
       "      <td>2018-12-27</td>\n",
       "      <td>8.52</td>\n",
       "    </tr>\n",
       "    <tr>\n",
       "      <th>1</th>\n",
       "      <td>1000_145</td>\n",
       "      <td>1000</td>\n",
       "      <td>2018-12-27</td>\n",
       "      <td>13.66</td>\n",
       "    </tr>\n",
       "    <tr>\n",
       "      <th>2</th>\n",
       "      <td>1000_247</td>\n",
       "      <td>1000</td>\n",
       "      <td>2018-12-27</td>\n",
       "      <td>14.48</td>\n",
       "    </tr>\n",
       "    <tr>\n",
       "      <th>3</th>\n",
       "      <td>1000_309</td>\n",
       "      <td>1000</td>\n",
       "      <td>2018-12-28</td>\n",
       "      <td>5.76</td>\n",
       "    </tr>\n",
       "    <tr>\n",
       "      <th>4</th>\n",
       "      <td>1000_380</td>\n",
       "      <td>1000</td>\n",
       "      <td>2018-12-30</td>\n",
       "      <td>4.22</td>\n",
       "    </tr>\n",
       "  </tbody>\n",
       "</table>\n",
       "</div>"
      ],
      "text/plain": [
       "         id  user_id   call_date  duration\n",
       "0   1000_93     1000  2018-12-27      8.52\n",
       "1  1000_145     1000  2018-12-27     13.66\n",
       "2  1000_247     1000  2018-12-27     14.48\n",
       "3  1000_309     1000  2018-12-28      5.76\n",
       "4  1000_380     1000  2018-12-30      4.22"
      ]
     },
     "execution_count": 3,
     "metadata": {},
     "output_type": "execute_result"
    }
   ],
   "source": [
    "initial_stage(calls)"
   ]
  },
  {
   "cell_type": "code",
   "execution_count": 4,
   "metadata": {},
   "outputs": [
    {
     "data": {
      "text/html": [
       "<div>\n",
       "<style scoped>\n",
       "    .dataframe tbody tr th:only-of-type {\n",
       "        vertical-align: middle;\n",
       "    }\n",
       "\n",
       "    .dataframe tbody tr th {\n",
       "        vertical-align: top;\n",
       "    }\n",
       "\n",
       "    .dataframe thead th {\n",
       "        text-align: right;\n",
       "    }\n",
       "</style>\n",
       "<table border=\"1\" class=\"dataframe\">\n",
       "  <thead>\n",
       "    <tr style=\"text-align: right;\">\n",
       "      <th></th>\n",
       "      <th>id</th>\n",
       "      <th>user_id</th>\n",
       "      <th>call_date</th>\n",
       "      <th>duration</th>\n",
       "      <th>month</th>\n",
       "    </tr>\n",
       "  </thead>\n",
       "  <tbody>\n",
       "    <tr>\n",
       "      <th>0</th>\n",
       "      <td>1000_93</td>\n",
       "      <td>1000</td>\n",
       "      <td>2018-12-27</td>\n",
       "      <td>8.52</td>\n",
       "      <td>12</td>\n",
       "    </tr>\n",
       "    <tr>\n",
       "      <th>1</th>\n",
       "      <td>1000_145</td>\n",
       "      <td>1000</td>\n",
       "      <td>2018-12-27</td>\n",
       "      <td>13.66</td>\n",
       "      <td>12</td>\n",
       "    </tr>\n",
       "    <tr>\n",
       "      <th>2</th>\n",
       "      <td>1000_247</td>\n",
       "      <td>1000</td>\n",
       "      <td>2018-12-27</td>\n",
       "      <td>14.48</td>\n",
       "      <td>12</td>\n",
       "    </tr>\n",
       "    <tr>\n",
       "      <th>3</th>\n",
       "      <td>1000_309</td>\n",
       "      <td>1000</td>\n",
       "      <td>2018-12-28</td>\n",
       "      <td>5.76</td>\n",
       "      <td>12</td>\n",
       "    </tr>\n",
       "    <tr>\n",
       "      <th>4</th>\n",
       "      <td>1000_380</td>\n",
       "      <td>1000</td>\n",
       "      <td>2018-12-30</td>\n",
       "      <td>4.22</td>\n",
       "      <td>12</td>\n",
       "    </tr>\n",
       "  </tbody>\n",
       "</table>\n",
       "</div>"
      ],
      "text/plain": [
       "         id  user_id  call_date  duration  month\n",
       "0   1000_93     1000 2018-12-27      8.52     12\n",
       "1  1000_145     1000 2018-12-27     13.66     12\n",
       "2  1000_247     1000 2018-12-27     14.48     12\n",
       "3  1000_309     1000 2018-12-28      5.76     12\n",
       "4  1000_380     1000 2018-12-30      4.22     12"
      ]
     },
     "execution_count": 4,
     "metadata": {},
     "output_type": "execute_result"
    }
   ],
   "source": [
    "#converting call_date to date format\n",
    "\n",
    "calls['call_date'] = pd.to_datetime(calls['call_date'], format = '%Y-%m-%d')\n",
    "calls['month'] = pd.DatetimeIndex(calls['call_date']).month\n",
    "calls.head()\n"
   ]
  },
  {
   "cell_type": "code",
   "execution_count": 5,
   "metadata": {},
   "outputs": [
    {
     "name": "stdout",
     "output_type": "stream",
     "text": [
      "<class 'pandas.core.frame.DataFrame'>\n",
      "RangeIndex: 104825 entries, 0 to 104824\n",
      "Data columns (total 4 columns):\n",
      " #   Column        Non-Null Count   Dtype  \n",
      "---  ------        --------------   -----  \n",
      " 0   id            104825 non-null  object \n",
      " 1   user_id       104825 non-null  int64  \n",
      " 2   session_date  104825 non-null  object \n",
      " 3   mb_used       104825 non-null  float64\n",
      "dtypes: float64(1), int64(1), object(2)\n",
      "memory usage: 3.2+ MB\n",
      "None\n"
     ]
    },
    {
     "data": {
      "text/html": [
       "<div>\n",
       "<style scoped>\n",
       "    .dataframe tbody tr th:only-of-type {\n",
       "        vertical-align: middle;\n",
       "    }\n",
       "\n",
       "    .dataframe tbody tr th {\n",
       "        vertical-align: top;\n",
       "    }\n",
       "\n",
       "    .dataframe thead th {\n",
       "        text-align: right;\n",
       "    }\n",
       "</style>\n",
       "<table border=\"1\" class=\"dataframe\">\n",
       "  <thead>\n",
       "    <tr style=\"text-align: right;\">\n",
       "      <th></th>\n",
       "      <th>id</th>\n",
       "      <th>user_id</th>\n",
       "      <th>session_date</th>\n",
       "      <th>mb_used</th>\n",
       "    </tr>\n",
       "  </thead>\n",
       "  <tbody>\n",
       "    <tr>\n",
       "      <th>0</th>\n",
       "      <td>1000_13</td>\n",
       "      <td>1000</td>\n",
       "      <td>2018-12-29</td>\n",
       "      <td>89.86</td>\n",
       "    </tr>\n",
       "    <tr>\n",
       "      <th>1</th>\n",
       "      <td>1000_204</td>\n",
       "      <td>1000</td>\n",
       "      <td>2018-12-31</td>\n",
       "      <td>0.00</td>\n",
       "    </tr>\n",
       "    <tr>\n",
       "      <th>2</th>\n",
       "      <td>1000_379</td>\n",
       "      <td>1000</td>\n",
       "      <td>2018-12-28</td>\n",
       "      <td>660.40</td>\n",
       "    </tr>\n",
       "    <tr>\n",
       "      <th>3</th>\n",
       "      <td>1000_413</td>\n",
       "      <td>1000</td>\n",
       "      <td>2018-12-26</td>\n",
       "      <td>270.99</td>\n",
       "    </tr>\n",
       "    <tr>\n",
       "      <th>4</th>\n",
       "      <td>1000_442</td>\n",
       "      <td>1000</td>\n",
       "      <td>2018-12-27</td>\n",
       "      <td>880.22</td>\n",
       "    </tr>\n",
       "  </tbody>\n",
       "</table>\n",
       "</div>"
      ],
      "text/plain": [
       "         id  user_id session_date  mb_used\n",
       "0   1000_13     1000   2018-12-29    89.86\n",
       "1  1000_204     1000   2018-12-31     0.00\n",
       "2  1000_379     1000   2018-12-28   660.40\n",
       "3  1000_413     1000   2018-12-26   270.99\n",
       "4  1000_442     1000   2018-12-27   880.22"
      ]
     },
     "execution_count": 5,
     "metadata": {},
     "output_type": "execute_result"
    }
   ],
   "source": [
    "initial_stage(internet)"
   ]
  },
  {
   "cell_type": "code",
   "execution_count": 6,
   "metadata": {},
   "outputs": [
    {
     "data": {
      "text/html": [
       "<div>\n",
       "<style scoped>\n",
       "    .dataframe tbody tr th:only-of-type {\n",
       "        vertical-align: middle;\n",
       "    }\n",
       "\n",
       "    .dataframe tbody tr th {\n",
       "        vertical-align: top;\n",
       "    }\n",
       "\n",
       "    .dataframe thead th {\n",
       "        text-align: right;\n",
       "    }\n",
       "</style>\n",
       "<table border=\"1\" class=\"dataframe\">\n",
       "  <thead>\n",
       "    <tr style=\"text-align: right;\">\n",
       "      <th></th>\n",
       "      <th>id</th>\n",
       "      <th>user_id</th>\n",
       "      <th>session_date</th>\n",
       "      <th>mb_used</th>\n",
       "      <th>month</th>\n",
       "    </tr>\n",
       "  </thead>\n",
       "  <tbody>\n",
       "    <tr>\n",
       "      <th>0</th>\n",
       "      <td>1000_13</td>\n",
       "      <td>1000</td>\n",
       "      <td>2018-12-29</td>\n",
       "      <td>89.86</td>\n",
       "      <td>12</td>\n",
       "    </tr>\n",
       "    <tr>\n",
       "      <th>1</th>\n",
       "      <td>1000_204</td>\n",
       "      <td>1000</td>\n",
       "      <td>2018-12-31</td>\n",
       "      <td>0.00</td>\n",
       "      <td>12</td>\n",
       "    </tr>\n",
       "    <tr>\n",
       "      <th>2</th>\n",
       "      <td>1000_379</td>\n",
       "      <td>1000</td>\n",
       "      <td>2018-12-28</td>\n",
       "      <td>660.40</td>\n",
       "      <td>12</td>\n",
       "    </tr>\n",
       "    <tr>\n",
       "      <th>3</th>\n",
       "      <td>1000_413</td>\n",
       "      <td>1000</td>\n",
       "      <td>2018-12-26</td>\n",
       "      <td>270.99</td>\n",
       "      <td>12</td>\n",
       "    </tr>\n",
       "    <tr>\n",
       "      <th>4</th>\n",
       "      <td>1000_442</td>\n",
       "      <td>1000</td>\n",
       "      <td>2018-12-27</td>\n",
       "      <td>880.22</td>\n",
       "      <td>12</td>\n",
       "    </tr>\n",
       "  </tbody>\n",
       "</table>\n",
       "</div>"
      ],
      "text/plain": [
       "         id  user_id session_date  mb_used  month\n",
       "0   1000_13     1000   2018-12-29    89.86     12\n",
       "1  1000_204     1000   2018-12-31     0.00     12\n",
       "2  1000_379     1000   2018-12-28   660.40     12\n",
       "3  1000_413     1000   2018-12-26   270.99     12\n",
       "4  1000_442     1000   2018-12-27   880.22     12"
      ]
     },
     "execution_count": 6,
     "metadata": {},
     "output_type": "execute_result"
    }
   ],
   "source": [
    "#converting session_date to date format\n",
    "\n",
    "internet['session_date'] = pd.to_datetime(internet['session_date'], format = '%Y-%m-%d')\n",
    "internet['month'] = pd.DatetimeIndex(internet['session_date']).month\n",
    "internet.head()"
   ]
  },
  {
   "cell_type": "code",
   "execution_count": 7,
   "metadata": {},
   "outputs": [
    {
     "name": "stdout",
     "output_type": "stream",
     "text": [
      "<class 'pandas.core.frame.DataFrame'>\n",
      "RangeIndex: 76051 entries, 0 to 76050\n",
      "Data columns (total 3 columns):\n",
      " #   Column        Non-Null Count  Dtype \n",
      "---  ------        --------------  ----- \n",
      " 0   id            76051 non-null  object\n",
      " 1   user_id       76051 non-null  int64 \n",
      " 2   message_date  76051 non-null  object\n",
      "dtypes: int64(1), object(2)\n",
      "memory usage: 1.7+ MB\n",
      "None\n"
     ]
    },
    {
     "data": {
      "text/html": [
       "<div>\n",
       "<style scoped>\n",
       "    .dataframe tbody tr th:only-of-type {\n",
       "        vertical-align: middle;\n",
       "    }\n",
       "\n",
       "    .dataframe tbody tr th {\n",
       "        vertical-align: top;\n",
       "    }\n",
       "\n",
       "    .dataframe thead th {\n",
       "        text-align: right;\n",
       "    }\n",
       "</style>\n",
       "<table border=\"1\" class=\"dataframe\">\n",
       "  <thead>\n",
       "    <tr style=\"text-align: right;\">\n",
       "      <th></th>\n",
       "      <th>id</th>\n",
       "      <th>user_id</th>\n",
       "      <th>message_date</th>\n",
       "    </tr>\n",
       "  </thead>\n",
       "  <tbody>\n",
       "    <tr>\n",
       "      <th>0</th>\n",
       "      <td>1000_125</td>\n",
       "      <td>1000</td>\n",
       "      <td>2018-12-27</td>\n",
       "    </tr>\n",
       "    <tr>\n",
       "      <th>1</th>\n",
       "      <td>1000_160</td>\n",
       "      <td>1000</td>\n",
       "      <td>2018-12-31</td>\n",
       "    </tr>\n",
       "    <tr>\n",
       "      <th>2</th>\n",
       "      <td>1000_223</td>\n",
       "      <td>1000</td>\n",
       "      <td>2018-12-31</td>\n",
       "    </tr>\n",
       "    <tr>\n",
       "      <th>3</th>\n",
       "      <td>1000_251</td>\n",
       "      <td>1000</td>\n",
       "      <td>2018-12-27</td>\n",
       "    </tr>\n",
       "    <tr>\n",
       "      <th>4</th>\n",
       "      <td>1000_255</td>\n",
       "      <td>1000</td>\n",
       "      <td>2018-12-26</td>\n",
       "    </tr>\n",
       "  </tbody>\n",
       "</table>\n",
       "</div>"
      ],
      "text/plain": [
       "         id  user_id message_date\n",
       "0  1000_125     1000   2018-12-27\n",
       "1  1000_160     1000   2018-12-31\n",
       "2  1000_223     1000   2018-12-31\n",
       "3  1000_251     1000   2018-12-27\n",
       "4  1000_255     1000   2018-12-26"
      ]
     },
     "execution_count": 7,
     "metadata": {},
     "output_type": "execute_result"
    }
   ],
   "source": [
    "initial_stage(messages)"
   ]
  },
  {
   "cell_type": "code",
   "execution_count": 8,
   "metadata": {},
   "outputs": [],
   "source": [
    "#Converting message_date to date format\n",
    "\n",
    "messages['message_date'] = pd.to_datetime(messages['message_date'], format = '%Y-%m-%d')\n",
    "messages['month'] = pd.DatetimeIndex(messages['message_date']).month"
   ]
  },
  {
   "cell_type": "code",
   "execution_count": 9,
   "metadata": {},
   "outputs": [
    {
     "name": "stdout",
     "output_type": "stream",
     "text": [
      "<class 'pandas.core.frame.DataFrame'>\n",
      "RangeIndex: 2 entries, 0 to 1\n",
      "Data columns (total 8 columns):\n",
      " #   Column                 Non-Null Count  Dtype  \n",
      "---  ------                 --------------  -----  \n",
      " 0   messages_included      2 non-null      int64  \n",
      " 1   mb_per_month_included  2 non-null      int64  \n",
      " 2   minutes_included       2 non-null      int64  \n",
      " 3   usd_monthly_pay        2 non-null      int64  \n",
      " 4   usd_per_gb             2 non-null      int64  \n",
      " 5   usd_per_message        2 non-null      float64\n",
      " 6   usd_per_minute         2 non-null      float64\n",
      " 7   plan                   2 non-null      object \n",
      "dtypes: float64(2), int64(5), object(1)\n",
      "memory usage: 256.0+ bytes\n",
      "None\n"
     ]
    },
    {
     "data": {
      "text/html": [
       "<div>\n",
       "<style scoped>\n",
       "    .dataframe tbody tr th:only-of-type {\n",
       "        vertical-align: middle;\n",
       "    }\n",
       "\n",
       "    .dataframe tbody tr th {\n",
       "        vertical-align: top;\n",
       "    }\n",
       "\n",
       "    .dataframe thead th {\n",
       "        text-align: right;\n",
       "    }\n",
       "</style>\n",
       "<table border=\"1\" class=\"dataframe\">\n",
       "  <thead>\n",
       "    <tr style=\"text-align: right;\">\n",
       "      <th></th>\n",
       "      <th>messages_included</th>\n",
       "      <th>mb_per_month_included</th>\n",
       "      <th>minutes_included</th>\n",
       "      <th>usd_monthly_pay</th>\n",
       "      <th>usd_per_gb</th>\n",
       "      <th>usd_per_message</th>\n",
       "      <th>usd_per_minute</th>\n",
       "      <th>plan</th>\n",
       "    </tr>\n",
       "  </thead>\n",
       "  <tbody>\n",
       "    <tr>\n",
       "      <th>0</th>\n",
       "      <td>50</td>\n",
       "      <td>15360</td>\n",
       "      <td>500</td>\n",
       "      <td>20</td>\n",
       "      <td>10</td>\n",
       "      <td>0.03</td>\n",
       "      <td>0.03</td>\n",
       "      <td>surf</td>\n",
       "    </tr>\n",
       "    <tr>\n",
       "      <th>1</th>\n",
       "      <td>1000</td>\n",
       "      <td>30720</td>\n",
       "      <td>3000</td>\n",
       "      <td>70</td>\n",
       "      <td>7</td>\n",
       "      <td>0.01</td>\n",
       "      <td>0.01</td>\n",
       "      <td>ultimate</td>\n",
       "    </tr>\n",
       "  </tbody>\n",
       "</table>\n",
       "</div>"
      ],
      "text/plain": [
       "   messages_included  mb_per_month_included  minutes_included  \\\n",
       "0                 50                  15360               500   \n",
       "1               1000                  30720              3000   \n",
       "\n",
       "   usd_monthly_pay  usd_per_gb  usd_per_message  usd_per_minute      plan  \n",
       "0               20          10             0.03            0.03      surf  \n",
       "1               70           7             0.01            0.01  ultimate  "
      ]
     },
     "execution_count": 9,
     "metadata": {},
     "output_type": "execute_result"
    }
   ],
   "source": [
    "plans.rename(columns={'plan_name': 'plan'}, inplace=True)\n",
    "initial_stage(plans)"
   ]
  },
  {
   "cell_type": "code",
   "execution_count": 10,
   "metadata": {},
   "outputs": [
    {
     "name": "stdout",
     "output_type": "stream",
     "text": [
      "<class 'pandas.core.frame.DataFrame'>\n",
      "RangeIndex: 500 entries, 0 to 499\n",
      "Data columns (total 8 columns):\n",
      " #   Column      Non-Null Count  Dtype \n",
      "---  ------      --------------  ----- \n",
      " 0   user_id     500 non-null    int64 \n",
      " 1   first_name  500 non-null    object\n",
      " 2   last_name   500 non-null    object\n",
      " 3   age         500 non-null    int64 \n",
      " 4   city        500 non-null    object\n",
      " 5   reg_date    500 non-null    object\n",
      " 6   plan        500 non-null    object\n",
      " 7   churn_date  34 non-null     object\n",
      "dtypes: int64(2), object(6)\n",
      "memory usage: 31.4+ KB\n",
      "None\n"
     ]
    },
    {
     "data": {
      "text/html": [
       "<div>\n",
       "<style scoped>\n",
       "    .dataframe tbody tr th:only-of-type {\n",
       "        vertical-align: middle;\n",
       "    }\n",
       "\n",
       "    .dataframe tbody tr th {\n",
       "        vertical-align: top;\n",
       "    }\n",
       "\n",
       "    .dataframe thead th {\n",
       "        text-align: right;\n",
       "    }\n",
       "</style>\n",
       "<table border=\"1\" class=\"dataframe\">\n",
       "  <thead>\n",
       "    <tr style=\"text-align: right;\">\n",
       "      <th></th>\n",
       "      <th>user_id</th>\n",
       "      <th>first_name</th>\n",
       "      <th>last_name</th>\n",
       "      <th>age</th>\n",
       "      <th>city</th>\n",
       "      <th>reg_date</th>\n",
       "      <th>plan</th>\n",
       "      <th>churn_date</th>\n",
       "    </tr>\n",
       "  </thead>\n",
       "  <tbody>\n",
       "    <tr>\n",
       "      <th>0</th>\n",
       "      <td>1000</td>\n",
       "      <td>Anamaria</td>\n",
       "      <td>Bauer</td>\n",
       "      <td>45</td>\n",
       "      <td>Atlanta-Sandy Springs-Roswell, GA MSA</td>\n",
       "      <td>2018-12-24</td>\n",
       "      <td>ultimate</td>\n",
       "      <td>NaN</td>\n",
       "    </tr>\n",
       "    <tr>\n",
       "      <th>1</th>\n",
       "      <td>1001</td>\n",
       "      <td>Mickey</td>\n",
       "      <td>Wilkerson</td>\n",
       "      <td>28</td>\n",
       "      <td>Seattle-Tacoma-Bellevue, WA MSA</td>\n",
       "      <td>2018-08-13</td>\n",
       "      <td>surf</td>\n",
       "      <td>NaN</td>\n",
       "    </tr>\n",
       "    <tr>\n",
       "      <th>2</th>\n",
       "      <td>1002</td>\n",
       "      <td>Carlee</td>\n",
       "      <td>Hoffman</td>\n",
       "      <td>36</td>\n",
       "      <td>Las Vegas-Henderson-Paradise, NV MSA</td>\n",
       "      <td>2018-10-21</td>\n",
       "      <td>surf</td>\n",
       "      <td>NaN</td>\n",
       "    </tr>\n",
       "    <tr>\n",
       "      <th>3</th>\n",
       "      <td>1003</td>\n",
       "      <td>Reynaldo</td>\n",
       "      <td>Jenkins</td>\n",
       "      <td>52</td>\n",
       "      <td>Tulsa, OK MSA</td>\n",
       "      <td>2018-01-28</td>\n",
       "      <td>surf</td>\n",
       "      <td>NaN</td>\n",
       "    </tr>\n",
       "    <tr>\n",
       "      <th>4</th>\n",
       "      <td>1004</td>\n",
       "      <td>Leonila</td>\n",
       "      <td>Thompson</td>\n",
       "      <td>40</td>\n",
       "      <td>Seattle-Tacoma-Bellevue, WA MSA</td>\n",
       "      <td>2018-05-23</td>\n",
       "      <td>surf</td>\n",
       "      <td>NaN</td>\n",
       "    </tr>\n",
       "  </tbody>\n",
       "</table>\n",
       "</div>"
      ],
      "text/plain": [
       "   user_id first_name  last_name  age                                   city  \\\n",
       "0     1000   Anamaria      Bauer   45  Atlanta-Sandy Springs-Roswell, GA MSA   \n",
       "1     1001     Mickey  Wilkerson   28        Seattle-Tacoma-Bellevue, WA MSA   \n",
       "2     1002     Carlee    Hoffman   36   Las Vegas-Henderson-Paradise, NV MSA   \n",
       "3     1003   Reynaldo    Jenkins   52                          Tulsa, OK MSA   \n",
       "4     1004    Leonila   Thompson   40        Seattle-Tacoma-Bellevue, WA MSA   \n",
       "\n",
       "     reg_date      plan churn_date  \n",
       "0  2018-12-24  ultimate        NaN  \n",
       "1  2018-08-13      surf        NaN  \n",
       "2  2018-10-21      surf        NaN  \n",
       "3  2018-01-28      surf        NaN  \n",
       "4  2018-05-23      surf        NaN  "
      ]
     },
     "execution_count": 10,
     "metadata": {},
     "output_type": "execute_result"
    }
   ],
   "source": [
    "initial_stage(users)"
   ]
  },
  {
   "cell_type": "code",
   "execution_count": 11,
   "metadata": {},
   "outputs": [
    {
     "name": "stdout",
     "output_type": "stream",
     "text": [
      "     user_id  first_name  last_name  age  \\\n",
      "6       1006      Jesusa   Bradford   73   \n",
      "12      1012     Jonelle    Mcbride   59   \n",
      "22      1022          Bo       Snow   73   \n",
      "40      1040       Paris     Santos   72   \n",
      "50      1050        Jone       Owen   23   \n",
      "54      1054       Denis      Frost   50   \n",
      "67      1067        Robt      Allen   37   \n",
      "83      1083      Lyndia    Acevedo   65   \n",
      "84      1084       Wiley   Mckinney   21   \n",
      "94      1094      Walter   Petersen   54   \n",
      "106     1106        Eddy   Garrison   47   \n",
      "129     1129       Marin     Bolton   70   \n",
      "172     1172      Weldon   Robinson   72   \n",
      "180     1180       Wonda       Hays   24   \n",
      "186     1186      Josiah    Douglas   55   \n",
      "191     1191        Zack     Waters   75   \n",
      "220     1220        Jack     Strong   26   \n",
      "246     1246      Stevie      Moran   69   \n",
      "269     1269      Irving   Thompson   39   \n",
      "281     1281        Zack      Hardy   39   \n",
      "296     1296      Weston     Conley   36   \n",
      "298     1298       Loyce     Cooley   53   \n",
      "300     1300        Rene      Frost   23   \n",
      "315     1315        Mora  Schroeder   45   \n",
      "358     1358      Vaughn  Maldonado   20   \n",
      "363     1363      Sandee       Lott   33   \n",
      "402     1402       Jesus      Berry   25   \n",
      "414     1414  Georgianne    Herring   30   \n",
      "416     1416        Deja       Moss   25   \n",
      "441     1441      Piedad      Myers   23   \n",
      "451     1451      Lenard    Harding   53   \n",
      "466     1466    Alphonse     Harmon   56   \n",
      "467     1467    Nickolas     Deleon   64   \n",
      "491     1491      Terina     Jensen   22   \n",
      "\n",
      "                                                 city    reg_date      plan  \\\n",
      "6              San Francisco-Oakland-Berkeley, CA MSA  2018-11-27  ultimate   \n",
      "12             Chicago-Naperville-Elgin, IL-IN-WI MSA  2018-06-28      surf   \n",
      "22          New York-Newark-Jersey City, NY-NJ-PA MSA  2018-04-20      surf   \n",
      "40    Philadelphia-Camden-Wilmington, PA-NJ-DE-MD MSA  2018-12-23      surf   \n",
      "50      Miami-Fort Lauderdale-West Palm Beach, FL MSA  2018-03-20  ultimate   \n",
      "54                      Phoenix-Mesa-Chandler, AZ MSA  2018-04-21      surf   \n",
      "67                      Grand Rapids-Kentwood, MI MSA  2018-09-24      surf   \n",
      "83             Los Angeles-Long Beach-Anaheim, CA MSA  2018-10-26      surf   \n",
      "84      Miami-Fort Lauderdale-West Palm Beach, FL MSA  2018-06-04      surf   \n",
      "94             Los Angeles-Long Beach-Anaheim, CA MSA  2018-10-30      surf   \n",
      "106         New York-Newark-Jersey City, NY-NJ-PA MSA  2018-05-10      surf   \n",
      "129                               Baton Rouge, LA MSA  2018-11-10      surf   \n",
      "172                Boston-Cambridge-Newton, MA-NH MSA  2018-03-30      surf   \n",
      "180         New York-Newark-Jersey City, NY-NJ-PA MSA  2018-12-01      surf   \n",
      "186              Las Vegas-Henderson-Paradise, NV MSA  2018-12-22  ultimate   \n",
      "191                              St. Louis, MO-IL MSA  2018-01-21  ultimate   \n",
      "220                          Cincinnati, OH-KY-IN MSA  2018-04-22      surf   \n",
      "246           Tampa-St. Petersburg-Clearwater, FL MSA  2018-01-09  ultimate   \n",
      "269               Dallas-Fort Worth-Arlington, TX MSA  2018-09-13  ultimate   \n",
      "281             Charlotte-Concord-Gastonia, NC-SC MSA  2018-07-23      surf   \n",
      "296     Miami-Fort Lauderdale-West Palm Beach, FL MSA  2018-10-20  ultimate   \n",
      "298  Nashville-Davidson–Murfreesboro–Franklin, TN MSA  2018-09-21      surf   \n",
      "300         New York-Newark-Jersey City, NY-NJ-PA MSA  2018-10-21      surf   \n",
      "315                              Raleigh-Cary, NC MSA  2018-04-26      surf   \n",
      "358         New York-Newark-Jersey City, NY-NJ-PA MSA  2018-04-26      surf   \n",
      "363                   Seattle-Tacoma-Bellevue, WA MSA  2018-01-05  ultimate   \n",
      "402         New York-Newark-Jersey City, NY-NJ-PA MSA  2018-06-11      surf   \n",
      "414                            Urban Honolulu, HI MSA  2018-03-03      surf   \n",
      "416       Minneapolis-St. Paul-Bloomington, MN-WI MSA  2018-10-03      surf   \n",
      "441             Atlanta-Sandy Springs-Roswell, GA MSA  2018-03-08  ultimate   \n",
      "451             Charlotte-Concord-Gastonia, NC-SC MSA  2018-02-15  ultimate   \n",
      "466            Los Angeles-Long Beach-Anaheim, CA MSA  2018-01-26      surf   \n",
      "467             Atlanta-Sandy Springs-Roswell, GA MSA  2018-01-31  ultimate   \n",
      "491                     Grand Rapids-Kentwood, MI MSA  2018-04-27      surf   \n",
      "\n",
      "     churn_date  \n",
      "6    2018-12-18  \n",
      "12   2018-11-16  \n",
      "22   2018-09-07  \n",
      "40   2018-12-30  \n",
      "50   2018-10-07  \n",
      "54   2018-12-31  \n",
      "67   2018-11-24  \n",
      "83   2018-12-18  \n",
      "84   2018-11-11  \n",
      "94   2018-12-12  \n",
      "106  2018-11-14  \n",
      "129  2018-12-27  \n",
      "172  2018-11-29  \n",
      "180  2018-12-22  \n",
      "186  2018-12-31  \n",
      "191  2018-11-30  \n",
      "220  2018-10-13  \n",
      "246  2018-07-31  \n",
      "269  2018-12-15  \n",
      "281  2018-11-14  \n",
      "296  2018-12-18  \n",
      "298  2018-12-19  \n",
      "300  2018-12-19  \n",
      "315  2018-10-03  \n",
      "358  2018-10-22  \n",
      "363  2018-08-16  \n",
      "402  2018-12-26  \n",
      "414  2018-09-01  \n",
      "416  2018-11-21  \n",
      "441  2018-08-19  \n",
      "451  2018-12-10  \n",
      "466  2018-09-17  \n",
      "467  2018-11-18  \n",
      "491  2018-09-18  \n"
     ]
    }
   ],
   "source": [
    "#Studying in missing values in churn_date\n",
    "\n",
    "print(users[~users['churn_date'].isna()])"
   ]
  },
  {
   "cell_type": "markdown",
   "metadata": {},
   "source": [
    "## Step - Prepare the data\n",
    "\n",
    "- Convert the data to the necessary types\n",
    "- Find and eliminate errors in the data\n",
    "- Explain what errors you found and how you removed them.\n",
    "- For each user, find:\n",
    "    - The number of calls made and minutes used per month\n",
    "    - The number of text messages sent per month\n",
    "    - The volume of data per month\n",
    "    - The monthly revenue from each user (subtract the free package limit from the total number of calls, text messages, and data; multiply the result by the calling plan value; add the monthly charge depending on the calling plan)"
   ]
  },
  {
   "cell_type": "code",
   "execution_count": 12,
   "metadata": {},
   "outputs": [],
   "source": [
    "# The number of calls made and minutes used per month\n",
    "\n",
    "# Rounding up individual calls\n",
    "calls['duration'] = calls['duration'].apply(np.ceil)\n",
    "\n",
    "number_of_calls = calls.groupby(['user_id', 'month'])['duration'].agg(['count','sum']).reset_index()\n",
    "number_of_calls.columns = ['user_id', 'month','calls_made', 'minutes_used']\n",
    "number_of_calls['minutes_used'] = number_of_calls['minutes_used'].astype('int')\n"
   ]
  },
  {
   "cell_type": "code",
   "execution_count": 13,
   "metadata": {},
   "outputs": [
    {
     "data": {
      "text/html": [
       "<div>\n",
       "<style scoped>\n",
       "    .dataframe tbody tr th:only-of-type {\n",
       "        vertical-align: middle;\n",
       "    }\n",
       "\n",
       "    .dataframe tbody tr th {\n",
       "        vertical-align: top;\n",
       "    }\n",
       "\n",
       "    .dataframe thead th {\n",
       "        text-align: right;\n",
       "    }\n",
       "</style>\n",
       "<table border=\"1\" class=\"dataframe\">\n",
       "  <thead>\n",
       "    <tr style=\"text-align: right;\">\n",
       "      <th></th>\n",
       "      <th>user_id</th>\n",
       "      <th>month</th>\n",
       "      <th>month_messages</th>\n",
       "    </tr>\n",
       "  </thead>\n",
       "  <tbody>\n",
       "    <tr>\n",
       "      <th>0</th>\n",
       "      <td>1000</td>\n",
       "      <td>12</td>\n",
       "      <td>11</td>\n",
       "    </tr>\n",
       "    <tr>\n",
       "      <th>1</th>\n",
       "      <td>1001</td>\n",
       "      <td>8</td>\n",
       "      <td>30</td>\n",
       "    </tr>\n",
       "    <tr>\n",
       "      <th>2</th>\n",
       "      <td>1001</td>\n",
       "      <td>9</td>\n",
       "      <td>44</td>\n",
       "    </tr>\n",
       "    <tr>\n",
       "      <th>3</th>\n",
       "      <td>1001</td>\n",
       "      <td>10</td>\n",
       "      <td>53</td>\n",
       "    </tr>\n",
       "    <tr>\n",
       "      <th>4</th>\n",
       "      <td>1001</td>\n",
       "      <td>11</td>\n",
       "      <td>36</td>\n",
       "    </tr>\n",
       "    <tr>\n",
       "      <th>...</th>\n",
       "      <td>...</td>\n",
       "      <td>...</td>\n",
       "      <td>...</td>\n",
       "    </tr>\n",
       "    <tr>\n",
       "      <th>1801</th>\n",
       "      <td>1496</td>\n",
       "      <td>9</td>\n",
       "      <td>21</td>\n",
       "    </tr>\n",
       "    <tr>\n",
       "      <th>1802</th>\n",
       "      <td>1496</td>\n",
       "      <td>10</td>\n",
       "      <td>18</td>\n",
       "    </tr>\n",
       "    <tr>\n",
       "      <th>1803</th>\n",
       "      <td>1496</td>\n",
       "      <td>11</td>\n",
       "      <td>13</td>\n",
       "    </tr>\n",
       "    <tr>\n",
       "      <th>1804</th>\n",
       "      <td>1496</td>\n",
       "      <td>12</td>\n",
       "      <td>11</td>\n",
       "    </tr>\n",
       "    <tr>\n",
       "      <th>1805</th>\n",
       "      <td>1497</td>\n",
       "      <td>12</td>\n",
       "      <td>50</td>\n",
       "    </tr>\n",
       "  </tbody>\n",
       "</table>\n",
       "<p>1806 rows × 3 columns</p>\n",
       "</div>"
      ],
      "text/plain": [
       "      user_id  month  month_messages\n",
       "0        1000     12              11\n",
       "1        1001      8              30\n",
       "2        1001      9              44\n",
       "3        1001     10              53\n",
       "4        1001     11              36\n",
       "...       ...    ...             ...\n",
       "1801     1496      9              21\n",
       "1802     1496     10              18\n",
       "1803     1496     11              13\n",
       "1804     1496     12              11\n",
       "1805     1497     12              50\n",
       "\n",
       "[1806 rows x 3 columns]"
      ]
     },
     "execution_count": 13,
     "metadata": {},
     "output_type": "execute_result"
    }
   ],
   "source": [
    "# The number of text messages sent per month\n",
    "\n",
    "number_of_messages = messages.groupby(['user_id', 'month'])['id'].agg(['count']).reset_index()\n",
    "number_of_messages.columns = ['user_id', 'month','month_messages']\n",
    "number_of_messages"
   ]
  },
  {
   "cell_type": "code",
   "execution_count": 14,
   "metadata": {},
   "outputs": [
    {
     "data": {
      "text/html": [
       "<div>\n",
       "<style scoped>\n",
       "    .dataframe tbody tr th:only-of-type {\n",
       "        vertical-align: middle;\n",
       "    }\n",
       "\n",
       "    .dataframe tbody tr th {\n",
       "        vertical-align: top;\n",
       "    }\n",
       "\n",
       "    .dataframe thead th {\n",
       "        text-align: right;\n",
       "    }\n",
       "</style>\n",
       "<table border=\"1\" class=\"dataframe\">\n",
       "  <thead>\n",
       "    <tr style=\"text-align: right;\">\n",
       "      <th></th>\n",
       "      <th>user_id</th>\n",
       "      <th>month</th>\n",
       "      <th>mb_volume</th>\n",
       "      <th>gb_volume</th>\n",
       "    </tr>\n",
       "  </thead>\n",
       "  <tbody>\n",
       "    <tr>\n",
       "      <th>0</th>\n",
       "      <td>1000</td>\n",
       "      <td>12</td>\n",
       "      <td>1901.47</td>\n",
       "      <td>2</td>\n",
       "    </tr>\n",
       "    <tr>\n",
       "      <th>1</th>\n",
       "      <td>1001</td>\n",
       "      <td>8</td>\n",
       "      <td>6919.15</td>\n",
       "      <td>7</td>\n",
       "    </tr>\n",
       "    <tr>\n",
       "      <th>2</th>\n",
       "      <td>1001</td>\n",
       "      <td>9</td>\n",
       "      <td>13314.82</td>\n",
       "      <td>14</td>\n",
       "    </tr>\n",
       "    <tr>\n",
       "      <th>3</th>\n",
       "      <td>1001</td>\n",
       "      <td>10</td>\n",
       "      <td>22330.49</td>\n",
       "      <td>22</td>\n",
       "    </tr>\n",
       "    <tr>\n",
       "      <th>4</th>\n",
       "      <td>1001</td>\n",
       "      <td>11</td>\n",
       "      <td>18504.30</td>\n",
       "      <td>19</td>\n",
       "    </tr>\n",
       "    <tr>\n",
       "      <th>...</th>\n",
       "      <td>...</td>\n",
       "      <td>...</td>\n",
       "      <td>...</td>\n",
       "      <td>...</td>\n",
       "    </tr>\n",
       "    <tr>\n",
       "      <th>2272</th>\n",
       "      <td>1498</td>\n",
       "      <td>12</td>\n",
       "      <td>23137.69</td>\n",
       "      <td>23</td>\n",
       "    </tr>\n",
       "    <tr>\n",
       "      <th>2273</th>\n",
       "      <td>1499</td>\n",
       "      <td>9</td>\n",
       "      <td>12984.76</td>\n",
       "      <td>13</td>\n",
       "    </tr>\n",
       "    <tr>\n",
       "      <th>2274</th>\n",
       "      <td>1499</td>\n",
       "      <td>10</td>\n",
       "      <td>19492.43</td>\n",
       "      <td>20</td>\n",
       "    </tr>\n",
       "    <tr>\n",
       "      <th>2275</th>\n",
       "      <td>1499</td>\n",
       "      <td>11</td>\n",
       "      <td>16813.83</td>\n",
       "      <td>17</td>\n",
       "    </tr>\n",
       "    <tr>\n",
       "      <th>2276</th>\n",
       "      <td>1499</td>\n",
       "      <td>12</td>\n",
       "      <td>22059.21</td>\n",
       "      <td>22</td>\n",
       "    </tr>\n",
       "  </tbody>\n",
       "</table>\n",
       "<p>2277 rows × 4 columns</p>\n",
       "</div>"
      ],
      "text/plain": [
       "      user_id  month  mb_volume  gb_volume\n",
       "0        1000     12    1901.47          2\n",
       "1        1001      8    6919.15          7\n",
       "2        1001      9   13314.82         14\n",
       "3        1001     10   22330.49         22\n",
       "4        1001     11   18504.30         19\n",
       "...       ...    ...        ...        ...\n",
       "2272     1498     12   23137.69         23\n",
       "2273     1499      9   12984.76         13\n",
       "2274     1499     10   19492.43         20\n",
       "2275     1499     11   16813.83         17\n",
       "2276     1499     12   22059.21         22\n",
       "\n",
       "[2277 rows x 4 columns]"
      ]
     },
     "execution_count": 14,
     "metadata": {},
     "output_type": "execute_result"
    }
   ],
   "source": [
    "# The volume of data per month  \n",
    "\n",
    "data_volume = internet.groupby(['user_id', 'month'])['mb_used'].agg(['sum']).reset_index() \n",
    "data_volume.columns = ['user_id', 'month','mb_volume']\n",
    "\n",
    "# Rounding up the total for the month\n",
    "data_volume['gb_volume'] = (data_volume['mb_volume']/1024).apply(np.ceil).astype('int')\n",
    "\n",
    "data_volume"
   ]
  },
  {
   "cell_type": "code",
   "execution_count": 15,
   "metadata": {},
   "outputs": [
    {
     "data": {
      "text/html": [
       "<div>\n",
       "<style scoped>\n",
       "    .dataframe tbody tr th:only-of-type {\n",
       "        vertical-align: middle;\n",
       "    }\n",
       "\n",
       "    .dataframe tbody tr th {\n",
       "        vertical-align: top;\n",
       "    }\n",
       "\n",
       "    .dataframe thead th {\n",
       "        text-align: right;\n",
       "    }\n",
       "</style>\n",
       "<table border=\"1\" class=\"dataframe\">\n",
       "  <thead>\n",
       "    <tr style=\"text-align: right;\">\n",
       "      <th></th>\n",
       "      <th>user_id</th>\n",
       "      <th>plan</th>\n",
       "      <th>city</th>\n",
       "    </tr>\n",
       "  </thead>\n",
       "  <tbody>\n",
       "    <tr>\n",
       "      <th>0</th>\n",
       "      <td>1000</td>\n",
       "      <td>ultimate</td>\n",
       "      <td>Atlanta-Sandy Springs-Roswell, GA MSA</td>\n",
       "    </tr>\n",
       "    <tr>\n",
       "      <th>1</th>\n",
       "      <td>1001</td>\n",
       "      <td>surf</td>\n",
       "      <td>Seattle-Tacoma-Bellevue, WA MSA</td>\n",
       "    </tr>\n",
       "    <tr>\n",
       "      <th>2</th>\n",
       "      <td>1002</td>\n",
       "      <td>surf</td>\n",
       "      <td>Las Vegas-Henderson-Paradise, NV MSA</td>\n",
       "    </tr>\n",
       "    <tr>\n",
       "      <th>3</th>\n",
       "      <td>1003</td>\n",
       "      <td>surf</td>\n",
       "      <td>Tulsa, OK MSA</td>\n",
       "    </tr>\n",
       "    <tr>\n",
       "      <th>4</th>\n",
       "      <td>1004</td>\n",
       "      <td>surf</td>\n",
       "      <td>Seattle-Tacoma-Bellevue, WA MSA</td>\n",
       "    </tr>\n",
       "  </tbody>\n",
       "</table>\n",
       "</div>"
      ],
      "text/plain": [
       "   user_id      plan                                   city\n",
       "0     1000  ultimate  Atlanta-Sandy Springs-Roswell, GA MSA\n",
       "1     1001      surf        Seattle-Tacoma-Bellevue, WA MSA\n",
       "2     1002      surf   Las Vegas-Henderson-Paradise, NV MSA\n",
       "3     1003      surf                          Tulsa, OK MSA\n",
       "4     1004      surf        Seattle-Tacoma-Bellevue, WA MSA"
      ]
     },
     "execution_count": 15,
     "metadata": {},
     "output_type": "execute_result"
    }
   ],
   "source": [
    "users2 = users[['user_id', 'plan', 'city']]\n",
    "users2.head()"
   ]
  },
  {
   "cell_type": "code",
   "execution_count": 16,
   "metadata": {},
   "outputs": [
    {
     "name": "stdout",
     "output_type": "stream",
     "text": [
      "<class 'pandas.core.frame.DataFrame'>\n",
      "Int64Index: 2303 entries, 0 to 2302\n",
      "Data columns (total 9 columns):\n",
      " #   Column          Non-Null Count  Dtype  \n",
      "---  ------          --------------  -----  \n",
      " 0   user_id         2303 non-null   int64  \n",
      " 1   plan            2303 non-null   object \n",
      " 2   city            2303 non-null   object \n",
      " 3   month           2303 non-null   int64  \n",
      " 4   calls_made      2303 non-null   int64  \n",
      " 5   minutes_used    2303 non-null   int64  \n",
      " 6   month_messages  2303 non-null   int64  \n",
      " 7   mb_volume       2303 non-null   float64\n",
      " 8   gb_volume       2303 non-null   int64  \n",
      "dtypes: float64(1), int64(6), object(2)\n",
      "memory usage: 179.9+ KB\n"
     ]
    }
   ],
   "source": [
    "#The monthly revenue from each user (subtract the free package limit from the total number of calls, \n",
    "#text messages, and data; multiply the result by the calling plan value; add the monthly charge depending \n",
    "#on the calling plan)\n",
    "\n",
    "\n",
    "monthly_revenue = number_of_calls.merge(right = number_of_messages, on=['user_id','month'], how='outer')\n",
    "monthly_revenue = monthly_revenue.merge(right=data_volume, on=['user_id','month'], how='outer')\n",
    "monthly_revenue = users2.merge(right = monthly_revenue, on='user_id', how='outer' )\n",
    "\n",
    "\n",
    "monthly_revenue = monthly_revenue.fillna(0)\n",
    "monthly_revenue[['month', 'calls_made', 'minutes_used', 'month_messages', 'gb_volume']] = monthly_revenue[['month', 'calls_made', 'minutes_used', 'month_messages', 'gb_volume']].astype('int')\n",
    "monthly_revenue.info()"
   ]
  },
  {
   "cell_type": "markdown",
   "metadata": {},
   "source": [
    "<div class=\"alert alert-block alert-success\">\n",
    "<b>Reviewer's comment v1:</b>\n",
    "    \n",
    "Indeed `how = 'outer' can be used here to prevent data loss.\n",
    "    \n",
    "By the way, it is also possible to group 3 tables at once using reduce. You can read about it here: https://www.codegrepper.com/code-examples/python/merge+more+than+2+dataframes+in+pandas"
   ]
  },
  {
   "cell_type": "code",
   "execution_count": 17,
   "metadata": {},
   "outputs": [],
   "source": [
    "# Creating dictionaries for the plans restrictions\n",
    "\n",
    "surf_dict = {'messages_included': 50,\n",
    " 'mb_per_month_included': 15360,\n",
    " 'minutes_included': 500,\n",
    " 'usd_monthly_pay': 20,\n",
    " 'usd_per_gb': 10,\n",
    " 'usd_per_message': 0.03,\n",
    " 'usd_per_minute': 0.03}\n",
    "\n",
    "\n",
    "ultimate_dict = {'messages_included': 1000,\n",
    " 'mb_per_month_included': 30720,\n",
    " 'minutes_included': 3000,\n",
    " 'usd_monthly_pay': 70,\n",
    " 'usd_per_gb': 7,\n",
    " 'usd_per_message': 0.01,\n",
    " 'usd_per_minute': 0.01}\n"
   ]
  },
  {
   "cell_type": "code",
   "execution_count": 18,
   "metadata": {},
   "outputs": [],
   "source": [
    "def monthly_charge(row):\n",
    "    \n",
    "    minutes = row['minutes_used']\n",
    "    messages = row['month_messages']\n",
    "    data = row['gb_volume']\n",
    "    plan = row['plan']\n",
    "\n",
    "    if plan == 'surf':\n",
    "        charge = surf_dict['usd_monthly_pay']\n",
    "        if minutes <= surf_dict['minutes_included']:\n",
    "            minutes_extra_charge = 0\n",
    "        else:\n",
    "            minutes_extra_charge =  (minutes - surf_dict['minutes_included']) * surf_dict['usd_per_minute']\n",
    "        if messages <= surf_dict['messages_included']:\n",
    "            messages_extra_charge = 0\n",
    "        else:\n",
    "            messages_extra_charge = (messages - surf_dict['messages_included']) * surf_dict['usd_per_message']\n",
    "        if data <= (surf_dict['mb_per_month_included']/1024):\n",
    "            data_extra_charge = 0\n",
    "        else:\n",
    "            data_extra_charge = (data - (surf_dict['mb_per_month_included']/1024)) * surf_dict['usd_per_gb']\n",
    "        total_charge =  charge + minutes_extra_charge + messages_extra_charge + data_extra_charge\n",
    "        return total_charge\n",
    "    \n",
    "    elif plan == 'ultimate':\n",
    "        charge = ultimate_dict['usd_monthly_pay']\n",
    "        if minutes <= (ultimate_dict['minutes_included']):\n",
    "            minutes_extra_charge = 0\n",
    "        else:\n",
    "            minutes_extra_charge =  (minutes - ultimate_dict['minutes_included']) * ultimate_dict['usd_per_minute']\n",
    "        if messages <= (ultimate_dict['messages_included']):\n",
    "            messages_extra_charge = 0\n",
    "        else:\n",
    "            messages_extra_charge = ((messages - ultimate_dict['messages_included']) * ultimate_dict['usd_per_message'])\n",
    "        if data <= (ultimate_dict['mb_per_month_included']/1024):\n",
    "            data_extra_charge = 0\n",
    "        else:\n",
    "            data_extra_charge = (data - (ultimate_dict['mb_per_month_included']/1024)) * ultimate_dict['usd_per_gb']\n",
    "        total_charge =  charge + minutes_extra_charge + messages_extra_charge + data_extra_charge\n",
    "        return total_charge\n",
    "        \n",
    "\n",
    "monthly_revenue['revenue'] = monthly_revenue.apply(monthly_charge, axis=1)"
   ]
  },
  {
   "cell_type": "code",
   "execution_count": 19,
   "metadata": {},
   "outputs": [
    {
     "data": {
      "text/html": [
       "<div>\n",
       "<style scoped>\n",
       "    .dataframe tbody tr th:only-of-type {\n",
       "        vertical-align: middle;\n",
       "    }\n",
       "\n",
       "    .dataframe tbody tr th {\n",
       "        vertical-align: top;\n",
       "    }\n",
       "\n",
       "    .dataframe thead th {\n",
       "        text-align: right;\n",
       "    }\n",
       "</style>\n",
       "<table border=\"1\" class=\"dataframe\">\n",
       "  <thead>\n",
       "    <tr style=\"text-align: right;\">\n",
       "      <th></th>\n",
       "      <th>user_id</th>\n",
       "      <th>plan</th>\n",
       "      <th>city</th>\n",
       "      <th>month</th>\n",
       "      <th>calls_made</th>\n",
       "      <th>minutes_used</th>\n",
       "      <th>month_messages</th>\n",
       "      <th>mb_volume</th>\n",
       "      <th>gb_volume</th>\n",
       "      <th>revenue</th>\n",
       "    </tr>\n",
       "  </thead>\n",
       "  <tbody>\n",
       "    <tr>\n",
       "      <th>0</th>\n",
       "      <td>1000</td>\n",
       "      <td>ultimate</td>\n",
       "      <td>Atlanta-Sandy Springs-Roswell, GA MSA</td>\n",
       "      <td>12</td>\n",
       "      <td>16</td>\n",
       "      <td>124</td>\n",
       "      <td>11</td>\n",
       "      <td>1901.47</td>\n",
       "      <td>2</td>\n",
       "      <td>70.00</td>\n",
       "    </tr>\n",
       "    <tr>\n",
       "      <th>1</th>\n",
       "      <td>1001</td>\n",
       "      <td>surf</td>\n",
       "      <td>Seattle-Tacoma-Bellevue, WA MSA</td>\n",
       "      <td>8</td>\n",
       "      <td>27</td>\n",
       "      <td>182</td>\n",
       "      <td>30</td>\n",
       "      <td>6919.15</td>\n",
       "      <td>7</td>\n",
       "      <td>20.00</td>\n",
       "    </tr>\n",
       "    <tr>\n",
       "      <th>2</th>\n",
       "      <td>1001</td>\n",
       "      <td>surf</td>\n",
       "      <td>Seattle-Tacoma-Bellevue, WA MSA</td>\n",
       "      <td>9</td>\n",
       "      <td>49</td>\n",
       "      <td>315</td>\n",
       "      <td>44</td>\n",
       "      <td>13314.82</td>\n",
       "      <td>14</td>\n",
       "      <td>20.00</td>\n",
       "    </tr>\n",
       "    <tr>\n",
       "      <th>3</th>\n",
       "      <td>1001</td>\n",
       "      <td>surf</td>\n",
       "      <td>Seattle-Tacoma-Bellevue, WA MSA</td>\n",
       "      <td>10</td>\n",
       "      <td>65</td>\n",
       "      <td>393</td>\n",
       "      <td>53</td>\n",
       "      <td>22330.49</td>\n",
       "      <td>22</td>\n",
       "      <td>90.09</td>\n",
       "    </tr>\n",
       "    <tr>\n",
       "      <th>4</th>\n",
       "      <td>1001</td>\n",
       "      <td>surf</td>\n",
       "      <td>Seattle-Tacoma-Bellevue, WA MSA</td>\n",
       "      <td>11</td>\n",
       "      <td>64</td>\n",
       "      <td>426</td>\n",
       "      <td>36</td>\n",
       "      <td>18504.30</td>\n",
       "      <td>19</td>\n",
       "      <td>60.00</td>\n",
       "    </tr>\n",
       "    <tr>\n",
       "      <th>...</th>\n",
       "      <td>...</td>\n",
       "      <td>...</td>\n",
       "      <td>...</td>\n",
       "      <td>...</td>\n",
       "      <td>...</td>\n",
       "      <td>...</td>\n",
       "      <td>...</td>\n",
       "      <td>...</td>\n",
       "      <td>...</td>\n",
       "      <td>...</td>\n",
       "    </tr>\n",
       "    <tr>\n",
       "      <th>2298</th>\n",
       "      <td>1498</td>\n",
       "      <td>surf</td>\n",
       "      <td>New York-Newark-Jersey City, NY-NJ-PA MSA</td>\n",
       "      <td>12</td>\n",
       "      <td>39</td>\n",
       "      <td>339</td>\n",
       "      <td>0</td>\n",
       "      <td>23137.69</td>\n",
       "      <td>23</td>\n",
       "      <td>100.00</td>\n",
       "    </tr>\n",
       "    <tr>\n",
       "      <th>2299</th>\n",
       "      <td>1499</td>\n",
       "      <td>surf</td>\n",
       "      <td>Orlando-Kissimmee-Sanford, FL MSA</td>\n",
       "      <td>9</td>\n",
       "      <td>41</td>\n",
       "      <td>346</td>\n",
       "      <td>0</td>\n",
       "      <td>12984.76</td>\n",
       "      <td>13</td>\n",
       "      <td>20.00</td>\n",
       "    </tr>\n",
       "    <tr>\n",
       "      <th>2300</th>\n",
       "      <td>1499</td>\n",
       "      <td>surf</td>\n",
       "      <td>Orlando-Kissimmee-Sanford, FL MSA</td>\n",
       "      <td>10</td>\n",
       "      <td>53</td>\n",
       "      <td>385</td>\n",
       "      <td>0</td>\n",
       "      <td>19492.43</td>\n",
       "      <td>20</td>\n",
       "      <td>70.00</td>\n",
       "    </tr>\n",
       "    <tr>\n",
       "      <th>2301</th>\n",
       "      <td>1499</td>\n",
       "      <td>surf</td>\n",
       "      <td>Orlando-Kissimmee-Sanford, FL MSA</td>\n",
       "      <td>11</td>\n",
       "      <td>45</td>\n",
       "      <td>308</td>\n",
       "      <td>0</td>\n",
       "      <td>16813.83</td>\n",
       "      <td>17</td>\n",
       "      <td>40.00</td>\n",
       "    </tr>\n",
       "    <tr>\n",
       "      <th>2302</th>\n",
       "      <td>1499</td>\n",
       "      <td>surf</td>\n",
       "      <td>Orlando-Kissimmee-Sanford, FL MSA</td>\n",
       "      <td>12</td>\n",
       "      <td>65</td>\n",
       "      <td>496</td>\n",
       "      <td>0</td>\n",
       "      <td>22059.21</td>\n",
       "      <td>22</td>\n",
       "      <td>90.00</td>\n",
       "    </tr>\n",
       "  </tbody>\n",
       "</table>\n",
       "<p>2303 rows × 10 columns</p>\n",
       "</div>"
      ],
      "text/plain": [
       "      user_id      plan                                       city  month  \\\n",
       "0        1000  ultimate      Atlanta-Sandy Springs-Roswell, GA MSA     12   \n",
       "1        1001      surf            Seattle-Tacoma-Bellevue, WA MSA      8   \n",
       "2        1001      surf            Seattle-Tacoma-Bellevue, WA MSA      9   \n",
       "3        1001      surf            Seattle-Tacoma-Bellevue, WA MSA     10   \n",
       "4        1001      surf            Seattle-Tacoma-Bellevue, WA MSA     11   \n",
       "...       ...       ...                                        ...    ...   \n",
       "2298     1498      surf  New York-Newark-Jersey City, NY-NJ-PA MSA     12   \n",
       "2299     1499      surf          Orlando-Kissimmee-Sanford, FL MSA      9   \n",
       "2300     1499      surf          Orlando-Kissimmee-Sanford, FL MSA     10   \n",
       "2301     1499      surf          Orlando-Kissimmee-Sanford, FL MSA     11   \n",
       "2302     1499      surf          Orlando-Kissimmee-Sanford, FL MSA     12   \n",
       "\n",
       "      calls_made  minutes_used  month_messages  mb_volume  gb_volume  revenue  \n",
       "0             16           124              11    1901.47          2    70.00  \n",
       "1             27           182              30    6919.15          7    20.00  \n",
       "2             49           315              44   13314.82         14    20.00  \n",
       "3             65           393              53   22330.49         22    90.09  \n",
       "4             64           426              36   18504.30         19    60.00  \n",
       "...          ...           ...             ...        ...        ...      ...  \n",
       "2298          39           339               0   23137.69         23   100.00  \n",
       "2299          41           346               0   12984.76         13    20.00  \n",
       "2300          53           385               0   19492.43         20    70.00  \n",
       "2301          45           308               0   16813.83         17    40.00  \n",
       "2302          65           496               0   22059.21         22    90.00  \n",
       "\n",
       "[2303 rows x 10 columns]"
      ]
     },
     "execution_count": 19,
     "metadata": {},
     "output_type": "execute_result"
    }
   ],
   "source": [
    "monthly_revenue"
   ]
  },
  {
   "cell_type": "markdown",
   "metadata": {},
   "source": [
    "## Step - Analyze the data"
   ]
  },
  {
   "cell_type": "markdown",
   "metadata": {},
   "source": [
    "- Describe the customers' behavior. \n",
    "- Find the minutes, texts, and volume of data the users of each plan require per month. \n",
    "- Calculate the mean, variance, and standard deviation. \n",
    "- Plot histograms. \n",
    "- Describe the distributions."
   ]
  },
  {
   "cell_type": "code",
   "execution_count": 20,
   "metadata": {},
   "outputs": [
    {
     "data": {
      "text/html": [
       "<div>\n",
       "<style scoped>\n",
       "    .dataframe tbody tr th:only-of-type {\n",
       "        vertical-align: middle;\n",
       "    }\n",
       "\n",
       "    .dataframe tbody tr th {\n",
       "        vertical-align: top;\n",
       "    }\n",
       "\n",
       "    .dataframe thead th {\n",
       "        text-align: right;\n",
       "    }\n",
       "</style>\n",
       "<table border=\"1\" class=\"dataframe\">\n",
       "  <thead>\n",
       "    <tr style=\"text-align: right;\">\n",
       "      <th></th>\n",
       "      <th>month</th>\n",
       "      <th>gb_volume</th>\n",
       "      <th>minutes_used</th>\n",
       "      <th>month_messages</th>\n",
       "      <th>revenue</th>\n",
       "    </tr>\n",
       "  </thead>\n",
       "  <tbody>\n",
       "    <tr>\n",
       "      <th>0</th>\n",
       "      <td>0</td>\n",
       "      <td>0</td>\n",
       "      <td>0</td>\n",
       "      <td>0</td>\n",
       "      <td>120.00</td>\n",
       "    </tr>\n",
       "    <tr>\n",
       "      <th>1</th>\n",
       "      <td>1</td>\n",
       "      <td>10</td>\n",
       "      <td>406</td>\n",
       "      <td>21</td>\n",
       "      <td>40.00</td>\n",
       "    </tr>\n",
       "    <tr>\n",
       "      <th>2</th>\n",
       "      <td>2</td>\n",
       "      <td>110</td>\n",
       "      <td>2673</td>\n",
       "      <td>108</td>\n",
       "      <td>309.57</td>\n",
       "    </tr>\n",
       "    <tr>\n",
       "      <th>3</th>\n",
       "      <td>3</td>\n",
       "      <td>312</td>\n",
       "      <td>7590</td>\n",
       "      <td>351</td>\n",
       "      <td>1056.65</td>\n",
       "    </tr>\n",
       "    <tr>\n",
       "      <th>4</th>\n",
       "      <td>4</td>\n",
       "      <td>611</td>\n",
       "      <td>17577</td>\n",
       "      <td>870</td>\n",
       "      <td>2035.53</td>\n",
       "    </tr>\n",
       "    <tr>\n",
       "      <th>5</th>\n",
       "      <td>5</td>\n",
       "      <td>1087</td>\n",
       "      <td>30768</td>\n",
       "      <td>1849</td>\n",
       "      <td>3667.37</td>\n",
       "    </tr>\n",
       "    <tr>\n",
       "      <th>6</th>\n",
       "      <td>6</td>\n",
       "      <td>1502</td>\n",
       "      <td>41836</td>\n",
       "      <td>2454</td>\n",
       "      <td>4779.80</td>\n",
       "    </tr>\n",
       "    <tr>\n",
       "      <th>7</th>\n",
       "      <td>7</td>\n",
       "      <td>2042</td>\n",
       "      <td>54448</td>\n",
       "      <td>3271</td>\n",
       "      <td>7583.56</td>\n",
       "    </tr>\n",
       "    <tr>\n",
       "      <th>8</th>\n",
       "      <td>8</td>\n",
       "      <td>2735</td>\n",
       "      <td>66438</td>\n",
       "      <td>4662</td>\n",
       "      <td>10356.85</td>\n",
       "    </tr>\n",
       "    <tr>\n",
       "      <th>9</th>\n",
       "      <td>9</td>\n",
       "      <td>3238</td>\n",
       "      <td>80360</td>\n",
       "      <td>5968</td>\n",
       "      <td>11304.67</td>\n",
       "    </tr>\n",
       "    <tr>\n",
       "      <th>10</th>\n",
       "      <td>10</td>\n",
       "      <td>4126</td>\n",
       "      <td>101846</td>\n",
       "      <td>8020</td>\n",
       "      <td>15504.83</td>\n",
       "    </tr>\n",
       "    <tr>\n",
       "      <th>11</th>\n",
       "      <td>11</td>\n",
       "      <td>4650</td>\n",
       "      <td>119801</td>\n",
       "      <td>9165</td>\n",
       "      <td>16415.21</td>\n",
       "    </tr>\n",
       "    <tr>\n",
       "      <th>12</th>\n",
       "      <td>12</td>\n",
       "      <td>5800</td>\n",
       "      <td>150680</td>\n",
       "      <td>12275</td>\n",
       "      <td>22437.14</td>\n",
       "    </tr>\n",
       "    <tr>\n",
       "      <th>13</th>\n",
       "      <td>All</td>\n",
       "      <td>26223</td>\n",
       "      <td>674423</td>\n",
       "      <td>49014</td>\n",
       "      <td>95611.18</td>\n",
       "    </tr>\n",
       "  </tbody>\n",
       "</table>\n",
       "</div>"
      ],
      "text/plain": [
       "   month  gb_volume  minutes_used  month_messages   revenue\n",
       "0      0          0             0               0    120.00\n",
       "1      1         10           406              21     40.00\n",
       "2      2        110          2673             108    309.57\n",
       "3      3        312          7590             351   1056.65\n",
       "4      4        611         17577             870   2035.53\n",
       "5      5       1087         30768            1849   3667.37\n",
       "6      6       1502         41836            2454   4779.80\n",
       "7      7       2042         54448            3271   7583.56\n",
       "8      8       2735         66438            4662  10356.85\n",
       "9      9       3238         80360            5968  11304.67\n",
       "10    10       4126        101846            8020  15504.83\n",
       "11    11       4650        119801            9165  16415.21\n",
       "12    12       5800        150680           12275  22437.14\n",
       "13   All      26223        674423           49014  95611.18"
      ]
     },
     "execution_count": 20,
     "metadata": {},
     "output_type": "execute_result"
    }
   ],
   "source": [
    "#Find the minutes, texts, and volume of data the users of each plan require per month (surf)\n",
    "\n",
    "monthly_revenue_surf = monthly_revenue[monthly_revenue['plan']=='surf']\n",
    "monthly_revenue_surf.pivot_table(index=['month'], values=['minutes_used','month_messages', 'gb_volume', 'revenue'], aggfunc='sum', margins=True).reset_index()\n"
   ]
  },
  {
   "cell_type": "code",
   "execution_count": 21,
   "metadata": {},
   "outputs": [
    {
     "data": {
      "text/html": [
       "<div>\n",
       "<style scoped>\n",
       "    .dataframe tbody tr th:only-of-type {\n",
       "        vertical-align: middle;\n",
       "    }\n",
       "\n",
       "    .dataframe tbody tr th {\n",
       "        vertical-align: top;\n",
       "    }\n",
       "\n",
       "    .dataframe thead th {\n",
       "        text-align: right;\n",
       "    }\n",
       "</style>\n",
       "<table border=\"1\" class=\"dataframe\">\n",
       "  <thead>\n",
       "    <tr style=\"text-align: right;\">\n",
       "      <th></th>\n",
       "      <th>month</th>\n",
       "      <th>gb_volume</th>\n",
       "      <th>minutes_used</th>\n",
       "      <th>month_messages</th>\n",
       "      <th>revenue</th>\n",
       "    </tr>\n",
       "  </thead>\n",
       "  <tbody>\n",
       "    <tr>\n",
       "      <th>0</th>\n",
       "      <td>0</td>\n",
       "      <td>0</td>\n",
       "      <td>0</td>\n",
       "      <td>0</td>\n",
       "      <td>280.0</td>\n",
       "    </tr>\n",
       "    <tr>\n",
       "      <th>1</th>\n",
       "      <td>1</td>\n",
       "      <td>29</td>\n",
       "      <td>774</td>\n",
       "      <td>62</td>\n",
       "      <td>280.0</td>\n",
       "    </tr>\n",
       "    <tr>\n",
       "      <th>2</th>\n",
       "      <td>2</td>\n",
       "      <td>121</td>\n",
       "      <td>2822</td>\n",
       "      <td>151</td>\n",
       "      <td>490.0</td>\n",
       "    </tr>\n",
       "    <tr>\n",
       "      <th>3</th>\n",
       "      <td>3</td>\n",
       "      <td>221</td>\n",
       "      <td>3651</td>\n",
       "      <td>243</td>\n",
       "      <td>896.0</td>\n",
       "    </tr>\n",
       "    <tr>\n",
       "      <th>4</th>\n",
       "      <td>4</td>\n",
       "      <td>343</td>\n",
       "      <td>7074</td>\n",
       "      <td>463</td>\n",
       "      <td>1533.0</td>\n",
       "    </tr>\n",
       "    <tr>\n",
       "      <th>5</th>\n",
       "      <td>5</td>\n",
       "      <td>489</td>\n",
       "      <td>11781</td>\n",
       "      <td>931</td>\n",
       "      <td>2051.0</td>\n",
       "    </tr>\n",
       "    <tr>\n",
       "      <th>6</th>\n",
       "      <td>6</td>\n",
       "      <td>725</td>\n",
       "      <td>17435</td>\n",
       "      <td>1379</td>\n",
       "      <td>3367.0</td>\n",
       "    </tr>\n",
       "    <tr>\n",
       "      <th>7</th>\n",
       "      <td>7</td>\n",
       "      <td>973</td>\n",
       "      <td>25197</td>\n",
       "      <td>1937</td>\n",
       "      <td>4242.0</td>\n",
       "    </tr>\n",
       "    <tr>\n",
       "      <th>8</th>\n",
       "      <td>8</td>\n",
       "      <td>1267</td>\n",
       "      <td>29922</td>\n",
       "      <td>2732</td>\n",
       "      <td>5173.0</td>\n",
       "    </tr>\n",
       "    <tr>\n",
       "      <th>9</th>\n",
       "      <td>9</td>\n",
       "      <td>1463</td>\n",
       "      <td>37626</td>\n",
       "      <td>3259</td>\n",
       "      <td>6195.0</td>\n",
       "    </tr>\n",
       "    <tr>\n",
       "      <th>10</th>\n",
       "      <td>10</td>\n",
       "      <td>1878</td>\n",
       "      <td>47778</td>\n",
       "      <td>4181</td>\n",
       "      <td>7665.0</td>\n",
       "    </tr>\n",
       "    <tr>\n",
       "      <th>11</th>\n",
       "      <td>11</td>\n",
       "      <td>2174</td>\n",
       "      <td>56540</td>\n",
       "      <td>4903</td>\n",
       "      <td>9107.0</td>\n",
       "    </tr>\n",
       "    <tr>\n",
       "      <th>12</th>\n",
       "      <td>12</td>\n",
       "      <td>2778</td>\n",
       "      <td>69324</td>\n",
       "      <td>6796</td>\n",
       "      <td>11067.0</td>\n",
       "    </tr>\n",
       "    <tr>\n",
       "      <th>13</th>\n",
       "      <td>All</td>\n",
       "      <td>12461</td>\n",
       "      <td>309924</td>\n",
       "      <td>27037</td>\n",
       "      <td>52346.0</td>\n",
       "    </tr>\n",
       "  </tbody>\n",
       "</table>\n",
       "</div>"
      ],
      "text/plain": [
       "   month  gb_volume  minutes_used  month_messages  revenue\n",
       "0      0          0             0               0    280.0\n",
       "1      1         29           774              62    280.0\n",
       "2      2        121          2822             151    490.0\n",
       "3      3        221          3651             243    896.0\n",
       "4      4        343          7074             463   1533.0\n",
       "5      5        489         11781             931   2051.0\n",
       "6      6        725         17435            1379   3367.0\n",
       "7      7        973         25197            1937   4242.0\n",
       "8      8       1267         29922            2732   5173.0\n",
       "9      9       1463         37626            3259   6195.0\n",
       "10    10       1878         47778            4181   7665.0\n",
       "11    11       2174         56540            4903   9107.0\n",
       "12    12       2778         69324            6796  11067.0\n",
       "13   All      12461        309924           27037  52346.0"
      ]
     },
     "execution_count": 21,
     "metadata": {},
     "output_type": "execute_result"
    }
   ],
   "source": [
    "#Find the minutes, texts, and volume of data the users of each plan require per month (ultimate)\n",
    "\n",
    "monthly_revenue_ultimate = monthly_revenue[monthly_revenue['plan']=='ultimate']\n",
    "monthly_revenue_ultimate.pivot_table(index=['month'], values=['minutes_used','month_messages', 'gb_volume', 'revenue'], aggfunc='sum', margins=True).reset_index()\n"
   ]
  },
  {
   "cell_type": "code",
   "execution_count": 22,
   "metadata": {},
   "outputs": [
    {
     "name": "stdout",
     "output_type": "stream",
     "text": [
      "339\n",
      "161\n",
      "\n",
      "95611.18\n",
      "52346.0\n",
      "\n",
      "282.03887905604716\n",
      "325.1304347826087\n"
     ]
    }
   ],
   "source": [
    "# Number of unique users per plan\n",
    "\n",
    "print(len(monthly_revenue_surf['user_id'].unique()))\n",
    "print(len(monthly_revenue_ultimate['user_id'].unique()))\n",
    "print()\n",
    "\n",
    "# Year revenue per plan\n",
    "\n",
    "print(monthly_revenue[monthly_revenue['plan'] =='surf']['revenue'].sum())\n",
    "print(monthly_revenue[monthly_revenue['plan'] =='ultimate']['revenue'].sum())\n",
    "print()\n",
    "# Average yearly revenue per user\n",
    "print(monthly_revenue[monthly_revenue['plan'] =='surf']['revenue'].sum()/len(monthly_revenue_surf['user_id'].unique()))\n",
    "print(monthly_revenue[monthly_revenue['plan'] =='ultimate']['revenue'].sum()/len(monthly_revenue_ultimate['user_id'].unique()))\n"
   ]
  },
  {
   "cell_type": "markdown",
   "metadata": {},
   "source": [
    "#### Customer's behavior\n",
    "\n",
    "- There are almost double the amount of surf clients than there are ultimate clients\n",
    "- Surf clients bring in more revenue in total\n",
    "- Ultimate clients bring in more revenue on average"
   ]
  },
  {
   "cell_type": "code",
   "execution_count": 23,
   "metadata": {},
   "outputs": [],
   "source": [
    "# Calculate the mean, variance, and standard deviation.\n",
    "\n",
    "def measures_of_location(data, column, title):\n",
    "    print('Statistical info of {}:'.format(column))\n",
    "    print()\n",
    "    print(data[column].describe())\n",
    "    print()\n",
    "    Q1 = data[column].quantile(0.25)\n",
    "    Q3 = data[column].quantile(0.75)\n",
    "    IQR = Q3-Q1\n",
    "    min_IQR = Q1 - 1.5*IQR\n",
    "    max_IQR = Q3 + 1.5*IQR\n",
    "    print(\"Outliers min border:\", min_IQR, 'max border:', max_IQR)\n",
    "    print()\n",
    "    print('Histogram:')\n",
    "    data[column].hist(bins=100)\n",
    "    plt.xlabel(column)\n",
    "    plt.ylabel('users')\n",
    "    plt.title(title)\n",
    "    return plt.show"
   ]
  },
  {
   "cell_type": "code",
   "execution_count": 24,
   "metadata": {},
   "outputs": [
    {
     "name": "stdout",
     "output_type": "stream",
     "text": [
      "Statistical info of minutes_used:\n",
      "\n",
      "count    1579.000000\n",
      "mean      427.120329\n",
      "std       235.490079\n",
      "min         0.000000\n",
      "25%       269.000000\n",
      "50%       424.000000\n",
      "75%       576.000000\n",
      "max      1510.000000\n",
      "Name: minutes_used, dtype: float64\n",
      "\n",
      "Outliers min border: -191.5 max border: 1036.5\n",
      "\n",
      "Histogram:\n"
     ]
    },
    {
     "data": {
      "text/plain": [
       "<function matplotlib.pyplot.show(close=None, block=None)>"
      ]
     },
     "execution_count": 24,
     "metadata": {},
     "output_type": "execute_result"
    },
    {
     "data": {
      "image/png": "[encoded data removed]",
      "text/plain": [
       "<Figure size 432x288 with 1 Axes>"
      ]
     },
     "metadata": {
      "needs_background": "light"
     },
     "output_type": "display_data"
    }
   ],
   "source": [
    "measures_of_location(monthly_revenue_surf, 'minutes_used', 'monthly_revenue_surf')"
   ]
  },
  {
   "cell_type": "markdown",
   "metadata": {},
   "source": [
    "- The distribution of **minutes_used** for **surf** clients is normal-ish.\n",
    "- The mean of the population uses 427 minutes per month, and anything above 1036 can be considered an outlier.\n",
    "- A bit more than 25% of the population is **exceeding their monthly limit of 500 minutes per month**"
   ]
  },
  {
   "cell_type": "code",
   "execution_count": 25,
   "metadata": {},
   "outputs": [
    {
     "name": "stdout",
     "output_type": "stream",
     "text": [
      "Statistical info of minutes_used:\n",
      "\n",
      "count     724.000000\n",
      "mean      428.071823\n",
      "std       241.958423\n",
      "min         0.000000\n",
      "25%       258.750000\n",
      "50%       421.500000\n",
      "75%       564.250000\n",
      "max      1369.000000\n",
      "Name: minutes_used, dtype: float64\n",
      "\n",
      "Outliers min border: -199.5 max border: 1022.5\n",
      "\n",
      "Histogram:\n"
     ]
    },
    {
     "data": {
      "text/plain": [
       "<function matplotlib.pyplot.show(close=None, block=None)>"
      ]
     },
     "execution_count": 25,
     "metadata": {},
     "output_type": "execute_result"
    },
    {
     "data": {
      "image/png": "[encoded data removed]",
      "text/plain": [
       "<Figure size 432x288 with 1 Axes>"
      ]
     },
     "metadata": {
      "needs_background": "light"
     },
     "output_type": "display_data"
    }
   ],
   "source": [
    "measures_of_location(monthly_revenue_ultimate, 'minutes_used', 'monthly_revenue_ultimate')"
   ]
  },
  {
   "cell_type": "markdown",
   "metadata": {},
   "source": [
    "- The distribution of **minutes_used** for **ultimate** clients is also similar to a normal distribution.\n",
    "- The mean is at 428 minutes per year, and most of the clients (75%) use 564 minutes or less than this.\n",
    "- Anything above 1022 can be considered an outlier."
   ]
  },
  {
   "cell_type": "code",
   "execution_count": 26,
   "metadata": {},
   "outputs": [
    {
     "name": "stdout",
     "output_type": "stream",
     "text": [
      "Statistical info of month_messages:\n",
      "\n",
      "count    1579.000000\n",
      "mean       31.041165\n",
      "std        33.557683\n",
      "min         0.000000\n",
      "25%         3.000000\n",
      "50%        24.000000\n",
      "75%        47.000000\n",
      "max       266.000000\n",
      "Name: month_messages, dtype: float64\n",
      "\n",
      "Outliers min border: -63.0 max border: 113.0\n",
      "\n",
      "Histogram:\n"
     ]
    },
    {
     "data": {
      "text/plain": [
       "<function matplotlib.pyplot.show(close=None, block=None)>"
      ]
     },
     "execution_count": 26,
     "metadata": {},
     "output_type": "execute_result"
    },
    {
     "data": {
      "image/png": "[encoded data removed]",
      "text/plain": [
       "<Figure size 432x288 with 1 Axes>"
      ]
     },
     "metadata": {
      "needs_background": "light"
     },
     "output_type": "display_data"
    }
   ],
   "source": [
    "measures_of_location(monthly_revenue_surf, 'month_messages', 'monthly_revenue_surf')"
   ]
  },
  {
   "cell_type": "markdown",
   "metadata": {},
   "source": [
    "- The distribution of **messages sent** for **surf** clients is  skewed to the right.\n",
    "- A considerably large amount of clients does not send any messages.\n",
    "- The mean of the population sends 31 messages per month, and anything over 113 messages per month is considered an outlier."
   ]
  },
  {
   "cell_type": "code",
   "execution_count": 27,
   "metadata": {},
   "outputs": [
    {
     "name": "stdout",
     "output_type": "stream",
     "text": [
      "Statistical info of month_messages:\n",
      "\n",
      "count    724.000000\n",
      "mean      37.343923\n",
      "std       34.782576\n",
      "min        0.000000\n",
      "25%        6.000000\n",
      "50%       30.000000\n",
      "75%       60.250000\n",
      "max      166.000000\n",
      "Name: month_messages, dtype: float64\n",
      "\n",
      "Outliers min border: -75.375 max border: 141.625\n",
      "\n",
      "Histogram:\n"
     ]
    },
    {
     "data": {
      "text/plain": [
       "<function matplotlib.pyplot.show(close=None, block=None)>"
      ]
     },
     "execution_count": 27,
     "metadata": {},
     "output_type": "execute_result"
    },
    {
     "data": {
      "image/png": "[encoded data removed]",
      "text/plain": [
       "<Figure size 432x288 with 1 Axes>"
      ]
     },
     "metadata": {
      "needs_background": "light"
     },
     "output_type": "display_data"
    }
   ],
   "source": [
    "measures_of_location(monthly_revenue_ultimate, 'month_messages', 'monthly_revenue_ultimate')"
   ]
  },
  {
   "cell_type": "markdown",
   "metadata": {},
   "source": [
    "- The distribution of **messages sent** for **ultimate** clients is  also skewed to the right.\n",
    "- The peak of the graph is at 0, meaning that the largest portion of the population sends 0 messages each month.\n",
    "- Anything above 141 messages can be considered an outlier."
   ]
  },
  {
   "cell_type": "code",
   "execution_count": 28,
   "metadata": {},
   "outputs": [
    {
     "name": "stdout",
     "output_type": "stream",
     "text": [
      "Statistical info of gb_volume:\n",
      "\n",
      "count    1579.000000\n",
      "mean       16.607346\n",
      "std         7.899502\n",
      "min         0.000000\n",
      "25%        12.000000\n",
      "50%        17.000000\n",
      "75%        21.000000\n",
      "max        70.000000\n",
      "Name: gb_volume, dtype: float64\n",
      "\n",
      "Outliers min border: -1.5 max border: 34.5\n",
      "\n",
      "Histogram:\n"
     ]
    },
    {
     "data": {
      "text/plain": [
       "<function matplotlib.pyplot.show(close=None, block=None)>"
      ]
     },
     "execution_count": 28,
     "metadata": {},
     "output_type": "execute_result"
    },
    {
     "data": {
      "image/png": "[encoded data removed]",
      "text/plain": [
       "<Figure size 432x288 with 1 Axes>"
      ]
     },
     "metadata": {
      "needs_background": "light"
     },
     "output_type": "display_data"
    }
   ],
   "source": [
    "measures_of_location(monthly_revenue_surf, 'gb_volume', 'monthly_revenue_surf')"
   ]
  },
  {
   "cell_type": "markdown",
   "metadata": {},
   "source": [
    "- The distribution of **gb volume** for **surf** clients is similar to a normal distribution.\n",
    "- The mean of the population uses 16 gb per month, and 50% uses more than 17 gb, **which means that more than 50% of the population is exceeding the monthly limit of data for their plan**\n",
    "- Anything above 34 gb can be considered an outlier."
   ]
  },
  {
   "cell_type": "code",
   "execution_count": 29,
   "metadata": {},
   "outputs": [
    {
     "name": "stdout",
     "output_type": "stream",
     "text": [
      "Statistical info of gb_volume:\n",
      "\n",
      "count    724.000000\n",
      "mean      17.211326\n",
      "std        7.755841\n",
      "min        0.000000\n",
      "25%       13.000000\n",
      "50%       17.000000\n",
      "75%       21.000000\n",
      "max       46.000000\n",
      "Name: gb_volume, dtype: float64\n",
      "\n",
      "Outliers min border: 1.0 max border: 33.0\n",
      "\n",
      "Histogram:\n"
     ]
    },
    {
     "data": {
      "text/plain": [
       "<function matplotlib.pyplot.show(close=None, block=None)>"
      ]
     },
     "execution_count": 29,
     "metadata": {},
     "output_type": "execute_result"
    },
    {
     "data": {
      "image/png": "[encoded data removed]",
      "text/plain": [
       "<Figure size 432x288 with 1 Axes>"
      ]
     },
     "metadata": {
      "needs_background": "light"
     },
     "output_type": "display_data"
    }
   ],
   "source": [
    "measures_of_location(monthly_revenue_ultimate, 'gb_volume', '(monthly_revenue_ultimate')"
   ]
  },
  {
   "cell_type": "markdown",
   "metadata": {},
   "source": [
    "- The distribution of **gb volume** for **ultimate** clients is similar to a normal distribution.\n",
    "- The mean of the population uses 17 gb per month, and just a very small percentage of users exceeds their monthly limit of 30 gb.\n",
    "- Anything over 33 gb is an outlier."
   ]
  },
  {
   "cell_type": "markdown",
   "metadata": {},
   "source": [
    "## Step - Test the hypotheses\n",
    "\n",
    "- The average revenue from users of Ultimate and Surf calling plans differs.\n",
    "- The average revenue from users in NY-NJ area is different from that of the users from other regions.\n",
    "\n",
    "You decide what alpha value to use. Explain:\n",
    "- How you formulated the null and alternative hypotheses.\n",
    "- What criterion you used to test the hypotheses and why.\n"
   ]
  },
  {
   "cell_type": "markdown",
   "metadata": {},
   "source": [
    " #### Hypotheses:\n",
    "  - H0: The average revenue from users of Ultimate and Surf calling is the same.\n",
    "  - H1: The average revenue from users of Ultimate and Surf calling plans differs."
   ]
  },
  {
   "cell_type": "code",
   "execution_count": 30,
   "metadata": {
    "scrolled": true
   },
   "outputs": [
    {
     "name": "stdout",
     "output_type": "stream",
     "text": [
      "3062.4468636121596\n",
      "129.1595561770707\n",
      "\n",
      "p-value:  0.01825509842866833\n",
      "We reject the null hypothesis\n"
     ]
    }
   ],
   "source": [
    "# Checking whether the populations' variance is the same or not\n",
    "\n",
    "print(monthly_revenue_surf['revenue'].var())\n",
    "print(monthly_revenue_ultimate['revenue'].var())\n",
    "print()\n",
    "\n",
    "# Since the difference in populations' variance is larger than 5%, we set equal_var = False\n",
    "\n",
    "from scipy import stats as st\n",
    "\n",
    "sample_s = monthly_revenue_surf['revenue'].sample(n=80, random_state=42)\n",
    "sample_u = monthly_revenue_ultimate['revenue'].sample(n=80, random_state=42)\n",
    "\n",
    "\n",
    "alpha = 0.05\n",
    "\n",
    "results = st.ttest_ind(sample_s, sample_u, equal_var=False)\n",
    "\n",
    "print('p-value: ', results.pvalue)\n",
    "\n",
    "if results.pvalue < alpha:\n",
    "    print(\"We reject the null hypothesis\")\n",
    "else:\n",
    "    print(\"We can't reject the null hypothesis\") \n"
   ]
  },
  {
   "cell_type": "markdown",
   "metadata": {},
   "source": [
    "**There is a significant difference between the average of revenue between surf and ultimate.**\n",
    "- The mean revenue from surf and ultimate clients is not the same, as noted above, ultimate clients bring in more revenue on average.\n"
   ]
  },
  {
   "cell_type": "markdown",
   "metadata": {},
   "source": [
    "#### Hypotheses:\n",
    "  - H0: The average revenue from users in NY-NJ area and users from other regions is the same.\n",
    "  - H1: The average revenue from users in NY-NJ area and users from other regions is different."
   ]
  },
  {
   "cell_type": "code",
   "execution_count": 31,
   "metadata": {},
   "outputs": [
    {
     "name": "stdout",
     "output_type": "stream",
     "text": [
      "Difference in variance between populations: 0.037631169363707424\n",
      "\n",
      "p-value: 0.13252241975933446\n",
      "We can't reject the null hypothesis\n"
     ]
    }
   ],
   "source": [
    "\n",
    "\n",
    "ny_nj = monthly_revenue.loc[monthly_revenue['city'].str.contains('NY|NJ')]\n",
    "no_ny_nj = monthly_revenue.loc[~monthly_revenue['city'].str.contains('NY|NJ')]\n",
    "\n",
    "# Checking whether the populations' variance is the same or not\n",
    "\n",
    "np.var(ny_nj['revenue'])\n",
    "np.var(no_ny_nj['revenue'])\n",
    "print('Difference in variance between populations:',(np.var(no_ny_nj['revenue']) - np.var(ny_nj['revenue']))/np.var(no_ny_nj['revenue']))\n",
    "print()\n",
    "# Since the difference between populations' variance is less than 5%, will consider them equal\n",
    "\n",
    "sample_ny_nj = ny_nj['revenue'].sample(n=100, random_state=42)\n",
    "sample_no_ny_nj = no_ny_nj['revenue'].sample(n=100, random_state=42)\n",
    "\n",
    "\n",
    "from scipy import stats as st\n",
    "\n",
    "alpha = 0.05\n",
    "\n",
    "results = st.ttest_ind(sample_ny_nj, sample_no_ny_nj)\n",
    "\n",
    "print('p-value:', results.pvalue)\n",
    "\n",
    "if results.pvalue < alpha:\n",
    "    print(\"We reject the null hypothesis\")\n",
    "else:\n",
    "    print(\"We can't reject the null hypothesis\")\n",
    "    "
   ]
  },
  {
   "cell_type": "markdown",
   "metadata": {},
   "source": [
    "**There is no significant difference between the average revenue made from users in NY-NJ and that made from users in other areas.**"
   ]
  },
  {
   "cell_type": "markdown",
   "metadata": {},
   "source": [
    "## Step - Write an overall conclusion\n",
    "\n",
    "- There are almost double the amount of surf clients than there are ultimate clients\n",
    "- Surf clients bring in more revenue in total\n",
    "- Ultimate clients bring in more revenue on average\n",
    "\n",
    "#### Surf clients are exceeding their monthly limits:\n",
    "- A bit more than 25% of the population is **exceeding their monthly limit of 500 minutes per month**\n",
    "- The mean of the population uses 16 gb per month, and 50% uses more than 17 gb, **which means that more than 50% of the population is exceeding the monthly limit of data for their plan**\n",
    "\n",
    "#### Recommendations:\n",
    "- Increase the charge for minutes and data that exceeds the monthly limit.\n",
    "- Invest in more marketing for ultimate plan, since these clients bring in the most revenue."
   ]
  }
 ],
 "metadata": {
  "ExecuteTimeLog": [
   {
    "duration": 9,
    "start_time": "2022-08-24T13:36:56.698Z"
   },
   {
    "duration": 63,
    "start_time": "2022-08-24T13:37:04.801Z"
   },
   {
    "duration": 635,
    "start_time": "2022-08-24T13:37:17.762Z"
   },
   {
    "duration": 405,
    "start_time": "2022-08-24T13:37:41.451Z"
   },
   {
    "duration": 405,
    "start_time": "2022-08-24T13:38:07.304Z"
   },
   {
    "duration": 387,
    "start_time": "2022-08-24T13:38:44.041Z"
   },
   {
    "duration": 22,
    "start_time": "2022-08-24T13:38:58.284Z"
   },
   {
    "duration": 23,
    "start_time": "2022-08-24T13:39:15.365Z"
   },
   {
    "duration": 17,
    "start_time": "2022-08-24T13:39:21.809Z"
   },
   {
    "duration": 10,
    "start_time": "2022-08-24T13:39:30.164Z"
   },
   {
    "duration": 11,
    "start_time": "2022-08-24T13:39:37.590Z"
   },
   {
    "duration": 33,
    "start_time": "2022-08-24T13:40:48.980Z"
   },
   {
    "duration": 33,
    "start_time": "2022-08-24T13:44:28.114Z"
   },
   {
    "duration": 47,
    "start_time": "2022-08-24T13:44:35.171Z"
   },
   {
    "duration": 25,
    "start_time": "2022-08-24T13:44:51.743Z"
   },
   {
    "duration": 26,
    "start_time": "2022-08-24T13:44:59.872Z"
   },
   {
    "duration": 28,
    "start_time": "2022-08-24T13:46:50.976Z"
   },
   {
    "duration": 22,
    "start_time": "2022-08-24T13:48:23.321Z"
   },
   {
    "duration": 18,
    "start_time": "2022-08-24T13:48:29.323Z"
   },
   {
    "duration": 18,
    "start_time": "2022-08-24T13:49:42.061Z"
   },
   {
    "duration": 22,
    "start_time": "2022-08-24T13:52:26.543Z"
   },
   {
    "duration": 3,
    "start_time": "2022-08-24T13:57:03.324Z"
   },
   {
    "duration": 18,
    "start_time": "2022-08-24T13:57:12.128Z"
   },
   {
    "duration": 12,
    "start_time": "2022-08-24T13:57:22.149Z"
   },
   {
    "duration": 3,
    "start_time": "2022-08-24T13:59:55.936Z"
   },
   {
    "duration": 22,
    "start_time": "2022-08-24T14:00:06.587Z"
   },
   {
    "duration": 56,
    "start_time": "2022-08-24T14:00:13.862Z"
   },
   {
    "duration": 28,
    "start_time": "2022-08-24T14:00:28.346Z"
   },
   {
    "duration": 27,
    "start_time": "2022-08-24T14:04:55.855Z"
   },
   {
    "duration": 30,
    "start_time": "2022-08-24T14:05:12.084Z"
   },
   {
    "duration": 37,
    "start_time": "2022-08-24T14:05:19.710Z"
   },
   {
    "duration": 21,
    "start_time": "2022-08-24T14:07:44.310Z"
   },
   {
    "duration": 24,
    "start_time": "2022-08-24T14:07:52.840Z"
   },
   {
    "duration": 12,
    "start_time": "2022-08-24T14:10:09.864Z"
   },
   {
    "duration": 12,
    "start_time": "2022-08-24T14:10:14.686Z"
   },
   {
    "duration": 69,
    "start_time": "2022-08-24T14:13:10.829Z"
   },
   {
    "duration": 53,
    "start_time": "2022-08-24T14:13:25.158Z"
   },
   {
    "duration": 63,
    "start_time": "2022-08-24T14:13:33.840Z"
   },
   {
    "duration": 64,
    "start_time": "2022-08-24T14:13:59.155Z"
   },
   {
    "duration": 78,
    "start_time": "2022-08-24T14:14:14.267Z"
   },
   {
    "duration": 30,
    "start_time": "2022-08-24T14:14:36.953Z"
   },
   {
    "duration": 17,
    "start_time": "2022-08-24T14:14:56.729Z"
   },
   {
    "duration": 18,
    "start_time": "2022-08-24T14:15:13.017Z"
   },
   {
    "duration": 18,
    "start_time": "2022-08-24T14:15:30.039Z"
   },
   {
    "duration": 25,
    "start_time": "2022-08-24T14:15:33.910Z"
   },
   {
    "duration": 20,
    "start_time": "2022-08-24T14:15:45.818Z"
   },
   {
    "duration": 22,
    "start_time": "2022-08-24T14:16:05.820Z"
   },
   {
    "duration": 22,
    "start_time": "2022-08-24T14:16:17.414Z"
   },
   {
    "duration": 3,
    "start_time": "2022-08-24T14:52:14.707Z"
   },
   {
    "duration": 178,
    "start_time": "2022-08-24T14:56:28.557Z"
   },
   {
    "duration": 41,
    "start_time": "2022-08-24T14:57:36.867Z"
   },
   {
    "duration": 24,
    "start_time": "2022-08-24T14:58:42.056Z"
   },
   {
    "duration": 23,
    "start_time": "2022-08-24T14:58:43.762Z"
   },
   {
    "duration": 23,
    "start_time": "2022-08-24T14:58:47.368Z"
   },
   {
    "duration": 756,
    "start_time": "2022-08-24T14:58:52.518Z"
   },
   {
    "duration": 40,
    "start_time": "2022-08-24T14:58:53.276Z"
   },
   {
    "duration": 36,
    "start_time": "2022-08-24T14:58:53.317Z"
   },
   {
    "duration": 50,
    "start_time": "2022-08-24T14:58:53.355Z"
   },
   {
    "duration": 31,
    "start_time": "2022-08-24T14:58:53.408Z"
   },
   {
    "duration": 20,
    "start_time": "2022-08-24T14:58:53.440Z"
   },
   {
    "duration": 57,
    "start_time": "2022-08-24T14:58:53.461Z"
   },
   {
    "duration": 18,
    "start_time": "2022-08-24T14:58:53.520Z"
   },
   {
    "duration": 17,
    "start_time": "2022-08-24T14:58:53.540Z"
   },
   {
    "duration": 55,
    "start_time": "2022-08-24T14:58:53.559Z"
   },
   {
    "duration": 36,
    "start_time": "2022-08-24T14:58:53.616Z"
   },
   {
    "duration": 36,
    "start_time": "2022-08-24T14:59:22.809Z"
   },
   {
    "duration": 39,
    "start_time": "2022-08-24T14:59:57.838Z"
   },
   {
    "duration": 18,
    "start_time": "2022-08-24T15:02:41.299Z"
   },
   {
    "duration": 20,
    "start_time": "2022-08-24T15:05:29.943Z"
   },
   {
    "duration": 43,
    "start_time": "2022-08-24T15:05:35.983Z"
   },
   {
    "duration": 23,
    "start_time": "2022-08-24T15:07:24.592Z"
   },
   {
    "duration": 87,
    "start_time": "2022-08-24T15:21:06.508Z"
   },
   {
    "duration": 72,
    "start_time": "2022-08-24T15:21:15.134Z"
   },
   {
    "duration": 89,
    "start_time": "2022-08-24T15:21:59.309Z"
   },
   {
    "duration": 408,
    "start_time": "2022-08-24T15:22:07.955Z"
   },
   {
    "duration": 8,
    "start_time": "2022-08-24T15:22:14.315Z"
   },
   {
    "duration": 9,
    "start_time": "2022-08-24T15:22:32.910Z"
   },
   {
    "duration": 28,
    "start_time": "2022-08-24T15:28:27.590Z"
   },
   {
    "duration": 28,
    "start_time": "2022-08-24T15:28:37.799Z"
   },
   {
    "duration": 33,
    "start_time": "2022-08-24T15:29:11.070Z"
   },
   {
    "duration": 25,
    "start_time": "2022-08-24T15:30:32.908Z"
   },
   {
    "duration": 31,
    "start_time": "2022-08-24T15:30:52.834Z"
   },
   {
    "duration": 28,
    "start_time": "2022-08-24T15:31:23.786Z"
   },
   {
    "duration": 25,
    "start_time": "2022-08-24T15:31:31.643Z"
   },
   {
    "duration": 29,
    "start_time": "2022-08-24T15:31:35.912Z"
   },
   {
    "duration": 30,
    "start_time": "2022-08-24T15:31:43.884Z"
   },
   {
    "duration": 18,
    "start_time": "2022-08-24T15:35:01.686Z"
   },
   {
    "duration": 18,
    "start_time": "2022-08-24T15:35:08.782Z"
   },
   {
    "duration": 19,
    "start_time": "2022-08-24T15:35:19.796Z"
   },
   {
    "duration": 20,
    "start_time": "2022-08-24T15:35:25.072Z"
   },
   {
    "duration": 21,
    "start_time": "2022-08-24T15:36:07.709Z"
   },
   {
    "duration": 23,
    "start_time": "2022-08-24T15:36:09.799Z"
   },
   {
    "duration": 21,
    "start_time": "2022-08-24T15:36:10.477Z"
   },
   {
    "duration": 21,
    "start_time": "2022-08-24T15:36:19.391Z"
   },
   {
    "duration": 30,
    "start_time": "2022-08-24T15:36:34.320Z"
   },
   {
    "duration": 19,
    "start_time": "2022-08-24T15:36:42.463Z"
   },
   {
    "duration": 47,
    "start_time": "2022-08-24T17:51:33.719Z"
   },
   {
    "duration": 1182,
    "start_time": "2022-08-24T17:51:42.611Z"
   },
   {
    "duration": 28,
    "start_time": "2022-08-24T17:51:43.795Z"
   },
   {
    "duration": 30,
    "start_time": "2022-08-24T17:51:43.825Z"
   },
   {
    "duration": 18,
    "start_time": "2022-08-24T17:51:43.857Z"
   },
   {
    "duration": 38,
    "start_time": "2022-08-24T17:51:43.876Z"
   },
   {
    "duration": 18,
    "start_time": "2022-08-24T17:51:43.915Z"
   },
   {
    "duration": 20,
    "start_time": "2022-08-24T17:51:43.934Z"
   },
   {
    "duration": 13,
    "start_time": "2022-08-24T17:51:43.956Z"
   },
   {
    "duration": 41,
    "start_time": "2022-08-24T17:51:43.971Z"
   },
   {
    "duration": 11,
    "start_time": "2022-08-24T17:51:44.015Z"
   },
   {
    "duration": 33,
    "start_time": "2022-08-24T17:51:44.028Z"
   },
   {
    "duration": 19,
    "start_time": "2022-08-24T17:51:44.063Z"
   },
   {
    "duration": 42,
    "start_time": "2022-08-24T17:51:44.084Z"
   },
   {
    "duration": 797,
    "start_time": "2022-08-24T17:51:44.127Z"
   },
   {
    "duration": 668,
    "start_time": "2022-08-24T17:52:09.641Z"
   },
   {
    "duration": 9,
    "start_time": "2022-08-24T17:52:50.492Z"
   },
   {
    "duration": 3,
    "start_time": "2022-08-24T17:53:27.674Z"
   },
   {
    "duration": 807,
    "start_time": "2022-08-24T17:53:33.243Z"
   },
   {
    "duration": 7,
    "start_time": "2022-08-24T17:53:45.273Z"
   },
   {
    "duration": 7,
    "start_time": "2022-08-24T17:56:22.057Z"
   },
   {
    "duration": 8,
    "start_time": "2022-08-24T17:57:40.445Z"
   },
   {
    "duration": 15,
    "start_time": "2022-08-24T17:57:53.599Z"
   },
   {
    "duration": 10,
    "start_time": "2022-08-24T18:01:19.002Z"
   },
   {
    "duration": 16,
    "start_time": "2022-08-24T18:02:05.539Z"
   },
   {
    "duration": 17,
    "start_time": "2022-08-24T18:02:10.381Z"
   },
   {
    "duration": 529,
    "start_time": "2022-08-24T18:03:27.789Z"
   },
   {
    "duration": 11,
    "start_time": "2022-08-24T18:03:44.306Z"
   },
   {
    "duration": 13,
    "start_time": "2022-08-24T18:04:07.374Z"
   },
   {
    "duration": 9,
    "start_time": "2022-08-24T18:04:20.639Z"
   },
   {
    "duration": 16,
    "start_time": "2022-08-24T18:04:26.322Z"
   },
   {
    "duration": 16,
    "start_time": "2022-08-24T18:04:48.639Z"
   },
   {
    "duration": 15,
    "start_time": "2022-08-24T18:04:51.405Z"
   },
   {
    "duration": 19,
    "start_time": "2022-08-24T18:04:52.776Z"
   },
   {
    "duration": 15,
    "start_time": "2022-08-24T18:04:53.350Z"
   },
   {
    "duration": 724,
    "start_time": "2022-08-24T18:05:02.113Z"
   },
   {
    "duration": 32,
    "start_time": "2022-08-24T18:05:02.840Z"
   },
   {
    "duration": 37,
    "start_time": "2022-08-24T18:05:02.873Z"
   },
   {
    "duration": 20,
    "start_time": "2022-08-24T18:05:02.912Z"
   },
   {
    "duration": 26,
    "start_time": "2022-08-24T18:05:02.934Z"
   },
   {
    "duration": 17,
    "start_time": "2022-08-24T18:05:02.961Z"
   },
   {
    "duration": 42,
    "start_time": "2022-08-24T18:05:02.979Z"
   },
   {
    "duration": 17,
    "start_time": "2022-08-24T18:05:03.022Z"
   },
   {
    "duration": 15,
    "start_time": "2022-08-24T18:05:03.040Z"
   },
   {
    "duration": 15,
    "start_time": "2022-08-24T18:05:03.056Z"
   },
   {
    "duration": 52,
    "start_time": "2022-08-24T18:05:03.073Z"
   },
   {
    "duration": 17,
    "start_time": "2022-08-24T18:05:03.127Z"
   },
   {
    "duration": 15,
    "start_time": "2022-08-24T18:05:03.145Z"
   },
   {
    "duration": 6,
    "start_time": "2022-08-24T18:05:03.162Z"
   },
   {
    "duration": 17,
    "start_time": "2022-08-24T18:05:36.847Z"
   },
   {
    "duration": 7,
    "start_time": "2022-08-24T18:05:59.247Z"
   },
   {
    "duration": 8,
    "start_time": "2022-08-24T18:06:10.779Z"
   },
   {
    "duration": 18,
    "start_time": "2022-08-24T18:07:12.172Z"
   },
   {
    "duration": 6,
    "start_time": "2022-08-24T18:07:50.762Z"
   },
   {
    "duration": 86,
    "start_time": "2022-08-24T18:08:59.762Z"
   },
   {
    "duration": 15,
    "start_time": "2022-08-24T18:09:11.009Z"
   },
   {
    "duration": 12,
    "start_time": "2022-08-24T18:09:55.028Z"
   },
   {
    "duration": 14,
    "start_time": "2022-08-24T18:10:01.338Z"
   },
   {
    "duration": 15,
    "start_time": "2022-08-24T18:10:58.440Z"
   },
   {
    "duration": 14,
    "start_time": "2022-08-24T18:11:20.310Z"
   },
   {
    "duration": 23,
    "start_time": "2022-08-24T18:11:52.534Z"
   },
   {
    "duration": 10,
    "start_time": "2022-08-24T18:12:38.818Z"
   },
   {
    "duration": 8,
    "start_time": "2022-08-24T18:13:02.377Z"
   },
   {
    "duration": 18,
    "start_time": "2022-08-24T18:13:08.630Z"
   },
   {
    "duration": 19,
    "start_time": "2022-08-24T18:13:58.228Z"
   },
   {
    "duration": 16,
    "start_time": "2022-08-24T19:04:37.895Z"
   },
   {
    "duration": 14,
    "start_time": "2022-08-24T19:04:40.658Z"
   },
   {
    "duration": 31,
    "start_time": "2022-08-24T19:04:47.243Z"
   },
   {
    "duration": 21,
    "start_time": "2022-08-24T19:05:11.451Z"
   },
   {
    "duration": 29,
    "start_time": "2022-08-24T19:05:20.172Z"
   },
   {
    "duration": 25,
    "start_time": "2022-08-24T19:06:46.521Z"
   },
   {
    "duration": 20,
    "start_time": "2022-08-24T19:06:53.199Z"
   },
   {
    "duration": 16,
    "start_time": "2022-08-24T19:07:11.109Z"
   },
   {
    "duration": 20,
    "start_time": "2022-08-24T19:07:19.686Z"
   },
   {
    "duration": 46,
    "start_time": "2022-08-24T19:08:49.902Z"
   },
   {
    "duration": 42,
    "start_time": "2022-08-24T19:08:59.997Z"
   },
   {
    "duration": 41,
    "start_time": "2022-08-24T19:09:10.027Z"
   },
   {
    "duration": 19,
    "start_time": "2022-08-24T19:09:59.355Z"
   },
   {
    "duration": 43,
    "start_time": "2022-08-24T19:10:26.990Z"
   },
   {
    "duration": 23,
    "start_time": "2022-08-24T19:10:46.511Z"
   },
   {
    "duration": 319,
    "start_time": "2022-08-24T19:11:09.376Z"
   },
   {
    "duration": 18,
    "start_time": "2022-08-24T19:11:39.393Z"
   },
   {
    "duration": 26,
    "start_time": "2022-08-24T19:12:55.500Z"
   },
   {
    "duration": 25,
    "start_time": "2022-08-24T19:13:08.853Z"
   },
   {
    "duration": 39,
    "start_time": "2022-08-24T19:13:15.561Z"
   },
   {
    "duration": 38,
    "start_time": "2022-08-24T19:13:34.203Z"
   },
   {
    "duration": 42,
    "start_time": "2022-08-24T19:14:42.815Z"
   },
   {
    "duration": 818,
    "start_time": "2022-08-24T19:19:18.769Z"
   },
   {
    "duration": 854,
    "start_time": "2022-08-24T19:19:24.792Z"
   },
   {
    "duration": 1736,
    "start_time": "2022-08-24T19:20:02.124Z"
   },
   {
    "duration": 1167,
    "start_time": "2022-08-24T19:20:07.915Z"
   },
   {
    "duration": 22,
    "start_time": "2022-08-24T19:22:13.549Z"
   },
   {
    "duration": 701,
    "start_time": "2022-08-24T19:23:10.533Z"
   },
   {
    "duration": 1008,
    "start_time": "2022-08-24T19:23:30.812Z"
   },
   {
    "duration": 673,
    "start_time": "2022-08-24T19:23:45.094Z"
   },
   {
    "duration": 18,
    "start_time": "2022-08-24T19:24:07.925Z"
   },
   {
    "duration": 698,
    "start_time": "2022-08-24T19:24:24.795Z"
   },
   {
    "duration": 45,
    "start_time": "2022-08-24T19:24:41.225Z"
   },
   {
    "duration": 745,
    "start_time": "2022-08-24T19:25:00.306Z"
   },
   {
    "duration": 22,
    "start_time": "2022-08-24T19:27:14.795Z"
   },
   {
    "duration": 43,
    "start_time": "2022-08-24T19:27:41.061Z"
   },
   {
    "duration": 20,
    "start_time": "2022-08-24T19:28:16.729Z"
   },
   {
    "duration": 24,
    "start_time": "2022-08-24T19:28:23.766Z"
   },
   {
    "duration": 26,
    "start_time": "2022-08-24T19:35:52.994Z"
   },
   {
    "duration": 25,
    "start_time": "2022-08-24T19:38:40.155Z"
   },
   {
    "duration": 28,
    "start_time": "2022-08-24T19:38:48.383Z"
   },
   {
    "duration": 29,
    "start_time": "2022-08-24T19:41:53.266Z"
   },
   {
    "duration": 53,
    "start_time": "2022-08-24T19:54:18.675Z"
   },
   {
    "duration": 66,
    "start_time": "2022-08-24T19:54:25.477Z"
   },
   {
    "duration": 814,
    "start_time": "2022-08-24T19:56:22.131Z"
   },
   {
    "duration": 62,
    "start_time": "2022-08-24T19:56:36.860Z"
   },
   {
    "duration": 738,
    "start_time": "2022-08-24T19:58:23.847Z"
   },
   {
    "duration": 62,
    "start_time": "2022-08-24T19:58:46.059Z"
   },
   {
    "duration": 69,
    "start_time": "2022-08-24T19:59:08.096Z"
   },
   {
    "duration": 51,
    "start_time": "2022-08-24T20:00:14.034Z"
   },
   {
    "duration": 62,
    "start_time": "2022-08-24T20:00:35.748Z"
   },
   {
    "duration": 246,
    "start_time": "2022-08-24T20:01:45.572Z"
   },
   {
    "duration": 63,
    "start_time": "2022-08-24T20:02:05.186Z"
   },
   {
    "duration": 314,
    "start_time": "2022-08-24T20:02:35.648Z"
   },
   {
    "duration": 59,
    "start_time": "2022-08-24T20:02:55.566Z"
   },
   {
    "duration": 64,
    "start_time": "2022-08-24T20:03:39.181Z"
   },
   {
    "duration": 70,
    "start_time": "2022-08-24T20:03:44.247Z"
   },
   {
    "duration": 66,
    "start_time": "2022-08-24T20:04:20.073Z"
   },
   {
    "duration": 50,
    "start_time": "2022-08-24T20:05:41.476Z"
   },
   {
    "duration": 55,
    "start_time": "2022-08-24T20:05:52.982Z"
   },
   {
    "duration": 743,
    "start_time": "2022-08-24T20:06:05.053Z"
   },
   {
    "duration": 987,
    "start_time": "2022-08-24T20:06:13.869Z"
   },
   {
    "duration": 72,
    "start_time": "2022-08-24T20:07:09.950Z"
   },
   {
    "duration": 99,
    "start_time": "2022-08-24T20:07:14.043Z"
   },
   {
    "duration": 54,
    "start_time": "2022-08-24T20:07:42.043Z"
   },
   {
    "duration": 977,
    "start_time": "2022-08-24T20:07:43.866Z"
   },
   {
    "duration": 22,
    "start_time": "2022-08-24T20:11:57.482Z"
   },
   {
    "duration": 30,
    "start_time": "2022-08-24T20:12:56.517Z"
   },
   {
    "duration": 57,
    "start_time": "2022-08-24T20:14:04.024Z"
   },
   {
    "duration": 39,
    "start_time": "2022-08-24T20:14:23.553Z"
   },
   {
    "duration": 46,
    "start_time": "2022-08-24T20:14:28.670Z"
   },
   {
    "duration": 46,
    "start_time": "2022-08-25T04:22:20.068Z"
   },
   {
    "duration": 1260,
    "start_time": "2022-08-25T04:22:24.498Z"
   },
   {
    "duration": 31,
    "start_time": "2022-08-25T04:22:25.760Z"
   },
   {
    "duration": 42,
    "start_time": "2022-08-25T04:22:25.792Z"
   },
   {
    "duration": 21,
    "start_time": "2022-08-25T04:22:25.835Z"
   },
   {
    "duration": 44,
    "start_time": "2022-08-25T04:22:25.858Z"
   },
   {
    "duration": 17,
    "start_time": "2022-08-25T04:22:25.903Z"
   },
   {
    "duration": 21,
    "start_time": "2022-08-25T04:22:25.922Z"
   },
   {
    "duration": 15,
    "start_time": "2022-08-25T04:22:25.944Z"
   },
   {
    "duration": 42,
    "start_time": "2022-08-25T04:22:25.960Z"
   },
   {
    "duration": 24,
    "start_time": "2022-08-25T04:22:26.004Z"
   },
   {
    "duration": 64,
    "start_time": "2022-08-25T04:22:26.030Z"
   },
   {
    "duration": 35,
    "start_time": "2022-08-25T04:22:26.095Z"
   },
   {
    "duration": 0,
    "start_time": "2022-08-25T04:22:26.131Z"
   },
   {
    "duration": 0,
    "start_time": "2022-08-25T04:22:26.132Z"
   },
   {
    "duration": 0,
    "start_time": "2022-08-25T04:22:26.133Z"
   },
   {
    "duration": 17,
    "start_time": "2022-08-25T04:23:09.592Z"
   },
   {
    "duration": 26,
    "start_time": "2022-08-25T04:23:15.432Z"
   },
   {
    "duration": 22,
    "start_time": "2022-08-25T04:23:48.083Z"
   },
   {
    "duration": 24,
    "start_time": "2022-08-25T04:23:54.894Z"
   },
   {
    "duration": 9,
    "start_time": "2022-08-25T04:25:09.265Z"
   },
   {
    "duration": 7,
    "start_time": "2022-08-25T04:25:21.177Z"
   },
   {
    "duration": 7,
    "start_time": "2022-08-25T04:26:41.398Z"
   },
   {
    "duration": 14,
    "start_time": "2022-08-25T04:26:57.215Z"
   },
   {
    "duration": 9,
    "start_time": "2022-08-25T04:27:17.870Z"
   },
   {
    "duration": 10,
    "start_time": "2022-08-25T04:28:10.464Z"
   },
   {
    "duration": 7,
    "start_time": "2022-08-25T04:29:22.956Z"
   },
   {
    "duration": 4,
    "start_time": "2022-08-25T04:30:30.445Z"
   },
   {
    "duration": 14,
    "start_time": "2022-08-25T04:30:44.782Z"
   },
   {
    "duration": 14,
    "start_time": "2022-08-25T04:30:52.463Z"
   },
   {
    "duration": 25,
    "start_time": "2022-08-25T04:31:11.274Z"
   },
   {
    "duration": 263,
    "start_time": "2022-08-25T04:32:05.431Z"
   },
   {
    "duration": 29,
    "start_time": "2022-08-25T04:32:13.560Z"
   },
   {
    "duration": 28,
    "start_time": "2022-08-25T05:12:12.201Z"
   },
   {
    "duration": 26,
    "start_time": "2022-08-25T05:14:06.103Z"
   },
   {
    "duration": 30,
    "start_time": "2022-08-25T05:14:26.912Z"
   },
   {
    "duration": 27,
    "start_time": "2022-08-25T05:14:55.469Z"
   },
   {
    "duration": 29,
    "start_time": "2022-08-25T05:15:00.154Z"
   },
   {
    "duration": 30,
    "start_time": "2022-08-25T05:15:05.473Z"
   },
   {
    "duration": 30,
    "start_time": "2022-08-25T05:15:12.562Z"
   },
   {
    "duration": 4,
    "start_time": "2022-08-25T05:16:34.249Z"
   },
   {
    "duration": 24,
    "start_time": "2022-08-25T05:16:36.811Z"
   },
   {
    "duration": 24,
    "start_time": "2022-08-25T05:16:45.583Z"
   },
   {
    "duration": 27,
    "start_time": "2022-08-25T05:16:50.707Z"
   },
   {
    "duration": 30,
    "start_time": "2022-08-25T05:16:55.154Z"
   },
   {
    "duration": 25,
    "start_time": "2022-08-25T05:16:59.414Z"
   },
   {
    "duration": 28,
    "start_time": "2022-08-25T05:17:01.860Z"
   },
   {
    "duration": 28,
    "start_time": "2022-08-25T05:18:17.415Z"
   },
   {
    "duration": 26,
    "start_time": "2022-08-25T05:18:40.186Z"
   },
   {
    "duration": 27,
    "start_time": "2022-08-25T05:18:55.614Z"
   },
   {
    "duration": 30,
    "start_time": "2022-08-25T05:19:08.197Z"
   },
   {
    "duration": 29,
    "start_time": "2022-08-25T05:21:34.568Z"
   },
   {
    "duration": 23,
    "start_time": "2022-08-25T05:22:52.714Z"
   },
   {
    "duration": 52,
    "start_time": "2022-08-25T05:24:38.543Z"
   },
   {
    "duration": 26,
    "start_time": "2022-08-25T05:24:39.868Z"
   },
   {
    "duration": 36,
    "start_time": "2022-08-25T05:24:48.079Z"
   },
   {
    "duration": 9,
    "start_time": "2022-08-25T05:26:53.884Z"
   },
   {
    "duration": 10,
    "start_time": "2022-08-25T05:27:59.721Z"
   },
   {
    "duration": 37,
    "start_time": "2022-08-25T05:32:16.089Z"
   },
   {
    "duration": 26,
    "start_time": "2022-08-25T05:33:33.311Z"
   },
   {
    "duration": 26,
    "start_time": "2022-08-25T05:33:37.330Z"
   },
   {
    "duration": 27,
    "start_time": "2022-08-25T05:33:43.117Z"
   },
   {
    "duration": 26,
    "start_time": "2022-08-25T05:33:47.920Z"
   },
   {
    "duration": 29,
    "start_time": "2022-08-25T05:33:59.619Z"
   },
   {
    "duration": 27,
    "start_time": "2022-08-25T05:34:04.491Z"
   },
   {
    "duration": 26,
    "start_time": "2022-08-25T05:35:04.389Z"
   },
   {
    "duration": 27,
    "start_time": "2022-08-25T05:35:28.410Z"
   },
   {
    "duration": 25,
    "start_time": "2022-08-25T05:35:44.422Z"
   },
   {
    "duration": 5,
    "start_time": "2022-08-25T05:36:24.773Z"
   },
   {
    "duration": 20,
    "start_time": "2022-08-25T05:36:29.776Z"
   },
   {
    "duration": 26,
    "start_time": "2022-08-25T05:36:34.691Z"
   },
   {
    "duration": 14,
    "start_time": "2022-08-25T05:38:26.789Z"
   },
   {
    "duration": 704,
    "start_time": "2022-08-25T05:38:34.430Z"
   },
   {
    "duration": 31,
    "start_time": "2022-08-25T05:38:35.136Z"
   },
   {
    "duration": 44,
    "start_time": "2022-08-25T05:38:35.169Z"
   },
   {
    "duration": 22,
    "start_time": "2022-08-25T05:38:35.215Z"
   },
   {
    "duration": 28,
    "start_time": "2022-08-25T05:38:35.238Z"
   },
   {
    "duration": 33,
    "start_time": "2022-08-25T05:38:35.268Z"
   },
   {
    "duration": 24,
    "start_time": "2022-08-25T05:38:35.302Z"
   },
   {
    "duration": 18,
    "start_time": "2022-08-25T05:38:35.328Z"
   },
   {
    "duration": 51,
    "start_time": "2022-08-25T05:38:35.347Z"
   },
   {
    "duration": 22,
    "start_time": "2022-08-25T05:38:35.401Z"
   },
   {
    "duration": 15,
    "start_time": "2022-08-25T05:38:35.425Z"
   },
   {
    "duration": 35,
    "start_time": "2022-08-25T05:38:35.441Z"
   },
   {
    "duration": 20,
    "start_time": "2022-08-25T05:38:35.487Z"
   },
   {
    "duration": 16,
    "start_time": "2022-08-25T05:38:35.508Z"
   },
   {
    "duration": 783,
    "start_time": "2022-08-25T05:38:35.526Z"
   },
   {
    "duration": 28,
    "start_time": "2022-08-25T05:39:33.490Z"
   },
   {
    "duration": 677,
    "start_time": "2022-08-25T05:39:53.209Z"
   },
   {
    "duration": 32,
    "start_time": "2022-08-25T05:39:53.888Z"
   },
   {
    "duration": 44,
    "start_time": "2022-08-25T05:39:53.921Z"
   },
   {
    "duration": 41,
    "start_time": "2022-08-25T05:39:53.966Z"
   },
   {
    "duration": 32,
    "start_time": "2022-08-25T05:39:54.009Z"
   },
   {
    "duration": 20,
    "start_time": "2022-08-25T05:39:54.043Z"
   },
   {
    "duration": 46,
    "start_time": "2022-08-25T05:39:54.064Z"
   },
   {
    "duration": 16,
    "start_time": "2022-08-25T05:39:54.111Z"
   },
   {
    "duration": 17,
    "start_time": "2022-08-25T05:39:54.129Z"
   },
   {
    "duration": 13,
    "start_time": "2022-08-25T05:39:54.148Z"
   },
   {
    "duration": 28,
    "start_time": "2022-08-25T05:39:54.188Z"
   },
   {
    "duration": 29,
    "start_time": "2022-08-25T05:39:54.217Z"
   },
   {
    "duration": 41,
    "start_time": "2022-08-25T05:39:54.248Z"
   },
   {
    "duration": 16,
    "start_time": "2022-08-25T05:39:54.291Z"
   },
   {
    "duration": 919,
    "start_time": "2022-08-25T05:39:54.309Z"
   },
   {
    "duration": 6,
    "start_time": "2022-08-25T05:41:07.102Z"
   },
   {
    "duration": 20,
    "start_time": "2022-08-25T05:41:11.210Z"
   },
   {
    "duration": 21,
    "start_time": "2022-08-25T05:41:48.165Z"
   },
   {
    "duration": 10,
    "start_time": "2022-08-25T05:43:03.479Z"
   },
   {
    "duration": 37,
    "start_time": "2022-08-25T05:45:11.408Z"
   },
   {
    "duration": 53,
    "start_time": "2022-08-25T05:45:30.994Z"
   },
   {
    "duration": 694,
    "start_time": "2022-08-25T05:45:58.412Z"
   },
   {
    "duration": 32,
    "start_time": "2022-08-25T05:45:59.107Z"
   },
   {
    "duration": 45,
    "start_time": "2022-08-25T05:45:59.141Z"
   },
   {
    "duration": 24,
    "start_time": "2022-08-25T05:45:59.189Z"
   },
   {
    "duration": 29,
    "start_time": "2022-08-25T05:45:59.215Z"
   },
   {
    "duration": 47,
    "start_time": "2022-08-25T05:45:59.246Z"
   },
   {
    "duration": 24,
    "start_time": "2022-08-25T05:45:59.295Z"
   },
   {
    "duration": 16,
    "start_time": "2022-08-25T05:45:59.321Z"
   },
   {
    "duration": 22,
    "start_time": "2022-08-25T05:45:59.338Z"
   },
   {
    "duration": 14,
    "start_time": "2022-08-25T05:45:59.386Z"
   },
   {
    "duration": 62,
    "start_time": "2022-08-25T05:45:59.402Z"
   },
   {
    "duration": 40,
    "start_time": "2022-08-25T05:45:59.466Z"
   },
   {
    "duration": 19,
    "start_time": "2022-08-25T05:45:59.508Z"
   },
   {
    "duration": 16,
    "start_time": "2022-08-25T05:45:59.529Z"
   },
   {
    "duration": 903,
    "start_time": "2022-08-25T05:45:59.547Z"
   },
   {
    "duration": 52,
    "start_time": "2022-08-25T05:46:29.672Z"
   },
   {
    "duration": 48,
    "start_time": "2022-08-25T05:46:51.265Z"
   },
   {
    "duration": 47,
    "start_time": "2022-08-25T05:46:55.831Z"
   },
   {
    "duration": 50,
    "start_time": "2022-08-25T05:47:19.886Z"
   },
   {
    "duration": 734,
    "start_time": "2022-08-25T05:47:39.924Z"
   },
   {
    "duration": 42,
    "start_time": "2022-08-25T05:47:40.660Z"
   },
   {
    "duration": 48,
    "start_time": "2022-08-25T05:47:40.704Z"
   },
   {
    "duration": 23,
    "start_time": "2022-08-25T05:47:40.754Z"
   },
   {
    "duration": 46,
    "start_time": "2022-08-25T05:47:40.780Z"
   },
   {
    "duration": 21,
    "start_time": "2022-08-25T05:47:40.827Z"
   },
   {
    "duration": 23,
    "start_time": "2022-08-25T05:47:40.849Z"
   },
   {
    "duration": 35,
    "start_time": "2022-08-25T05:47:40.874Z"
   },
   {
    "duration": 16,
    "start_time": "2022-08-25T05:47:40.910Z"
   },
   {
    "duration": 17,
    "start_time": "2022-08-25T05:47:40.928Z"
   },
   {
    "duration": 77,
    "start_time": "2022-08-25T05:47:40.946Z"
   },
   {
    "duration": 25,
    "start_time": "2022-08-25T05:47:41.024Z"
   },
   {
    "duration": 17,
    "start_time": "2022-08-25T05:47:41.051Z"
   },
   {
    "duration": 18,
    "start_time": "2022-08-25T05:47:41.099Z"
   },
   {
    "duration": 917,
    "start_time": "2022-08-25T05:47:41.119Z"
   },
   {
    "duration": 54,
    "start_time": "2022-08-25T05:49:31.901Z"
   },
   {
    "duration": 48,
    "start_time": "2022-08-25T05:49:45.408Z"
   },
   {
    "duration": 727,
    "start_time": "2022-08-25T05:50:08.501Z"
   },
   {
    "duration": 31,
    "start_time": "2022-08-25T05:50:09.230Z"
   },
   {
    "duration": 49,
    "start_time": "2022-08-25T05:50:09.262Z"
   },
   {
    "duration": 23,
    "start_time": "2022-08-25T05:50:09.312Z"
   },
   {
    "duration": 28,
    "start_time": "2022-08-25T05:50:09.337Z"
   },
   {
    "duration": 48,
    "start_time": "2022-08-25T05:50:09.366Z"
   },
   {
    "duration": 22,
    "start_time": "2022-08-25T05:50:09.415Z"
   },
   {
    "duration": 16,
    "start_time": "2022-08-25T05:50:09.438Z"
   },
   {
    "duration": 35,
    "start_time": "2022-08-25T05:50:09.455Z"
   },
   {
    "duration": 23,
    "start_time": "2022-08-25T05:50:09.491Z"
   },
   {
    "duration": 67,
    "start_time": "2022-08-25T05:50:09.515Z"
   },
   {
    "duration": 954,
    "start_time": "2022-08-25T05:50:09.584Z"
   },
   {
    "duration": 0,
    "start_time": "2022-08-25T05:50:10.540Z"
   },
   {
    "duration": 0,
    "start_time": "2022-08-25T05:50:10.541Z"
   },
   {
    "duration": 0,
    "start_time": "2022-08-25T05:50:10.542Z"
   },
   {
    "duration": 11,
    "start_time": "2022-08-25T05:50:49.021Z"
   },
   {
    "duration": 10,
    "start_time": "2022-08-25T05:51:10.036Z"
   },
   {
    "duration": 808,
    "start_time": "2022-08-25T05:51:32.840Z"
   },
   {
    "duration": 838,
    "start_time": "2022-08-25T05:51:53.525Z"
   },
   {
    "duration": 831,
    "start_time": "2022-08-25T05:51:59.736Z"
   },
   {
    "duration": 761,
    "start_time": "2022-08-25T05:52:03.707Z"
   },
   {
    "duration": 36,
    "start_time": "2022-08-25T05:52:04.470Z"
   },
   {
    "duration": 48,
    "start_time": "2022-08-25T05:52:04.507Z"
   },
   {
    "duration": 44,
    "start_time": "2022-08-25T05:52:04.556Z"
   },
   {
    "duration": 28,
    "start_time": "2022-08-25T05:52:04.603Z"
   },
   {
    "duration": 20,
    "start_time": "2022-08-25T05:52:04.633Z"
   },
   {
    "duration": 44,
    "start_time": "2022-08-25T05:52:04.655Z"
   },
   {
    "duration": 18,
    "start_time": "2022-08-25T05:52:04.701Z"
   },
   {
    "duration": 16,
    "start_time": "2022-08-25T05:52:04.720Z"
   },
   {
    "duration": 15,
    "start_time": "2022-08-25T05:52:04.738Z"
   },
   {
    "duration": 56,
    "start_time": "2022-08-25T05:52:04.754Z"
   },
   {
    "duration": 21,
    "start_time": "2022-08-25T05:52:04.811Z"
   },
   {
    "duration": 17,
    "start_time": "2022-08-25T05:52:04.833Z"
   },
   {
    "duration": 890,
    "start_time": "2022-08-25T05:52:04.852Z"
   },
   {
    "duration": 755,
    "start_time": "2022-08-25T05:56:54.662Z"
   },
   {
    "duration": 34,
    "start_time": "2022-08-25T05:56:55.419Z"
   },
   {
    "duration": 55,
    "start_time": "2022-08-25T05:56:55.455Z"
   },
   {
    "duration": 21,
    "start_time": "2022-08-25T05:56:55.512Z"
   },
   {
    "duration": 27,
    "start_time": "2022-08-25T05:56:55.535Z"
   },
   {
    "duration": 38,
    "start_time": "2022-08-25T05:56:55.563Z"
   },
   {
    "duration": 21,
    "start_time": "2022-08-25T05:56:55.603Z"
   },
   {
    "duration": 15,
    "start_time": "2022-08-25T05:56:55.626Z"
   },
   {
    "duration": 46,
    "start_time": "2022-08-25T05:56:55.642Z"
   },
   {
    "duration": 13,
    "start_time": "2022-08-25T05:56:55.689Z"
   },
   {
    "duration": 32,
    "start_time": "2022-08-25T05:56:55.703Z"
   },
   {
    "duration": 21,
    "start_time": "2022-08-25T05:56:55.737Z"
   },
   {
    "duration": 43,
    "start_time": "2022-08-25T05:56:55.759Z"
   },
   {
    "duration": 824,
    "start_time": "2022-08-25T05:56:55.804Z"
   },
   {
    "duration": 25,
    "start_time": "2022-08-25T05:57:34.081Z"
   },
   {
    "duration": 730,
    "start_time": "2022-08-25T05:57:47.184Z"
   },
   {
    "duration": 33,
    "start_time": "2022-08-25T05:57:47.916Z"
   },
   {
    "duration": 45,
    "start_time": "2022-08-25T05:57:47.951Z"
   },
   {
    "duration": 29,
    "start_time": "2022-08-25T05:57:47.998Z"
   },
   {
    "duration": 32,
    "start_time": "2022-08-25T05:57:48.029Z"
   },
   {
    "duration": 38,
    "start_time": "2022-08-25T05:57:48.063Z"
   },
   {
    "duration": 23,
    "start_time": "2022-08-25T05:57:48.103Z"
   },
   {
    "duration": 17,
    "start_time": "2022-08-25T05:57:48.128Z"
   },
   {
    "duration": 46,
    "start_time": "2022-08-25T05:57:48.146Z"
   },
   {
    "duration": 14,
    "start_time": "2022-08-25T05:57:48.194Z"
   },
   {
    "duration": 34,
    "start_time": "2022-08-25T05:57:48.210Z"
   },
   {
    "duration": 44,
    "start_time": "2022-08-25T05:57:48.246Z"
   },
   {
    "duration": 17,
    "start_time": "2022-08-25T05:57:48.291Z"
   },
   {
    "duration": 872,
    "start_time": "2022-08-25T05:57:48.310Z"
   },
   {
    "duration": 29,
    "start_time": "2022-08-25T06:00:20.198Z"
   },
   {
    "duration": 747,
    "start_time": "2022-08-25T06:00:26.690Z"
   },
   {
    "duration": 38,
    "start_time": "2022-08-25T06:00:27.440Z"
   },
   {
    "duration": 60,
    "start_time": "2022-08-25T06:00:27.480Z"
   },
   {
    "duration": 25,
    "start_time": "2022-08-25T06:00:27.542Z"
   },
   {
    "duration": 57,
    "start_time": "2022-08-25T06:00:27.570Z"
   },
   {
    "duration": 23,
    "start_time": "2022-08-25T06:00:27.630Z"
   },
   {
    "duration": 47,
    "start_time": "2022-08-25T06:00:27.654Z"
   },
   {
    "duration": 18,
    "start_time": "2022-08-25T06:00:27.702Z"
   },
   {
    "duration": 21,
    "start_time": "2022-08-25T06:00:27.721Z"
   },
   {
    "duration": 13,
    "start_time": "2022-08-25T06:00:27.744Z"
   },
   {
    "duration": 58,
    "start_time": "2022-08-25T06:00:27.759Z"
   },
   {
    "duration": 21,
    "start_time": "2022-08-25T06:00:27.819Z"
   },
   {
    "duration": 46,
    "start_time": "2022-08-25T06:00:27.842Z"
   },
   {
    "duration": 798,
    "start_time": "2022-08-25T06:00:27.890Z"
   },
   {
    "duration": 21,
    "start_time": "2022-08-25T06:02:21.778Z"
   },
   {
    "duration": 682,
    "start_time": "2022-08-25T06:02:28.539Z"
   },
   {
    "duration": 34,
    "start_time": "2022-08-25T06:02:29.223Z"
   },
   {
    "duration": 48,
    "start_time": "2022-08-25T06:02:29.259Z"
   },
   {
    "duration": 28,
    "start_time": "2022-08-25T06:02:29.309Z"
   },
   {
    "duration": 32,
    "start_time": "2022-08-25T06:02:29.339Z"
   },
   {
    "duration": 21,
    "start_time": "2022-08-25T06:02:29.387Z"
   },
   {
    "duration": 32,
    "start_time": "2022-08-25T06:02:29.410Z"
   },
   {
    "duration": 16,
    "start_time": "2022-08-25T06:02:29.444Z"
   },
   {
    "duration": 38,
    "start_time": "2022-08-25T06:02:29.461Z"
   },
   {
    "duration": 12,
    "start_time": "2022-08-25T06:02:29.501Z"
   },
   {
    "duration": 43,
    "start_time": "2022-08-25T06:02:29.515Z"
   },
   {
    "duration": 39,
    "start_time": "2022-08-25T06:02:29.560Z"
   },
   {
    "duration": 16,
    "start_time": "2022-08-25T06:02:29.601Z"
   },
   {
    "duration": 3162,
    "start_time": "2022-08-25T06:02:29.620Z"
   },
   {
    "duration": 73,
    "start_time": "2022-08-25T06:07:22.958Z"
   },
   {
    "duration": 15,
    "start_time": "2022-08-25T06:08:57.684Z"
   },
   {
    "duration": 238,
    "start_time": "2022-08-25T06:09:56.309Z"
   },
   {
    "duration": 11,
    "start_time": "2022-08-25T06:10:52.932Z"
   },
   {
    "duration": 13,
    "start_time": "2022-08-25T06:11:35.415Z"
   },
   {
    "duration": 13,
    "start_time": "2022-08-25T06:11:39.791Z"
   },
   {
    "duration": 14,
    "start_time": "2022-08-25T06:11:56.054Z"
   },
   {
    "duration": 760,
    "start_time": "2022-08-25T06:12:23.678Z"
   },
   {
    "duration": 41,
    "start_time": "2022-08-25T06:12:24.440Z"
   },
   {
    "duration": 51,
    "start_time": "2022-08-25T06:12:24.483Z"
   },
   {
    "duration": 32,
    "start_time": "2022-08-25T06:12:24.536Z"
   },
   {
    "duration": 44,
    "start_time": "2022-08-25T06:12:24.570Z"
   },
   {
    "duration": 19,
    "start_time": "2022-08-25T06:12:24.616Z"
   },
   {
    "duration": 54,
    "start_time": "2022-08-25T06:12:24.643Z"
   },
   {
    "duration": 18,
    "start_time": "2022-08-25T06:12:24.698Z"
   },
   {
    "duration": 22,
    "start_time": "2022-08-25T06:12:24.717Z"
   },
   {
    "duration": 12,
    "start_time": "2022-08-25T06:12:24.740Z"
   },
   {
    "duration": 57,
    "start_time": "2022-08-25T06:12:24.754Z"
   },
   {
    "duration": 17,
    "start_time": "2022-08-25T06:12:24.812Z"
   },
   {
    "duration": 21,
    "start_time": "2022-08-25T06:12:24.830Z"
   },
   {
    "duration": 839,
    "start_time": "2022-08-25T06:12:24.853Z"
   },
   {
    "duration": 21,
    "start_time": "2022-08-25T06:12:44.311Z"
   },
   {
    "duration": 19,
    "start_time": "2022-08-25T06:13:15.275Z"
   },
   {
    "duration": 26,
    "start_time": "2022-08-25T06:13:57.620Z"
   },
   {
    "duration": 20,
    "start_time": "2022-08-25T06:14:14.286Z"
   },
   {
    "duration": 21,
    "start_time": "2022-08-25T06:14:28.854Z"
   },
   {
    "duration": 23,
    "start_time": "2022-08-25T06:14:33.745Z"
   },
   {
    "duration": 22,
    "start_time": "2022-08-25T06:15:23.150Z"
   },
   {
    "duration": 17,
    "start_time": "2022-08-25T06:16:51.481Z"
   },
   {
    "duration": 23,
    "start_time": "2022-08-25T06:18:33.127Z"
   },
   {
    "duration": 21,
    "start_time": "2022-08-25T06:18:42.751Z"
   },
   {
    "duration": 15,
    "start_time": "2022-08-25T06:19:15.877Z"
   },
   {
    "duration": 22,
    "start_time": "2022-08-25T06:19:22.242Z"
   },
   {
    "duration": 13,
    "start_time": "2022-08-25T06:24:50.923Z"
   },
   {
    "duration": 12,
    "start_time": "2022-08-25T06:27:12.482Z"
   },
   {
    "duration": 67,
    "start_time": "2022-08-25T06:28:26.842Z"
   },
   {
    "duration": 23,
    "start_time": "2022-08-25T06:28:46.099Z"
   },
   {
    "duration": 37,
    "start_time": "2022-08-25T06:29:09.416Z"
   },
   {
    "duration": 20,
    "start_time": "2022-08-25T06:29:55.455Z"
   },
   {
    "duration": 731,
    "start_time": "2022-08-25T06:31:46.079Z"
   },
   {
    "duration": 1527,
    "start_time": "2022-08-25T06:32:31.067Z"
   },
   {
    "duration": 23,
    "start_time": "2022-08-25T06:42:16.048Z"
   },
   {
    "duration": 18,
    "start_time": "2022-08-25T06:43:10.150Z"
   },
   {
    "duration": 17,
    "start_time": "2022-08-25T06:43:14.439Z"
   },
   {
    "duration": 21,
    "start_time": "2022-08-25T06:43:18.899Z"
   },
   {
    "duration": 21,
    "start_time": "2022-08-25T06:43:27.777Z"
   },
   {
    "duration": 21,
    "start_time": "2022-08-25T06:43:33.237Z"
   },
   {
    "duration": 22,
    "start_time": "2022-08-25T06:43:36.744Z"
   },
   {
    "duration": 22,
    "start_time": "2022-08-25T06:43:42.064Z"
   },
   {
    "duration": 20,
    "start_time": "2022-08-25T06:45:57.679Z"
   },
   {
    "duration": 26,
    "start_time": "2022-08-25T06:46:26.395Z"
   },
   {
    "duration": 14,
    "start_time": "2022-08-25T06:46:58.828Z"
   },
   {
    "duration": 15,
    "start_time": "2022-08-25T06:47:01.060Z"
   },
   {
    "duration": 22,
    "start_time": "2022-08-25T06:47:04.725Z"
   },
   {
    "duration": 21,
    "start_time": "2022-08-25T06:47:30.899Z"
   },
   {
    "duration": 23,
    "start_time": "2022-08-25T06:48:04.513Z"
   },
   {
    "duration": 15,
    "start_time": "2022-08-25T06:49:01.734Z"
   },
   {
    "duration": 22,
    "start_time": "2022-08-25T06:49:10.455Z"
   },
   {
    "duration": 30,
    "start_time": "2022-08-25T06:49:16.562Z"
   },
   {
    "duration": 24,
    "start_time": "2022-08-25T06:49:23.910Z"
   },
   {
    "duration": 22,
    "start_time": "2022-08-25T06:49:31.343Z"
   },
   {
    "duration": 16,
    "start_time": "2022-08-25T06:55:15.828Z"
   },
   {
    "duration": 21,
    "start_time": "2022-08-25T06:56:29.211Z"
   },
   {
    "duration": 21,
    "start_time": "2022-08-25T06:56:30.856Z"
   },
   {
    "duration": 31,
    "start_time": "2022-08-25T06:56:41.577Z"
   },
   {
    "duration": 17,
    "start_time": "2022-08-25T06:56:54.252Z"
   },
   {
    "duration": 753,
    "start_time": "2022-08-25T06:57:18.861Z"
   },
   {
    "duration": 38,
    "start_time": "2022-08-25T06:57:19.617Z"
   },
   {
    "duration": 57,
    "start_time": "2022-08-25T06:57:19.657Z"
   },
   {
    "duration": 30,
    "start_time": "2022-08-25T06:57:19.716Z"
   },
   {
    "duration": 54,
    "start_time": "2022-08-25T06:57:19.749Z"
   },
   {
    "duration": 21,
    "start_time": "2022-08-25T06:57:19.804Z"
   },
   {
    "duration": 28,
    "start_time": "2022-08-25T06:57:19.827Z"
   },
   {
    "duration": 39,
    "start_time": "2022-08-25T06:57:19.857Z"
   },
   {
    "duration": 17,
    "start_time": "2022-08-25T06:57:19.897Z"
   },
   {
    "duration": 15,
    "start_time": "2022-08-25T06:57:19.915Z"
   },
   {
    "duration": 38,
    "start_time": "2022-08-25T06:57:19.931Z"
   },
   {
    "duration": 33,
    "start_time": "2022-08-25T06:57:19.971Z"
   },
   {
    "duration": 24,
    "start_time": "2022-08-25T06:57:20.006Z"
   },
   {
    "duration": 22,
    "start_time": "2022-08-25T06:57:20.032Z"
   },
   {
    "duration": 25,
    "start_time": "2022-08-25T07:01:10.159Z"
   },
   {
    "duration": 12,
    "start_time": "2022-08-25T07:03:30.424Z"
   },
   {
    "duration": 12,
    "start_time": "2022-08-25T07:03:37.483Z"
   },
   {
    "duration": 13,
    "start_time": "2022-08-25T07:03:38.628Z"
   },
   {
    "duration": 11,
    "start_time": "2022-08-25T07:03:39.302Z"
   },
   {
    "duration": 703,
    "start_time": "2022-08-25T07:03:49.087Z"
   },
   {
    "duration": 33,
    "start_time": "2022-08-25T07:03:49.792Z"
   },
   {
    "duration": 60,
    "start_time": "2022-08-25T07:03:49.827Z"
   },
   {
    "duration": 24,
    "start_time": "2022-08-25T07:03:49.889Z"
   },
   {
    "duration": 38,
    "start_time": "2022-08-25T07:03:49.916Z"
   },
   {
    "duration": 43,
    "start_time": "2022-08-25T07:03:49.955Z"
   },
   {
    "duration": 29,
    "start_time": "2022-08-25T07:03:50.000Z"
   },
   {
    "duration": 17,
    "start_time": "2022-08-25T07:03:50.031Z"
   },
   {
    "duration": 44,
    "start_time": "2022-08-25T07:03:50.050Z"
   },
   {
    "duration": 16,
    "start_time": "2022-08-25T07:03:50.095Z"
   },
   {
    "duration": 52,
    "start_time": "2022-08-25T07:03:50.112Z"
   },
   {
    "duration": 19,
    "start_time": "2022-08-25T07:03:50.166Z"
   },
   {
    "duration": 20,
    "start_time": "2022-08-25T07:03:50.186Z"
   },
   {
    "duration": 23,
    "start_time": "2022-08-25T07:03:50.209Z"
   },
   {
    "duration": 13,
    "start_time": "2022-08-25T07:04:22.690Z"
   },
   {
    "duration": 14,
    "start_time": "2022-08-25T07:04:23.739Z"
   },
   {
    "duration": 13,
    "start_time": "2022-08-25T07:04:34.273Z"
   },
   {
    "duration": 16,
    "start_time": "2022-08-25T07:06:41.600Z"
   },
   {
    "duration": 1841,
    "start_time": "2022-08-25T07:06:59.175Z"
   },
   {
    "duration": 7,
    "start_time": "2022-08-25T07:07:09.829Z"
   },
   {
    "duration": 1949,
    "start_time": "2022-08-25T07:07:17.110Z"
   },
   {
    "duration": 2128,
    "start_time": "2022-08-25T07:07:23.571Z"
   },
   {
    "duration": 15,
    "start_time": "2022-08-25T07:07:37.916Z"
   },
   {
    "duration": 4,
    "start_time": "2022-08-25T07:08:06.361Z"
   },
   {
    "duration": 10,
    "start_time": "2022-08-25T07:08:13.382Z"
   },
   {
    "duration": 11,
    "start_time": "2022-08-25T07:09:03.220Z"
   },
   {
    "duration": 16,
    "start_time": "2022-08-25T07:09:47.931Z"
   },
   {
    "duration": 30,
    "start_time": "2022-08-25T07:09:51.999Z"
   },
   {
    "duration": 19,
    "start_time": "2022-08-25T07:10:30.147Z"
   },
   {
    "duration": 27,
    "start_time": "2022-08-25T07:10:33.522Z"
   },
   {
    "duration": 33,
    "start_time": "2022-08-25T07:10:37.534Z"
   },
   {
    "duration": 30,
    "start_time": "2022-08-25T07:10:40.724Z"
   },
   {
    "duration": 35,
    "start_time": "2022-08-25T07:10:50.421Z"
   },
   {
    "duration": 27,
    "start_time": "2022-08-25T07:11:12.906Z"
   },
   {
    "duration": 30,
    "start_time": "2022-08-25T07:11:26.630Z"
   },
   {
    "duration": 27,
    "start_time": "2022-08-25T07:11:35.099Z"
   },
   {
    "duration": 720,
    "start_time": "2022-08-25T07:11:41.498Z"
   },
   {
    "duration": 33,
    "start_time": "2022-08-25T07:11:42.220Z"
   },
   {
    "duration": 47,
    "start_time": "2022-08-25T07:11:42.254Z"
   },
   {
    "duration": 24,
    "start_time": "2022-08-25T07:11:42.302Z"
   },
   {
    "duration": 38,
    "start_time": "2022-08-25T07:11:42.328Z"
   },
   {
    "duration": 38,
    "start_time": "2022-08-25T07:11:42.368Z"
   },
   {
    "duration": 30,
    "start_time": "2022-08-25T07:11:42.407Z"
   },
   {
    "duration": 18,
    "start_time": "2022-08-25T07:11:42.438Z"
   },
   {
    "duration": 41,
    "start_time": "2022-08-25T07:11:42.457Z"
   },
   {
    "duration": 10,
    "start_time": "2022-08-25T07:11:42.500Z"
   },
   {
    "duration": 39,
    "start_time": "2022-08-25T07:11:42.512Z"
   },
   {
    "duration": 19,
    "start_time": "2022-08-25T07:11:42.553Z"
   },
   {
    "duration": 21,
    "start_time": "2022-08-25T07:11:42.587Z"
   },
   {
    "duration": 9,
    "start_time": "2022-08-25T07:11:42.610Z"
   },
   {
    "duration": 28,
    "start_time": "2022-08-25T07:11:42.621Z"
   },
   {
    "duration": 33,
    "start_time": "2022-08-25T07:11:58.511Z"
   },
   {
    "duration": 25,
    "start_time": "2022-08-25T07:12:03.349Z"
   },
   {
    "duration": 81,
    "start_time": "2022-08-25T07:12:20.937Z"
   },
   {
    "duration": 39,
    "start_time": "2022-08-25T07:12:28.875Z"
   },
   {
    "duration": 40,
    "start_time": "2022-08-25T07:12:56.235Z"
   },
   {
    "duration": 29,
    "start_time": "2022-08-25T07:12:58.948Z"
   },
   {
    "duration": 30,
    "start_time": "2022-08-25T07:16:08.524Z"
   },
   {
    "duration": 713,
    "start_time": "2022-08-25T07:18:52.283Z"
   },
   {
    "duration": 32,
    "start_time": "2022-08-25T07:18:52.998Z"
   },
   {
    "duration": 46,
    "start_time": "2022-08-25T07:18:53.031Z"
   },
   {
    "duration": 23,
    "start_time": "2022-08-25T07:18:53.087Z"
   },
   {
    "duration": 37,
    "start_time": "2022-08-25T07:18:53.112Z"
   },
   {
    "duration": 45,
    "start_time": "2022-08-25T07:18:53.151Z"
   },
   {
    "duration": 28,
    "start_time": "2022-08-25T07:18:53.197Z"
   },
   {
    "duration": 16,
    "start_time": "2022-08-25T07:18:53.227Z"
   },
   {
    "duration": 18,
    "start_time": "2022-08-25T07:18:53.245Z"
   },
   {
    "duration": 11,
    "start_time": "2022-08-25T07:18:53.286Z"
   },
   {
    "duration": 40,
    "start_time": "2022-08-25T07:18:53.299Z"
   },
   {
    "duration": 21,
    "start_time": "2022-08-25T07:18:53.341Z"
   },
   {
    "duration": 43,
    "start_time": "2022-08-25T07:18:53.364Z"
   },
   {
    "duration": 9,
    "start_time": "2022-08-25T07:18:53.409Z"
   },
   {
    "duration": 30,
    "start_time": "2022-08-25T07:18:53.419Z"
   },
   {
    "duration": 26,
    "start_time": "2022-08-25T07:19:00.805Z"
   },
   {
    "duration": 34,
    "start_time": "2022-08-25T07:19:38.267Z"
   },
   {
    "duration": 29,
    "start_time": "2022-08-25T07:21:03.732Z"
   },
   {
    "duration": 15,
    "start_time": "2022-08-25T07:23:13.758Z"
   },
   {
    "duration": 31,
    "start_time": "2022-08-25T07:23:31.921Z"
   },
   {
    "duration": 11,
    "start_time": "2022-08-25T07:23:47.640Z"
   },
   {
    "duration": 11,
    "start_time": "2022-08-25T07:23:54.484Z"
   },
   {
    "duration": 20,
    "start_time": "2022-08-25T07:24:00.829Z"
   },
   {
    "duration": 72,
    "start_time": "2022-08-25T07:24:28.585Z"
   },
   {
    "duration": 26,
    "start_time": "2022-08-25T07:24:46.002Z"
   },
   {
    "duration": 22,
    "start_time": "2022-08-25T07:25:36.381Z"
   },
   {
    "duration": 21,
    "start_time": "2022-08-25T07:25:42.071Z"
   },
   {
    "duration": 24,
    "start_time": "2022-08-25T07:25:48.168Z"
   },
   {
    "duration": 675,
    "start_time": "2022-08-25T07:26:05.330Z"
   },
   {
    "duration": 41,
    "start_time": "2022-08-25T07:26:06.007Z"
   },
   {
    "duration": 48,
    "start_time": "2022-08-25T07:26:06.050Z"
   },
   {
    "duration": 23,
    "start_time": "2022-08-25T07:26:06.100Z"
   },
   {
    "duration": 41,
    "start_time": "2022-08-25T07:26:06.125Z"
   },
   {
    "duration": 44,
    "start_time": "2022-08-25T07:26:06.168Z"
   },
   {
    "duration": 41,
    "start_time": "2022-08-25T07:26:06.213Z"
   },
   {
    "duration": 39,
    "start_time": "2022-08-25T07:26:06.256Z"
   },
   {
    "duration": 25,
    "start_time": "2022-08-25T07:26:06.297Z"
   },
   {
    "duration": 33,
    "start_time": "2022-08-25T07:26:06.324Z"
   },
   {
    "duration": 46,
    "start_time": "2022-08-25T07:26:06.359Z"
   },
   {
    "duration": 26,
    "start_time": "2022-08-25T07:26:06.408Z"
   },
   {
    "duration": 28,
    "start_time": "2022-08-25T07:26:06.436Z"
   },
   {
    "duration": 28,
    "start_time": "2022-08-25T07:26:06.467Z"
   },
   {
    "duration": 23,
    "start_time": "2022-08-25T07:26:18.207Z"
   },
   {
    "duration": 15,
    "start_time": "2022-08-25T07:26:54.959Z"
   },
   {
    "duration": 65,
    "start_time": "2022-08-25T07:33:12.464Z"
   },
   {
    "duration": 8,
    "start_time": "2022-08-25T07:33:16.874Z"
   },
   {
    "duration": 20,
    "start_time": "2022-08-25T07:33:23.375Z"
   },
   {
    "duration": 18,
    "start_time": "2022-08-25T07:33:50.019Z"
   },
   {
    "duration": 7,
    "start_time": "2022-08-25T07:39:14.635Z"
   },
   {
    "duration": 18,
    "start_time": "2022-08-25T07:39:46.076Z"
   },
   {
    "duration": 24,
    "start_time": "2022-08-25T07:40:08.698Z"
   },
   {
    "duration": 76,
    "start_time": "2022-08-25T07:40:21.163Z"
   },
   {
    "duration": 644,
    "start_time": "2022-08-25T07:40:22.019Z"
   },
   {
    "duration": 697,
    "start_time": "2022-08-25T07:40:33.242Z"
   },
   {
    "duration": 32,
    "start_time": "2022-08-25T07:40:33.941Z"
   },
   {
    "duration": 53,
    "start_time": "2022-08-25T07:40:33.974Z"
   },
   {
    "duration": 22,
    "start_time": "2022-08-25T07:40:34.029Z"
   },
   {
    "duration": 49,
    "start_time": "2022-08-25T07:40:34.053Z"
   },
   {
    "duration": 20,
    "start_time": "2022-08-25T07:40:34.104Z"
   },
   {
    "duration": 44,
    "start_time": "2022-08-25T07:40:34.125Z"
   },
   {
    "duration": 22,
    "start_time": "2022-08-25T07:40:34.171Z"
   },
   {
    "duration": 19,
    "start_time": "2022-08-25T07:40:34.195Z"
   },
   {
    "duration": 13,
    "start_time": "2022-08-25T07:40:34.216Z"
   },
   {
    "duration": 33,
    "start_time": "2022-08-25T07:40:34.230Z"
   },
   {
    "duration": 42,
    "start_time": "2022-08-25T07:40:34.264Z"
   },
   {
    "duration": 22,
    "start_time": "2022-08-25T07:40:34.308Z"
   },
   {
    "duration": 10,
    "start_time": "2022-08-25T07:40:34.332Z"
   },
   {
    "duration": 86,
    "start_time": "2022-08-25T07:40:34.343Z"
   },
   {
    "duration": 15,
    "start_time": "2022-08-25T07:41:04.420Z"
   },
   {
    "duration": 19,
    "start_time": "2022-08-25T07:42:05.451Z"
   },
   {
    "duration": 665,
    "start_time": "2022-08-25T08:07:12.925Z"
   },
   {
    "duration": 21,
    "start_time": "2022-08-25T08:07:32.081Z"
   },
   {
    "duration": 437,
    "start_time": "2022-08-25T08:07:41.659Z"
   },
   {
    "duration": 62,
    "start_time": "2022-08-25T08:09:54.410Z"
   },
   {
    "duration": 46,
    "start_time": "2022-08-25T08:09:58.731Z"
   },
   {
    "duration": 381,
    "start_time": "2022-08-25T08:10:21.706Z"
   },
   {
    "duration": 35,
    "start_time": "2022-08-25T08:10:39.190Z"
   },
   {
    "duration": 20,
    "start_time": "2022-08-25T08:14:08.721Z"
   },
   {
    "duration": 20,
    "start_time": "2022-08-25T08:14:14.227Z"
   },
   {
    "duration": 33,
    "start_time": "2022-08-25T08:14:18.460Z"
   },
   {
    "duration": 30,
    "start_time": "2022-08-25T08:15:09.054Z"
   },
   {
    "duration": 29,
    "start_time": "2022-08-25T08:15:49.816Z"
   },
   {
    "duration": 328,
    "start_time": "2022-08-25T08:16:58.444Z"
   },
   {
    "duration": 21,
    "start_time": "2022-08-25T08:17:05.368Z"
   },
   {
    "duration": 20,
    "start_time": "2022-08-25T08:17:29.138Z"
   },
   {
    "duration": 21,
    "start_time": "2022-08-25T08:17:33.251Z"
   },
   {
    "duration": 23,
    "start_time": "2022-08-25T08:19:12.334Z"
   },
   {
    "duration": 21,
    "start_time": "2022-08-25T08:19:51.370Z"
   },
   {
    "duration": 1451,
    "start_time": "2022-08-25T08:19:56.125Z"
   },
   {
    "duration": 1265,
    "start_time": "2022-08-25T08:20:06.273Z"
   },
   {
    "duration": 22,
    "start_time": "2022-08-25T08:20:18.946Z"
   },
   {
    "duration": 29,
    "start_time": "2022-08-25T08:21:07.672Z"
   },
   {
    "duration": 21,
    "start_time": "2022-08-25T08:21:17.151Z"
   },
   {
    "duration": 21,
    "start_time": "2022-08-25T08:21:18.962Z"
   },
   {
    "duration": 21,
    "start_time": "2022-08-25T08:21:21.023Z"
   },
   {
    "duration": 16,
    "start_time": "2022-08-25T08:22:16.850Z"
   },
   {
    "duration": 15,
    "start_time": "2022-08-25T08:23:18.321Z"
   },
   {
    "duration": 25,
    "start_time": "2022-08-25T08:25:57.542Z"
   },
   {
    "duration": 22,
    "start_time": "2022-08-25T08:26:18.251Z"
   },
   {
    "duration": 14,
    "start_time": "2022-08-25T08:27:17.176Z"
   },
   {
    "duration": 38,
    "start_time": "2022-08-25T08:27:21.860Z"
   },
   {
    "duration": 26,
    "start_time": "2022-08-25T08:33:14.161Z"
   },
   {
    "duration": 26,
    "start_time": "2022-08-25T08:33:42.181Z"
   },
   {
    "duration": 20,
    "start_time": "2022-08-25T08:37:33.819Z"
   },
   {
    "duration": 14,
    "start_time": "2022-08-25T08:38:33.179Z"
   },
   {
    "duration": 12,
    "start_time": "2022-08-25T08:38:44.788Z"
   },
   {
    "duration": 23,
    "start_time": "2022-08-25T08:40:21.708Z"
   },
   {
    "duration": 16,
    "start_time": "2022-08-25T08:41:09.441Z"
   },
   {
    "duration": 21,
    "start_time": "2022-08-25T08:42:22.668Z"
   },
   {
    "duration": 16,
    "start_time": "2022-08-25T08:49:36.702Z"
   },
   {
    "duration": 16,
    "start_time": "2022-08-25T08:51:33.343Z"
   },
   {
    "duration": 12,
    "start_time": "2022-08-25T08:51:40.863Z"
   },
   {
    "duration": 688,
    "start_time": "2022-08-25T08:51:46.234Z"
   },
   {
    "duration": 34,
    "start_time": "2022-08-25T08:51:46.924Z"
   },
   {
    "duration": 43,
    "start_time": "2022-08-25T08:51:46.960Z"
   },
   {
    "duration": 22,
    "start_time": "2022-08-25T08:51:47.005Z"
   },
   {
    "duration": 38,
    "start_time": "2022-08-25T08:51:47.029Z"
   },
   {
    "duration": 37,
    "start_time": "2022-08-25T08:51:47.068Z"
   },
   {
    "duration": 29,
    "start_time": "2022-08-25T08:51:47.106Z"
   },
   {
    "duration": 17,
    "start_time": "2022-08-25T08:51:47.137Z"
   },
   {
    "duration": 40,
    "start_time": "2022-08-25T08:51:47.155Z"
   },
   {
    "duration": 10,
    "start_time": "2022-08-25T08:51:47.197Z"
   },
   {
    "duration": 30,
    "start_time": "2022-08-25T08:51:47.209Z"
   },
   {
    "duration": 48,
    "start_time": "2022-08-25T08:51:47.240Z"
   },
   {
    "duration": 22,
    "start_time": "2022-08-25T08:51:47.290Z"
   },
   {
    "duration": 8,
    "start_time": "2022-08-25T08:51:47.315Z"
   },
   {
    "duration": 15,
    "start_time": "2022-08-25T08:51:47.325Z"
   },
   {
    "duration": 65,
    "start_time": "2022-08-25T08:52:17.670Z"
   },
   {
    "duration": 12,
    "start_time": "2022-08-25T08:52:23.155Z"
   },
   {
    "duration": 14,
    "start_time": "2022-08-25T08:52:32.476Z"
   },
   {
    "duration": 14,
    "start_time": "2022-08-25T08:53:25.914Z"
   },
   {
    "duration": 23,
    "start_time": "2022-08-25T08:57:38.813Z"
   },
   {
    "duration": 21,
    "start_time": "2022-08-25T08:57:43.839Z"
   },
   {
    "duration": 30,
    "start_time": "2022-08-25T08:57:49.961Z"
   },
   {
    "duration": 18,
    "start_time": "2022-08-25T08:58:46.578Z"
   },
   {
    "duration": 12,
    "start_time": "2022-08-25T09:00:07.654Z"
   },
   {
    "duration": 20,
    "start_time": "2022-08-25T09:00:14.126Z"
   },
   {
    "duration": 16,
    "start_time": "2022-08-25T09:00:56.811Z"
   },
   {
    "duration": 23,
    "start_time": "2022-08-25T09:01:01.820Z"
   },
   {
    "duration": 18,
    "start_time": "2022-08-25T09:01:37.192Z"
   },
   {
    "duration": 32,
    "start_time": "2022-08-25T09:02:16.427Z"
   },
   {
    "duration": 18,
    "start_time": "2022-08-25T09:03:02.736Z"
   },
   {
    "duration": 17,
    "start_time": "2022-08-25T09:03:27.841Z"
   },
   {
    "duration": 27,
    "start_time": "2022-08-25T09:04:11.825Z"
   },
   {
    "duration": 23,
    "start_time": "2022-08-25T09:04:44.416Z"
   },
   {
    "duration": 29,
    "start_time": "2022-08-25T09:04:51.595Z"
   },
   {
    "duration": 21,
    "start_time": "2022-08-25T09:05:00.713Z"
   },
   {
    "duration": 26,
    "start_time": "2022-08-25T09:08:29.464Z"
   },
   {
    "duration": 22,
    "start_time": "2022-08-25T09:08:36.741Z"
   },
   {
    "duration": 25,
    "start_time": "2022-08-25T09:12:37.859Z"
   },
   {
    "duration": 8,
    "start_time": "2022-08-25T09:12:42.851Z"
   },
   {
    "duration": 27,
    "start_time": "2022-08-25T09:16:39.791Z"
   },
   {
    "duration": 27,
    "start_time": "2022-08-25T09:16:49.599Z"
   },
   {
    "duration": 26,
    "start_time": "2022-08-25T09:16:59.085Z"
   },
   {
    "duration": 27,
    "start_time": "2022-08-25T09:17:22.687Z"
   },
   {
    "duration": 8,
    "start_time": "2022-08-25T09:17:29.059Z"
   },
   {
    "duration": 10,
    "start_time": "2022-08-25T09:17:31.046Z"
   },
   {
    "duration": 27,
    "start_time": "2022-08-25T09:18:00.420Z"
   },
   {
    "duration": 26,
    "start_time": "2022-08-25T09:18:05.739Z"
   },
   {
    "duration": 27,
    "start_time": "2022-08-25T09:18:43.321Z"
   },
   {
    "duration": 26,
    "start_time": "2022-08-25T09:18:47.957Z"
   },
   {
    "duration": 24,
    "start_time": "2022-08-25T09:20:43.196Z"
   },
   {
    "duration": 18,
    "start_time": "2022-08-25T09:20:50.566Z"
   },
   {
    "duration": 19,
    "start_time": "2022-08-25T09:21:04.165Z"
   },
   {
    "duration": 22,
    "start_time": "2022-08-25T09:21:19.342Z"
   },
   {
    "duration": 21,
    "start_time": "2022-08-25T09:21:49.193Z"
   },
   {
    "duration": 18,
    "start_time": "2022-08-25T09:21:59.569Z"
   },
   {
    "duration": 31,
    "start_time": "2022-08-25T09:23:18.988Z"
   },
   {
    "duration": 70,
    "start_time": "2022-08-25T09:30:17.983Z"
   },
   {
    "duration": 33,
    "start_time": "2022-08-25T09:30:46.760Z"
   },
   {
    "duration": 32,
    "start_time": "2022-08-25T09:30:55.166Z"
   },
   {
    "duration": 24,
    "start_time": "2022-08-25T09:30:58.530Z"
   },
   {
    "duration": 25,
    "start_time": "2022-08-25T09:31:11.634Z"
   },
   {
    "duration": 26,
    "start_time": "2022-08-25T09:31:24.446Z"
   },
   {
    "duration": 18,
    "start_time": "2022-08-25T09:33:33.901Z"
   },
   {
    "duration": 9,
    "start_time": "2022-08-25T09:36:25.973Z"
   },
   {
    "duration": 25,
    "start_time": "2022-08-25T09:38:27.842Z"
   },
   {
    "duration": 22,
    "start_time": "2022-08-25T09:38:38.696Z"
   },
   {
    "duration": 28,
    "start_time": "2022-08-25T09:38:51.385Z"
   },
   {
    "duration": 20,
    "start_time": "2022-08-25T09:39:39.700Z"
   },
   {
    "duration": 19,
    "start_time": "2022-08-25T09:39:43.855Z"
   },
   {
    "duration": 20,
    "start_time": "2022-08-25T09:39:51.569Z"
   },
   {
    "duration": 19,
    "start_time": "2022-08-25T09:39:54.473Z"
   },
   {
    "duration": 23,
    "start_time": "2022-08-25T09:39:59.413Z"
   },
   {
    "duration": 21,
    "start_time": "2022-08-25T09:40:13.849Z"
   },
   {
    "duration": 28,
    "start_time": "2022-08-25T09:40:33.022Z"
   },
   {
    "duration": 20,
    "start_time": "2022-08-25T09:41:16.661Z"
   },
   {
    "duration": 18,
    "start_time": "2022-08-25T09:41:21.225Z"
   },
   {
    "duration": 18,
    "start_time": "2022-08-25T09:41:25.560Z"
   },
   {
    "duration": 18,
    "start_time": "2022-08-25T09:41:38.794Z"
   },
   {
    "duration": 18,
    "start_time": "2022-08-25T09:41:55.359Z"
   },
   {
    "duration": 17,
    "start_time": "2022-08-25T09:42:04.223Z"
   },
   {
    "duration": 23,
    "start_time": "2022-08-25T09:42:08.329Z"
   },
   {
    "duration": 27,
    "start_time": "2022-08-25T09:42:38.905Z"
   },
   {
    "duration": 9,
    "start_time": "2022-08-25T10:37:16.948Z"
   },
   {
    "duration": 33,
    "start_time": "2022-08-25T10:37:21.534Z"
   },
   {
    "duration": 15,
    "start_time": "2022-08-25T10:38:01.485Z"
   },
   {
    "duration": 9,
    "start_time": "2022-08-25T10:38:17.111Z"
   },
   {
    "duration": 21,
    "start_time": "2022-08-25T10:38:30.526Z"
   },
   {
    "duration": 25,
    "start_time": "2022-08-25T10:39:49.136Z"
   },
   {
    "duration": 21,
    "start_time": "2022-08-25T10:40:03.513Z"
   },
   {
    "duration": 23,
    "start_time": "2022-08-25T10:41:06.632Z"
   },
   {
    "duration": 45,
    "start_time": "2022-08-25T10:41:25.982Z"
   },
   {
    "duration": 23,
    "start_time": "2022-08-25T10:42:31.516Z"
   },
   {
    "duration": 19,
    "start_time": "2022-08-25T10:43:24.842Z"
   },
   {
    "duration": 23,
    "start_time": "2022-08-25T10:43:30.689Z"
   },
   {
    "duration": 24,
    "start_time": "2022-08-25T10:43:45.400Z"
   },
   {
    "duration": 22,
    "start_time": "2022-08-25T10:43:55.124Z"
   },
   {
    "duration": 23,
    "start_time": "2022-08-25T10:43:59.213Z"
   },
   {
    "duration": 23,
    "start_time": "2022-08-25T10:44:06.457Z"
   },
   {
    "duration": 23,
    "start_time": "2022-08-25T10:44:22.898Z"
   },
   {
    "duration": 23,
    "start_time": "2022-08-25T10:44:26.707Z"
   },
   {
    "duration": 25,
    "start_time": "2022-08-25T11:39:29.360Z"
   },
   {
    "duration": 64,
    "start_time": "2022-08-25T11:47:15.099Z"
   },
   {
    "duration": 3,
    "start_time": "2022-08-25T11:48:29.659Z"
   },
   {
    "duration": 24,
    "start_time": "2022-08-25T11:50:07.802Z"
   },
   {
    "duration": 26,
    "start_time": "2022-08-25T12:17:15.208Z"
   },
   {
    "duration": 73,
    "start_time": "2022-08-25T12:19:15.663Z"
   },
   {
    "duration": 67,
    "start_time": "2022-08-25T12:19:26.214Z"
   },
   {
    "duration": 43,
    "start_time": "2022-08-25T12:19:30.398Z"
   },
   {
    "duration": 16,
    "start_time": "2022-08-25T12:19:50.716Z"
   },
   {
    "duration": 22,
    "start_time": "2022-08-25T12:20:16.867Z"
   },
   {
    "duration": 21,
    "start_time": "2022-08-25T12:20:44.941Z"
   },
   {
    "duration": 21,
    "start_time": "2022-08-25T12:20:51.923Z"
   },
   {
    "duration": 16,
    "start_time": "2022-08-25T12:22:32.696Z"
   },
   {
    "duration": 19,
    "start_time": "2022-08-25T12:22:41.246Z"
   },
   {
    "duration": 21,
    "start_time": "2022-08-25T12:22:46.237Z"
   },
   {
    "duration": 17,
    "start_time": "2022-08-25T12:22:54.456Z"
   },
   {
    "duration": 20,
    "start_time": "2022-08-25T12:22:57.431Z"
   },
   {
    "duration": 23,
    "start_time": "2022-08-25T12:23:19.351Z"
   },
   {
    "duration": 26,
    "start_time": "2022-08-25T12:24:41.512Z"
   },
   {
    "duration": 20,
    "start_time": "2022-08-25T12:24:57.859Z"
   },
   {
    "duration": 21,
    "start_time": "2022-08-25T12:25:07.808Z"
   },
   {
    "duration": 24,
    "start_time": "2022-08-25T12:25:14.636Z"
   },
   {
    "duration": 23,
    "start_time": "2022-08-25T12:25:22.475Z"
   },
   {
    "duration": 708,
    "start_time": "2022-08-25T12:28:28.496Z"
   },
   {
    "duration": 1492,
    "start_time": "2022-08-25T12:29:06.873Z"
   },
   {
    "duration": 71,
    "start_time": "2022-08-25T12:31:34.539Z"
   },
   {
    "duration": 24,
    "start_time": "2022-08-25T12:31:40.637Z"
   },
   {
    "duration": 22,
    "start_time": "2022-08-25T12:31:49.095Z"
   },
   {
    "duration": 25,
    "start_time": "2022-08-25T12:31:53.488Z"
   },
   {
    "duration": 708,
    "start_time": "2022-08-25T12:32:02.989Z"
   },
   {
    "duration": 32,
    "start_time": "2022-08-25T12:32:03.700Z"
   },
   {
    "duration": 53,
    "start_time": "2022-08-25T12:32:03.734Z"
   },
   {
    "duration": 24,
    "start_time": "2022-08-25T12:32:03.789Z"
   },
   {
    "duration": 35,
    "start_time": "2022-08-25T12:32:03.816Z"
   },
   {
    "duration": 52,
    "start_time": "2022-08-25T12:32:03.853Z"
   },
   {
    "duration": 30,
    "start_time": "2022-08-25T12:32:03.907Z"
   },
   {
    "duration": 17,
    "start_time": "2022-08-25T12:32:03.938Z"
   },
   {
    "duration": 46,
    "start_time": "2022-08-25T12:32:03.956Z"
   },
   {
    "duration": 6,
    "start_time": "2022-08-25T12:32:04.004Z"
   },
   {
    "duration": 28,
    "start_time": "2022-08-25T12:32:04.012Z"
   },
   {
    "duration": 22,
    "start_time": "2022-08-25T12:32:04.042Z"
   },
   {
    "duration": 41,
    "start_time": "2022-08-25T12:32:04.065Z"
   },
   {
    "duration": 8,
    "start_time": "2022-08-25T12:32:04.108Z"
   },
   {
    "duration": 26,
    "start_time": "2022-08-25T12:32:04.118Z"
   },
   {
    "duration": 65,
    "start_time": "2022-08-25T12:32:04.145Z"
   },
   {
    "duration": 23,
    "start_time": "2022-08-25T12:32:04.211Z"
   },
   {
    "duration": 33,
    "start_time": "2022-08-25T12:32:27.608Z"
   },
   {
    "duration": 4,
    "start_time": "2022-08-25T12:34:45.182Z"
   },
   {
    "duration": 22,
    "start_time": "2022-08-25T12:34:48.210Z"
   },
   {
    "duration": 22,
    "start_time": "2022-08-25T12:34:54.998Z"
   },
   {
    "duration": 935,
    "start_time": "2022-08-25T12:35:06.285Z"
   },
   {
    "duration": 25,
    "start_time": "2022-08-25T12:35:42.031Z"
   },
   {
    "duration": 54,
    "start_time": "2022-08-25T12:35:46.314Z"
   },
   {
    "duration": 41,
    "start_time": "2022-08-25T12:35:48.756Z"
   },
   {
    "duration": 12,
    "start_time": "2022-08-25T12:35:51.781Z"
   },
   {
    "duration": 23,
    "start_time": "2022-08-25T13:15:10.180Z"
   },
   {
    "duration": 14,
    "start_time": "2022-08-25T13:18:12.624Z"
   },
   {
    "duration": 16,
    "start_time": "2022-08-25T13:18:21.490Z"
   },
   {
    "duration": 25,
    "start_time": "2022-08-25T13:18:48.243Z"
   },
   {
    "duration": 20,
    "start_time": "2022-08-25T13:18:52.827Z"
   },
   {
    "duration": 4,
    "start_time": "2022-08-25T13:21:11.817Z"
   },
   {
    "duration": 4,
    "start_time": "2022-08-25T13:21:22.323Z"
   },
   {
    "duration": 6,
    "start_time": "2022-08-25T13:21:25.850Z"
   },
   {
    "duration": 7,
    "start_time": "2022-08-25T13:21:28.019Z"
   },
   {
    "duration": 7,
    "start_time": "2022-08-25T13:21:30.939Z"
   },
   {
    "duration": 6,
    "start_time": "2022-08-25T13:21:31.463Z"
   },
   {
    "duration": 753,
    "start_time": "2022-08-25T13:21:38.456Z"
   },
   {
    "duration": 29,
    "start_time": "2022-08-25T13:21:39.211Z"
   },
   {
    "duration": 43,
    "start_time": "2022-08-25T13:21:39.242Z"
   },
   {
    "duration": 22,
    "start_time": "2022-08-25T13:21:39.286Z"
   },
   {
    "duration": 32,
    "start_time": "2022-08-25T13:21:39.309Z"
   },
   {
    "duration": 19,
    "start_time": "2022-08-25T13:21:39.342Z"
   },
   {
    "duration": 53,
    "start_time": "2022-08-25T13:21:39.363Z"
   },
   {
    "duration": 16,
    "start_time": "2022-08-25T13:21:39.417Z"
   },
   {
    "duration": 16,
    "start_time": "2022-08-25T13:21:39.435Z"
   },
   {
    "duration": 4,
    "start_time": "2022-08-25T13:21:39.454Z"
   },
   {
    "duration": 26,
    "start_time": "2022-08-25T13:21:39.487Z"
   },
   {
    "duration": 19,
    "start_time": "2022-08-25T13:21:39.515Z"
   },
   {
    "duration": 19,
    "start_time": "2022-08-25T13:21:39.535Z"
   },
   {
    "duration": 9,
    "start_time": "2022-08-25T13:21:39.555Z"
   },
   {
    "duration": 29,
    "start_time": "2022-08-25T13:21:39.587Z"
   },
   {
    "duration": 43,
    "start_time": "2022-08-25T13:21:39.617Z"
   },
   {
    "duration": 26,
    "start_time": "2022-08-25T13:21:39.661Z"
   },
   {
    "duration": 12,
    "start_time": "2022-08-25T13:23:46.311Z"
   },
   {
    "duration": 47,
    "start_time": "2022-08-25T13:30:03.930Z"
   },
   {
    "duration": 52,
    "start_time": "2022-08-25T13:30:06.131Z"
   },
   {
    "duration": 12,
    "start_time": "2022-08-25T13:30:19.679Z"
   },
   {
    "duration": 13,
    "start_time": "2022-08-25T13:30:30.554Z"
   },
   {
    "duration": 12,
    "start_time": "2022-08-25T13:30:52.479Z"
   },
   {
    "duration": 12,
    "start_time": "2022-08-25T13:31:08.825Z"
   },
   {
    "duration": 7,
    "start_time": "2022-08-25T13:31:14.150Z"
   },
   {
    "duration": 17,
    "start_time": "2022-08-25T13:31:16.427Z"
   },
   {
    "duration": 14,
    "start_time": "2022-08-25T13:31:31.758Z"
   },
   {
    "duration": 13,
    "start_time": "2022-08-25T13:32:18.589Z"
   },
   {
    "duration": 10,
    "start_time": "2022-08-25T13:32:23.134Z"
   },
   {
    "duration": 22,
    "start_time": "2022-08-25T14:22:08.019Z"
   },
   {
    "duration": 22,
    "start_time": "2022-08-25T14:22:09.849Z"
   },
   {
    "duration": 10,
    "start_time": "2022-08-25T14:22:13.334Z"
   },
   {
    "duration": 78,
    "start_time": "2022-08-25T14:22:14.936Z"
   },
   {
    "duration": 24,
    "start_time": "2022-08-25T14:22:20.246Z"
   },
   {
    "duration": 23,
    "start_time": "2022-08-25T14:22:32.041Z"
   },
   {
    "duration": 43,
    "start_time": "2022-08-25T14:22:35.184Z"
   },
   {
    "duration": 13,
    "start_time": "2022-08-25T14:22:37.364Z"
   },
   {
    "duration": 67,
    "start_time": "2022-08-25T14:25:46.926Z"
   },
   {
    "duration": 14,
    "start_time": "2022-08-25T14:25:54.264Z"
   },
   {
    "duration": 14,
    "start_time": "2022-08-25T14:26:09.224Z"
   },
   {
    "duration": 8,
    "start_time": "2022-08-25T14:26:39.730Z"
   },
   {
    "duration": 14,
    "start_time": "2022-08-25T14:26:51.395Z"
   },
   {
    "duration": 10,
    "start_time": "2022-08-25T14:27:25.768Z"
   },
   {
    "duration": 52,
    "start_time": "2022-08-25T14:27:35.327Z"
   },
   {
    "duration": 9,
    "start_time": "2022-08-25T14:27:37.677Z"
   },
   {
    "duration": 13,
    "start_time": "2022-08-25T14:29:48.394Z"
   },
   {
    "duration": 12,
    "start_time": "2022-08-25T14:29:57.813Z"
   },
   {
    "duration": 18,
    "start_time": "2022-08-25T14:30:02.733Z"
   },
   {
    "duration": 17,
    "start_time": "2022-08-25T14:30:17.932Z"
   },
   {
    "duration": 9,
    "start_time": "2022-08-25T14:30:33.118Z"
   },
   {
    "duration": 9,
    "start_time": "2022-08-25T14:30:35.350Z"
   },
   {
    "duration": 49,
    "start_time": "2022-08-25T14:33:54.072Z"
   },
   {
    "duration": 49,
    "start_time": "2022-08-25T14:33:59.659Z"
   },
   {
    "duration": 44,
    "start_time": "2022-08-25T14:34:01.685Z"
   },
   {
    "duration": 24,
    "start_time": "2022-08-25T14:34:10.287Z"
   },
   {
    "duration": 8,
    "start_time": "2022-08-25T14:34:49.800Z"
   },
   {
    "duration": 7,
    "start_time": "2022-08-25T18:19:54.380Z"
   },
   {
    "duration": 44,
    "start_time": "2022-08-25T18:20:21.944Z"
   },
   {
    "duration": 1150,
    "start_time": "2022-08-25T18:20:27.375Z"
   },
   {
    "duration": 3,
    "start_time": "2022-08-25T18:20:28.527Z"
   },
   {
    "duration": 287,
    "start_time": "2022-08-25T18:20:40.467Z"
   },
   {
    "duration": 28,
    "start_time": "2022-08-25T18:21:05.056Z"
   },
   {
    "duration": 2,
    "start_time": "2022-08-25T18:21:07.620Z"
   },
   {
    "duration": 30,
    "start_time": "2022-08-25T18:21:09.663Z"
   },
   {
    "duration": 16,
    "start_time": "2022-08-25T18:21:30.325Z"
   },
   {
    "duration": 3,
    "start_time": "2022-08-25T18:21:36.723Z"
   },
   {
    "duration": 3,
    "start_time": "2022-08-25T18:21:37.650Z"
   },
   {
    "duration": 2,
    "start_time": "2022-08-25T18:22:11.045Z"
   },
   {
    "duration": 18,
    "start_time": "2022-08-25T18:22:12.123Z"
   },
   {
    "duration": 2,
    "start_time": "2022-08-25T18:22:14.924Z"
   },
   {
    "duration": 16,
    "start_time": "2022-08-25T18:22:15.860Z"
   },
   {
    "duration": 648,
    "start_time": "2022-08-25T18:22:24.467Z"
   },
   {
    "duration": 4,
    "start_time": "2022-08-25T18:22:25.117Z"
   },
   {
    "duration": 24,
    "start_time": "2022-08-25T18:22:25.123Z"
   },
   {
    "duration": 52,
    "start_time": "2022-08-25T18:22:25.148Z"
   },
   {
    "duration": 21,
    "start_time": "2022-08-25T18:22:25.205Z"
   },
   {
    "duration": 34,
    "start_time": "2022-08-25T18:22:25.228Z"
   },
   {
    "duration": 18,
    "start_time": "2022-08-25T18:22:25.263Z"
   },
   {
    "duration": 30,
    "start_time": "2022-08-25T18:22:25.306Z"
   },
   {
    "duration": 16,
    "start_time": "2022-08-25T18:22:25.338Z"
   },
   {
    "duration": 18,
    "start_time": "2022-08-25T18:22:25.356Z"
   },
   {
    "duration": 30,
    "start_time": "2022-08-25T18:22:25.376Z"
   },
   {
    "duration": 21,
    "start_time": "2022-08-25T18:22:25.408Z"
   },
   {
    "duration": 19,
    "start_time": "2022-08-25T18:22:25.430Z"
   },
   {
    "duration": 19,
    "start_time": "2022-08-25T18:22:25.451Z"
   },
   {
    "duration": 8,
    "start_time": "2022-08-25T18:22:25.472Z"
   },
   {
    "duration": 24,
    "start_time": "2022-08-25T18:22:25.506Z"
   },
   {
    "duration": 42,
    "start_time": "2022-08-25T18:22:25.531Z"
   },
   {
    "duration": 12,
    "start_time": "2022-08-25T18:22:25.575Z"
   },
   {
    "duration": 43,
    "start_time": "2022-08-25T18:22:25.606Z"
   },
   {
    "duration": 41,
    "start_time": "2022-08-25T18:22:25.651Z"
   },
   {
    "duration": 48,
    "start_time": "2022-08-25T18:22:25.705Z"
   },
   {
    "duration": 16,
    "start_time": "2022-08-25T18:22:25.754Z"
   },
   {
    "duration": 9,
    "start_time": "2022-08-25T18:22:25.772Z"
   },
   {
    "duration": 3,
    "start_time": "2022-08-25T18:22:53.548Z"
   },
   {
    "duration": 13,
    "start_time": "2022-08-25T18:22:54.650Z"
   },
   {
    "duration": 2,
    "start_time": "2022-08-25T18:23:05.787Z"
   },
   {
    "duration": 9,
    "start_time": "2022-08-25T18:23:06.743Z"
   },
   {
    "duration": 2,
    "start_time": "2022-08-25T18:23:14.500Z"
   },
   {
    "duration": 9,
    "start_time": "2022-08-25T18:23:15.580Z"
   },
   {
    "duration": 3,
    "start_time": "2022-08-25T18:23:18.028Z"
   },
   {
    "duration": 9,
    "start_time": "2022-08-25T18:23:19.194Z"
   },
   {
    "duration": 2,
    "start_time": "2022-08-25T18:24:07.837Z"
   },
   {
    "duration": 3,
    "start_time": "2022-08-25T18:24:10.944Z"
   },
   {
    "duration": 7,
    "start_time": "2022-08-25T18:24:11.845Z"
   },
   {
    "duration": 2,
    "start_time": "2022-08-25T18:24:19.655Z"
   },
   {
    "duration": 19,
    "start_time": "2022-08-25T18:24:20.596Z"
   },
   {
    "duration": 19,
    "start_time": "2022-08-25T18:24:43.032Z"
   },
   {
    "duration": 16,
    "start_time": "2022-08-25T18:24:55.233Z"
   },
   {
    "duration": 11,
    "start_time": "2022-08-25T18:25:17.672Z"
   },
   {
    "duration": 15,
    "start_time": "2022-08-25T18:25:33.238Z"
   },
   {
    "duration": 16,
    "start_time": "2022-08-25T18:25:45.698Z"
   },
   {
    "duration": 21,
    "start_time": "2022-08-25T18:26:29.232Z"
   },
   {
    "duration": 18,
    "start_time": "2022-08-25T18:26:36.865Z"
   },
   {
    "duration": 21,
    "start_time": "2022-08-25T18:26:48.361Z"
   },
   {
    "duration": 23,
    "start_time": "2022-08-25T18:26:56.650Z"
   },
   {
    "duration": 42,
    "start_time": "2022-08-25T18:27:00.336Z"
   },
   {
    "duration": 11,
    "start_time": "2022-08-25T18:27:01.984Z"
   },
   {
    "duration": 47,
    "start_time": "2022-08-25T18:27:04.444Z"
   },
   {
    "duration": 40,
    "start_time": "2022-08-25T18:27:05.631Z"
   },
   {
    "duration": 41,
    "start_time": "2022-08-25T18:27:06.748Z"
   },
   {
    "duration": 15,
    "start_time": "2022-08-25T18:27:08.636Z"
   },
   {
    "duration": 79,
    "start_time": "2022-08-25T18:32:26.148Z"
   },
   {
    "duration": 3,
    "start_time": "2022-08-25T18:32:43.162Z"
   },
   {
    "duration": 12,
    "start_time": "2022-08-25T18:33:07.727Z"
   },
   {
    "duration": 3,
    "start_time": "2022-08-25T18:34:59.129Z"
   },
   {
    "duration": 48,
    "start_time": "2022-08-25T18:36:32.040Z"
   },
   {
    "duration": 13,
    "start_time": "2022-08-25T18:36:42.788Z"
   },
   {
    "duration": 47,
    "start_time": "2022-08-25T18:37:24.400Z"
   },
   {
    "duration": 16,
    "start_time": "2022-08-25T18:37:25.574Z"
   },
   {
    "duration": 713,
    "start_time": "2022-08-25T18:37:34.976Z"
   },
   {
    "duration": 2,
    "start_time": "2022-08-25T18:37:35.691Z"
   },
   {
    "duration": 31,
    "start_time": "2022-08-25T18:37:35.695Z"
   },
   {
    "duration": 48,
    "start_time": "2022-08-25T18:37:35.728Z"
   },
   {
    "duration": 35,
    "start_time": "2022-08-25T18:37:35.778Z"
   },
   {
    "duration": 33,
    "start_time": "2022-08-25T18:37:35.815Z"
   },
   {
    "duration": 17,
    "start_time": "2022-08-25T18:37:35.850Z"
   },
   {
    "duration": 52,
    "start_time": "2022-08-25T18:37:35.869Z"
   },
   {
    "duration": 18,
    "start_time": "2022-08-25T18:37:35.922Z"
   },
   {
    "duration": 16,
    "start_time": "2022-08-25T18:37:35.942Z"
   },
   {
    "duration": 5,
    "start_time": "2022-08-25T18:37:35.959Z"
   },
   {
    "duration": 53,
    "start_time": "2022-08-25T18:37:35.966Z"
   },
   {
    "duration": 25,
    "start_time": "2022-08-25T18:37:36.021Z"
   },
   {
    "duration": 26,
    "start_time": "2022-08-25T18:37:36.050Z"
   },
   {
    "duration": 37,
    "start_time": "2022-08-25T18:37:36.078Z"
   },
   {
    "duration": 38,
    "start_time": "2022-08-25T18:37:36.117Z"
   },
   {
    "duration": 64,
    "start_time": "2022-08-25T18:37:36.157Z"
   },
   {
    "duration": 13,
    "start_time": "2022-08-25T18:37:36.222Z"
   },
   {
    "duration": 44,
    "start_time": "2022-08-25T18:37:36.237Z"
   },
   {
    "duration": 61,
    "start_time": "2022-08-25T18:37:36.282Z"
   },
   {
    "duration": 44,
    "start_time": "2022-08-25T18:37:36.345Z"
   },
   {
    "duration": 59,
    "start_time": "2022-08-25T18:37:36.390Z"
   },
   {
    "duration": 14,
    "start_time": "2022-08-25T18:37:36.450Z"
   },
   {
    "duration": 11,
    "start_time": "2022-08-25T18:37:36.466Z"
   },
   {
    "duration": 52,
    "start_time": "2022-08-25T18:38:34.959Z"
   },
   {
    "duration": 16,
    "start_time": "2022-08-25T18:38:36.279Z"
   },
   {
    "duration": 46,
    "start_time": "2022-08-25T18:39:07.905Z"
   },
   {
    "duration": 592,
    "start_time": "2022-08-25T18:39:15.251Z"
   },
   {
    "duration": 2,
    "start_time": "2022-08-25T18:39:15.845Z"
   },
   {
    "duration": 28,
    "start_time": "2022-08-25T18:39:15.849Z"
   },
   {
    "duration": 39,
    "start_time": "2022-08-25T18:39:15.879Z"
   },
   {
    "duration": 20,
    "start_time": "2022-08-25T18:39:15.920Z"
   },
   {
    "duration": 31,
    "start_time": "2022-08-25T18:39:15.941Z"
   },
   {
    "duration": 43,
    "start_time": "2022-08-25T18:39:15.974Z"
   },
   {
    "duration": 33,
    "start_time": "2022-08-25T18:39:16.019Z"
   },
   {
    "duration": 20,
    "start_time": "2022-08-25T18:39:16.054Z"
   },
   {
    "duration": 45,
    "start_time": "2022-08-25T18:39:16.076Z"
   },
   {
    "duration": 3,
    "start_time": "2022-08-25T18:39:16.123Z"
   },
   {
    "duration": 35,
    "start_time": "2022-08-25T18:39:16.128Z"
   },
   {
    "duration": 23,
    "start_time": "2022-08-25T18:39:16.165Z"
   },
   {
    "duration": 29,
    "start_time": "2022-08-25T18:39:16.190Z"
   },
   {
    "duration": 8,
    "start_time": "2022-08-25T18:39:16.220Z"
   },
   {
    "duration": 30,
    "start_time": "2022-08-25T18:39:16.230Z"
   },
   {
    "duration": 69,
    "start_time": "2022-08-25T18:39:16.261Z"
   },
   {
    "duration": 0,
    "start_time": "2022-08-25T18:39:16.331Z"
   },
   {
    "duration": 0,
    "start_time": "2022-08-25T18:39:16.332Z"
   },
   {
    "duration": 0,
    "start_time": "2022-08-25T18:39:16.333Z"
   },
   {
    "duration": 0,
    "start_time": "2022-08-25T18:39:16.334Z"
   },
   {
    "duration": 0,
    "start_time": "2022-08-25T18:39:16.335Z"
   },
   {
    "duration": 0,
    "start_time": "2022-08-25T18:39:16.336Z"
   },
   {
    "duration": 0,
    "start_time": "2022-08-25T18:39:16.337Z"
   },
   {
    "duration": 12,
    "start_time": "2022-08-25T18:39:23.110Z"
   },
   {
    "duration": 1237,
    "start_time": "2022-08-25T18:39:25.210Z"
   },
   {
    "duration": 41,
    "start_time": "2022-08-25T18:39:53.740Z"
   },
   {
    "duration": 617,
    "start_time": "2022-08-25T18:40:00.926Z"
   },
   {
    "duration": 2,
    "start_time": "2022-08-25T18:40:01.545Z"
   },
   {
    "duration": 54,
    "start_time": "2022-08-25T18:40:01.549Z"
   },
   {
    "duration": 43,
    "start_time": "2022-08-25T18:40:01.605Z"
   },
   {
    "duration": 18,
    "start_time": "2022-08-25T18:40:01.649Z"
   },
   {
    "duration": 42,
    "start_time": "2022-08-25T18:40:01.669Z"
   },
   {
    "duration": 16,
    "start_time": "2022-08-25T18:40:01.712Z"
   },
   {
    "duration": 65,
    "start_time": "2022-08-25T18:40:01.729Z"
   },
   {
    "duration": 18,
    "start_time": "2022-08-25T18:40:01.795Z"
   },
   {
    "duration": 27,
    "start_time": "2022-08-25T18:40:01.814Z"
   },
   {
    "duration": 27,
    "start_time": "2022-08-25T18:40:01.843Z"
   },
   {
    "duration": 50,
    "start_time": "2022-08-25T18:40:01.871Z"
   },
   {
    "duration": 24,
    "start_time": "2022-08-25T18:40:01.922Z"
   },
   {
    "duration": 23,
    "start_time": "2022-08-25T18:40:01.948Z"
   },
   {
    "duration": 8,
    "start_time": "2022-08-25T18:40:01.972Z"
   },
   {
    "duration": 45,
    "start_time": "2022-08-25T18:40:01.982Z"
   },
   {
    "duration": 48,
    "start_time": "2022-08-25T18:40:02.028Z"
   },
   {
    "duration": 13,
    "start_time": "2022-08-25T18:40:02.077Z"
   },
   {
    "duration": 50,
    "start_time": "2022-08-25T18:40:02.091Z"
   },
   {
    "duration": 41,
    "start_time": "2022-08-25T18:40:02.143Z"
   },
   {
    "duration": 48,
    "start_time": "2022-08-25T18:40:02.185Z"
   },
   {
    "duration": 2414,
    "start_time": "2022-08-25T18:40:02.234Z"
   },
   {
    "duration": 0,
    "start_time": "2022-08-25T18:40:04.650Z"
   },
   {
    "duration": 0,
    "start_time": "2022-08-25T18:40:04.651Z"
   },
   {
    "duration": 76,
    "start_time": "2022-08-25T18:40:26.136Z"
   },
   {
    "duration": 14,
    "start_time": "2022-08-25T18:40:27.804Z"
   },
   {
    "duration": 10,
    "start_time": "2022-08-25T18:56:19.308Z"
   },
   {
    "duration": 24,
    "start_time": "2022-08-25T18:56:22.936Z"
   },
   {
    "duration": 52,
    "start_time": "2022-08-25T18:56:27.621Z"
   },
   {
    "duration": 12,
    "start_time": "2022-08-25T18:56:29.032Z"
   },
   {
    "duration": 42,
    "start_time": "2022-08-25T18:56:33.197Z"
   },
   {
    "duration": 48,
    "start_time": "2022-08-25T18:56:34.521Z"
   },
   {
    "duration": 45,
    "start_time": "2022-08-25T18:56:35.642Z"
   },
   {
    "duration": 47,
    "start_time": "2022-08-25T18:56:36.899Z"
   },
   {
    "duration": 15,
    "start_time": "2022-08-25T18:56:38.374Z"
   },
   {
    "duration": 12,
    "start_time": "2022-08-25T18:57:50.059Z"
   },
   {
    "duration": 2,
    "start_time": "2022-08-25T19:01:57.147Z"
   },
   {
    "duration": 57,
    "start_time": "2022-08-25T19:09:32.360Z"
   },
   {
    "duration": 13,
    "start_time": "2022-08-25T19:09:33.841Z"
   },
   {
    "duration": 13,
    "start_time": "2022-08-25T19:15:31.232Z"
   },
   {
    "duration": 7,
    "start_time": "2022-08-25T19:24:26.943Z"
   },
   {
    "duration": 13,
    "start_time": "2022-08-25T19:24:28.913Z"
   },
   {
    "duration": 104,
    "start_time": "2022-08-25T20:06:30.665Z"
   },
   {
    "duration": 89,
    "start_time": "2022-08-25T20:07:10.861Z"
   },
   {
    "duration": 68,
    "start_time": "2022-08-25T20:07:19.411Z"
   },
   {
    "duration": 18,
    "start_time": "2022-08-25T20:07:28.373Z"
   },
   {
    "duration": 8,
    "start_time": "2022-08-25T20:07:37.441Z"
   },
   {
    "duration": 12,
    "start_time": "2022-08-25T20:07:46.582Z"
   },
   {
    "duration": 9,
    "start_time": "2022-08-25T20:07:54.046Z"
   },
   {
    "duration": 14,
    "start_time": "2022-08-25T20:07:57.888Z"
   },
   {
    "duration": 8,
    "start_time": "2022-08-25T20:08:46.228Z"
   },
   {
    "duration": 6,
    "start_time": "2022-08-25T20:08:57.997Z"
   },
   {
    "duration": 7,
    "start_time": "2022-08-25T20:09:45.230Z"
   },
   {
    "duration": 20,
    "start_time": "2022-08-25T20:12:03.495Z"
   },
   {
    "duration": 17,
    "start_time": "2022-08-25T20:12:27.929Z"
   },
   {
    "duration": 29,
    "start_time": "2022-08-25T20:17:40.313Z"
   },
   {
    "duration": 18,
    "start_time": "2022-08-25T20:18:07.675Z"
   },
   {
    "duration": 20,
    "start_time": "2022-08-25T20:18:40.981Z"
   },
   {
    "duration": 20,
    "start_time": "2022-08-25T20:18:53.466Z"
   },
   {
    "duration": 20,
    "start_time": "2022-08-25T20:18:57.327Z"
   },
   {
    "duration": 15,
    "start_time": "2022-08-25T20:21:48.942Z"
   },
   {
    "duration": 15,
    "start_time": "2022-08-25T20:21:55.665Z"
   },
   {
    "duration": 7,
    "start_time": "2022-08-25T20:23:57.358Z"
   },
   {
    "duration": 24,
    "start_time": "2022-08-25T20:24:05.919Z"
   },
   {
    "duration": 23,
    "start_time": "2022-08-25T20:24:55.091Z"
   },
   {
    "duration": 49,
    "start_time": "2022-08-26T05:36:26.173Z"
   },
   {
    "duration": 1222,
    "start_time": "2022-08-26T05:36:34.796Z"
   },
   {
    "duration": 3,
    "start_time": "2022-08-26T05:36:36.020Z"
   },
   {
    "duration": 41,
    "start_time": "2022-08-26T05:36:36.025Z"
   },
   {
    "duration": 55,
    "start_time": "2022-08-26T05:36:36.068Z"
   },
   {
    "duration": 28,
    "start_time": "2022-08-26T05:36:36.126Z"
   },
   {
    "duration": 56,
    "start_time": "2022-08-26T05:36:36.156Z"
   },
   {
    "duration": 23,
    "start_time": "2022-08-26T05:36:36.215Z"
   },
   {
    "duration": 53,
    "start_time": "2022-08-26T05:36:36.240Z"
   },
   {
    "duration": 18,
    "start_time": "2022-08-26T05:36:36.295Z"
   },
   {
    "duration": 20,
    "start_time": "2022-08-26T05:36:36.315Z"
   },
   {
    "duration": 7,
    "start_time": "2022-08-26T05:36:36.336Z"
   },
   {
    "duration": 54,
    "start_time": "2022-08-26T05:36:36.345Z"
   },
   {
    "duration": 22,
    "start_time": "2022-08-26T05:36:36.401Z"
   },
   {
    "duration": 23,
    "start_time": "2022-08-26T05:36:36.426Z"
   },
   {
    "duration": 10,
    "start_time": "2022-08-26T05:36:36.452Z"
   },
   {
    "duration": 54,
    "start_time": "2022-08-26T05:36:36.464Z"
   },
   {
    "duration": 47,
    "start_time": "2022-08-26T05:36:36.520Z"
   },
   {
    "duration": 29,
    "start_time": "2022-08-26T05:36:36.568Z"
   },
   {
    "duration": 48,
    "start_time": "2022-08-26T05:36:36.599Z"
   },
   {
    "duration": 68,
    "start_time": "2022-08-26T05:36:36.649Z"
   },
   {
    "duration": 47,
    "start_time": "2022-08-26T05:36:36.719Z"
   },
   {
    "duration": 69,
    "start_time": "2022-08-26T05:36:36.768Z"
   },
   {
    "duration": 16,
    "start_time": "2022-08-26T05:36:36.839Z"
   },
   {
    "duration": 11,
    "start_time": "2022-08-26T05:36:36.857Z"
   },
   {
    "duration": 27,
    "start_time": "2022-08-26T05:36:36.871Z"
   },
   {
    "duration": 36,
    "start_time": "2022-08-26T05:36:36.900Z"
   },
   {
    "duration": 19,
    "start_time": "2022-08-26T05:38:29.606Z"
   },
   {
    "duration": 7,
    "start_time": "2022-08-26T05:38:56.156Z"
   },
   {
    "duration": 5,
    "start_time": "2022-08-26T05:39:05.259Z"
   },
   {
    "duration": 2,
    "start_time": "2022-08-26T05:40:23.502Z"
   },
   {
    "duration": 44,
    "start_time": "2022-08-26T08:58:29.541Z"
   },
   {
    "duration": 1166,
    "start_time": "2022-08-26T08:58:35.208Z"
   },
   {
    "duration": 3,
    "start_time": "2022-08-26T08:58:36.377Z"
   },
   {
    "duration": 43,
    "start_time": "2022-08-26T08:58:36.382Z"
   },
   {
    "duration": 51,
    "start_time": "2022-08-26T08:58:36.427Z"
   },
   {
    "duration": 39,
    "start_time": "2022-08-26T08:58:36.481Z"
   },
   {
    "duration": 45,
    "start_time": "2022-08-26T08:58:36.522Z"
   },
   {
    "duration": 19,
    "start_time": "2022-08-26T08:58:36.569Z"
   },
   {
    "duration": 22,
    "start_time": "2022-08-26T08:58:36.607Z"
   },
   {
    "duration": 18,
    "start_time": "2022-08-26T08:58:36.631Z"
   },
   {
    "duration": 35,
    "start_time": "2022-08-26T08:58:36.651Z"
   },
   {
    "duration": 4,
    "start_time": "2022-08-26T08:58:36.687Z"
   },
   {
    "duration": 24,
    "start_time": "2022-08-26T08:58:36.706Z"
   },
   {
    "duration": 29,
    "start_time": "2022-08-26T08:58:36.732Z"
   },
   {
    "duration": 20,
    "start_time": "2022-08-26T08:58:36.764Z"
   },
   {
    "duration": 24,
    "start_time": "2022-08-26T08:58:36.786Z"
   },
   {
    "duration": 54,
    "start_time": "2022-08-26T08:58:36.812Z"
   },
   {
    "duration": 44,
    "start_time": "2022-08-26T08:58:36.867Z"
   },
   {
    "duration": 14,
    "start_time": "2022-08-26T08:58:36.913Z"
   },
   {
    "duration": 46,
    "start_time": "2022-08-26T08:58:36.928Z"
   },
   {
    "duration": 62,
    "start_time": "2022-08-26T08:58:36.976Z"
   },
   {
    "duration": 45,
    "start_time": "2022-08-26T08:58:37.040Z"
   },
   {
    "duration": 59,
    "start_time": "2022-08-26T08:58:37.087Z"
   },
   {
    "duration": 15,
    "start_time": "2022-08-26T08:58:37.148Z"
   },
   {
    "duration": 17,
    "start_time": "2022-08-26T08:58:37.164Z"
   },
   {
    "duration": 13,
    "start_time": "2022-08-26T08:58:37.183Z"
   },
   {
    "duration": 50,
    "start_time": "2022-08-26T08:58:37.198Z"
   },
   {
    "duration": 0,
    "start_time": "2022-08-26T08:58:37.249Z"
   },
   {
    "duration": 26,
    "start_time": "2022-08-26T08:59:13.593Z"
   },
   {
    "duration": 4,
    "start_time": "2022-08-26T09:00:03.116Z"
   },
   {
    "duration": 23,
    "start_time": "2022-08-26T09:00:54.298Z"
   },
   {
    "duration": 22,
    "start_time": "2022-08-26T09:01:11.491Z"
   },
   {
    "duration": 6,
    "start_time": "2022-08-26T09:02:33.560Z"
   },
   {
    "duration": 23,
    "start_time": "2022-08-26T09:03:08.058Z"
   },
   {
    "duration": 21,
    "start_time": "2022-08-26T09:04:03.952Z"
   },
   {
    "duration": 22,
    "start_time": "2022-08-26T09:05:11.953Z"
   },
   {
    "duration": 659,
    "start_time": "2022-08-26T09:09:05.225Z"
   },
   {
    "duration": 3,
    "start_time": "2022-08-26T09:09:05.886Z"
   },
   {
    "duration": 34,
    "start_time": "2022-08-26T09:09:05.890Z"
   },
   {
    "duration": 45,
    "start_time": "2022-08-26T09:09:05.926Z"
   },
   {
    "duration": 41,
    "start_time": "2022-08-26T09:09:05.974Z"
   },
   {
    "duration": 43,
    "start_time": "2022-08-26T09:09:06.017Z"
   },
   {
    "duration": 45,
    "start_time": "2022-08-26T09:09:06.062Z"
   },
   {
    "duration": 25,
    "start_time": "2022-08-26T09:09:06.109Z"
   },
   {
    "duration": 32,
    "start_time": "2022-08-26T09:09:06.137Z"
   },
   {
    "duration": 51,
    "start_time": "2022-08-26T09:09:06.170Z"
   },
   {
    "duration": 6,
    "start_time": "2022-08-26T09:09:06.223Z"
   },
   {
    "duration": 34,
    "start_time": "2022-08-26T09:09:06.231Z"
   },
   {
    "duration": 40,
    "start_time": "2022-08-26T09:09:06.267Z"
   },
   {
    "duration": 24,
    "start_time": "2022-08-26T09:09:06.309Z"
   },
   {
    "duration": 8,
    "start_time": "2022-08-26T09:09:06.334Z"
   },
   {
    "duration": 24,
    "start_time": "2022-08-26T09:09:06.344Z"
   },
   {
    "duration": 71,
    "start_time": "2022-08-26T09:09:06.369Z"
   },
   {
    "duration": 46,
    "start_time": "2022-08-26T09:09:06.442Z"
   },
   {
    "duration": 54,
    "start_time": "2022-08-26T09:09:06.490Z"
   },
   {
    "duration": 44,
    "start_time": "2022-08-26T09:09:06.545Z"
   },
   {
    "duration": 59,
    "start_time": "2022-08-26T09:09:06.591Z"
   },
   {
    "duration": 36,
    "start_time": "2022-08-26T09:09:06.652Z"
   },
   {
    "duration": 11,
    "start_time": "2022-08-26T09:09:06.690Z"
   },
   {
    "duration": 10,
    "start_time": "2022-08-26T09:09:06.702Z"
   },
   {
    "duration": 25,
    "start_time": "2022-08-26T09:09:06.714Z"
   },
   {
    "duration": 21,
    "start_time": "2022-08-26T09:09:06.741Z"
   },
   {
    "duration": 21,
    "start_time": "2022-08-26T09:09:06.764Z"
   },
   {
    "duration": 4,
    "start_time": "2022-08-26T09:11:54.742Z"
   },
   {
    "duration": 4,
    "start_time": "2022-08-26T09:12:28.218Z"
   },
   {
    "duration": 64,
    "start_time": "2022-08-26T09:13:03.599Z"
   },
   {
    "duration": 45,
    "start_time": "2022-08-26T09:14:06.378Z"
   },
   {
    "duration": 24,
    "start_time": "2022-08-26T09:15:46.036Z"
   },
   {
    "duration": 21,
    "start_time": "2022-08-26T09:15:47.800Z"
   },
   {
    "duration": 19,
    "start_time": "2022-08-26T09:20:58.430Z"
   },
   {
    "duration": 23,
    "start_time": "2022-08-26T09:22:40.067Z"
   },
   {
    "duration": 599,
    "start_time": "2022-08-26T09:23:53.954Z"
   },
   {
    "duration": 3,
    "start_time": "2022-08-26T09:23:54.555Z"
   },
   {
    "duration": 31,
    "start_time": "2022-08-26T09:23:54.560Z"
   },
   {
    "duration": 40,
    "start_time": "2022-08-26T09:23:54.592Z"
   },
   {
    "duration": 18,
    "start_time": "2022-08-26T09:23:54.634Z"
   },
   {
    "duration": 28,
    "start_time": "2022-08-26T09:23:54.654Z"
   },
   {
    "duration": 31,
    "start_time": "2022-08-26T09:23:54.684Z"
   },
   {
    "duration": 21,
    "start_time": "2022-08-26T09:23:54.717Z"
   },
   {
    "duration": 21,
    "start_time": "2022-08-26T09:23:54.739Z"
   },
   {
    "duration": 22,
    "start_time": "2022-08-26T09:23:54.761Z"
   },
   {
    "duration": 7,
    "start_time": "2022-08-26T09:23:54.805Z"
   },
   {
    "duration": 24,
    "start_time": "2022-08-26T09:23:54.813Z"
   },
   {
    "duration": 20,
    "start_time": "2022-08-26T09:23:54.838Z"
   },
   {
    "duration": 21,
    "start_time": "2022-08-26T09:23:54.861Z"
   },
   {
    "duration": 28,
    "start_time": "2022-08-26T09:23:54.884Z"
   },
   {
    "duration": 71,
    "start_time": "2022-08-26T09:23:54.914Z"
   },
   {
    "duration": 0,
    "start_time": "2022-08-26T09:23:54.986Z"
   },
   {
    "duration": 0,
    "start_time": "2022-08-26T09:23:54.988Z"
   },
   {
    "duration": 0,
    "start_time": "2022-08-26T09:23:54.989Z"
   },
   {
    "duration": 0,
    "start_time": "2022-08-26T09:23:55.006Z"
   },
   {
    "duration": 0,
    "start_time": "2022-08-26T09:23:55.007Z"
   },
   {
    "duration": 0,
    "start_time": "2022-08-26T09:23:55.008Z"
   },
   {
    "duration": 0,
    "start_time": "2022-08-26T09:23:55.010Z"
   },
   {
    "duration": 0,
    "start_time": "2022-08-26T09:23:55.011Z"
   },
   {
    "duration": 0,
    "start_time": "2022-08-26T09:23:55.012Z"
   },
   {
    "duration": 0,
    "start_time": "2022-08-26T09:23:55.013Z"
   },
   {
    "duration": 0,
    "start_time": "2022-08-26T09:23:55.014Z"
   },
   {
    "duration": 25,
    "start_time": "2022-08-26T09:24:55.145Z"
   },
   {
    "duration": 48,
    "start_time": "2022-08-26T09:25:00.926Z"
   },
   {
    "duration": 43,
    "start_time": "2022-08-26T09:25:02.403Z"
   },
   {
    "duration": 4758,
    "start_time": "2022-08-26T09:25:04.111Z"
   },
   {
    "duration": 9,
    "start_time": "2022-08-26T09:26:02.858Z"
   },
   {
    "duration": 1557,
    "start_time": "2022-08-26T09:41:32.074Z"
   },
   {
    "duration": 1358,
    "start_time": "2022-08-26T09:41:48.379Z"
   },
   {
    "duration": 39,
    "start_time": "2022-08-26T09:42:11.897Z"
   },
   {
    "duration": 41,
    "start_time": "2022-08-26T09:42:14.861Z"
   },
   {
    "duration": 57,
    "start_time": "2022-08-26T09:42:16.116Z"
   },
   {
    "duration": 23,
    "start_time": "2022-08-26T09:42:46.013Z"
   },
   {
    "duration": 95,
    "start_time": "2022-08-26T09:43:39.053Z"
   },
   {
    "duration": 4,
    "start_time": "2022-08-26T09:44:00.792Z"
   },
   {
    "duration": 46,
    "start_time": "2022-08-26T09:44:07.718Z"
   },
   {
    "duration": 16,
    "start_time": "2022-08-26T09:44:09.780Z"
   },
   {
    "duration": 7,
    "start_time": "2022-08-26T09:45:00.966Z"
   },
   {
    "duration": 18,
    "start_time": "2022-08-26T09:46:48.193Z"
   },
   {
    "duration": 14,
    "start_time": "2022-08-26T09:47:06.431Z"
   },
   {
    "duration": 6,
    "start_time": "2022-08-26T09:47:39.361Z"
   },
   {
    "duration": 6,
    "start_time": "2022-08-26T09:47:46.967Z"
   },
   {
    "duration": 6,
    "start_time": "2022-08-26T09:47:47.452Z"
   },
   {
    "duration": 7,
    "start_time": "2022-08-26T09:47:47.997Z"
   },
   {
    "duration": 669,
    "start_time": "2022-08-26T09:47:53.876Z"
   },
   {
    "duration": 3,
    "start_time": "2022-08-26T09:47:54.547Z"
   },
   {
    "duration": 51,
    "start_time": "2022-08-26T09:47:54.552Z"
   },
   {
    "duration": 46,
    "start_time": "2022-08-26T09:47:54.605Z"
   },
   {
    "duration": 19,
    "start_time": "2022-08-26T09:47:54.654Z"
   },
   {
    "duration": 53,
    "start_time": "2022-08-26T09:47:54.674Z"
   },
   {
    "duration": 20,
    "start_time": "2022-08-26T09:47:54.729Z"
   },
   {
    "duration": 39,
    "start_time": "2022-08-26T09:47:54.750Z"
   },
   {
    "duration": 35,
    "start_time": "2022-08-26T09:47:54.790Z"
   },
   {
    "duration": 30,
    "start_time": "2022-08-26T09:47:54.826Z"
   },
   {
    "duration": 35,
    "start_time": "2022-08-26T09:47:54.857Z"
   },
   {
    "duration": 47,
    "start_time": "2022-08-26T09:47:54.894Z"
   },
   {
    "duration": 17,
    "start_time": "2022-08-26T09:47:54.943Z"
   },
   {
    "duration": 36,
    "start_time": "2022-08-26T09:47:54.963Z"
   },
   {
    "duration": 8,
    "start_time": "2022-08-26T09:47:55.001Z"
   },
   {
    "duration": 53,
    "start_time": "2022-08-26T09:47:55.010Z"
   },
   {
    "duration": 66,
    "start_time": "2022-08-26T09:47:55.064Z"
   },
   {
    "duration": 43,
    "start_time": "2022-08-26T09:47:55.132Z"
   },
   {
    "duration": 64,
    "start_time": "2022-08-26T09:47:55.176Z"
   },
   {
    "duration": 44,
    "start_time": "2022-08-26T09:47:55.241Z"
   },
   {
    "duration": 54,
    "start_time": "2022-08-26T09:47:55.286Z"
   },
   {
    "duration": 6,
    "start_time": "2022-08-26T09:47:55.341Z"
   },
   {
    "duration": 55,
    "start_time": "2022-08-26T09:47:55.348Z"
   },
   {
    "duration": 25,
    "start_time": "2022-08-26T09:47:55.404Z"
   },
   {
    "duration": 41,
    "start_time": "2022-08-26T09:47:55.430Z"
   },
   {
    "duration": 18,
    "start_time": "2022-08-26T09:47:55.472Z"
   },
   {
    "duration": 18,
    "start_time": "2022-08-26T09:52:06.281Z"
   },
   {
    "duration": 2,
    "start_time": "2022-08-26T09:53:52.226Z"
   },
   {
    "duration": 30,
    "start_time": "2022-08-26T09:56:25.569Z"
   },
   {
    "duration": 30,
    "start_time": "2022-08-26T09:57:35.929Z"
   },
   {
    "duration": 703,
    "start_time": "2022-08-26T09:57:42.106Z"
   },
   {
    "duration": 2,
    "start_time": "2022-08-26T09:57:42.811Z"
   },
   {
    "duration": 33,
    "start_time": "2022-08-26T09:57:42.814Z"
   },
   {
    "duration": 60,
    "start_time": "2022-08-26T09:57:42.849Z"
   },
   {
    "duration": 21,
    "start_time": "2022-08-26T09:57:42.911Z"
   },
   {
    "duration": 34,
    "start_time": "2022-08-26T09:57:42.933Z"
   },
   {
    "duration": 43,
    "start_time": "2022-08-26T09:57:42.969Z"
   },
   {
    "duration": 20,
    "start_time": "2022-08-26T09:57:43.014Z"
   },
   {
    "duration": 17,
    "start_time": "2022-08-26T09:57:43.036Z"
   },
   {
    "duration": 18,
    "start_time": "2022-08-26T09:57:43.056Z"
   },
   {
    "duration": 3,
    "start_time": "2022-08-26T09:57:43.076Z"
   },
   {
    "duration": 24,
    "start_time": "2022-08-26T09:57:43.107Z"
   },
   {
    "duration": 19,
    "start_time": "2022-08-26T09:57:43.133Z"
   },
   {
    "duration": 23,
    "start_time": "2022-08-26T09:57:43.154Z"
   },
   {
    "duration": 11,
    "start_time": "2022-08-26T09:57:43.205Z"
   },
   {
    "duration": 26,
    "start_time": "2022-08-26T09:57:43.218Z"
   },
   {
    "duration": 43,
    "start_time": "2022-08-26T09:57:43.246Z"
   },
   {
    "duration": 61,
    "start_time": "2022-08-26T09:57:43.290Z"
   },
   {
    "duration": 56,
    "start_time": "2022-08-26T09:57:43.353Z"
   },
   {
    "duration": 44,
    "start_time": "2022-08-26T09:57:43.411Z"
   },
   {
    "duration": 57,
    "start_time": "2022-08-26T09:57:43.457Z"
   },
   {
    "duration": 18,
    "start_time": "2022-08-26T09:57:43.516Z"
   },
   {
    "duration": 11,
    "start_time": "2022-08-26T09:57:43.535Z"
   },
   {
    "duration": 30,
    "start_time": "2022-08-26T09:57:43.548Z"
   },
   {
    "duration": 43,
    "start_time": "2022-08-26T09:57:43.581Z"
   },
   {
    "duration": 3,
    "start_time": "2022-08-26T09:57:43.626Z"
   },
   {
    "duration": 78,
    "start_time": "2022-08-26T10:00:52.777Z"
   },
   {
    "duration": 29,
    "start_time": "2022-08-26T10:04:40.961Z"
   },
   {
    "duration": 21,
    "start_time": "2022-08-26T10:04:59.407Z"
   },
   {
    "duration": 25,
    "start_time": "2022-08-26T10:05:07.372Z"
   },
   {
    "duration": 27,
    "start_time": "2022-08-26T10:05:36.668Z"
   },
   {
    "duration": 27,
    "start_time": "2022-08-26T10:06:33.390Z"
   },
   {
    "duration": 30,
    "start_time": "2022-08-26T10:07:04.754Z"
   },
   {
    "duration": 28,
    "start_time": "2022-08-26T10:07:46.812Z"
   },
   {
    "duration": 30,
    "start_time": "2022-08-26T10:08:10.182Z"
   },
   {
    "duration": 45,
    "start_time": "2022-08-26T10:08:53.625Z"
   },
   {
    "duration": 17,
    "start_time": "2022-08-26T10:08:55.004Z"
   },
   {
    "duration": 6,
    "start_time": "2022-08-26T10:09:23.124Z"
   },
   {
    "duration": 27,
    "start_time": "2022-08-26T10:09:33.937Z"
   },
   {
    "duration": 25,
    "start_time": "2022-08-26T10:09:57.956Z"
   },
   {
    "duration": 16,
    "start_time": "2022-08-26T10:10:21.708Z"
   },
   {
    "duration": 743,
    "start_time": "2022-08-26T10:11:27.567Z"
   },
   {
    "duration": 4,
    "start_time": "2022-08-26T10:11:28.312Z"
   },
   {
    "duration": 44,
    "start_time": "2022-08-26T10:11:28.318Z"
   },
   {
    "duration": 53,
    "start_time": "2022-08-26T10:11:28.364Z"
   },
   {
    "duration": 26,
    "start_time": "2022-08-26T10:11:28.419Z"
   },
   {
    "duration": 60,
    "start_time": "2022-08-26T10:11:28.447Z"
   },
   {
    "duration": 21,
    "start_time": "2022-08-26T10:11:28.509Z"
   },
   {
    "duration": 23,
    "start_time": "2022-08-26T10:11:28.532Z"
   },
   {
    "duration": 17,
    "start_time": "2022-08-26T10:11:28.556Z"
   },
   {
    "duration": 44,
    "start_time": "2022-08-26T10:11:28.575Z"
   },
   {
    "duration": 3,
    "start_time": "2022-08-26T10:11:28.621Z"
   },
   {
    "duration": 24,
    "start_time": "2022-08-26T10:11:28.626Z"
   },
   {
    "duration": 23,
    "start_time": "2022-08-26T10:11:28.652Z"
   },
   {
    "duration": 54,
    "start_time": "2022-08-26T10:11:28.679Z"
   },
   {
    "duration": 10,
    "start_time": "2022-08-26T10:11:28.734Z"
   },
   {
    "duration": 29,
    "start_time": "2022-08-26T10:11:28.746Z"
   },
   {
    "duration": 64,
    "start_time": "2022-08-26T10:11:28.777Z"
   },
   {
    "duration": 67,
    "start_time": "2022-08-26T10:11:28.843Z"
   },
   {
    "duration": 57,
    "start_time": "2022-08-26T10:11:28.912Z"
   },
   {
    "duration": 66,
    "start_time": "2022-08-26T10:11:28.970Z"
   },
   {
    "duration": 57,
    "start_time": "2022-08-26T10:11:29.038Z"
   },
   {
    "duration": 30,
    "start_time": "2022-08-26T10:11:29.097Z"
   },
   {
    "duration": 6,
    "start_time": "2022-08-26T10:11:29.129Z"
   },
   {
    "duration": 31,
    "start_time": "2022-08-26T10:11:29.137Z"
   },
   {
    "duration": 65,
    "start_time": "2022-08-26T10:11:29.170Z"
   },
   {
    "duration": 2,
    "start_time": "2022-08-26T10:11:29.237Z"
   },
   {
    "duration": 29,
    "start_time": "2022-08-26T10:12:48.044Z"
   },
   {
    "duration": 27,
    "start_time": "2022-08-26T10:14:58.166Z"
   },
   {
    "duration": 25,
    "start_time": "2022-08-26T10:17:07.367Z"
   },
   {
    "duration": 32,
    "start_time": "2022-08-26T10:17:11.929Z"
   },
   {
    "duration": 24,
    "start_time": "2022-08-26T10:17:56.262Z"
   },
   {
    "duration": 28,
    "start_time": "2022-08-26T10:18:10.989Z"
   },
   {
    "duration": 39,
    "start_time": "2022-08-26T10:21:36.017Z"
   },
   {
    "duration": 12,
    "start_time": "2022-08-26T10:22:03.622Z"
   },
   {
    "duration": 13,
    "start_time": "2022-08-26T10:22:24.066Z"
   },
   {
    "duration": 32,
    "start_time": "2022-08-26T10:22:34.366Z"
   },
   {
    "duration": 27,
    "start_time": "2022-08-26T10:22:37.374Z"
   },
   {
    "duration": 4,
    "start_time": "2022-08-26T10:28:44.986Z"
   },
   {
    "duration": 2,
    "start_time": "2022-08-26T10:28:52.738Z"
   },
   {
    "duration": 4,
    "start_time": "2022-08-26T10:30:48.736Z"
   },
   {
    "duration": 6,
    "start_time": "2022-08-26T10:31:08.742Z"
   },
   {
    "duration": 4,
    "start_time": "2022-08-26T10:31:21.016Z"
   },
   {
    "duration": 5,
    "start_time": "2022-08-26T10:31:52.924Z"
   },
   {
    "duration": 6,
    "start_time": "2022-08-26T10:31:56.316Z"
   },
   {
    "duration": 4,
    "start_time": "2022-08-26T10:32:09.138Z"
   },
   {
    "duration": 2,
    "start_time": "2022-08-26T10:32:45.060Z"
   },
   {
    "duration": 118,
    "start_time": "2022-08-26T10:34:32.430Z"
   },
   {
    "duration": 4,
    "start_time": "2022-08-26T10:34:40.649Z"
   },
   {
    "duration": 64,
    "start_time": "2022-08-26T10:34:59.959Z"
   },
   {
    "duration": 3,
    "start_time": "2022-08-26T10:35:11.763Z"
   },
   {
    "duration": 13,
    "start_time": "2022-08-26T10:35:12.890Z"
   },
   {
    "duration": 7,
    "start_time": "2022-08-26T10:36:58.819Z"
   },
   {
    "duration": 4,
    "start_time": "2022-08-26T10:36:59.908Z"
   },
   {
    "duration": 10,
    "start_time": "2022-08-26T10:37:01.027Z"
   },
   {
    "duration": 3,
    "start_time": "2022-08-26T10:38:39.077Z"
   },
   {
    "duration": 10,
    "start_time": "2022-08-26T10:38:40.321Z"
   },
   {
    "duration": 3,
    "start_time": "2022-08-26T10:38:43.266Z"
   },
   {
    "duration": 2,
    "start_time": "2022-08-26T10:38:43.991Z"
   },
   {
    "duration": 5,
    "start_time": "2022-08-26T10:38:45.570Z"
   },
   {
    "duration": 3,
    "start_time": "2022-08-26T10:38:46.844Z"
   },
   {
    "duration": 11,
    "start_time": "2022-08-26T10:38:49.131Z"
   },
   {
    "duration": 4,
    "start_time": "2022-08-26T10:41:25.320Z"
   },
   {
    "duration": 6,
    "start_time": "2022-08-26T10:41:47.170Z"
   },
   {
    "duration": 3,
    "start_time": "2022-08-26T10:42:04.505Z"
   },
   {
    "duration": 9,
    "start_time": "2022-08-26T10:42:05.712Z"
   },
   {
    "duration": 2,
    "start_time": "2022-08-26T10:42:14.288Z"
   },
   {
    "duration": 6,
    "start_time": "2022-08-26T10:42:15.365Z"
   },
   {
    "duration": 79,
    "start_time": "2022-08-26T10:44:08.823Z"
   },
   {
    "duration": 3,
    "start_time": "2022-08-26T10:44:16.286Z"
   },
   {
    "duration": 9,
    "start_time": "2022-08-26T10:44:17.519Z"
   },
   {
    "duration": 4,
    "start_time": "2022-08-26T10:44:23.540Z"
   },
   {
    "duration": 10,
    "start_time": "2022-08-26T10:44:24.727Z"
   },
   {
    "duration": 1690,
    "start_time": "2022-08-26T10:44:35.863Z"
   },
   {
    "duration": 3,
    "start_time": "2022-08-26T10:44:42.209Z"
   },
   {
    "duration": 8,
    "start_time": "2022-08-26T10:44:43.332Z"
   },
   {
    "duration": 29,
    "start_time": "2022-08-26T10:46:24.953Z"
   },
   {
    "duration": 4,
    "start_time": "2022-08-26T10:46:31.929Z"
   },
   {
    "duration": 12,
    "start_time": "2022-08-26T10:46:32.910Z"
   },
   {
    "duration": 33,
    "start_time": "2022-08-26T10:47:27.349Z"
   },
   {
    "duration": 8,
    "start_time": "2022-08-26T10:48:09.779Z"
   },
   {
    "duration": 8,
    "start_time": "2022-08-26T10:48:37.012Z"
   },
   {
    "duration": 5,
    "start_time": "2022-08-26T10:49:13.318Z"
   },
   {
    "duration": 8,
    "start_time": "2022-08-26T10:49:14.459Z"
   },
   {
    "duration": 3,
    "start_time": "2022-08-26T10:50:24.193Z"
   },
   {
    "duration": 8,
    "start_time": "2022-08-26T10:50:25.348Z"
   },
   {
    "duration": 11,
    "start_time": "2022-08-26T10:50:59.010Z"
   },
   {
    "duration": 7,
    "start_time": "2022-08-26T10:51:01.987Z"
   },
   {
    "duration": 3,
    "start_time": "2022-08-26T10:53:30.236Z"
   },
   {
    "duration": 555,
    "start_time": "2022-08-26T10:53:50.110Z"
   },
   {
    "duration": 301,
    "start_time": "2022-08-26T10:54:21.992Z"
   },
   {
    "duration": 3,
    "start_time": "2022-08-26T10:54:26.942Z"
   },
   {
    "duration": 155,
    "start_time": "2022-08-26T10:54:28.713Z"
   },
   {
    "duration": 12,
    "start_time": "2022-08-26T11:02:26.521Z"
   },
   {
    "duration": 4,
    "start_time": "2022-08-26T11:03:11.253Z"
   },
   {
    "duration": 17,
    "start_time": "2022-08-26T11:03:12.332Z"
   },
   {
    "duration": 3,
    "start_time": "2022-08-26T11:03:37.072Z"
   },
   {
    "duration": 8,
    "start_time": "2022-08-26T11:03:38.249Z"
   },
   {
    "duration": 9,
    "start_time": "2022-08-26T11:03:47.969Z"
   },
   {
    "duration": 3,
    "start_time": "2022-08-26T11:03:50.453Z"
   },
   {
    "duration": 8,
    "start_time": "2022-08-26T11:03:51.655Z"
   },
   {
    "duration": 8,
    "start_time": "2022-08-26T11:04:41.987Z"
   },
   {
    "duration": 10,
    "start_time": "2022-08-26T11:05:15.426Z"
   },
   {
    "duration": 8,
    "start_time": "2022-08-26T11:07:01.989Z"
   },
   {
    "duration": 6,
    "start_time": "2022-08-26T11:08:38.124Z"
   },
   {
    "duration": 299,
    "start_time": "2022-08-26T11:08:39.293Z"
   },
   {
    "duration": 3,
    "start_time": "2022-08-26T11:08:48.531Z"
   },
   {
    "duration": 157,
    "start_time": "2022-08-26T11:08:49.527Z"
   },
   {
    "duration": 3,
    "start_time": "2022-08-26T11:08:55.371Z"
   },
   {
    "duration": 260,
    "start_time": "2022-08-26T11:08:56.482Z"
   },
   {
    "duration": 3,
    "start_time": "2022-08-26T11:08:59.744Z"
   },
   {
    "duration": 130,
    "start_time": "2022-08-26T11:09:00.684Z"
   },
   {
    "duration": 133,
    "start_time": "2022-08-26T11:09:05.444Z"
   },
   {
    "duration": 4,
    "start_time": "2022-08-26T11:10:55.592Z"
   },
   {
    "duration": 262,
    "start_time": "2022-08-26T11:10:56.565Z"
   },
   {
    "duration": 4,
    "start_time": "2022-08-26T11:11:21.338Z"
   },
   {
    "duration": 136,
    "start_time": "2022-08-26T11:11:22.342Z"
   },
   {
    "duration": 6,
    "start_time": "2022-08-26T11:11:34.125Z"
   },
   {
    "duration": 287,
    "start_time": "2022-08-26T11:11:35.237Z"
   },
   {
    "duration": 3,
    "start_time": "2022-08-26T11:12:10.551Z"
   },
   {
    "duration": 326,
    "start_time": "2022-08-26T11:12:11.844Z"
   },
   {
    "duration": 3,
    "start_time": "2022-08-26T11:12:14.673Z"
   },
   {
    "duration": 296,
    "start_time": "2022-08-26T11:12:15.876Z"
   },
   {
    "duration": 5,
    "start_time": "2022-08-26T11:12:22.122Z"
   },
   {
    "duration": 222,
    "start_time": "2022-08-26T11:12:23.200Z"
   },
   {
    "duration": 3,
    "start_time": "2022-08-26T11:13:29.633Z"
   },
   {
    "duration": 253,
    "start_time": "2022-08-26T11:13:31.093Z"
   },
   {
    "duration": 78,
    "start_time": "2022-08-26T11:14:31.176Z"
   },
   {
    "duration": 4,
    "start_time": "2022-08-26T11:14:34.584Z"
   },
   {
    "duration": 249,
    "start_time": "2022-08-26T11:14:35.644Z"
   },
   {
    "duration": 3,
    "start_time": "2022-08-26T11:14:42.226Z"
   },
   {
    "duration": 309,
    "start_time": "2022-08-26T11:14:44.130Z"
   },
   {
    "duration": 332,
    "start_time": "2022-08-26T11:15:45.363Z"
   },
   {
    "duration": 247,
    "start_time": "2022-08-26T11:17:15.425Z"
   },
   {
    "duration": 263,
    "start_time": "2022-08-26T11:17:26.961Z"
   },
   {
    "duration": 262,
    "start_time": "2022-08-26T11:18:14.048Z"
   },
   {
    "duration": 272,
    "start_time": "2022-08-26T11:18:16.461Z"
   },
   {
    "duration": 3,
    "start_time": "2022-08-26T11:22:14.769Z"
   },
   {
    "duration": 9,
    "start_time": "2022-08-26T11:22:15.833Z"
   },
   {
    "duration": 4,
    "start_time": "2022-08-26T11:22:37.766Z"
   },
   {
    "duration": 9,
    "start_time": "2022-08-26T11:22:38.675Z"
   },
   {
    "duration": 4,
    "start_time": "2022-08-26T11:22:49.644Z"
   },
   {
    "duration": 9,
    "start_time": "2022-08-26T11:22:51.133Z"
   },
   {
    "duration": 918,
    "start_time": "2022-08-26T11:22:57.745Z"
   },
   {
    "duration": 3,
    "start_time": "2022-08-26T11:22:58.665Z"
   },
   {
    "duration": 27,
    "start_time": "2022-08-26T11:22:58.669Z"
   },
   {
    "duration": 44,
    "start_time": "2022-08-26T11:22:58.698Z"
   },
   {
    "duration": 21,
    "start_time": "2022-08-26T11:22:58.744Z"
   },
   {
    "duration": 50,
    "start_time": "2022-08-26T11:22:58.767Z"
   },
   {
    "duration": 24,
    "start_time": "2022-08-26T11:22:58.818Z"
   },
   {
    "duration": 19,
    "start_time": "2022-08-26T11:22:58.844Z"
   },
   {
    "duration": 14,
    "start_time": "2022-08-26T11:22:58.864Z"
   },
   {
    "duration": 53,
    "start_time": "2022-08-26T11:22:58.879Z"
   },
   {
    "duration": 4,
    "start_time": "2022-08-26T11:22:58.934Z"
   },
   {
    "duration": 25,
    "start_time": "2022-08-26T11:22:58.939Z"
   },
   {
    "duration": 18,
    "start_time": "2022-08-26T11:22:58.966Z"
   },
   {
    "duration": 34,
    "start_time": "2022-08-26T11:22:59.008Z"
   },
   {
    "duration": 10,
    "start_time": "2022-08-26T11:22:59.043Z"
   },
   {
    "duration": 29,
    "start_time": "2022-08-26T11:22:59.054Z"
   },
   {
    "duration": 78,
    "start_time": "2022-08-26T11:22:59.084Z"
   },
   {
    "duration": 68,
    "start_time": "2022-08-26T11:22:59.163Z"
   },
   {
    "duration": 40,
    "start_time": "2022-08-26T11:22:59.233Z"
   },
   {
    "duration": 67,
    "start_time": "2022-08-26T11:22:59.274Z"
   },
   {
    "duration": 47,
    "start_time": "2022-08-26T11:22:59.342Z"
   },
   {
    "duration": 40,
    "start_time": "2022-08-26T11:22:59.390Z"
   },
   {
    "duration": 6,
    "start_time": "2022-08-26T11:22:59.431Z"
   },
   {
    "duration": 48,
    "start_time": "2022-08-26T11:22:59.438Z"
   },
   {
    "duration": 28,
    "start_time": "2022-08-26T11:22:59.487Z"
   },
   {
    "duration": 3,
    "start_time": "2022-08-26T11:22:59.517Z"
   },
   {
    "duration": 19,
    "start_time": "2022-08-26T11:22:59.522Z"
   },
   {
    "duration": 9,
    "start_time": "2022-08-26T11:22:59.543Z"
   },
   {
    "duration": 8,
    "start_time": "2022-08-26T11:22:59.554Z"
   },
   {
    "duration": 7,
    "start_time": "2022-08-26T11:22:59.564Z"
   },
   {
    "duration": 39,
    "start_time": "2022-08-26T11:22:59.573Z"
   },
   {
    "duration": 17,
    "start_time": "2022-08-26T11:22:59.614Z"
   },
   {
    "duration": 5,
    "start_time": "2022-08-26T11:22:59.632Z"
   },
   {
    "duration": 295,
    "start_time": "2022-08-26T11:22:59.638Z"
   },
   {
    "duration": 263,
    "start_time": "2022-08-26T11:22:59.934Z"
   },
   {
    "duration": 333,
    "start_time": "2022-08-26T11:23:00.206Z"
   },
   {
    "duration": 247,
    "start_time": "2022-08-26T11:23:00.541Z"
   },
   {
    "duration": 249,
    "start_time": "2022-08-26T11:23:00.790Z"
   },
   {
    "duration": 236,
    "start_time": "2022-08-26T11:23:01.041Z"
   },
   {
    "duration": 3,
    "start_time": "2022-08-26T11:23:06.579Z"
   },
   {
    "duration": 8,
    "start_time": "2022-08-26T11:23:07.727Z"
   },
   {
    "duration": 3,
    "start_time": "2022-08-26T11:23:15.243Z"
   },
   {
    "duration": 261,
    "start_time": "2022-08-26T11:23:16.284Z"
   },
   {
    "duration": 4,
    "start_time": "2022-08-26T11:23:27.266Z"
   },
   {
    "duration": 348,
    "start_time": "2022-08-26T11:23:28.808Z"
   },
   {
    "duration": 4,
    "start_time": "2022-08-26T11:23:37.253Z"
   },
   {
    "duration": 260,
    "start_time": "2022-08-26T11:23:38.382Z"
   },
   {
    "duration": 7,
    "start_time": "2022-08-26T11:23:54.625Z"
   },
   {
    "duration": 4,
    "start_time": "2022-08-26T11:23:55.625Z"
   },
   {
    "duration": 256,
    "start_time": "2022-08-26T11:23:57.009Z"
   },
   {
    "duration": 246,
    "start_time": "2022-08-26T11:24:05.554Z"
   },
   {
    "duration": 270,
    "start_time": "2022-08-26T11:24:12.004Z"
   },
   {
    "duration": 241,
    "start_time": "2022-08-26T11:24:17.887Z"
   },
   {
    "duration": 332,
    "start_time": "2022-08-26T11:24:20.279Z"
   },
   {
    "duration": 218,
    "start_time": "2022-08-26T11:24:23.128Z"
   },
   {
    "duration": 232,
    "start_time": "2022-08-26T11:25:21.408Z"
   },
   {
    "duration": 7,
    "start_time": "2022-08-26T11:29:18.211Z"
   },
   {
    "duration": 253,
    "start_time": "2022-08-26T11:29:19.201Z"
   },
   {
    "duration": 4,
    "start_time": "2022-08-26T11:30:18.392Z"
   },
   {
    "duration": 253,
    "start_time": "2022-08-26T11:30:19.632Z"
   },
   {
    "duration": 5,
    "start_time": "2022-08-26T11:30:52.837Z"
   },
   {
    "duration": 324,
    "start_time": "2022-08-26T11:30:53.929Z"
   },
   {
    "duration": 4,
    "start_time": "2022-08-26T11:31:19.901Z"
   },
   {
    "duration": 251,
    "start_time": "2022-08-26T11:31:21.036Z"
   },
   {
    "duration": 89,
    "start_time": "2022-08-26T11:31:47.844Z"
   },
   {
    "duration": 4,
    "start_time": "2022-08-26T11:31:57.069Z"
   },
   {
    "duration": 234,
    "start_time": "2022-08-26T11:31:58.109Z"
   },
   {
    "duration": 5,
    "start_time": "2022-08-26T11:32:17.633Z"
   },
   {
    "duration": 238,
    "start_time": "2022-08-26T11:32:18.945Z"
   },
   {
    "duration": 5,
    "start_time": "2022-08-26T11:32:44.630Z"
   },
   {
    "duration": 285,
    "start_time": "2022-08-26T11:32:46.379Z"
   },
   {
    "duration": 325,
    "start_time": "2022-08-26T11:32:56.004Z"
   },
   {
    "duration": 303,
    "start_time": "2022-08-26T11:33:02.185Z"
   },
   {
    "duration": 258,
    "start_time": "2022-08-26T11:33:05.664Z"
   },
   {
    "duration": 261,
    "start_time": "2022-08-26T11:33:08.192Z"
   },
   {
    "duration": 251,
    "start_time": "2022-08-26T11:33:10.614Z"
   },
   {
    "duration": 274,
    "start_time": "2022-08-26T11:33:38.313Z"
   },
   {
    "duration": 320,
    "start_time": "2022-08-26T11:33:41.099Z"
   },
   {
    "duration": 236,
    "start_time": "2022-08-26T11:34:05.641Z"
   },
   {
    "duration": 33,
    "start_time": "2022-08-26T12:14:19.710Z"
   },
   {
    "duration": 21,
    "start_time": "2022-08-26T12:14:43.282Z"
   },
   {
    "duration": 21,
    "start_time": "2022-08-26T12:14:45.469Z"
   },
   {
    "duration": 27,
    "start_time": "2022-08-26T12:14:51.212Z"
   },
   {
    "duration": 29,
    "start_time": "2022-08-26T12:15:51.393Z"
   },
   {
    "duration": 30,
    "start_time": "2022-08-26T12:15:55.151Z"
   },
   {
    "duration": 28,
    "start_time": "2022-08-26T12:16:16.886Z"
   },
   {
    "duration": 28,
    "start_time": "2022-08-26T12:16:56.050Z"
   },
   {
    "duration": 27,
    "start_time": "2022-08-26T12:16:59.049Z"
   },
   {
    "duration": 908,
    "start_time": "2022-08-26T12:18:27.623Z"
   },
   {
    "duration": 3,
    "start_time": "2022-08-26T12:18:28.532Z"
   },
   {
    "duration": 33,
    "start_time": "2022-08-26T12:18:28.536Z"
   },
   {
    "duration": 45,
    "start_time": "2022-08-26T12:18:28.571Z"
   },
   {
    "duration": 21,
    "start_time": "2022-08-26T12:18:28.618Z"
   },
   {
    "duration": 32,
    "start_time": "2022-08-26T12:18:28.640Z"
   },
   {
    "duration": 33,
    "start_time": "2022-08-26T12:18:28.674Z"
   },
   {
    "duration": 20,
    "start_time": "2022-08-26T12:18:28.708Z"
   },
   {
    "duration": 17,
    "start_time": "2022-08-26T12:18:28.729Z"
   },
   {
    "duration": 34,
    "start_time": "2022-08-26T12:18:28.748Z"
   },
   {
    "duration": 15,
    "start_time": "2022-08-26T12:18:28.783Z"
   },
   {
    "duration": 38,
    "start_time": "2022-08-26T12:18:28.799Z"
   },
   {
    "duration": 23,
    "start_time": "2022-08-26T12:18:28.839Z"
   },
   {
    "duration": 23,
    "start_time": "2022-08-26T12:18:28.865Z"
   },
   {
    "duration": 17,
    "start_time": "2022-08-26T12:18:28.890Z"
   },
   {
    "duration": 47,
    "start_time": "2022-08-26T12:18:28.909Z"
   },
   {
    "duration": 46,
    "start_time": "2022-08-26T12:18:28.958Z"
   },
   {
    "duration": 46,
    "start_time": "2022-08-26T12:18:29.006Z"
   },
   {
    "duration": 59,
    "start_time": "2022-08-26T12:18:29.054Z"
   },
   {
    "duration": 43,
    "start_time": "2022-08-26T12:18:29.115Z"
   },
   {
    "duration": 60,
    "start_time": "2022-08-26T12:18:29.160Z"
   },
   {
    "duration": 18,
    "start_time": "2022-08-26T12:18:29.221Z"
   },
   {
    "duration": 13,
    "start_time": "2022-08-26T12:18:29.241Z"
   },
   {
    "duration": 37,
    "start_time": "2022-08-26T12:18:29.256Z"
   },
   {
    "duration": 36,
    "start_time": "2022-08-26T12:18:29.295Z"
   },
   {
    "duration": 4,
    "start_time": "2022-08-26T12:18:29.333Z"
   },
   {
    "duration": 301,
    "start_time": "2022-08-26T12:18:29.338Z"
   },
   {
    "duration": 277,
    "start_time": "2022-08-26T12:18:29.641Z"
   },
   {
    "duration": 316,
    "start_time": "2022-08-26T12:18:29.920Z"
   },
   {
    "duration": 235,
    "start_time": "2022-08-26T12:18:30.238Z"
   },
   {
    "duration": 243,
    "start_time": "2022-08-26T12:18:30.474Z"
   },
   {
    "duration": 245,
    "start_time": "2022-08-26T12:18:30.718Z"
   },
   {
    "duration": 1667,
    "start_time": "2022-08-26T14:19:03.619Z"
   },
   {
    "duration": 4,
    "start_time": "2022-08-26T14:19:05.288Z"
   },
   {
    "duration": 36,
    "start_time": "2022-08-26T14:19:05.294Z"
   },
   {
    "duration": 39,
    "start_time": "2022-08-26T14:19:05.331Z"
   },
   {
    "duration": 34,
    "start_time": "2022-08-26T14:19:05.372Z"
   },
   {
    "duration": 27,
    "start_time": "2022-08-26T14:19:05.408Z"
   },
   {
    "duration": 16,
    "start_time": "2022-08-26T14:19:05.437Z"
   },
   {
    "duration": 43,
    "start_time": "2022-08-26T14:19:05.455Z"
   },
   {
    "duration": 16,
    "start_time": "2022-08-26T14:19:05.500Z"
   },
   {
    "duration": 32,
    "start_time": "2022-08-26T14:19:05.518Z"
   },
   {
    "duration": 3,
    "start_time": "2022-08-26T14:19:05.552Z"
   },
   {
    "duration": 21,
    "start_time": "2022-08-26T14:19:05.557Z"
   },
   {
    "duration": 38,
    "start_time": "2022-08-26T14:19:05.579Z"
   },
   {
    "duration": 23,
    "start_time": "2022-08-26T14:19:05.620Z"
   },
   {
    "duration": 10,
    "start_time": "2022-08-26T14:19:05.644Z"
   },
   {
    "duration": 56,
    "start_time": "2022-08-26T14:19:05.655Z"
   },
   {
    "duration": 46,
    "start_time": "2022-08-26T14:19:05.713Z"
   },
   {
    "duration": 56,
    "start_time": "2022-08-26T14:19:05.761Z"
   },
   {
    "duration": 45,
    "start_time": "2022-08-26T14:19:05.818Z"
   },
   {
    "duration": 65,
    "start_time": "2022-08-26T14:19:05.864Z"
   },
   {
    "duration": 68,
    "start_time": "2022-08-26T14:19:05.930Z"
   },
   {
    "duration": 17,
    "start_time": "2022-08-26T14:19:06.000Z"
   },
   {
    "duration": 6,
    "start_time": "2022-08-26T14:19:06.019Z"
   },
   {
    "duration": 28,
    "start_time": "2022-08-26T14:19:06.027Z"
   },
   {
    "duration": 51,
    "start_time": "2022-08-26T14:19:06.057Z"
   },
   {
    "duration": 4,
    "start_time": "2022-08-26T14:19:06.109Z"
   },
   {
    "duration": 238,
    "start_time": "2022-08-26T14:19:06.115Z"
   },
   {
    "duration": 225,
    "start_time": "2022-08-26T14:19:06.355Z"
   },
   {
    "duration": 269,
    "start_time": "2022-08-26T14:19:06.581Z"
   },
   {
    "duration": 230,
    "start_time": "2022-08-26T14:19:06.852Z"
   },
   {
    "duration": 243,
    "start_time": "2022-08-26T14:19:07.084Z"
   },
   {
    "duration": 201,
    "start_time": "2022-08-26T14:19:07.328Z"
   },
   {
    "duration": 28,
    "start_time": "2022-08-26T14:19:38.483Z"
   },
   {
    "duration": 37,
    "start_time": "2022-08-26T14:19:42.399Z"
   },
   {
    "duration": 212,
    "start_time": "2022-08-26T14:20:01.751Z"
   },
   {
    "duration": 35,
    "start_time": "2022-08-26T14:22:50.556Z"
   },
   {
    "duration": 925,
    "start_time": "2022-08-26T14:24:54.009Z"
   },
   {
    "duration": 3,
    "start_time": "2022-08-26T14:24:54.936Z"
   },
   {
    "duration": 36,
    "start_time": "2022-08-26T14:24:54.940Z"
   },
   {
    "duration": 40,
    "start_time": "2022-08-26T14:24:54.977Z"
   },
   {
    "duration": 21,
    "start_time": "2022-08-26T14:24:55.019Z"
   },
   {
    "duration": 28,
    "start_time": "2022-08-26T14:24:55.041Z"
   },
   {
    "duration": 35,
    "start_time": "2022-08-26T14:24:55.071Z"
   },
   {
    "duration": 17,
    "start_time": "2022-08-26T14:24:55.108Z"
   },
   {
    "duration": 15,
    "start_time": "2022-08-26T14:24:55.127Z"
   },
   {
    "duration": 22,
    "start_time": "2022-08-26T14:24:55.143Z"
   },
   {
    "duration": 5,
    "start_time": "2022-08-26T14:24:55.167Z"
   },
   {
    "duration": 42,
    "start_time": "2022-08-26T14:24:55.174Z"
   },
   {
    "duration": 20,
    "start_time": "2022-08-26T14:24:55.218Z"
   },
   {
    "duration": 36,
    "start_time": "2022-08-26T14:24:55.241Z"
   },
   {
    "duration": 27,
    "start_time": "2022-08-26T14:24:55.279Z"
   },
   {
    "duration": 23,
    "start_time": "2022-08-26T14:24:55.308Z"
   },
   {
    "duration": 45,
    "start_time": "2022-08-26T14:24:55.332Z"
   },
   {
    "duration": 64,
    "start_time": "2022-08-26T14:24:55.379Z"
   },
   {
    "duration": 53,
    "start_time": "2022-08-26T14:24:55.445Z"
   },
   {
    "duration": 45,
    "start_time": "2022-08-26T14:24:55.500Z"
   },
   {
    "duration": 63,
    "start_time": "2022-08-26T14:24:55.546Z"
   },
   {
    "duration": 17,
    "start_time": "2022-08-26T14:24:55.610Z"
   },
   {
    "duration": 5,
    "start_time": "2022-08-26T14:24:55.628Z"
   },
   {
    "duration": 30,
    "start_time": "2022-08-26T14:24:55.635Z"
   },
   {
    "duration": 42,
    "start_time": "2022-08-26T14:24:55.667Z"
   },
   {
    "duration": 4,
    "start_time": "2022-08-26T14:24:55.710Z"
   },
   {
    "duration": 240,
    "start_time": "2022-08-26T14:24:55.715Z"
   },
   {
    "duration": 226,
    "start_time": "2022-08-26T14:24:55.956Z"
   },
   {
    "duration": 278,
    "start_time": "2022-08-26T14:24:56.184Z"
   },
   {
    "duration": 224,
    "start_time": "2022-08-26T14:24:56.463Z"
   },
   {
    "duration": 219,
    "start_time": "2022-08-26T14:24:56.689Z"
   },
   {
    "duration": 207,
    "start_time": "2022-08-26T14:24:56.909Z"
   },
   {
    "duration": 60,
    "start_time": "2022-08-26T14:28:00.014Z"
   },
   {
    "duration": 80,
    "start_time": "2022-08-26T14:28:11.738Z"
   },
   {
    "duration": 9,
    "start_time": "2022-08-26T14:28:20.881Z"
   },
   {
    "duration": 41,
    "start_time": "2022-08-26T14:34:49.706Z"
   },
   {
    "duration": 65,
    "start_time": "2022-08-26T14:34:56.596Z"
   },
   {
    "duration": 4,
    "start_time": "2022-08-26T14:35:01.621Z"
   },
   {
    "duration": 21,
    "start_time": "2022-08-26T14:35:11.480Z"
   },
   {
    "duration": 24,
    "start_time": "2022-08-26T14:35:54.335Z"
   },
   {
    "duration": 34,
    "start_time": "2022-08-26T14:36:12.026Z"
   },
   {
    "duration": 23,
    "start_time": "2022-08-26T14:36:21.989Z"
   },
   {
    "duration": 22,
    "start_time": "2022-08-26T14:36:29.333Z"
   },
   {
    "duration": 4,
    "start_time": "2022-08-26T14:37:28.968Z"
   },
   {
    "duration": 17,
    "start_time": "2022-08-26T14:37:42.266Z"
   },
   {
    "duration": 15,
    "start_time": "2022-08-26T14:38:22.487Z"
   },
   {
    "duration": 19,
    "start_time": "2022-08-26T14:38:39.694Z"
   },
   {
    "duration": 18,
    "start_time": "2022-08-26T14:38:55.086Z"
   },
   {
    "duration": 20,
    "start_time": "2022-08-26T14:38:59.110Z"
   },
   {
    "duration": 8,
    "start_time": "2022-08-26T14:39:10.667Z"
   },
   {
    "duration": 26,
    "start_time": "2022-08-26T14:42:34.983Z"
   },
   {
    "duration": 26,
    "start_time": "2022-08-26T14:42:59.191Z"
   },
   {
    "duration": 64,
    "start_time": "2022-08-26T15:01:25.916Z"
   },
   {
    "duration": 9,
    "start_time": "2022-08-26T15:07:35.949Z"
   },
   {
    "duration": 3,
    "start_time": "2022-08-26T15:23:14.044Z"
   },
   {
    "duration": 73,
    "start_time": "2022-08-26T15:23:21.264Z"
   },
   {
    "duration": 6,
    "start_time": "2022-08-26T15:23:29.271Z"
   },
   {
    "duration": 8,
    "start_time": "2022-08-26T15:25:15.221Z"
   },
   {
    "duration": 11,
    "start_time": "2022-08-26T15:25:27.123Z"
   },
   {
    "duration": 9,
    "start_time": "2022-08-26T15:25:48.025Z"
   },
   {
    "duration": 7,
    "start_time": "2022-08-26T15:26:06.519Z"
   },
   {
    "duration": 23,
    "start_time": "2022-08-26T15:26:29.699Z"
   },
   {
    "duration": 23,
    "start_time": "2022-08-26T15:26:36.423Z"
   },
   {
    "duration": 21,
    "start_time": "2022-08-26T15:26:55.273Z"
   },
   {
    "duration": 6,
    "start_time": "2022-08-26T15:27:59.336Z"
   },
   {
    "duration": 7,
    "start_time": "2022-08-26T15:28:16.183Z"
   },
   {
    "duration": 25,
    "start_time": "2022-08-26T15:28:22.372Z"
   },
   {
    "duration": 29,
    "start_time": "2022-08-26T15:28:24.401Z"
   },
   {
    "duration": 12,
    "start_time": "2022-08-26T15:31:31.839Z"
   },
   {
    "duration": 18,
    "start_time": "2022-08-26T15:31:45.208Z"
   },
   {
    "duration": 92,
    "start_time": "2022-08-26T15:33:40.223Z"
   },
   {
    "duration": 7,
    "start_time": "2022-08-26T15:33:55.641Z"
   },
   {
    "duration": 8,
    "start_time": "2022-08-26T15:34:12.761Z"
   },
   {
    "duration": 8,
    "start_time": "2022-08-26T15:34:31.555Z"
   },
   {
    "duration": 8,
    "start_time": "2022-08-26T15:34:37.824Z"
   },
   {
    "duration": 7,
    "start_time": "2022-08-26T15:34:44.652Z"
   },
   {
    "duration": 8,
    "start_time": "2022-08-26T15:35:20.625Z"
   },
   {
    "duration": 10,
    "start_time": "2022-08-26T15:37:11.626Z"
   },
   {
    "duration": 10,
    "start_time": "2022-08-26T15:37:26.805Z"
   },
   {
    "duration": 96,
    "start_time": "2022-08-26T15:44:10.299Z"
   },
   {
    "duration": 407,
    "start_time": "2022-08-26T16:37:28.833Z"
   },
   {
    "duration": 5,
    "start_time": "2022-08-26T16:37:59.095Z"
   },
   {
    "duration": 7,
    "start_time": "2022-08-26T16:38:08.182Z"
   },
   {
    "duration": 10,
    "start_time": "2022-08-26T16:43:31.649Z"
   },
   {
    "duration": 8,
    "start_time": "2022-08-26T16:43:46.603Z"
   },
   {
    "duration": 36,
    "start_time": "2022-08-26T16:43:53.101Z"
   },
   {
    "duration": 10,
    "start_time": "2022-08-26T16:43:55.465Z"
   },
   {
    "duration": 8,
    "start_time": "2022-08-26T16:56:07.795Z"
   },
   {
    "duration": 9,
    "start_time": "2022-08-26T16:56:32.725Z"
   },
   {
    "duration": 7,
    "start_time": "2022-08-26T16:56:39.669Z"
   },
   {
    "duration": 8,
    "start_time": "2022-08-26T16:57:31.250Z"
   },
   {
    "duration": 23,
    "start_time": "2022-08-26T17:04:59.191Z"
   },
   {
    "duration": 12,
    "start_time": "2022-08-26T17:05:39.010Z"
   },
   {
    "duration": 48,
    "start_time": "2022-08-27T07:13:51.084Z"
   },
   {
    "duration": 1788,
    "start_time": "2022-08-27T07:13:55.582Z"
   },
   {
    "duration": 3,
    "start_time": "2022-08-27T07:13:57.373Z"
   },
   {
    "duration": 35,
    "start_time": "2022-08-27T07:13:57.378Z"
   },
   {
    "duration": 49,
    "start_time": "2022-08-27T07:13:57.415Z"
   },
   {
    "duration": 44,
    "start_time": "2022-08-27T07:13:57.467Z"
   },
   {
    "duration": 35,
    "start_time": "2022-08-27T07:13:57.513Z"
   },
   {
    "duration": 18,
    "start_time": "2022-08-27T07:13:57.550Z"
   },
   {
    "duration": 49,
    "start_time": "2022-08-27T07:13:57.570Z"
   },
   {
    "duration": 18,
    "start_time": "2022-08-27T07:13:57.620Z"
   },
   {
    "duration": 20,
    "start_time": "2022-08-27T07:13:57.640Z"
   },
   {
    "duration": 10,
    "start_time": "2022-08-27T07:13:57.662Z"
   },
   {
    "duration": 52,
    "start_time": "2022-08-27T07:13:57.674Z"
   },
   {
    "duration": 21,
    "start_time": "2022-08-27T07:13:57.727Z"
   },
   {
    "duration": 25,
    "start_time": "2022-08-27T07:13:57.751Z"
   },
   {
    "duration": 32,
    "start_time": "2022-08-27T07:13:57.778Z"
   },
   {
    "duration": 30,
    "start_time": "2022-08-27T07:13:57.812Z"
   },
   {
    "duration": 47,
    "start_time": "2022-08-27T07:13:57.844Z"
   },
   {
    "duration": 45,
    "start_time": "2022-08-27T07:13:57.909Z"
   },
   {
    "duration": 68,
    "start_time": "2022-08-27T07:13:57.955Z"
   },
   {
    "duration": 48,
    "start_time": "2022-08-27T07:13:58.024Z"
   },
   {
    "duration": 68,
    "start_time": "2022-08-27T07:13:58.074Z"
   },
   {
    "duration": 25,
    "start_time": "2022-08-27T07:13:58.144Z"
   },
   {
    "duration": 40,
    "start_time": "2022-08-27T07:13:58.171Z"
   },
   {
    "duration": 28,
    "start_time": "2022-08-27T07:13:58.213Z"
   },
   {
    "duration": 12,
    "start_time": "2022-08-27T07:13:58.243Z"
   },
   {
    "duration": 5,
    "start_time": "2022-08-27T07:13:58.257Z"
   },
   {
    "duration": 299,
    "start_time": "2022-08-27T07:13:58.263Z"
   },
   {
    "duration": 260,
    "start_time": "2022-08-27T07:13:58.564Z"
   },
   {
    "duration": 309,
    "start_time": "2022-08-27T07:13:58.826Z"
   },
   {
    "duration": 257,
    "start_time": "2022-08-27T07:13:59.137Z"
   },
   {
    "duration": 249,
    "start_time": "2022-08-27T07:13:59.396Z"
   },
   {
    "duration": 8,
    "start_time": "2022-08-27T07:13:59.647Z"
   },
   {
    "duration": 256,
    "start_time": "2022-08-27T07:13:59.657Z"
   },
   {
    "duration": 473,
    "start_time": "2022-08-27T07:13:59.914Z"
   },
   {
    "duration": 3,
    "start_time": "2022-08-27T07:14:00.389Z"
   },
   {
    "duration": 13,
    "start_time": "2022-08-27T07:14:33.710Z"
   },
   {
    "duration": 62,
    "start_time": "2022-08-27T07:17:57.961Z"
   },
   {
    "duration": 24,
    "start_time": "2022-08-27T07:18:14.983Z"
   },
   {
    "duration": 21,
    "start_time": "2022-08-27T07:19:30.702Z"
   },
   {
    "duration": 57,
    "start_time": "2022-08-27T07:22:16.298Z"
   },
   {
    "duration": 55,
    "start_time": "2022-08-27T07:22:19.734Z"
   },
   {
    "duration": 44,
    "start_time": "2022-08-27T07:22:27.705Z"
   },
   {
    "duration": 46,
    "start_time": "2022-08-27T07:22:30.896Z"
   },
   {
    "duration": 50,
    "start_time": "2022-08-27T07:23:38.984Z"
   },
   {
    "duration": 9,
    "start_time": "2022-08-27T07:23:51.989Z"
   },
   {
    "duration": 20,
    "start_time": "2022-08-27T07:24:00.300Z"
   },
   {
    "duration": 13,
    "start_time": "2022-08-27T07:26:47.212Z"
   },
   {
    "duration": 9,
    "start_time": "2022-08-27T07:27:14.191Z"
   },
   {
    "duration": 44,
    "start_time": "2022-08-27T07:28:11.285Z"
   },
   {
    "duration": 11,
    "start_time": "2022-08-27T07:32:19.740Z"
   },
   {
    "duration": 30,
    "start_time": "2022-08-27T07:32:45.587Z"
   },
   {
    "duration": 27,
    "start_time": "2022-08-27T07:36:58.201Z"
   },
   {
    "duration": 10,
    "start_time": "2022-08-27T07:37:01.946Z"
   },
   {
    "duration": 12,
    "start_time": "2022-08-27T07:37:37.872Z"
   },
   {
    "duration": 7,
    "start_time": "2022-08-27T07:38:01.732Z"
   },
   {
    "duration": 13,
    "start_time": "2022-08-27T07:41:52.102Z"
   },
   {
    "duration": 11,
    "start_time": "2022-08-27T07:41:59.823Z"
   },
   {
    "duration": 12,
    "start_time": "2022-08-27T07:42:24.047Z"
   },
   {
    "duration": 13,
    "start_time": "2022-08-27T07:45:32.457Z"
   },
   {
    "duration": 12,
    "start_time": "2022-08-27T07:45:50.051Z"
   },
   {
    "duration": 13,
    "start_time": "2022-08-27T07:45:58.635Z"
   },
   {
    "duration": 39,
    "start_time": "2022-08-27T07:46:59.794Z"
   },
   {
    "duration": 71,
    "start_time": "2022-08-27T07:47:05.801Z"
   },
   {
    "duration": 18,
    "start_time": "2022-08-27T07:47:21.142Z"
   },
   {
    "duration": 12,
    "start_time": "2022-08-27T07:47:30.184Z"
   },
   {
    "duration": 10,
    "start_time": "2022-08-27T07:49:54.522Z"
   },
   {
    "duration": 10,
    "start_time": "2022-08-27T07:50:29.450Z"
   },
   {
    "duration": 15,
    "start_time": "2022-08-27T07:55:42.345Z"
   },
   {
    "duration": 13,
    "start_time": "2022-08-27T07:55:49.133Z"
   },
   {
    "duration": 10,
    "start_time": "2022-08-27T07:56:05.582Z"
   },
   {
    "duration": 21,
    "start_time": "2022-08-27T07:57:26.599Z"
   },
   {
    "duration": 19,
    "start_time": "2022-08-27T07:57:51.210Z"
   },
   {
    "duration": 18,
    "start_time": "2022-08-27T07:58:02.424Z"
   },
   {
    "duration": 20,
    "start_time": "2022-08-27T07:58:16.540Z"
   },
   {
    "duration": 21,
    "start_time": "2022-08-27T07:59:22.842Z"
   },
   {
    "duration": 20,
    "start_time": "2022-08-27T07:59:46.897Z"
   },
   {
    "duration": 20,
    "start_time": "2022-08-27T07:59:54.955Z"
   },
   {
    "duration": 21,
    "start_time": "2022-08-27T08:00:07.577Z"
   },
   {
    "duration": 7,
    "start_time": "2022-08-27T08:01:12.965Z"
   },
   {
    "duration": 22,
    "start_time": "2022-08-27T08:01:21.413Z"
   },
   {
    "duration": 21,
    "start_time": "2022-08-27T08:02:29.787Z"
   },
   {
    "duration": 44,
    "start_time": "2022-08-27T13:10:12.622Z"
   },
   {
    "duration": 1591,
    "start_time": "2022-08-27T13:10:16.594Z"
   },
   {
    "duration": 2,
    "start_time": "2022-08-27T13:10:18.187Z"
   },
   {
    "duration": 35,
    "start_time": "2022-08-27T13:10:18.191Z"
   },
   {
    "duration": 48,
    "start_time": "2022-08-27T13:10:18.228Z"
   },
   {
    "duration": 49,
    "start_time": "2022-08-27T13:10:18.278Z"
   },
   {
    "duration": 47,
    "start_time": "2022-08-27T13:10:18.328Z"
   },
   {
    "duration": 43,
    "start_time": "2022-08-27T13:10:18.377Z"
   },
   {
    "duration": 28,
    "start_time": "2022-08-27T13:10:18.422Z"
   },
   {
    "duration": 20,
    "start_time": "2022-08-27T13:10:18.453Z"
   },
   {
    "duration": 41,
    "start_time": "2022-08-27T13:10:18.476Z"
   },
   {
    "duration": 17,
    "start_time": "2022-08-27T13:10:18.521Z"
   },
   {
    "duration": 25,
    "start_time": "2022-08-27T13:10:18.540Z"
   },
   {
    "duration": 19,
    "start_time": "2022-08-27T13:10:18.567Z"
   },
   {
    "duration": 39,
    "start_time": "2022-08-27T13:10:18.587Z"
   },
   {
    "duration": 13,
    "start_time": "2022-08-27T13:10:18.628Z"
   },
   {
    "duration": 35,
    "start_time": "2022-08-27T13:10:18.642Z"
   },
   {
    "duration": 60,
    "start_time": "2022-08-27T13:10:18.678Z"
   },
   {
    "duration": 41,
    "start_time": "2022-08-27T13:10:18.740Z"
   },
   {
    "duration": 58,
    "start_time": "2022-08-27T13:10:18.782Z"
   },
   {
    "duration": 42,
    "start_time": "2022-08-27T13:10:18.842Z"
   },
   {
    "duration": 63,
    "start_time": "2022-08-27T13:10:18.885Z"
   },
   {
    "duration": 12,
    "start_time": "2022-08-27T13:10:18.949Z"
   },
   {
    "duration": 30,
    "start_time": "2022-08-27T13:10:18.962Z"
   },
   {
    "duration": 45,
    "start_time": "2022-08-27T13:10:18.994Z"
   },
   {
    "duration": 11,
    "start_time": "2022-08-27T13:10:19.041Z"
   },
   {
    "duration": 4,
    "start_time": "2022-08-27T13:10:19.053Z"
   },
   {
    "duration": 273,
    "start_time": "2022-08-27T13:10:19.058Z"
   },
   {
    "duration": 279,
    "start_time": "2022-08-27T13:10:19.333Z"
   },
   {
    "duration": 376,
    "start_time": "2022-08-27T13:10:19.613Z"
   },
   {
    "duration": 263,
    "start_time": "2022-08-27T13:10:19.990Z"
   },
   {
    "duration": 270,
    "start_time": "2022-08-27T13:10:20.255Z"
   },
   {
    "duration": 20,
    "start_time": "2022-08-27T13:10:20.527Z"
   },
   {
    "duration": 247,
    "start_time": "2022-08-27T13:10:20.549Z"
   },
   {
    "duration": 450,
    "start_time": "2022-08-27T13:10:20.798Z"
   },
   {
    "duration": 10,
    "start_time": "2022-08-27T13:10:21.249Z"
   },
   {
    "duration": 91,
    "start_time": "2022-08-27T13:21:04.064Z"
   },
   {
    "duration": 28,
    "start_time": "2022-08-27T13:21:29.925Z"
   },
   {
    "duration": 13,
    "start_time": "2022-08-27T13:23:46.721Z"
   },
   {
    "duration": 10,
    "start_time": "2022-08-27T13:25:52.531Z"
   },
   {
    "duration": 9,
    "start_time": "2022-08-27T13:26:09.473Z"
   },
   {
    "duration": 11,
    "start_time": "2022-08-27T13:30:25.273Z"
   },
   {
    "duration": 13,
    "start_time": "2022-08-27T13:30:39.404Z"
   },
   {
    "duration": 118,
    "start_time": "2022-08-27T13:33:43.174Z"
   },
   {
    "duration": 101,
    "start_time": "2022-08-27T13:34:34.175Z"
   },
   {
    "duration": 18,
    "start_time": "2022-08-27T13:36:48.097Z"
   },
   {
    "duration": 11,
    "start_time": "2022-08-27T13:37:03.129Z"
   },
   {
    "duration": 14,
    "start_time": "2022-08-27T14:06:05.327Z"
   },
   {
    "duration": 7,
    "start_time": "2022-08-27T14:06:30.852Z"
   },
   {
    "duration": 11,
    "start_time": "2022-08-27T14:06:54.574Z"
   },
   {
    "duration": 5,
    "start_time": "2022-08-27T14:17:30.807Z"
   },
   {
    "duration": 10,
    "start_time": "2022-08-27T14:17:40.339Z"
   },
   {
    "duration": 11,
    "start_time": "2022-08-27T14:17:59.956Z"
   },
   {
    "duration": 123,
    "start_time": "2022-08-27T14:18:59.505Z"
   },
   {
    "duration": 27,
    "start_time": "2022-08-27T14:19:06.715Z"
   },
   {
    "duration": 21,
    "start_time": "2022-08-27T14:19:14.397Z"
   },
   {
    "duration": 14,
    "start_time": "2022-08-27T14:19:36.577Z"
   },
   {
    "duration": 10,
    "start_time": "2022-08-27T14:20:36.892Z"
   },
   {
    "duration": 12,
    "start_time": "2022-08-27T14:21:44.427Z"
   },
   {
    "duration": 12,
    "start_time": "2022-08-27T14:22:04.384Z"
   },
   {
    "duration": 10,
    "start_time": "2022-08-27T14:23:13.546Z"
   },
   {
    "duration": 13,
    "start_time": "2022-08-27T14:23:20.222Z"
   },
   {
    "duration": 13,
    "start_time": "2022-08-27T14:23:30.423Z"
   },
   {
    "duration": 10,
    "start_time": "2022-08-27T14:23:32.661Z"
   },
   {
    "duration": 9,
    "start_time": "2022-08-27T14:23:33.584Z"
   },
   {
    "duration": 14,
    "start_time": "2022-08-27T14:23:34.329Z"
   },
   {
    "duration": 11,
    "start_time": "2022-08-27T14:23:34.934Z"
   },
   {
    "duration": 10,
    "start_time": "2022-08-27T14:23:35.486Z"
   },
   {
    "duration": 20,
    "start_time": "2022-08-27T14:23:42.636Z"
   },
   {
    "duration": 10,
    "start_time": "2022-08-27T14:23:54.335Z"
   },
   {
    "duration": 9,
    "start_time": "2022-08-27T14:24:10.572Z"
   },
   {
    "duration": 8,
    "start_time": "2022-08-27T14:26:25.378Z"
   },
   {
    "duration": 3,
    "start_time": "2022-08-27T14:31:09.227Z"
   },
   {
    "duration": 3,
    "start_time": "2022-08-27T14:31:11.034Z"
   },
   {
    "duration": 48,
    "start_time": "2022-08-27T16:50:15.262Z"
   },
   {
    "duration": 1641,
    "start_time": "2022-08-27T16:50:22.404Z"
   },
   {
    "duration": 4,
    "start_time": "2022-08-27T16:50:24.047Z"
   },
   {
    "duration": 47,
    "start_time": "2022-08-27T16:50:24.052Z"
   },
   {
    "duration": 47,
    "start_time": "2022-08-27T16:50:24.100Z"
   },
   {
    "duration": 22,
    "start_time": "2022-08-27T16:50:24.149Z"
   },
   {
    "duration": 32,
    "start_time": "2022-08-27T16:50:24.186Z"
   },
   {
    "duration": 19,
    "start_time": "2022-08-27T16:50:24.219Z"
   },
   {
    "duration": 20,
    "start_time": "2022-08-27T16:50:24.240Z"
   },
   {
    "duration": 39,
    "start_time": "2022-08-27T16:50:24.262Z"
   },
   {
    "duration": 25,
    "start_time": "2022-08-27T16:50:24.303Z"
   },
   {
    "duration": 11,
    "start_time": "2022-08-27T16:50:24.330Z"
   },
   {
    "duration": 58,
    "start_time": "2022-08-27T16:50:24.343Z"
   },
   {
    "duration": 24,
    "start_time": "2022-08-27T16:50:24.404Z"
   },
   {
    "duration": 25,
    "start_time": "2022-08-27T16:50:24.431Z"
   },
   {
    "duration": 30,
    "start_time": "2022-08-27T16:50:24.458Z"
   },
   {
    "duration": 27,
    "start_time": "2022-08-27T16:50:24.489Z"
   },
   {
    "duration": 43,
    "start_time": "2022-08-27T16:50:24.517Z"
   },
   {
    "duration": 61,
    "start_time": "2022-08-27T16:50:24.562Z"
   },
   {
    "duration": 42,
    "start_time": "2022-08-27T16:50:24.625Z"
   },
   {
    "duration": 56,
    "start_time": "2022-08-27T16:50:24.669Z"
   },
   {
    "duration": 47,
    "start_time": "2022-08-27T16:50:24.726Z"
   },
   {
    "duration": 12,
    "start_time": "2022-08-27T16:50:24.786Z"
   },
   {
    "duration": 32,
    "start_time": "2022-08-27T16:50:24.800Z"
   },
   {
    "duration": 27,
    "start_time": "2022-08-27T16:50:24.833Z"
   },
   {
    "duration": 30,
    "start_time": "2022-08-27T16:50:24.862Z"
   },
   {
    "duration": 6,
    "start_time": "2022-08-27T16:50:24.894Z"
   },
   {
    "duration": 308,
    "start_time": "2022-08-27T16:50:24.902Z"
   },
   {
    "duration": 342,
    "start_time": "2022-08-27T16:50:25.211Z"
   },
   {
    "duration": 246,
    "start_time": "2022-08-27T16:50:25.555Z"
   },
   {
    "duration": 263,
    "start_time": "2022-08-27T16:50:25.802Z"
   },
   {
    "duration": 311,
    "start_time": "2022-08-27T16:50:26.067Z"
   },
   {
    "duration": 13,
    "start_time": "2022-08-27T16:50:26.381Z"
   },
   {
    "duration": 267,
    "start_time": "2022-08-27T16:50:26.396Z"
   },
   {
    "duration": 494,
    "start_time": "2022-08-27T16:50:26.665Z"
   },
   {
    "duration": 13,
    "start_time": "2022-08-27T16:50:27.161Z"
   },
   {
    "duration": 13,
    "start_time": "2022-08-27T16:52:44.102Z"
   },
   {
    "duration": 14,
    "start_time": "2022-08-27T16:53:32.207Z"
   },
   {
    "duration": 43,
    "start_time": "2022-08-27T16:53:53.889Z"
   },
   {
    "duration": 14,
    "start_time": "2022-08-27T16:53:57.993Z"
   },
   {
    "duration": 12,
    "start_time": "2022-08-27T16:54:48.797Z"
   },
   {
    "duration": 71,
    "start_time": "2022-08-27T16:55:07.404Z"
   },
   {
    "duration": 14,
    "start_time": "2022-08-27T16:55:21.297Z"
   },
   {
    "duration": 84,
    "start_time": "2022-08-27T16:55:45.959Z"
   },
   {
    "duration": 15,
    "start_time": "2022-08-27T16:55:59.838Z"
   },
   {
    "duration": 17,
    "start_time": "2022-08-27T17:03:27.773Z"
   },
   {
    "duration": 18,
    "start_time": "2022-08-27T17:03:45.447Z"
   },
   {
    "duration": 26,
    "start_time": "2022-08-27T17:03:59.700Z"
   },
   {
    "duration": 22,
    "start_time": "2022-08-27T17:04:06.436Z"
   },
   {
    "duration": 17,
    "start_time": "2022-08-27T17:04:17.052Z"
   },
   {
    "duration": 20,
    "start_time": "2022-08-27T17:05:04.263Z"
   },
   {
    "duration": 15,
    "start_time": "2022-08-27T17:05:26.695Z"
   },
   {
    "duration": 16,
    "start_time": "2022-08-27T17:05:29.640Z"
   },
   {
    "duration": 15,
    "start_time": "2022-08-27T17:05:35.288Z"
   },
   {
    "duration": 16,
    "start_time": "2022-08-27T17:05:36.505Z"
   },
   {
    "duration": 17,
    "start_time": "2022-08-27T17:05:37.113Z"
   },
   {
    "duration": 14,
    "start_time": "2022-08-27T17:05:53.289Z"
   },
   {
    "duration": 15,
    "start_time": "2022-08-27T17:07:03.395Z"
   },
   {
    "duration": 15,
    "start_time": "2022-08-27T17:07:19.153Z"
   },
   {
    "duration": 13,
    "start_time": "2022-08-27T17:07:27.256Z"
   },
   {
    "duration": 17,
    "start_time": "2022-08-27T17:07:29.557Z"
   },
   {
    "duration": 18,
    "start_time": "2022-08-27T17:07:33.854Z"
   },
   {
    "duration": 18,
    "start_time": "2022-08-27T17:08:18.670Z"
   },
   {
    "duration": 18,
    "start_time": "2022-08-27T17:08:53.890Z"
   },
   {
    "duration": 19,
    "start_time": "2022-08-27T17:10:14.047Z"
   },
   {
    "duration": 16,
    "start_time": "2022-08-27T17:10:18.810Z"
   },
   {
    "duration": 14,
    "start_time": "2022-08-27T17:10:28.723Z"
   },
   {
    "duration": 14,
    "start_time": "2022-08-27T17:10:32.799Z"
   },
   {
    "duration": 835,
    "start_time": "2022-08-28T10:58:48.051Z"
   },
   {
    "duration": 2,
    "start_time": "2022-08-28T10:58:48.888Z"
   },
   {
    "duration": 28,
    "start_time": "2022-08-28T10:58:48.891Z"
   },
   {
    "duration": 42,
    "start_time": "2022-08-28T10:58:48.920Z"
   },
   {
    "duration": 17,
    "start_time": "2022-08-28T10:58:48.964Z"
   },
   {
    "duration": 47,
    "start_time": "2022-08-28T10:58:48.983Z"
   },
   {
    "duration": 16,
    "start_time": "2022-08-28T10:58:49.032Z"
   },
   {
    "duration": 18,
    "start_time": "2022-08-28T10:58:49.050Z"
   },
   {
    "duration": 42,
    "start_time": "2022-08-28T10:58:49.069Z"
   },
   {
    "duration": 22,
    "start_time": "2022-08-28T10:58:49.113Z"
   },
   {
    "duration": 15,
    "start_time": "2022-08-28T10:58:49.136Z"
   },
   {
    "duration": 25,
    "start_time": "2022-08-28T10:58:49.152Z"
   },
   {
    "duration": 18,
    "start_time": "2022-08-28T10:58:49.179Z"
   },
   {
    "duration": 27,
    "start_time": "2022-08-28T10:58:49.206Z"
   },
   {
    "duration": 19,
    "start_time": "2022-08-28T10:58:49.234Z"
   },
   {
    "duration": 32,
    "start_time": "2022-08-28T10:58:49.254Z"
   },
   {
    "duration": 55,
    "start_time": "2022-08-28T10:58:49.287Z"
   },
   {
    "duration": 44,
    "start_time": "2022-08-28T10:58:49.343Z"
   },
   {
    "duration": 47,
    "start_time": "2022-08-28T10:58:49.389Z"
   },
   {
    "duration": 42,
    "start_time": "2022-08-28T10:58:49.438Z"
   },
   {
    "duration": 66,
    "start_time": "2022-08-28T10:58:49.481Z"
   },
   {
    "duration": 11,
    "start_time": "2022-08-28T10:58:49.549Z"
   },
   {
    "duration": 32,
    "start_time": "2022-08-28T10:58:49.561Z"
   },
   {
    "duration": 33,
    "start_time": "2022-08-28T10:58:49.595Z"
   },
   {
    "duration": 11,
    "start_time": "2022-08-28T10:58:49.629Z"
   },
   {
    "duration": 40,
    "start_time": "2022-08-28T10:58:49.642Z"
   },
   {
    "duration": 264,
    "start_time": "2022-08-28T10:58:49.684Z"
   },
   {
    "duration": 248,
    "start_time": "2022-08-28T10:58:49.951Z"
   },
   {
    "duration": 304,
    "start_time": "2022-08-28T10:58:50.205Z"
   },
   {
    "duration": 269,
    "start_time": "2022-08-28T10:58:50.511Z"
   },
   {
    "duration": 242,
    "start_time": "2022-08-28T10:58:50.782Z"
   },
   {
    "duration": 10,
    "start_time": "2022-08-28T10:58:51.025Z"
   },
   {
    "duration": 241,
    "start_time": "2022-08-28T10:58:51.036Z"
   },
   {
    "duration": 506,
    "start_time": "2022-08-28T10:58:51.279Z"
   },
   {
    "duration": 21,
    "start_time": "2022-08-28T10:58:51.786Z"
   },
   {
    "duration": 13,
    "start_time": "2022-08-28T11:02:57.545Z"
   },
   {
    "duration": 78,
    "start_time": "2022-08-28T12:23:42.906Z"
   },
   {
    "duration": 70,
    "start_time": "2022-08-28T12:24:01.672Z"
   },
   {
    "duration": 9,
    "start_time": "2022-08-28T12:27:26.458Z"
   },
   {
    "duration": 2410,
    "start_time": "2022-08-28T12:27:34.117Z"
   },
   {
    "duration": 3,
    "start_time": "2022-08-28T12:27:36.531Z"
   },
   {
    "duration": 90,
    "start_time": "2022-08-28T12:27:36.536Z"
   },
   {
    "duration": 102,
    "start_time": "2022-08-28T12:27:36.628Z"
   },
   {
    "duration": 38,
    "start_time": "2022-08-28T12:27:36.736Z"
   },
   {
    "duration": 58,
    "start_time": "2022-08-28T12:27:36.776Z"
   },
   {
    "duration": 59,
    "start_time": "2022-08-28T12:27:36.836Z"
   },
   {
    "duration": 69,
    "start_time": "2022-08-28T12:27:36.897Z"
   },
   {
    "duration": 31,
    "start_time": "2022-08-28T12:27:36.969Z"
   },
   {
    "duration": 54,
    "start_time": "2022-08-28T12:27:37.002Z"
   },
   {
    "duration": 10,
    "start_time": "2022-08-28T12:27:37.058Z"
   },
   {
    "duration": 31,
    "start_time": "2022-08-28T12:27:37.070Z"
   },
   {
    "duration": 32,
    "start_time": "2022-08-28T12:27:37.103Z"
   },
   {
    "duration": 25,
    "start_time": "2022-08-28T12:27:37.139Z"
   },
   {
    "duration": 25,
    "start_time": "2022-08-28T12:27:37.166Z"
   },
   {
    "duration": 43,
    "start_time": "2022-08-28T12:27:37.195Z"
   },
   {
    "duration": 57,
    "start_time": "2022-08-28T12:27:37.241Z"
   },
   {
    "duration": 56,
    "start_time": "2022-08-28T12:27:37.307Z"
   },
   {
    "duration": 69,
    "start_time": "2022-08-28T12:27:37.365Z"
   },
   {
    "duration": 80,
    "start_time": "2022-08-28T12:27:37.436Z"
   },
   {
    "duration": 88,
    "start_time": "2022-08-28T12:27:37.519Z"
   },
   {
    "duration": 28,
    "start_time": "2022-08-28T12:27:37.614Z"
   },
   {
    "duration": 53,
    "start_time": "2022-08-28T12:27:37.645Z"
   },
   {
    "duration": 41,
    "start_time": "2022-08-28T12:27:37.702Z"
   },
   {
    "duration": 20,
    "start_time": "2022-08-28T12:27:37.745Z"
   },
   {
    "duration": 5,
    "start_time": "2022-08-28T12:27:37.767Z"
   },
   {
    "duration": 380,
    "start_time": "2022-08-28T12:27:37.790Z"
   },
   {
    "duration": 312,
    "start_time": "2022-08-28T12:27:38.172Z"
   },
   {
    "duration": 392,
    "start_time": "2022-08-28T12:27:38.487Z"
   },
   {
    "duration": 340,
    "start_time": "2022-08-28T12:27:38.881Z"
   },
   {
    "duration": 342,
    "start_time": "2022-08-28T12:27:39.223Z"
   },
   {
    "duration": 9,
    "start_time": "2022-08-28T12:27:39.567Z"
   },
   {
    "duration": 348,
    "start_time": "2022-08-28T12:27:39.586Z"
   },
   {
    "duration": 640,
    "start_time": "2022-08-28T12:27:39.936Z"
   },
   {
    "duration": 19,
    "start_time": "2022-08-28T12:27:40.578Z"
   },
   {
    "duration": 9,
    "start_time": "2022-08-28T12:36:17.065Z"
   },
   {
    "duration": 42,
    "start_time": "2022-08-28T12:36:43.615Z"
   },
   {
    "duration": 13,
    "start_time": "2022-08-28T12:36:47.082Z"
   },
   {
    "duration": 80,
    "start_time": "2022-08-28T12:36:58.676Z"
   },
   {
    "duration": 6,
    "start_time": "2022-08-28T12:37:01.948Z"
   },
   {
    "duration": 4,
    "start_time": "2022-08-28T12:37:19.315Z"
   },
   {
    "duration": 5,
    "start_time": "2022-08-28T12:37:27.312Z"
   },
   {
    "duration": 6,
    "start_time": "2022-08-28T12:37:30.820Z"
   },
   {
    "duration": 69,
    "start_time": "2022-08-28T12:42:29.276Z"
   },
   {
    "duration": 11,
    "start_time": "2022-08-28T12:42:31.303Z"
   },
   {
    "duration": 17,
    "start_time": "2022-08-28T12:42:37.313Z"
   },
   {
    "duration": 7,
    "start_time": "2022-08-28T12:42:51.829Z"
   },
   {
    "duration": 29,
    "start_time": "2022-08-28T12:43:58.666Z"
   },
   {
    "duration": 5,
    "start_time": "2022-08-28T12:44:22.064Z"
   },
   {
    "duration": 85,
    "start_time": "2022-08-28T12:44:23.947Z"
   },
   {
    "duration": 80,
    "start_time": "2022-08-28T12:44:52.059Z"
   },
   {
    "duration": 62,
    "start_time": "2022-08-28T12:44:55.418Z"
   },
   {
    "duration": 74,
    "start_time": "2022-08-28T12:45:16.925Z"
   },
   {
    "duration": 7,
    "start_time": "2022-08-28T12:46:45.277Z"
   },
   {
    "duration": 78,
    "start_time": "2022-08-28T12:50:48.753Z"
   },
   {
    "duration": 57,
    "start_time": "2022-08-28T12:54:30.820Z"
   },
   {
    "duration": 75,
    "start_time": "2022-08-28T12:55:38.059Z"
   },
   {
    "duration": 60,
    "start_time": "2022-08-28T12:55:45.370Z"
   },
   {
    "duration": 13,
    "start_time": "2022-08-28T12:55:46.922Z"
   },
   {
    "duration": 85,
    "start_time": "2022-08-28T12:57:51.252Z"
   },
   {
    "duration": 67,
    "start_time": "2022-08-28T12:58:33.765Z"
   },
   {
    "duration": 6,
    "start_time": "2022-08-28T12:58:38.232Z"
   },
   {
    "duration": 63,
    "start_time": "2022-08-28T14:26:37.530Z"
   },
   {
    "duration": 2493,
    "start_time": "2022-08-28T14:26:41.366Z"
   },
   {
    "duration": 2,
    "start_time": "2022-08-28T14:26:43.862Z"
   },
   {
    "duration": 50,
    "start_time": "2022-08-28T14:26:43.866Z"
   },
   {
    "duration": 67,
    "start_time": "2022-08-28T14:26:43.917Z"
   },
   {
    "duration": 56,
    "start_time": "2022-08-28T14:26:43.988Z"
   },
   {
    "duration": 0,
    "start_time": "2022-08-28T14:26:44.047Z"
   },
   {
    "duration": 0,
    "start_time": "2022-08-28T14:26:44.050Z"
   },
   {
    "duration": 0,
    "start_time": "2022-08-28T14:26:44.053Z"
   },
   {
    "duration": 0,
    "start_time": "2022-08-28T14:26:44.054Z"
   },
   {
    "duration": 0,
    "start_time": "2022-08-28T14:26:44.056Z"
   },
   {
    "duration": 0,
    "start_time": "2022-08-28T14:26:44.058Z"
   },
   {
    "duration": 0,
    "start_time": "2022-08-28T14:26:44.059Z"
   },
   {
    "duration": 0,
    "start_time": "2022-08-28T14:26:44.066Z"
   },
   {
    "duration": 0,
    "start_time": "2022-08-28T14:26:44.068Z"
   },
   {
    "duration": 0,
    "start_time": "2022-08-28T14:26:44.089Z"
   },
   {
    "duration": 0,
    "start_time": "2022-08-28T14:26:44.090Z"
   },
   {
    "duration": 0,
    "start_time": "2022-08-28T14:26:44.094Z"
   },
   {
    "duration": 0,
    "start_time": "2022-08-28T14:26:44.095Z"
   },
   {
    "duration": 0,
    "start_time": "2022-08-28T14:26:44.096Z"
   },
   {
    "duration": 0,
    "start_time": "2022-08-28T14:26:44.097Z"
   },
   {
    "duration": 0,
    "start_time": "2022-08-28T14:26:44.098Z"
   },
   {
    "duration": 0,
    "start_time": "2022-08-28T14:26:44.099Z"
   },
   {
    "duration": 0,
    "start_time": "2022-08-28T14:26:44.099Z"
   },
   {
    "duration": 0,
    "start_time": "2022-08-28T14:26:44.100Z"
   },
   {
    "duration": 0,
    "start_time": "2022-08-28T14:26:44.101Z"
   },
   {
    "duration": 0,
    "start_time": "2022-08-28T14:26:44.102Z"
   },
   {
    "duration": 0,
    "start_time": "2022-08-28T14:26:44.102Z"
   },
   {
    "duration": 0,
    "start_time": "2022-08-28T14:26:44.103Z"
   },
   {
    "duration": 0,
    "start_time": "2022-08-28T14:26:44.104Z"
   },
   {
    "duration": 0,
    "start_time": "2022-08-28T14:26:44.105Z"
   },
   {
    "duration": 0,
    "start_time": "2022-08-28T14:26:44.105Z"
   },
   {
    "duration": 0,
    "start_time": "2022-08-28T14:26:44.106Z"
   },
   {
    "duration": 0,
    "start_time": "2022-08-28T14:26:44.107Z"
   },
   {
    "duration": 0,
    "start_time": "2022-08-28T14:26:44.108Z"
   },
   {
    "duration": 0,
    "start_time": "2022-08-28T14:26:44.108Z"
   },
   {
    "duration": 0,
    "start_time": "2022-08-28T14:26:44.110Z"
   },
   {
    "duration": 12,
    "start_time": "2022-08-28T14:27:15.118Z"
   },
   {
    "duration": 11,
    "start_time": "2022-08-28T14:27:40.734Z"
   },
   {
    "duration": 11,
    "start_time": "2022-08-28T14:27:45.053Z"
   },
   {
    "duration": 16,
    "start_time": "2022-08-28T14:27:58.014Z"
   },
   {
    "duration": 9,
    "start_time": "2022-08-28T14:28:00.877Z"
   },
   {
    "duration": 26,
    "start_time": "2022-08-28T14:30:08.995Z"
   },
   {
    "duration": 10,
    "start_time": "2022-08-28T14:33:00.983Z"
   },
   {
    "duration": 13,
    "start_time": "2022-08-28T14:33:04.500Z"
   },
   {
    "duration": 8,
    "start_time": "2022-08-28T14:34:02.010Z"
   },
   {
    "duration": 8,
    "start_time": "2022-08-28T14:40:29.399Z"
   },
   {
    "duration": 8,
    "start_time": "2022-08-28T14:41:57.000Z"
   },
   {
    "duration": 7,
    "start_time": "2022-08-28T14:45:59.497Z"
   },
   {
    "duration": 13,
    "start_time": "2022-08-28T14:47:46.203Z"
   },
   {
    "duration": 49,
    "start_time": "2022-08-28T14:47:48.333Z"
   },
   {
    "duration": 12,
    "start_time": "2022-08-28T14:48:04.397Z"
   },
   {
    "duration": 21,
    "start_time": "2022-08-28T14:48:25.034Z"
   },
   {
    "duration": 746,
    "start_time": "2022-08-28T14:48:43.506Z"
   },
   {
    "duration": 763,
    "start_time": "2022-08-28T14:49:28.490Z"
   },
   {
    "duration": 20,
    "start_time": "2022-08-28T14:49:45.640Z"
   },
   {
    "duration": 1025,
    "start_time": "2022-08-28T14:50:22.619Z"
   },
   {
    "duration": 3,
    "start_time": "2022-08-28T14:50:23.647Z"
   },
   {
    "duration": 45,
    "start_time": "2022-08-28T14:50:23.652Z"
   },
   {
    "duration": 52,
    "start_time": "2022-08-28T14:50:23.707Z"
   },
   {
    "duration": 47,
    "start_time": "2022-08-28T14:50:23.762Z"
   },
   {
    "duration": 35,
    "start_time": "2022-08-28T14:50:23.812Z"
   },
   {
    "duration": 20,
    "start_time": "2022-08-28T14:50:23.848Z"
   },
   {
    "duration": 44,
    "start_time": "2022-08-28T14:50:23.870Z"
   },
   {
    "duration": 20,
    "start_time": "2022-08-28T14:50:23.916Z"
   },
   {
    "duration": 26,
    "start_time": "2022-08-28T14:50:23.938Z"
   },
   {
    "duration": 26,
    "start_time": "2022-08-28T14:50:23.966Z"
   },
   {
    "duration": 58,
    "start_time": "2022-08-28T14:50:23.995Z"
   },
   {
    "duration": 31,
    "start_time": "2022-08-28T14:50:24.055Z"
   },
   {
    "duration": 30,
    "start_time": "2022-08-28T14:50:24.092Z"
   },
   {
    "duration": 9,
    "start_time": "2022-08-28T14:50:24.123Z"
   },
   {
    "duration": 36,
    "start_time": "2022-08-28T14:50:24.134Z"
   },
   {
    "duration": 74,
    "start_time": "2022-08-28T14:50:24.172Z"
   },
   {
    "duration": 81,
    "start_time": "2022-08-28T14:50:24.247Z"
   },
   {
    "duration": 89,
    "start_time": "2022-08-28T14:50:24.330Z"
   },
   {
    "duration": 53,
    "start_time": "2022-08-28T14:50:24.421Z"
   },
   {
    "duration": 66,
    "start_time": "2022-08-28T14:50:24.476Z"
   },
   {
    "duration": 12,
    "start_time": "2022-08-28T14:50:24.544Z"
   },
   {
    "duration": 56,
    "start_time": "2022-08-28T14:50:24.558Z"
   },
   {
    "duration": 30,
    "start_time": "2022-08-28T14:50:24.616Z"
   },
   {
    "duration": 12,
    "start_time": "2022-08-28T14:50:24.648Z"
   },
   {
    "duration": 35,
    "start_time": "2022-08-28T14:50:24.661Z"
   },
   {
    "duration": 300,
    "start_time": "2022-08-28T14:50:24.698Z"
   },
   {
    "duration": 318,
    "start_time": "2022-08-28T14:50:25.000Z"
   },
   {
    "duration": 338,
    "start_time": "2022-08-28T14:50:25.319Z"
   },
   {
    "duration": 287,
    "start_time": "2022-08-28T14:50:25.658Z"
   },
   {
    "duration": 321,
    "start_time": "2022-08-28T14:50:25.947Z"
   },
   {
    "duration": 17,
    "start_time": "2022-08-28T14:50:26.271Z"
   },
   {
    "duration": 338,
    "start_time": "2022-08-28T14:50:26.290Z"
   },
   {
    "duration": 498,
    "start_time": "2022-08-28T14:50:26.630Z"
   },
   {
    "duration": 17,
    "start_time": "2022-08-28T14:50:27.130Z"
   },
   {
    "duration": 105,
    "start_time": "2022-08-28T14:51:31.302Z"
   },
   {
    "duration": 52,
    "start_time": "2022-08-28T14:51:35.277Z"
   },
   {
    "duration": 43,
    "start_time": "2022-08-28T14:51:38.660Z"
   },
   {
    "duration": 46,
    "start_time": "2022-08-28T14:55:45.036Z"
   },
   {
    "duration": 332,
    "start_time": "2022-08-28T14:56:15.416Z"
   },
   {
    "duration": 59,
    "start_time": "2022-08-28T14:56:18.730Z"
   },
   {
    "duration": 48,
    "start_time": "2022-08-28T14:56:30.873Z"
   },
   {
    "duration": 48,
    "start_time": "2022-08-28T14:56:36.089Z"
   },
   {
    "duration": 56,
    "start_time": "2022-08-28T14:57:03.334Z"
   },
   {
    "duration": 54,
    "start_time": "2022-08-28T14:57:12.887Z"
   },
   {
    "duration": 63,
    "start_time": "2022-08-28T15:01:15.573Z"
   },
   {
    "duration": 65,
    "start_time": "2022-08-28T15:01:18.910Z"
   },
   {
    "duration": 44,
    "start_time": "2022-08-28T15:01:29.232Z"
   },
   {
    "duration": 73,
    "start_time": "2022-08-28T15:01:55.153Z"
   },
   {
    "duration": 110,
    "start_time": "2022-08-28T15:07:00.309Z"
   },
   {
    "duration": 11,
    "start_time": "2022-08-28T15:12:46.036Z"
   },
   {
    "duration": 3,
    "start_time": "2022-08-28T15:13:03.264Z"
   },
   {
    "duration": 5,
    "start_time": "2022-08-28T15:13:07.203Z"
   },
   {
    "duration": 9,
    "start_time": "2022-08-28T15:14:21.655Z"
   },
   {
    "duration": 20,
    "start_time": "2022-08-28T15:14:30.679Z"
   },
   {
    "duration": 4,
    "start_time": "2022-08-28T15:15:47.867Z"
   },
   {
    "duration": 3,
    "start_time": "2022-08-28T15:16:55.621Z"
   },
   {
    "duration": 5,
    "start_time": "2022-08-28T15:16:59.573Z"
   },
   {
    "duration": 6,
    "start_time": "2022-08-28T15:17:25.969Z"
   },
   {
    "duration": 7,
    "start_time": "2022-08-28T15:21:06.449Z"
   },
   {
    "duration": 5,
    "start_time": "2022-08-28T15:22:09.158Z"
   },
   {
    "duration": 5,
    "start_time": "2022-08-28T15:22:13.946Z"
   },
   {
    "duration": 5,
    "start_time": "2022-08-28T15:22:20.855Z"
   },
   {
    "duration": 6,
    "start_time": "2022-08-28T15:24:32.476Z"
   },
   {
    "duration": 5,
    "start_time": "2022-08-28T15:25:24.587Z"
   },
   {
    "duration": 6,
    "start_time": "2022-08-28T15:25:36.700Z"
   },
   {
    "duration": 6,
    "start_time": "2022-08-28T15:31:10.646Z"
   },
   {
    "duration": 7,
    "start_time": "2022-08-28T15:31:15.033Z"
   },
   {
    "duration": 52,
    "start_time": "2022-08-28T15:41:20.682Z"
   },
   {
    "duration": 85,
    "start_time": "2022-08-28T15:41:50.907Z"
   },
   {
    "duration": 60,
    "start_time": "2022-08-28T15:43:20.502Z"
   },
   {
    "duration": 84,
    "start_time": "2022-08-28T15:43:34.371Z"
   },
   {
    "duration": 56,
    "start_time": "2022-08-28T15:43:55.267Z"
   },
   {
    "duration": 125,
    "start_time": "2022-08-28T15:44:09.173Z"
   },
   {
    "duration": 76,
    "start_time": "2022-08-28T19:01:56.196Z"
   },
   {
    "duration": 1876,
    "start_time": "2022-08-28T19:02:03.352Z"
   },
   {
    "duration": 3,
    "start_time": "2022-08-28T19:02:05.231Z"
   },
   {
    "duration": 36,
    "start_time": "2022-08-28T19:02:05.236Z"
   },
   {
    "duration": 51,
    "start_time": "2022-08-28T19:02:05.273Z"
   },
   {
    "duration": 24,
    "start_time": "2022-08-28T19:02:05.326Z"
   },
   {
    "duration": 58,
    "start_time": "2022-08-28T19:02:05.352Z"
   },
   {
    "duration": 25,
    "start_time": "2022-08-28T19:02:05.412Z"
   },
   {
    "duration": 22,
    "start_time": "2022-08-28T19:02:05.439Z"
   },
   {
    "duration": 41,
    "start_time": "2022-08-28T19:02:05.462Z"
   },
   {
    "duration": 30,
    "start_time": "2022-08-28T19:02:05.508Z"
   },
   {
    "duration": 8,
    "start_time": "2022-08-28T19:02:05.540Z"
   },
   {
    "duration": 37,
    "start_time": "2022-08-28T19:02:05.550Z"
   },
   {
    "duration": 29,
    "start_time": "2022-08-28T19:02:05.588Z"
   },
   {
    "duration": 27,
    "start_time": "2022-08-28T19:02:05.620Z"
   },
   {
    "duration": 9,
    "start_time": "2022-08-28T19:02:05.648Z"
   },
   {
    "duration": 54,
    "start_time": "2022-08-28T19:02:05.659Z"
   },
   {
    "duration": 47,
    "start_time": "2022-08-28T19:02:05.715Z"
   },
   {
    "duration": 72,
    "start_time": "2022-08-28T19:02:05.764Z"
   },
   {
    "duration": 66,
    "start_time": "2022-08-28T19:02:05.838Z"
   },
   {
    "duration": 45,
    "start_time": "2022-08-28T19:02:05.907Z"
   },
   {
    "duration": 67,
    "start_time": "2022-08-28T19:02:05.953Z"
   },
   {
    "duration": 18,
    "start_time": "2022-08-28T19:02:06.025Z"
   },
   {
    "duration": 15,
    "start_time": "2022-08-28T19:02:06.045Z"
   },
   {
    "duration": 63,
    "start_time": "2022-08-28T19:02:06.062Z"
   },
   {
    "duration": 0,
    "start_time": "2022-08-28T19:02:06.127Z"
   },
   {
    "duration": 0,
    "start_time": "2022-08-28T19:02:06.129Z"
   },
   {
    "duration": 0,
    "start_time": "2022-08-28T19:02:06.130Z"
   },
   {
    "duration": 0,
    "start_time": "2022-08-28T19:02:06.131Z"
   },
   {
    "duration": 0,
    "start_time": "2022-08-28T19:02:06.132Z"
   },
   {
    "duration": 0,
    "start_time": "2022-08-28T19:02:06.134Z"
   },
   {
    "duration": 0,
    "start_time": "2022-08-28T19:02:06.135Z"
   },
   {
    "duration": 0,
    "start_time": "2022-08-28T19:02:06.136Z"
   },
   {
    "duration": 0,
    "start_time": "2022-08-28T19:02:06.138Z"
   },
   {
    "duration": 0,
    "start_time": "2022-08-28T19:02:06.140Z"
   },
   {
    "duration": 0,
    "start_time": "2022-08-28T19:02:06.141Z"
   },
   {
    "duration": 0,
    "start_time": "2022-08-28T19:02:06.142Z"
   },
   {
    "duration": 0,
    "start_time": "2022-08-28T19:02:06.144Z"
   },
   {
    "duration": 48,
    "start_time": "2022-08-28T19:05:46.835Z"
   },
   {
    "duration": 5,
    "start_time": "2022-08-28T19:07:35.280Z"
   },
   {
    "duration": 5,
    "start_time": "2022-08-28T19:08:15.347Z"
   },
   {
    "duration": 7,
    "start_time": "2022-08-28T19:08:20.606Z"
   },
   {
    "duration": 5,
    "start_time": "2022-08-28T19:08:22.506Z"
   },
   {
    "duration": 68,
    "start_time": "2022-08-28T19:09:32.543Z"
   },
   {
    "duration": 57,
    "start_time": "2022-08-28T19:18:50.053Z"
   },
   {
    "duration": 58,
    "start_time": "2022-08-28T19:19:07.839Z"
   },
   {
    "duration": 80,
    "start_time": "2022-08-28T19:20:26.639Z"
   },
   {
    "duration": 62,
    "start_time": "2022-08-28T19:20:28.286Z"
   },
   {
    "duration": 48,
    "start_time": "2022-08-28T19:21:43.923Z"
   },
   {
    "duration": 5,
    "start_time": "2022-08-28T19:22:30.645Z"
   },
   {
    "duration": 49,
    "start_time": "2022-08-28T19:22:42.425Z"
   },
   {
    "duration": 59,
    "start_time": "2022-08-28T19:22:49.541Z"
   },
   {
    "duration": 39,
    "start_time": "2022-08-28T19:23:21.944Z"
   },
   {
    "duration": 107,
    "start_time": "2022-08-28T19:26:03.099Z"
   },
   {
    "duration": 19,
    "start_time": "2022-08-28T19:27:21.420Z"
   },
   {
    "duration": 38,
    "start_time": "2022-08-28T19:28:36.958Z"
   },
   {
    "duration": 44,
    "start_time": "2022-08-28T19:29:54.539Z"
   },
   {
    "duration": 128,
    "start_time": "2022-08-28T19:30:03.486Z"
   },
   {
    "duration": 69,
    "start_time": "2022-08-28T19:30:08.374Z"
   },
   {
    "duration": 7,
    "start_time": "2022-08-28T19:36:04.628Z"
   },
   {
    "duration": 56,
    "start_time": "2022-08-28T19:36:25.290Z"
   },
   {
    "duration": 54,
    "start_time": "2022-08-28T19:36:53.349Z"
   },
   {
    "duration": 70,
    "start_time": "2022-08-28T19:39:23.426Z"
   },
   {
    "duration": 53,
    "start_time": "2022-08-28T19:39:26.851Z"
   },
   {
    "duration": 56,
    "start_time": "2022-08-28T19:42:30.132Z"
   },
   {
    "duration": 54,
    "start_time": "2022-08-28T19:42:37.916Z"
   },
   {
    "duration": 988,
    "start_time": "2022-08-28T19:42:45.679Z"
   },
   {
    "duration": 3,
    "start_time": "2022-08-28T19:42:46.669Z"
   },
   {
    "duration": 33,
    "start_time": "2022-08-28T19:42:46.673Z"
   },
   {
    "duration": 41,
    "start_time": "2022-08-28T19:42:46.708Z"
   },
   {
    "duration": 36,
    "start_time": "2022-08-28T19:42:46.752Z"
   },
   {
    "duration": 34,
    "start_time": "2022-08-28T19:42:46.789Z"
   },
   {
    "duration": 19,
    "start_time": "2022-08-28T19:42:46.824Z"
   },
   {
    "duration": 43,
    "start_time": "2022-08-28T19:42:46.844Z"
   },
   {
    "duration": 16,
    "start_time": "2022-08-28T19:42:46.888Z"
   },
   {
    "duration": 17,
    "start_time": "2022-08-28T19:42:46.905Z"
   },
   {
    "duration": 7,
    "start_time": "2022-08-28T19:42:46.924Z"
   },
   {
    "duration": 30,
    "start_time": "2022-08-28T19:42:46.933Z"
   },
   {
    "duration": 20,
    "start_time": "2022-08-28T19:42:46.986Z"
   },
   {
    "duration": 22,
    "start_time": "2022-08-28T19:42:47.008Z"
   },
   {
    "duration": 7,
    "start_time": "2022-08-28T19:42:47.032Z"
   },
   {
    "duration": 47,
    "start_time": "2022-08-28T19:42:47.040Z"
   },
   {
    "duration": 42,
    "start_time": "2022-08-28T19:42:47.089Z"
   },
   {
    "duration": 54,
    "start_time": "2022-08-28T19:42:47.133Z"
   },
   {
    "duration": 40,
    "start_time": "2022-08-28T19:42:47.188Z"
   },
   {
    "duration": 42,
    "start_time": "2022-08-28T19:42:47.230Z"
   },
   {
    "duration": 46,
    "start_time": "2022-08-28T19:42:47.286Z"
   },
   {
    "duration": 11,
    "start_time": "2022-08-28T19:42:47.334Z"
   },
   {
    "duration": 12,
    "start_time": "2022-08-28T19:42:47.346Z"
   },
   {
    "duration": 70,
    "start_time": "2022-08-28T19:42:47.359Z"
   },
   {
    "duration": 27,
    "start_time": "2022-08-28T19:42:47.431Z"
   },
   {
    "duration": 42,
    "start_time": "2022-08-28T19:42:47.460Z"
   },
   {
    "duration": 10,
    "start_time": "2022-08-28T19:42:47.504Z"
   },
   {
    "duration": 4,
    "start_time": "2022-08-28T19:42:47.515Z"
   },
   {
    "duration": 278,
    "start_time": "2022-08-28T19:42:47.520Z"
   },
   {
    "duration": 255,
    "start_time": "2022-08-28T19:42:47.800Z"
   },
   {
    "duration": 287,
    "start_time": "2022-08-28T19:42:48.056Z"
   },
   {
    "duration": 244,
    "start_time": "2022-08-28T19:42:48.345Z"
   },
   {
    "duration": 237,
    "start_time": "2022-08-28T19:42:48.590Z"
   },
   {
    "duration": 8,
    "start_time": "2022-08-28T19:42:48.829Z"
   },
   {
    "duration": 232,
    "start_time": "2022-08-28T19:42:48.839Z"
   },
   {
    "duration": 472,
    "start_time": "2022-08-28T19:42:49.073Z"
   },
   {
    "duration": 12,
    "start_time": "2022-08-28T19:42:49.547Z"
   },
   {
    "duration": 57,
    "start_time": "2022-08-28T19:43:17.079Z"
   },
   {
    "duration": 56,
    "start_time": "2022-08-28T19:44:10.981Z"
   },
   {
    "duration": 54,
    "start_time": "2022-08-28T19:48:55.110Z"
   },
   {
    "duration": 38,
    "start_time": "2022-08-28T19:49:19.374Z"
   },
   {
    "duration": 20,
    "start_time": "2022-08-28T19:49:50.089Z"
   },
   {
    "duration": 3,
    "start_time": "2022-08-28T19:52:14.686Z"
   },
   {
    "duration": 40,
    "start_time": "2022-08-28T19:53:12.646Z"
   },
   {
    "duration": 4,
    "start_time": "2022-08-28T19:57:00.647Z"
   },
   {
    "duration": 349,
    "start_time": "2022-08-28T19:57:02.535Z"
   },
   {
    "duration": 318,
    "start_time": "2022-08-28T19:57:09.759Z"
   },
   {
    "duration": 3,
    "start_time": "2022-08-28T19:57:10.079Z"
   },
   {
    "duration": 31,
    "start_time": "2022-08-28T19:57:10.083Z"
   },
   {
    "duration": 48,
    "start_time": "2022-08-28T19:57:10.117Z"
   },
   {
    "duration": 41,
    "start_time": "2022-08-28T19:57:10.168Z"
   },
   {
    "duration": 39,
    "start_time": "2022-08-28T19:57:10.211Z"
   },
   {
    "duration": 44,
    "start_time": "2022-08-28T19:57:10.252Z"
   },
   {
    "duration": 22,
    "start_time": "2022-08-28T19:57:10.298Z"
   },
   {
    "duration": 21,
    "start_time": "2022-08-28T19:57:10.322Z"
   },
   {
    "duration": 51,
    "start_time": "2022-08-28T19:57:10.345Z"
   },
   {
    "duration": 16,
    "start_time": "2022-08-28T19:57:10.398Z"
   },
   {
    "duration": 37,
    "start_time": "2022-08-28T19:57:10.416Z"
   },
   {
    "duration": 20,
    "start_time": "2022-08-28T19:57:10.455Z"
   },
   {
    "duration": 29,
    "start_time": "2022-08-28T19:57:10.478Z"
   },
   {
    "duration": 8,
    "start_time": "2022-08-28T19:57:10.509Z"
   },
   {
    "duration": 47,
    "start_time": "2022-08-28T19:57:10.519Z"
   },
   {
    "duration": 74,
    "start_time": "2022-08-28T19:57:10.567Z"
   },
   {
    "duration": 64,
    "start_time": "2022-08-28T19:57:10.643Z"
   },
   {
    "duration": 46,
    "start_time": "2022-08-28T19:57:10.709Z"
   },
   {
    "duration": 61,
    "start_time": "2022-08-28T19:57:10.756Z"
   },
   {
    "duration": 49,
    "start_time": "2022-08-28T19:57:10.818Z"
   },
   {
    "duration": 21,
    "start_time": "2022-08-28T19:57:10.869Z"
   },
   {
    "duration": 9,
    "start_time": "2022-08-28T19:57:10.891Z"
   },
   {
    "duration": 41,
    "start_time": "2022-08-28T19:57:10.901Z"
   },
   {
    "duration": 19,
    "start_time": "2022-08-28T19:57:10.944Z"
   },
   {
    "duration": 47,
    "start_time": "2022-08-28T19:57:10.965Z"
   },
   {
    "duration": 28,
    "start_time": "2022-08-28T19:57:11.014Z"
   },
   {
    "duration": 10,
    "start_time": "2022-08-28T19:57:11.044Z"
   },
   {
    "duration": 4,
    "start_time": "2022-08-28T19:57:11.056Z"
   },
   {
    "duration": 307,
    "start_time": "2022-08-28T19:57:11.086Z"
   },
   {
    "duration": 0,
    "start_time": "2022-08-28T19:57:11.394Z"
   },
   {
    "duration": 0,
    "start_time": "2022-08-28T19:57:11.395Z"
   },
   {
    "duration": 0,
    "start_time": "2022-08-28T19:57:11.396Z"
   },
   {
    "duration": 0,
    "start_time": "2022-08-28T19:57:11.397Z"
   },
   {
    "duration": 0,
    "start_time": "2022-08-28T19:57:11.398Z"
   },
   {
    "duration": 0,
    "start_time": "2022-08-28T19:57:11.400Z"
   },
   {
    "duration": 0,
    "start_time": "2022-08-28T19:57:11.401Z"
   },
   {
    "duration": 0,
    "start_time": "2022-08-28T19:57:11.402Z"
   },
   {
    "duration": 5,
    "start_time": "2022-08-28T19:57:22.849Z"
   },
   {
    "duration": 275,
    "start_time": "2022-08-28T19:57:24.140Z"
   },
   {
    "duration": 5,
    "start_time": "2022-08-28T19:57:43.199Z"
   },
   {
    "duration": 290,
    "start_time": "2022-08-28T19:57:44.439Z"
   },
   {
    "duration": 4,
    "start_time": "2022-08-28T19:58:22.379Z"
   },
   {
    "duration": 311,
    "start_time": "2022-08-28T19:58:23.339Z"
   },
   {
    "duration": 9,
    "start_time": "2022-08-28T20:00:51.214Z"
   },
   {
    "duration": 4,
    "start_time": "2022-08-28T20:01:02.632Z"
   },
   {
    "duration": 244,
    "start_time": "2022-08-28T20:01:07.261Z"
   },
   {
    "duration": 6,
    "start_time": "2022-08-28T20:01:16.229Z"
   },
   {
    "duration": 6,
    "start_time": "2022-08-28T20:01:22.980Z"
   },
   {
    "duration": 252,
    "start_time": "2022-08-28T20:01:24.125Z"
   },
   {
    "duration": 4,
    "start_time": "2022-08-28T20:01:45.567Z"
   },
   {
    "duration": 241,
    "start_time": "2022-08-28T20:01:55.228Z"
   },
   {
    "duration": 286,
    "start_time": "2022-08-28T20:02:15.243Z"
   },
   {
    "duration": 248,
    "start_time": "2022-08-28T20:02:29.251Z"
   },
   {
    "duration": 383,
    "start_time": "2022-08-28T20:02:37.329Z"
   },
   {
    "duration": 246,
    "start_time": "2022-08-28T20:02:45.166Z"
   },
   {
    "duration": 238,
    "start_time": "2022-08-28T20:03:34.477Z"
   },
   {
    "duration": 1038,
    "start_time": "2022-08-29T09:30:41.248Z"
   },
   {
    "duration": 3,
    "start_time": "2022-08-29T09:30:42.288Z"
   },
   {
    "duration": 35,
    "start_time": "2022-08-29T09:30:42.292Z"
   },
   {
    "duration": 44,
    "start_time": "2022-08-29T09:30:42.329Z"
   },
   {
    "duration": 22,
    "start_time": "2022-08-29T09:30:42.376Z"
   },
   {
    "duration": 39,
    "start_time": "2022-08-29T09:30:42.401Z"
   },
   {
    "duration": 42,
    "start_time": "2022-08-29T09:30:42.441Z"
   },
   {
    "duration": 37,
    "start_time": "2022-08-29T09:30:42.485Z"
   },
   {
    "duration": 30,
    "start_time": "2022-08-29T09:30:42.524Z"
   },
   {
    "duration": 45,
    "start_time": "2022-08-29T09:30:42.556Z"
   },
   {
    "duration": 30,
    "start_time": "2022-08-29T09:30:42.602Z"
   },
   {
    "duration": 39,
    "start_time": "2022-08-29T09:30:42.634Z"
   },
   {
    "duration": 22,
    "start_time": "2022-08-29T09:30:42.675Z"
   },
   {
    "duration": 30,
    "start_time": "2022-08-29T09:30:42.700Z"
   },
   {
    "duration": 8,
    "start_time": "2022-08-29T09:30:42.732Z"
   },
   {
    "duration": 53,
    "start_time": "2022-08-29T09:30:42.742Z"
   },
   {
    "duration": 48,
    "start_time": "2022-08-29T09:30:42.796Z"
   },
   {
    "duration": 60,
    "start_time": "2022-08-29T09:30:42.846Z"
   },
   {
    "duration": 61,
    "start_time": "2022-08-29T09:30:42.909Z"
   },
   {
    "duration": 50,
    "start_time": "2022-08-29T09:30:42.972Z"
   },
   {
    "duration": 64,
    "start_time": "2022-08-29T09:30:43.024Z"
   },
   {
    "duration": 12,
    "start_time": "2022-08-29T09:30:43.090Z"
   },
   {
    "duration": 6,
    "start_time": "2022-08-29T09:30:43.104Z"
   },
   {
    "duration": 60,
    "start_time": "2022-08-29T09:30:43.112Z"
   },
   {
    "duration": 22,
    "start_time": "2022-08-29T09:30:43.173Z"
   },
   {
    "duration": 33,
    "start_time": "2022-08-29T09:30:43.196Z"
   },
   {
    "duration": 54,
    "start_time": "2022-08-29T09:30:43.231Z"
   },
   {
    "duration": 11,
    "start_time": "2022-08-29T09:30:43.287Z"
   },
   {
    "duration": 4,
    "start_time": "2022-08-29T09:30:43.300Z"
   },
   {
    "duration": 319,
    "start_time": "2022-08-29T09:30:43.306Z"
   },
   {
    "duration": 282,
    "start_time": "2022-08-29T09:30:43.626Z"
   },
   {
    "duration": 338,
    "start_time": "2022-08-29T09:30:43.909Z"
   },
   {
    "duration": 282,
    "start_time": "2022-08-29T09:30:44.249Z"
   },
   {
    "duration": 290,
    "start_time": "2022-08-29T09:30:44.532Z"
   },
   {
    "duration": 271,
    "start_time": "2022-08-29T09:30:44.824Z"
   },
   {
    "duration": 480,
    "start_time": "2022-08-29T09:30:45.097Z"
   },
   {
    "duration": 14,
    "start_time": "2022-08-29T09:30:45.579Z"
   },
   {
    "duration": 111,
    "start_time": "2022-08-29T09:33:53.268Z"
   },
   {
    "duration": 57,
    "start_time": "2022-08-29T10:45:34.428Z"
   },
   {
    "duration": 1702,
    "start_time": "2022-08-29T10:45:39.832Z"
   },
   {
    "duration": 3,
    "start_time": "2022-08-29T10:45:41.537Z"
   },
   {
    "duration": 32,
    "start_time": "2022-08-29T10:45:41.541Z"
   },
   {
    "duration": 37,
    "start_time": "2022-08-29T10:45:41.575Z"
   },
   {
    "duration": 20,
    "start_time": "2022-08-29T10:45:41.614Z"
   },
   {
    "duration": 28,
    "start_time": "2022-08-29T10:45:41.636Z"
   },
   {
    "duration": 35,
    "start_time": "2022-08-29T10:45:41.666Z"
   },
   {
    "duration": 17,
    "start_time": "2022-08-29T10:45:41.703Z"
   },
   {
    "duration": 14,
    "start_time": "2022-08-29T10:45:41.722Z"
   },
   {
    "duration": 15,
    "start_time": "2022-08-29T10:45:41.738Z"
   },
   {
    "duration": 9,
    "start_time": "2022-08-29T10:45:41.754Z"
   },
   {
    "duration": 49,
    "start_time": "2022-08-29T10:45:41.765Z"
   },
   {
    "duration": 19,
    "start_time": "2022-08-29T10:45:41.816Z"
   },
   {
    "duration": 23,
    "start_time": "2022-08-29T10:45:41.837Z"
   },
   {
    "duration": 6,
    "start_time": "2022-08-29T10:45:41.862Z"
   },
   {
    "duration": 49,
    "start_time": "2022-08-29T10:45:41.869Z"
   },
   {
    "duration": 49,
    "start_time": "2022-08-29T10:45:41.919Z"
   },
   {
    "duration": 54,
    "start_time": "2022-08-29T10:45:41.970Z"
   },
   {
    "duration": 45,
    "start_time": "2022-08-29T10:45:42.026Z"
   },
   {
    "duration": 60,
    "start_time": "2022-08-29T10:45:42.073Z"
   },
   {
    "duration": 52,
    "start_time": "2022-08-29T10:45:42.134Z"
   },
   {
    "duration": 19,
    "start_time": "2022-08-29T10:45:42.187Z"
   },
   {
    "duration": 5,
    "start_time": "2022-08-29T10:45:42.207Z"
   },
   {
    "duration": 88,
    "start_time": "2022-08-29T10:45:42.214Z"
   },
   {
    "duration": 0,
    "start_time": "2022-08-29T10:45:42.304Z"
   },
   {
    "duration": 0,
    "start_time": "2022-08-29T10:45:42.305Z"
   },
   {
    "duration": 0,
    "start_time": "2022-08-29T10:45:42.305Z"
   },
   {
    "duration": 0,
    "start_time": "2022-08-29T10:45:42.306Z"
   },
   {
    "duration": 0,
    "start_time": "2022-08-29T10:45:42.307Z"
   },
   {
    "duration": 0,
    "start_time": "2022-08-29T10:45:42.308Z"
   },
   {
    "duration": 0,
    "start_time": "2022-08-29T10:45:42.309Z"
   },
   {
    "duration": 0,
    "start_time": "2022-08-29T10:45:42.310Z"
   },
   {
    "duration": 0,
    "start_time": "2022-08-29T10:45:42.311Z"
   },
   {
    "duration": 0,
    "start_time": "2022-08-29T10:45:42.312Z"
   },
   {
    "duration": 0,
    "start_time": "2022-08-29T10:45:42.313Z"
   },
   {
    "duration": 0,
    "start_time": "2022-08-29T10:45:42.314Z"
   },
   {
    "duration": 0,
    "start_time": "2022-08-29T10:45:42.314Z"
   },
   {
    "duration": 44,
    "start_time": "2022-08-29T10:45:49.698Z"
   },
   {
    "duration": 26,
    "start_time": "2022-08-29T10:45:52.512Z"
   },
   {
    "duration": 16,
    "start_time": "2022-08-29T10:46:17.805Z"
   },
   {
    "duration": 4,
    "start_time": "2022-08-29T10:46:54.006Z"
   },
   {
    "duration": 42,
    "start_time": "2022-08-29T10:46:55.008Z"
   },
   {
    "duration": 11,
    "start_time": "2022-08-29T10:47:00.018Z"
   },
   {
    "duration": 862,
    "start_time": "2022-08-29T10:47:16.262Z"
   },
   {
    "duration": 3,
    "start_time": "2022-08-29T10:47:17.125Z"
   },
   {
    "duration": 29,
    "start_time": "2022-08-29T10:47:17.130Z"
   },
   {
    "duration": 36,
    "start_time": "2022-08-29T10:47:17.161Z"
   },
   {
    "duration": 20,
    "start_time": "2022-08-29T10:47:17.199Z"
   },
   {
    "duration": 28,
    "start_time": "2022-08-29T10:47:17.221Z"
   },
   {
    "duration": 17,
    "start_time": "2022-08-29T10:47:17.251Z"
   },
   {
    "duration": 40,
    "start_time": "2022-08-29T10:47:17.270Z"
   },
   {
    "duration": 15,
    "start_time": "2022-08-29T10:47:17.311Z"
   },
   {
    "duration": 15,
    "start_time": "2022-08-29T10:47:17.327Z"
   },
   {
    "duration": 8,
    "start_time": "2022-08-29T10:47:17.343Z"
   },
   {
    "duration": 52,
    "start_time": "2022-08-29T10:47:17.352Z"
   },
   {
    "duration": 19,
    "start_time": "2022-08-29T10:47:17.405Z"
   },
   {
    "duration": 22,
    "start_time": "2022-08-29T10:47:17.426Z"
   },
   {
    "duration": 8,
    "start_time": "2022-08-29T10:47:17.449Z"
   },
   {
    "duration": 52,
    "start_time": "2022-08-29T10:47:17.458Z"
   },
   {
    "duration": 3,
    "start_time": "2022-08-29T10:47:17.511Z"
   },
   {
    "duration": 43,
    "start_time": "2022-08-29T10:47:17.516Z"
   },
   {
    "duration": 9,
    "start_time": "2022-08-29T10:47:17.561Z"
   },
   {
    "duration": 43,
    "start_time": "2022-08-29T10:47:17.571Z"
   },
   {
    "duration": 23,
    "start_time": "2022-08-29T10:47:17.616Z"
   },
   {
    "duration": 10,
    "start_time": "2022-08-29T10:47:17.640Z"
   },
   {
    "duration": 4,
    "start_time": "2022-08-29T10:47:17.651Z"
   },
   {
    "duration": 263,
    "start_time": "2022-08-29T10:47:17.656Z"
   },
   {
    "duration": 272,
    "start_time": "2022-08-29T10:47:17.920Z"
   },
   {
    "duration": 276,
    "start_time": "2022-08-29T10:47:18.193Z"
   },
   {
    "duration": 229,
    "start_time": "2022-08-29T10:47:18.470Z"
   },
   {
    "duration": 228,
    "start_time": "2022-08-29T10:47:18.701Z"
   },
   {
    "duration": 216,
    "start_time": "2022-08-29T10:47:18.930Z"
   },
   {
    "duration": 456,
    "start_time": "2022-08-29T10:47:19.147Z"
   },
   {
    "duration": 12,
    "start_time": "2022-08-29T10:47:19.604Z"
   },
   {
    "duration": 27,
    "start_time": "2022-08-29T10:48:07.402Z"
   },
   {
    "duration": 20,
    "start_time": "2022-08-29T10:49:04.585Z"
   },
   {
    "duration": 15,
    "start_time": "2022-08-29T10:51:22.866Z"
   },
   {
    "duration": 51,
    "start_time": "2022-08-29T10:52:04.467Z"
   },
   {
    "duration": 17,
    "start_time": "2022-08-29T10:52:06.704Z"
   },
   {
    "duration": 908,
    "start_time": "2022-08-29T10:52:54.392Z"
   },
   {
    "duration": 3,
    "start_time": "2022-08-29T10:52:55.301Z"
   },
   {
    "duration": 28,
    "start_time": "2022-08-29T10:52:55.305Z"
   },
   {
    "duration": 35,
    "start_time": "2022-08-29T10:52:55.334Z"
   },
   {
    "duration": 38,
    "start_time": "2022-08-29T10:52:55.371Z"
   },
   {
    "duration": 27,
    "start_time": "2022-08-29T10:52:55.410Z"
   },
   {
    "duration": 16,
    "start_time": "2022-08-29T10:52:55.439Z"
   },
   {
    "duration": 17,
    "start_time": "2022-08-29T10:52:55.456Z"
   },
   {
    "duration": 16,
    "start_time": "2022-08-29T10:52:55.497Z"
   },
   {
    "duration": 16,
    "start_time": "2022-08-29T10:52:55.514Z"
   },
   {
    "duration": 7,
    "start_time": "2022-08-29T10:52:55.532Z"
   },
   {
    "duration": 21,
    "start_time": "2022-08-29T10:52:55.540Z"
   },
   {
    "duration": 43,
    "start_time": "2022-08-29T10:52:55.562Z"
   },
   {
    "duration": 21,
    "start_time": "2022-08-29T10:52:55.608Z"
   },
   {
    "duration": 6,
    "start_time": "2022-08-29T10:52:55.631Z"
   },
   {
    "duration": 24,
    "start_time": "2022-08-29T10:52:55.639Z"
   },
   {
    "duration": 70,
    "start_time": "2022-08-29T10:52:55.665Z"
   },
   {
    "duration": 44,
    "start_time": "2022-08-29T10:52:55.737Z"
   },
   {
    "duration": 56,
    "start_time": "2022-08-29T10:52:55.783Z"
   },
   {
    "duration": 809,
    "start_time": "2022-08-29T10:52:55.841Z"
   },
   {
    "duration": 0,
    "start_time": "2022-08-29T10:52:56.652Z"
   },
   {
    "duration": 0,
    "start_time": "2022-08-29T10:52:56.653Z"
   },
   {
    "duration": 0,
    "start_time": "2022-08-29T10:52:56.654Z"
   },
   {
    "duration": 0,
    "start_time": "2022-08-29T10:52:56.655Z"
   },
   {
    "duration": 0,
    "start_time": "2022-08-29T10:52:56.655Z"
   },
   {
    "duration": 0,
    "start_time": "2022-08-29T10:52:56.656Z"
   },
   {
    "duration": 0,
    "start_time": "2022-08-29T10:52:56.657Z"
   },
   {
    "duration": 0,
    "start_time": "2022-08-29T10:52:56.658Z"
   },
   {
    "duration": 0,
    "start_time": "2022-08-29T10:52:56.659Z"
   },
   {
    "duration": 0,
    "start_time": "2022-08-29T10:52:56.659Z"
   },
   {
    "duration": 0,
    "start_time": "2022-08-29T10:52:56.660Z"
   },
   {
    "duration": 0,
    "start_time": "2022-08-29T10:52:56.661Z"
   },
   {
    "duration": 0,
    "start_time": "2022-08-29T10:52:56.662Z"
   },
   {
    "duration": 0,
    "start_time": "2022-08-29T10:52:56.663Z"
   },
   {
    "duration": 0,
    "start_time": "2022-08-29T10:52:56.663Z"
   },
   {
    "duration": 0,
    "start_time": "2022-08-29T10:52:56.664Z"
   },
   {
    "duration": 0,
    "start_time": "2022-08-29T10:52:56.665Z"
   },
   {
    "duration": 18,
    "start_time": "2022-08-29T10:53:15.273Z"
   },
   {
    "duration": 286,
    "start_time": "2022-08-29T10:53:18.006Z"
   },
   {
    "duration": 3,
    "start_time": "2022-08-29T10:53:18.294Z"
   },
   {
    "duration": 25,
    "start_time": "2022-08-29T10:53:18.299Z"
   },
   {
    "duration": 36,
    "start_time": "2022-08-29T10:53:18.326Z"
   },
   {
    "duration": 39,
    "start_time": "2022-08-29T10:53:18.365Z"
   },
   {
    "duration": 29,
    "start_time": "2022-08-29T10:53:18.406Z"
   },
   {
    "duration": 19,
    "start_time": "2022-08-29T10:53:18.436Z"
   },
   {
    "duration": 44,
    "start_time": "2022-08-29T10:53:18.456Z"
   },
   {
    "duration": 17,
    "start_time": "2022-08-29T10:53:18.502Z"
   },
   {
    "duration": 16,
    "start_time": "2022-08-29T10:53:18.520Z"
   },
   {
    "duration": 8,
    "start_time": "2022-08-29T10:53:18.537Z"
   },
   {
    "duration": 23,
    "start_time": "2022-08-29T10:53:18.546Z"
   },
   {
    "duration": 18,
    "start_time": "2022-08-29T10:53:18.598Z"
   },
   {
    "duration": 20,
    "start_time": "2022-08-29T10:53:18.619Z"
   },
   {
    "duration": 7,
    "start_time": "2022-08-29T10:53:18.640Z"
   },
   {
    "duration": 28,
    "start_time": "2022-08-29T10:53:18.649Z"
   },
   {
    "duration": 44,
    "start_time": "2022-08-29T10:53:18.697Z"
   },
   {
    "duration": 43,
    "start_time": "2022-08-29T10:53:18.743Z"
   },
   {
    "duration": 43,
    "start_time": "2022-08-29T10:53:18.801Z"
   },
   {
    "duration": 1446,
    "start_time": "2022-08-29T10:53:18.845Z"
   },
   {
    "duration": 0,
    "start_time": "2022-08-29T10:53:20.293Z"
   },
   {
    "duration": 0,
    "start_time": "2022-08-29T10:53:20.294Z"
   },
   {
    "duration": 0,
    "start_time": "2022-08-29T10:53:20.295Z"
   },
   {
    "duration": 0,
    "start_time": "2022-08-29T10:53:20.296Z"
   },
   {
    "duration": 0,
    "start_time": "2022-08-29T10:53:20.298Z"
   },
   {
    "duration": 0,
    "start_time": "2022-08-29T10:53:20.298Z"
   },
   {
    "duration": 0,
    "start_time": "2022-08-29T10:53:20.299Z"
   },
   {
    "duration": 0,
    "start_time": "2022-08-29T10:53:20.300Z"
   },
   {
    "duration": 0,
    "start_time": "2022-08-29T10:53:20.302Z"
   },
   {
    "duration": 0,
    "start_time": "2022-08-29T10:53:20.304Z"
   },
   {
    "duration": 0,
    "start_time": "2022-08-29T10:53:20.305Z"
   },
   {
    "duration": 0,
    "start_time": "2022-08-29T10:53:20.305Z"
   },
   {
    "duration": 0,
    "start_time": "2022-08-29T10:53:20.306Z"
   },
   {
    "duration": 0,
    "start_time": "2022-08-29T10:53:20.307Z"
   },
   {
    "duration": 0,
    "start_time": "2022-08-29T10:53:20.307Z"
   },
   {
    "duration": 0,
    "start_time": "2022-08-29T10:53:20.309Z"
   },
   {
    "duration": 15,
    "start_time": "2022-08-29T10:53:27.260Z"
   },
   {
    "duration": 1129,
    "start_time": "2022-08-29T10:53:47.018Z"
   },
   {
    "duration": 722,
    "start_time": "2022-08-29T10:54:21.082Z"
   },
   {
    "duration": 45,
    "start_time": "2022-08-29T10:54:30.186Z"
   },
   {
    "duration": 49,
    "start_time": "2022-08-29T10:54:37.356Z"
   },
   {
    "duration": 17,
    "start_time": "2022-08-29T10:54:42.438Z"
   },
   {
    "duration": 17,
    "start_time": "2022-08-29T10:54:47.162Z"
   },
   {
    "duration": 3,
    "start_time": "2022-08-29T10:54:53.025Z"
   },
   {
    "duration": 41,
    "start_time": "2022-08-29T10:54:53.829Z"
   },
   {
    "duration": 22,
    "start_time": "2022-08-29T10:54:58.234Z"
   },
   {
    "duration": 40,
    "start_time": "2022-08-29T10:55:16.190Z"
   },
   {
    "duration": 16,
    "start_time": "2022-08-29T10:55:17.848Z"
   },
   {
    "duration": 39,
    "start_time": "2022-08-29T10:55:20.887Z"
   },
   {
    "duration": 16,
    "start_time": "2022-08-29T10:55:21.847Z"
   },
   {
    "duration": 38,
    "start_time": "2022-08-29T10:55:31.133Z"
   },
   {
    "duration": 25,
    "start_time": "2022-08-29T10:55:33.015Z"
   },
   {
    "duration": 947,
    "start_time": "2022-08-29T10:56:04.612Z"
   },
   {
    "duration": 3,
    "start_time": "2022-08-29T10:56:05.561Z"
   },
   {
    "duration": 29,
    "start_time": "2022-08-29T10:56:05.566Z"
   },
   {
    "duration": 39,
    "start_time": "2022-08-29T10:56:05.597Z"
   },
   {
    "duration": 20,
    "start_time": "2022-08-29T10:56:05.639Z"
   },
   {
    "duration": 45,
    "start_time": "2022-08-29T10:56:05.661Z"
   },
   {
    "duration": 17,
    "start_time": "2022-08-29T10:56:05.707Z"
   },
   {
    "duration": 17,
    "start_time": "2022-08-29T10:56:05.726Z"
   },
   {
    "duration": 15,
    "start_time": "2022-08-29T10:56:05.745Z"
   },
   {
    "duration": 47,
    "start_time": "2022-08-29T10:56:05.762Z"
   },
   {
    "duration": 8,
    "start_time": "2022-08-29T10:56:05.810Z"
   },
   {
    "duration": 27,
    "start_time": "2022-08-29T10:56:05.820Z"
   },
   {
    "duration": 19,
    "start_time": "2022-08-29T10:56:05.849Z"
   },
   {
    "duration": 45,
    "start_time": "2022-08-29T10:56:05.871Z"
   },
   {
    "duration": 8,
    "start_time": "2022-08-29T10:56:05.918Z"
   },
   {
    "duration": 38,
    "start_time": "2022-08-29T10:56:05.928Z"
   },
   {
    "duration": 30,
    "start_time": "2022-08-29T10:56:05.968Z"
   },
   {
    "duration": 55,
    "start_time": "2022-08-29T10:56:06.001Z"
   },
   {
    "duration": 17,
    "start_time": "2022-08-29T10:56:06.058Z"
   },
   {
    "duration": 14,
    "start_time": "2022-08-29T10:56:06.098Z"
   },
   {
    "duration": 35,
    "start_time": "2022-08-29T10:56:06.114Z"
   },
   {
    "duration": 25,
    "start_time": "2022-08-29T10:56:06.150Z"
   },
   {
    "duration": 26,
    "start_time": "2022-08-29T10:56:06.177Z"
   },
   {
    "duration": 5,
    "start_time": "2022-08-29T10:56:06.204Z"
   },
   {
    "duration": 243,
    "start_time": "2022-08-29T10:56:06.210Z"
   },
   {
    "duration": 240,
    "start_time": "2022-08-29T10:56:06.455Z"
   },
   {
    "duration": 272,
    "start_time": "2022-08-29T10:56:06.698Z"
   },
   {
    "duration": 234,
    "start_time": "2022-08-29T10:56:06.972Z"
   },
   {
    "duration": 235,
    "start_time": "2022-08-29T10:56:07.208Z"
   },
   {
    "duration": 210,
    "start_time": "2022-08-29T10:56:07.445Z"
   },
   {
    "duration": 487,
    "start_time": "2022-08-29T10:56:07.657Z"
   },
   {
    "duration": 12,
    "start_time": "2022-08-29T10:56:08.146Z"
   }
  ],
  "kernelspec": {
   "display_name": "Python 3 (ipykernel)",
   "language": "python",
   "name": "python3"
  },
  "language_info": {
   "codemirror_mode": {
    "name": "ipython",
    "version": 3
   },
   "file_extension": ".py",
   "mimetype": "text/x-python",
   "name": "python",
   "nbconvert_exporter": "python",
   "pygments_lexer": "ipython3",
   "version": "3.9.5"
  },
  "toc": {
   "base_numbering": 1,
   "nav_menu": {},
   "number_sections": true,
   "sideBar": true,
   "skip_h1_title": true,
   "title_cell": "Table of Contents",
   "title_sidebar": "Contents",
   "toc_cell": false,
   "toc_position": {},
   "toc_section_display": true,
   "toc_window_display": false
  }
 },
 "nbformat": 4,
 "nbformat_minor": 2
}
