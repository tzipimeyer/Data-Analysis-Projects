{
 "cells": [
  {
   "cell_type": "markdown",
   "metadata": {},
   "source": [
    "# Project Description\n",
    "\n",
    "You work at a startup that sells food products. You need to investigate user behavior for the company's app.\n",
    "\n",
    "First study the sales funnel. Find out how users reach the purchase stage. How many users actually make it to this stage? How many get stuck at previous stages? Which stages in particular?\n",
    "\n",
    "Then look at the results of an A/A/B test. (Read on for more information about A/A/B testing.) The designers would like to change the fonts for the entire app, but the managers are afraid the users might find the new design intimidating. They decide to make a decision based on the results of an A/A/B test.\n",
    "\n",
    "The users are split into three groups: two control groups get the old fonts and one test group gets the new ones. Find out which set of fonts produces better results.\n",
    "\n",
    "Creating two A groups has certain advantages. We can make it a principle that we will only be confident in the accuracy of our testing when the two control groups are similar. If there are significant differences between the A groups, this can help us uncover factors that may be distorting the results. Comparing control groups also tells us how much time and data we'll need when running further tests.\n",
    "\n",
    "You'll be using the same dataset for general analytics and for A/A/B analysis. In real projects, experiments are constantly being conducted. Analysts study the quality of an app using general data, without paying attention to whether users are participating in experiments."
   ]
  },
  {
   "cell_type": "markdown",
   "metadata": {},
   "source": [
    "### Step - Open the data file and read the general information"
   ]
  },
  {
   "cell_type": "code",
   "execution_count": 1,
   "metadata": {},
   "outputs": [],
   "source": [
    "import pandas as pd\n",
    "import matplotlib.pyplot as plt\n",
    "import seaborn as sns\n",
    "import datetime\n",
    "import time\n",
    "from scipy import stats as st\n",
    "import numpy as np\n",
    "import math as mth\n"
   ]
  },
  {
   "cell_type": "code",
   "execution_count": 2,
   "metadata": {},
   "outputs": [],
   "source": [
    "try:\n",
    "    data = pd.read_csv('/datasets/logs_exp_us.csv', sep = '\\t')\n",
    "except:\n",
    "    data = pd.read_csv('logs_exp_us.csv', sep='\\t')"
   ]
  },
  {
   "cell_type": "code",
   "execution_count": 3,
   "metadata": {},
   "outputs": [
    {
     "data": {
      "text/html": [
       "<div>\n",
       "<style scoped>\n",
       "    .dataframe tbody tr th:only-of-type {\n",
       "        vertical-align: middle;\n",
       "    }\n",
       "\n",
       "    .dataframe tbody tr th {\n",
       "        vertical-align: top;\n",
       "    }\n",
       "\n",
       "    .dataframe thead th {\n",
       "        text-align: right;\n",
       "    }\n",
       "</style>\n",
       "<table border=\"1\" class=\"dataframe\">\n",
       "  <thead>\n",
       "    <tr style=\"text-align: right;\">\n",
       "      <th></th>\n",
       "      <th>EventName</th>\n",
       "      <th>DeviceIDHash</th>\n",
       "      <th>EventTimestamp</th>\n",
       "      <th>ExpId</th>\n",
       "    </tr>\n",
       "  </thead>\n",
       "  <tbody>\n",
       "    <tr>\n",
       "      <th>0</th>\n",
       "      <td>MainScreenAppear</td>\n",
       "      <td>4575588528974610257</td>\n",
       "      <td>1564029816</td>\n",
       "      <td>246</td>\n",
       "    </tr>\n",
       "    <tr>\n",
       "      <th>1</th>\n",
       "      <td>MainScreenAppear</td>\n",
       "      <td>7416695313311560658</td>\n",
       "      <td>1564053102</td>\n",
       "      <td>246</td>\n",
       "    </tr>\n",
       "    <tr>\n",
       "      <th>2</th>\n",
       "      <td>PaymentScreenSuccessful</td>\n",
       "      <td>3518123091307005509</td>\n",
       "      <td>1564054127</td>\n",
       "      <td>248</td>\n",
       "    </tr>\n",
       "    <tr>\n",
       "      <th>3</th>\n",
       "      <td>CartScreenAppear</td>\n",
       "      <td>3518123091307005509</td>\n",
       "      <td>1564054127</td>\n",
       "      <td>248</td>\n",
       "    </tr>\n",
       "    <tr>\n",
       "      <th>4</th>\n",
       "      <td>PaymentScreenSuccessful</td>\n",
       "      <td>6217807653094995999</td>\n",
       "      <td>1564055322</td>\n",
       "      <td>248</td>\n",
       "    </tr>\n",
       "  </tbody>\n",
       "</table>\n",
       "</div>"
      ],
      "text/plain": [
       "                 EventName         DeviceIDHash  EventTimestamp  ExpId\n",
       "0         MainScreenAppear  4575588528974610257      1564029816    246\n",
       "1         MainScreenAppear  7416695313311560658      1564053102    246\n",
       "2  PaymentScreenSuccessful  3518123091307005509      1564054127    248\n",
       "3         CartScreenAppear  3518123091307005509      1564054127    248\n",
       "4  PaymentScreenSuccessful  6217807653094995999      1564055322    248"
      ]
     },
     "execution_count": 3,
     "metadata": {},
     "output_type": "execute_result"
    }
   ],
   "source": [
    "data.head()"
   ]
  },
  {
   "cell_type": "code",
   "execution_count": 4,
   "metadata": {},
   "outputs": [
    {
     "name": "stdout",
     "output_type": "stream",
     "text": [
      "<class 'pandas.core.frame.DataFrame'>\n",
      "RangeIndex: 244126 entries, 0 to 244125\n",
      "Data columns (total 4 columns):\n",
      " #   Column          Non-Null Count   Dtype \n",
      "---  ------          --------------   ----- \n",
      " 0   EventName       244126 non-null  object\n",
      " 1   DeviceIDHash    244126 non-null  int64 \n",
      " 2   EventTimestamp  244126 non-null  int64 \n",
      " 3   ExpId           244126 non-null  int64 \n",
      "dtypes: int64(3), object(1)\n",
      "memory usage: 7.5+ MB\n"
     ]
    }
   ],
   "source": [
    "data.info()"
   ]
  },
  {
   "cell_type": "markdown",
   "metadata": {},
   "source": [
    "**The data seems complete at this stage, there are no missing values. The EventTimestamp column shows the clear need to convert this into date format.**"
   ]
  },
  {
   "cell_type": "markdown",
   "metadata": {},
   "source": [
    "### Step - Prepare the data for analysis\n",
    "- Rename the columns in a way that's convenient for you\n",
    "- Check for missing values and data types. Correct the data if needed\n",
    "- Add a date and time column and a separate column for dates"
   ]
  },
  {
   "cell_type": "code",
   "execution_count": 5,
   "metadata": {},
   "outputs": [],
   "source": [
    "# Renaming columns \n",
    "\n",
    "data = data.rename(columns={'EventName': 'event_name', 'DeviceIDHash': 'user_id', 'EventTimestamp': 'event_datetime', 'ExpId': 'exp_id'})\n"
   ]
  },
  {
   "cell_type": "code",
   "execution_count": 6,
   "metadata": {
    "scrolled": true
   },
   "outputs": [
    {
     "data": {
      "text/plain": [
       "413"
      ]
     },
     "execution_count": 6,
     "metadata": {},
     "output_type": "execute_result"
    }
   ],
   "source": [
    "data.duplicated().sum()"
   ]
  },
  {
   "cell_type": "code",
   "execution_count": 7,
   "metadata": {},
   "outputs": [
    {
     "data": {
      "text/plain": [
       "0.16917493425526162"
      ]
     },
     "execution_count": 7,
     "metadata": {},
     "output_type": "execute_result"
    }
   ],
   "source": [
    "(data.duplicated().sum()/len(data))*100"
   ]
  },
  {
   "cell_type": "markdown",
   "metadata": {},
   "source": [
    "**Only .16% of data is duplicated, seems like the right step is to drop these rows.**"
   ]
  },
  {
   "cell_type": "code",
   "execution_count": 8,
   "metadata": {
    "scrolled": true
   },
   "outputs": [],
   "source": [
    "# Dropping duplicates\n",
    "\n",
    "data.drop_duplicates(inplace=True)"
   ]
  },
  {
   "cell_type": "code",
   "execution_count": 9,
   "metadata": {},
   "outputs": [
    {
     "name": "stdout",
     "output_type": "stream",
     "text": [
      "<class 'pandas.core.frame.DataFrame'>\n",
      "Int64Index: 243713 entries, 0 to 244125\n",
      "Data columns (total 4 columns):\n",
      " #   Column          Non-Null Count   Dtype \n",
      "---  ------          --------------   ----- \n",
      " 0   event_name      243713 non-null  object\n",
      " 1   user_id         243713 non-null  int64 \n",
      " 2   event_datetime  243713 non-null  int64 \n",
      " 3   exp_id          243713 non-null  int64 \n",
      "dtypes: int64(3), object(1)\n",
      "memory usage: 9.3+ MB\n"
     ]
    }
   ],
   "source": [
    "data.info()"
   ]
  },
  {
   "cell_type": "code",
   "execution_count": 10,
   "metadata": {
    "scrolled": true
   },
   "outputs": [
    {
     "data": {
      "text/html": [
       "<div>\n",
       "<style scoped>\n",
       "    .dataframe tbody tr th:only-of-type {\n",
       "        vertical-align: middle;\n",
       "    }\n",
       "\n",
       "    .dataframe tbody tr th {\n",
       "        vertical-align: top;\n",
       "    }\n",
       "\n",
       "    .dataframe thead th {\n",
       "        text-align: right;\n",
       "    }\n",
       "</style>\n",
       "<table border=\"1\" class=\"dataframe\">\n",
       "  <thead>\n",
       "    <tr style=\"text-align: right;\">\n",
       "      <th></th>\n",
       "      <th>user_id</th>\n",
       "      <th>exp_id</th>\n",
       "    </tr>\n",
       "  </thead>\n",
       "  <tbody>\n",
       "  </tbody>\n",
       "</table>\n",
       "</div>"
      ],
      "text/plain": [
       "Empty DataFrame\n",
       "Columns: [user_id, exp_id]\n",
       "Index: []"
      ]
     },
     "execution_count": 10,
     "metadata": {},
     "output_type": "execute_result"
    }
   ],
   "source": [
    "# Checking if there are users who went to more (or less) than 1 group\n",
    "\n",
    "repeated_groups = data.groupby('user_id')['exp_id'].nunique().reset_index()\n",
    "repeated_groups[repeated_groups['exp_id']!=1]"
   ]
  },
  {
   "cell_type": "code",
   "execution_count": 11,
   "metadata": {},
   "outputs": [],
   "source": [
    "# Add a date and time column and a separate column for dates\n",
    "\n",
    "data['event_datetime'] = pd.to_datetime(data['event_datetime'], unit='s')\n",
    "data['event_date'] = data['event_datetime'].dt.date\n",
    "data['event_time'] = data['event_datetime'].dt.time"
   ]
  },
  {
   "cell_type": "code",
   "execution_count": 12,
   "metadata": {},
   "outputs": [
    {
     "data": {
      "text/html": [
       "<div>\n",
       "<style scoped>\n",
       "    .dataframe tbody tr th:only-of-type {\n",
       "        vertical-align: middle;\n",
       "    }\n",
       "\n",
       "    .dataframe tbody tr th {\n",
       "        vertical-align: top;\n",
       "    }\n",
       "\n",
       "    .dataframe thead th {\n",
       "        text-align: right;\n",
       "    }\n",
       "</style>\n",
       "<table border=\"1\" class=\"dataframe\">\n",
       "  <thead>\n",
       "    <tr style=\"text-align: right;\">\n",
       "      <th></th>\n",
       "      <th>event_name</th>\n",
       "      <th>user_id</th>\n",
       "      <th>event_datetime</th>\n",
       "      <th>exp_id</th>\n",
       "      <th>event_date</th>\n",
       "      <th>event_time</th>\n",
       "    </tr>\n",
       "  </thead>\n",
       "  <tbody>\n",
       "    <tr>\n",
       "      <th>0</th>\n",
       "      <td>MainScreenAppear</td>\n",
       "      <td>4575588528974610257</td>\n",
       "      <td>2019-07-25 04:43:36</td>\n",
       "      <td>246</td>\n",
       "      <td>2019-07-25</td>\n",
       "      <td>04:43:36</td>\n",
       "    </tr>\n",
       "    <tr>\n",
       "      <th>1</th>\n",
       "      <td>MainScreenAppear</td>\n",
       "      <td>7416695313311560658</td>\n",
       "      <td>2019-07-25 11:11:42</td>\n",
       "      <td>246</td>\n",
       "      <td>2019-07-25</td>\n",
       "      <td>11:11:42</td>\n",
       "    </tr>\n",
       "    <tr>\n",
       "      <th>2</th>\n",
       "      <td>PaymentScreenSuccessful</td>\n",
       "      <td>3518123091307005509</td>\n",
       "      <td>2019-07-25 11:28:47</td>\n",
       "      <td>248</td>\n",
       "      <td>2019-07-25</td>\n",
       "      <td>11:28:47</td>\n",
       "    </tr>\n",
       "    <tr>\n",
       "      <th>3</th>\n",
       "      <td>CartScreenAppear</td>\n",
       "      <td>3518123091307005509</td>\n",
       "      <td>2019-07-25 11:28:47</td>\n",
       "      <td>248</td>\n",
       "      <td>2019-07-25</td>\n",
       "      <td>11:28:47</td>\n",
       "    </tr>\n",
       "    <tr>\n",
       "      <th>4</th>\n",
       "      <td>PaymentScreenSuccessful</td>\n",
       "      <td>6217807653094995999</td>\n",
       "      <td>2019-07-25 11:48:42</td>\n",
       "      <td>248</td>\n",
       "      <td>2019-07-25</td>\n",
       "      <td>11:48:42</td>\n",
       "    </tr>\n",
       "  </tbody>\n",
       "</table>\n",
       "</div>"
      ],
      "text/plain": [
       "                event_name              user_id      event_datetime  exp_id  \\\n",
       "0         MainScreenAppear  4575588528974610257 2019-07-25 04:43:36     246   \n",
       "1         MainScreenAppear  7416695313311560658 2019-07-25 11:11:42     246   \n",
       "2  PaymentScreenSuccessful  3518123091307005509 2019-07-25 11:28:47     248   \n",
       "3         CartScreenAppear  3518123091307005509 2019-07-25 11:28:47     248   \n",
       "4  PaymentScreenSuccessful  6217807653094995999 2019-07-25 11:48:42     248   \n",
       "\n",
       "   event_date event_time  \n",
       "0  2019-07-25   04:43:36  \n",
       "1  2019-07-25   11:11:42  \n",
       "2  2019-07-25   11:28:47  \n",
       "3  2019-07-25   11:28:47  \n",
       "4  2019-07-25   11:48:42  "
      ]
     },
     "execution_count": 12,
     "metadata": {},
     "output_type": "execute_result"
    }
   ],
   "source": [
    "data.head()"
   ]
  },
  {
   "cell_type": "code",
   "execution_count": 13,
   "metadata": {},
   "outputs": [
    {
     "data": {
      "text/plain": [
       "event_name        0\n",
       "user_id           0\n",
       "event_datetime    0\n",
       "exp_id            0\n",
       "event_date        0\n",
       "event_time        0\n",
       "dtype: int64"
      ]
     },
     "execution_count": 13,
     "metadata": {},
     "output_type": "execute_result"
    }
   ],
   "source": [
    "# Checking for missing values\n",
    "\n",
    "data.isna().sum()"
   ]
  },
  {
   "cell_type": "markdown",
   "metadata": {},
   "source": [
    "- **No missing values were found in the data**\n",
    "- **The EventTimestamp column was converted into date format.**\n",
    "- **.16% of data was duplicated and we dropped these rows.**\n",
    "- **There were no unique uid's that showed going into more than 1 group, which is good news**"
   ]
  },
  {
   "cell_type": "markdown",
   "metadata": {},
   "source": [
    "### Step - Study and check the data\n",
    "- How many events are in the logs?\n",
    "- How many users are in the logs?\n",
    "- What's the average number of events per user?\n",
    "- What period of time does the data cover? Find the maximum and the minimum date. Plot a histogram by date and time. Can you be sure that you have equally complete data for the entire period? Older events could end up in some users' logs for technical reasons, and this could skew the overall picture. Find the moment at which the data starts to be complete and ignore the earlier section. What period does the data actually represent?\n",
    "- Did you lose many events and users when excluding the older data?\n",
    "- Make sure you have users from all three experimental groups.\n"
   ]
  },
  {
   "cell_type": "code",
   "execution_count": 14,
   "metadata": {},
   "outputs": [
    {
     "name": "stdout",
     "output_type": "stream",
     "text": [
      "<class 'pandas.core.frame.DataFrame'>\n",
      "Int64Index: 243713 entries, 0 to 244125\n",
      "Data columns (total 6 columns):\n",
      " #   Column          Non-Null Count   Dtype         \n",
      "---  ------          --------------   -----         \n",
      " 0   event_name      243713 non-null  object        \n",
      " 1   user_id         243713 non-null  int64         \n",
      " 2   event_datetime  243713 non-null  datetime64[ns]\n",
      " 3   exp_id          243713 non-null  int64         \n",
      " 4   event_date      243713 non-null  object        \n",
      " 5   event_time      243713 non-null  object        \n",
      "dtypes: datetime64[ns](1), int64(2), object(3)\n",
      "memory usage: 13.0+ MB\n"
     ]
    }
   ],
   "source": [
    "data.info()"
   ]
  },
  {
   "cell_type": "code",
   "execution_count": 15,
   "metadata": {},
   "outputs": [
    {
     "data": {
      "text/plain": [
       "243713"
      ]
     },
     "execution_count": 15,
     "metadata": {},
     "output_type": "execute_result"
    }
   ],
   "source": [
    "# How many events are in the logs?\n",
    "\n",
    "data['event_name'].count()"
   ]
  },
  {
   "cell_type": "code",
   "execution_count": 16,
   "metadata": {},
   "outputs": [
    {
     "data": {
      "text/plain": [
       "event_name\n",
       "CartScreenAppear           1\n",
       "MainScreenAppear           1\n",
       "OffersScreenAppear         1\n",
       "PaymentScreenSuccessful    1\n",
       "Tutorial                   1\n",
       "Name: event_name, dtype: int64"
      ]
     },
     "execution_count": 16,
     "metadata": {},
     "output_type": "execute_result"
    }
   ],
   "source": [
    "data.groupby('event_name')['event_name'].nunique()"
   ]
  },
  {
   "cell_type": "markdown",
   "metadata": {},
   "source": [
    "**There are 5 unique events, and 243713 separate ones**"
   ]
  },
  {
   "cell_type": "code",
   "execution_count": 17,
   "metadata": {},
   "outputs": [
    {
     "data": {
      "text/plain": [
       "7551"
      ]
     },
     "execution_count": 17,
     "metadata": {},
     "output_type": "execute_result"
    }
   ],
   "source": [
    "#How many users are in the logs?\n",
    "\n",
    "data['user_id'].nunique()"
   ]
  },
  {
   "cell_type": "markdown",
   "metadata": {},
   "source": [
    "**There are 7551 unique users in the data**"
   ]
  },
  {
   "cell_type": "code",
   "execution_count": 18,
   "metadata": {},
   "outputs": [
    {
     "data": {
      "text/plain": [
       "32.27559263673685"
      ]
     },
     "execution_count": 18,
     "metadata": {},
     "output_type": "execute_result"
    }
   ],
   "source": [
    "# What's the average number of events per user?\n",
    "\n",
    "data.groupby('user_id')['event_name'].count().mean()"
   ]
  },
  {
   "cell_type": "code",
   "execution_count": 19,
   "metadata": {},
   "outputs": [
    {
     "data": {
      "text/html": [
       "<div>\n",
       "<style scoped>\n",
       "    .dataframe tbody tr th:only-of-type {\n",
       "        vertical-align: middle;\n",
       "    }\n",
       "\n",
       "    .dataframe tbody tr th {\n",
       "        vertical-align: top;\n",
       "    }\n",
       "\n",
       "    .dataframe thead th {\n",
       "        text-align: right;\n",
       "    }\n",
       "</style>\n",
       "<table border=\"1\" class=\"dataframe\">\n",
       "  <thead>\n",
       "    <tr style=\"text-align: right;\">\n",
       "      <th></th>\n",
       "      <th>user_id</th>\n",
       "      <th>number_of_events</th>\n",
       "    </tr>\n",
       "  </thead>\n",
       "  <tbody>\n",
       "    <tr>\n",
       "      <th>count</th>\n",
       "      <td>7551.0</td>\n",
       "      <td>7551.000000</td>\n",
       "    </tr>\n",
       "    <tr>\n",
       "      <th>mean</th>\n",
       "      <td>1.0</td>\n",
       "      <td>32.275593</td>\n",
       "    </tr>\n",
       "    <tr>\n",
       "      <th>std</th>\n",
       "      <td>0.0</td>\n",
       "      <td>65.154219</td>\n",
       "    </tr>\n",
       "    <tr>\n",
       "      <th>min</th>\n",
       "      <td>1.0</td>\n",
       "      <td>1.000000</td>\n",
       "    </tr>\n",
       "    <tr>\n",
       "      <th>25%</th>\n",
       "      <td>1.0</td>\n",
       "      <td>9.000000</td>\n",
       "    </tr>\n",
       "    <tr>\n",
       "      <th>50%</th>\n",
       "      <td>1.0</td>\n",
       "      <td>20.000000</td>\n",
       "    </tr>\n",
       "    <tr>\n",
       "      <th>75%</th>\n",
       "      <td>1.0</td>\n",
       "      <td>37.000000</td>\n",
       "    </tr>\n",
       "    <tr>\n",
       "      <th>max</th>\n",
       "      <td>1.0</td>\n",
       "      <td>2307.000000</td>\n",
       "    </tr>\n",
       "  </tbody>\n",
       "</table>\n",
       "</div>"
      ],
      "text/plain": [
       "       user_id  number_of_events\n",
       "count   7551.0       7551.000000\n",
       "mean       1.0         32.275593\n",
       "std        0.0         65.154219\n",
       "min        1.0          1.000000\n",
       "25%        1.0          9.000000\n",
       "50%        1.0         20.000000\n",
       "75%        1.0         37.000000\n",
       "max        1.0       2307.000000"
      ]
     },
     "execution_count": 19,
     "metadata": {},
     "output_type": "execute_result"
    }
   ],
   "source": [
    "unique_users = data.groupby('user_id').nunique()\n",
    "unique_users = unique_users['exp_id']\n",
    "unique_users = unique_users.to_frame().reset_index()\n",
    "\n",
    "\n",
    "events_per_user = data.groupby('user_id')['event_name'].count()\n",
    "events_per_user = events_per_user.to_frame().reset_index()\n",
    "\n",
    "events_per_user = unique_users.merge(events_per_user, on='user_id')\n",
    "events_per_user = events_per_user.drop('user_id', axis=1)\n",
    "events_per_user.columns = ['user_id', 'number_of_events']\n",
    "events_per_user.describe()"
   ]
  },
  {
   "cell_type": "code",
   "execution_count": 20,
   "metadata": {},
   "outputs": [
    {
     "data": {
      "image/png": "[encoded data removed]",
      "text/plain": [
       "<Figure size 1080x504 with 1 Axes>"
      ]
     },
     "metadata": {
      "needs_background": "light"
     },
     "output_type": "display_data"
    }
   ],
   "source": [
    "plt.figure(figsize=(15,7))\n",
    "events_per_user['number_of_events'].hist(range=(0,200),bins=25, grid=False)\n",
    "plt.title(\"Number of Events per User\")\n",
    "plt.xlabel(\"Number of Users\")\n",
    "plt.ylabel(\"Number of Events\")\n",
    "plt.show()"
   ]
  },
  {
   "cell_type": "markdown",
   "metadata": {},
   "source": [
    "- **The maximum number of events per user is 2307, but this can clearly be considered an outlier.** \n",
    "- **The average number of events per user is around 30, while anything above around 100 can be considered an outlier**"
   ]
  },
  {
   "cell_type": "code",
   "execution_count": 21,
   "metadata": {},
   "outputs": [
    {
     "data": {
      "text/plain": [
       "datetime.date(2019, 7, 25)"
      ]
     },
     "execution_count": 21,
     "metadata": {},
     "output_type": "execute_result"
    }
   ],
   "source": [
    "# What period of time does the data cover? Find the maximum and the minimum date. \n",
    "\n",
    "data['event_date'].min()"
   ]
  },
  {
   "cell_type": "code",
   "execution_count": 22,
   "metadata": {},
   "outputs": [
    {
     "data": {
      "text/plain": [
       "datetime.date(2019, 8, 7)"
      ]
     },
     "execution_count": 22,
     "metadata": {},
     "output_type": "execute_result"
    }
   ],
   "source": [
    "data['event_date'].max()"
   ]
  },
  {
   "cell_type": "code",
   "execution_count": 23,
   "metadata": {},
   "outputs": [
    {
     "data": {
      "text/plain": [
       "14"
      ]
     },
     "execution_count": 23,
     "metadata": {},
     "output_type": "execute_result"
    }
   ],
   "source": [
    "events_per_date = data['event_date'].value_counts()\n",
    "len(events_per_date)"
   ]
  },
  {
   "cell_type": "markdown",
   "metadata": {},
   "source": [
    "**There are 14 days covered in the data**"
   ]
  },
  {
   "cell_type": "code",
   "execution_count": 24,
   "metadata": {},
   "outputs": [
    {
     "data": {
      "text/html": [
       "<div>\n",
       "<style scoped>\n",
       "    .dataframe tbody tr th:only-of-type {\n",
       "        vertical-align: middle;\n",
       "    }\n",
       "\n",
       "    .dataframe tbody tr th {\n",
       "        vertical-align: top;\n",
       "    }\n",
       "\n",
       "    .dataframe thead th {\n",
       "        text-align: right;\n",
       "    }\n",
       "</style>\n",
       "<table border=\"1\" class=\"dataframe\">\n",
       "  <thead>\n",
       "    <tr style=\"text-align: right;\">\n",
       "      <th>event_name</th>\n",
       "      <th>CartScreenAppear</th>\n",
       "      <th>MainScreenAppear</th>\n",
       "      <th>OffersScreenAppear</th>\n",
       "      <th>PaymentScreenSuccessful</th>\n",
       "      <th>Tutorial</th>\n",
       "    </tr>\n",
       "    <tr>\n",
       "      <th>event_date</th>\n",
       "      <th></th>\n",
       "      <th></th>\n",
       "      <th></th>\n",
       "      <th></th>\n",
       "      <th></th>\n",
       "    </tr>\n",
       "  </thead>\n",
       "  <tbody>\n",
       "    <tr>\n",
       "      <th>2019-07-25</th>\n",
       "      <td>2.0</td>\n",
       "      <td>4.0</td>\n",
       "      <td>1.0</td>\n",
       "      <td>2.0</td>\n",
       "      <td>NaN</td>\n",
       "    </tr>\n",
       "    <tr>\n",
       "      <th>2019-07-26</th>\n",
       "      <td>6.0</td>\n",
       "      <td>15.0</td>\n",
       "      <td>3.0</td>\n",
       "      <td>3.0</td>\n",
       "      <td>1.0</td>\n",
       "    </tr>\n",
       "    <tr>\n",
       "      <th>2019-07-27</th>\n",
       "      <td>4.0</td>\n",
       "      <td>30.0</td>\n",
       "      <td>9.0</td>\n",
       "      <td>1.0</td>\n",
       "      <td>2.0</td>\n",
       "    </tr>\n",
       "    <tr>\n",
       "      <th>2019-07-28</th>\n",
       "      <td>19.0</td>\n",
       "      <td>42.0</td>\n",
       "      <td>12.0</td>\n",
       "      <td>12.0</td>\n",
       "      <td>NaN</td>\n",
       "    </tr>\n",
       "    <tr>\n",
       "      <th>2019-07-29</th>\n",
       "      <td>19.0</td>\n",
       "      <td>108.0</td>\n",
       "      <td>16.0</td>\n",
       "      <td>9.0</td>\n",
       "      <td>NaN</td>\n",
       "    </tr>\n",
       "    <tr>\n",
       "      <th>2019-07-30</th>\n",
       "      <td>45.0</td>\n",
       "      <td>214.0</td>\n",
       "      <td>49.0</td>\n",
       "      <td>32.0</td>\n",
       "      <td>NaN</td>\n",
       "    </tr>\n",
       "    <tr>\n",
       "      <th>2019-07-31</th>\n",
       "      <td>193.0</td>\n",
       "      <td>649.0</td>\n",
       "      <td>238.0</td>\n",
       "      <td>118.0</td>\n",
       "      <td>8.0</td>\n",
       "    </tr>\n",
       "    <tr>\n",
       "      <th>2019-08-01</th>\n",
       "      <td>1510.0</td>\n",
       "      <td>3545.0</td>\n",
       "      <td>2050.0</td>\n",
       "      <td>1372.0</td>\n",
       "      <td>155.0</td>\n",
       "    </tr>\n",
       "    <tr>\n",
       "      <th>2019-08-02</th>\n",
       "      <td>1525.0</td>\n",
       "      <td>3485.0</td>\n",
       "      <td>2070.0</td>\n",
       "      <td>1394.0</td>\n",
       "      <td>145.0</td>\n",
       "    </tr>\n",
       "    <tr>\n",
       "      <th>2019-08-03</th>\n",
       "      <td>1505.0</td>\n",
       "      <td>3301.0</td>\n",
       "      <td>2072.0</td>\n",
       "      <td>1413.0</td>\n",
       "      <td>143.0</td>\n",
       "    </tr>\n",
       "    <tr>\n",
       "      <th>2019-08-04</th>\n",
       "      <td>1517.0</td>\n",
       "      <td>3354.0</td>\n",
       "      <td>2085.0</td>\n",
       "      <td>1424.0</td>\n",
       "      <td>130.0</td>\n",
       "    </tr>\n",
       "    <tr>\n",
       "      <th>2019-08-05</th>\n",
       "      <td>1547.0</td>\n",
       "      <td>3608.0</td>\n",
       "      <td>2151.0</td>\n",
       "      <td>1447.0</td>\n",
       "      <td>99.0</td>\n",
       "    </tr>\n",
       "    <tr>\n",
       "      <th>2019-08-06</th>\n",
       "      <td>1528.0</td>\n",
       "      <td>3766.0</td>\n",
       "      <td>2167.0</td>\n",
       "      <td>1454.0</td>\n",
       "      <td>118.0</td>\n",
       "    </tr>\n",
       "    <tr>\n",
       "      <th>2019-08-07</th>\n",
       "      <td>1434.0</td>\n",
       "      <td>3482.0</td>\n",
       "      <td>2062.0</td>\n",
       "      <td>1361.0</td>\n",
       "      <td>69.0</td>\n",
       "    </tr>\n",
       "  </tbody>\n",
       "</table>\n",
       "</div>"
      ],
      "text/plain": [
       "event_name  CartScreenAppear  MainScreenAppear  OffersScreenAppear  \\\n",
       "event_date                                                           \n",
       "2019-07-25               2.0               4.0                 1.0   \n",
       "2019-07-26               6.0              15.0                 3.0   \n",
       "2019-07-27               4.0              30.0                 9.0   \n",
       "2019-07-28              19.0              42.0                12.0   \n",
       "2019-07-29              19.0             108.0                16.0   \n",
       "2019-07-30              45.0             214.0                49.0   \n",
       "2019-07-31             193.0             649.0               238.0   \n",
       "2019-08-01            1510.0            3545.0              2050.0   \n",
       "2019-08-02            1525.0            3485.0              2070.0   \n",
       "2019-08-03            1505.0            3301.0              2072.0   \n",
       "2019-08-04            1517.0            3354.0              2085.0   \n",
       "2019-08-05            1547.0            3608.0              2151.0   \n",
       "2019-08-06            1528.0            3766.0              2167.0   \n",
       "2019-08-07            1434.0            3482.0              2062.0   \n",
       "\n",
       "event_name  PaymentScreenSuccessful  Tutorial  \n",
       "event_date                                     \n",
       "2019-07-25                      2.0       NaN  \n",
       "2019-07-26                      3.0       1.0  \n",
       "2019-07-27                      1.0       2.0  \n",
       "2019-07-28                     12.0       NaN  \n",
       "2019-07-29                      9.0       NaN  \n",
       "2019-07-30                     32.0       NaN  \n",
       "2019-07-31                    118.0       8.0  \n",
       "2019-08-01                   1372.0     155.0  \n",
       "2019-08-02                   1394.0     145.0  \n",
       "2019-08-03                   1413.0     143.0  \n",
       "2019-08-04                   1424.0     130.0  \n",
       "2019-08-05                   1447.0      99.0  \n",
       "2019-08-06                   1454.0     118.0  \n",
       "2019-08-07                   1361.0      69.0  "
      ]
     },
     "execution_count": 24,
     "metadata": {},
     "output_type": "execute_result"
    }
   ],
   "source": [
    "# Plot a histogram by date and time. Can you be sure that you have equally complete data for the entire period? \n",
    "\n",
    "data.pivot_table(index='event_date', columns='event_name',values='user_id', aggfunc='nunique')"
   ]
  },
  {
   "cell_type": "code",
   "execution_count": 25,
   "metadata": {},
   "outputs": [
    {
     "data": {
      "image/png": "[encoded data removed]",
      "text/plain": [
       "<Figure size 1080x360 with 1 Axes>"
      ]
     },
     "metadata": {
      "needs_background": "light"
     },
     "output_type": "display_data"
    }
   ],
   "source": [
    "plt.figure(figsize=(15,5))\n",
    "ax = sns.histplot(data=data['event_date'],bins=14).set(title='Data per Date')\n",
    "plt.xlabel(\"Date\")\n",
    "plt.ylabel(\"Amount of Data\")\n",
    "plt.show()"
   ]
  },
  {
   "cell_type": "markdown",
   "metadata": {},
   "source": [
    "**Seems that the data starts being complete from 2019-08-01, since on previous dates there are too few entries.**"
   ]
  },
  {
   "cell_type": "code",
   "execution_count": 26,
   "metadata": {},
   "outputs": [],
   "source": [
    "# Older events could end up in some users' logs for technical reasons, and this could skew the overall picture. \n",
    "# Find the moment at which the data starts to be complete and ignore the earlier section. \n",
    "# What period does the data actually represent?"
   ]
  },
  {
   "cell_type": "code",
   "execution_count": 27,
   "metadata": {},
   "outputs": [
    {
     "data": {
      "text/plain": [
       "7551"
      ]
     },
     "execution_count": 27,
     "metadata": {},
     "output_type": "execute_result"
    }
   ],
   "source": [
    "data['user_id'].nunique()"
   ]
  },
  {
   "cell_type": "code",
   "execution_count": 28,
   "metadata": {},
   "outputs": [
    {
     "data": {
      "text/plain": [
       "1451"
      ]
     },
     "execution_count": 28,
     "metadata": {},
     "output_type": "execute_result"
    }
   ],
   "source": [
    "# Checking the amount of unique users that belong to dates previous to 2019-08-01, to see if we can drop them entirely\n",
    "\n",
    "doto = data\n",
    "doto['event_date'] = pd.to_datetime(doto['event_date'])\n",
    "doto = doto[doto['event_date'] < '2019-08-01']\n",
    "\n",
    "doto['user_id'].nunique()"
   ]
  },
  {
   "cell_type": "markdown",
   "metadata": {},
   "source": [
    "**There are 1451 unique users that participated in the experiment on dates previous to 2019-08-01, which is about 20% of all unique users. To ensure reliability of the experiment, I will drop all users from problematic dates from the data.**"
   ]
  },
  {
   "cell_type": "code",
   "execution_count": 29,
   "metadata": {},
   "outputs": [
    {
     "data": {
      "text/plain": [
       "0       4575588528974610257\n",
       "1       7416695313311560658\n",
       "2       3518123091307005509\n",
       "3       3518123091307005509\n",
       "4       6217807653094995999\n",
       "               ...         \n",
       "2823    2413191300976302222\n",
       "2824    5505110279185484837\n",
       "2825    5505110279185484837\n",
       "2826    5505110279185484837\n",
       "2827    2413191300976302222\n",
       "Name: user_id, Length: 2826, dtype: int64"
      ]
     },
     "execution_count": 29,
     "metadata": {},
     "output_type": "execute_result"
    }
   ],
   "source": [
    "# Creating a list of user_id's from users who participated in incomplete dates, prior to 2019-08-01\n",
    "\n",
    "problematic_ids = doto['user_id']\n",
    "problematic_ids"
   ]
  },
  {
   "cell_type": "code",
   "execution_count": 30,
   "metadata": {},
   "outputs": [
    {
     "data": {
      "text/plain": [
       "60057"
      ]
     },
     "execution_count": 30,
     "metadata": {},
     "output_type": "execute_result"
    }
   ],
   "source": [
    "# Calculating number of rows with user_id's from users who participated in incomplete dates\n",
    "\n",
    "len(data[data['user_id'].isin(problematic_ids)])"
   ]
  },
  {
   "cell_type": "code",
   "execution_count": 31,
   "metadata": {},
   "outputs": [],
   "source": [
    "# Dropping all data from users who participated in problematic dates previous to 2019-08-01\n",
    "\n",
    "data = data[~data['user_id'].isin(problematic_ids)]"
   ]
  },
  {
   "cell_type": "code",
   "execution_count": 32,
   "metadata": {},
   "outputs": [
    {
     "data": {
      "text/plain": [
       "Timestamp('2019-08-01 00:00:00')"
      ]
     },
     "execution_count": 32,
     "metadata": {},
     "output_type": "execute_result"
    }
   ],
   "source": [
    "# Checking the new min date from clean data\n",
    "\n",
    "data['event_date'].min()"
   ]
  },
  {
   "cell_type": "code",
   "execution_count": 33,
   "metadata": {},
   "outputs": [
    {
     "name": "stdout",
     "output_type": "stream",
     "text": [
      "<class 'pandas.core.frame.DataFrame'>\n",
      "Int64Index: 183656 entries, 2828 to 244125\n",
      "Data columns (total 6 columns):\n",
      " #   Column          Non-Null Count   Dtype         \n",
      "---  ------          --------------   -----         \n",
      " 0   event_name      183656 non-null  object        \n",
      " 1   user_id         183656 non-null  int64         \n",
      " 2   event_datetime  183656 non-null  datetime64[ns]\n",
      " 3   exp_id          183656 non-null  int64         \n",
      " 4   event_date      183656 non-null  datetime64[ns]\n",
      " 5   event_time      183656 non-null  object        \n",
      "dtypes: datetime64[ns](2), int64(2), object(2)\n",
      "memory usage: 9.8+ MB\n"
     ]
    }
   ],
   "source": [
    "data.info()"
   ]
  },
  {
   "cell_type": "markdown",
   "metadata": {},
   "source": [
    "**After removing 60057 rows the user_id's from dates previous to 2019-08-01, we are left with 183656 rows**"
   ]
  },
  {
   "cell_type": "code",
   "execution_count": 34,
   "metadata": {},
   "outputs": [
    {
     "data": {
      "text/html": [
       "<div>\n",
       "<style scoped>\n",
       "    .dataframe tbody tr th:only-of-type {\n",
       "        vertical-align: middle;\n",
       "    }\n",
       "\n",
       "    .dataframe tbody tr th {\n",
       "        vertical-align: top;\n",
       "    }\n",
       "\n",
       "    .dataframe thead th {\n",
       "        text-align: right;\n",
       "    }\n",
       "</style>\n",
       "<table border=\"1\" class=\"dataframe\">\n",
       "  <thead>\n",
       "    <tr style=\"text-align: right;\">\n",
       "      <th></th>\n",
       "      <th>event_date</th>\n",
       "      <th>count</th>\n",
       "    </tr>\n",
       "  </thead>\n",
       "  <tbody>\n",
       "    <tr>\n",
       "      <th>3</th>\n",
       "      <td>2019-08-01</td>\n",
       "      <td>26370</td>\n",
       "    </tr>\n",
       "    <tr>\n",
       "      <th>1</th>\n",
       "      <td>2019-08-02</td>\n",
       "      <td>27251</td>\n",
       "    </tr>\n",
       "    <tr>\n",
       "      <th>5</th>\n",
       "      <td>2019-08-03</td>\n",
       "      <td>25277</td>\n",
       "    </tr>\n",
       "    <tr>\n",
       "      <th>4</th>\n",
       "      <td>2019-08-04</td>\n",
       "      <td>25519</td>\n",
       "    </tr>\n",
       "    <tr>\n",
       "      <th>2</th>\n",
       "      <td>2019-08-05</td>\n",
       "      <td>27089</td>\n",
       "    </tr>\n",
       "    <tr>\n",
       "      <th>0</th>\n",
       "      <td>2019-08-06</td>\n",
       "      <td>27742</td>\n",
       "    </tr>\n",
       "    <tr>\n",
       "      <th>6</th>\n",
       "      <td>2019-08-07</td>\n",
       "      <td>24408</td>\n",
       "    </tr>\n",
       "  </tbody>\n",
       "</table>\n",
       "</div>"
      ],
      "text/plain": [
       "  event_date  count\n",
       "3 2019-08-01  26370\n",
       "1 2019-08-02  27251\n",
       "5 2019-08-03  25277\n",
       "4 2019-08-04  25519\n",
       "2 2019-08-05  27089\n",
       "0 2019-08-06  27742\n",
       "6 2019-08-07  24408"
      ]
     },
     "execution_count": 34,
     "metadata": {},
     "output_type": "execute_result"
    }
   ],
   "source": [
    "time_period = data['event_date'].value_counts().rename_axis('event_date').reset_index(name='count').sort_values(by='event_date')\n",
    "time_period\n"
   ]
  },
  {
   "cell_type": "markdown",
   "metadata": {},
   "source": [
    "**After dropping all rows from user_ids from dates previous to 2019-08-01, the new set of data represents entries from 2019-08-01 - 2019-08-07**"
   ]
  },
  {
   "cell_type": "code",
   "execution_count": 35,
   "metadata": {},
   "outputs": [
    {
     "data": {
      "text/plain": [
       "exp_id\n",
       "246    2030\n",
       "247    2036\n",
       "248    2034\n",
       "Name: user_id, dtype: int64"
      ]
     },
     "execution_count": 35,
     "metadata": {},
     "output_type": "execute_result"
    }
   ],
   "source": [
    "# Make sure you have users from all three experimental groups.\n",
    "\n",
    "data.groupby('exp_id')['user_id'].nunique()"
   ]
  },
  {
   "cell_type": "markdown",
   "metadata": {},
   "source": [
    "### Step - Study the event funnel\n",
    "\n",
    "- See what events are in the logs and their frequency of occurrence. Sort them by frequency.\n",
    "- Find the number of users who performed each of these actions. Sort the events by the number of users. Calculate the proportion of users who performed the action at least once.\n",
    "- In what order do you think the actions took place. Are all of them part of a single sequence? You don't need to take them into account when calculating the funnel.\n",
    "- Use the event funnel to find the share of users that proceed from each stage to the next. (For instance, for the sequence of events A → B → C, calculate the ratio of users at stage B to the number of users at stage A and the ratio of users at stage C to the number at stage B.)\n",
    "- At what stage do you lose the most users?\n",
    "- What share of users make the entire journey from their first event to payment?\n",
    "\n"
   ]
  },
  {
   "cell_type": "code",
   "execution_count": 36,
   "metadata": {},
   "outputs": [
    {
     "data": {
      "text/html": [
       "<div>\n",
       "<style scoped>\n",
       "    .dataframe tbody tr th:only-of-type {\n",
       "        vertical-align: middle;\n",
       "    }\n",
       "\n",
       "    .dataframe tbody tr th {\n",
       "        vertical-align: top;\n",
       "    }\n",
       "\n",
       "    .dataframe thead th {\n",
       "        text-align: right;\n",
       "    }\n",
       "</style>\n",
       "<table border=\"1\" class=\"dataframe\">\n",
       "  <thead>\n",
       "    <tr style=\"text-align: right;\">\n",
       "      <th></th>\n",
       "      <th>event_name</th>\n",
       "      <th>user_id</th>\n",
       "    </tr>\n",
       "  </thead>\n",
       "  <tbody>\n",
       "    <tr>\n",
       "      <th>1</th>\n",
       "      <td>MainScreenAppear</td>\n",
       "      <td>88829</td>\n",
       "    </tr>\n",
       "    <tr>\n",
       "      <th>2</th>\n",
       "      <td>OffersScreenAppear</td>\n",
       "      <td>35950</td>\n",
       "    </tr>\n",
       "    <tr>\n",
       "      <th>0</th>\n",
       "      <td>CartScreenAppear</td>\n",
       "      <td>32265</td>\n",
       "    </tr>\n",
       "    <tr>\n",
       "      <th>3</th>\n",
       "      <td>PaymentScreenSuccessful</td>\n",
       "      <td>25621</td>\n",
       "    </tr>\n",
       "    <tr>\n",
       "      <th>4</th>\n",
       "      <td>Tutorial</td>\n",
       "      <td>991</td>\n",
       "    </tr>\n",
       "  </tbody>\n",
       "</table>\n",
       "</div>"
      ],
      "text/plain": [
       "                event_name  user_id\n",
       "1         MainScreenAppear    88829\n",
       "2       OffersScreenAppear    35950\n",
       "0         CartScreenAppear    32265\n",
       "3  PaymentScreenSuccessful    25621\n",
       "4                 Tutorial      991"
      ]
     },
     "execution_count": 36,
     "metadata": {},
     "output_type": "execute_result"
    }
   ],
   "source": [
    "# See what events are in the logs and their frequency of occurrence. Sort them by frequency.\n",
    "\n",
    "event_frequency = data.groupby('event_name')['user_id'].count().reset_index().sort_values(by='user_id',ascending=False)\n",
    "event_frequency "
   ]
  },
  {
   "cell_type": "code",
   "execution_count": 37,
   "metadata": {},
   "outputs": [
    {
     "data": {
      "text/html": [
       "<div>\n",
       "<style scoped>\n",
       "    .dataframe tbody tr th:only-of-type {\n",
       "        vertical-align: middle;\n",
       "    }\n",
       "\n",
       "    .dataframe tbody tr th {\n",
       "        vertical-align: top;\n",
       "    }\n",
       "\n",
       "    .dataframe thead th {\n",
       "        text-align: right;\n",
       "    }\n",
       "</style>\n",
       "<table border=\"1\" class=\"dataframe\">\n",
       "  <thead>\n",
       "    <tr style=\"text-align: right;\">\n",
       "      <th></th>\n",
       "      <th>event_name</th>\n",
       "      <th>users_count</th>\n",
       "    </tr>\n",
       "  </thead>\n",
       "  <tbody>\n",
       "    <tr>\n",
       "      <th>0</th>\n",
       "      <td>MainScreenAppear</td>\n",
       "      <td>6017</td>\n",
       "    </tr>\n",
       "    <tr>\n",
       "      <th>1</th>\n",
       "      <td>OffersScreenAppear</td>\n",
       "      <td>3739</td>\n",
       "    </tr>\n",
       "    <tr>\n",
       "      <th>2</th>\n",
       "      <td>CartScreenAppear</td>\n",
       "      <td>3014</td>\n",
       "    </tr>\n",
       "    <tr>\n",
       "      <th>3</th>\n",
       "      <td>PaymentScreenSuccessful</td>\n",
       "      <td>2852</td>\n",
       "    </tr>\n",
       "    <tr>\n",
       "      <th>4</th>\n",
       "      <td>Tutorial</td>\n",
       "      <td>829</td>\n",
       "    </tr>\n",
       "  </tbody>\n",
       "</table>\n",
       "</div>"
      ],
      "text/plain": [
       "                event_name  users_count\n",
       "0         MainScreenAppear         6017\n",
       "1       OffersScreenAppear         3739\n",
       "2         CartScreenAppear         3014\n",
       "3  PaymentScreenSuccessful         2852\n",
       "4                 Tutorial          829"
      ]
     },
     "execution_count": 37,
     "metadata": {},
     "output_type": "execute_result"
    }
   ],
   "source": [
    "# Find the number of users who performed each of these actions. Sort the events by the number of users. \n",
    "\n",
    "sales_funnel = data.groupby('event_name')['user_id'].nunique().reset_index().sort_values(by='user_id',ascending=False).reset_index(drop=True) \n",
    "sales_funnel.columns = ['event_name', 'users_count']\n",
    "sales_funnel\n"
   ]
  },
  {
   "cell_type": "code",
   "execution_count": 38,
   "metadata": {},
   "outputs": [
    {
     "data": {
      "text/plain": [
       "6100"
      ]
     },
     "execution_count": 38,
     "metadata": {},
     "output_type": "execute_result"
    }
   ],
   "source": [
    "# Calculate the proportion of users who performed the action at least once.\n",
    "\n",
    "total_unique = data['user_id'].nunique()\n",
    "total_unique"
   ]
  },
  {
   "cell_type": "code",
   "execution_count": 39,
   "metadata": {},
   "outputs": [
    {
     "data": {
      "text/html": [
       "<div>\n",
       "<style scoped>\n",
       "    .dataframe tbody tr th:only-of-type {\n",
       "        vertical-align: middle;\n",
       "    }\n",
       "\n",
       "    .dataframe tbody tr th {\n",
       "        vertical-align: top;\n",
       "    }\n",
       "\n",
       "    .dataframe thead th {\n",
       "        text-align: right;\n",
       "    }\n",
       "</style>\n",
       "<table border=\"1\" class=\"dataframe\">\n",
       "  <thead>\n",
       "    <tr style=\"text-align: right;\">\n",
       "      <th></th>\n",
       "      <th>event_name</th>\n",
       "      <th>users_count</th>\n",
       "      <th>proportion_of_users</th>\n",
       "    </tr>\n",
       "  </thead>\n",
       "  <tbody>\n",
       "    <tr>\n",
       "      <th>0</th>\n",
       "      <td>MainScreenAppear</td>\n",
       "      <td>6017</td>\n",
       "      <td>98.64</td>\n",
       "    </tr>\n",
       "    <tr>\n",
       "      <th>1</th>\n",
       "      <td>OffersScreenAppear</td>\n",
       "      <td>3739</td>\n",
       "      <td>61.30</td>\n",
       "    </tr>\n",
       "    <tr>\n",
       "      <th>2</th>\n",
       "      <td>CartScreenAppear</td>\n",
       "      <td>3014</td>\n",
       "      <td>49.41</td>\n",
       "    </tr>\n",
       "    <tr>\n",
       "      <th>3</th>\n",
       "      <td>PaymentScreenSuccessful</td>\n",
       "      <td>2852</td>\n",
       "      <td>46.75</td>\n",
       "    </tr>\n",
       "    <tr>\n",
       "      <th>4</th>\n",
       "      <td>Tutorial</td>\n",
       "      <td>829</td>\n",
       "      <td>13.59</td>\n",
       "    </tr>\n",
       "  </tbody>\n",
       "</table>\n",
       "</div>"
      ],
      "text/plain": [
       "                event_name  users_count  proportion_of_users\n",
       "0         MainScreenAppear         6017                98.64\n",
       "1       OffersScreenAppear         3739                61.30\n",
       "2         CartScreenAppear         3014                49.41\n",
       "3  PaymentScreenSuccessful         2852                46.75\n",
       "4                 Tutorial          829                13.59"
      ]
     },
     "execution_count": 39,
     "metadata": {},
     "output_type": "execute_result"
    }
   ],
   "source": [
    "sales_funnel['proportion_of_users'] = ((sales_funnel['users_count']/total_unique)*100).round(2)\n",
    "sales_funnel"
   ]
  },
  {
   "cell_type": "code",
   "execution_count": 40,
   "metadata": {},
   "outputs": [
    {
     "data": {
      "text/html": [
       "<div>\n",
       "<style scoped>\n",
       "    .dataframe tbody tr th:only-of-type {\n",
       "        vertical-align: middle;\n",
       "    }\n",
       "\n",
       "    .dataframe tbody tr th {\n",
       "        vertical-align: top;\n",
       "    }\n",
       "\n",
       "    .dataframe thead th {\n",
       "        text-align: right;\n",
       "    }\n",
       "</style>\n",
       "<table border=\"1\" class=\"dataframe\">\n",
       "  <thead>\n",
       "    <tr style=\"text-align: right;\">\n",
       "      <th></th>\n",
       "      <th>event_name</th>\n",
       "      <th>users_count</th>\n",
       "    </tr>\n",
       "  </thead>\n",
       "  <tbody>\n",
       "    <tr>\n",
       "      <th>0</th>\n",
       "      <td>MainScreenAppear</td>\n",
       "      <td>6017</td>\n",
       "    </tr>\n",
       "    <tr>\n",
       "      <th>1</th>\n",
       "      <td>OffersScreenAppear</td>\n",
       "      <td>3739</td>\n",
       "    </tr>\n",
       "    <tr>\n",
       "      <th>2</th>\n",
       "      <td>CartScreenAppear</td>\n",
       "      <td>3014</td>\n",
       "    </tr>\n",
       "    <tr>\n",
       "      <th>3</th>\n",
       "      <td>PaymentScreenSuccessful</td>\n",
       "      <td>2852</td>\n",
       "    </tr>\n",
       "  </tbody>\n",
       "</table>\n",
       "</div>"
      ],
      "text/plain": [
       "                event_name  users_count\n",
       "0         MainScreenAppear         6017\n",
       "1       OffersScreenAppear         3739\n",
       "2         CartScreenAppear         3014\n",
       "3  PaymentScreenSuccessful         2852"
      ]
     },
     "execution_count": 40,
     "metadata": {},
     "output_type": "execute_result"
    }
   ],
   "source": [
    "# In what order do you think the actions took place. \n",
    "\n",
    "sales_sequence = data[data['event_name']!='Tutorial'].sort_values(by=['user_id', 'event_date', 'event_time'])\n",
    "\n",
    "sales_sequence = sales_sequence.groupby('event_name')['user_id'].nunique().reset_index().sort_values(by='user_id',ascending=False).reset_index(drop=True) \n",
    "sales_sequence.columns = ['event_name', 'users_count']\n",
    "sales_sequence\n"
   ]
  },
  {
   "cell_type": "markdown",
   "metadata": {},
   "source": [
    "**The most logical order of the sales sequence is:**\n",
    "\n",
    "    - MainScreenAppear\n",
    "    - OffersScreenAppear\n",
    "    - CartScreenAppear\n",
    "    - PaymentScreenSuccessful\n",
    "    \n",
    "**The Tutorial could be at any stage of the funnel, but since it's not necessarily part of the sales sequence, it was taken out of the sales funnel**\n",
    "    \n",
    "    \n",
    "    "
   ]
  },
  {
   "cell_type": "code",
   "execution_count": 41,
   "metadata": {},
   "outputs": [
    {
     "data": {
      "text/html": [
       "<div>\n",
       "<style scoped>\n",
       "    .dataframe tbody tr th:only-of-type {\n",
       "        vertical-align: middle;\n",
       "    }\n",
       "\n",
       "    .dataframe tbody tr th {\n",
       "        vertical-align: top;\n",
       "    }\n",
       "\n",
       "    .dataframe thead th {\n",
       "        text-align: right;\n",
       "    }\n",
       "</style>\n",
       "<table border=\"1\" class=\"dataframe\">\n",
       "  <thead>\n",
       "    <tr style=\"text-align: right;\">\n",
       "      <th></th>\n",
       "      <th>event_name</th>\n",
       "      <th>user_id</th>\n",
       "      <th>event_datetime</th>\n",
       "      <th>exp_id</th>\n",
       "      <th>event_date</th>\n",
       "      <th>event_time</th>\n",
       "    </tr>\n",
       "  </thead>\n",
       "  <tbody>\n",
       "    <tr>\n",
       "      <th>197263</th>\n",
       "      <td>MainScreenAppear</td>\n",
       "      <td>6888746892508752</td>\n",
       "      <td>2019-08-06 14:06:34</td>\n",
       "      <td>246</td>\n",
       "      <td>2019-08-06</td>\n",
       "      <td>14:06:34</td>\n",
       "    </tr>\n",
       "    <tr>\n",
       "      <th>209196</th>\n",
       "      <td>MainScreenAppear</td>\n",
       "      <td>6909561520679493</td>\n",
       "      <td>2019-08-06 18:52:54</td>\n",
       "      <td>247</td>\n",
       "      <td>2019-08-06</td>\n",
       "      <td>18:52:54</td>\n",
       "    </tr>\n",
       "    <tr>\n",
       "      <th>209199</th>\n",
       "      <td>PaymentScreenSuccessful</td>\n",
       "      <td>6909561520679493</td>\n",
       "      <td>2019-08-06 18:52:58</td>\n",
       "      <td>247</td>\n",
       "      <td>2019-08-06</td>\n",
       "      <td>18:52:58</td>\n",
       "    </tr>\n",
       "    <tr>\n",
       "      <th>209200</th>\n",
       "      <td>CartScreenAppear</td>\n",
       "      <td>6909561520679493</td>\n",
       "      <td>2019-08-06 18:52:58</td>\n",
       "      <td>247</td>\n",
       "      <td>2019-08-06</td>\n",
       "      <td>18:52:58</td>\n",
       "    </tr>\n",
       "    <tr>\n",
       "      <th>209201</th>\n",
       "      <td>MainScreenAppear</td>\n",
       "      <td>6909561520679493</td>\n",
       "      <td>2019-08-06 18:52:58</td>\n",
       "      <td>247</td>\n",
       "      <td>2019-08-06</td>\n",
       "      <td>18:52:58</td>\n",
       "    </tr>\n",
       "    <tr>\n",
       "      <th>...</th>\n",
       "      <td>...</td>\n",
       "      <td>...</td>\n",
       "      <td>...</td>\n",
       "      <td>...</td>\n",
       "      <td>...</td>\n",
       "      <td>...</td>\n",
       "    </tr>\n",
       "    <tr>\n",
       "      <th>221366</th>\n",
       "      <td>MainScreenAppear</td>\n",
       "      <td>9222603179720523844</td>\n",
       "      <td>2019-08-07 09:13:37</td>\n",
       "      <td>248</td>\n",
       "      <td>2019-08-07</td>\n",
       "      <td>09:13:37</td>\n",
       "    </tr>\n",
       "    <tr>\n",
       "      <th>221404</th>\n",
       "      <td>MainScreenAppear</td>\n",
       "      <td>9222603179720523844</td>\n",
       "      <td>2019-08-07 09:14:53</td>\n",
       "      <td>248</td>\n",
       "      <td>2019-08-07</td>\n",
       "      <td>09:14:53</td>\n",
       "    </tr>\n",
       "    <tr>\n",
       "      <th>221406</th>\n",
       "      <td>MainScreenAppear</td>\n",
       "      <td>9222603179720523844</td>\n",
       "      <td>2019-08-07 09:15:01</td>\n",
       "      <td>248</td>\n",
       "      <td>2019-08-07</td>\n",
       "      <td>09:15:01</td>\n",
       "    </tr>\n",
       "    <tr>\n",
       "      <th>221412</th>\n",
       "      <td>MainScreenAppear</td>\n",
       "      <td>9222603179720523844</td>\n",
       "      <td>2019-08-07 09:15:13</td>\n",
       "      <td>248</td>\n",
       "      <td>2019-08-07</td>\n",
       "      <td>09:15:13</td>\n",
       "    </tr>\n",
       "    <tr>\n",
       "      <th>221438</th>\n",
       "      <td>MainScreenAppear</td>\n",
       "      <td>9222603179720523844</td>\n",
       "      <td>2019-08-07 09:16:20</td>\n",
       "      <td>248</td>\n",
       "      <td>2019-08-07</td>\n",
       "      <td>09:16:20</td>\n",
       "    </tr>\n",
       "  </tbody>\n",
       "</table>\n",
       "<p>182665 rows × 6 columns</p>\n",
       "</div>"
      ],
      "text/plain": [
       "                     event_name              user_id      event_datetime  \\\n",
       "197263         MainScreenAppear     6888746892508752 2019-08-06 14:06:34   \n",
       "209196         MainScreenAppear     6909561520679493 2019-08-06 18:52:54   \n",
       "209199  PaymentScreenSuccessful     6909561520679493 2019-08-06 18:52:58   \n",
       "209200         CartScreenAppear     6909561520679493 2019-08-06 18:52:58   \n",
       "209201         MainScreenAppear     6909561520679493 2019-08-06 18:52:58   \n",
       "...                         ...                  ...                 ...   \n",
       "221366         MainScreenAppear  9222603179720523844 2019-08-07 09:13:37   \n",
       "221404         MainScreenAppear  9222603179720523844 2019-08-07 09:14:53   \n",
       "221406         MainScreenAppear  9222603179720523844 2019-08-07 09:15:01   \n",
       "221412         MainScreenAppear  9222603179720523844 2019-08-07 09:15:13   \n",
       "221438         MainScreenAppear  9222603179720523844 2019-08-07 09:16:20   \n",
       "\n",
       "        exp_id event_date event_time  \n",
       "197263     246 2019-08-06   14:06:34  \n",
       "209196     247 2019-08-06   18:52:54  \n",
       "209199     247 2019-08-06   18:52:58  \n",
       "209200     247 2019-08-06   18:52:58  \n",
       "209201     247 2019-08-06   18:52:58  \n",
       "...        ...        ...        ...  \n",
       "221366     248 2019-08-07   09:13:37  \n",
       "221404     248 2019-08-07   09:14:53  \n",
       "221406     248 2019-08-07   09:15:01  \n",
       "221412     248 2019-08-07   09:15:13  \n",
       "221438     248 2019-08-07   09:16:20  \n",
       "\n",
       "[182665 rows x 6 columns]"
      ]
     },
     "execution_count": 41,
     "metadata": {},
     "output_type": "execute_result"
    }
   ],
   "source": [
    "data_with_no_tutorial = data[data['event_name']!='Tutorial'].sort_values(by=['user_id', 'event_date', 'event_time'])\n",
    "data_with_no_tutorial"
   ]
  },
  {
   "cell_type": "code",
   "execution_count": 42,
   "metadata": {},
   "outputs": [],
   "source": [
    "def sequence(user):\n",
    "    sorted_user = data_with_no_tutorial[data_with_no_tutorial['user_id']==(user)].sort_values(by=['user_id','event_date', 'event_time'])\n",
    "    return sorted_user['event_name'].drop_duplicates().to_list()\n"
   ]
  },
  {
   "cell_type": "code",
   "execution_count": 43,
   "metadata": {},
   "outputs": [
    {
     "data": {
      "text/plain": [
       "['MainScreenAppear',\n",
       " 'PaymentScreenSuccessful',\n",
       " 'CartScreenAppear',\n",
       " 'OffersScreenAppear']"
      ]
     },
     "execution_count": 43,
     "metadata": {},
     "output_type": "execute_result"
    }
   ],
   "source": [
    "sequence(6909561520679493)"
   ]
  },
  {
   "cell_type": "code",
   "execution_count": 44,
   "metadata": {},
   "outputs": [],
   "source": [
    "sequence_empty = []\n",
    "for i in data_with_no_tutorial.user_id.unique():\n",
    "    sequence_empty.append([i,sequence(i)])"
   ]
  },
  {
   "cell_type": "code",
   "execution_count": 45,
   "metadata": {},
   "outputs": [
    {
     "data": {
      "text/html": [
       "<div>\n",
       "<style scoped>\n",
       "    .dataframe tbody tr th:only-of-type {\n",
       "        vertical-align: middle;\n",
       "    }\n",
       "\n",
       "    .dataframe tbody tr th {\n",
       "        vertical-align: top;\n",
       "    }\n",
       "\n",
       "    .dataframe thead th {\n",
       "        text-align: right;\n",
       "    }\n",
       "</style>\n",
       "<table border=\"1\" class=\"dataframe\">\n",
       "  <thead>\n",
       "    <tr style=\"text-align: right;\">\n",
       "      <th></th>\n",
       "      <th>user</th>\n",
       "      <th>path</th>\n",
       "    </tr>\n",
       "  </thead>\n",
       "  <tbody>\n",
       "    <tr>\n",
       "      <th>0</th>\n",
       "      <td>6888746892508752</td>\n",
       "      <td>[MainScreenAppear]</td>\n",
       "    </tr>\n",
       "    <tr>\n",
       "      <th>1</th>\n",
       "      <td>6909561520679493</td>\n",
       "      <td>[MainScreenAppear, PaymentScreenSuccessful, Ca...</td>\n",
       "    </tr>\n",
       "    <tr>\n",
       "      <th>2</th>\n",
       "      <td>6922444491712477</td>\n",
       "      <td>[MainScreenAppear, PaymentScreenSuccessful, Ca...</td>\n",
       "    </tr>\n",
       "    <tr>\n",
       "      <th>3</th>\n",
       "      <td>7435777799948366</td>\n",
       "      <td>[MainScreenAppear]</td>\n",
       "    </tr>\n",
       "    <tr>\n",
       "      <th>4</th>\n",
       "      <td>7702139951469979</td>\n",
       "      <td>[MainScreenAppear, OffersScreenAppear, CartScr...</td>\n",
       "    </tr>\n",
       "    <tr>\n",
       "      <th>...</th>\n",
       "      <td>...</td>\n",
       "      <td>...</td>\n",
       "    </tr>\n",
       "    <tr>\n",
       "      <th>6091</th>\n",
       "      <td>9216094175241772920</td>\n",
       "      <td>[MainScreenAppear]</td>\n",
       "    </tr>\n",
       "    <tr>\n",
       "      <th>6092</th>\n",
       "      <td>9217594193087726423</td>\n",
       "      <td>[PaymentScreenSuccessful, CartScreenAppear, Of...</td>\n",
       "    </tr>\n",
       "    <tr>\n",
       "      <th>6093</th>\n",
       "      <td>9219463515465815368</td>\n",
       "      <td>[MainScreenAppear, OffersScreenAppear, CartScr...</td>\n",
       "    </tr>\n",
       "    <tr>\n",
       "      <th>6094</th>\n",
       "      <td>9221926045299980007</td>\n",
       "      <td>[MainScreenAppear]</td>\n",
       "    </tr>\n",
       "    <tr>\n",
       "      <th>6095</th>\n",
       "      <td>9222603179720523844</td>\n",
       "      <td>[MainScreenAppear]</td>\n",
       "    </tr>\n",
       "  </tbody>\n",
       "</table>\n",
       "<p>6096 rows × 2 columns</p>\n",
       "</div>"
      ],
      "text/plain": [
       "                     user                                               path\n",
       "0        6888746892508752                                 [MainScreenAppear]\n",
       "1        6909561520679493  [MainScreenAppear, PaymentScreenSuccessful, Ca...\n",
       "2        6922444491712477  [MainScreenAppear, PaymentScreenSuccessful, Ca...\n",
       "3        7435777799948366                                 [MainScreenAppear]\n",
       "4        7702139951469979  [MainScreenAppear, OffersScreenAppear, CartScr...\n",
       "...                   ...                                                ...\n",
       "6091  9216094175241772920                                 [MainScreenAppear]\n",
       "6092  9217594193087726423  [PaymentScreenSuccessful, CartScreenAppear, Of...\n",
       "6093  9219463515465815368  [MainScreenAppear, OffersScreenAppear, CartScr...\n",
       "6094  9221926045299980007                                 [MainScreenAppear]\n",
       "6095  9222603179720523844                                 [MainScreenAppear]\n",
       "\n",
       "[6096 rows x 2 columns]"
      ]
     },
     "execution_count": 45,
     "metadata": {},
     "output_type": "execute_result"
    }
   ],
   "source": [
    "path_data = pd.DataFrame(sequence_empty, columns=['user', 'path'])\n",
    "path_data"
   ]
  },
  {
   "cell_type": "code",
   "execution_count": 46,
   "metadata": {},
   "outputs": [
    {
     "data": {
      "text/plain": [
       "(MainScreenAppear,)                                                                  2315\n",
       "(MainScreenAppear, OffersScreenAppear, CartScreenAppear, PaymentScreenSuccessful)     745\n",
       "(MainScreenAppear, OffersScreenAppear)                                                733\n",
       "(MainScreenAppear, OffersScreenAppear, PaymentScreenSuccessful, CartScreenAppear)     604\n",
       "(MainScreenAppear, PaymentScreenSuccessful, CartScreenAppear, OffersScreenAppear)     545\n",
       "Name: path, dtype: int64"
      ]
     },
     "execution_count": 46,
     "metadata": {},
     "output_type": "execute_result"
    }
   ],
   "source": [
    "(path_data['path'].map(tuple)).value_counts().head()"
   ]
  },
  {
   "cell_type": "markdown",
   "metadata": {},
   "source": [
    "**It seems that just was we though so, the following order of events is the most common one:**\n",
    "\n",
    "- MainScreenAppear\n",
    "- OffersScreenAppear\n",
    "- CartScreenAppear\n",
    "- PaymentScreenSuccessful**"
   ]
  },
  {
   "cell_type": "code",
   "execution_count": 47,
   "metadata": {},
   "outputs": [
    {
     "data": {
      "text/html": [
       "<div>\n",
       "<style scoped>\n",
       "    .dataframe tbody tr th:only-of-type {\n",
       "        vertical-align: middle;\n",
       "    }\n",
       "\n",
       "    .dataframe tbody tr th {\n",
       "        vertical-align: top;\n",
       "    }\n",
       "\n",
       "    .dataframe thead th {\n",
       "        text-align: right;\n",
       "    }\n",
       "</style>\n",
       "<table border=\"1\" class=\"dataframe\">\n",
       "  <thead>\n",
       "    <tr style=\"text-align: right;\">\n",
       "      <th></th>\n",
       "      <th>event_name</th>\n",
       "      <th>users_count</th>\n",
       "      <th>proportion_of_all_users</th>\n",
       "    </tr>\n",
       "  </thead>\n",
       "  <tbody>\n",
       "    <tr>\n",
       "      <th>0</th>\n",
       "      <td>MainScreenAppear</td>\n",
       "      <td>6017</td>\n",
       "      <td>98.64</td>\n",
       "    </tr>\n",
       "    <tr>\n",
       "      <th>1</th>\n",
       "      <td>OffersScreenAppear</td>\n",
       "      <td>3739</td>\n",
       "      <td>61.30</td>\n",
       "    </tr>\n",
       "    <tr>\n",
       "      <th>2</th>\n",
       "      <td>CartScreenAppear</td>\n",
       "      <td>3014</td>\n",
       "      <td>49.41</td>\n",
       "    </tr>\n",
       "    <tr>\n",
       "      <th>3</th>\n",
       "      <td>PaymentScreenSuccessful</td>\n",
       "      <td>2852</td>\n",
       "      <td>46.75</td>\n",
       "    </tr>\n",
       "  </tbody>\n",
       "</table>\n",
       "</div>"
      ],
      "text/plain": [
       "                event_name  users_count  proportion_of_all_users\n",
       "0         MainScreenAppear         6017                    98.64\n",
       "1       OffersScreenAppear         3739                    61.30\n",
       "2         CartScreenAppear         3014                    49.41\n",
       "3  PaymentScreenSuccessful         2852                    46.75"
      ]
     },
     "execution_count": 47,
     "metadata": {},
     "output_type": "execute_result"
    }
   ],
   "source": [
    "sales_sequence['proportion_of_all_users'] = ((sales_sequence['users_count']/total_unique)*100).round(2)\n",
    "sales_sequence"
   ]
  },
  {
   "cell_type": "code",
   "execution_count": 48,
   "metadata": {},
   "outputs": [
    {
     "data": {
      "image/png": "[encoded data removed]",
      "text/plain": [
       "<Figure size 1080x648 with 1 Axes>"
      ]
     },
     "metadata": {
      "needs_background": "light"
     },
     "output_type": "display_data"
    }
   ],
   "source": [
    "sales_sequence = sales_sequence.sort_values(by='users_count')\n",
    "\n",
    "x = sales_sequence['users_count'][0:4]\n",
    "y = sales_sequence['event_name'][0:4]\n",
    "plt.figure(figsize=(15,9))\n",
    "plt.title('Sales Funnel')\n",
    "plt.barh(y, x)\n",
    "plt.xlabel(\"Amount of Users\")\n",
    "plt.ylabel(\"Stage\")\n",
    "plt.show()"
   ]
  },
  {
   "cell_type": "code",
   "execution_count": 49,
   "metadata": {},
   "outputs": [
    {
     "data": {
      "text/html": [
       "<div>\n",
       "<style scoped>\n",
       "    .dataframe tbody tr th:only-of-type {\n",
       "        vertical-align: middle;\n",
       "    }\n",
       "\n",
       "    .dataframe tbody tr th {\n",
       "        vertical-align: top;\n",
       "    }\n",
       "\n",
       "    .dataframe thead th {\n",
       "        text-align: right;\n",
       "    }\n",
       "</style>\n",
       "<table border=\"1\" class=\"dataframe\">\n",
       "  <thead>\n",
       "    <tr style=\"text-align: right;\">\n",
       "      <th></th>\n",
       "      <th>event_name</th>\n",
       "      <th>users_count</th>\n",
       "      <th>proportion_of_all_users</th>\n",
       "      <th>share_of_users</th>\n",
       "    </tr>\n",
       "  </thead>\n",
       "  <tbody>\n",
       "    <tr>\n",
       "      <th>0</th>\n",
       "      <td>MainScreenAppear</td>\n",
       "      <td>6017</td>\n",
       "      <td>98.64</td>\n",
       "      <td>NaN</td>\n",
       "    </tr>\n",
       "    <tr>\n",
       "      <th>1</th>\n",
       "      <td>OffersScreenAppear</td>\n",
       "      <td>3739</td>\n",
       "      <td>61.30</td>\n",
       "      <td>-0.378594</td>\n",
       "    </tr>\n",
       "    <tr>\n",
       "      <th>2</th>\n",
       "      <td>CartScreenAppear</td>\n",
       "      <td>3014</td>\n",
       "      <td>49.41</td>\n",
       "      <td>-0.193902</td>\n",
       "    </tr>\n",
       "    <tr>\n",
       "      <th>3</th>\n",
       "      <td>PaymentScreenSuccessful</td>\n",
       "      <td>2852</td>\n",
       "      <td>46.75</td>\n",
       "      <td>-0.053749</td>\n",
       "    </tr>\n",
       "  </tbody>\n",
       "</table>\n",
       "</div>"
      ],
      "text/plain": [
       "                event_name  users_count  proportion_of_all_users  \\\n",
       "0         MainScreenAppear         6017                    98.64   \n",
       "1       OffersScreenAppear         3739                    61.30   \n",
       "2         CartScreenAppear         3014                    49.41   \n",
       "3  PaymentScreenSuccessful         2852                    46.75   \n",
       "\n",
       "   share_of_users  \n",
       "0             NaN  \n",
       "1       -0.378594  \n",
       "2       -0.193902  \n",
       "3       -0.053749  "
      ]
     },
     "execution_count": 49,
     "metadata": {},
     "output_type": "execute_result"
    }
   ],
   "source": [
    "# Use the event funnel to find the share of users that proceed from each stage to the next. \n",
    "\n",
    "sales_sequence = sales_sequence.sort_values(by='users_count', ascending=False).reset_index(drop=True) \n",
    "sales_sequence['share_of_users'] = sales_sequence['users_count'].pct_change()\n",
    "sales_sequence"
   ]
  },
  {
   "cell_type": "markdown",
   "metadata": {},
   "source": [
    "**We are losing the most users at the first stage: from MainScreenAppear to OffersScreenAppear**"
   ]
  },
  {
   "cell_type": "code",
   "execution_count": 50,
   "metadata": {},
   "outputs": [
    {
     "name": "stdout",
     "output_type": "stream",
     "text": [
      "The share of users that make the entire journey from first event to payment is: 47.40%\n"
     ]
    }
   ],
   "source": [
    "# What share of users make the entire journey from their first event to payment?\n",
    "\n",
    "entire_journey_users = sales_sequence.loc[3, 'users_count']/sales_sequence.loc[0, 'users_count']*100\n",
    "print('The share of users that make the entire journey from first event to payment is: {0:.2f}%'.format(entire_journey_users))"
   ]
  },
  {
   "cell_type": "markdown",
   "metadata": {},
   "source": [
    "### Step - Study the results of the experiment\n",
    "\n",
    "- How many users are there in each group?\n",
    "- We have two control groups in the A/A test, where we check our mechanisms and calculations. See if there is a statistically significant difference between samples 246 and 247.\n",
    "- Select the most popular event. In each of the control groups, find the number of users who performed this action. Find their share. Check whether the difference between the groups is statistically significant. Repeat the procedure for all other events (it will save time if you create a special function for this test). Can you confirm that the groups were split properly?\n",
    "- Do the same thing for the group with altered fonts. Compare the results with those of each of the control groups for each event in isolation. Compare the results with the combined results for the control groups. What conclusions can you draw from the experiment?\n",
    "- What significance level have you set to test the statistical hypotheses mentioned above? Calculate how many statistical hypothesis tests you carried out. With a statistical significance level of 0.1, one in 10 results could be false. What should the significance level be? If you want to change it, run through the previous steps again and check your conclusions."
   ]
  },
  {
   "cell_type": "code",
   "execution_count": 51,
   "metadata": {},
   "outputs": [
    {
     "data": {
      "text/html": [
       "<div>\n",
       "<style scoped>\n",
       "    .dataframe tbody tr th:only-of-type {\n",
       "        vertical-align: middle;\n",
       "    }\n",
       "\n",
       "    .dataframe tbody tr th {\n",
       "        vertical-align: top;\n",
       "    }\n",
       "\n",
       "    .dataframe thead th {\n",
       "        text-align: right;\n",
       "    }\n",
       "</style>\n",
       "<table border=\"1\" class=\"dataframe\">\n",
       "  <thead>\n",
       "    <tr style=\"text-align: right;\">\n",
       "      <th></th>\n",
       "      <th>exp_id</th>\n",
       "      <th>user_id</th>\n",
       "    </tr>\n",
       "  </thead>\n",
       "  <tbody>\n",
       "    <tr>\n",
       "      <th>0</th>\n",
       "      <td>246</td>\n",
       "      <td>2030</td>\n",
       "    </tr>\n",
       "    <tr>\n",
       "      <th>1</th>\n",
       "      <td>247</td>\n",
       "      <td>2036</td>\n",
       "    </tr>\n",
       "    <tr>\n",
       "      <th>2</th>\n",
       "      <td>248</td>\n",
       "      <td>2034</td>\n",
       "    </tr>\n",
       "  </tbody>\n",
       "</table>\n",
       "</div>"
      ],
      "text/plain": [
       "   exp_id  user_id\n",
       "0     246     2030\n",
       "1     247     2036\n",
       "2     248     2034"
      ]
     },
     "execution_count": 51,
     "metadata": {},
     "output_type": "execute_result"
    }
   ],
   "source": [
    "# How many users are there in each group?\n",
    "\n",
    "total_group_users = data.groupby('exp_id').agg({'user_id':pd.Series.nunique}).reset_index()\n",
    "total_group_users"
   ]
  },
  {
   "cell_type": "code",
   "execution_count": 52,
   "metadata": {},
   "outputs": [
    {
     "data": {
      "text/html": [
       "<div>\n",
       "<style scoped>\n",
       "    .dataframe tbody tr th:only-of-type {\n",
       "        vertical-align: middle;\n",
       "    }\n",
       "\n",
       "    .dataframe tbody tr th {\n",
       "        vertical-align: top;\n",
       "    }\n",
       "\n",
       "    .dataframe thead th {\n",
       "        text-align: right;\n",
       "    }\n",
       "</style>\n",
       "<table border=\"1\" class=\"dataframe\">\n",
       "  <thead>\n",
       "    <tr style=\"text-align: right;\">\n",
       "      <th>exp_id</th>\n",
       "      <th>event_name</th>\n",
       "      <th>246</th>\n",
       "      <th>247</th>\n",
       "      <th>248</th>\n",
       "    </tr>\n",
       "  </thead>\n",
       "  <tbody>\n",
       "    <tr>\n",
       "      <th>0</th>\n",
       "      <td>CartScreenAppear</td>\n",
       "      <td>1030</td>\n",
       "      <td>1001</td>\n",
       "      <td>983</td>\n",
       "    </tr>\n",
       "    <tr>\n",
       "      <th>1</th>\n",
       "      <td>MainScreenAppear</td>\n",
       "      <td>2003</td>\n",
       "      <td>2009</td>\n",
       "      <td>2005</td>\n",
       "    </tr>\n",
       "    <tr>\n",
       "      <th>2</th>\n",
       "      <td>OffersScreenAppear</td>\n",
       "      <td>1272</td>\n",
       "      <td>1236</td>\n",
       "      <td>1231</td>\n",
       "    </tr>\n",
       "    <tr>\n",
       "      <th>3</th>\n",
       "      <td>PaymentScreenSuccessful</td>\n",
       "      <td>977</td>\n",
       "      <td>933</td>\n",
       "      <td>942</td>\n",
       "    </tr>\n",
       "    <tr>\n",
       "      <th>4</th>\n",
       "      <td>Tutorial</td>\n",
       "      <td>274</td>\n",
       "      <td>281</td>\n",
       "      <td>274</td>\n",
       "    </tr>\n",
       "  </tbody>\n",
       "</table>\n",
       "</div>"
      ],
      "text/plain": [
       "exp_id               event_name   246   247   248\n",
       "0              CartScreenAppear  1030  1001   983\n",
       "1              MainScreenAppear  2003  2009  2005\n",
       "2            OffersScreenAppear  1272  1236  1231\n",
       "3       PaymentScreenSuccessful   977   933   942\n",
       "4                      Tutorial   274   281   274"
      ]
     },
     "execution_count": 52,
     "metadata": {},
     "output_type": "execute_result"
    }
   ],
   "source": [
    "merged_events = data.pivot_table(index='event_name', columns='exp_id', values='user_id', aggfunc='nunique').reset_index()\n",
    "merged_events"
   ]
  },
  {
   "cell_type": "code",
   "execution_count": 53,
   "metadata": {},
   "outputs": [],
   "source": [
    "# We have two control groups in the A/A test, where we check our mechanisms and calculations. \n",
    "# See if there is a statistically significant difference between samples 246 and 247.\n",
    "\n",
    "#H0: Groups 246 and 247 are statistically equal\n",
    "#H1: Groups 246 and 247 are statistically different\n",
    "\n",
    "def check_hypotheses(group1, group2, event, alpha):\n",
    "    success1 = merged_events[merged_events['event_name']==event][group1].iloc[0]\n",
    "    success2 = merged_events[merged_events['event_name']==event][group2].iloc[0]\n",
    "    \n",
    "    trials1 = data[data.exp_id == group1]['user_id'].nunique()\n",
    "    trials2 = data[data.exp_id == group2]['user_id'].nunique()\n",
    "    \n",
    "    p1 = success1/trials1\n",
    "    p2 = success2/trials2\n",
    "    \n",
    "    p_combined = (success1 + success2) / (trials1 + trials2)\n",
    "    difference = p1 - p2\n",
    "    \n",
    "    z_value = difference / mth.sqrt(p_combined * (1 - p_combined) * (1/trials1 + 1/trials2))\n",
    "    \n",
    "    distr = st.norm(0, 1)  \n",
    "    \n",
    "    p_value = (1 - distr.cdf(abs(z_value))) * 2\n",
    "    \n",
    "    print('p-value: ', p_value)\n",
    "    \n",
    "    if (p_value < alpha):\n",
    "        print(\"Rejecting the null hypothesis: group\", group1, \"and group\", group2, \"seem to be statistically different\")\n",
    "    else:\n",
    "        print(\"Failed to reject the null hypothesis: group\", group1, \"and group\", group2, \"seem to be statistically equal\") "
   ]
  },
  {
   "cell_type": "code",
   "execution_count": 54,
   "metadata": {},
   "outputs": [
    {
     "name": "stdout",
     "output_type": "stream",
     "text": [
      "p-value:  0.141247268050253\n",
      "Failed to reject the null hypothesis: group 246 and group 247 seem to be statistically equal\n"
     ]
    }
   ],
   "source": [
    "check_hypotheses(246, 247, 'PaymentScreenSuccessful', 0.05)"
   ]
  },
  {
   "cell_type": "code",
   "execution_count": 55,
   "metadata": {},
   "outputs": [
    {
     "name": "stdout",
     "output_type": "stream",
     "text": [
      "p-value:  0.7550423413727261\n",
      "Failed to reject the null hypothesis: group 247 and group 248 seem to be statistically equal\n"
     ]
    }
   ],
   "source": [
    "check_hypotheses(247, 248, 'PaymentScreenSuccessful', 0.05)"
   ]
  },
  {
   "cell_type": "code",
   "execution_count": 56,
   "metadata": {},
   "outputs": [
    {
     "name": "stdout",
     "output_type": "stream",
     "text": [
      "p-value:  0.24641618157916545\n",
      "Failed to reject the null hypothesis: group 246 and group 248 seem to be statistically equal\n"
     ]
    }
   ],
   "source": [
    "check_hypotheses(246, 248, 'PaymentScreenSuccessful', 0.05)"
   ]
  },
  {
   "cell_type": "code",
   "execution_count": 57,
   "metadata": {},
   "outputs": [
    {
     "data": {
      "text/html": [
       "<div>\n",
       "<style scoped>\n",
       "    .dataframe tbody tr th:only-of-type {\n",
       "        vertical-align: middle;\n",
       "    }\n",
       "\n",
       "    .dataframe tbody tr th {\n",
       "        vertical-align: top;\n",
       "    }\n",
       "\n",
       "    .dataframe thead th {\n",
       "        text-align: right;\n",
       "    }\n",
       "</style>\n",
       "<table border=\"1\" class=\"dataframe\">\n",
       "  <thead>\n",
       "    <tr style=\"text-align: right;\">\n",
       "      <th>exp_id</th>\n",
       "      <th>event_name</th>\n",
       "      <th>246</th>\n",
       "      <th>247</th>\n",
       "      <th>248</th>\n",
       "      <th>246_share</th>\n",
       "      <th>247_share</th>\n",
       "      <th>248_share</th>\n",
       "    </tr>\n",
       "  </thead>\n",
       "  <tbody>\n",
       "    <tr>\n",
       "      <th>1</th>\n",
       "      <td>MainScreenAppear</td>\n",
       "      <td>2003</td>\n",
       "      <td>2009</td>\n",
       "      <td>2005</td>\n",
       "      <td>0.99</td>\n",
       "      <td>0.99</td>\n",
       "      <td>0.99</td>\n",
       "    </tr>\n",
       "  </tbody>\n",
       "</table>\n",
       "</div>"
      ],
      "text/plain": [
       "exp_id        event_name   246   247   248  246_share  247_share  248_share\n",
       "1       MainScreenAppear  2003  2009  2005       0.99       0.99       0.99"
      ]
     },
     "execution_count": 57,
     "metadata": {},
     "output_type": "execute_result"
    }
   ],
   "source": [
    "#Select the most popular event. In each of the control groups, find the number of users who performed this action. \n",
    "#Find their share. \n",
    "\n",
    "pd.options.mode.chained_assignment = None\n",
    "\n",
    "most_popular_event = merged_events[merged_events['event_name']=='MainScreenAppear']\n",
    "\n",
    "most_popular_event['246_share'] = (most_popular_event.loc[1,246]/total_group_users.loc[0,'user_id']).round(2)\n",
    "most_popular_event['247_share'] = (most_popular_event.loc[1,247]/total_group_users.loc[1,'user_id']).round(2)\n",
    "most_popular_event['248_share'] = (most_popular_event.loc[1,248]/total_group_users.loc[2,'user_id']).round(2)\n",
    "most_popular_event"
   ]
  },
  {
   "cell_type": "code",
   "execution_count": 58,
   "metadata": {},
   "outputs": [
    {
     "name": "stdout",
     "output_type": "stream",
     "text": [
      "p-value:  0.9912900454353855\n",
      "Failed to reject the null hypothesis: group 246 and group 247 seem to be statistically equal\n"
     ]
    }
   ],
   "source": [
    "# Check whether the difference between the groups is statistically significant.  \n",
    "\n",
    "#H0: Groups 246 and 247 are statistically equal\n",
    "#H1: Groups 246 and 247 are statistically different\n",
    "\n",
    "check_hypotheses(246, 247, 'MainScreenAppear', 0.05)"
   ]
  },
  {
   "cell_type": "code",
   "execution_count": 59,
   "metadata": {},
   "outputs": [
    {
     "name": "stdout",
     "output_type": "stream",
     "text": [
      "p-value:  0.7935486985203337\n",
      "Failed to reject the null hypothesis: group 246 and group 248 seem to be statistically equal\n"
     ]
    }
   ],
   "source": [
    "#H0: Groups 246 and 248 are statistically equal\n",
    "#H1: Groups 246 and 248 are statistically different\n",
    "\n",
    "check_hypotheses(246, 248, 'MainScreenAppear', 0.05)"
   ]
  },
  {
   "cell_type": "code",
   "execution_count": 60,
   "metadata": {},
   "outputs": [
    {
     "name": "stdout",
     "output_type": "stream",
     "text": [
      "p-value:  0.7849900563801253\n",
      "Failed to reject the null hypothesis: group 247 and group 248 seem to be statistically equal\n"
     ]
    }
   ],
   "source": [
    "#H0: Groups 247 and 248 are statistically equal\n",
    "#H1: Groups 247 and 248 are statistically different\n",
    "\n",
    "check_hypotheses(247, 248, 'MainScreenAppear', 0.05)"
   ]
  },
  {
   "cell_type": "code",
   "execution_count": 61,
   "metadata": {},
   "outputs": [
    {
     "name": "stdout",
     "output_type": "stream",
     "text": [
      "p-value:  0.3155756208059124\n",
      "Failed to reject the null hypothesis: group 246 and group 247 seem to be statistically equal\n"
     ]
    }
   ],
   "source": [
    "# Repeat the procedure for all other events \n",
    "\n",
    "check_hypotheses(246, 247, 'CartScreenAppear', 0.05)"
   ]
  },
  {
   "cell_type": "code",
   "execution_count": 62,
   "metadata": {},
   "outputs": [
    {
     "name": "stdout",
     "output_type": "stream",
     "text": [
      "p-value:  0.12435504369196737\n",
      "Failed to reject the null hypothesis: group 246 and group 248 seem to be statistically equal\n"
     ]
    }
   ],
   "source": [
    "# Repeat the procedure for all other events \n",
    "\n",
    "check_hypotheses(246, 248, 'CartScreenAppear', 0.05)"
   ]
  },
  {
   "cell_type": "code",
   "execution_count": 63,
   "metadata": {},
   "outputs": [
    {
     "name": "stdout",
     "output_type": "stream",
     "text": [
      "p-value:  0.5934123911569555\n",
      "Failed to reject the null hypothesis: group 247 and group 248 seem to be statistically equal\n"
     ]
    }
   ],
   "source": [
    "# Repeat the procedure for all other events \n",
    "\n",
    "check_hypotheses(247, 248, 'CartScreenAppear', 0.05)"
   ]
  },
  {
   "cell_type": "code",
   "execution_count": 64,
   "metadata": {},
   "outputs": [
    {
     "name": "stdout",
     "output_type": "stream",
     "text": [
      "p-value:  0.2003094340863525\n",
      "Failed to reject the null hypothesis: group 246 and group 247 seem to be statistically equal\n"
     ]
    }
   ],
   "source": [
    "# Repeat the procedure for all other events \n",
    "\n",
    "check_hypotheses(246, 247, 'OffersScreenAppear', 0.05)"
   ]
  },
  {
   "cell_type": "code",
   "execution_count": 65,
   "metadata": {},
   "outputs": [
    {
     "name": "stdout",
     "output_type": "stream",
     "text": [
      "p-value:  0.9032846142556277\n",
      "Failed to reject the null hypothesis: group 247 and group 248 seem to be statistically equal\n"
     ]
    }
   ],
   "source": [
    "# Repeat the procedure for all other events \n",
    "\n",
    "check_hypotheses(247, 248, 'OffersScreenAppear', 0.05)"
   ]
  },
  {
   "cell_type": "code",
   "execution_count": 66,
   "metadata": {},
   "outputs": [
    {
     "name": "stdout",
     "output_type": "stream",
     "text": [
      "p-value:  0.16098977810039639\n",
      "Failed to reject the null hypothesis: group 246 and group 248 seem to be statistically equal\n"
     ]
    }
   ],
   "source": [
    "# Repeat the procedure for all other events \n",
    "\n",
    "check_hypotheses(246, 248, 'OffersScreenAppear', 0.05)"
   ]
  },
  {
   "cell_type": "code",
   "execution_count": 67,
   "metadata": {},
   "outputs": [],
   "source": [
    "# Creating function to compare combined control groups (246+247) with the test group (248)\n",
    "\n",
    "def check_hypotheses_combined(group1, group2, group3, event, alpha):\n",
    "    success1 = merged_events[merged_events['event_name']==event][group1].iloc[0]+merged_events[merged_events['event_name']==event][group2].iloc[0]\n",
    "    success2 = merged_events[merged_events['event_name']==event][group3].iloc[0]\n",
    "    \n",
    "    trials1 = data[data.exp_id == group1]['user_id'].nunique()+data[data.exp_id == group2]['user_id'].nunique()\n",
    "    trials2 = data[data.exp_id == group3]['user_id'].nunique()\n",
    "    \n",
    "    p1 = success1/trials1\n",
    "    p2 = success2/trials2\n",
    "    \n",
    "    p_combined = (success1 + success2) / (trials1 + trials2)\n",
    "    difference = p1 - p2\n",
    "    \n",
    "    z_value = difference / mth.sqrt(p_combined * (1 - p_combined) * (1/trials1 + 1/trials2))\n",
    "    \n",
    "    distr = st.norm(0, 1)  \n",
    "    \n",
    "    p_value = (1 - distr.cdf(abs(z_value))) * 2\n",
    "    \n",
    "    print('p-value: ', p_value)\n",
    "    \n",
    "    if (p_value < alpha):\n",
    "        print(\"Rejecting the null hypothesis: group\", group1, \"+\", group2, \"and group\", group3, \"seem to be statistically different\")\n",
    "    else:\n",
    "        print(\"Failed to reject the null hypothesis: group\", group1, \"+\", group2, \"and group\", group3, \"seem to be statistically equal\") "
   ]
  },
  {
   "cell_type": "code",
   "execution_count": 68,
   "metadata": {},
   "outputs": [
    {
     "name": "stdout",
     "output_type": "stream",
     "text": [
      "p-value:  0.2321481954941762\n",
      "Failed to reject the null hypothesis: group 246 + 247 and group 248 seem to be statistically equal\n"
     ]
    }
   ],
   "source": [
    "# Compare the results with the combined results for the control groups.\n",
    "\n",
    "check_hypotheses_combined(246, 247, 248, 'CartScreenAppear',0.05)"
   ]
  },
  {
   "cell_type": "code",
   "execution_count": 69,
   "metadata": {},
   "outputs": [
    {
     "name": "stdout",
     "output_type": "stream",
     "text": [
      "p-value:  0.7562248156641758\n",
      "Failed to reject the null hypothesis: group 246 + 247 and group 248 seem to be statistically equal\n"
     ]
    }
   ],
   "source": [
    "# Compare the results with the combined results for the control groups.\n",
    "\n",
    "check_hypotheses_combined(246, 247, 248, 'MainScreenAppear',0.05)"
   ]
  },
  {
   "cell_type": "code",
   "execution_count": 70,
   "metadata": {},
   "outputs": [
    {
     "name": "stdout",
     "output_type": "stream",
     "text": [
      "p-value:  0.38008156470322274\n",
      "Failed to reject the null hypothesis: group 246 + 247 and group 248 seem to be statistically equal\n"
     ]
    }
   ],
   "source": [
    "# Compare the results with the combined results for the control groups.\n",
    "\n",
    "check_hypotheses_combined(246, 247, 248, 'OffersScreenAppear',0.05)"
   ]
  },
  {
   "cell_type": "code",
   "execution_count": 71,
   "metadata": {},
   "outputs": [
    {
     "name": "stdout",
     "output_type": "stream",
     "text": [
      "p-value:  0.6250481056471162\n",
      "Failed to reject the null hypothesis: group 246 + 247 and group 248 seem to be statistically equal\n"
     ]
    }
   ],
   "source": [
    "# Compare the results with the combined results for the control groups.\n",
    "\n",
    "check_hypotheses_combined(246, 247, 248, 'PaymentScreenSuccessful',0.05)"
   ]
  },
  {
   "cell_type": "markdown",
   "metadata": {},
   "source": [
    "- **Judging by the results of the experiment, there is no reason to consider the proportions of groups A/A and both A/B's to be different.**\n",
    "- **The A/A test was performed correctly, however, we should take precaution when trusting the experiment, due to the initial problem found in the proportion of the data by the dates of the experiment.**\n",
    "- **There seems to be no statistical difference in the proportions between the groups.**"
   ]
  },
  {
   "cell_type": "code",
   "execution_count": 72,
   "metadata": {},
   "outputs": [
    {
     "name": "stdout",
     "output_type": "stream",
     "text": [
      "The family-wise error rate (FWER) is: 0.5598733313482347\n",
      "The alpha level with Bonferroni correction is:  0.003125\n"
     ]
    }
   ],
   "source": [
    "# What significance level have you set to test the statistical hypotheses mentioned above? (0.05)\n",
    "# Calculate how many statistical hypothesis tests you carried out. (16)\n",
    "# With a statistical significance level of 0.1, one in 10 results could be false. \n",
    "# What should the significance level be?  \n",
    "\n",
    "\n",
    "alpha = 0.05\n",
    "num_of_tests = 16\n",
    "\n",
    "fwer = 1 - (1 - alpha)** (num_of_tests)\n",
    "bonferroni_alpha = alpha/num_of_tests\n",
    "\n",
    "print('The family-wise error rate (FWER) is:', fwer)\n",
    "print('The alpha level with Bonferroni correction is: ',bonferroni_alpha)"
   ]
  },
  {
   "cell_type": "code",
   "execution_count": 73,
   "metadata": {},
   "outputs": [
    {
     "name": "stdout",
     "output_type": "stream",
     "text": [
      "p-value:  0.9912900454353855\n",
      "Failed to reject the null hypothesis: group 246 and group 247 seem to be statistically equal\n"
     ]
    }
   ],
   "source": [
    "# Run through the previous steps again and check conclusions.\n",
    "\n",
    "check_hypotheses(246, 247, 'MainScreenAppear', bonferroni_alpha)"
   ]
  },
  {
   "cell_type": "code",
   "execution_count": 74,
   "metadata": {},
   "outputs": [
    {
     "name": "stdout",
     "output_type": "stream",
     "text": [
      "p-value:  0.7849900563801253\n",
      "Failed to reject the null hypothesis: group 247 and group 248 seem to be statistically equal\n"
     ]
    }
   ],
   "source": [
    "check_hypotheses(247, 248, 'MainScreenAppear', bonferroni_alpha)"
   ]
  },
  {
   "cell_type": "code",
   "execution_count": 75,
   "metadata": {},
   "outputs": [
    {
     "name": "stdout",
     "output_type": "stream",
     "text": [
      "p-value:  0.7935486985203337\n",
      "Failed to reject the null hypothesis: group 246 and group 248 seem to be statistically equal\n"
     ]
    }
   ],
   "source": [
    "check_hypotheses(246, 248, 'MainScreenAppear', bonferroni_alpha)"
   ]
  },
  {
   "cell_type": "code",
   "execution_count": 76,
   "metadata": {},
   "outputs": [
    {
     "name": "stdout",
     "output_type": "stream",
     "text": [
      "p-value:  0.2003094340863525\n",
      "Failed to reject the null hypothesis: group 246 and group 247 seem to be statistically equal\n"
     ]
    }
   ],
   "source": [
    "check_hypotheses(246, 247, 'OffersScreenAppear', bonferroni_alpha)"
   ]
  },
  {
   "cell_type": "code",
   "execution_count": 77,
   "metadata": {},
   "outputs": [
    {
     "name": "stdout",
     "output_type": "stream",
     "text": [
      "p-value:  0.9032846142556277\n",
      "Failed to reject the null hypothesis: group 247 and group 248 seem to be statistically equal\n"
     ]
    }
   ],
   "source": [
    "check_hypotheses(247, 248, 'OffersScreenAppear', bonferroni_alpha)"
   ]
  },
  {
   "cell_type": "code",
   "execution_count": 78,
   "metadata": {},
   "outputs": [
    {
     "name": "stdout",
     "output_type": "stream",
     "text": [
      "p-value:  0.16098977810039639\n",
      "Failed to reject the null hypothesis: group 246 and group 248 seem to be statistically equal\n"
     ]
    }
   ],
   "source": [
    "check_hypotheses(246, 248, 'OffersScreenAppear', bonferroni_alpha)"
   ]
  },
  {
   "cell_type": "code",
   "execution_count": 79,
   "metadata": {},
   "outputs": [
    {
     "name": "stdout",
     "output_type": "stream",
     "text": [
      "p-value:  0.3155756208059124\n",
      "Failed to reject the null hypothesis: group 246 and group 247 seem to be statistically equal\n"
     ]
    }
   ],
   "source": [
    "check_hypotheses(246, 247, 'CartScreenAppear', bonferroni_alpha)"
   ]
  },
  {
   "cell_type": "code",
   "execution_count": 80,
   "metadata": {},
   "outputs": [
    {
     "name": "stdout",
     "output_type": "stream",
     "text": [
      "p-value:  0.5934123911569555\n",
      "Failed to reject the null hypothesis: group 247 and group 248 seem to be statistically equal\n"
     ]
    }
   ],
   "source": [
    "check_hypotheses(247, 248, 'CartScreenAppear', bonferroni_alpha)"
   ]
  },
  {
   "cell_type": "code",
   "execution_count": 81,
   "metadata": {},
   "outputs": [
    {
     "name": "stdout",
     "output_type": "stream",
     "text": [
      "p-value:  0.12435504369196737\n",
      "Failed to reject the null hypothesis: group 246 and group 248 seem to be statistically equal\n"
     ]
    }
   ],
   "source": [
    "check_hypotheses(246, 248, 'CartScreenAppear', bonferroni_alpha)"
   ]
  },
  {
   "cell_type": "code",
   "execution_count": 82,
   "metadata": {},
   "outputs": [
    {
     "name": "stdout",
     "output_type": "stream",
     "text": [
      "p-value:  0.141247268050253\n",
      "Failed to reject the null hypothesis: group 246 and group 247 seem to be statistically equal\n"
     ]
    }
   ],
   "source": [
    "check_hypotheses(246, 247, 'PaymentScreenSuccessful', bonferroni_alpha)"
   ]
  },
  {
   "cell_type": "code",
   "execution_count": 83,
   "metadata": {},
   "outputs": [
    {
     "name": "stdout",
     "output_type": "stream",
     "text": [
      "p-value:  0.7550423413727261\n",
      "Failed to reject the null hypothesis: group 247 and group 248 seem to be statistically equal\n"
     ]
    }
   ],
   "source": [
    "check_hypotheses(247, 248, 'PaymentScreenSuccessful', bonferroni_alpha)"
   ]
  },
  {
   "cell_type": "code",
   "execution_count": 84,
   "metadata": {},
   "outputs": [
    {
     "name": "stdout",
     "output_type": "stream",
     "text": [
      "p-value:  0.24641618157916545\n",
      "Failed to reject the null hypothesis: group 246 and group 248 seem to be statistically equal\n"
     ]
    }
   ],
   "source": [
    "check_hypotheses(246, 248, 'PaymentScreenSuccessful', bonferroni_alpha)"
   ]
  },
  {
   "cell_type": "code",
   "execution_count": 85,
   "metadata": {},
   "outputs": [
    {
     "name": "stdout",
     "output_type": "stream",
     "text": [
      "p-value:  0.7562248156641758\n",
      "Failed to reject the null hypothesis: group 246 + 247 and group 248 seem to be statistically equal\n"
     ]
    }
   ],
   "source": [
    "check_hypotheses_combined(246, 247, 248, 'MainScreenAppear', bonferroni_alpha)"
   ]
  },
  {
   "cell_type": "code",
   "execution_count": 86,
   "metadata": {},
   "outputs": [
    {
     "name": "stdout",
     "output_type": "stream",
     "text": [
      "p-value:  0.38008156470322274\n",
      "Failed to reject the null hypothesis: group 246 + 247 and group 248 seem to be statistically equal\n"
     ]
    }
   ],
   "source": [
    "check_hypotheses_combined(246, 247, 248, 'OffersScreenAppear', bonferroni_alpha)"
   ]
  },
  {
   "cell_type": "code",
   "execution_count": 87,
   "metadata": {},
   "outputs": [
    {
     "name": "stdout",
     "output_type": "stream",
     "text": [
      "p-value:  0.2321481954941762\n",
      "Failed to reject the null hypothesis: group 246 + 247 and group 248 seem to be statistically equal\n"
     ]
    }
   ],
   "source": [
    "check_hypotheses_combined(246, 247, 248, 'CartScreenAppear', bonferroni_alpha)"
   ]
  },
  {
   "cell_type": "code",
   "execution_count": 88,
   "metadata": {},
   "outputs": [
    {
     "name": "stdout",
     "output_type": "stream",
     "text": [
      "p-value:  0.6250481056471162\n",
      "Failed to reject the null hypothesis: group 246 + 247 and group 248 seem to be statistically equal\n"
     ]
    }
   ],
   "source": [
    "check_hypotheses_combined(246, 247, 248, 'PaymentScreenSuccessful', bonferroni_alpha)"
   ]
  },
  {
   "cell_type": "markdown",
   "metadata": {},
   "source": [
    "# Conclusions\n",
    "\n",
    "**Exploratory Analysis**\n",
    "- The data was complete, there were no missing values found. However, the distribution of data by date did not show normality on dates previous to 2019-08-01, therefore, this data was dropped\n",
    "- .16% of data was duplicated and we dropped these rows\n",
    "- The average number of events per user is around 30, while anything above around 100 can be considered an outlier\n",
    "\n",
    "\n",
    "**Sales Funnel**\n",
    "\n",
    "The following order of events is the most common one:\n",
    "\n",
    "- MainScreenAppear\n",
    "- OffersScreenAppear\n",
    "- CartScreenAppear\n",
    "- PaymentScreenSuccessful\n",
    "\n",
    "**Experiment Conclusions**\n",
    "- Judging by the results of the experiment, it seems the groups were split properly. There seems to be no statistical difference in the proportions between the groups.\n",
    "\n",
    "- There is no reason to consider the proportions of groups A/A and both A/B's to be different.\n",
    "\n",
    "- The A/A test was performed correctly, however, we should take precaution when trusting the experiment, due to the initial problem found in the the way the data was distributed by the dates of the experiment.\n",
    "\n",
    "- Since the users that completed step 3 (PaymentScreenSuccessful) in group 248 were not significanty higher than the users that completed step 3 in the control groups (246 and 247), **we can conclude that the change in fonts did not have a significantly positive effect in conversion.**"
   ]
  }
 ],
 "metadata": {
  "kernelspec": {
   "display_name": "Python 3 (ipykernel)",
   "language": "python",
   "name": "python3"
  },
  "language_info": {
   "codemirror_mode": {
    "name": "ipython",
    "version": 3
   },
   "file_extension": ".py",
   "mimetype": "text/x-python",
   "name": "python",
   "nbconvert_exporter": "python",
   "pygments_lexer": "ipython3",
   "version": "3.9.5"
  },
  "toc": {
   "base_numbering": 1,
   "nav_menu": {},
   "number_sections": true,
   "sideBar": true,
   "skip_h1_title": true,
   "title_cell": "Table of Contents",
   "title_sidebar": "Contents",
   "toc_cell": false,
   "toc_position": {},
   "toc_section_display": true,
   "toc_window_display": false
  }
 },
 "nbformat": 4,
 "nbformat_minor": 2
}
